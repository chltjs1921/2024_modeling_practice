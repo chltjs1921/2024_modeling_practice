{
  "nbformat": 4,
  "nbformat_minor": 0,
  "metadata": {
    "colab": {
      "provenance": [],
      "mount_file_id": "1GfnhMQ2lRwMiqfGhBwkBpvp9-W_pN6y7",
      "authorship_tag": "ABX9TyPR3Ifvk6xHapWSXG2ubW/2",
      "include_colab_link": true
    },
    "kernelspec": {
      "name": "python3",
      "display_name": "Python 3"
    },
    "language_info": {
      "name": "python"
    }
  },
  "cells": [
    {
      "cell_type": "markdown",
      "metadata": {
        "id": "view-in-github",
        "colab_type": "text"
      },
      "source": [
        "<a href=\"https://colab.research.google.com/github/chltjs1921/2024_modeling_practice/blob/main/240731_Ch4.ipynb\" target=\"_parent\"><img src=\"https://colab.research.google.com/assets/colab-badge.svg\" alt=\"Open In Colab\"/></a>"
      ]
    },
    {
      "cell_type": "code",
      "execution_count": null,
      "metadata": {
        "colab": {
          "base_uri": "https://localhost:8080/"
        },
        "id": "8n8wfwWlks62",
        "outputId": "4a3c9a4b-431a-4b51-9686-8a8a2a62fea9"
      },
      "outputs": [
        {
          "output_type": "stream",
          "name": "stdout",
          "text": [
            "Collecting biopython\n",
            "  Downloading biopython-1.84-cp310-cp310-manylinux_2_17_x86_64.manylinux2014_x86_64.whl.metadata (12 kB)\n",
            "Requirement already satisfied: numpy in /usr/local/lib/python3.10/dist-packages (from biopython) (1.26.4)\n",
            "Downloading biopython-1.84-cp310-cp310-manylinux_2_17_x86_64.manylinux2014_x86_64.whl (3.2 MB)\n",
            "\u001b[?25l   \u001b[90m━━━━━━━━━━━━━━━━━━━━━━━━━━━━━━━━━━━━━━━━\u001b[0m \u001b[32m0.0/3.2 MB\u001b[0m \u001b[31m?\u001b[0m eta \u001b[36m-:--:--\u001b[0m\r\u001b[2K   \u001b[91m━━━━━━\u001b[0m\u001b[90m╺\u001b[0m\u001b[90m━━━━━━━━━━━━━━━━━━━━━━━━━━━━━━━━━\u001b[0m \u001b[32m0.5/3.2 MB\u001b[0m \u001b[31m15.2 MB/s\u001b[0m eta \u001b[36m0:00:01\u001b[0m\r\u001b[2K   \u001b[91m━━━━━━━━━━━━━━━━━━━━━━━━━━━━━━━━━━━━━━━\u001b[0m\u001b[91m╸\u001b[0m \u001b[32m3.2/3.2 MB\u001b[0m \u001b[31m43.9 MB/s\u001b[0m eta \u001b[36m0:00:01\u001b[0m\r\u001b[2K   \u001b[90m━━━━━━━━━━━━━━━━━━━━━━━━━━━━━━━━━━━━━━━━\u001b[0m \u001b[32m3.2/3.2 MB\u001b[0m \u001b[31m29.7 MB/s\u001b[0m eta \u001b[36m0:00:00\u001b[0m\n",
            "\u001b[?25hInstalling collected packages: biopython\n",
            "Successfully installed biopython-1.84\n"
          ]
        }
      ],
      "source": [
        "!pip install biopython"
      ]
    },
    {
      "cell_type": "code",
      "source": [
        "from Bio.Seq import Seq\n",
        "simple_seq = Seq(\"ATCG\")\n",
        "print(simple_seq )"
      ],
      "metadata": {
        "colab": {
          "base_uri": "https://localhost:8080/"
        },
        "id": "AW963mPflroM",
        "outputId": "0965e20d-75ee-4c34-bd80-67d34e2961e6"
      },
      "execution_count": null,
      "outputs": [
        {
          "output_type": "stream",
          "name": "stdout",
          "text": [
            "ATCG\n"
          ]
        }
      ]
    },
    {
      "cell_type": "code",
      "source": [
        "from Bio.SeqRecord import SeqRecord\n",
        "simple_seq_r = SeqRecord(simple_seq)\n",
        "print(simple_seq_r)"
      ],
      "metadata": {
        "colab": {
          "base_uri": "https://localhost:8080/"
        },
        "id": "8phn5jSbl0py",
        "outputId": "99b60c64-258f-42e7-aa88-d152fda7894f"
      },
      "execution_count": null,
      "outputs": [
        {
          "output_type": "stream",
          "name": "stdout",
          "text": [
            "ID: <unknown id>\n",
            "Name: <unknown name>\n",
            "Description: <unknown description>\n",
            "Number of features: 0\n",
            "Seq('ATCG')\n"
          ]
        }
      ]
    },
    {
      "cell_type": "code",
      "source": [
        "simple_seq_r.id = \"AC12345\"\n",
        "simple_seq_r.description = \"Made up sequence I wish I could write a paper about\"\n",
        "print(simple_seq_r.id)\n",
        "print(simple_seq_r.description)\n",
        "print(simple_seq_r)"
      ],
      "metadata": {
        "colab": {
          "base_uri": "https://localhost:8080/"
        },
        "id": "B_qFvpr0l8b5",
        "outputId": "00439c89-ad19-444d-eb0d-c99dee498c09"
      },
      "execution_count": null,
      "outputs": [
        {
          "output_type": "stream",
          "name": "stdout",
          "text": [
            "AC12345\n",
            "Made up sequence I wish I could write a paper about\n",
            "ID: AC12345\n",
            "Name: <unknown name>\n",
            "Description: Made up sequence I wish I could write a paper about\n",
            "Number of features: 0\n",
            "Seq('ATCG')\n"
          ]
        }
      ]
    },
    {
      "cell_type": "code",
      "source": [
        "simple_seq2 = Seq(\"ATCGGCGG\")\n",
        "simple_seq_r2 = SeqRecord(simple_seq2, id=\"AC23456\")\n",
        "print(simple_seq_r2)"
      ],
      "metadata": {
        "colab": {
          "base_uri": "https://localhost:8080/"
        },
        "id": "1j7FTbYhm2P-",
        "outputId": "29be6c7f-1a19-4884-d362-b8e1292fe2fe"
      },
      "execution_count": null,
      "outputs": [
        {
          "output_type": "stream",
          "name": "stdout",
          "text": [
            "ID: AC23456\n",
            "Name: <unknown name>\n",
            "Description: <unknown description>\n",
            "Number of features: 0\n",
            "Seq('ATCGGCGG')\n"
          ]
        }
      ]
    },
    {
      "cell_type": "markdown",
      "source": [
        "The SeqRecord has an dictionary attribute annotations."
      ],
      "metadata": {
        "id": "JxYTWWwFqU-s"
      }
    },
    {
      "cell_type": "code",
      "source": [
        "simple_seq_r2.annotations[\"evidence\"] = \"None. I just made it up.\"\n",
        "print(simple_seq_r2.annotations)\n",
        "print(simple_seq_r2)"
      ],
      "metadata": {
        "colab": {
          "base_uri": "https://localhost:8080/"
        },
        "id": "eUY8NdZQqYsv",
        "outputId": "040be503-5497-44b1-b306-5dd392034274"
      },
      "execution_count": null,
      "outputs": [
        {
          "output_type": "stream",
          "name": "stdout",
          "text": [
            "{'evidence': 'None. I just made it up.'}\n",
            "ID: AC23456\n",
            "Name: <unknown name>\n",
            "Description: <unknown description>\n",
            "Number of features: 0\n",
            "/evidence=None. I just made it up.\n",
            "Seq('ATCGGCGG')\n"
          ]
        }
      ]
    },
    {
      "cell_type": "code",
      "source": [
        "simple_seq_r2.letter_annotations[\"phred_quality\"] = [40,40,38,30,30,30,30,30]\n",
        "print(simple_seq_r2.letter_annotations)\n",
        "print(simple_seq_r2)"
      ],
      "metadata": {
        "colab": {
          "base_uri": "https://localhost:8080/"
        },
        "id": "Iqm6q4COq-8X",
        "outputId": "f6994247-800e-44a9-f810-e07167b7330d"
      },
      "execution_count": null,
      "outputs": [
        {
          "output_type": "stream",
          "name": "stdout",
          "text": [
            "{'phred_quality': [40, 40, 38, 30, 30, 30, 30, 30]}\n",
            "ID: AC23456\n",
            "Name: <unknown name>\n",
            "Description: <unknown description>\n",
            "Number of features: 0\n",
            "/evidence=None. I just made it up.\n",
            "Per letter annotation for: phred_quality\n",
            "Seq('ATCGGCGG')\n"
          ]
        }
      ]
    },
    {
      "cell_type": "code",
      "source": [
        "from Bio import SeqIO\n",
        "record = SeqIO.read(\"/content/drive/MyDrive/Biopython/NC_005816.fna.txt\", \"fasta\")\n",
        "print(record)"
      ],
      "metadata": {
        "colab": {
          "base_uri": "https://localhost:8080/"
        },
        "id": "tVhZOF_KwHYG",
        "outputId": "fbf41341-855b-4dca-82a5-56285c4acb47"
      },
      "execution_count": null,
      "outputs": [
        {
          "output_type": "stream",
          "name": "stdout",
          "text": [
            "ID: gi|45478711|ref|NC_005816.1|\n",
            "Name: gi|45478711|ref|NC_005816.1|\n",
            "Description: gi|45478711|ref|NC_005816.1| Yersinia pestis biovar Microtus str. 91001 plasmid pPCP1, complete sequence\n",
            "Number of features: 0\n",
            "Seq('TGTAACGAACGGTGCAATAGTGATCCACACCCAACGCCTGAAATCAGATCCAGG...CTG')\n"
          ]
        }
      ]
    },
    {
      "cell_type": "code",
      "source": [
        "record.id"
      ],
      "metadata": {
        "colab": {
          "base_uri": "https://localhost:8080/",
          "height": 36
        },
        "id": "9F6KKMy-1qII",
        "outputId": "93c2ccd8-3844-4df5-a3b3-36c66e26acb7"
      },
      "execution_count": null,
      "outputs": [
        {
          "output_type": "execute_result",
          "data": {
            "text/plain": [
              "'gi|45478711|ref|NC_005816.1|'"
            ],
            "application/vnd.google.colaboratory.intrinsic+json": {
              "type": "string"
            }
          },
          "metadata": {},
          "execution_count": 13
        }
      ]
    },
    {
      "cell_type": "code",
      "source": [
        "record = SeqIO.read(\"/content/drive/MyDrive/Biopython/NC_005816.gb\", \"genbank\")\n",
        "print(record)"
      ],
      "metadata": {
        "colab": {
          "base_uri": "https://localhost:8080/"
        },
        "id": "cfS5qnwA2a5k",
        "outputId": "8b694f69-801b-44a2-bdb9-1170b8b32a87"
      },
      "execution_count": 14,
      "outputs": [
        {
          "output_type": "stream",
          "name": "stdout",
          "text": [
            "ID: NC_005816.1\n",
            "Name: NC_005816\n",
            "Description: Yersinia pestis biovar Microtus str. 91001 plasmid pPCP1, complete sequence\n",
            "Database cross-references: Project:58037\n",
            "Number of features: 41\n",
            "/molecule_type=DNA\n",
            "/topology=circular\n",
            "/data_file_division=BCT\n",
            "/date=21-JUL-2008\n",
            "/accessions=['NC_005816']\n",
            "/sequence_version=1\n",
            "/gi=45478711\n",
            "/keywords=['']\n",
            "/source=Yersinia pestis biovar Microtus str. 91001\n",
            "/organism=Yersinia pestis biovar Microtus str. 91001\n",
            "/taxonomy=['Bacteria', 'Proteobacteria', 'Gammaproteobacteria', 'Enterobacteriales', 'Enterobacteriaceae', 'Yersinia']\n",
            "/references=[Reference(title='Genetics of metabolic variations between Yersinia pestis biovars and the proposal of a new biovar, microtus', ...), Reference(title='Complete genome sequence of Yersinia pestis strain 91001, an isolate avirulent to humans', ...), Reference(title='Direct Submission', ...), Reference(title='Direct Submission', ...)]\n",
            "/comment=PROVISIONAL REFSEQ: This record has not yet been subject to final\n",
            "NCBI review. The reference sequence was derived from AE017046.\n",
            "COMPLETENESS: full length.\n",
            "Seq('TGTAACGAACGGTGCAATAGTGATCCACACCCAACGCCTGAAATCAGATCCAGG...CTG')\n"
          ]
        }
      ]
    },
    {
      "cell_type": "code",
      "source": [
        "record.annotations['molecule_type']"
      ],
      "metadata": {
        "colab": {
          "base_uri": "https://localhost:8080/",
          "height": 36
        },
        "id": "PoixiqkJ2r5b",
        "outputId": "db00326e-2dbb-4509-a150-1b0d4b3e7132"
      },
      "execution_count": 16,
      "outputs": [
        {
          "output_type": "execute_result",
          "data": {
            "text/plain": [
              "'DNA'"
            ],
            "application/vnd.google.colaboratory.intrinsic+json": {
              "type": "string"
            }
          },
          "metadata": {},
          "execution_count": 16
        }
      ]
    },
    {
      "cell_type": "code",
      "source": [
        "record.description"
      ],
      "metadata": {
        "colab": {
          "base_uri": "https://localhost:8080/",
          "height": 36
        },
        "id": "sU2caAG722Mq",
        "outputId": "7e87cda9-1d5a-4d5f-b161-0bf8a6417b42"
      },
      "execution_count": 17,
      "outputs": [
        {
          "output_type": "execute_result",
          "data": {
            "text/plain": [
              "'Yersinia pestis biovar Microtus str. 91001 plasmid pPCP1, complete sequence'"
            ],
            "application/vnd.google.colaboratory.intrinsic+json": {
              "type": "string"
            }
          },
          "metadata": {},
          "execution_count": 17
        }
      ]
    },
    {
      "cell_type": "code",
      "source": [
        "record.dbxrefs"
      ],
      "metadata": {
        "colab": {
          "base_uri": "https://localhost:8080/"
        },
        "id": "PRNyesgt2-5c",
        "outputId": "2d5926c6-d49f-439f-fbcb-c26e09894351"
      },
      "execution_count": 18,
      "outputs": [
        {
          "output_type": "execute_result",
          "data": {
            "text/plain": [
              "['Project:58037']"
            ]
          },
          "metadata": {},
          "execution_count": 18
        }
      ]
    },
    {
      "cell_type": "code",
      "source": [
        "len(record.features)"
      ],
      "metadata": {
        "colab": {
          "base_uri": "https://localhost:8080/"
        },
        "id": "vNB_ckL83FvT",
        "outputId": "87f8e7a1-8361-4e9d-da75-1d25b39576cd"
      },
      "execution_count": 19,
      "outputs": [
        {
          "output_type": "execute_result",
          "data": {
            "text/plain": [
              "41"
            ]
          },
          "metadata": {},
          "execution_count": 19
        }
      ]
    },
    {
      "cell_type": "code",
      "source": [
        "from Bio import SeqFeature\n",
        "record.features[0]"
      ],
      "metadata": {
        "colab": {
          "base_uri": "https://localhost:8080/"
        },
        "id": "JNPWpXfp3wtv",
        "outputId": "3f7cfd0d-26fb-404d-9c43-31042131653c"
      },
      "execution_count": 20,
      "outputs": [
        {
          "output_type": "execute_result",
          "data": {
            "text/plain": [
              "SeqFeature(SimpleLocation(ExactPosition(0), ExactPosition(9609), strand=1), type='source', qualifiers=...)"
            ]
          },
          "metadata": {},
          "execution_count": 20
        }
      ]
    },
    {
      "cell_type": "code",
      "source": [
        "start_pos = SeqFeature.AfterPosition(100)\n",
        "end_pos = SeqFeature.BeforePosition(200)\n",
        "my_location = SeqFeature.FeatureLocation(start_pos, end_pos)\n",
        "print(my_location)"
      ],
      "metadata": {
        "colab": {
          "base_uri": "https://localhost:8080/"
        },
        "id": "VO_16SzP4KYh",
        "outputId": "3c526caf-6c72-4ddd-8142-db929510bbf3"
      },
      "execution_count": 21,
      "outputs": [
        {
          "output_type": "stream",
          "name": "stdout",
          "text": [
            "[>100:<200]\n"
          ]
        }
      ]
    },
    {
      "cell_type": "code",
      "source": [
        "my_location.start"
      ],
      "metadata": {
        "colab": {
          "base_uri": "https://localhost:8080/"
        },
        "id": "RPdODnW_4XAg",
        "outputId": "06831ca7-a0ce-4dd1-f291-fb3065fb4202"
      },
      "execution_count": 23,
      "outputs": [
        {
          "output_type": "execute_result",
          "data": {
            "text/plain": [
              "AfterPosition(100)"
            ]
          },
          "metadata": {},
          "execution_count": 23
        }
      ]
    },
    {
      "cell_type": "code",
      "source": [],
      "metadata": {
        "id": "6T16POt55uJ-"
      },
      "execution_count": null,
      "outputs": []
    },
    {
      "cell_type": "code",
      "source": [
        "int(my_location.start)"
      ],
      "metadata": {
        "colab": {
          "base_uri": "https://localhost:8080/"
        },
        "id": "S9ux9his4kdo",
        "outputId": "c6796d3d-08fb-4818-b582-2a18d204a2db"
      },
      "execution_count": 24,
      "outputs": [
        {
          "output_type": "execute_result",
          "data": {
            "text/plain": [
              "100"
            ]
          },
          "metadata": {},
          "execution_count": 24
        }
      ]
    },
    {
      "cell_type": "markdown",
      "source": [
        "**Fuzzy Positions**  \n",
        "\n",
        "ExactPosition – As its name suggests, this class represents a position which is specified as exact along\n",
        "the sequence. This is represented as just a number, and you can get the position by looking at the\n",
        "position attribute of the object.  \n",
        "\n",
        "BeforePosition – This class represents a fuzzy position that occurs prior to some specified site. In Gen-\n",
        "Bank/EMBL notation, this is represented as something like '<13',  signifying that the real position is\n",
        "located somewhere less than 13. To get the specified upper boundary, look at the position attribute\n",
        "of the object.\n",
        "\n",
        "AfterPosition – Contrary to BeforePosition, this class represents a position that occurs after some specified\n",
        "site. This is represented in GenBank as '>13', and like BeforePosition, you get the boundary\n",
        "number by looking at the position attribute of the object.  \n",
        "\n",
        "WithinPosition – Occasionally used for GenBank/EMBL locations, this class models a position which\n",
        "occurs somewhere between two specified nucleotides. In GenBank/EMBL notation, this would be\n",
        "represented as ‘(1.5)’, to represent that the position is somewhere within the range 1 to 5.  \n",
        "\n",
        "OneOfPosition – Occasionally used for GenBank/EMBL locations, this class deals with a position where\n",
        "several possible values exist, for instance you could use this if the start codon was unclear and there\n",
        "where two candidates for the start of the gene. Alternatively, that might be handled explicitly as two\n",
        "related gene features.  \n",
        "\n",
        "UnknownPosition – This class deals with a position of unknown location. This is not used in Gen-\n",
        "Bank/EMBL, but corresponds to the ‘?’ feature coordinate used in UniProt."
      ],
      "metadata": {
        "id": "kjGakfhj5bVX"
      }
    },
    {
      "cell_type": "code",
      "source": [
        "exact_location = SeqFeature.SimpleLocation(10, 15)\n",
        "print(exact_location, exact_location.start)"
      ],
      "metadata": {
        "colab": {
          "base_uri": "https://localhost:8080/"
        },
        "id": "BR3MJcIM5t7L",
        "outputId": "3e1d412f-04b6-413a-ac3b-a0c3e0098cc0"
      },
      "execution_count": 26,
      "outputs": [
        {
          "output_type": "stream",
          "name": "stdout",
          "text": [
            "[10:15] 10\n"
          ]
        }
      ]
    },
    {
      "cell_type": "code",
      "source": [
        "from Bio import SeqIO\n",
        "recordd = SeqIO.read(\"/content/drive/MyDrive/Biopython/NC_005816.gb\", \"genbank\")\n",
        "my_snp = 4350\n",
        "for feature in recordd.features:\n",
        "  if my_snp in feature:\n",
        "    print(feature,type, feature.qualifiers.get('db_xref'))"
      ],
      "metadata": {
        "colab": {
          "base_uri": "https://localhost:8080/"
        },
        "id": "RJXt3CGT7Dyd",
        "outputId": "542db4e3-2174-43e1-a122-8b71db480220"
      },
      "execution_count": 29,
      "outputs": [
        {
          "output_type": "stream",
          "name": "stdout",
          "text": [
            "type: source\n",
            "location: [0:9609](+)\n",
            "qualifiers:\n",
            "    Key: biovar, Value: ['Microtus']\n",
            "    Key: db_xref, Value: ['taxon:229193']\n",
            "    Key: mol_type, Value: ['genomic DNA']\n",
            "    Key: organism, Value: ['Yersinia pestis biovar Microtus str. 91001']\n",
            "    Key: plasmid, Value: ['pPCP1']\n",
            "    Key: strain, Value: ['91001']\n",
            " <class 'type'> ['taxon:229193']\n",
            "type: gene\n",
            "location: [4342:4780](+)\n",
            "qualifiers:\n",
            "    Key: db_xref, Value: ['GeneID:2767712']\n",
            "    Key: gene, Value: ['pim']\n",
            "    Key: locus_tag, Value: ['YP_pPCP05']\n",
            " <class 'type'> ['GeneID:2767712']\n",
            "type: CDS\n",
            "location: [4342:4780](+)\n",
            "qualifiers:\n",
            "    Key: codon_start, Value: ['1']\n",
            "    Key: db_xref, Value: ['GI:45478716', 'GeneID:2767712']\n",
            "    Key: gene, Value: ['pim']\n",
            "    Key: locus_tag, Value: ['YP_pPCP05']\n",
            "    Key: note, Value: ['similar to many previously sequenced pesticin immunity protein entries of Yersinia pestis plasmid pPCP, e.g. gi| 16082683|,ref|NP_395230.1| (NC_003132) , gi|1200166|emb|CAA90861.1| (Z54145 ) , gi|1488655| emb|CAA63439.1| (X92856) , gi|2996219|gb|AAC62543.1| (AF053945) , and gi|5763814|emb|CAB531 67.1| (AL109969)']\n",
            "    Key: product, Value: ['pesticin immunity protein']\n",
            "    Key: protein_id, Value: ['NP_995571.1']\n",
            "    Key: transl_table, Value: ['11']\n",
            "    Key: translation, Value: ['MGGGMISKLFCLALIFLSSSGLAEKNTYTAKDILQNLELNTFGNSLSHGIYGKQTTFKQTEFTNIKSNTKKHIALINKDNSWMISLKILGIKRDEYTVCFEDFSLIRPPTYVAIHPLLIKKVKSGNFIVVKEIKKSIPGCTVYYH']\n",
            " <class 'type'> ['GI:45478716', 'GeneID:2767712']\n"
          ]
        }
      ]
    },
    {
      "cell_type": "code",
      "source": [
        "from Bio.Seq import Seq\n",
        "from Bio.SeqFeature import SeqFeature, SimpleLocation\n",
        "seq = Seq(\"ACCGAGACGGCAAAGGCTAGCATAGGTATGAGACTTCCTTCCTGCCAGTGCTGAGGAACTGGGAGCCTAC\")\n",
        "feature = SeqFeature(SimpleLocation(5, 18, strand=-1), type='gene')"
      ],
      "metadata": {
        "id": "bfXH0_S77iKh"
      },
      "execution_count": 30,
      "outputs": []
    },
    {
      "cell_type": "code",
      "source": [
        "feature_seq = seq[feature.location.start:feature.location.end].reverse_complement()\n",
        "print(feature_seq)"
      ],
      "metadata": {
        "colab": {
          "base_uri": "https://localhost:8080/"
        },
        "id": "8VhBUccy8OyI",
        "outputId": "8b2ad8f6-a211-4971-afea-01dbefd980df"
      },
      "execution_count": 32,
      "outputs": [
        {
          "output_type": "stream",
          "name": "stdout",
          "text": [
            "AGCCTTTGCCGTC\n"
          ]
        }
      ]
    },
    {
      "cell_type": "code",
      "source": [
        "feature_seq = feature.extract(seq)\n",
        "print(feature_seq)"
      ],
      "metadata": {
        "colab": {
          "base_uri": "https://localhost:8080/"
        },
        "id": "pcMuSir88tsY",
        "outputId": "411b1a61-779e-498d-b930-9350fec97f8f"
      },
      "execution_count": 33,
      "outputs": [
        {
          "output_type": "stream",
          "name": "stdout",
          "text": [
            "AGCCTTTGCCGTC\n"
          ]
        }
      ]
    },
    {
      "cell_type": "code",
      "source": [
        "from Bio.Seq import Seq\n",
        "from Bio.SeqRecord import SeqRecord\n",
        "rec1 = SeqRecord('ATGC', id='test1')\n",
        "rec2 = SeqRecord('CAGT', id='test2')\n",
        "print(rec1, rec2)"
      ],
      "metadata": {
        "colab": {
          "base_uri": "https://localhost:8080/"
        },
        "id": "CAdJhxy880iB",
        "outputId": "dc139bb0-517b-4d06-f2f9-fd2685d34dd6"
      },
      "execution_count": 34,
      "outputs": [
        {
          "output_type": "stream",
          "name": "stdout",
          "text": [
            "ID: test1\n",
            "Name: <unknown name>\n",
            "Description: <unknown description>\n",
            "Number of features: 0\n",
            "Seq('ATGC') ID: test2\n",
            "Name: <unknown name>\n",
            "Description: <unknown description>\n",
            "Number of features: 0\n",
            "Seq('CAGT')\n"
          ]
        },
        {
          "output_type": "stream",
          "name": "stderr",
          "text": [
            "/usr/local/lib/python3.10/dist-packages/Bio/SeqRecord.py:228: BiopythonDeprecationWarning: Using a string as the sequence is deprecated and will raise a TypeError in future. It has been converted to a Seq object.\n",
            "  warnings.warn(\n"
          ]
        }
      ]
    },
    {
      "cell_type": "code",
      "source": [
        "rec1.seq == rec2.seq"
      ],
      "metadata": {
        "colab": {
          "base_uri": "https://localhost:8080/"
        },
        "id": "Ue6JQ7XY9Ebw",
        "outputId": "6d666e8e-ee1d-4308-b32a-776c43a84b57"
      },
      "execution_count": 36,
      "outputs": [
        {
          "output_type": "execute_result",
          "data": {
            "text/plain": [
              "False"
            ]
          },
          "metadata": {},
          "execution_count": 36
        }
      ]
    },
    {
      "cell_type": "code",
      "source": [
        "from Bio.Seq import Seq\n",
        "from Bio.SeqRecord import SeqRecord\n",
        "record = SeqRecord(Seq(\"MMYQQGCFAGGTVLRLAKDLAENNRGARVLVVCSEITAVTFRGPSETHLDSMVGQALFGD\"\"GAGAVIVGSDPDLSVERPLYELVWTGATLLPDSEGAIDGHLREVGLTFHLLKDVPGLISK\"\"NIEKSLKEAFTPLGISDWNSTFWIAHPGGPAILDQVEAKLGLKEEKMRATREVLSEYGNM\"\"SSAC\"),id=\"gi|14150838|gb|AAK54648.1|AF376133_1\",description=\"chalcone synthase [Cucumis sativus]\")"
      ],
      "metadata": {
        "id": "Zbbc87hk9KC-"
      },
      "execution_count": 37,
      "outputs": []
    },
    {
      "cell_type": "code",
      "source": [
        "record"
      ],
      "metadata": {
        "colab": {
          "base_uri": "https://localhost:8080/"
        },
        "id": "xkKrnAC-9xAJ",
        "outputId": "b57c0591-6251-41be-d0ca-fa42ca978ec3"
      },
      "execution_count": 38,
      "outputs": [
        {
          "output_type": "execute_result",
          "data": {
            "text/plain": [
              "SeqRecord(seq=Seq('MMYQQGCFAGGTVLRLAKDLAENNRGARVLVVCSEITAVTFRGPSETHLDSMVG...SAC'), id='gi|14150838|gb|AAK54648.1|AF376133_1', name='<unknown name>', description='chalcone synthase [Cucumis sativus]', dbxrefs=[])"
            ]
          },
          "metadata": {},
          "execution_count": 38
        }
      ]
    },
    {
      "cell_type": "code",
      "source": [
        "recordd = SeqIO.read(\"/content/drive/MyDrive/Biopython/NC_005816.gb\", \"genbank\")\n",
        "print(len(recordd.features))"
      ],
      "metadata": {
        "colab": {
          "base_uri": "https://localhost:8080/"
        },
        "id": "1UnxSbTl95NS",
        "outputId": "10c8461c-1193-450a-e40d-dca6fd8ec83b"
      },
      "execution_count": 39,
      "outputs": [
        {
          "output_type": "stream",
          "name": "stdout",
          "text": [
            "41\n"
          ]
        }
      ]
    },
    {
      "cell_type": "code",
      "source": [
        "print(recordd.features[2])"
      ],
      "metadata": {
        "colab": {
          "base_uri": "https://localhost:8080/"
        },
        "id": "OJbqBD-s-Bka",
        "outputId": "62a9e3f6-d865-4335-a0ac-0c0b7e656b16"
      },
      "execution_count": 40,
      "outputs": [
        {
          "output_type": "stream",
          "name": "stdout",
          "text": [
            "type: gene\n",
            "location: [86:1109](+)\n",
            "qualifiers:\n",
            "    Key: db_xref, Value: ['GeneID:2767718']\n",
            "    Key: locus_tag, Value: ['YP_pPCP01']\n",
            "\n"
          ]
        }
      ]
    },
    {
      "cell_type": "code",
      "source": [
        "sub_record = recordd[recordd.features[2].location.start:recordd.features[2].location.end]\n",
        "print(sub_record)"
      ],
      "metadata": {
        "colab": {
          "base_uri": "https://localhost:8080/"
        },
        "id": "t7W6NWcd-L3a",
        "outputId": "ff1314ea-166a-4b6c-b247-7cc11b7bc1f4"
      },
      "execution_count": 41,
      "outputs": [
        {
          "output_type": "stream",
          "name": "stdout",
          "text": [
            "ID: NC_005816.1\n",
            "Name: NC_005816\n",
            "Description: Yersinia pestis biovar Microtus str. 91001 plasmid pPCP1, complete sequence\n",
            "Number of features: 5\n",
            "/molecule_type=DNA\n",
            "Seq('ATGGTCACTTTTGAGACAGTTATGGAAATTAAAATCCTGCACAAGCAGGGAATG...TGA')\n"
          ]
        }
      ]
    },
    {
      "cell_type": "code",
      "source": [
        "sub_record2 = recordd[4300:4800]\n",
        "print(sub_record2)"
      ],
      "metadata": {
        "colab": {
          "base_uri": "https://localhost:8080/"
        },
        "id": "6U_g7H3e-Q_3",
        "outputId": "df74a92f-c0ca-4fe6-e52f-aeb6bcb72bb1"
      },
      "execution_count": 42,
      "outputs": [
        {
          "output_type": "stream",
          "name": "stdout",
          "text": [
            "ID: NC_005816.1\n",
            "Name: NC_005816\n",
            "Description: Yersinia pestis biovar Microtus str. 91001 plasmid pPCP1, complete sequence\n",
            "Number of features: 2\n",
            "/molecule_type=DNA\n",
            "Seq('ATAAATAGATTATTCCAAATAATTTATTTATGTAAGAACAGGATGGGAGGGGGA...TTA')\n"
          ]
        }
      ]
    },
    {
      "cell_type": "code",
      "source": [
        "print(len(sub_record2.features))"
      ],
      "metadata": {
        "colab": {
          "base_uri": "https://localhost:8080/"
        },
        "id": "A-_qTncf-bId",
        "outputId": "c0425199-b4bd-4901-da5a-f0bab3d6e66f"
      },
      "execution_count": 43,
      "outputs": [
        {
          "output_type": "stream",
          "name": "stdout",
          "text": [
            "2\n"
          ]
        }
      ]
    },
    {
      "cell_type": "code",
      "source": [
        "print(sub_record2.features[0])"
      ],
      "metadata": {
        "colab": {
          "base_uri": "https://localhost:8080/"
        },
        "id": "0li1NyDi-h9O",
        "outputId": "67b4efd2-70e8-4791-bedc-0a1d7c2ded57"
      },
      "execution_count": 44,
      "outputs": [
        {
          "output_type": "stream",
          "name": "stdout",
          "text": [
            "type: gene\n",
            "location: [42:480](+)\n",
            "qualifiers:\n",
            "    Key: db_xref, Value: ['GeneID:2767712']\n",
            "    Key: gene, Value: ['pim']\n",
            "    Key: locus_tag, Value: ['YP_pPCP05']\n",
            "\n"
          ]
        }
      ]
    },
    {
      "cell_type": "code",
      "source": [
        "print(sub_record2.features[1])"
      ],
      "metadata": {
        "colab": {
          "base_uri": "https://localhost:8080/"
        },
        "id": "xsgWdUnh-lse",
        "outputId": "d265f3fc-ac04-4af1-a40b-a72f460c562a"
      },
      "execution_count": 45,
      "outputs": [
        {
          "output_type": "stream",
          "name": "stdout",
          "text": [
            "type: CDS\n",
            "location: [42:480](+)\n",
            "qualifiers:\n",
            "    Key: codon_start, Value: ['1']\n",
            "    Key: db_xref, Value: ['GI:45478716', 'GeneID:2767712']\n",
            "    Key: gene, Value: ['pim']\n",
            "    Key: locus_tag, Value: ['YP_pPCP05']\n",
            "    Key: note, Value: ['similar to many previously sequenced pesticin immunity protein entries of Yersinia pestis plasmid pPCP, e.g. gi| 16082683|,ref|NP_395230.1| (NC_003132) , gi|1200166|emb|CAA90861.1| (Z54145 ) , gi|1488655| emb|CAA63439.1| (X92856) , gi|2996219|gb|AAC62543.1| (AF053945) , and gi|5763814|emb|CAB531 67.1| (AL109969)']\n",
            "    Key: product, Value: ['pesticin immunity protein']\n",
            "    Key: protein_id, Value: ['NP_995571.1']\n",
            "    Key: transl_table, Value: ['11']\n",
            "    Key: translation, Value: ['MGGGMISKLFCLALIFLSSSGLAEKNTYTAKDILQNLELNTFGNSLSHGIYGKQTTFKQTEFTNIKSNTKKHIALINKDNSWMISLKILGIKRDEYTVCFEDFSLIRPPTYVAIHPLLIKKVKSGNFIVVKEIKKSIPGCTVYYH']\n",
            "\n"
          ]
        }
      ]
    },
    {
      "cell_type": "code",
      "source": [
        "rc = recordd.reverse_complement()\n",
        "print(rc)"
      ],
      "metadata": {
        "colab": {
          "base_uri": "https://localhost:8080/"
        },
        "id": "IDzFJ02v_B3O",
        "outputId": "32e93fc9-ae4a-416f-a5f6-d8d7b720eaf1"
      },
      "execution_count": 46,
      "outputs": [
        {
          "output_type": "stream",
          "name": "stdout",
          "text": [
            "ID: <unknown id>\n",
            "Name: <unknown name>\n",
            "Description: <unknown description>\n",
            "Number of features: 41\n",
            "Seq('CAGGGGTCGGGGTACGCATTCCCTCATGCGTCAATATTATCTGGCATTGCGATG...ACA')\n"
          ]
        }
      ]
    }
  ]
}