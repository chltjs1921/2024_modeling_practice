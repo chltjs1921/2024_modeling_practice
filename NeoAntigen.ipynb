{
  "nbformat": 4,
  "nbformat_minor": 0,
  "metadata": {
    "colab": {
      "provenance": [],
      "machine_shape": "hm",
      "gpuType": "T4",
      "mount_file_id": "1toi5ebqnYzo5_UOp1yBTiRJQ5N0U7o-Q",
      "authorship_tag": "ABX9TyPET+GMblMLMMcxF+UW68OU",
      "include_colab_link": true
    },
    "kernelspec": {
      "name": "python3",
      "display_name": "Python 3"
    },
    "language_info": {
      "name": "python"
    },
    "accelerator": "GPU"
  },
  "cells": [
    {
      "cell_type": "markdown",
      "metadata": {
        "id": "view-in-github",
        "colab_type": "text"
      },
      "source": [
        "<a href=\"https://colab.research.google.com/github/chltjs1921/2024_modeling_practice/blob/main/NeoAntigen.ipynb\" target=\"_parent\"><img src=\"https://colab.research.google.com/assets/colab-badge.svg\" alt=\"Open In Colab\"/></a>"
      ]
    },
    {
      "cell_type": "code",
      "execution_count": null,
      "metadata": {
        "id": "_VyWJqVVUYAZ"
      },
      "outputs": [],
      "source": [
        "import os\n",
        "import pandas as pd\n",
        "import json\n",
        "import numpy as np\n",
        "from sklearn.preprocessing import OneHotEncoder\n",
        "\n",
        "import torch\n",
        "from torch import nn\n",
        "import torch.nn.functional as F\n",
        "from torch.utils.data import Dataset, DataLoader\n",
        "from torch.autograd import Variable"
      ]
    },
    {
      "cell_type": "code",
      "source": [
        "device = torch.device('cuda' if torch.cuda.is_available() else 'cpu')\n",
        "device"
      ],
      "metadata": {
        "colab": {
          "base_uri": "https://localhost:8080/"
        },
        "id": "iOb6yOEgyrBy",
        "outputId": "b703401c-7015-4cb6-dfc7-156b7408dee4"
      },
      "execution_count": null,
      "outputs": [
        {
          "output_type": "execute_result",
          "data": {
            "text/plain": [
              "device(type='cuda')"
            ]
          },
          "metadata": {},
          "execution_count": 2
        }
      ]
    },
    {
      "cell_type": "code",
      "source": [
        "neo = pd.read_csv('/content/drive/MyDrive/FastCampus/Medical/Part 3/실습/NeoAntigen_dataset_for_training.csv')\n",
        "neo"
      ],
      "metadata": {
        "colab": {
          "base_uri": "https://localhost:8080/",
          "height": 443
        },
        "id": "KHbzrqbCa_-c",
        "outputId": "b304294d-d209-4108-eabb-0d0f065cca51"
      },
      "execution_count": null,
      "outputs": [
        {
          "output_type": "execute_result",
          "data": {
            "text/plain": [
              "         antigen  allele_name  \\\n",
              "0      EVMPVSMAK  HLA-A*11:01   \n",
              "1      ATFSVPMEK  HLA-A*11:01   \n",
              "2      RVFNNYMPY  HLA-A*11:01   \n",
              "3      ATVVIGTSK  HLA-A*11:01   \n",
              "4      SSNVANYQK  HLA-A*11:01   \n",
              "...          ...          ...   \n",
              "62643  SYIDRLAPR  HLA-A*33:03   \n",
              "62644  VVAAVRWRR  HLA-A*33:03   \n",
              "62645  YVFPKPFNR  HLA-A*33:03   \n",
              "62646  YVQRFHYSR  HLA-A*33:03   \n",
              "62647  YYYYHRQYR  HLA-A*33:03   \n",
              "\n",
              "                                                full_seq  \\\n",
              "0      MAVMAPRTLLLLLSGALALTQTWAGSHSMRYFYTSVSRPGRGEPRF...   \n",
              "1      MAVMAPRTLLLLLSGALALTQTWAGSHSMRYFYTSVSRPGRGEPRF...   \n",
              "2      MAVMAPRTLLLLLSGALALTQTWAGSHSMRYFYTSVSRPGRGEPRF...   \n",
              "3      MAVMAPRTLLLLLSGALALTQTWAGSHSMRYFYTSVSRPGRGEPRF...   \n",
              "4      MAVMAPRTLLLLLSGALALTQTWAGSHSMRYFYTSVSRPGRGEPRF...   \n",
              "...                                                  ...   \n",
              "62643  MAVMAPRTLLLLLLGALALTQTWAGSHSMRYFTTSVSRPGRGEPRF...   \n",
              "62644  MAVMAPRTLLLLLLGALALTQTWAGSHSMRYFTTSVSRPGRGEPRF...   \n",
              "62645  MAVMAPRTLLLLLLGALALTQTWAGSHSMRYFTTSVSRPGRGEPRF...   \n",
              "62646  MAVMAPRTLLLLLLGALALTQTWAGSHSMRYFTTSVSRPGRGEPRF...   \n",
              "62647  MAVMAPRTLLLLLLGALALTQTWAGSHSMRYFTTSVSRPGRGEPRF...   \n",
              "\n",
              "                               pseudo_seq  label  \n",
              "0      YYAMYQENVAQTDVDTLYIIYRDYTWAAQAYRWY    1.0  \n",
              "1      YYAMYQENVAQTDVDTLYIIYRDYTWAAQAYRWY    1.0  \n",
              "2      YYAMYQENVAQTDVDTLYIIYRDYTWAAQAYRWY    1.0  \n",
              "3      YYAMYQENVAQTDVDTLYIIYRDYTWAAQAYRWY    1.0  \n",
              "4      YYAMYQENVAQTDVDTLYIIYRDYTWAAQAYRWY    1.0  \n",
              "...                                   ...    ...  \n",
              "62643  YTAMYRNNVAHIDVDTLYIMYQDYTWAVLAYTWY    1.0  \n",
              "62644  YTAMYRNNVAHIDVDTLYIMYQDYTWAVLAYTWY    1.0  \n",
              "62645  YTAMYRNNVAHIDVDTLYIMYQDYTWAVLAYTWY    1.0  \n",
              "62646  YTAMYRNNVAHIDVDTLYIMYQDYTWAVLAYTWY    1.0  \n",
              "62647  YTAMYRNNVAHIDVDTLYIMYQDYTWAVLAYTWY    1.0  \n",
              "\n",
              "[62648 rows x 5 columns]"
            ],
            "text/html": [
              "\n",
              "  <div id=\"df-7cb8f0fc-230e-4b8d-b75a-2bdea58140cf\" class=\"colab-df-container\">\n",
              "    <div>\n",
              "<style scoped>\n",
              "    .dataframe tbody tr th:only-of-type {\n",
              "        vertical-align: middle;\n",
              "    }\n",
              "\n",
              "    .dataframe tbody tr th {\n",
              "        vertical-align: top;\n",
              "    }\n",
              "\n",
              "    .dataframe thead th {\n",
              "        text-align: right;\n",
              "    }\n",
              "</style>\n",
              "<table border=\"1\" class=\"dataframe\">\n",
              "  <thead>\n",
              "    <tr style=\"text-align: right;\">\n",
              "      <th></th>\n",
              "      <th>antigen</th>\n",
              "      <th>allele_name</th>\n",
              "      <th>full_seq</th>\n",
              "      <th>pseudo_seq</th>\n",
              "      <th>label</th>\n",
              "    </tr>\n",
              "  </thead>\n",
              "  <tbody>\n",
              "    <tr>\n",
              "      <th>0</th>\n",
              "      <td>EVMPVSMAK</td>\n",
              "      <td>HLA-A*11:01</td>\n",
              "      <td>MAVMAPRTLLLLLSGALALTQTWAGSHSMRYFYTSVSRPGRGEPRF...</td>\n",
              "      <td>YYAMYQENVAQTDVDTLYIIYRDYTWAAQAYRWY</td>\n",
              "      <td>1.0</td>\n",
              "    </tr>\n",
              "    <tr>\n",
              "      <th>1</th>\n",
              "      <td>ATFSVPMEK</td>\n",
              "      <td>HLA-A*11:01</td>\n",
              "      <td>MAVMAPRTLLLLLSGALALTQTWAGSHSMRYFYTSVSRPGRGEPRF...</td>\n",
              "      <td>YYAMYQENVAQTDVDTLYIIYRDYTWAAQAYRWY</td>\n",
              "      <td>1.0</td>\n",
              "    </tr>\n",
              "    <tr>\n",
              "      <th>2</th>\n",
              "      <td>RVFNNYMPY</td>\n",
              "      <td>HLA-A*11:01</td>\n",
              "      <td>MAVMAPRTLLLLLSGALALTQTWAGSHSMRYFYTSVSRPGRGEPRF...</td>\n",
              "      <td>YYAMYQENVAQTDVDTLYIIYRDYTWAAQAYRWY</td>\n",
              "      <td>1.0</td>\n",
              "    </tr>\n",
              "    <tr>\n",
              "      <th>3</th>\n",
              "      <td>ATVVIGTSK</td>\n",
              "      <td>HLA-A*11:01</td>\n",
              "      <td>MAVMAPRTLLLLLSGALALTQTWAGSHSMRYFYTSVSRPGRGEPRF...</td>\n",
              "      <td>YYAMYQENVAQTDVDTLYIIYRDYTWAAQAYRWY</td>\n",
              "      <td>1.0</td>\n",
              "    </tr>\n",
              "    <tr>\n",
              "      <th>4</th>\n",
              "      <td>SSNVANYQK</td>\n",
              "      <td>HLA-A*11:01</td>\n",
              "      <td>MAVMAPRTLLLLLSGALALTQTWAGSHSMRYFYTSVSRPGRGEPRF...</td>\n",
              "      <td>YYAMYQENVAQTDVDTLYIIYRDYTWAAQAYRWY</td>\n",
              "      <td>1.0</td>\n",
              "    </tr>\n",
              "    <tr>\n",
              "      <th>...</th>\n",
              "      <td>...</td>\n",
              "      <td>...</td>\n",
              "      <td>...</td>\n",
              "      <td>...</td>\n",
              "      <td>...</td>\n",
              "    </tr>\n",
              "    <tr>\n",
              "      <th>62643</th>\n",
              "      <td>SYIDRLAPR</td>\n",
              "      <td>HLA-A*33:03</td>\n",
              "      <td>MAVMAPRTLLLLLLGALALTQTWAGSHSMRYFTTSVSRPGRGEPRF...</td>\n",
              "      <td>YTAMYRNNVAHIDVDTLYIMYQDYTWAVLAYTWY</td>\n",
              "      <td>1.0</td>\n",
              "    </tr>\n",
              "    <tr>\n",
              "      <th>62644</th>\n",
              "      <td>VVAAVRWRR</td>\n",
              "      <td>HLA-A*33:03</td>\n",
              "      <td>MAVMAPRTLLLLLLGALALTQTWAGSHSMRYFTTSVSRPGRGEPRF...</td>\n",
              "      <td>YTAMYRNNVAHIDVDTLYIMYQDYTWAVLAYTWY</td>\n",
              "      <td>1.0</td>\n",
              "    </tr>\n",
              "    <tr>\n",
              "      <th>62645</th>\n",
              "      <td>YVFPKPFNR</td>\n",
              "      <td>HLA-A*33:03</td>\n",
              "      <td>MAVMAPRTLLLLLLGALALTQTWAGSHSMRYFTTSVSRPGRGEPRF...</td>\n",
              "      <td>YTAMYRNNVAHIDVDTLYIMYQDYTWAVLAYTWY</td>\n",
              "      <td>1.0</td>\n",
              "    </tr>\n",
              "    <tr>\n",
              "      <th>62646</th>\n",
              "      <td>YVQRFHYSR</td>\n",
              "      <td>HLA-A*33:03</td>\n",
              "      <td>MAVMAPRTLLLLLLGALALTQTWAGSHSMRYFTTSVSRPGRGEPRF...</td>\n",
              "      <td>YTAMYRNNVAHIDVDTLYIMYQDYTWAVLAYTWY</td>\n",
              "      <td>1.0</td>\n",
              "    </tr>\n",
              "    <tr>\n",
              "      <th>62647</th>\n",
              "      <td>YYYYHRQYR</td>\n",
              "      <td>HLA-A*33:03</td>\n",
              "      <td>MAVMAPRTLLLLLLGALALTQTWAGSHSMRYFTTSVSRPGRGEPRF...</td>\n",
              "      <td>YTAMYRNNVAHIDVDTLYIMYQDYTWAVLAYTWY</td>\n",
              "      <td>1.0</td>\n",
              "    </tr>\n",
              "  </tbody>\n",
              "</table>\n",
              "<p>62648 rows × 5 columns</p>\n",
              "</div>\n",
              "    <div class=\"colab-df-buttons\">\n",
              "\n",
              "  <div class=\"colab-df-container\">\n",
              "    <button class=\"colab-df-convert\" onclick=\"convertToInteractive('df-7cb8f0fc-230e-4b8d-b75a-2bdea58140cf')\"\n",
              "            title=\"Convert this dataframe to an interactive table.\"\n",
              "            style=\"display:none;\">\n",
              "\n",
              "  <svg xmlns=\"http://www.w3.org/2000/svg\" height=\"24px\" viewBox=\"0 -960 960 960\">\n",
              "    <path d=\"M120-120v-720h720v720H120Zm60-500h600v-160H180v160Zm220 220h160v-160H400v160Zm0 220h160v-160H400v160ZM180-400h160v-160H180v160Zm440 0h160v-160H620v160ZM180-180h160v-160H180v160Zm440 0h160v-160H620v160Z\"/>\n",
              "  </svg>\n",
              "    </button>\n",
              "\n",
              "  <style>\n",
              "    .colab-df-container {\n",
              "      display:flex;\n",
              "      gap: 12px;\n",
              "    }\n",
              "\n",
              "    .colab-df-convert {\n",
              "      background-color: #E8F0FE;\n",
              "      border: none;\n",
              "      border-radius: 50%;\n",
              "      cursor: pointer;\n",
              "      display: none;\n",
              "      fill: #1967D2;\n",
              "      height: 32px;\n",
              "      padding: 0 0 0 0;\n",
              "      width: 32px;\n",
              "    }\n",
              "\n",
              "    .colab-df-convert:hover {\n",
              "      background-color: #E2EBFA;\n",
              "      box-shadow: 0px 1px 2px rgba(60, 64, 67, 0.3), 0px 1px 3px 1px rgba(60, 64, 67, 0.15);\n",
              "      fill: #174EA6;\n",
              "    }\n",
              "\n",
              "    .colab-df-buttons div {\n",
              "      margin-bottom: 4px;\n",
              "    }\n",
              "\n",
              "    [theme=dark] .colab-df-convert {\n",
              "      background-color: #3B4455;\n",
              "      fill: #D2E3FC;\n",
              "    }\n",
              "\n",
              "    [theme=dark] .colab-df-convert:hover {\n",
              "      background-color: #434B5C;\n",
              "      box-shadow: 0px 1px 3px 1px rgba(0, 0, 0, 0.15);\n",
              "      filter: drop-shadow(0px 1px 2px rgba(0, 0, 0, 0.3));\n",
              "      fill: #FFFFFF;\n",
              "    }\n",
              "  </style>\n",
              "\n",
              "    <script>\n",
              "      const buttonEl =\n",
              "        document.querySelector('#df-7cb8f0fc-230e-4b8d-b75a-2bdea58140cf button.colab-df-convert');\n",
              "      buttonEl.style.display =\n",
              "        google.colab.kernel.accessAllowed ? 'block' : 'none';\n",
              "\n",
              "      async function convertToInteractive(key) {\n",
              "        const element = document.querySelector('#df-7cb8f0fc-230e-4b8d-b75a-2bdea58140cf');\n",
              "        const dataTable =\n",
              "          await google.colab.kernel.invokeFunction('convertToInteractive',\n",
              "                                                    [key], {});\n",
              "        if (!dataTable) return;\n",
              "\n",
              "        const docLinkHtml = 'Like what you see? Visit the ' +\n",
              "          '<a target=\"_blank\" href=https://colab.research.google.com/notebooks/data_table.ipynb>data table notebook</a>'\n",
              "          + ' to learn more about interactive tables.';\n",
              "        element.innerHTML = '';\n",
              "        dataTable['output_type'] = 'display_data';\n",
              "        await google.colab.output.renderOutput(dataTable, element);\n",
              "        const docLink = document.createElement('div');\n",
              "        docLink.innerHTML = docLinkHtml;\n",
              "        element.appendChild(docLink);\n",
              "      }\n",
              "    </script>\n",
              "  </div>\n",
              "\n",
              "\n",
              "<div id=\"df-8aaf17a6-e00d-44c6-97e6-0b1d35cd5ca5\">\n",
              "  <button class=\"colab-df-quickchart\" onclick=\"quickchart('df-8aaf17a6-e00d-44c6-97e6-0b1d35cd5ca5')\"\n",
              "            title=\"Suggest charts\"\n",
              "            style=\"display:none;\">\n",
              "\n",
              "<svg xmlns=\"http://www.w3.org/2000/svg\" height=\"24px\"viewBox=\"0 0 24 24\"\n",
              "     width=\"24px\">\n",
              "    <g>\n",
              "        <path d=\"M19 3H5c-1.1 0-2 .9-2 2v14c0 1.1.9 2 2 2h14c1.1 0 2-.9 2-2V5c0-1.1-.9-2-2-2zM9 17H7v-7h2v7zm4 0h-2V7h2v10zm4 0h-2v-4h2v4z\"/>\n",
              "    </g>\n",
              "</svg>\n",
              "  </button>\n",
              "\n",
              "<style>\n",
              "  .colab-df-quickchart {\n",
              "      --bg-color: #E8F0FE;\n",
              "      --fill-color: #1967D2;\n",
              "      --hover-bg-color: #E2EBFA;\n",
              "      --hover-fill-color: #174EA6;\n",
              "      --disabled-fill-color: #AAA;\n",
              "      --disabled-bg-color: #DDD;\n",
              "  }\n",
              "\n",
              "  [theme=dark] .colab-df-quickchart {\n",
              "      --bg-color: #3B4455;\n",
              "      --fill-color: #D2E3FC;\n",
              "      --hover-bg-color: #434B5C;\n",
              "      --hover-fill-color: #FFFFFF;\n",
              "      --disabled-bg-color: #3B4455;\n",
              "      --disabled-fill-color: #666;\n",
              "  }\n",
              "\n",
              "  .colab-df-quickchart {\n",
              "    background-color: var(--bg-color);\n",
              "    border: none;\n",
              "    border-radius: 50%;\n",
              "    cursor: pointer;\n",
              "    display: none;\n",
              "    fill: var(--fill-color);\n",
              "    height: 32px;\n",
              "    padding: 0;\n",
              "    width: 32px;\n",
              "  }\n",
              "\n",
              "  .colab-df-quickchart:hover {\n",
              "    background-color: var(--hover-bg-color);\n",
              "    box-shadow: 0 1px 2px rgba(60, 64, 67, 0.3), 0 1px 3px 1px rgba(60, 64, 67, 0.15);\n",
              "    fill: var(--button-hover-fill-color);\n",
              "  }\n",
              "\n",
              "  .colab-df-quickchart-complete:disabled,\n",
              "  .colab-df-quickchart-complete:disabled:hover {\n",
              "    background-color: var(--disabled-bg-color);\n",
              "    fill: var(--disabled-fill-color);\n",
              "    box-shadow: none;\n",
              "  }\n",
              "\n",
              "  .colab-df-spinner {\n",
              "    border: 2px solid var(--fill-color);\n",
              "    border-color: transparent;\n",
              "    border-bottom-color: var(--fill-color);\n",
              "    animation:\n",
              "      spin 1s steps(1) infinite;\n",
              "  }\n",
              "\n",
              "  @keyframes spin {\n",
              "    0% {\n",
              "      border-color: transparent;\n",
              "      border-bottom-color: var(--fill-color);\n",
              "      border-left-color: var(--fill-color);\n",
              "    }\n",
              "    20% {\n",
              "      border-color: transparent;\n",
              "      border-left-color: var(--fill-color);\n",
              "      border-top-color: var(--fill-color);\n",
              "    }\n",
              "    30% {\n",
              "      border-color: transparent;\n",
              "      border-left-color: var(--fill-color);\n",
              "      border-top-color: var(--fill-color);\n",
              "      border-right-color: var(--fill-color);\n",
              "    }\n",
              "    40% {\n",
              "      border-color: transparent;\n",
              "      border-right-color: var(--fill-color);\n",
              "      border-top-color: var(--fill-color);\n",
              "    }\n",
              "    60% {\n",
              "      border-color: transparent;\n",
              "      border-right-color: var(--fill-color);\n",
              "    }\n",
              "    80% {\n",
              "      border-color: transparent;\n",
              "      border-right-color: var(--fill-color);\n",
              "      border-bottom-color: var(--fill-color);\n",
              "    }\n",
              "    90% {\n",
              "      border-color: transparent;\n",
              "      border-bottom-color: var(--fill-color);\n",
              "    }\n",
              "  }\n",
              "</style>\n",
              "\n",
              "  <script>\n",
              "    async function quickchart(key) {\n",
              "      const quickchartButtonEl =\n",
              "        document.querySelector('#' + key + ' button');\n",
              "      quickchartButtonEl.disabled = true;  // To prevent multiple clicks.\n",
              "      quickchartButtonEl.classList.add('colab-df-spinner');\n",
              "      try {\n",
              "        const charts = await google.colab.kernel.invokeFunction(\n",
              "            'suggestCharts', [key], {});\n",
              "      } catch (error) {\n",
              "        console.error('Error during call to suggestCharts:', error);\n",
              "      }\n",
              "      quickchartButtonEl.classList.remove('colab-df-spinner');\n",
              "      quickchartButtonEl.classList.add('colab-df-quickchart-complete');\n",
              "    }\n",
              "    (() => {\n",
              "      let quickchartButtonEl =\n",
              "        document.querySelector('#df-8aaf17a6-e00d-44c6-97e6-0b1d35cd5ca5 button');\n",
              "      quickchartButtonEl.style.display =\n",
              "        google.colab.kernel.accessAllowed ? 'block' : 'none';\n",
              "    })();\n",
              "  </script>\n",
              "</div>\n",
              "\n",
              "  <div id=\"id_0a666ca5-d91c-474d-b6bc-af707b60bf44\">\n",
              "    <style>\n",
              "      .colab-df-generate {\n",
              "        background-color: #E8F0FE;\n",
              "        border: none;\n",
              "        border-radius: 50%;\n",
              "        cursor: pointer;\n",
              "        display: none;\n",
              "        fill: #1967D2;\n",
              "        height: 32px;\n",
              "        padding: 0 0 0 0;\n",
              "        width: 32px;\n",
              "      }\n",
              "\n",
              "      .colab-df-generate:hover {\n",
              "        background-color: #E2EBFA;\n",
              "        box-shadow: 0px 1px 2px rgba(60, 64, 67, 0.3), 0px 1px 3px 1px rgba(60, 64, 67, 0.15);\n",
              "        fill: #174EA6;\n",
              "      }\n",
              "\n",
              "      [theme=dark] .colab-df-generate {\n",
              "        background-color: #3B4455;\n",
              "        fill: #D2E3FC;\n",
              "      }\n",
              "\n",
              "      [theme=dark] .colab-df-generate:hover {\n",
              "        background-color: #434B5C;\n",
              "        box-shadow: 0px 1px 3px 1px rgba(0, 0, 0, 0.15);\n",
              "        filter: drop-shadow(0px 1px 2px rgba(0, 0, 0, 0.3));\n",
              "        fill: #FFFFFF;\n",
              "      }\n",
              "    </style>\n",
              "    <button class=\"colab-df-generate\" onclick=\"generateWithVariable('neo')\"\n",
              "            title=\"Generate code using this dataframe.\"\n",
              "            style=\"display:none;\">\n",
              "\n",
              "  <svg xmlns=\"http://www.w3.org/2000/svg\" height=\"24px\"viewBox=\"0 0 24 24\"\n",
              "       width=\"24px\">\n",
              "    <path d=\"M7,19H8.4L18.45,9,17,7.55,7,17.6ZM5,21V16.75L18.45,3.32a2,2,0,0,1,2.83,0l1.4,1.43a1.91,1.91,0,0,1,.58,1.4,1.91,1.91,0,0,1-.58,1.4L9.25,21ZM18.45,9,17,7.55Zm-12,3A5.31,5.31,0,0,0,4.9,8.1,5.31,5.31,0,0,0,1,6.5,5.31,5.31,0,0,0,4.9,4.9,5.31,5.31,0,0,0,6.5,1,5.31,5.31,0,0,0,8.1,4.9,5.31,5.31,0,0,0,12,6.5,5.46,5.46,0,0,0,6.5,12Z\"/>\n",
              "  </svg>\n",
              "    </button>\n",
              "    <script>\n",
              "      (() => {\n",
              "      const buttonEl =\n",
              "        document.querySelector('#id_0a666ca5-d91c-474d-b6bc-af707b60bf44 button.colab-df-generate');\n",
              "      buttonEl.style.display =\n",
              "        google.colab.kernel.accessAllowed ? 'block' : 'none';\n",
              "\n",
              "      buttonEl.onclick = () => {\n",
              "        google.colab.notebook.generateWithVariable('neo');\n",
              "      }\n",
              "      })();\n",
              "    </script>\n",
              "  </div>\n",
              "\n",
              "    </div>\n",
              "  </div>\n"
            ],
            "application/vnd.google.colaboratory.intrinsic+json": {
              "type": "dataframe",
              "variable_name": "neo",
              "summary": "{\n  \"name\": \"neo\",\n  \"rows\": 62648,\n  \"fields\": [\n    {\n      \"column\": \"antigen\",\n      \"properties\": {\n        \"dtype\": \"category\",\n        \"num_unique_values\": 16324,\n        \"samples\": [\n          \"LEDDSQVDLA\",\n          \"LAHRTRNAL\",\n          \"YFIKHVLAF\"\n        ],\n        \"semantic_type\": \"\",\n        \"description\": \"\"\n      }\n    },\n    {\n      \"column\": \"allele_name\",\n      \"properties\": {\n        \"dtype\": \"category\",\n        \"num_unique_values\": 79,\n        \"samples\": [\n          \"HLA-B*58:01\",\n          \"HLA-A*11:01\",\n          \"HLA-A*26:01\"\n        ],\n        \"semantic_type\": \"\",\n        \"description\": \"\"\n      }\n    },\n    {\n      \"column\": \"full_seq\",\n      \"properties\": {\n        \"dtype\": \"category\",\n        \"num_unique_values\": 79,\n        \"samples\": [\n          \"MRVTAPRTVLLLLWGAVALTETWAGSHSMRYFYTAMSRPGRGEPRFIAVGYVDDTQFVRFDSDAASPRTEPRAPWIEQEGPEYWDGETRNMKASAQTYRENLRIALRYYNQSEAGSHIIQRMYGCDLGPDGRLLRGHDQSAYDGKDYIALNEDLSSWTAADTAAQITQRKWEAARVAEQLRAYLEGLCVEWLRRYLENGKETLQRADPPKTHVTHHPVSDHEATLRCWALGFYPAEITLTWQRDGEDQTQDTELVETRPAGDRTFQKWAAVVVPSGEEQRYTCHVQHEGLPKPLTLRWEPSSQSTIPIVGIVAGLAVLAVVVIGAVVATVMCRRKSSGGKGGSYSQAASSDSAQGSDVSLTA\",\n          \"MAVMAPRTLLLLLSGALALTQTWAGSHSMRYFYTSVSRPGRGEPRFIAVGYVDDTQFVRFDSDAASQRMEPRAPWIEQEGPEYWDQETRNVKAQSQTDRVDLGTLRGYYNQSEDGSHTIQIMYGCDVGPDGRFLRGYRQDAYDGKDYIALNEDLRSWTAADMAAQITKRKWEAAHAAEQQRAYLEGRCVEWLRRYLENGKETLQRTDPPKTHMTHHPISDHEATLRCWALGFYPAEITLTWQRDGEDQTQDTELVETRPAGDGTFQKWAAVVVPSGEEQRYTCHVQHEGLPKPLTLRWELSSQPTIPIVGIIAGLVLLGAVITGAVVAAVMWRRKSSDRKGGSYTQAASSDSAQGSDVSLTACKV\",\n          \"MAVMAPRTLVLLLSGALALTQTWAGSHSMRYFYTSVSRPGRGEPRFIAVGYVDDTQFVRFDSDAASQRMEPRAPWIEQEGPEYWDRNTRNVKAHSQTDRANLGTLRGYYNQSEDGSHTIQRMYGCDVGPDGRFLRGYQQDAYDGKDYIALNEDLRSWTAADMAAQITQRKWETAHEAEQWRAYLEGRCVEWLRRYLENGKETLQRTDAPKTHMTHHAVSDHEATLRCWALSFYPAEITLTWQRDGEDQTQDTELVETRPAGDGTFQKWASVVVPSGQEQRYTCHVQHEGLPKPLTLRWEPSSQPTIPIVGIIAGLVLFGAVIAGAVVAAVMWRRKSSDRKGGSYSQAASSDSAQGSDMSLTACKV\"\n        ],\n        \"semantic_type\": \"\",\n        \"description\": \"\"\n      }\n    },\n    {\n      \"column\": \"pseudo_seq\",\n      \"properties\": {\n        \"dtype\": \"category\",\n        \"num_unique_values\": 78,\n        \"samples\": [\n          \"YHTEYREICAKTDEDTLYLNYHDYTWAVLAYEWY\",\n          \"YYAMYQENVAQTDVDTLYIIYRDYTWAAQAYRWY\",\n          \"YYAMYREISTNTYESNLYLRYDSYTWAEWAYLWY\"\n        ],\n        \"semantic_type\": \"\",\n        \"description\": \"\"\n      }\n    },\n    {\n      \"column\": \"label\",\n      \"properties\": {\n        \"dtype\": \"number\",\n        \"std\": 0.43625659642271225,\n        \"min\": 0.0,\n        \"max\": 1.0,\n        \"num_unique_values\": 2,\n        \"samples\": [\n          0.0,\n          1.0\n        ],\n        \"semantic_type\": \"\",\n        \"description\": \"\"\n      }\n    }\n  ]\n}"
            }
          },
          "metadata": {},
          "execution_count": 3
        }
      ]
    },
    {
      "cell_type": "code",
      "source": [
        "neo['antigen'].apply(lambda x:len(x)).plot.hist()\n",
        "max_seq_epitopes = neo['antigen'].apply(lambda x:len(x)).max()"
      ],
      "metadata": {
        "colab": {
          "base_uri": "https://localhost:8080/",
          "height": 430
        },
        "id": "aFueQAWQbrwQ",
        "outputId": "0b6fee50-c0bc-49bf-dbec-2120a6adc182"
      },
      "execution_count": null,
      "outputs": [
        {
          "output_type": "display_data",
          "data": {
            "text/plain": [
              "<Figure size 640x480 with 1 Axes>"
            ],
            "image/png": "[encoded data removed]"
          },
          "metadata": {}
        }
      ]
    },
    {
      "cell_type": "code",
      "source": [
        "neo['full_seq'].apply(lambda x:len(x)).plot.hist()\n",
        "max_seq_full = neo['full_seq'].apply(lambda x:len(x)).max()"
      ],
      "metadata": {
        "colab": {
          "base_uri": "https://localhost:8080/",
          "height": 430
        },
        "id": "bf5fgPf0b_Xf",
        "outputId": "70cbb949-1976-4fa8-ce1e-129c89992728"
      },
      "execution_count": null,
      "outputs": [
        {
          "output_type": "display_data",
          "data": {
            "text/plain": [
              "<Figure size 640x480 with 1 Axes>"
            ],
            "image/png": "[encoded data removed]"
          },
          "metadata": {}
        }
      ]
    },
    {
      "cell_type": "code",
      "source": [
        "!pip install subword_nmt"
      ],
      "metadata": {
        "colab": {
          "base_uri": "https://localhost:8080/"
        },
        "id": "VQ3yGPDNcdOU",
        "outputId": "b86bcc9a-76ac-4953-c376-daaf5b656b5e"
      },
      "execution_count": null,
      "outputs": [
        {
          "output_type": "stream",
          "name": "stdout",
          "text": [
            "Collecting subword_nmt\n",
            "  Downloading subword_nmt-0.3.8-py3-none-any.whl (27 kB)\n",
            "Collecting mock (from subword_nmt)\n",
            "  Downloading mock-5.1.0-py3-none-any.whl (30 kB)\n",
            "Requirement already satisfied: tqdm in /usr/local/lib/python3.10/dist-packages (from subword_nmt) (4.66.4)\n",
            "Installing collected packages: mock, subword_nmt\n",
            "Successfully installed mock-5.1.0 subword_nmt-0.3.8\n"
          ]
        }
      ]
    },
    {
      "cell_type": "code",
      "source": [
        "from subword_nmt.apply_bpe import BPE"
      ],
      "metadata": {
        "id": "78IwPcSKchMd"
      },
      "execution_count": null,
      "outputs": []
    },
    {
      "cell_type": "code",
      "source": [
        "amino_char = ['?', 'A', 'C', 'B', 'E', 'D', 'G', 'F', 'I', 'H', 'K', 'M', 'L', 'O',\n",
        "       'N', 'Q', 'P', 'S', 'R', 'U', 'T', 'W', 'V', 'Y', 'X', 'Z']\n",
        "\n",
        "# protein, drug 원핫(one-hot) 인코더\n",
        "enc_protein = OneHotEncoder().fit(np.array(amino_char).reshape(-1, 1))"
      ],
      "metadata": {
        "id": "sNlEmgyicmX8"
      },
      "execution_count": null,
      "outputs": []
    },
    {
      "cell_type": "code",
      "source": [
        "def trans_protein(x, max_seq_protein):\n",
        "    temp = list(x.upper())\n",
        "    temp = [i if i in amino_char else '?' for i in temp]\n",
        "\n",
        "    if len(temp) < max_seq_protein:\n",
        "        temp += ['?'] * (max_seq_protein - len(temp))\n",
        "    else:\n",
        "        temp = temp[:max_seq_protein]\n",
        "\n",
        "    return temp"
      ],
      "metadata": {
        "id": "3SRqgn_Dcoal"
      },
      "execution_count": null,
      "outputs": []
    },
    {
      "cell_type": "code",
      "source": [
        "vocab_path = '/content/drive/MyDrive/FastCampus/Medical/Part 3/실습/protein_codes_uniprot_2000.txt'\n",
        "bpe_codes_protein = open(vocab_path)\n",
        "pbpe = BPE(bpe_codes_protein, merges=-1, separator='')\n",
        "sub_csv = pd.read_csv('/content/drive/MyDrive/FastCampus/Medical/Part 3/실습/subword_units_map_uniprot_2000.csv')"
      ],
      "metadata": {
        "id": "i0foMDJ5dAug"
      },
      "execution_count": null,
      "outputs": []
    },
    {
      "cell_type": "code",
      "source": [
        "full_seq = pd.Series(neo['full_seq'])[0]\n",
        "print(full_seq)\n",
        "print(pbpe.process_line(full_seq))"
      ],
      "metadata": {
        "colab": {
          "base_uri": "https://localhost:8080/"
        },
        "id": "NEcXB_vMdaOe",
        "outputId": "a6275019-c47c-4289-b422-b2e45e23470c"
      },
      "execution_count": null,
      "outputs": [
        {
          "output_type": "stream",
          "name": "stdout",
          "text": [
            "MAVMAPRTLLLLLSGALALTQTWAGSHSMRYFYTSVSRPGRGEPRFIAVGYVDDTQFVRFDSDAASQRMEPRAPWIEQEGPEYWDQETRNVKAQSQTDRVDLGTLRGYYNQSEDGSHTIQIMYGCDVGPDGRFLRGYRQDAYDGKDYIALNEDLRSWTAADMAAQITKRKWEAAHAAEQQRAYLEGRCVEWLRRYLENGKETLQRTDPPKTHMTHHPISDHEATLRCWALGFYPAEITLTWQRDGEDQTQDTELVETRPAGDGTFQKWAAVVVPSGEEQRYTCHVQHEGLPKPLTLRWELSSQPTIPIVGIIAGLVLLGAVITGAVVAAVMWRRKSSDRKGGSYTQAASSDSAQGSDVSLTACKV\n",
            "MAV MAP RT LL LLL SG ALAL TQ TW AGS HS MRY FY TS VS RPG RG EP RF I AVG Y VDD TQ FVR F DSD AAS QR ME PR AP WIE QEG PE Y WD QE TR NVK AQ SQ TD RV DLG TL RG YY NQ SE DGS HT IQ IM YG CD VG PDG RFL RG YR QD AY DG KD YI ALNE DL RS W TAA DM AAQ IT KR K WE AA H AAE QQ R AYL EG RC VE WL RR YLE NG KETL QR TD PP KT HM TH HP ISD HE ATL RC W ALG FYP AE ITL TW QR DG ED QT QD TEL VE TR PAG DG TF QK WAA VV VP SG EE QR YT CH VQ HE GL PK PLTL RW ELSS QP TIP IVG II AGL VLLG AV ITG AV VAA VM WRR KSS D RK GG SY TQ AASS DS AQG SD VSL TAC K V\n"
          ]
        }
      ]
    },
    {
      "cell_type": "code",
      "source": [
        "idx2word_p = sub_csv['index'].values\n",
        "word2idx_p = dict(zip(idx2word_p, range(0, len(idx2word_p))))"
      ],
      "metadata": {
        "id": "zcSsfPCLdkoS"
      },
      "execution_count": null,
      "outputs": []
    },
    {
      "cell_type": "code",
      "source": [
        "def hla2emb_encoder(x):\n",
        "    t1 = pbpe.process_line(x).split()\n",
        "    try:\n",
        "        i1 = np.asarray([word2idx_p[i] for i in t1])\n",
        "    except:\n",
        "        i1 = np.asarray([0])\n",
        "\n",
        "    l = len(i1)\n",
        "\n",
        "    if l < max_seq_full:\n",
        "        i = np.pad(i1, (0, max_seq_full - l), 'constant', constant_values=0)\n",
        "        input_mask = ([1] * l) + ([0] * (max_seq_full - l))\n",
        "    else:\n",
        "        i1 = i1[:max_seq_full]\n",
        "        input_mask = [1] * max_seq_full\n",
        "    return i, np.asarray(input_mask)"
      ],
      "metadata": {
        "id": "86kPafGLeQiE"
      },
      "execution_count": null,
      "outputs": []
    },
    {
      "cell_type": "code",
      "source": [
        "t1 = pbpe.process_line(full_seq).split()\n",
        "\n",
        "try:\n",
        "    i1 = np.asarray([word2idx_p[i] for i in t1])\n",
        "except:\n",
        "    i1 = np.asarray([0])\n",
        "\n",
        "i1"
      ],
      "metadata": {
        "colab": {
          "base_uri": "https://localhost:8080/"
        },
        "id": "vticcVcnfXRf",
        "outputId": "767f77f2-77b4-42ff-c77a-cae5ff19dc9d"
      },
      "execution_count": null,
      "outputs": [
        {
          "output_type": "execute_result",
          "data": {
            "text/plain": [
              "array([ 873, 1560,  159,   25,  194,   45, 1701,  172,  347,  482,  158,\n",
              "       2934,  204,   94,   64,  806,   78,  249,  153,   22,  326,   12,\n",
              "        789,  172, 1382,    3,  971,  381,  136,  137,  260,   83, 2360,\n",
              "        730,   65,   12,  331,  104,  135, 1307,   72,  276,  127,  200,\n",
              "        352,   35,   78,  250,  288,   88,  589,  297,  144,  293,  108,\n",
              "        303,   58, 1015,  786,   78,  257,  156,  114,   73,  112,  325,\n",
              "       3850,   36,  107,   23,  443,  360,  975,   79,  110,   15,  302,\n",
              "         26,   24,  332,   98,   18,  425,  146,  370,   54,  145,   61,\n",
              "        800,   81, 3239,  136,  127,  115,  116,  590,  215,  175,  835,\n",
              "        170,  274,  370,   23,  251, 2778,   43,  686,  347,  136,   73,\n",
              "        191,  205,  156,  666,   54,  135,  983,   73,  147,  196, 1940,\n",
              "         42,   90,   45,   34,  136,  272,  496,  120,  170,   29,  280,\n",
              "       3403,  372, 3357,  163, 1254,  558,  122,  218, 2673,   39,  696,\n",
              "         39,  299,  155, 2164,  659,   21,  168,   32,  296,  172, 3275,\n",
              "        106,  479,  165,  397, 2371,   15,    6])"
            ]
          },
          "metadata": {},
          "execution_count": 14
        }
      ]
    },
    {
      "cell_type": "code",
      "source": [
        "def create_fold(df, fold_seed, frac):\n",
        "    train_frac, val_frac, test_frac = frac\n",
        "\n",
        "    test = df.sample(frac=test_frac, random_state=fold_seed, replace=False)\n",
        "    train_val = df.drop(test.index)\n",
        "\n",
        "    val = train_val.sample(frac=val_frac / (train_frac + val_frac), random_state=fold_seed, replace=False)\n",
        "    train = train_val.drop(val.index)\n",
        "\n",
        "    return train, val, test"
      ],
      "metadata": {
        "id": "Wx8WEcYWfcoK"
      },
      "execution_count": null,
      "outputs": []
    },
    {
      "cell_type": "code",
      "source": [
        "def process_data(df, seed, frac):\n",
        "\n",
        "    AA = pd.Series(df['antigen'].unique()).apply(lambda x: trans_protein(x, max_seq_epitopes))\n",
        "    AA_dict = dict(zip(df['antigen'].unique(), AA.values))\n",
        "    df['antigen_preprocessed'] = [AA_dict[i] for i in df['antigen']]\n",
        "\n",
        "    HLA = pd.Series(df['full_seq'].unique()).apply(lambda x: hla2emb_encoder(x))\n",
        "    HLA_dict = dict(zip(df['full_seq'].unique(), HLA.values))\n",
        "    df['full_seq_preprocessed'] = [HLA_dict[i] for i in df['full_seq']]\n",
        "\n",
        "    train, val, test = create_fold(df, seed, frac)\n",
        "\n",
        "    return train, val, test"
      ],
      "metadata": {
        "id": "qG-pTraggLf7"
      },
      "execution_count": null,
      "outputs": []
    },
    {
      "cell_type": "code",
      "source": [
        "train, val, test = process_data(neo, 42, [0.7, 0.1, 0.2])"
      ],
      "metadata": {
        "id": "lKLqdQNbg7wS"
      },
      "execution_count": null,
      "outputs": []
    },
    {
      "cell_type": "code",
      "source": [
        "def protein_2_embed(x):\n",
        "    return enc_protein.transform(np.array(x).reshape(-1, 1)).toarray().T"
      ],
      "metadata": {
        "id": "sXcdAyt-hGSZ"
      },
      "execution_count": null,
      "outputs": []
    },
    {
      "cell_type": "code",
      "source": [
        "class data_preprocess_loader(Dataset):\n",
        "    def __init__(self, df):\n",
        "        self.df = df\n",
        "\n",
        "    def __len__(self):\n",
        "        return self.df.shape[0]\n",
        "\n",
        "    def __getitem__(self, idx):\n",
        "        v_e = self.df.iloc[idx]['antigen_preprocessed']\n",
        "        v_e = protein_2_embed(v_e)\n",
        "\n",
        "        v_f = self.df.iloc[idx]['full_seq_preprocessed']\n",
        "\n",
        "        y = self.df.iloc[idx]['label']\n",
        "\n",
        "        return v_e, v_f, y"
      ],
      "metadata": {
        "id": "9PgKYt3PhOgH"
      },
      "execution_count": null,
      "outputs": []
    },
    {
      "cell_type": "code",
      "source": [
        "train_dataset = data_preprocess_loader(train)\n",
        "val_dataset = data_preprocess_loader(val)\n",
        "test_dataset = data_preprocess_loader(test)"
      ],
      "metadata": {
        "id": "0LDftiUPhrWm"
      },
      "execution_count": null,
      "outputs": []
    },
    {
      "cell_type": "code",
      "source": [
        "for (v_e, v_f, y) in train_dataset:\n",
        "    print(v_e.shape, v_f[0].shape, v_f[1].shape, y)\n",
        "    break"
      ],
      "metadata": {
        "colab": {
          "base_uri": "https://localhost:8080/"
        },
        "id": "_ivsI0Hbh5IN",
        "outputId": "ae898004-c326-4e76-edc4-2562f917ce04"
      },
      "execution_count": null,
      "outputs": [
        {
          "output_type": "stream",
          "name": "stdout",
          "text": [
            "(26, 12) (366,) (366,) 1.0\n"
          ]
        }
      ]
    },
    {
      "cell_type": "code",
      "source": [
        "params = {'batch_size': 256,\n",
        "            'shuffle': True,\n",
        "            'num_workers': 1,\n",
        "            'drop_last': False}"
      ],
      "metadata": {
        "id": "u5n5lMtDiHqD"
      },
      "execution_count": null,
      "outputs": []
    },
    {
      "cell_type": "code",
      "source": [
        "train_generator = DataLoader(train_dataset, **params)\n",
        "val_generator = DataLoader(val_dataset, **params)\n",
        "test_generator = DataLoader(test_dataset, **params)"
      ],
      "metadata": {
        "id": "_useEXOciMzX"
      },
      "execution_count": null,
      "outputs": []
    },
    {
      "cell_type": "code",
      "source": [
        "for (v_e, v_f, y) in train_generator:\n",
        "    print(v_e.shape, v_f[0].shape, v_f[1].shape, y)\n",
        "    break"
      ],
      "metadata": {
        "colab": {
          "base_uri": "https://localhost:8080/"
        },
        "id": "wGxHqTTnibdg",
        "outputId": "5e45f44a-088f-4492-850f-83865f7b4697"
      },
      "execution_count": null,
      "outputs": [
        {
          "output_type": "stream",
          "name": "stdout",
          "text": [
            "torch.Size([256, 26, 12]) torch.Size([256, 366]) torch.Size([256, 366]) tensor([0., 1., 1., 0., 0., 0., 0., 1., 1., 0., 0., 0., 0., 1., 0., 0., 0., 0.,\n",
            "        0., 0., 1., 0., 1., 0., 0., 0., 1., 0., 0., 0., 0., 0., 0., 0., 0., 0.,\n",
            "        0., 0., 0., 0., 0., 1., 0., 0., 0., 1., 0., 1., 0., 0., 0., 0., 0., 0.,\n",
            "        0., 0., 0., 0., 1., 0., 0., 0., 0., 0., 0., 0., 1., 0., 0., 0., 0., 0.,\n",
            "        0., 1., 0., 1., 0., 1., 0., 0., 0., 0., 0., 0., 0., 0., 1., 0., 0., 0.,\n",
            "        1., 0., 0., 1., 0., 0., 0., 1., 0., 1., 0., 0., 0., 0., 1., 0., 0., 1.,\n",
            "        0., 0., 0., 0., 0., 0., 1., 1., 0., 1., 1., 0., 0., 0., 0., 1., 0., 0.,\n",
            "        0., 0., 0., 0., 1., 1., 1., 0., 0., 0., 0., 0., 0., 1., 0., 0., 0., 0.,\n",
            "        0., 0., 1., 0., 0., 0., 1., 0., 0., 1., 0., 1., 0., 0., 1., 0., 1., 0.,\n",
            "        0., 1., 0., 0., 0., 1., 0., 0., 0., 0., 1., 1., 0., 0., 0., 0., 0., 0.,\n",
            "        1., 1., 0., 1., 0., 0., 0., 1., 0., 0., 1., 0., 0., 1., 0., 1., 1., 0.,\n",
            "        0., 0., 1., 1., 0., 0., 1., 0., 1., 0., 1., 0., 0., 0., 0., 0., 1., 0.,\n",
            "        0., 1., 0., 0., 0., 1., 0., 1., 1., 0., 0., 1., 1., 0., 0., 0., 0., 0.,\n",
            "        0., 0., 0., 0., 1., 1., 0., 0., 1., 1., 0., 0., 0., 1., 0., 0., 0., 1.,\n",
            "        1., 0., 0., 0.], dtype=torch.float64)\n"
          ]
        }
      ]
    },
    {
      "cell_type": "code",
      "source": [
        "config = {\n",
        "    # epitope 설정 (CNN)\n",
        "    \"cnn_epitope_filters\" : [32,64,96],\n",
        "    \"cnn_epitope_kernels\" : [3,3,3],\n",
        "    'hidden_dim_epitope': 128,\n",
        "    'max_seq_epitope' : max_seq_epitopes,\n",
        "\n",
        "    # HLA (tranformer)\n",
        "    'input_dim_hla': 4114, # subword vocab 크기\n",
        "    'hidden_dim_hla': 64, # transformer embedding 크기\n",
        "    'transformer_attention_probs_dropout': 0.1, # self-attention 연산 과정에서 적용되는 dropout\n",
        "    'transformer_dropout_rate': 0.1, # word embedding - layer norm 이 후 적용되는 dropout\n",
        "    'transformer_emb_size': 64, # word embedding 후 크기\n",
        "    'transformer_hidden_dropout_rate': 0.1, # MLP에서 적용되는 dropout\n",
        "    'transformer_intermediate_size': 256, # self-attention 이 후 MLP\n",
        "    'transformer_n_layer': 2, # transformer 인코더 개수\n",
        "    'transformer_num_attention_heads': 4, # self attention 시 head 개수\n",
        "\n",
        "    # classifier\n",
        "    'cls_hidden_dims': [1024, 1024, 512],\n",
        "    }"
      ],
      "metadata": {
        "id": "4Wgn6nupiwVw"
      },
      "execution_count": null,
      "outputs": []
    },
    {
      "cell_type": "code",
      "source": [
        "class CNN(nn.Sequential):\n",
        "    def __init__(self, encoding, **config):\n",
        "        super(CNN, self).__init__()\n",
        "\n",
        "        in_ch = [26] + config[f'cnn_{encoding}_filters']\n",
        "        kernels = config[f'cnn_{encoding}_kernels']\n",
        "        layer_size = len(config[f'cnn_{encoding}_filters'])\n",
        "\n",
        "        self.conv = nn.ModuleList([nn.Conv1d(in_ch[i], in_ch[i+1], kernels[i]) for i in range(layer_size)]).double()\n",
        "\n",
        "        max_seq = config[f'max_seq_{encoding}']\n",
        "        n_size_d = self._get_conv_output((26, max_seq))\n",
        "        self.fc1 = nn.Linear(n_size_d, config[f'hidden_dim_{encoding}'])\n",
        "\n",
        "    def _get_conv_output(self, shape):\n",
        "        batch_size = 1\n",
        "        input = Variable(torch.rand(batch_size, *shape))\n",
        "        output_feat = self._forward_features(input.double())\n",
        "        n_size = output_feat.data.view(batch_size, -1).size(1)\n",
        "\n",
        "        return n_size\n",
        "\n",
        "    def _forward_features(self, x):\n",
        "        for l in self.conv:\n",
        "            x = F.relu(l(x))\n",
        "        x = F.adaptive_max_pool1d(x, output_size=1)\n",
        "        return x\n",
        "\n",
        "    def forward(self, x):\n",
        "        x = self._forward_features(x.double())\n",
        "        x = x.view(x.size(0), -1)\n",
        "        x = self.fc1(x.float())\n",
        "        return x"
      ],
      "metadata": {
        "id": "5sO0HpXHi-bF"
      },
      "execution_count": null,
      "outputs": []
    },
    {
      "cell_type": "code",
      "source": [
        "import copy\n",
        "import math\n",
        "import collections"
      ],
      "metadata": {
        "id": "741J-BzsklQ7"
      },
      "execution_count": null,
      "outputs": []
    },
    {
      "cell_type": "code",
      "source": [
        "class LayerNorm(nn.Module):\n",
        "    \"\"\"word embedding 이 후 적용되는 layer normalization\n",
        "    \"\"\"\n",
        "    def __init__(self, hidden_size, variance_epsilon=1e-12):\n",
        "        super(LayerNorm, self).__init__()\n",
        "        self.weight = nn.Parameter(torch.ones(hidden_size))\n",
        "        self.bias = nn.Parameter(torch.zeros(hidden_size))\n",
        "        self.variance_epsilon = variance_epsilon\n",
        "\n",
        "    def forward(self, x):\n",
        "        u = x.mean(-1, keepdim=True)\n",
        "        s = (x - u).pow(2).mean(-1, keepdim=True)\n",
        "        x = (x - u) / torch.sqrt(s + self.variance_epsilon)\n",
        "        return self.weight * x + self.bias"
      ],
      "metadata": {
        "id": "oDDPN-ickq4i"
      },
      "execution_count": null,
      "outputs": []
    },
    {
      "cell_type": "code",
      "source": [
        "class Embeddings(nn.Module):\n",
        "    \"\"\"word embedding\n",
        "    \"\"\"\n",
        "    def __init__(self, vocab_size, hidden_size, max_position_size, dropout_rate):\n",
        "        super(Embeddings, self).__init__()\n",
        "        self.word_embeddings = nn.Embedding(vocab_size, hidden_size)\n",
        "        self.position_embeddings = nn.Embedding(max_position_size, hidden_size)\n",
        "\n",
        "        self.LayerNorm = LayerNorm(hidden_size)\n",
        "        self.dropout = nn.Dropout(dropout_rate)\n",
        "\n",
        "    def forward(self, input_ids):\n",
        "        seq_length = input_ids.size(1)\n",
        "        position_ids = torch.arange(seq_length, dtype=torch.long, device=input_ids.device)\n",
        "        position_ids = position_ids.unsqueeze(0).expand_as(input_ids)\n",
        "\n",
        "        words_embeddings = self.word_embeddings(input_ids)\n",
        "        position_embeddings = self.position_embeddings(position_ids)\n",
        "\n",
        "        embeddings = words_embeddings + position_embeddings\n",
        "        embeddings = self.LayerNorm(embeddings)\n",
        "        embeddings = self.dropout(embeddings)\n",
        "        return embeddings"
      ],
      "metadata": {
        "id": "I8WQrCb0lBAr"
      },
      "execution_count": null,
      "outputs": []
    },
    {
      "cell_type": "code",
      "source": [
        "class SelfAttention(nn.Module):\n",
        "    \"\"\"self-attention\"\"\"\n",
        "    def __init__(self, hidden_size, num_attention_heads, attention_probs_dropout_prob):\n",
        "        super(SelfAttention, self).__init__()\n",
        "        if hidden_size % num_attention_heads != 0:\n",
        "            raise ValueError(\n",
        "                \"The hidden size (%d) is not a multiple of the number of attention \"\n",
        "                \"heads (%d)\" % (hidden_size, num_attention_heads))\n",
        "\n",
        "        self.num_attention_heads = num_attention_heads\n",
        "        self.attention_head_size = int(hidden_size / num_attention_heads)\n",
        "        self.all_head_size = hidden_size\n",
        "\n",
        "        self.query = nn.Linear(hidden_size, self.all_head_size)\n",
        "        self.key = nn.Linear(hidden_size, self.all_head_size)\n",
        "        self.value = nn.Linear(hidden_size, self.all_head_size)\n",
        "\n",
        "        self.dropout = nn.Dropout(attention_probs_dropout_prob)\n",
        "\n",
        "    def transpose_for_scores(self, x):\n",
        "        new_x_shape = x.size()[:-1] + (self.num_attention_heads, self.attention_head_size)\n",
        "        x = x.view(*new_x_shape)\n",
        "        return x.permute(0, 2, 1, 3)\n",
        "\n",
        "    def forward(self, hidden_states, attention_mask):\n",
        "        # 모든 head의 query, key, value matrix 한번에 생성하기\n",
        "        mixed_query_layer = self.query(hidden_states)\n",
        "        mixed_key_layer = self.key(hidden_states)\n",
        "        mixed_value_layer = self.value(hidden_states)\n",
        "\n",
        "        # 헤드 별로 qurey, key, value matrix 나누기\n",
        "        query_layer = self.transpose_for_scores(mixed_query_layer)\n",
        "        key_layer = self.transpose_for_scores(mixed_key_layer)\n",
        "        value_layer = self.transpose_for_scores(mixed_value_layer)\n",
        "\n",
        "        # query, key matrix 곱으로 attention scores 구하기\n",
        "        attention_scores = torch.matmul(query_layer, key_layer.transpose(-1, -2))\n",
        "        # attention_head_size로 scaling\n",
        "        attention_scores = attention_scores / math.sqrt(self.attention_head_size)\n",
        "        # attention mask 값 더하기 (masking 할 부분에 매우 작은 음수 값 더해주기)\n",
        "        attention_scores = attention_scores + attention_mask\n",
        "\n",
        "        # softmax를 이용하여 attention score [0,1]의 값으로 만들기\n",
        "        attention_probs = nn.Softmax(dim=-1)(attention_scores)\n",
        "\n",
        "        # self attention 이 후 dropout\n",
        "        attention_probs = self.dropout(attention_probs)\n",
        "\n",
        "        # [0,1]의 attention score로 각 토큰 value의 가중합 구하기\n",
        "        context_layer = torch.matmul(attention_probs, value_layer)\n",
        "\n",
        "        context_layer = context_layer.permute(0, 2, 1, 3).contiguous() # (batch_size x vocab_size x num_attention_heads x attention_head_size)\n",
        "        new_context_layer_shape = context_layer.size()[:-2] + (self.all_head_size,) # (batch_size x vocab_size x all_head_size)\n",
        "        context_layer = context_layer.view(*new_context_layer_shape)\n",
        "\n",
        "        return context_layer"
      ],
      "metadata": {
        "id": "fHsnHEfylyNF"
      },
      "execution_count": null,
      "outputs": []
    },
    {
      "cell_type": "code",
      "source": [
        "class SelfOutput(nn.Module):\n",
        "    def __init__(self, hidden_size, hidden_dropout_prob):\n",
        "        super(SelfOutput, self).__init__()\n",
        "        self.dense = nn.Linear(hidden_size, hidden_size)\n",
        "        self.LayerNorm = LayerNorm(hidden_size)\n",
        "        self.dropout = nn.Dropout(hidden_dropout_prob)\n",
        "\n",
        "    def forward(self, hidden_states, input_tensor):\n",
        "        hidden_states = self.dense(hidden_states)\n",
        "        hidden_states = self.dropout(hidden_states)\n",
        "        hidden_states = self.LayerNorm(hidden_states + input_tensor)\n",
        "        return hidden_states"
      ],
      "metadata": {
        "id": "iV4v1QrUugSP"
      },
      "execution_count": null,
      "outputs": []
    },
    {
      "cell_type": "code",
      "source": [
        "class Attention(nn.Module):\n",
        "    \"\"\"Self attention + MLP\n",
        "    \"\"\"\n",
        "    def __init__(self, hidden_size, num_attention_heads, attention_probs_dropout_prob, hidden_dropout_prob):\n",
        "        super(Attention, self).__init__()\n",
        "        self.self_attention = SelfAttention(hidden_size, num_attention_heads, attention_probs_dropout_prob)\n",
        "        self.self_output = SelfOutput(hidden_size, hidden_dropout_prob)\n",
        "\n",
        "    def forward(self, input_tensor, attention_mask):\n",
        "        self_output = self.self_attention(input_tensor, attention_mask)\n",
        "        attention_output = self.self_output(self_output, input_tensor)\n",
        "        return attention_output"
      ],
      "metadata": {
        "id": "vexm1PT-u8IT"
      },
      "execution_count": null,
      "outputs": []
    },
    {
      "cell_type": "code",
      "source": [
        "class Intermediate(nn.Module):\n",
        "    def __init__(self, hidden_size, intermediate_size):\n",
        "        super(Intermediate, self).__init__()\n",
        "        self.dense = nn.Linear(hidden_size, intermediate_size)\n",
        "\n",
        "    def forward(self, hidden_states):\n",
        "        hidden_states = self.dense(hidden_states)\n",
        "        hidden_states = F.relu(hidden_states)\n",
        "        return hidden_states"
      ],
      "metadata": {
        "id": "J0QvTdL2vXtl"
      },
      "execution_count": null,
      "outputs": []
    },
    {
      "cell_type": "code",
      "source": [
        "class Output(nn.Module):\n",
        "    def __init__(self, intermediate_size, hidden_size, hidden_dropout_prob):\n",
        "        super(Output, self).__init__()\n",
        "        self.dense = nn.Linear(intermediate_size, hidden_size)\n",
        "        self.LayerNorm = LayerNorm(hidden_size)\n",
        "        self.dropout = nn.Dropout(hidden_dropout_prob)\n",
        "\n",
        "    def forward(self, hidden_states, input_tensor):\n",
        "        hidden_states = self.dense(hidden_states)\n",
        "        hidden_states = self.dropout(hidden_states)\n",
        "        hidden_states = self.LayerNorm(hidden_states + input_tensor)\n",
        "        return hidden_states"
      ],
      "metadata": {
        "id": "vcY1a2kqvmGF"
      },
      "execution_count": null,
      "outputs": []
    },
    {
      "cell_type": "code",
      "source": [
        "class Encoder(nn.Module):\n",
        "    def __init__(self, hidden_size, intermediate_size, num_attention_heads, attention_probs_dropout_prob, hidden_dropout_prob):\n",
        "        super(Encoder, self).__init__()\n",
        "        self.attention = Attention(hidden_size, num_attention_heads, attention_probs_dropout_prob, hidden_dropout_prob)\n",
        "        self.intermediate = Intermediate(hidden_size, intermediate_size)\n",
        "        self.output = Output(intermediate_size, hidden_size, hidden_dropout_prob)\n",
        "\n",
        "    def forward(self, hidden_states, attention_mask):\n",
        "        attention_output = self.attention(hidden_states, attention_mask)\n",
        "        intermediate_output = self.intermediate(attention_output)\n",
        "        layer_output = self.output(intermediate_output, attention_output)\n",
        "        return layer_output"
      ],
      "metadata": {
        "id": "GbTIt_N2vzlX"
      },
      "execution_count": null,
      "outputs": []
    },
    {
      "cell_type": "code",
      "source": [
        "class Encoder_MultipleLayers(nn.Module):\n",
        "    def __init__(self, n_layer, hidden_size, intermediate_size, num_attention_heads, attention_probs_dropout_prob, hidden_dropout_prob):\n",
        "        super(Encoder_MultipleLayers, self).__init__()\n",
        "        layer = Encoder(hidden_size, intermediate_size, num_attention_heads, attention_probs_dropout_prob, hidden_dropout_prob)\n",
        "        self.layer = nn.ModuleList([copy.deepcopy(layer) for _ in range(n_layer)])\n",
        "\n",
        "    def forward(self, hidden_states, attention_mask, output_all_encoded_layers=True):\n",
        "        all_encoder_layers = []\n",
        "        for layer_module in self.layer:\n",
        "            hidden_states = layer_module(hidden_states, attention_mask)\n",
        "            #if output_all_encoded_layers:\n",
        "            #    all_encoder_layers.append(hidden_states)\n",
        "        #if not output_all_encoded_layers:\n",
        "        #    all_encoder_layers.append(hidden_states)\n",
        "        return hidden_states"
      ],
      "metadata": {
        "id": "OXsDSr8Mwy-I"
      },
      "execution_count": null,
      "outputs": []
    },
    {
      "cell_type": "code",
      "source": [
        "class transformer(nn.Sequential):\n",
        "    def __init__(self, encoding, **config):\n",
        "        super(transformer, self).__init__()\n",
        "\n",
        "        if encoding == 'hla':\n",
        "            self.emb = Embeddings(config['input_dim_hla'], config['transformer_emb_size'], 366, config['transformer_dropout_rate'])\n",
        "            self.encoder = Encoder_MultipleLayers(config['transformer_n_layer'],\n",
        "                                                  config['transformer_emb_size'],\n",
        "                                                  config['transformer_intermediate_size'],\n",
        "                                                  config['transformer_num_attention_heads'],\n",
        "                                                  config['transformer_attention_probs_dropout'],\n",
        "                                                  config['transformer_hidden_dropout_rate'])\n",
        "\n",
        "    def forward(self, v):\n",
        "        e = v[0].long().to(device) # subword encoding 된 input\n",
        "        e_mask = v[1].long().to(device) # masking table (0 또는 1 값만 가짐)\n",
        "        ex_e_mask = e_mask.unsqueeze(1).unsqueeze(2)\n",
        "        ex_e_mask = (1.0 - ex_e_mask) * -10000.0 # (if 0 -> 매우 작은 음수 값, else -> 0 )\n",
        "\n",
        "        emb = self.emb(e) # word embedding - postional encodding - layer normalization 진행\n",
        "        encoded_layers = self.encoder(emb.float(), ex_e_mask.float()) # self-attention block + MLP embedding layer\n",
        "        return encoded_layers[:,0]"
      ],
      "metadata": {
        "id": "sty84AP-xn_W"
      },
      "execution_count": null,
      "outputs": []
    },
    {
      "cell_type": "code",
      "source": [
        "class Classifier(nn.Sequential):\n",
        "    def __init__(self, model_epitope, model_hla, **config):\n",
        "        super(Classifier, self).__init__()\n",
        "\n",
        "        self.input_dim_epitope = config['hidden_dim_epitope']\n",
        "        self.input_dim_hla = config['hidden_dim_hla']\n",
        "        self.model_epitope = model_epitope\n",
        "        self.model_hla = model_hla\n",
        "\n",
        "        self.dropout = nn.Dropout(0.1)\n",
        "\n",
        "        self.hidden_dims = config['cls_hidden_dims']\n",
        "        layer_size = len(self.hidden_dims)\n",
        "        dims = [self.input_dim_epitope + self.input_dim_hla] + self.hidden_dims + [1]\n",
        "        self.predictor = nn.ModuleList([nn.Linear(dims[i], dims[i+1]) for i in range(layer_size)])\n",
        "\n",
        "    def forward(self, v_e, v_f):\n",
        "        v_E = self.model_epitope(v_e)\n",
        "        v_H = self.model_hla(v_f)\n",
        "\n",
        "        v_f = torch.cat([v_E, v_H], dim=1)\n",
        "\n",
        "        for i, l in enumerate(self.predictor):\n",
        "            if i == (len(self.predictor) - 1):\n",
        "                v_f = l(v_f)\n",
        "            else:\n",
        "                v_f = self.dropout(F.relu(l(v_f)))\n",
        "\n",
        "        return v_f\n",
        "\n"
      ],
      "metadata": {
        "id": "Iztax-g6zHGg"
      },
      "execution_count": null,
      "outputs": []
    },
    {
      "cell_type": "code",
      "source": [
        "model_epitope = CNN('epitope', **config)"
      ],
      "metadata": {
        "id": "bCW2AKL60KMj"
      },
      "execution_count": null,
      "outputs": []
    },
    {
      "cell_type": "code",
      "source": [
        "model_hla = transformer('hla', **config)"
      ],
      "metadata": {
        "id": "jOxYnVF31-rZ"
      },
      "execution_count": null,
      "outputs": []
    },
    {
      "cell_type": "code",
      "source": [
        "model = Classifier(model_epitope, model_hla, **config)"
      ],
      "metadata": {
        "id": "iN1xSwvd2CYG"
      },
      "execution_count": null,
      "outputs": []
    },
    {
      "cell_type": "code",
      "source": [
        "model = model.to(device)"
      ],
      "metadata": {
        "id": "BX8OXR0F2Ezc"
      },
      "execution_count": null,
      "outputs": []
    },
    {
      "cell_type": "code",
      "source": [
        "from prettytable import PrettyTable\n",
        "from time import time\n",
        "\n",
        "from sklearn.metrics import mean_squared_error, roc_auc_score, average_precision_score, f1_score, log_loss"
      ],
      "metadata": {
        "id": "SXSushoj3Lgt"
      },
      "execution_count": null,
      "outputs": []
    },
    {
      "cell_type": "code",
      "source": [
        "learning_rate = 0.001\n",
        "weight_decay  = 0.00001\n",
        "train_epoch   = 20"
      ],
      "metadata": {
        "id": "3udO6HO73Y5-"
      },
      "execution_count": null,
      "outputs": []
    },
    {
      "cell_type": "code",
      "source": [
        "opt = torch.optim.Adam(model.parameters(), lr=learning_rate, weight_decay=weight_decay)\n",
        "\n",
        "loss_fn = nn.BCELoss()\n",
        "\n",
        "sigmoid = nn.Sigmoid()"
      ],
      "metadata": {
        "id": "3BErMN-c3QQl"
      },
      "execution_count": null,
      "outputs": []
    },
    {
      "cell_type": "code",
      "source": [
        "def get_metrics(y_label, y_pred):\n",
        "    auc = roc_auc_score(y_label, y_pred)\n",
        "    ap = average_precision_score(y_label, y_pred)\n",
        "    f1 = f1_score(y_label, y_pred)\n",
        "    loss = log_loss(y_label, y_pred)\n",
        "\n",
        "    return auc, ap, f1, loss"
      ],
      "metadata": {
        "id": "IP9hM6Om3i9z"
      },
      "execution_count": null,
      "outputs": []
    },
    {
      "cell_type": "code",
      "source": [
        "loss_history = []\n",
        "\n",
        "max_auc = 0\n",
        "model_max = copy.deepcopy(model)\n",
        "\n",
        "valid_metric_record = [] # 각 metrics 저장\n",
        "valid_metric_header = [\"# epoch\", \"AUROC\", \"AUPRC\", \"F1\", \"log_loss\"]\n",
        "\n",
        "table = PrettyTable(valid_metric_header)\n",
        "\n",
        "float2str = lambda x:'%0,4f'%x"
      ],
      "metadata": {
        "id": "GPe2sLyP4KYM"
      },
      "execution_count": null,
      "outputs": []
    },
    {
      "cell_type": "code",
      "source": [
        "loss_history = []\n",
        "\n",
        "max_auc = 0 # 최고 AUC 저장\n",
        "model_max = copy.deepcopy(model) # 최고 AUC 저장\n",
        "\n",
        "float2str = lambda x:'%0.4f'%x  # float 자료 형 str로 만들기 (소숫점 4자리까지)\n",
        "\n",
        "print('--- Go for Training ---')\n",
        "t_start = time()\n",
        "\n",
        "\n",
        "for epoch in range(train_epoch):\n",
        "    # Training\n",
        "    model.train()\n",
        "\n",
        "    for i, (v_d, v_p, label) in enumerate(train_generator):\n",
        "        v_p = tuple(map(lambda x: x.float().to(device), v_p))\n",
        "        v_d = v_d.float().to(device)\n",
        "\n",
        "        # 순전파 (forward-pass)\n",
        "        score = model(v_d, v_p)\n",
        "        label = Variable(torch.from_numpy(np.array(label)).float()).to(device) # label numpy -> torch tensor\n",
        "\n",
        "        # 모델 아웃풋 score -> probability\n",
        "        n = torch.squeeze(sigmoid(score), 0)\n",
        "\n",
        "        label = label.view(-1, 1).repeat(1, n.shape[1])\n",
        "\n",
        "        # 손실 값(loss) 계산\n",
        "        loss = loss_fn(n, label)\n",
        "        loss_history.append(loss.item()) # loss 기록\n",
        "\n",
        "        opt.zero_grad() # gradient 초기화\n",
        "        loss.backward() # back propagation\n",
        "        opt.step() # parameter 업데이트\n",
        "\n",
        "    # Validation\n",
        "    model.eval()\n",
        "    with torch.set_grad_enabled(False):\n",
        "        y_pred = []\n",
        "        y_label = []\n",
        "\n",
        "        for i, (v_d, v_p, label) in enumerate(val_generator):\n",
        "            v_p = tuple(map(lambda x: x.float().to(device), v_p))\n",
        "            v_d = v_d.float().to(device)\n",
        "\n",
        "            # 순전파 (forward-pass)\n",
        "            score = model(v_d, v_p)\n",
        "\n",
        "            logits = torch.squeeze(sigmoid(score)).detach().cpu().numpy() # 예측 확률\n",
        "            label_ids = label.to('cpu').numpy() # 참 값\n",
        "\n",
        "            y_label.extend(label_ids.flatten().tolist())  # Use extend instead of +\n",
        "            y_pred.extend(np.mean(logits, axis=1).tolist())\n",
        "\n",
        "    # 예측 값\n",
        "    outputs = np.asarray([1 if i else 0 for i in (np.asarray(y_pred) >= 0.5)])\n",
        "\n",
        "    # model evaluation\n",
        "    auc, auprc, f1, lloss = get_metrics(y_label, outputs)\n",
        "\n",
        "    lst = [\"epoch \" + str(epoch)] + list(map(float2str,[auc, auprc, f1, lloss]))\n",
        "    valid_metric_record.append(lst)\n",
        "\n",
        "    if auc > max_auc:\n",
        "        # 이전 epoch 보다 AUC 좋아지면 model_max, max_auc 갱신\n",
        "        model_max = copy.deepcopy(model)\n",
        "        max_auc = auc\n",
        "\n",
        "    print('Validation at Epoch '+ str(epoch + 1) + ', AUROC: ' + str(auc)[:7] + \\\n",
        "            ' , AUPRC: ' + str(auprc)[:7] + ' , F1: '+str(f1)[:7] + ' , Cross-entropy Loss: ' + \\\n",
        "            str(lloss)[:7])\n",
        "\n",
        "\n",
        "    table.add_row(lst)"
      ],
      "metadata": {
        "colab": {
          "base_uri": "https://localhost:8080/"
        },
        "id": "Vlw35kLy405g",
        "outputId": "037166cc-8e88-4237-ff31-62501db4d4ab"
      },
      "execution_count": null,
      "outputs": [
        {
          "output_type": "stream",
          "name": "stdout",
          "text": [
            "--- Go for Training ---\n",
            "Validation at Epoch 1, AUROC: 0.86480 , AUPRC: 0.69918 , F1: 0.80338 , Cross-entropy Loss: 3.60724\n",
            "Validation at Epoch 2, AUROC: 0.85723 , AUPRC: 0.69184 , F1: 0.79567 , Cross-entropy Loss: 3.69929\n",
            "Validation at Epoch 3, AUROC: 0.87452 , AUPRC: 0.65605 , F1: 0.78513 , Cross-entropy Loss: 4.42419\n",
            "Validation at Epoch 4, AUROC: 0.86804 , AUPRC: 0.71259 , F1: 0.81141 , Cross-entropy Loss: 3.42314\n",
            "Validation at Epoch 5, AUROC: 0.87783 , AUPRC: 0.70336 , F1: 0.81197 , Cross-entropy Loss: 3.57847\n",
            "Validation at Epoch 6, AUROC: 0.86106 , AUPRC: 0.71103 , F1: 0.80659 , Cross-entropy Loss: 3.44039\n",
            "Validation at Epoch 7, AUROC: 0.87593 , AUPRC: 0.71496 , F1: 0.81674 , Cross-entropy Loss: 3.40012\n",
            "Validation at Epoch 8, AUROC: 0.86067 , AUPRC: 0.69309 , F1: 0.79823 , Cross-entropy Loss: 3.68778\n",
            "Validation at Epoch 9, AUROC: 0.84961 , AUPRC: 0.70730 , F1: 0.79746 , Cross-entropy Loss: 3.49217\n",
            "Validation at Epoch 10, AUROC: 0.87955 , AUPRC: 0.69873 , F1: 0.81037 , Cross-entropy Loss: 3.65902\n",
            "Validation at Epoch 11, AUROC: 0.87000 , AUPRC: 0.71566 , F1: 0.81392 , Cross-entropy Loss: 3.38286\n",
            "Validation at Epoch 12, AUROC: 0.86262 , AUPRC: 0.70761 , F1: 0.80601 , Cross-entropy Loss: 3.48642\n",
            "Validation at Epoch 13, AUROC: 0.87728 , AUPRC: 0.71197 , F1: 0.81597 , Cross-entropy Loss: 3.44615\n",
            "Validation at Epoch 14, AUROC: 0.87063 , AUPRC: 0.70512 , F1: 0.80931 , Cross-entropy Loss: 3.53245\n",
            "Validation at Epoch 15, AUROC: 0.86356 , AUPRC: 0.71636 , F1: 0.81047 , Cross-entropy Loss: 3.37136\n",
            "Validation at Epoch 16, AUROC: 0.87616 , AUPRC: 0.71063 , F1: 0.81476 , Cross-entropy Loss: 3.46341\n",
            "Validation at Epoch 17, AUROC: 0.88114 , AUPRC: 0.72000 , F1: 0.82175 , Cross-entropy Loss: 3.33684\n",
            "Validation at Epoch 18, AUROC: 0.87662 , AUPRC: 0.69765 , F1: 0.80853 , Cross-entropy Loss: 3.66477\n",
            "Validation at Epoch 19, AUROC: 0.87946 , AUPRC: 0.71581 , F1: 0.81890 , Cross-entropy Loss: 3.39437\n",
            "Validation at Epoch 20, AUROC: 0.87016 , AUPRC: 0.71316 , F1: 0.81285 , Cross-entropy Loss: 3.41738\n"
          ]
        }
      ]
    },
    {
      "cell_type": "code",
      "source": [
        "model = model_max\n",
        "model.eval()\n",
        "\n",
        "y_pred_test = []\n",
        "y_label_test  = []\n",
        "y_outputs_test  = []\n",
        "\n",
        "for i, (v_d, v_p, label) in enumerate(test_generator):\n",
        "    v_p = tuple(map(lambda x: x.float().to(device), v_p))\n",
        "    v_d = v_d.float().to(device)\n",
        "\n",
        "    score = model(v_d, v_p)\n",
        "\n",
        "    logits = torch.squeeze(sigmoid(score)).detach().cpu().numpy() # 예측 확률\n",
        "    label_ids = label.to('cpu').numpy() # 참 값\n",
        "\n",
        "    y_label_test.extend(label_ids.flatten().tolist())  # Use extend instead of +\n",
        "    y_pred_test.extend(np.mean(logits, axis=1).tolist())\n",
        "\n",
        "# Calculate outputs outside the loop to avoid repeated extension\n",
        "outputs = np.asarray([1 if i else 0 for i in (np.asarray(y_pred_test) >= 0.5)]) # Use y_pred_test here\n",
        "y_outputs_test.extend(outputs)\n",
        "\n",
        "auc, auprc, f1, lloss = get_metrics(y_label_test, y_outputs_test)\n",
        "\n",
        "print('Test result - ' + ', AUROC: ' + str(auc)[:7] + ' , AUPRC: ' + str(auprc)[:7] + ' , F1: '+str(f1)[:7] + ' , Cross-entropy Loss: ' + str(lloss)[:7])"
      ],
      "metadata": {
        "colab": {
          "base_uri": "https://localhost:8080/"
        },
        "id": "lKOWjW_FbrIz",
        "outputId": "3403d03f-9fd5-4623-d9f3-216237168f86"
      },
      "execution_count": null,
      "outputs": [
        {
          "output_type": "stream",
          "name": "stdout",
          "text": [
            "Test result - , AUROC: 0.87708 , AUPRC: 0.71201 , F1: 0.81591 , Cross-entropy Loss: 3.37999\n"
          ]
        }
      ]
    },
    {
      "cell_type": "code",
      "source": [
        "def roc_curve(y_pred, y_label, figure_file, method_name):\n",
        "\t'''ROC 커브 그리기\n",
        "\n",
        "\tArgs:\n",
        "\t\ty_pred: 예측 확률 값이 담긴 리스트 [0,1]\n",
        "\t\ty_label: 참 값 (0/1)\n",
        "\t'''\n",
        "\n",
        "\timport matplotlib.pyplot as plt\n",
        "\tfrom sklearn.metrics import roc_curve, auc\n",
        "\tfrom sklearn.metrics import roc_auc_score\n",
        "\n",
        "\ty_label = np.array(y_label)\n",
        "\ty_pred = np.array(y_pred)\n",
        "\n",
        "\tfpr = dict()\n",
        "\ttpr = dict()\n",
        "\troc_auc = dict()\n",
        "\n",
        "\tfpr[0], tpr[0], _ = roc_curve(y_label, y_pred) # FPR / TPR 구하기\n",
        "\troc_auc[0] = auc(fpr[0], tpr[0]) # AUC 구하기\n",
        "\n",
        "\t# ROC 커브 그리기\n",
        "\tlw = 2\n",
        "\tplt.plot(fpr[0], tpr[0],\n",
        "         lw=lw, label= method_name + ' (area = %0.2f)' % roc_auc[0])\n",
        "\tplt.plot([0, 1], [0, 1], color='navy', lw=lw, linestyle='--')\n",
        "\tplt.xlim([0.0, 1.0])\n",
        "\tplt.ylim([0.0, 1.05])\n",
        "\tfontsize = 14\n",
        "\tplt.xlabel('False Positive Rate', fontsize = fontsize)\n",
        "\tplt.ylabel('True Positive Rate', fontsize = fontsize)\n",
        "\tplt.title('Receiver Operating Characteristic Curve')\n",
        "\tplt.legend(loc=\"lower right\")\n",
        "\tplt.savefig(figure_file)\n",
        "\n",
        "\n",
        "def prauc_curve(y_pred, y_label, figure_file, method_name):\n",
        "\t'''Precision-Recall 커브 그리기\n",
        "\n",
        "\tArgs:\n",
        "\t\ty_pred: 예측 확률 값이 담긴 리스트 [0,1]\n",
        "\t\ty_label: 참 값 (0/1)\n",
        "\t'''\n",
        "\timport matplotlib.pyplot as plt\n",
        "\tfrom sklearn.metrics import precision_recall_curve, average_precision_score\n",
        "\tfrom sklearn.metrics import f1_score\n",
        "\tfrom sklearn.metrics import auc\n",
        "\n",
        "\tlr_precision, lr_recall, _ = precision_recall_curve(y_label, y_pred) # precision, recall 구하기\n",
        "\n",
        "\t# 커브 그리기\n",
        "\tplt.plot(lr_recall, lr_precision, lw = 2, label= method_name + ' (area = %0.2f)' % average_precision_score(y_label, y_pred))\n",
        "\tfontsize = 14\n",
        "\tplt.xlabel('Recall', fontsize = fontsize)\n",
        "\tplt.ylabel('Precision', fontsize = fontsize)\n",
        "\tplt.title('Precision Recall Curve')\n",
        "\tplt.legend()\n",
        "\tplt.savefig(figure_file)"
      ],
      "metadata": {
        "id": "y3_bm4S5fFew"
      },
      "execution_count": null,
      "outputs": []
    },
    {
      "cell_type": "code",
      "source": [
        "roc_curve(y_pred_test, y_label_test, \"NeoAntigen.png\", \"NeoAntigen\")"
      ],
      "metadata": {
        "colab": {
          "base_uri": "https://localhost:8080/",
          "height": 477
        },
        "id": "63vYs99afK2T",
        "outputId": "45f69e34-af0e-45a2-b6d6-96265ca5b724"
      },
      "execution_count": null,
      "outputs": [
        {
          "output_type": "display_data",
          "data": {
            "text/plain": [
              "<Figure size 640x480 with 1 Axes>"
            ],
            "image/png": "[encoded data removed]"
          },
          "metadata": {}
        }
      ]
    },
    {
      "cell_type": "code",
      "source": [
        "prauc_curve(y_pred_test, y_label_test, \"NeoAntigen.png\", \"NeoAntigen\")"
      ],
      "metadata": {
        "id": "EYT1Df7KfRh6",
        "outputId": "c3a721c2-fa8c-4c58-f653-bb2578c6404f",
        "colab": {
          "base_uri": "https://localhost:8080/",
          "height": 477
        }
      },
      "execution_count": null,
      "outputs": [
        {
          "output_type": "display_data",
          "data": {
            "text/plain": [
              "<Figure size 640x480 with 1 Axes>"
            ],
            "image/png": "[encoded data removed]"
          },
          "metadata": {}
        }
      ]
    }
  ]
}