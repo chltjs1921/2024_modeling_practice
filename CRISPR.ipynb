{
  "nbformat": 4,
  "nbformat_minor": 0,
  "metadata": {
    "colab": {
      "provenance": [],
      "gpuType": "T4",
      "authorship_tag": "ABX9TyMudmUlfN7rGM0GmjdNO2U6",
      "include_colab_link": true
    },
    "kernelspec": {
      "name": "python3",
      "display_name": "Python 3"
    },
    "language_info": {
      "name": "python"
    },
    "accelerator": "GPU"
  },
  "cells": [
    {
      "cell_type": "markdown",
      "metadata": {
        "id": "view-in-github",
        "colab_type": "text"
      },
      "source": [
        "<a href=\"https://colab.research.google.com/github/chltjs1921/2024_modeling_practice/blob/main/CRISPR.ipynb\" target=\"_parent\"><img src=\"https://colab.research.google.com/assets/colab-badge.svg\" alt=\"Open In Colab\"/></a>"
      ]
    },
    {
      "cell_type": "code",
      "execution_count": null,
      "metadata": {
        "colab": {
          "base_uri": "https://localhost:8080/"
        },
        "id": "T7np_wZSn8g2",
        "outputId": "619f8cde-019a-496f-ae14-483a6d2ccae0"
      },
      "outputs": [
        {
          "output_type": "stream",
          "name": "stdout",
          "text": [
            "Requirement already satisfied: PyTDC in /usr/local/lib/python3.10/dist-packages (1.0.1)\n",
            "Requirement already satisfied: biopython<2.0,>=1.78 in /usr/local/lib/python3.10/dist-packages (from PyTDC) (1.84)\n",
            "Requirement already satisfied: dataclasses<1.0,>=0.6 in /usr/local/lib/python3.10/dist-packages (from PyTDC) (0.6)\n",
            "Requirement already satisfied: fuzzywuzzy<1.0,>=0.18.0 in /usr/local/lib/python3.10/dist-packages (from PyTDC) (0.18.0)\n",
            "Requirement already satisfied: huggingface-hub<1.0,>=0.20.3 in /usr/local/lib/python3.10/dist-packages (from PyTDC) (0.23.5)\n",
            "Requirement already satisfied: mygene<4.0.0,>=3.2.2 in /usr/local/lib/python3.10/dist-packages (from PyTDC) (3.2.2)\n",
            "Requirement already satisfied: numpy<2.0.0,>=1.26.4 in /usr/local/lib/python3.10/dist-packages (from PyTDC) (1.26.4)\n",
            "Requirement already satisfied: openpyxl<4.0.0,>=3.0.10 in /usr/local/lib/python3.10/dist-packages (from PyTDC) (3.1.5)\n",
            "Requirement already satisfied: pandas<3.0.0,>=2.1.4 in /usr/local/lib/python3.10/dist-packages (from PyTDC) (2.2.2)\n",
            "Requirement already satisfied: requests<3.0.0,>=2.31.0 in /usr/local/lib/python3.10/dist-packages (from PyTDC) (2.31.0)\n",
            "Requirement already satisfied: scikit-learn==1.2.2 in /usr/local/lib/python3.10/dist-packages (from PyTDC) (1.2.2)\n",
            "Requirement already satisfied: seaborn<1.0.0,>=0.12.2 in /usr/local/lib/python3.10/dist-packages (from PyTDC) (0.13.1)\n",
            "Requirement already satisfied: tqdm<5.0.0,>=4.65.0 in /usr/local/lib/python3.10/dist-packages (from PyTDC) (4.66.4)\n",
            "Requirement already satisfied: cellxgene-census<2.0.0,>=1.10.2 in /usr/local/lib/python3.10/dist-packages (from PyTDC) (1.15.0)\n",
            "Requirement already satisfied: gget<1.0.0,>=0.28.4 in /usr/local/lib/python3.10/dist-packages (from PyTDC) (0.28.6)\n",
            "Requirement already satisfied: pydantic<3.0.0,>=2.6.3 in /usr/local/lib/python3.10/dist-packages (from PyTDC) (2.8.2)\n",
            "Requirement already satisfied: rdkit<2024.3.1,>=2023.9.5 in /usr/local/lib/python3.10/dist-packages (from PyTDC) (2023.9.6)\n",
            "Requirement already satisfied: tiledbsoma<2.0.0,>=1.7.2 in /usr/local/lib/python3.10/dist-packages (from PyTDC) (1.11.4)\n",
            "Requirement already satisfied: yapf<1.0.0,>=0.40.2 in /usr/local/lib/python3.10/dist-packages (from PyTDC) (0.40.2)\n",
            "Requirement already satisfied: scipy>=1.3.2 in /usr/local/lib/python3.10/dist-packages (from scikit-learn==1.2.2->PyTDC) (1.11.4)\n",
            "Requirement already satisfied: joblib>=1.1.1 in /usr/local/lib/python3.10/dist-packages (from scikit-learn==1.2.2->PyTDC) (1.4.2)\n",
            "Requirement already satisfied: threadpoolctl>=2.0.0 in /usr/local/lib/python3.10/dist-packages (from scikit-learn==1.2.2->PyTDC) (3.5.0)\n",
            "Requirement already satisfied: anndata in /usr/local/lib/python3.10/dist-packages (from cellxgene-census<2.0.0,>=1.10.2->PyTDC) (0.10.8)\n",
            "Requirement already satisfied: typing-extensions in /usr/local/lib/python3.10/dist-packages (from cellxgene-census<2.0.0,>=1.10.2->PyTDC) (4.12.2)\n",
            "Requirement already satisfied: s3fs>=2021.06.1 in /usr/local/lib/python3.10/dist-packages (from cellxgene-census<2.0.0,>=1.10.2->PyTDC) (2024.6.1)\n",
            "Requirement already satisfied: ipython in /usr/local/lib/python3.10/dist-packages (from gget<1.0.0,>=0.28.4->PyTDC) (7.34.0)\n",
            "Requirement already satisfied: matplotlib in /usr/local/lib/python3.10/dist-packages (from gget<1.0.0,>=0.28.4->PyTDC) (3.7.1)\n",
            "Requirement already satisfied: mysql-connector-python<=8.0.29,>=8.0.5 in /usr/local/lib/python3.10/dist-packages (from gget<1.0.0,>=0.28.4->PyTDC) (8.0.29)\n",
            "Requirement already satisfied: beautifulsoup4>=4.10.0 in /usr/local/lib/python3.10/dist-packages (from gget<1.0.0,>=0.28.4->PyTDC) (4.12.3)\n",
            "Requirement already satisfied: ipywidgets in /usr/local/lib/python3.10/dist-packages (from gget<1.0.0,>=0.28.4->PyTDC) (7.7.1)\n",
            "Requirement already satisfied: lxml in /usr/local/lib/python3.10/dist-packages (from gget<1.0.0,>=0.28.4->PyTDC) (4.9.4)\n",
            "Requirement already satisfied: filelock in /usr/local/lib/python3.10/dist-packages (from huggingface-hub<1.0,>=0.20.3->PyTDC) (3.15.4)\n",
            "Requirement already satisfied: fsspec>=2023.5.0 in /usr/local/lib/python3.10/dist-packages (from huggingface-hub<1.0,>=0.20.3->PyTDC) (2024.6.1)\n",
            "Requirement already satisfied: packaging>=20.9 in /usr/local/lib/python3.10/dist-packages (from huggingface-hub<1.0,>=0.20.3->PyTDC) (24.1)\n",
            "Requirement already satisfied: pyyaml>=5.1 in /usr/local/lib/python3.10/dist-packages (from huggingface-hub<1.0,>=0.20.3->PyTDC) (6.0.1)\n",
            "Requirement already satisfied: biothings-client>=0.2.6 in /usr/local/lib/python3.10/dist-packages (from mygene<4.0.0,>=3.2.2->PyTDC) (0.3.1)\n",
            "Requirement already satisfied: et-xmlfile in /usr/local/lib/python3.10/dist-packages (from openpyxl<4.0.0,>=3.0.10->PyTDC) (1.1.0)\n",
            "Requirement already satisfied: python-dateutil>=2.8.2 in /usr/local/lib/python3.10/dist-packages (from pandas<3.0.0,>=2.1.4->PyTDC) (2.8.2)\n",
            "Requirement already satisfied: pytz>=2020.1 in /usr/local/lib/python3.10/dist-packages (from pandas<3.0.0,>=2.1.4->PyTDC) (2023.4)\n",
            "Requirement already satisfied: tzdata>=2022.7 in /usr/local/lib/python3.10/dist-packages (from pandas<3.0.0,>=2.1.4->PyTDC) (2024.1)\n",
            "Requirement already satisfied: annotated-types>=0.4.0 in /usr/local/lib/python3.10/dist-packages (from pydantic<3.0.0,>=2.6.3->PyTDC) (0.7.0)\n",
            "Requirement already satisfied: pydantic-core==2.20.1 in /usr/local/lib/python3.10/dist-packages (from pydantic<3.0.0,>=2.6.3->PyTDC) (2.20.1)\n",
            "Requirement already satisfied: Pillow in /usr/local/lib/python3.10/dist-packages (from rdkit<2024.3.1,>=2023.9.5->PyTDC) (9.4.0)\n",
            "Requirement already satisfied: charset-normalizer<4,>=2 in /usr/local/lib/python3.10/dist-packages (from requests<3.0.0,>=2.31.0->PyTDC) (3.3.2)\n",
            "Requirement already satisfied: idna<4,>=2.5 in /usr/local/lib/python3.10/dist-packages (from requests<3.0.0,>=2.31.0->PyTDC) (3.7)\n",
            "Requirement already satisfied: urllib3<3,>=1.21.1 in /usr/local/lib/python3.10/dist-packages (from requests<3.0.0,>=2.31.0->PyTDC) (2.0.7)\n",
            "Requirement already satisfied: certifi>=2017.4.17 in /usr/local/lib/python3.10/dist-packages (from requests<3.0.0,>=2.31.0->PyTDC) (2024.7.4)\n",
            "Requirement already satisfied: attrs>=22.2 in /usr/local/lib/python3.10/dist-packages (from tiledbsoma<2.0.0,>=1.7.2->PyTDC) (23.2.0)\n",
            "Requirement already satisfied: numba>=0.58.0 in /usr/local/lib/python3.10/dist-packages (from tiledbsoma<2.0.0,>=1.7.2->PyTDC) (0.58.1)\n",
            "Requirement already satisfied: pyarrow-hotfix in /usr/local/lib/python3.10/dist-packages (from tiledbsoma<2.0.0,>=1.7.2->PyTDC) (0.6)\n",
            "Requirement already satisfied: scanpy>=1.9.2 in /usr/local/lib/python3.10/dist-packages (from tiledbsoma<2.0.0,>=1.7.2->PyTDC) (1.10.2)\n",
            "Requirement already satisfied: somacore==1.0.11 in /usr/local/lib/python3.10/dist-packages (from tiledbsoma<2.0.0,>=1.7.2->PyTDC) (1.0.11)\n",
            "Requirement already satisfied: tiledb~=0.29.0 in /usr/local/lib/python3.10/dist-packages (from tiledbsoma<2.0.0,>=1.7.2->PyTDC) (0.29.1)\n",
            "Requirement already satisfied: pyarrow>=9.0.0 in /usr/local/lib/python3.10/dist-packages (from tiledbsoma<2.0.0,>=1.7.2->PyTDC) (14.0.2)\n",
            "Requirement already satisfied: importlib-metadata>=6.6.0 in /usr/local/lib/python3.10/dist-packages (from yapf<1.0.0,>=0.40.2->PyTDC) (8.0.0)\n",
            "Requirement already satisfied: platformdirs>=3.5.1 in /usr/local/lib/python3.10/dist-packages (from yapf<1.0.0,>=0.40.2->PyTDC) (4.2.2)\n",
            "Requirement already satisfied: tomli>=2.0.1 in /usr/local/lib/python3.10/dist-packages (from yapf<1.0.0,>=0.40.2->PyTDC) (2.0.1)\n",
            "Requirement already satisfied: array-api-compat!=1.5,>1.4 in /usr/local/lib/python3.10/dist-packages (from anndata->cellxgene-census<2.0.0,>=1.10.2->PyTDC) (1.7.1)\n",
            "Requirement already satisfied: exceptiongroup in /usr/local/lib/python3.10/dist-packages (from anndata->cellxgene-census<2.0.0,>=1.10.2->PyTDC) (1.2.2)\n",
            "Requirement already satisfied: h5py>=3.1 in /usr/local/lib/python3.10/dist-packages (from anndata->cellxgene-census<2.0.0,>=1.10.2->PyTDC) (3.9.0)\n",
            "Requirement already satisfied: natsort in /usr/local/lib/python3.10/dist-packages (from anndata->cellxgene-census<2.0.0,>=1.10.2->PyTDC) (8.4.0)\n",
            "Requirement already satisfied: soupsieve>1.2 in /usr/local/lib/python3.10/dist-packages (from beautifulsoup4>=4.10.0->gget<1.0.0,>=0.28.4->PyTDC) (2.5)\n",
            "Requirement already satisfied: zipp>=0.5 in /usr/local/lib/python3.10/dist-packages (from importlib-metadata>=6.6.0->yapf<1.0.0,>=0.40.2->PyTDC) (3.19.2)\n",
            "Requirement already satisfied: contourpy>=1.0.1 in /usr/local/lib/python3.10/dist-packages (from matplotlib->gget<1.0.0,>=0.28.4->PyTDC) (1.2.1)\n",
            "Requirement already satisfied: cycler>=0.10 in /usr/local/lib/python3.10/dist-packages (from matplotlib->gget<1.0.0,>=0.28.4->PyTDC) (0.12.1)\n",
            "Requirement already satisfied: fonttools>=4.22.0 in /usr/local/lib/python3.10/dist-packages (from matplotlib->gget<1.0.0,>=0.28.4->PyTDC) (4.53.1)\n",
            "Requirement already satisfied: kiwisolver>=1.0.1 in /usr/local/lib/python3.10/dist-packages (from matplotlib->gget<1.0.0,>=0.28.4->PyTDC) (1.4.5)\n",
            "Requirement already satisfied: pyparsing>=2.3.1 in /usr/local/lib/python3.10/dist-packages (from matplotlib->gget<1.0.0,>=0.28.4->PyTDC) (3.1.2)\n",
            "Requirement already satisfied: protobuf>=3.0.0 in /usr/local/lib/python3.10/dist-packages (from mysql-connector-python<=8.0.29,>=8.0.5->gget<1.0.0,>=0.28.4->PyTDC) (3.20.3)\n",
            "Requirement already satisfied: llvmlite<0.42,>=0.41.0dev0 in /usr/local/lib/python3.10/dist-packages (from numba>=0.58.0->tiledbsoma<2.0.0,>=1.7.2->PyTDC) (0.41.1)\n",
            "Requirement already satisfied: six>=1.5 in /usr/local/lib/python3.10/dist-packages (from python-dateutil>=2.8.2->pandas<3.0.0,>=2.1.4->PyTDC) (1.16.0)\n",
            "Requirement already satisfied: aiobotocore<3.0.0,>=2.5.4 in /usr/local/lib/python3.10/dist-packages (from s3fs>=2021.06.1->cellxgene-census<2.0.0,>=1.10.2->PyTDC) (2.13.1)\n",
            "Requirement already satisfied: aiohttp!=4.0.0a0,!=4.0.0a1 in /usr/local/lib/python3.10/dist-packages (from s3fs>=2021.06.1->cellxgene-census<2.0.0,>=1.10.2->PyTDC) (3.9.5)\n",
            "Requirement already satisfied: legacy-api-wrap>=1.4 in /usr/local/lib/python3.10/dist-packages (from scanpy>=1.9.2->tiledbsoma<2.0.0,>=1.7.2->PyTDC) (1.4)\n",
            "Requirement already satisfied: networkx>=2.7 in /usr/local/lib/python3.10/dist-packages (from scanpy>=1.9.2->tiledbsoma<2.0.0,>=1.7.2->PyTDC) (3.3)\n",
            "Requirement already satisfied: patsy in /usr/local/lib/python3.10/dist-packages (from scanpy>=1.9.2->tiledbsoma<2.0.0,>=1.7.2->PyTDC) (0.5.6)\n",
            "Requirement already satisfied: pynndescent>=0.5 in /usr/local/lib/python3.10/dist-packages (from scanpy>=1.9.2->tiledbsoma<2.0.0,>=1.7.2->PyTDC) (0.5.13)\n",
            "Requirement already satisfied: session-info in /usr/local/lib/python3.10/dist-packages (from scanpy>=1.9.2->tiledbsoma<2.0.0,>=1.7.2->PyTDC) (1.0.0)\n",
            "Requirement already satisfied: statsmodels>=0.13 in /usr/local/lib/python3.10/dist-packages (from scanpy>=1.9.2->tiledbsoma<2.0.0,>=1.7.2->PyTDC) (0.14.2)\n",
            "Requirement already satisfied: umap-learn!=0.5.0,>=0.5 in /usr/local/lib/python3.10/dist-packages (from scanpy>=1.9.2->tiledbsoma<2.0.0,>=1.7.2->PyTDC) (0.5.6)\n",
            "Requirement already satisfied: setuptools>=18.5 in /usr/local/lib/python3.10/dist-packages (from ipython->gget<1.0.0,>=0.28.4->PyTDC) (67.7.2)\n",
            "Requirement already satisfied: jedi>=0.16 in /usr/local/lib/python3.10/dist-packages (from ipython->gget<1.0.0,>=0.28.4->PyTDC) (0.19.1)\n",
            "Requirement already satisfied: decorator in /usr/local/lib/python3.10/dist-packages (from ipython->gget<1.0.0,>=0.28.4->PyTDC) (4.4.2)\n",
            "Requirement already satisfied: pickleshare in /usr/local/lib/python3.10/dist-packages (from ipython->gget<1.0.0,>=0.28.4->PyTDC) (0.7.5)\n",
            "Requirement already satisfied: traitlets>=4.2 in /usr/local/lib/python3.10/dist-packages (from ipython->gget<1.0.0,>=0.28.4->PyTDC) (5.7.1)\n",
            "Requirement already satisfied: prompt-toolkit!=3.0.0,!=3.0.1,<3.1.0,>=2.0.0 in /usr/local/lib/python3.10/dist-packages (from ipython->gget<1.0.0,>=0.28.4->PyTDC) (3.0.47)\n",
            "Requirement already satisfied: pygments in /usr/local/lib/python3.10/dist-packages (from ipython->gget<1.0.0,>=0.28.4->PyTDC) (2.16.1)\n",
            "Requirement already satisfied: backcall in /usr/local/lib/python3.10/dist-packages (from ipython->gget<1.0.0,>=0.28.4->PyTDC) (0.2.0)\n",
            "Requirement already satisfied: matplotlib-inline in /usr/local/lib/python3.10/dist-packages (from ipython->gget<1.0.0,>=0.28.4->PyTDC) (0.1.7)\n",
            "Requirement already satisfied: pexpect>4.3 in /usr/local/lib/python3.10/dist-packages (from ipython->gget<1.0.0,>=0.28.4->PyTDC) (4.9.0)\n",
            "Requirement already satisfied: ipykernel>=4.5.1 in /usr/local/lib/python3.10/dist-packages (from ipywidgets->gget<1.0.0,>=0.28.4->PyTDC) (5.5.6)\n",
            "Requirement already satisfied: ipython-genutils~=0.2.0 in /usr/local/lib/python3.10/dist-packages (from ipywidgets->gget<1.0.0,>=0.28.4->PyTDC) (0.2.0)\n",
            "Requirement already satisfied: widgetsnbextension~=3.6.0 in /usr/local/lib/python3.10/dist-packages (from ipywidgets->gget<1.0.0,>=0.28.4->PyTDC) (3.6.7)\n",
            "Requirement already satisfied: jupyterlab-widgets>=1.0.0 in /usr/local/lib/python3.10/dist-packages (from ipywidgets->gget<1.0.0,>=0.28.4->PyTDC) (3.0.11)\n",
            "Requirement already satisfied: botocore<1.34.132,>=1.34.70 in /usr/local/lib/python3.10/dist-packages (from aiobotocore<3.0.0,>=2.5.4->s3fs>=2021.06.1->cellxgene-census<2.0.0,>=1.10.2->PyTDC) (1.34.131)\n",
            "Requirement already satisfied: wrapt<2.0.0,>=1.10.10 in /usr/local/lib/python3.10/dist-packages (from aiobotocore<3.0.0,>=2.5.4->s3fs>=2021.06.1->cellxgene-census<2.0.0,>=1.10.2->PyTDC) (1.14.1)\n",
            "Requirement already satisfied: aioitertools<1.0.0,>=0.5.1 in /usr/local/lib/python3.10/dist-packages (from aiobotocore<3.0.0,>=2.5.4->s3fs>=2021.06.1->cellxgene-census<2.0.0,>=1.10.2->PyTDC) (0.11.0)\n",
            "Requirement already satisfied: aiosignal>=1.1.2 in /usr/local/lib/python3.10/dist-packages (from aiohttp!=4.0.0a0,!=4.0.0a1->s3fs>=2021.06.1->cellxgene-census<2.0.0,>=1.10.2->PyTDC) (1.3.1)\n",
            "Requirement already satisfied: frozenlist>=1.1.1 in /usr/local/lib/python3.10/dist-packages (from aiohttp!=4.0.0a0,!=4.0.0a1->s3fs>=2021.06.1->cellxgene-census<2.0.0,>=1.10.2->PyTDC) (1.4.1)\n",
            "Requirement already satisfied: multidict<7.0,>=4.5 in /usr/local/lib/python3.10/dist-packages (from aiohttp!=4.0.0a0,!=4.0.0a1->s3fs>=2021.06.1->cellxgene-census<2.0.0,>=1.10.2->PyTDC) (6.0.5)\n",
            "Requirement already satisfied: yarl<2.0,>=1.0 in /usr/local/lib/python3.10/dist-packages (from aiohttp!=4.0.0a0,!=4.0.0a1->s3fs>=2021.06.1->cellxgene-census<2.0.0,>=1.10.2->PyTDC) (1.9.4)\n",
            "Requirement already satisfied: async-timeout<5.0,>=4.0 in /usr/local/lib/python3.10/dist-packages (from aiohttp!=4.0.0a0,!=4.0.0a1->s3fs>=2021.06.1->cellxgene-census<2.0.0,>=1.10.2->PyTDC) (4.0.3)\n",
            "Requirement already satisfied: jupyter-client in /usr/local/lib/python3.10/dist-packages (from ipykernel>=4.5.1->ipywidgets->gget<1.0.0,>=0.28.4->PyTDC) (6.1.12)\n",
            "Requirement already satisfied: tornado>=4.2 in /usr/local/lib/python3.10/dist-packages (from ipykernel>=4.5.1->ipywidgets->gget<1.0.0,>=0.28.4->PyTDC) (6.3.3)\n",
            "Requirement already satisfied: parso<0.9.0,>=0.8.3 in /usr/local/lib/python3.10/dist-packages (from jedi>=0.16->ipython->gget<1.0.0,>=0.28.4->PyTDC) (0.8.4)\n",
            "Requirement already satisfied: ptyprocess>=0.5 in /usr/local/lib/python3.10/dist-packages (from pexpect>4.3->ipython->gget<1.0.0,>=0.28.4->PyTDC) (0.7.0)\n",
            "Requirement already satisfied: wcwidth in /usr/local/lib/python3.10/dist-packages (from prompt-toolkit!=3.0.0,!=3.0.1,<3.1.0,>=2.0.0->ipython->gget<1.0.0,>=0.28.4->PyTDC) (0.2.13)\n",
            "Requirement already satisfied: notebook>=4.4.1 in /usr/local/lib/python3.10/dist-packages (from widgetsnbextension~=3.6.0->ipywidgets->gget<1.0.0,>=0.28.4->PyTDC) (6.5.5)\n",
            "Requirement already satisfied: stdlib-list in /usr/local/lib/python3.10/dist-packages (from session-info->scanpy>=1.9.2->tiledbsoma<2.0.0,>=1.7.2->PyTDC) (0.10.0)\n",
            "Requirement already satisfied: jmespath<2.0.0,>=0.7.1 in /usr/local/lib/python3.10/dist-packages (from botocore<1.34.132,>=1.34.70->aiobotocore<3.0.0,>=2.5.4->s3fs>=2021.06.1->cellxgene-census<2.0.0,>=1.10.2->PyTDC) (1.0.1)\n",
            "Requirement already satisfied: jinja2 in /usr/local/lib/python3.10/dist-packages (from notebook>=4.4.1->widgetsnbextension~=3.6.0->ipywidgets->gget<1.0.0,>=0.28.4->PyTDC) (3.1.4)\n",
            "Requirement already satisfied: pyzmq<25,>=17 in /usr/local/lib/python3.10/dist-packages (from notebook>=4.4.1->widgetsnbextension~=3.6.0->ipywidgets->gget<1.0.0,>=0.28.4->PyTDC) (24.0.1)\n",
            "Requirement already satisfied: argon2-cffi in /usr/local/lib/python3.10/dist-packages (from notebook>=4.4.1->widgetsnbextension~=3.6.0->ipywidgets->gget<1.0.0,>=0.28.4->PyTDC) (23.1.0)\n",
            "Requirement already satisfied: jupyter-core>=4.6.1 in /usr/local/lib/python3.10/dist-packages (from notebook>=4.4.1->widgetsnbextension~=3.6.0->ipywidgets->gget<1.0.0,>=0.28.4->PyTDC) (5.7.2)\n",
            "Requirement already satisfied: nbformat in /usr/local/lib/python3.10/dist-packages (from notebook>=4.4.1->widgetsnbextension~=3.6.0->ipywidgets->gget<1.0.0,>=0.28.4->PyTDC) (5.10.4)\n",
            "Requirement already satisfied: nbconvert>=5 in /usr/local/lib/python3.10/dist-packages (from notebook>=4.4.1->widgetsnbextension~=3.6.0->ipywidgets->gget<1.0.0,>=0.28.4->PyTDC) (6.5.4)\n",
            "Requirement already satisfied: nest-asyncio>=1.5 in /usr/local/lib/python3.10/dist-packages (from notebook>=4.4.1->widgetsnbextension~=3.6.0->ipywidgets->gget<1.0.0,>=0.28.4->PyTDC) (1.6.0)\n",
            "Requirement already satisfied: Send2Trash>=1.8.0 in /usr/local/lib/python3.10/dist-packages (from notebook>=4.4.1->widgetsnbextension~=3.6.0->ipywidgets->gget<1.0.0,>=0.28.4->PyTDC) (1.8.3)\n",
            "Requirement already satisfied: terminado>=0.8.3 in /usr/local/lib/python3.10/dist-packages (from notebook>=4.4.1->widgetsnbextension~=3.6.0->ipywidgets->gget<1.0.0,>=0.28.4->PyTDC) (0.18.1)\n",
            "Requirement already satisfied: prometheus-client in /usr/local/lib/python3.10/dist-packages (from notebook>=4.4.1->widgetsnbextension~=3.6.0->ipywidgets->gget<1.0.0,>=0.28.4->PyTDC) (0.20.0)\n",
            "Requirement already satisfied: nbclassic>=0.4.7 in /usr/local/lib/python3.10/dist-packages (from notebook>=4.4.1->widgetsnbextension~=3.6.0->ipywidgets->gget<1.0.0,>=0.28.4->PyTDC) (1.1.0)\n",
            "Requirement already satisfied: notebook-shim>=0.2.3 in /usr/local/lib/python3.10/dist-packages (from nbclassic>=0.4.7->notebook>=4.4.1->widgetsnbextension~=3.6.0->ipywidgets->gget<1.0.0,>=0.28.4->PyTDC) (0.2.4)\n",
            "Requirement already satisfied: bleach in /usr/local/lib/python3.10/dist-packages (from nbconvert>=5->notebook>=4.4.1->widgetsnbextension~=3.6.0->ipywidgets->gget<1.0.0,>=0.28.4->PyTDC) (6.1.0)\n",
            "Requirement already satisfied: defusedxml in /usr/local/lib/python3.10/dist-packages (from nbconvert>=5->notebook>=4.4.1->widgetsnbextension~=3.6.0->ipywidgets->gget<1.0.0,>=0.28.4->PyTDC) (0.7.1)\n",
            "Requirement already satisfied: entrypoints>=0.2.2 in /usr/local/lib/python3.10/dist-packages (from nbconvert>=5->notebook>=4.4.1->widgetsnbextension~=3.6.0->ipywidgets->gget<1.0.0,>=0.28.4->PyTDC) (0.4)\n",
            "Requirement already satisfied: jupyterlab-pygments in /usr/local/lib/python3.10/dist-packages (from nbconvert>=5->notebook>=4.4.1->widgetsnbextension~=3.6.0->ipywidgets->gget<1.0.0,>=0.28.4->PyTDC) (0.3.0)\n",
            "Requirement already satisfied: MarkupSafe>=2.0 in /usr/local/lib/python3.10/dist-packages (from nbconvert>=5->notebook>=4.4.1->widgetsnbextension~=3.6.0->ipywidgets->gget<1.0.0,>=0.28.4->PyTDC) (2.1.5)\n",
            "Requirement already satisfied: mistune<2,>=0.8.1 in /usr/local/lib/python3.10/dist-packages (from nbconvert>=5->notebook>=4.4.1->widgetsnbextension~=3.6.0->ipywidgets->gget<1.0.0,>=0.28.4->PyTDC) (0.8.4)\n",
            "Requirement already satisfied: nbclient>=0.5.0 in /usr/local/lib/python3.10/dist-packages (from nbconvert>=5->notebook>=4.4.1->widgetsnbextension~=3.6.0->ipywidgets->gget<1.0.0,>=0.28.4->PyTDC) (0.10.0)\n",
            "Requirement already satisfied: pandocfilters>=1.4.1 in /usr/local/lib/python3.10/dist-packages (from nbconvert>=5->notebook>=4.4.1->widgetsnbextension~=3.6.0->ipywidgets->gget<1.0.0,>=0.28.4->PyTDC) (1.5.1)\n",
            "Requirement already satisfied: tinycss2 in /usr/local/lib/python3.10/dist-packages (from nbconvert>=5->notebook>=4.4.1->widgetsnbextension~=3.6.0->ipywidgets->gget<1.0.0,>=0.28.4->PyTDC) (1.3.0)\n",
            "Requirement already satisfied: fastjsonschema>=2.15 in /usr/local/lib/python3.10/dist-packages (from nbformat->notebook>=4.4.1->widgetsnbextension~=3.6.0->ipywidgets->gget<1.0.0,>=0.28.4->PyTDC) (2.20.0)\n",
            "Requirement already satisfied: jsonschema>=2.6 in /usr/local/lib/python3.10/dist-packages (from nbformat->notebook>=4.4.1->widgetsnbextension~=3.6.0->ipywidgets->gget<1.0.0,>=0.28.4->PyTDC) (4.19.2)\n",
            "Requirement already satisfied: argon2-cffi-bindings in /usr/local/lib/python3.10/dist-packages (from argon2-cffi->notebook>=4.4.1->widgetsnbextension~=3.6.0->ipywidgets->gget<1.0.0,>=0.28.4->PyTDC) (21.2.0)\n",
            "Requirement already satisfied: jsonschema-specifications>=2023.03.6 in /usr/local/lib/python3.10/dist-packages (from jsonschema>=2.6->nbformat->notebook>=4.4.1->widgetsnbextension~=3.6.0->ipywidgets->gget<1.0.0,>=0.28.4->PyTDC) (2023.12.1)\n",
            "Requirement already satisfied: referencing>=0.28.4 in /usr/local/lib/python3.10/dist-packages (from jsonschema>=2.6->nbformat->notebook>=4.4.1->widgetsnbextension~=3.6.0->ipywidgets->gget<1.0.0,>=0.28.4->PyTDC) (0.35.1)\n",
            "Requirement already satisfied: rpds-py>=0.7.1 in /usr/local/lib/python3.10/dist-packages (from jsonschema>=2.6->nbformat->notebook>=4.4.1->widgetsnbextension~=3.6.0->ipywidgets->gget<1.0.0,>=0.28.4->PyTDC) (0.19.0)\n",
            "Requirement already satisfied: jupyter-server<3,>=1.8 in /usr/local/lib/python3.10/dist-packages (from notebook-shim>=0.2.3->nbclassic>=0.4.7->notebook>=4.4.1->widgetsnbextension~=3.6.0->ipywidgets->gget<1.0.0,>=0.28.4->PyTDC) (1.24.0)\n",
            "Requirement already satisfied: cffi>=1.0.1 in /usr/local/lib/python3.10/dist-packages (from argon2-cffi-bindings->argon2-cffi->notebook>=4.4.1->widgetsnbextension~=3.6.0->ipywidgets->gget<1.0.0,>=0.28.4->PyTDC) (1.16.0)\n",
            "Requirement already satisfied: webencodings in /usr/local/lib/python3.10/dist-packages (from bleach->nbconvert>=5->notebook>=4.4.1->widgetsnbextension~=3.6.0->ipywidgets->gget<1.0.0,>=0.28.4->PyTDC) (0.5.1)\n",
            "Requirement already satisfied: pycparser in /usr/local/lib/python3.10/dist-packages (from cffi>=1.0.1->argon2-cffi-bindings->argon2-cffi->notebook>=4.4.1->widgetsnbextension~=3.6.0->ipywidgets->gget<1.0.0,>=0.28.4->PyTDC) (2.22)\n",
            "Requirement already satisfied: anyio<4,>=3.1.0 in /usr/local/lib/python3.10/dist-packages (from jupyter-server<3,>=1.8->notebook-shim>=0.2.3->nbclassic>=0.4.7->notebook>=4.4.1->widgetsnbextension~=3.6.0->ipywidgets->gget<1.0.0,>=0.28.4->PyTDC) (3.7.1)\n",
            "Requirement already satisfied: websocket-client in /usr/local/lib/python3.10/dist-packages (from jupyter-server<3,>=1.8->notebook-shim>=0.2.3->nbclassic>=0.4.7->notebook>=4.4.1->widgetsnbextension~=3.6.0->ipywidgets->gget<1.0.0,>=0.28.4->PyTDC) (1.8.0)\n",
            "Requirement already satisfied: sniffio>=1.1 in /usr/local/lib/python3.10/dist-packages (from anyio<4,>=3.1.0->jupyter-server<3,>=1.8->notebook-shim>=0.2.3->nbclassic>=0.4.7->notebook>=4.4.1->widgetsnbextension~=3.6.0->ipywidgets->gget<1.0.0,>=0.28.4->PyTDC) (1.3.1)\n",
            "Collecting lifelines\n",
            "  Using cached lifelines-0.29.0-py3-none-any.whl (349 kB)\n",
            "Requirement already satisfied: numpy<2.0,>=1.14.0 in /usr/local/lib/python3.10/dist-packages (from lifelines) (1.26.4)\n",
            "Requirement already satisfied: scipy>=1.7.0 in /usr/local/lib/python3.10/dist-packages (from lifelines) (1.11.4)\n",
            "Requirement already satisfied: pandas>=2.1 in /usr/local/lib/python3.10/dist-packages (from lifelines) (2.2.2)\n",
            "Requirement already satisfied: matplotlib>=3.0 in /usr/local/lib/python3.10/dist-packages (from lifelines) (3.7.1)\n",
            "Requirement already satisfied: autograd>=1.5 in /usr/local/lib/python3.10/dist-packages (from lifelines) (1.6.2)\n",
            "Collecting autograd-gamma>=0.3 (from lifelines)\n",
            "  Using cached autograd_gamma-0.5.0-py3-none-any.whl\n",
            "Collecting formulaic>=0.2.2 (from lifelines)\n",
            "  Using cached formulaic-1.0.2-py3-none-any.whl (94 kB)\n",
            "Requirement already satisfied: future>=0.15.2 in /usr/local/lib/python3.10/dist-packages (from autograd>=1.5->lifelines) (0.18.3)\n",
            "Collecting interface-meta>=1.2.0 (from formulaic>=0.2.2->lifelines)\n",
            "  Using cached interface_meta-1.3.0-py3-none-any.whl (14 kB)\n",
            "Requirement already satisfied: typing-extensions>=4.2.0 in /usr/local/lib/python3.10/dist-packages (from formulaic>=0.2.2->lifelines) (4.12.2)\n",
            "Requirement already satisfied: wrapt>=1.0 in /usr/local/lib/python3.10/dist-packages (from formulaic>=0.2.2->lifelines) (1.14.1)\n",
            "Requirement already satisfied: contourpy>=1.0.1 in /usr/local/lib/python3.10/dist-packages (from matplotlib>=3.0->lifelines) (1.2.1)\n",
            "Requirement already satisfied: cycler>=0.10 in /usr/local/lib/python3.10/dist-packages (from matplotlib>=3.0->lifelines) (0.12.1)\n",
            "Requirement already satisfied: fonttools>=4.22.0 in /usr/local/lib/python3.10/dist-packages (from matplotlib>=3.0->lifelines) (4.53.1)\n",
            "Requirement already satisfied: kiwisolver>=1.0.1 in /usr/local/lib/python3.10/dist-packages (from matplotlib>=3.0->lifelines) (1.4.5)\n",
            "Requirement already satisfied: packaging>=20.0 in /usr/local/lib/python3.10/dist-packages (from matplotlib>=3.0->lifelines) (24.1)\n",
            "Requirement already satisfied: pillow>=6.2.0 in /usr/local/lib/python3.10/dist-packages (from matplotlib>=3.0->lifelines) (9.4.0)\n",
            "Requirement already satisfied: pyparsing>=2.3.1 in /usr/local/lib/python3.10/dist-packages (from matplotlib>=3.0->lifelines) (3.1.2)\n",
            "Requirement already satisfied: python-dateutil>=2.7 in /usr/local/lib/python3.10/dist-packages (from matplotlib>=3.0->lifelines) (2.8.2)\n",
            "Requirement already satisfied: pytz>=2020.1 in /usr/local/lib/python3.10/dist-packages (from pandas>=2.1->lifelines) (2023.4)\n",
            "Requirement already satisfied: tzdata>=2022.7 in /usr/local/lib/python3.10/dist-packages (from pandas>=2.1->lifelines) (2024.1)\n",
            "Requirement already satisfied: six>=1.5 in /usr/local/lib/python3.10/dist-packages (from python-dateutil>=2.7->matplotlib>=3.0->lifelines) (1.16.0)\n",
            "Installing collected packages: interface-meta, autograd-gamma, formulaic, lifelines\n",
            "Successfully installed autograd-gamma-0.5.0 formulaic-1.0.2 interface-meta-1.3.0 lifelines-0.29.0\n"
          ]
        }
      ],
      "source": [
        "!pip install PyTDC\n",
        "!pip install lifelines"
      ]
    },
    {
      "cell_type": "code",
      "source": [
        "from tdc.utils import retrieve_label_name_list\n",
        "label_list = retrieve_label_name_list('Leenay')"
      ],
      "metadata": {
        "id": "IEcmy9B8o3i6"
      },
      "execution_count": null,
      "outputs": []
    },
    {
      "cell_type": "code",
      "source": [
        "from tdc.single_pred import CRISPROutcome\n",
        "data = CRISPROutcome(name = 'Leenay', label_name=label_list[0])\n",
        "split=data.get_split()"
      ],
      "metadata": {
        "colab": {
          "base_uri": "https://localhost:8080/"
        },
        "id": "vy0paPYZo5sI",
        "outputId": "bf088a7d-c708-4971-d757-0ebeb27eea1b"
      },
      "execution_count": null,
      "outputs": [
        {
          "output_type": "stream",
          "name": "stderr",
          "text": [
            "Downloading...\n",
            "100%|██████████| 205k/205k [00:00<00:00, 317kiB/s]\n",
            "Loading...\n",
            "Done!\n"
          ]
        }
      ]
    },
    {
      "cell_type": "code",
      "source": [
        "split.keys()"
      ],
      "metadata": {
        "colab": {
          "base_uri": "https://localhost:8080/"
        },
        "id": "uJ6Fd2EmpLmt",
        "outputId": "0a1a9ab4-6405-45d6-a69c-7fa2ec2060af"
      },
      "execution_count": null,
      "outputs": [
        {
          "output_type": "execute_result",
          "data": {
            "text/plain": [
              "dict_keys(['train', 'valid', 'test'])"
            ]
          },
          "metadata": {},
          "execution_count": 4
        }
      ]
    },
    {
      "cell_type": "code",
      "source": [
        "split['train']"
      ],
      "metadata": {
        "colab": {
          "base_uri": "https://localhost:8080/",
          "height": 423
        },
        "id": "dwhNbBRPpPZS",
        "outputId": "f6339f61-011f-4352-93ce-96c46cf5b3b9"
      },
      "execution_count": null,
      "outputs": [
        {
          "output_type": "execute_result",
          "data": {
            "text/plain": [
              "        GuideSeq_ID                 GuideSeq         Y\n",
              "0        GuideSeq 1  CTGCAGGGCTAGTTTCCTATAGG  0.069572\n",
              "1        GuideSeq 2  GAGATGCGGACCACCCAGCTGGG  0.287647\n",
              "2        GuideSeq 3  GCAAACGGAAGTGCAATTGTCGG  0.137004\n",
              "3        GuideSeq 4  GTCATCGCTGAGTTGAGGAAGGG  0.093889\n",
              "4        GuideSeq 5  ATATGATTATCCCTGCACAAGGG  0.526525\n",
              "...             ...                      ...       ...\n",
              "1060  GuideSeq 1517  ATGCCCGACCAAAGACAACCAGG  0.093236\n",
              "1061  GuideSeq 1518  CACGCTGTCATCCACCAGGTAGG  0.069054\n",
              "1062  GuideSeq 1519  GGGCTCCAGAGTCTGATACAGGG  0.421439\n",
              "1063  GuideSeq 1520  AAAGACTTCGGTCCTCTAGTAGG  0.206277\n",
              "1064  GuideSeq 1521  TCGTCGCCCAGTGTCCAAGTGGG  0.284117\n",
              "\n",
              "[1065 rows x 3 columns]"
            ],
            "text/html": [
              "\n",
              "  <div id=\"df-bda07fa5-9645-4103-b40e-29bcc57c703e\" class=\"colab-df-container\">\n",
              "    <div>\n",
              "<style scoped>\n",
              "    .dataframe tbody tr th:only-of-type {\n",
              "        vertical-align: middle;\n",
              "    }\n",
              "\n",
              "    .dataframe tbody tr th {\n",
              "        vertical-align: top;\n",
              "    }\n",
              "\n",
              "    .dataframe thead th {\n",
              "        text-align: right;\n",
              "    }\n",
              "</style>\n",
              "<table border=\"1\" class=\"dataframe\">\n",
              "  <thead>\n",
              "    <tr style=\"text-align: right;\">\n",
              "      <th></th>\n",
              "      <th>GuideSeq_ID</th>\n",
              "      <th>GuideSeq</th>\n",
              "      <th>Y</th>\n",
              "    </tr>\n",
              "  </thead>\n",
              "  <tbody>\n",
              "    <tr>\n",
              "      <th>0</th>\n",
              "      <td>GuideSeq 1</td>\n",
              "      <td>CTGCAGGGCTAGTTTCCTATAGG</td>\n",
              "      <td>0.069572</td>\n",
              "    </tr>\n",
              "    <tr>\n",
              "      <th>1</th>\n",
              "      <td>GuideSeq 2</td>\n",
              "      <td>GAGATGCGGACCACCCAGCTGGG</td>\n",
              "      <td>0.287647</td>\n",
              "    </tr>\n",
              "    <tr>\n",
              "      <th>2</th>\n",
              "      <td>GuideSeq 3</td>\n",
              "      <td>GCAAACGGAAGTGCAATTGTCGG</td>\n",
              "      <td>0.137004</td>\n",
              "    </tr>\n",
              "    <tr>\n",
              "      <th>3</th>\n",
              "      <td>GuideSeq 4</td>\n",
              "      <td>GTCATCGCTGAGTTGAGGAAGGG</td>\n",
              "      <td>0.093889</td>\n",
              "    </tr>\n",
              "    <tr>\n",
              "      <th>4</th>\n",
              "      <td>GuideSeq 5</td>\n",
              "      <td>ATATGATTATCCCTGCACAAGGG</td>\n",
              "      <td>0.526525</td>\n",
              "    </tr>\n",
              "    <tr>\n",
              "      <th>...</th>\n",
              "      <td>...</td>\n",
              "      <td>...</td>\n",
              "      <td>...</td>\n",
              "    </tr>\n",
              "    <tr>\n",
              "      <th>1060</th>\n",
              "      <td>GuideSeq 1517</td>\n",
              "      <td>ATGCCCGACCAAAGACAACCAGG</td>\n",
              "      <td>0.093236</td>\n",
              "    </tr>\n",
              "    <tr>\n",
              "      <th>1061</th>\n",
              "      <td>GuideSeq 1518</td>\n",
              "      <td>CACGCTGTCATCCACCAGGTAGG</td>\n",
              "      <td>0.069054</td>\n",
              "    </tr>\n",
              "    <tr>\n",
              "      <th>1062</th>\n",
              "      <td>GuideSeq 1519</td>\n",
              "      <td>GGGCTCCAGAGTCTGATACAGGG</td>\n",
              "      <td>0.421439</td>\n",
              "    </tr>\n",
              "    <tr>\n",
              "      <th>1063</th>\n",
              "      <td>GuideSeq 1520</td>\n",
              "      <td>AAAGACTTCGGTCCTCTAGTAGG</td>\n",
              "      <td>0.206277</td>\n",
              "    </tr>\n",
              "    <tr>\n",
              "      <th>1064</th>\n",
              "      <td>GuideSeq 1521</td>\n",
              "      <td>TCGTCGCCCAGTGTCCAAGTGGG</td>\n",
              "      <td>0.284117</td>\n",
              "    </tr>\n",
              "  </tbody>\n",
              "</table>\n",
              "<p>1065 rows × 3 columns</p>\n",
              "</div>\n",
              "    <div class=\"colab-df-buttons\">\n",
              "\n",
              "  <div class=\"colab-df-container\">\n",
              "    <button class=\"colab-df-convert\" onclick=\"convertToInteractive('df-bda07fa5-9645-4103-b40e-29bcc57c703e')\"\n",
              "            title=\"Convert this dataframe to an interactive table.\"\n",
              "            style=\"display:none;\">\n",
              "\n",
              "  <svg xmlns=\"http://www.w3.org/2000/svg\" height=\"24px\" viewBox=\"0 -960 960 960\">\n",
              "    <path d=\"M120-120v-720h720v720H120Zm60-500h600v-160H180v160Zm220 220h160v-160H400v160Zm0 220h160v-160H400v160ZM180-400h160v-160H180v160Zm440 0h160v-160H620v160ZM180-180h160v-160H180v160Zm440 0h160v-160H620v160Z\"/>\n",
              "  </svg>\n",
              "    </button>\n",
              "\n",
              "  <style>\n",
              "    .colab-df-container {\n",
              "      display:flex;\n",
              "      gap: 12px;\n",
              "    }\n",
              "\n",
              "    .colab-df-convert {\n",
              "      background-color: #E8F0FE;\n",
              "      border: none;\n",
              "      border-radius: 50%;\n",
              "      cursor: pointer;\n",
              "      display: none;\n",
              "      fill: #1967D2;\n",
              "      height: 32px;\n",
              "      padding: 0 0 0 0;\n",
              "      width: 32px;\n",
              "    }\n",
              "\n",
              "    .colab-df-convert:hover {\n",
              "      background-color: #E2EBFA;\n",
              "      box-shadow: 0px 1px 2px rgba(60, 64, 67, 0.3), 0px 1px 3px 1px rgba(60, 64, 67, 0.15);\n",
              "      fill: #174EA6;\n",
              "    }\n",
              "\n",
              "    .colab-df-buttons div {\n",
              "      margin-bottom: 4px;\n",
              "    }\n",
              "\n",
              "    [theme=dark] .colab-df-convert {\n",
              "      background-color: #3B4455;\n",
              "      fill: #D2E3FC;\n",
              "    }\n",
              "\n",
              "    [theme=dark] .colab-df-convert:hover {\n",
              "      background-color: #434B5C;\n",
              "      box-shadow: 0px 1px 3px 1px rgba(0, 0, 0, 0.15);\n",
              "      filter: drop-shadow(0px 1px 2px rgba(0, 0, 0, 0.3));\n",
              "      fill: #FFFFFF;\n",
              "    }\n",
              "  </style>\n",
              "\n",
              "    <script>\n",
              "      const buttonEl =\n",
              "        document.querySelector('#df-bda07fa5-9645-4103-b40e-29bcc57c703e button.colab-df-convert');\n",
              "      buttonEl.style.display =\n",
              "        google.colab.kernel.accessAllowed ? 'block' : 'none';\n",
              "\n",
              "      async function convertToInteractive(key) {\n",
              "        const element = document.querySelector('#df-bda07fa5-9645-4103-b40e-29bcc57c703e');\n",
              "        const dataTable =\n",
              "          await google.colab.kernel.invokeFunction('convertToInteractive',\n",
              "                                                    [key], {});\n",
              "        if (!dataTable) return;\n",
              "\n",
              "        const docLinkHtml = 'Like what you see? Visit the ' +\n",
              "          '<a target=\"_blank\" href=https://colab.research.google.com/notebooks/data_table.ipynb>data table notebook</a>'\n",
              "          + ' to learn more about interactive tables.';\n",
              "        element.innerHTML = '';\n",
              "        dataTable['output_type'] = 'display_data';\n",
              "        await google.colab.output.renderOutput(dataTable, element);\n",
              "        const docLink = document.createElement('div');\n",
              "        docLink.innerHTML = docLinkHtml;\n",
              "        element.appendChild(docLink);\n",
              "      }\n",
              "    </script>\n",
              "  </div>\n",
              "\n",
              "\n",
              "<div id=\"df-6b0cf7da-a2f8-4d60-a9f3-a7848968d6dd\">\n",
              "  <button class=\"colab-df-quickchart\" onclick=\"quickchart('df-6b0cf7da-a2f8-4d60-a9f3-a7848968d6dd')\"\n",
              "            title=\"Suggest charts\"\n",
              "            style=\"display:none;\">\n",
              "\n",
              "<svg xmlns=\"http://www.w3.org/2000/svg\" height=\"24px\"viewBox=\"0 0 24 24\"\n",
              "     width=\"24px\">\n",
              "    <g>\n",
              "        <path d=\"M19 3H5c-1.1 0-2 .9-2 2v14c0 1.1.9 2 2 2h14c1.1 0 2-.9 2-2V5c0-1.1-.9-2-2-2zM9 17H7v-7h2v7zm4 0h-2V7h2v10zm4 0h-2v-4h2v4z\"/>\n",
              "    </g>\n",
              "</svg>\n",
              "  </button>\n",
              "\n",
              "<style>\n",
              "  .colab-df-quickchart {\n",
              "      --bg-color: #E8F0FE;\n",
              "      --fill-color: #1967D2;\n",
              "      --hover-bg-color: #E2EBFA;\n",
              "      --hover-fill-color: #174EA6;\n",
              "      --disabled-fill-color: #AAA;\n",
              "      --disabled-bg-color: #DDD;\n",
              "  }\n",
              "\n",
              "  [theme=dark] .colab-df-quickchart {\n",
              "      --bg-color: #3B4455;\n",
              "      --fill-color: #D2E3FC;\n",
              "      --hover-bg-color: #434B5C;\n",
              "      --hover-fill-color: #FFFFFF;\n",
              "      --disabled-bg-color: #3B4455;\n",
              "      --disabled-fill-color: #666;\n",
              "  }\n",
              "\n",
              "  .colab-df-quickchart {\n",
              "    background-color: var(--bg-color);\n",
              "    border: none;\n",
              "    border-radius: 50%;\n",
              "    cursor: pointer;\n",
              "    display: none;\n",
              "    fill: var(--fill-color);\n",
              "    height: 32px;\n",
              "    padding: 0;\n",
              "    width: 32px;\n",
              "  }\n",
              "\n",
              "  .colab-df-quickchart:hover {\n",
              "    background-color: var(--hover-bg-color);\n",
              "    box-shadow: 0 1px 2px rgba(60, 64, 67, 0.3), 0 1px 3px 1px rgba(60, 64, 67, 0.15);\n",
              "    fill: var(--button-hover-fill-color);\n",
              "  }\n",
              "\n",
              "  .colab-df-quickchart-complete:disabled,\n",
              "  .colab-df-quickchart-complete:disabled:hover {\n",
              "    background-color: var(--disabled-bg-color);\n",
              "    fill: var(--disabled-fill-color);\n",
              "    box-shadow: none;\n",
              "  }\n",
              "\n",
              "  .colab-df-spinner {\n",
              "    border: 2px solid var(--fill-color);\n",
              "    border-color: transparent;\n",
              "    border-bottom-color: var(--fill-color);\n",
              "    animation:\n",
              "      spin 1s steps(1) infinite;\n",
              "  }\n",
              "\n",
              "  @keyframes spin {\n",
              "    0% {\n",
              "      border-color: transparent;\n",
              "      border-bottom-color: var(--fill-color);\n",
              "      border-left-color: var(--fill-color);\n",
              "    }\n",
              "    20% {\n",
              "      border-color: transparent;\n",
              "      border-left-color: var(--fill-color);\n",
              "      border-top-color: var(--fill-color);\n",
              "    }\n",
              "    30% {\n",
              "      border-color: transparent;\n",
              "      border-left-color: var(--fill-color);\n",
              "      border-top-color: var(--fill-color);\n",
              "      border-right-color: var(--fill-color);\n",
              "    }\n",
              "    40% {\n",
              "      border-color: transparent;\n",
              "      border-right-color: var(--fill-color);\n",
              "      border-top-color: var(--fill-color);\n",
              "    }\n",
              "    60% {\n",
              "      border-color: transparent;\n",
              "      border-right-color: var(--fill-color);\n",
              "    }\n",
              "    80% {\n",
              "      border-color: transparent;\n",
              "      border-right-color: var(--fill-color);\n",
              "      border-bottom-color: var(--fill-color);\n",
              "    }\n",
              "    90% {\n",
              "      border-color: transparent;\n",
              "      border-bottom-color: var(--fill-color);\n",
              "    }\n",
              "  }\n",
              "</style>\n",
              "\n",
              "  <script>\n",
              "    async function quickchart(key) {\n",
              "      const quickchartButtonEl =\n",
              "        document.querySelector('#' + key + ' button');\n",
              "      quickchartButtonEl.disabled = true;  // To prevent multiple clicks.\n",
              "      quickchartButtonEl.classList.add('colab-df-spinner');\n",
              "      try {\n",
              "        const charts = await google.colab.kernel.invokeFunction(\n",
              "            'suggestCharts', [key], {});\n",
              "      } catch (error) {\n",
              "        console.error('Error during call to suggestCharts:', error);\n",
              "      }\n",
              "      quickchartButtonEl.classList.remove('colab-df-spinner');\n",
              "      quickchartButtonEl.classList.add('colab-df-quickchart-complete');\n",
              "    }\n",
              "    (() => {\n",
              "      let quickchartButtonEl =\n",
              "        document.querySelector('#df-6b0cf7da-a2f8-4d60-a9f3-a7848968d6dd button');\n",
              "      quickchartButtonEl.style.display =\n",
              "        google.colab.kernel.accessAllowed ? 'block' : 'none';\n",
              "    })();\n",
              "  </script>\n",
              "</div>\n",
              "\n",
              "    </div>\n",
              "  </div>\n"
            ],
            "application/vnd.google.colaboratory.intrinsic+json": {
              "type": "dataframe",
              "summary": "{\n  \"name\": \"split['train']\",\n  \"rows\": 1065,\n  \"fields\": [\n    {\n      \"column\": \"GuideSeq_ID\",\n      \"properties\": {\n        \"dtype\": \"string\",\n        \"num_unique_values\": 1065,\n        \"samples\": [\n          \"GuideSeq 40\",\n          \"GuideSeq 1202\",\n          \"GuideSeq 596\"\n        ],\n        \"semantic_type\": \"\",\n        \"description\": \"\"\n      }\n    },\n    {\n      \"column\": \"GuideSeq\",\n      \"properties\": {\n        \"dtype\": \"string\",\n        \"num_unique_values\": 1065,\n        \"samples\": [\n          \"ATGACTCGCGATTTCAAACCTGG\",\n          \"GACAACAGCGACTCAGACAATGG\",\n          \"TTGATGGTCACCGGGCGTGTGGG\"\n        ],\n        \"semantic_type\": \"\",\n        \"description\": \"\"\n      }\n    },\n    {\n      \"column\": \"Y\",\n      \"properties\": {\n        \"dtype\": \"number\",\n        \"std\": 0.15347551050369249,\n        \"min\": 0.0011676396997497,\n        \"max\": 0.8311980853160637,\n        \"num_unique_values\": 1065,\n        \"samples\": [\n          0.0481988327631314,\n          0.0533894404628838,\n          0.3890820136474829\n        ],\n        \"semantic_type\": \"\",\n        \"description\": \"\"\n      }\n    }\n  ]\n}"
            }
          },
          "metadata": {},
          "execution_count": 5
        }
      ]
    },
    {
      "cell_type": "code",
      "source": [
        "split['train']['GuideSeq'].apply(len)"
      ],
      "metadata": {
        "colab": {
          "base_uri": "https://localhost:8080/"
        },
        "id": "cM2zfVEepSNC",
        "outputId": "74c20cc3-eee9-4b0c-94f4-7b27054278f0"
      },
      "execution_count": null,
      "outputs": [
        {
          "output_type": "execute_result",
          "data": {
            "text/plain": [
              "0       23\n",
              "1       23\n",
              "2       23\n",
              "3       23\n",
              "4       23\n",
              "        ..\n",
              "1060    23\n",
              "1061    23\n",
              "1062    23\n",
              "1063    23\n",
              "1064    23\n",
              "Name: GuideSeq, Length: 1065, dtype: int64"
            ]
          },
          "metadata": {},
          "execution_count": 6
        }
      ]
    },
    {
      "cell_type": "code",
      "source": [
        "split['train']['Y'].plot.hist()"
      ],
      "metadata": {
        "colab": {
          "base_uri": "https://localhost:8080/",
          "height": 448
        },
        "id": "BayPXgCbpYje",
        "outputId": "270c8769-359c-4c7a-af9f-b38005bf31d4"
      },
      "execution_count": null,
      "outputs": [
        {
          "output_type": "execute_result",
          "data": {
            "text/plain": [
              "<Axes: ylabel='Frequency'>"
            ]
          },
          "metadata": {},
          "execution_count": 7
        },
        {
          "output_type": "display_data",
          "data": {
            "text/plain": [
              "<Figure size 640x480 with 1 Axes>"
            ],
            "image/png": "[encoded data removed]"
          },
          "metadata": {}
        }
      ]
    },
    {
      "cell_type": "code",
      "source": [
        "import numpy as np\n",
        "import pandas as pd\n",
        "from sklearn.preprocessing import OneHotEncoder"
      ],
      "metadata": {
        "id": "Z_euiHJXpjWB"
      },
      "execution_count": null,
      "outputs": []
    },
    {
      "cell_type": "code",
      "source": [
        "import numpy as np\n",
        "import pandas as pd\n",
        "from sklearn.preprocessing import OneHotEncoder\n",
        "\n",
        "class SeqProcessor:\n",
        "    def __init__(self, char, max_seq):\n",
        "        # One-hot encoding에 사용할 character 정의\n",
        "        self.char = char\n",
        "        #  ㅒne-hot 인코더 fitting\n",
        "        self.enc_dna = OneHotEncoder().fit(np.array(self.char).reshape(-1, 1))\n",
        "        # Sequence 최대 길이\n",
        "        self.max_seq = max_seq\n",
        "\n",
        "    def trans_dna(self, x: str) -> list:\n",
        "        \"\"\"Protein sequence 데이터 전처리\n",
        "        모든 sequence를 같은 크기의 리스트로 만들고\n",
        "        사전 정의된 character에 해당 되지 않는 값은 ?로 변환한다.\n",
        "\n",
        "        Args:\n",
        "            x: A sequence\n",
        "        \"\"\"\n",
        "        temp = list(x.upper()) # 대문자로 바꾸기\n",
        "        temp = [i if i in self.char else '?' for i in temp] #\n",
        "\n",
        "        if len(temp) < self.max_seq:\n",
        "            # MAX_SEQ_DNA 보다 작으면 뒷부분을 ?로 채워서 MAX_SEQ_DRUG 길이의 리스트로 만들기\n",
        "            temp = temp + ['?'] * (self.max_seq-len(temp))\n",
        "        else:\n",
        "            # MAX_SEQ_DNA 보다 크면 앞에서부터 MAX_SEQ_DRUG 만큼 슬라이싱\n",
        "            temp = temp [:self.max_seq]\n",
        "\n",
        "        return temp\n",
        "\n",
        "    def dna_2_embed(self, x: list) -> np.ndarray:\n",
        "        return self.enc_dna.transform(np.array(x).reshape(-1,1)).toarray().T\n"
      ],
      "metadata": {
        "id": "T4D2xmGdsr1D"
      },
      "execution_count": null,
      "outputs": []
    },
    {
      "cell_type": "code",
      "source": [
        "import torch\n",
        "from torch import nn\n",
        "import torch.nn.functional as F\n",
        "from torch.utils.data import Dataset, DataLoader\n",
        "from torch.autograd import Variable"
      ],
      "metadata": {
        "id": "_TqgHltdqZoG"
      },
      "execution_count": null,
      "outputs": []
    },
    {
      "cell_type": "code",
      "source": [
        "device = torch.device('cuda' if torch.cuda.is_available() else 'cpu')\n",
        "device"
      ],
      "metadata": {
        "colab": {
          "base_uri": "https://localhost:8080/"
        },
        "id": "rLDDY7s5qfjH",
        "outputId": "ad5cd9a1-4e4b-4d60-bbbb-e51a351578ee"
      },
      "execution_count": null,
      "outputs": [
        {
          "output_type": "execute_result",
          "data": {
            "text/plain": [
              "device(type='cuda')"
            ]
          },
          "metadata": {},
          "execution_count": 11
        }
      ]
    },
    {
      "cell_type": "code",
      "source": [
        "# Custom dataset 만들기\n",
        "\n",
        "class data_process_loader(Dataset):\n",
        "    def __init__(self, df: pd.DataFrame, sp: SeqProcessor):\n",
        "        self.sp = sp\n",
        "        self.df = df\n",
        "\n",
        "    def __len__(self):\n",
        "        return self.df.shape[0]\n",
        "\n",
        "    def __getitem__(self, index):\n",
        "\n",
        "        # Target 데이터\n",
        "        v_s = self.df.iloc[index]['GuideSeq']\n",
        "        v_s = self.sp.trans_dna(v_s)\n",
        "        v_s = self.sp.dna_2_embed(v_s) # Target One-hot 인코딩 [26,100]\n",
        "\n",
        "        # Binding affinity (label)\n",
        "        y = self.df.iloc[index]['Y']\n",
        "\n",
        "        return v_s, y\n"
      ],
      "metadata": {
        "id": "7H2cbLQNqiRa"
      },
      "execution_count": null,
      "outputs": []
    },
    {
      "cell_type": "code",
      "source": [
        "dna_char=['?', 'A', 'T', 'G', 'C']\n",
        "max_seq=23\n",
        "\n",
        "sp = SeqProcessor(dna_char, max_seq)"
      ],
      "metadata": {
        "id": "ZZTT3uLvq-CK"
      },
      "execution_count": null,
      "outputs": []
    },
    {
      "cell_type": "code",
      "source": [
        "train_dataset = data_process_loader(split['train'], sp)\n",
        "val_dataset = data_process_loader(split['valid'], sp)\n",
        "test_dataset = data_process_loader(split['test'], sp)"
      ],
      "metadata": {
        "id": "tLUZYdZ1q_Ks"
      },
      "execution_count": null,
      "outputs": []
    },
    {
      "cell_type": "code",
      "source": [
        "params = {'batch_size': 64,\n",
        "        'shuffle': True,\n",
        "        'num_workers': 1,\n",
        "        'drop_last': False}"
      ],
      "metadata": {
        "id": "33Hzt9kNrHPp"
      },
      "execution_count": null,
      "outputs": []
    },
    {
      "cell_type": "code",
      "source": [
        "training_generator = DataLoader(train_dataset, **params)\n",
        "valid_generator = DataLoader(val_dataset, **params)\n",
        "test_generator = DataLoader(test_dataset, **params)"
      ],
      "metadata": {
        "id": "9umHoHXwrJM2"
      },
      "execution_count": null,
      "outputs": []
    },
    {
      "cell_type": "code",
      "source": [
        "for (v_s, y) in training_generator:\n",
        "    print(v_s.shape)\n",
        "    print(y)\n",
        "    break"
      ],
      "metadata": {
        "colab": {
          "base_uri": "https://localhost:8080/"
        },
        "id": "JKyPPrnQt1Bp",
        "outputId": "fc1bbd62-50ed-4fb9-a867-9d6456d3cb47"
      },
      "execution_count": null,
      "outputs": [
        {
          "output_type": "stream",
          "name": "stdout",
          "text": [
            "torch.Size([64, 5, 23])\n",
            "tensor([0.0881, 0.1138, 0.0910, 0.0334, 0.0802, 0.4961, 0.0721, 0.2083, 0.1997,\n",
            "        0.2950, 0.1544, 0.0587, 0.2838, 0.4350, 0.5068, 0.3089, 0.1501, 0.1028,\n",
            "        0.1256, 0.4144, 0.1667, 0.2937, 0.5125, 0.3809, 0.0152, 0.1200, 0.0693,\n",
            "        0.4678, 0.4701, 0.1018, 0.4065, 0.1637, 0.1730, 0.1094, 0.0696, 0.1572,\n",
            "        0.1492, 0.1556, 0.0312, 0.0720, 0.2237, 0.0960, 0.1763, 0.3626, 0.4509,\n",
            "        0.3952, 0.1364, 0.1521, 0.2181, 0.2928, 0.2929, 0.6091, 0.2338, 0.1357,\n",
            "        0.2340, 0.5123, 0.0721, 0.0845, 0.1036, 0.0378, 0.2046, 0.1563, 0.4737,\n",
            "        0.0809], dtype=torch.float64)\n"
          ]
        }
      ]
    },
    {
      "cell_type": "code",
      "source": [
        "# 모델 설정 값\n",
        "\n",
        "config = {\n",
        "    # dna embedding layer 설정\n",
        "    \"cnn_filters\" : [32,64,96],\n",
        "    \"cnn_kernels\" : [3,3,3],\n",
        "    \"hidden_dim\" : 256,\n",
        "    \"rnn_hid_dim\" : 64,\n",
        "    \"rnn_n_layers\" : 2,\n",
        "    \"rnn_bidirectional\" : True,\n",
        "    \"rnn_Use_GRU_LSTM\" : 'GRU',\n",
        "\n",
        "    # Classfier 설정\n",
        "    \"cls_hidden_dims\" : [1024, 512]\n",
        "    }"
      ],
      "metadata": {
        "id": "miqPB7CEt2-Q"
      },
      "execution_count": null,
      "outputs": []
    },
    {
      "cell_type": "code",
      "source": [
        "class CNN_RNN(nn.Sequential):\n",
        "\n",
        "    def __init__(self, **config):\n",
        "        super(CNN_RNN, self).__init__()\n",
        "        self.config = config\n",
        "        \"\"\"\n",
        "        CNN 구현\n",
        "        \"\"\"\n",
        "        # 레이어 별 CNN 필터 개수\n",
        "        in_ch = [5] + config['cnn_filters']\n",
        "        self.in_ch = in_ch[-1] # 마지막 convolution 층 필터 개수\n",
        "\n",
        "        # 레이어 별 CNN kernel 사이즈\n",
        "        kernels = config['cnn_kernels']\n",
        "\n",
        "        # 전체 CNN Layer 개수\n",
        "        layer_size = len(config['cnn_filters'])\n",
        "\n",
        "        self.conv = nn.ModuleList([nn.Conv1d(in_channels = in_ch[i], # input 채널 수\n",
        "                                                out_channels = in_ch[i+1], # output 채널 수\n",
        "                                                kernel_size = kernels[i]) for i in range(layer_size)]) # kernel 사이즈\n",
        "        self.conv = self.conv.double()\n",
        "\n",
        "        # 마지막 층 사이즈 구하기\n",
        "        n_size_d = self._get_conv_output((5, 23)) # auto get the seq_len of CNN output\n",
        "\n",
        "        \"\"\"\n",
        "        RNN 구현 (LSTM / GRU)\n",
        "        \"\"\"\n",
        "        if config['rnn_Use_GRU_LSTM'] == 'LSTM':\n",
        "            self.rnn = nn.LSTM(input_size = in_ch[-1], # input feature 사이즈 (convolution 이 후 채널 개수)\n",
        "                            hidden_size = config['rnn_hid_dim'], # hidden feature 사이즈\n",
        "                            num_layers = config['rnn_n_layers'], # recurrent layer 개수\n",
        "                            batch_first = True, # If True, (batch, seq, feature) Else, (seq, batch, feature)\n",
        "                            bidirectional = config['rnn_bidirectional']) # If True, Bidirectional LSTM\n",
        "\n",
        "        elif config['rnn_Use_GRU_LSTM'] == 'GRU':\n",
        "            self.rnn = nn.GRU(input_size = in_ch[-1], # input feature 사이즈 (convolution 이 후 채널 개수)\n",
        "                            hidden_size = config['rnn_hid_dim'], # hidden feature 사이즈\n",
        "                            num_layers = config['rnn_n_layers'], # recurrent layer 개수\n",
        "                            batch_first = True, # If True, (batch, seq, feature) Else, (seq, batch, feature\n",
        "                            bidirectional = config['rnn_bidirectional']) # If True, Bidirectional LSTM\n",
        "        else:\n",
        "            raise AttributeError('Please use LSTM or GRU.')\n",
        "\n",
        "        direction = 2 if config['rnn_bidirectional'] else 1\n",
        "        self.rnn = self.rnn.double()\n",
        "\n",
        "        # 마지막 drug 임베딩 층\n",
        "        self.fc1 = nn.Linear(config['rnn_hid_dim'] * direction * n_size_d, config['hidden_dim'])\n",
        "\n",
        "    def _get_conv_output(self, shape):\n",
        "\n",
        "        bs = 1\n",
        "        input = Variable(torch.rand(bs, *shape))\n",
        "        output_feat = self._forward_features(input.double())\n",
        "        n_size = output_feat.data.view(bs, self.in_ch, -1).size(2)\n",
        "        return n_size\n",
        "\n",
        "    def _forward_features(self, x):\n",
        "        for l in self.conv:\n",
        "            x = F.relu(l(x))\n",
        "        return x\n",
        "\n",
        "    def forward(self, v):\n",
        "        v = self._forward_features(v.double())\n",
        "\n",
        "        batch_size = v.size(0)\n",
        "        v = v.view(batch_size, v.size(2), -1)\n",
        "\n",
        "        if self.config['rnn_Use_GRU_LSTM'] == 'LSTM':\n",
        "            direction = 2 if self.config['rnn_bidirectional'] else 1\n",
        "            h0 = torch.randn(self.config['rnn_n_layers'] * direction, batch_size, self.config['rnn_hid_dim']).to(device) # Initialize hidden state\n",
        "            c0 = torch.randn(self.config['rnn_n_layers'] * direction, batch_size, self.config['rnn_hid_dim']).to(device) # Initialize cell state\n",
        "            v, (hn, cn) = self.rnn(v.double(), (h0.double(), c0.double()))\n",
        "        else:\n",
        "            # GRU\n",
        "            direction = 2 if self.config['rnn_bidirectional'] else 1\n",
        "            h0 = torch.randn(self.config['rnn_n_layers'] * direction, batch_size, self.config['rnn_hid_dim']).to(device)\n",
        "            v, hn = self.rnn(v.double(), h0.double())\n",
        "\n",
        "        v = torch.flatten(v, 1)\n",
        "        v = self.fc1(v.float())\n",
        "        return v"
      ],
      "metadata": {
        "id": "LlyxhxZZt9ZP"
      },
      "execution_count": null,
      "outputs": []
    },
    {
      "cell_type": "code",
      "source": [
        "class Classifier(nn.Sequential):\n",
        "\t\"\"\"\n",
        "\t임베딩 된 drug와 protein을 이용하여 classificaion\n",
        "\t\"\"\"\n",
        "\tdef __init__(self, model_dna, **config):\n",
        "\t\t\"\"\"\n",
        "\t\tArgs:\n",
        "\t\t\tmodel_drug: drug emedding 모델\n",
        "\t\t\tmodel_protein: protein emedding 모델\n",
        "\t\t\tconfig: 모델 설정 값\n",
        "\t\t\"\"\"\n",
        "\t\tsuper(Classifier, self).__init__()\n",
        "\n",
        "\t\tself.input_dim = config['hidden_dim'] # drug feature 사이즈\n",
        "\n",
        "\t\tself.model_dna = model_dna # drug 임베딩 모델\n",
        "\n",
        "\t\tself.dropout = nn.Dropout(0.1) # dropout 적용\n",
        "\n",
        "\t\tself.hidden_dims = config['cls_hidden_dims'] # classifier hidden dimensions\n",
        "\t\tlayer_size = len(self.hidden_dims) + 1 # hidden layer 개수\n",
        "\t\tdims = [self.input_dim] + self.hidden_dims + [1] # [\"합쳐진 feature 차원 (drug + protein), hidden1, hidden2, hidden3, 1 (output layer)]\n",
        "\n",
        "\t\tself.predictor = nn.ModuleList([nn.Linear(dims[i], dims[i+1]) for i in range(layer_size)]) # classifer layers\n",
        "\n",
        "\tdef forward(self, v_s):\n",
        "\t\t# Drug/protein 임베딩\n",
        "\t\tv_s = self.model_dna(v_s)\n",
        "\n",
        "\t\tfor i, l in enumerate(self.predictor):\n",
        "\t\t\tif i == (len(self.predictor)-1):\n",
        "\t\t\t\t# If last layer,\n",
        "\t\t\t\tv_s = l(v_s)\n",
        "\t\t\telse:\n",
        "\t\t\t\t# If Not last layer, dropout과 ReLU 적용\n",
        "\t\t\t\tv_s = F.relu(self.dropout(l(v_s)))\n",
        "\n",
        "\t\treturn v_s\n",
        "\n"
      ],
      "metadata": {
        "id": "ZZv7x1SwwsMc"
      },
      "execution_count": null,
      "outputs": []
    },
    {
      "cell_type": "code",
      "source": [
        "model_DNA = CNN_RNN(**config)"
      ],
      "metadata": {
        "id": "QBOl79JAw1Iz"
      },
      "execution_count": null,
      "outputs": []
    },
    {
      "cell_type": "code",
      "source": [
        "model = Classifier(model_DNA, **config)"
      ],
      "metadata": {
        "id": "iEqjZlLwxKk8"
      },
      "execution_count": null,
      "outputs": []
    },
    {
      "cell_type": "code",
      "source": [
        "model = model.to(device)"
      ],
      "metadata": {
        "id": "9LW4A1iAxM9S"
      },
      "execution_count": null,
      "outputs": []
    },
    {
      "cell_type": "code",
      "source": [
        "learning_rate = 0.0001\n",
        "decay         = 0.00001\n",
        "train_epoch   = 30\n",
        "\n",
        "opt      = torch.optim.Adam(model.parameters(), lr = learning_rate, weight_decay = decay)\n",
        "loss_fn = torch.nn.MSELoss()"
      ],
      "metadata": {
        "id": "xp70rDMOxPtf"
      },
      "execution_count": null,
      "outputs": []
    },
    {
      "cell_type": "code",
      "source": [
        "import copy\n",
        "from prettytable import PrettyTable\n",
        "from time import time\n",
        "from sklearn.metrics import mean_squared_error\n",
        "from scipy.stats import pearsonr\n",
        "from lifelines.utils import concordance_index"
      ],
      "metadata": {
        "id": "Kqa9f2XZxUvp"
      },
      "execution_count": null,
      "outputs": []
    },
    {
      "cell_type": "code",
      "source": [
        "\n",
        "loss_history = []\n",
        "\n",
        "max_MSE = 10000\n",
        "\n",
        "\n",
        "# Best 모델 초기화\n",
        "model_max = copy.deepcopy(model)\n",
        "\n",
        "# 결과 정리를 위한 PrettyTable\n",
        "valid_metric_record = []\n",
        "valid_metric_header = [\"# epoch\"]\n",
        "valid_metric_header.extend([\"MSE\", \"Pearson Correlation\", \"with p-value\", \"Concordance Index\"])\n",
        "table = PrettyTable(valid_metric_header)\n",
        "\n",
        "float2str = lambda x:'%0.4f'%x # float 소숫점 4자리까지만 str로 바꾸기\n",
        "\n",
        "# 학습 진행\n",
        "print('--- Go for Training ---')\n",
        "# 학습 시작 시간 기록\n",
        "t_start = time()\n",
        "\n",
        "for epo in range(train_epoch):\n",
        "    # Model training\n",
        "    model.train()\n",
        "\n",
        "    # Mini-batch 학습\n",
        "    for i, (v_s, label) in enumerate(training_generator):\n",
        "        # input data gpu에 올리기\n",
        "        v_s = v_s.float().to(device)\n",
        "        # forward-pass\n",
        "        score = model(v_s)\n",
        "\n",
        "        n = torch.squeeze(score, 1)\n",
        "\n",
        "        # 미리 정의한 손실함수(MSE)로 손실(loss) 계산\n",
        "        loss = loss_fn(n.float(), label.float().to(device))\n",
        "\n",
        "        # 각 iteration 마다 loss 기록\n",
        "        loss_history.append(loss.item())\n",
        "\n",
        "        # gradient 초기화\n",
        "        opt.zero_grad()\n",
        "        # back propagation\n",
        "        loss.backward()\n",
        "        # parameter update\n",
        "        opt.step()\n",
        "\n",
        "    # gradient tracking X\n",
        "    with torch.set_grad_enabled(False):\n",
        "\n",
        "        y_pred = []\n",
        "        y_label = []\n",
        "        # model validation\n",
        "        model.eval()\n",
        "\n",
        "        for i, (v_s, label) in enumerate(valid_generator):\n",
        "            # validation 입력 데이터 gpu에 올리기\n",
        "            v_s = v_s.float().to(device)\n",
        "\n",
        "            # forward-pass\n",
        "            score = model(v_s)\n",
        "\n",
        "            # \b예측값, 참값 cpu로 옮기고 numpy 형으로 변환\n",
        "            logits = torch.squeeze(score).cpu().numpy()\n",
        "            label_ids = label.cpu().numpy()\n",
        "\n",
        "            # 예측값, 참값 기록하기\n",
        "            y_label = y_label + label_ids.flatten().tolist()\n",
        "            y_pred = y_pred + logits.flatten().tolist()\n",
        "\n",
        "    # metric 계산\n",
        "    mse = mean_squared_error(y_label, y_pred) # MSE\n",
        "    r2 = pearsonr(y_label, y_pred)[0] # Pearson correlation coefficient\n",
        "    p_val = pearsonr(y_label, y_pred)[1] # Pearson correlation p-value\n",
        "    CI =  concordance_index(y_label, y_pred) # CI\n",
        "\n",
        "    # 계산한 metric 합치기\n",
        "    lst = [\"epoch \" + str(epo)] + list(map(float2str,[mse, r2, p_val, CI]))\n",
        "\n",
        "    # 각 epoch 마다 결과값 pretty table에 기록\n",
        "    table.add_row(lst)\n",
        "    valid_metric_record.append(lst)\n",
        "\n",
        "    # mse 기준으로 best model 업데이트\n",
        "    if mse < max_MSE:\n",
        "        # best model deepcopy\n",
        "        model_max = copy.deepcopy(model)\n",
        "        # max MSE 업데이트\n",
        "        max_MSE = mse\n",
        "\n",
        "    # 각 epoch 마다 결과 출력\n",
        "    print('Validation at Epoch '+ str(epo + 1) + ' , MSE: ' + str(mse)[:7] + ' , Pearson Correlation: '\\\n",
        "\t\t\t\t\t\t + str(r2)[:7] + ' with p-value: ' + str(f\"{p_val:.2E}\") +' , Concordance Index: '+str(CI)[:7])"
      ],
      "metadata": {
        "colab": {
          "base_uri": "https://localhost:8080/"
        },
        "id": "RmNlOXo_xWz1",
        "outputId": "75d7624c-033b-41c4-a4e4-52df8f058ffd"
      },
      "execution_count": null,
      "outputs": [
        {
          "output_type": "stream",
          "name": "stdout",
          "text": [
            "--- Go for Training ---\n",
            "Validation at Epoch 1 , MSE: 0.02581 , Pearson Correlation: 0.16866 with p-value: 3.78E-02 , Concordance Index: 0.57798\n",
            "Validation at Epoch 2 , MSE: 0.02495 , Pearson Correlation: 0.10338 with p-value: 2.05E-01 , Concordance Index: 0.54609\n",
            "Validation at Epoch 3 , MSE: 0.02497 , Pearson Correlation: 0.09935 with p-value: 2.23E-01 , Concordance Index: 0.50993\n",
            "Validation at Epoch 4 , MSE: 0.02563 , Pearson Correlation: -0.0410 with p-value: 6.15E-01 , Concordance Index: 0.49381\n",
            "Validation at Epoch 5 , MSE: 0.02557 , Pearson Correlation: -0.0403 with p-value: 6.21E-01 , Concordance Index: 0.47490\n",
            "Validation at Epoch 6 , MSE: 0.02459 , Pearson Correlation: 0.18144 with p-value: 2.53E-02 , Concordance Index: 0.55942\n",
            "Validation at Epoch 7 , MSE: 0.02469 , Pearson Correlation: 0.19553 with p-value: 1.58E-02 , Concordance Index: 0.55785\n",
            "Validation at Epoch 8 , MSE: 0.02439 , Pearson Correlation: 0.27173 with p-value: 7.08E-04 , Concordance Index: 0.59532\n",
            "Validation at Epoch 9 , MSE: 0.02265 , Pearson Correlation: 0.46669 with p-value: 1.36E-09 , Concordance Index: 0.66608\n",
            "Validation at Epoch 10 , MSE: 0.01992 , Pearson Correlation: 0.59238 with p-value: 9.07E-16 , Concordance Index: 0.70730\n",
            "Validation at Epoch 11 , MSE: 0.01631 , Pearson Correlation: 0.60129 with p-value: 2.59E-16 , Concordance Index: 0.71418\n",
            "Validation at Epoch 12 , MSE: 0.01368 , Pearson Correlation: 0.67659 with p-value: 1.10E-21 , Concordance Index: 0.73806\n",
            "Validation at Epoch 13 , MSE: 0.01487 , Pearson Correlation: 0.68546 with p-value: 2.01E-22 , Concordance Index: 0.74468\n",
            "Validation at Epoch 14 , MSE: 0.01182 , Pearson Correlation: 0.72988 with p-value: 1.46E-26 , Concordance Index: 0.75967\n",
            "Validation at Epoch 15 , MSE: 0.01212 , Pearson Correlation: 0.72548 with p-value: 4.09E-26 , Concordance Index: 0.76742\n",
            "Validation at Epoch 16 , MSE: 0.01174 , Pearson Correlation: 0.73211 with p-value: 8.63E-27 , Concordance Index: 0.76742\n",
            "Validation at Epoch 17 , MSE: 0.01047 , Pearson Correlation: 0.76474 with p-value: 1.97E-30 , Concordance Index: 0.77518\n",
            "Validation at Epoch 18 , MSE: 0.01118 , Pearson Correlation: 0.75919 with p-value: 8.99E-30 , Concordance Index: 0.78694\n",
            "Validation at Epoch 19 , MSE: 0.01049 , Pearson Correlation: 0.76383 with p-value: 2.53E-30 , Concordance Index: 0.78337\n",
            "Validation at Epoch 20 , MSE: 0.01017 , Pearson Correlation: 0.77348 with p-value: 1.65E-31 , Concordance Index: 0.78337\n",
            "Validation at Epoch 21 , MSE: 0.01165 , Pearson Correlation: 0.76547 with p-value: 1.61E-30 , Concordance Index: 0.77771\n",
            "Validation at Epoch 22 , MSE: 0.01114 , Pearson Correlation: 0.77413 with p-value: 1.36E-31 , Concordance Index: 0.78389\n",
            "Validation at Epoch 23 , MSE: 0.00947 , Pearson Correlation: 0.79808 with p-value: 8.08E-35 , Concordance Index: 0.78982\n",
            "Validation at Epoch 24 , MSE: 0.00992 , Pearson Correlation: 0.78091 with p-value: 1.83E-32 , Concordance Index: 0.79165\n",
            "Validation at Epoch 25 , MSE: 0.00952 , Pearson Correlation: 0.79398 with p-value: 3.09E-34 , Concordance Index: 0.79043\n",
            "Validation at Epoch 26 , MSE: 0.00959 , Pearson Correlation: 0.79680 with p-value: 1.23E-34 , Concordance Index: 0.78790\n",
            "Validation at Epoch 27 , MSE: 0.01003 , Pearson Correlation: 0.78570 with p-value: 4.25E-33 , Concordance Index: 0.78485\n",
            "Validation at Epoch 28 , MSE: 0.00950 , Pearson Correlation: 0.78937 with p-value: 1.35E-33 , Concordance Index: 0.78180\n",
            "Validation at Epoch 29 , MSE: 0.00977 , Pearson Correlation: 0.78601 with p-value: 3.86E-33 , Concordance Index: 0.78494\n",
            "Validation at Epoch 30 , MSE: 0.00964 , Pearson Correlation: 0.78748 with p-value: 2.44E-33 , Concordance Index: 0.78354\n"
          ]
        }
      ]
    },
    {
      "cell_type": "code",
      "source": [
        "for i, (v_d, label) in enumerate(test_dataset):\n",
        "    print(v_d)\n",
        "    print(label)\n",
        "    break"
      ],
      "metadata": {
        "colab": {
          "base_uri": "https://localhost:8080/"
        },
        "id": "I1YSaO8sxhqz",
        "outputId": "77f4400d-4a6a-4b5f-8188-20858f21fabc"
      },
      "execution_count": null,
      "outputs": [
        {
          "output_type": "stream",
          "name": "stdout",
          "text": [
            "[[0. 0. 0. 0. 0. 0. 0. 0. 0. 0. 0. 0. 0. 0. 0. 0. 0. 0. 0. 0. 0. 0. 0.]\n",
            " [0. 0. 0. 0. 0. 1. 1. 0. 1. 0. 0. 0. 0. 0. 0. 1. 0. 0. 1. 1. 0. 0. 0.]\n",
            " [0. 0. 0. 0. 1. 0. 0. 0. 0. 0. 1. 0. 0. 0. 0. 0. 1. 0. 0. 0. 0. 0. 0.]\n",
            " [0. 1. 0. 1. 0. 0. 0. 0. 0. 0. 0. 0. 1. 1. 0. 0. 0. 0. 0. 0. 1. 1. 1.]\n",
            " [1. 0. 1. 0. 0. 0. 0. 1. 0. 1. 0. 1. 0. 0. 1. 0. 0. 1. 0. 0. 0. 0. 0.]]\n",
            "0.1766602192134107\n"
          ]
        }
      ]
    },
    {
      "cell_type": "code",
      "source": [
        "# 테스트 진행\n",
        "\n",
        "y_pred = []\n",
        "y_label = []\n",
        "\n",
        "model.eval()\n",
        "for i, (v_s, label) in enumerate(test_generator):\n",
        "    # input data gpu에 올리기\n",
        "    v_s = v_s.float().to(device)\n",
        "\n",
        "    # forward-pass\n",
        "    score = model(v_s)\n",
        "\n",
        "    # 예측값 gradient graph detach -> cpu로 옮기기 -> numpy 형으로 변환\n",
        "    logits = torch.squeeze(score).detach().cpu().numpy()\n",
        "\n",
        "    # 참값 cpu로 옮기고 numpy 형으로 변환\n",
        "    label_ids = label.cpu().numpy()\n",
        "\n",
        "    # 예측값, 참값 기록\n",
        "    y_label = y_label + label_ids.flatten().tolist()\n",
        "    y_pred = y_pred + logits.flatten().tolist()\n",
        "\n",
        "# metric 계산\n",
        "mse = mean_squared_error(y_label, y_pred)\n",
        "r2 = pearsonr(y_label, y_pred)[0]\n",
        "p_val = pearsonr(y_label, y_pred)[1]\n",
        "CI =  concordance_index(y_label, y_pred)\n",
        "\n",
        "print('TestSet Performence Metric '+  ' , MSE: ' + str(mse)[:7] + ' , Pearson Correlation: '\\\n",
        "        + str(r2)[:7] + ' with p-value: ' + str(f\"{p_val:.2E}\") +' , Concordance Index: '+str(CI)[:7])"
      ],
      "metadata": {
        "colab": {
          "base_uri": "https://localhost:8080/"
        },
        "id": "FZ1qv50rxkag",
        "outputId": "5211908a-b976-48d8-fa9c-aa11db339e47"
      },
      "execution_count": null,
      "outputs": [
        {
          "output_type": "stream",
          "name": "stdout",
          "text": [
            "TestSet Performence Metric  , MSE: 0.00990 , Pearson Correlation: 0.76252 with p-value: 4.60E-59 , Concordance Index: 0.78228\n"
          ]
        }
      ]
    },
    {
      "cell_type": "code",
      "source": [
        "# 최종 테스트 결과 시각화\n",
        "import matplotlib.pyplot as plt\n",
        "\n",
        "# 참값 ~ 예측값 scatter plot\n",
        "plt.figure(figsize=(10,10))\n",
        "plt.scatter(y_label, y_pred, c='crimson')\n",
        "plt.yscale('log')\n",
        "plt.xscale('log')\n",
        "\n",
        "p1 = max(max(y_pred), max(y_label))\n",
        "p2 = min(min(y_pred), min(y_label))\n",
        "plt.plot([p1, p2], [p1, p2], 'b-')\n",
        "plt.xlabel('True Values', fontsize=15)\n",
        "plt.ylabel('Predictions', fontsize=15)\n",
        "plt.axis('equal')\n",
        "plt.title('CRISPR Repair Outcome Prediction')\n",
        "plt.show()"
      ],
      "metadata": {
        "id": "yAbJ-4y2xoKQ",
        "outputId": "5d8195b2-9669-4791-e445-fbf65dc7abd6",
        "colab": {
          "base_uri": "https://localhost:8080/",
          "height": 883
        }
      },
      "execution_count": null,
      "outputs": [
        {
          "output_type": "display_data",
          "data": {
            "text/plain": [
              "<Figure size 1000x1000 with 1 Axes>"
            ],
            "image/png": "[encoded data removed]"
          },
          "metadata": {}
        }
      ]
    }
  ]
}