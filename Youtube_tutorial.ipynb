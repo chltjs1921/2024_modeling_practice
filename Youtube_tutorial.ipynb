{
  "nbformat": 4,
  "nbformat_minor": 0,
  "metadata": {
    "colab": {
      "provenance": [],
      "mount_file_id": "1scrrW_ZzjmJ_FG2jJkbYwhQavB7THJhV",
      "authorship_tag": "ABX9TyOILpI3wLdKhmQhV2BhGbyb",
      "include_colab_link": true
    },
    "kernelspec": {
      "name": "python3",
      "display_name": "Python 3"
    },
    "language_info": {
      "name": "python"
    },
    "widgets": {
      "application/vnd.jupyter.widget-state+json": {
        "067d9fb0291e41e8a054cb5657fe43f6": {
          "model_module": "nglview-js-widgets",
          "model_name": "NGLModel",
          "model_module_version": "3.1.0",
          "state": {
            "_camera_orientation": [],
            "_camera_str": "orthographic",
            "_dom_classes": [],
            "_gui_theme": null,
            "_ibtn_fullscreen": "IPY_MODEL_02f6e7dcc39c488d9dc9158ea376c392",
            "_igui": null,
            "_iplayer": "IPY_MODEL_b9dea0b90b664956a927bbd79a03f1d3",
            "_model_module": "nglview-js-widgets",
            "_model_module_version": "3.1.0",
            "_model_name": "NGLModel",
            "_ngl_color_dict": {},
            "_ngl_coordinate_resource": {},
            "_ngl_full_stage_parameters": {},
            "_ngl_msg_archive": [
              {
                "target": "Stage",
                "type": "call_method",
                "methodName": "loadFile",
                "reconstruc_color_scheme": false,
                "args": [
                  {
                    "type": "blob",
                    "data": "data_1CRN\n# \n_entry.id   1CRN \n# \n_audit_conform.dict_name       mmcif_pdbx.dic \n_audit_conform.dict_version    5.287 \n_audit_conform.dict_location   http://mmcif.pdb.org/dictionaries/ascii/mmcif_pdbx.dic \n# \nloop_\n_database_2.database_id \n_database_2.database_code \nPDB   1CRN         \nWWPDB D_1000172485 \n# \n_pdbx_database_status.status_code                     REL \n_pdbx_database_status.entry_id                        1CRN \n_pdbx_database_status.recvd_initial_deposition_date   1981-04-30 \n_pdbx_database_status.deposit_site                    ? \n_pdbx_database_status.process_site                    BNL \n_pdbx_database_status.SG_entry                        . \n_pdbx_database_status.status_code_sf                  ? \n_pdbx_database_status.status_code_mr                  ? \n_pdbx_database_status.status_code_cs                  ? \n_pdbx_database_status.methods_development_category    ? \n_pdbx_database_status.pdb_format_compatible           Y \n# \nloop_\n_audit_author.name \n_audit_author.pdbx_ordinal \n'Hendrickson, W.A.' 1 \n'Teeter, M.M.'      2 \n# \nloop_\n_citation.id \n_citation.title \n_citation.journal_abbrev \n_citation.journal_volume \n_citation.page_first \n_citation.page_last \n_citation.year \n_citation.journal_id_ASTM \n_citation.country \n_citation.journal_id_ISSN \n_citation.journal_id_CSD \n_citation.book_publisher \n_citation.pdbx_database_id_PubMed \n_citation.pdbx_database_id_DOI \nprimary 'Water structure of a hydrophobic protein at atomic resolution: Pentagon rings of water molecules in crystals of crambin.' \nProc.Natl.Acad.Sci.Usa 81  6014 6018 1984 PNASA6 US 0027-8424 0040 ? 16593516 10.1073/pnas.81.19.6014 \n1       'Structure of the Hydrophobic Protein Crambin Determined Directly from the Anomalous Scattering of Sulphur'                \nNature                 290 107  ?    1981 NATUAS UK 0028-0836 0006 ? ?        ?                       \n2       'Highly Ordered Crystals of the Plant Seed Protein Crambin'                                                                \nJ.Mol.Biol.            127 219  ?    1979 JMOBAK UK 0022-2836 0070 ? ?        ?                       \n# \nloop_\n_citation_author.citation_id \n_citation_author.name \n_citation_author.ordinal \nprimary 'Teeter, M.M.'      1 \n1       'Hendrickson, W.A.' 2 \n1       'Teeter, M.M.'      3 \n2       'Teeter, M.M.'      4 \n2       'Hendrickson, W.A.' 5 \n# \n_cell.entry_id           1CRN \n_cell.length_a           40.960 \n_cell.length_b           18.650 \n_cell.length_c           22.520 \n_cell.angle_alpha        90.00 \n_cell.angle_beta         90.77 \n_cell.angle_gamma        90.00 \n_cell.Z_PDB              2 \n_cell.pdbx_unique_axis   ? \n_cell.length_a_esd       ? \n_cell.length_b_esd       ? \n_cell.length_c_esd       ? \n_cell.angle_alpha_esd    ? \n_cell.angle_beta_esd     ? \n_cell.angle_gamma_esd    ? \n# \n_symmetry.entry_id                         1CRN \n_symmetry.space_group_name_H-M             'P 1 21 1' \n_symmetry.pdbx_full_space_group_name_H-M   ? \n_symmetry.cell_setting                     ? \n_symmetry.Int_Tables_number                4 \n_symmetry.space_group_name_Hall            ? \n# \n_entity.id                         1 \n_entity.type                       polymer \n_entity.src_method                 man \n_entity.pdbx_description           CRAMBIN \n_entity.formula_weight             4738.447 \n_entity.pdbx_number_of_molecules   1 \n_entity.pdbx_ec                    ? \n_entity.pdbx_mutation              ? \n_entity.pdbx_fragment              ? \n_entity.details                    ? \n# \n_entity_poly.entity_id                      1 \n_entity_poly.type                           'polypeptide(L)' \n_entity_poly.nstd_linkage                   no \n_entity_poly.nstd_monomer                   no \n_entity_poly.pdbx_seq_one_letter_code       TTCCPSIVARSNFNVCRLPGTPEAICATYTGCIIIPGATCPGDYAN \n_entity_poly.pdbx_seq_one_letter_code_can   TTCCPSIVARSNFNVCRLPGTPEAICATYTGCIIIPGATCPGDYAN \n_entity_poly.pdbx_strand_id                 A \n_entity_poly.pdbx_target_identifier         ? \n# \nloop_\n_entity_poly_seq.entity_id \n_entity_poly_seq.num \n_entity_poly_seq.mon_id \n_entity_poly_seq.hetero \n1 1  THR n \n1 2  THR n \n1 3  CYS n \n1 4  CYS n \n1 5  PRO n \n1 6  SER n \n1 7  ILE n \n1 8  VAL n \n1 9  ALA n \n1 10 ARG n \n1 11 SER n \n1 12 ASN n \n1 13 PHE n \n1 14 ASN n \n1 15 VAL n \n1 16 CYS n \n1 17 ARG n \n1 18 LEU n \n1 19 PRO n \n1 20 GLY n \n1 21 THR n \n1 22 PRO n \n1 23 GLU n \n1 24 ALA n \n1 25 ILE n \n1 26 CYS n \n1 27 ALA n \n1 28 THR n \n1 29 TYR n \n1 30 THR n \n1 31 GLY n \n1 32 CYS n \n1 33 ILE n \n1 34 ILE n \n1 35 ILE n \n1 36 PRO n \n1 37 GLY n \n1 38 ALA n \n1 39 THR n \n1 40 CYS n \n1 41 PRO n \n1 42 GLY n \n1 43 ASP n \n1 44 TYR n \n1 45 ALA n \n1 46 ASN n \n# \n_entity_src_gen.entity_id                          1 \n_entity_src_gen.pdbx_src_id                        1 \n_entity_src_gen.pdbx_alt_source_flag               sample \n_entity_src_gen.pdbx_seq_type                      ? \n_entity_src_gen.pdbx_beg_seq_num                   ? \n_entity_src_gen.pdbx_end_seq_num                   ? \n_entity_src_gen.gene_src_common_name               ? \n_entity_src_gen.gene_src_genus                     Crambe \n_entity_src_gen.pdbx_gene_src_gene                 ? \n_entity_src_gen.gene_src_species                   'Crambe hispanica' \n_entity_src_gen.gene_src_strain                    'subsp. abyssinica' \n_entity_src_gen.gene_src_tissue                    ? \n_entity_src_gen.gene_src_tissue_fraction           ? \n_entity_src_gen.gene_src_details                   ? \n_entity_src_gen.pdbx_gene_src_fragment             ? \n_entity_src_gen.pdbx_gene_src_scientific_name      'Crambe hispanica subsp. abyssinica' \n_entity_src_gen.pdbx_gene_src_ncbi_taxonomy_id     3721 \n_entity_src_gen.pdbx_gene_src_variant              ? \n_entity_src_gen.pdbx_gene_src_cell_line            ? \n_entity_src_gen.pdbx_gene_src_atcc                 ? \n_entity_src_gen.pdbx_gene_src_organ                ? \n_entity_src_gen.pdbx_gene_src_organelle            ? \n_entity_src_gen.pdbx_gene_src_cell                 ? \n_entity_src_gen.pdbx_gene_src_cellular_location    ? \n_entity_src_gen.host_org_common_name               ? \n_entity_src_gen.pdbx_host_org_scientific_name      ? \n_entity_src_gen.pdbx_host_org_ncbi_taxonomy_id     ? \n_entity_src_gen.host_org_genus                     ? \n_entity_src_gen.pdbx_host_org_gene                 ? \n_entity_src_gen.pdbx_host_org_organ                ? \n_entity_src_gen.host_org_species                   ? \n_entity_src_gen.pdbx_host_org_tissue               ? \n_entity_src_gen.pdbx_host_org_tissue_fraction      ? \n_entity_src_gen.pdbx_host_org_strain               ? \n_entity_src_gen.pdbx_host_org_variant              ? \n_entity_src_gen.pdbx_host_org_cell_line            ? \n_entity_src_gen.pdbx_host_org_atcc                 ? \n_entity_src_gen.pdbx_host_org_culture_collection   ? \n_entity_src_gen.pdbx_host_org_cell                 ? \n_entity_src_gen.pdbx_host_org_organelle            ? \n_entity_src_gen.pdbx_host_org_cellular_location    ? \n_entity_src_gen.pdbx_host_org_vector_type          ? \n_entity_src_gen.pdbx_host_org_vector               ? \n_entity_src_gen.host_org_details                   ? \n_entity_src_gen.expression_system_id               ? \n_entity_src_gen.plasmid_name                       ? \n_entity_src_gen.plasmid_details                    ? \n_entity_src_gen.pdbx_description                   ? \n# \n_struct_ref.id                         1 \n_struct_ref.db_name                    UNP \n_struct_ref.db_code                    CRAM_CRAAB \n_struct_ref.entity_id                  1 \n_struct_ref.pdbx_db_accession          P01542 \n_struct_ref.pdbx_align_begin           1 \n_struct_ref.pdbx_seq_one_letter_code   TTCCPSIVARSNFNVCRLPGTPEAICATYTGCIIIPGATCPGDYAN \n_struct_ref.pdbx_db_isoform            ? \n# \n_struct_ref_seq.align_id                      1 \n_struct_ref_seq.ref_id                        1 \n_struct_ref_seq.pdbx_PDB_id_code              1CRN \n_struct_ref_seq.pdbx_strand_id                A \n_struct_ref_seq.seq_align_beg                 1 \n_struct_ref_seq.pdbx_seq_align_beg_ins_code   ? \n_struct_ref_seq.seq_align_end                 46 \n_struct_ref_seq.pdbx_seq_align_end_ins_code   ? \n_struct_ref_seq.pdbx_db_accession             P01542 \n_struct_ref_seq.db_align_beg                  1 \n_struct_ref_seq.pdbx_db_align_beg_ins_code    ? \n_struct_ref_seq.db_align_end                  46 \n_struct_ref_seq.pdbx_db_align_end_ins_code    ? \n_struct_ref_seq.pdbx_auth_seq_align_beg       1 \n_struct_ref_seq.pdbx_auth_seq_align_end       46 \n# \nloop_\n_chem_comp.id \n_chem_comp.type \n_chem_comp.mon_nstd_flag \n_chem_comp.name \n_chem_comp.pdbx_synonyms \n_chem_comp.formula \n_chem_comp.formula_weight \nALA 'L-peptide linking' y ALANINE         ? 'C3 H7 N O2'     89.093  \nARG 'L-peptide linking' y ARGININE        ? 'C6 H15 N4 O2 1' 175.209 \nASN 'L-peptide linking' y ASPARAGINE      ? 'C4 H8 N2 O3'    132.118 \nASP 'L-peptide linking' y 'ASPARTIC ACID' ? 'C4 H7 N O4'     133.103 \nCYS 'L-peptide linking' y CYSTEINE        ? 'C3 H7 N O2 S'   121.158 \nGLU 'L-peptide linking' y 'GLUTAMIC ACID' ? 'C5 H9 N O4'     147.129 \nGLY 'peptide linking'   y GLYCINE         ? 'C2 H5 N O2'     75.067  \nILE 'L-peptide linking' y ISOLEUCINE      ? 'C6 H13 N O2'    131.173 \nLEU 'L-peptide linking' y LEUCINE         ? 'C6 H13 N O2'    131.173 \nPHE 'L-peptide linking' y PHENYLALANINE   ? 'C9 H11 N O2'    165.189 \nPRO 'L-peptide linking' y PROLINE         ? 'C5 H9 N O2'     115.130 \nSER 'L-peptide linking' y SERINE          ? 'C3 H7 N O3'     105.093 \nTHR 'L-peptide linking' y THREONINE       ? 'C4 H9 N O3'     119.119 \nTYR 'L-peptide linking' y TYROSINE        ? 'C9 H11 N O3'    181.189 \nVAL 'L-peptide linking' y VALINE          ? 'C5 H11 N O2'    117.146 \n# \n_exptl.entry_id          1CRN \n_exptl.method            'X-RAY DIFFRACTION' \n_exptl.crystals_number   ? \n# \n_exptl_crystal.id                    1 \n_exptl_crystal.density_meas          ? \n_exptl_crystal.density_Matthews      1.81 \n_exptl_crystal.density_percent_sol   32.16 \n_exptl_crystal.description           ? \n_exptl_crystal.F_000                 ? \n_exptl_crystal.preparation           ? \n# \n_diffrn.id                     1 \n_diffrn.ambient_temp           ? \n_diffrn.ambient_temp_details   ? \n_diffrn.crystal_id             1 \n# \n_diffrn_radiation.diffrn_id                        1 \n_diffrn_radiation.wavelength_id                    1 \n_diffrn_radiation.pdbx_monochromatic_or_laue_m_l   ? \n_diffrn_radiation.monochromator                    ? \n_diffrn_radiation.pdbx_diffrn_protocol             ? \n_diffrn_radiation.pdbx_scattering_type             x-ray \n# \n_diffrn_radiation_wavelength.id           1 \n_diffrn_radiation_wavelength.wavelength   . \n_diffrn_radiation_wavelength.wt           1.0 \n# \n_refine.entry_id                                 1CRN \n_refine.ls_number_reflns_obs                     ? \n_refine.ls_number_reflns_all                     ? \n_refine.pdbx_ls_sigma_I                          ? \n_refine.pdbx_ls_sigma_F                          ? \n_refine.pdbx_data_cutoff_high_absF               ? \n_refine.pdbx_data_cutoff_low_absF                ? \n_refine.pdbx_data_cutoff_high_rms_absF           ? \n_refine.ls_d_res_low                             ? \n_refine.ls_d_res_high                            1.5 \n_refine.ls_percent_reflns_obs                    ? \n_refine.ls_R_factor_obs                          ? \n_refine.ls_R_factor_all                          ? \n_refine.ls_R_factor_R_work                       ? \n_refine.ls_R_factor_R_free                       ? \n_refine.ls_R_factor_R_free_error                 ? \n_refine.ls_R_factor_R_free_error_details         ? \n_refine.ls_percent_reflns_R_free                 ? \n_refine.ls_number_reflns_R_free                  ? \n_refine.ls_number_parameters                     ? \n_refine.ls_number_restraints                     ? \n_refine.occupancy_min                            ? \n_refine.occupancy_max                            ? \n_refine.B_iso_mean                               ? \n_refine.aniso_B[1][1]                            ? \n_refine.aniso_B[2][2]                            ? \n_refine.aniso_B[3][3]                            ? \n_refine.aniso_B[1][2]                            ? \n_refine.aniso_B[1][3]                            ? \n_refine.aniso_B[2][3]                            ? \n_refine.solvent_model_details                    ? \n_refine.solvent_model_param_ksol                 ? \n_refine.solvent_model_param_bsol                 ? \n_refine.pdbx_ls_cross_valid_method               ? \n_refine.details                                  ? \n_refine.pdbx_starting_model                      ? \n_refine.pdbx_method_to_determine_struct          ? \n_refine.pdbx_isotropic_thermal_model             ? \n_refine.pdbx_stereochemistry_target_values       ? \n_refine.pdbx_stereochem_target_val_spec_case     ? \n_refine.pdbx_R_Free_selection_details            ? \n_refine.pdbx_overall_ESU_R                       ? \n_refine.pdbx_overall_ESU_R_Free                  ? \n_refine.overall_SU_ML                            ? \n_refine.overall_SU_B                             ? \n_refine.pdbx_refine_id                           'X-RAY DIFFRACTION' \n_refine.pdbx_diffrn_id                           1 \n_refine.ls_redundancy_reflns_obs                 ? \n_refine.pdbx_overall_phase_error                 ? \n_refine.B_iso_min                                ? \n_refine.B_iso_max                                ? \n_refine.correlation_coeff_Fo_to_Fc               ? \n_refine.correlation_coeff_Fo_to_Fc_free          ? \n_refine.pdbx_solvent_vdw_probe_radii             ? \n_refine.pdbx_solvent_ion_probe_radii             ? \n_refine.pdbx_solvent_shrinkage_radii             ? \n_refine.overall_SU_R_Cruickshank_DPI             ? \n_refine.overall_SU_R_free                        ? \n_refine.ls_wR_factor_R_free                      ? \n_refine.ls_wR_factor_R_work                      ? \n_refine.overall_FOM_free_R_set                   ? \n_refine.overall_FOM_work_R_set                   ? \n_refine.pdbx_TLS_residual_ADP_flag               ? \n_refine.pdbx_overall_SU_R_free_Cruickshank_DPI   ? \n_refine.pdbx_overall_SU_R_Blow_DPI               ? \n_refine.pdbx_overall_SU_R_free_Blow_DPI          ? \n# \n_refine_hist.pdbx_refine_id                   'X-RAY DIFFRACTION' \n_refine_hist.cycle_id                         LAST \n_refine_hist.pdbx_number_atoms_protein        327 \n_refine_hist.pdbx_number_atoms_nucleic_acid   0 \n_refine_hist.pdbx_number_atoms_ligand         0 \n_refine_hist.number_atoms_solvent             0 \n_refine_hist.number_atoms_total               327 \n_refine_hist.d_res_high                       1.5 \n_refine_hist.d_res_low                        . \n# \n_struct.entry_id                  1CRN \n_struct.title                     \n'WATER STRUCTURE OF A HYDROPHOBIC PROTEIN AT ATOMIC RESOLUTION. PENTAGON RINGS OF WATER MOLECULES IN CRYSTALS OF CRAMBIN' \n_struct.pdbx_descriptor           CRAMBIN \n_struct.pdbx_model_details        ? \n_struct.pdbx_CASP_flag            ? \n_struct.pdbx_model_type_details   ? \n# \n_struct_keywords.entry_id        1CRN \n_struct_keywords.pdbx_keywords   'PLANT PROTEIN' \n_struct_keywords.text            'PLANT SEED PROTEIN, PLANT PROTEIN' \n# \n_struct_asym.id                            A \n_struct_asym.pdbx_blank_PDB_chainid_flag   N \n_struct_asym.pdbx_modified                 N \n_struct_asym.entity_id                     1 \n_struct_asym.details                       ? \n# \n_struct_biol.id        1 \n_struct_biol.details   ? \n# \nloop_\n_struct_conf.conf_type_id \n_struct_conf.id \n_struct_conf.pdbx_PDB_helix_id \n_struct_conf.beg_label_comp_id \n_struct_conf.beg_label_asym_id \n_struct_conf.beg_label_seq_id \n_struct_conf.pdbx_beg_PDB_ins_code \n_struct_conf.end_label_comp_id \n_struct_conf.end_label_asym_id \n_struct_conf.end_label_seq_id \n_struct_conf.pdbx_end_PDB_ins_code \n_struct_conf.beg_auth_comp_id \n_struct_conf.beg_auth_asym_id \n_struct_conf.beg_auth_seq_id \n_struct_conf.end_auth_comp_id \n_struct_conf.end_auth_asym_id \n_struct_conf.end_auth_seq_id \n_struct_conf.pdbx_PDB_helix_class \n_struct_conf.details \n_struct_conf.pdbx_PDB_helix_length \nHELX_P HELX_P1 H1 ILE A 7  ? PRO A 19 ? ILE A 7  PRO A 19 1 '3/10 CONFORMATION RES 17,19' 13 \nHELX_P HELX_P2 H2 GLU A 23 ? THR A 30 ? GLU A 23 THR A 30 1 'DISTORTED 3/10 AT RES 30'    8  \n# \n_struct_conf_type.id          HELX_P \n_struct_conf_type.criteria    ? \n_struct_conf_type.reference   ? \n# \nloop_\n_struct_conn.id \n_struct_conn.conn_type_id \n_struct_conn.pdbx_leaving_atom_flag \n_struct_conn.pdbx_PDB_id \n_struct_conn.ptnr1_label_asym_id \n_struct_conn.ptnr1_label_comp_id \n_struct_conn.ptnr1_label_seq_id \n_struct_conn.ptnr1_label_atom_id \n_struct_conn.pdbx_ptnr1_label_alt_id \n_struct_conn.pdbx_ptnr1_PDB_ins_code \n_struct_conn.pdbx_ptnr1_standard_comp_id \n_struct_conn.ptnr1_symmetry \n_struct_conn.ptnr2_label_asym_id \n_struct_conn.ptnr2_label_comp_id \n_struct_conn.ptnr2_label_seq_id \n_struct_conn.ptnr2_label_atom_id \n_struct_conn.pdbx_ptnr2_label_alt_id \n_struct_conn.pdbx_ptnr2_PDB_ins_code \n_struct_conn.ptnr1_auth_asym_id \n_struct_conn.ptnr1_auth_comp_id \n_struct_conn.ptnr1_auth_seq_id \n_struct_conn.ptnr2_auth_asym_id \n_struct_conn.ptnr2_auth_comp_id \n_struct_conn.ptnr2_auth_seq_id \n_struct_conn.ptnr2_symmetry \n_struct_conn.pdbx_ptnr3_label_atom_id \n_struct_conn.pdbx_ptnr3_label_seq_id \n_struct_conn.pdbx_ptnr3_label_comp_id \n_struct_conn.pdbx_ptnr3_label_asym_id \n_struct_conn.pdbx_ptnr3_label_alt_id \n_struct_conn.pdbx_ptnr3_PDB_ins_code \n_struct_conn.details \n_struct_conn.pdbx_dist_value \n_struct_conn.pdbx_value_order \ndisulf1 disulf ? ? A CYS 3  SG ? ? ? 1_555 A CYS 40 SG ? ? A CYS 3  A CYS 40 1_555 ? ? ? ? ? ? ? 2.004 ? \ndisulf2 disulf ? ? A CYS 4  SG ? ? ? 1_555 A CYS 32 SG ? ? A CYS 4  A CYS 32 1_555 ? ? ? ? ? ? ? 2.035 ? \ndisulf3 disulf ? ? A CYS 16 SG ? ? ? 1_555 A CYS 26 SG ? ? A CYS 16 A CYS 26 1_555 ? ? ? ? ? ? ? 2.051 ? \n# \n_struct_conn_type.id          disulf \n_struct_conn_type.criteria    ? \n_struct_conn_type.reference   ? \n# \n_struct_sheet.id               S1 \n_struct_sheet.type             ? \n_struct_sheet.number_strands   2 \n_struct_sheet.details          ? \n# \n_struct_sheet_order.sheet_id     S1 \n_struct_sheet_order.range_id_1   1 \n_struct_sheet_order.range_id_2   2 \n_struct_sheet_order.offset       ? \n_struct_sheet_order.sense        anti-parallel \n# \nloop_\n_struct_sheet_range.sheet_id \n_struct_sheet_range.id \n_struct_sheet_range.beg_label_comp_id \n_struct_sheet_range.beg_label_asym_id \n_struct_sheet_range.beg_label_seq_id \n_struct_sheet_range.pdbx_beg_PDB_ins_code \n_struct_sheet_range.end_label_comp_id \n_struct_sheet_range.end_label_asym_id \n_struct_sheet_range.end_label_seq_id \n_struct_sheet_range.pdbx_end_PDB_ins_code \n_struct_sheet_range.beg_auth_comp_id \n_struct_sheet_range.beg_auth_asym_id \n_struct_sheet_range.beg_auth_seq_id \n_struct_sheet_range.end_auth_comp_id \n_struct_sheet_range.end_auth_asym_id \n_struct_sheet_range.end_auth_seq_id \nS1 1 THR A 1  ? CYS A 4  ? THR A 1  CYS A 4  \nS1 2 CYS A 32 ? ILE A 35 ? CYS A 32 ILE A 35 \n# \n_database_PDB_matrix.entry_id          1CRN \n_database_PDB_matrix.origx[1][1]       1.000000 \n_database_PDB_matrix.origx[1][2]       0.000000 \n_database_PDB_matrix.origx[1][3]       0.000000 \n_database_PDB_matrix.origx[2][1]       0.000000 \n_database_PDB_matrix.origx[2][2]       1.000000 \n_database_PDB_matrix.origx[2][3]       0.000000 \n_database_PDB_matrix.origx[3][1]       0.000000 \n_database_PDB_matrix.origx[3][2]       0.000000 \n_database_PDB_matrix.origx[3][3]       1.000000 \n_database_PDB_matrix.origx_vector[1]   0.00000 \n_database_PDB_matrix.origx_vector[2]   0.00000 \n_database_PDB_matrix.origx_vector[3]   0.00000 \n# \n_atom_sites.entry_id                    1CRN \n_atom_sites.fract_transf_matrix[1][1]   0.024414 \n_atom_sites.fract_transf_matrix[1][2]   0.000000 \n_atom_sites.fract_transf_matrix[1][3]   0.000328 \n_atom_sites.fract_transf_matrix[2][1]   0.000000 \n_atom_sites.fract_transf_matrix[2][2]   0.053619 \n_atom_sites.fract_transf_matrix[2][3]   0.000000 \n_atom_sites.fract_transf_matrix[3][1]   0.000000 \n_atom_sites.fract_transf_matrix[3][2]   0.000000 \n_atom_sites.fract_transf_matrix[3][3]   0.044409 \n_atom_sites.fract_transf_vector[1]      0.00000 \n_atom_sites.fract_transf_vector[2]      0.00000 \n_atom_sites.fract_transf_vector[3]      0.00000 \n# \nloop_\n_atom_type.symbol \nC \nN \nO \nS \n# \nloop_\n_atom_site.group_PDB \n_atom_site.id \n_atom_site.type_symbol \n_atom_site.label_atom_id \n_atom_site.label_alt_id \n_atom_site.label_comp_id \n_atom_site.label_asym_id \n_atom_site.label_entity_id \n_atom_site.label_seq_id \n_atom_site.pdbx_PDB_ins_code \n_atom_site.Cartn_x \n_atom_site.Cartn_y \n_atom_site.Cartn_z \n_atom_site.occupancy \n_atom_site.B_iso_or_equiv \n_atom_site.pdbx_formal_charge \n_atom_site.auth_seq_id \n_atom_site.auth_comp_id \n_atom_site.auth_asym_id \n_atom_site.auth_atom_id \n_atom_site.pdbx_PDB_model_num \nATOM 1   N N   . THR A 1 1  ? 17.047 14.099 3.625  1.00 13.79 ? 1  THR A N   1 \nATOM 2   C CA  . THR A 1 1  ? 16.967 12.784 4.338  1.00 10.80 ? 1  THR A CA  1 \nATOM 3   C C   . THR A 1 1  ? 15.685 12.755 5.133  1.00 9.19  ? 1  THR A C   1 \nATOM 4   O O   . THR A 1 1  ? 15.268 13.825 5.594  1.00 9.85  ? 1  THR A O   1 \nATOM 5   C CB  . THR A 1 1  ? 18.170 12.703 5.337  1.00 13.02 ? 1  THR A CB  1 \nATOM 6   O OG1 . THR A 1 1  ? 19.334 12.829 4.463  1.00 15.06 ? 1  THR A OG1 1 \nATOM 7   C CG2 . THR A 1 1  ? 18.150 11.546 6.304  1.00 14.23 ? 1  THR A CG2 1 \nATOM 8   N N   . THR A 1 2  ? 15.115 11.555 5.265  1.00 7.81  ? 2  THR A N   1 \nATOM 9   C CA  . THR A 1 2  ? 13.856 11.469 6.066  1.00 8.31  ? 2  THR A CA  1 \nATOM 10  C C   . THR A 1 2  ? 14.164 10.785 7.379  1.00 5.80  ? 2  THR A C   1 \nATOM 11  O O   . THR A 1 2  ? 14.993 9.862  7.443  1.00 6.94  ? 2  THR A O   1 \nATOM 12  C CB  . THR A 1 2  ? 12.732 10.711 5.261  1.00 10.32 ? 2  THR A CB  1 \nATOM 13  O OG1 . THR A 1 2  ? 13.308 9.439  4.926  1.00 12.81 ? 2  THR A OG1 1 \nATOM 14  C CG2 . THR A 1 2  ? 12.484 11.442 3.895  1.00 11.90 ? 2  THR A CG2 1 \nATOM 15  N N   . CYS A 1 3  ? 13.488 11.241 8.417  1.00 5.24  ? 3  CYS A N   1 \nATOM 16  C CA  . CYS A 1 3  ? 13.660 10.707 9.787  1.00 5.39  ? 3  CYS A CA  1 \nATOM 17  C C   . CYS A 1 3  ? 12.269 10.431 10.323 1.00 4.45  ? 3  CYS A C   1 \nATOM 18  O O   . CYS A 1 3  ? 11.393 11.308 10.185 1.00 6.54  ? 3  CYS A O   1 \nATOM 19  C CB  . CYS A 1 3  ? 14.368 11.748 10.691 1.00 5.99  ? 3  CYS A CB  1 \nATOM 20  S SG  . CYS A 1 3  ? 15.885 12.426 10.016 1.00 7.01  ? 3  CYS A SG  1 \nATOM 21  N N   . CYS A 1 4  ? 12.019 9.272  10.928 1.00 3.90  ? 4  CYS A N   1 \nATOM 22  C CA  . CYS A 1 4  ? 10.646 8.991  11.408 1.00 4.24  ? 4  CYS A CA  1 \nATOM 23  C C   . CYS A 1 4  ? 10.654 8.793  12.919 1.00 3.72  ? 4  CYS A C   1 \nATOM 24  O O   . CYS A 1 4  ? 11.659 8.296  13.491 1.00 5.30  ? 4  CYS A O   1 \nATOM 25  C CB  . CYS A 1 4  ? 10.057 7.752  10.682 1.00 4.41  ? 4  CYS A CB  1 \nATOM 26  S SG  . CYS A 1 4  ? 9.837  8.018  8.904  1.00 4.72  ? 4  CYS A SG  1 \nATOM 27  N N   . PRO A 1 5  ? 9.561  9.108  13.563 1.00 3.96  ? 5  PRO A N   1 \nATOM 28  C CA  . PRO A 1 5  ? 9.448  9.034  15.012 1.00 4.25  ? 5  PRO A CA  1 \nATOM 29  C C   . PRO A 1 5  ? 9.288  7.670  15.606 1.00 4.96  ? 5  PRO A C   1 \nATOM 30  O O   . PRO A 1 5  ? 9.490  7.519  16.819 1.00 7.44  ? 5  PRO A O   1 \nATOM 31  C CB  . PRO A 1 5  ? 8.230  9.957  15.345 1.00 5.11  ? 5  PRO A CB  1 \nATOM 32  C CG  . PRO A 1 5  ? 7.338  9.786  14.114 1.00 5.24  ? 5  PRO A CG  1 \nATOM 33  C CD  . PRO A 1 5  ? 8.366  9.804  12.958 1.00 5.20  ? 5  PRO A CD  1 \nATOM 34  N N   . SER A 1 6  ? 8.875  6.686  14.796 1.00 4.83  ? 6  SER A N   1 \nATOM 35  C CA  . SER A 1 6  ? 8.673  5.314  15.279 1.00 4.45  ? 6  SER A CA  1 \nATOM 36  C C   . SER A 1 6  ? 8.753  4.376  14.083 1.00 4.99  ? 6  SER A C   1 \nATOM 37  O O   . SER A 1 6  ? 8.726  4.858  12.923 1.00 4.61  ? 6  SER A O   1 \nATOM 38  C CB  . SER A 1 6  ? 7.340  5.121  15.996 1.00 5.05  ? 6  SER A CB  1 \nATOM 39  O OG  . SER A 1 6  ? 6.274  5.220  15.031 1.00 6.39  ? 6  SER A OG  1 \nATOM 40  N N   . ILE A 1 7  ? 8.881  3.075  14.358 1.00 4.94  ? 7  ILE A N   1 \nATOM 41  C CA  . ILE A 1 7  ? 8.912  2.083  13.258 1.00 6.33  ? 7  ILE A CA  1 \nATOM 42  C C   . ILE A 1 7  ? 7.581  2.090  12.506 1.00 5.32  ? 7  ILE A C   1 \nATOM 43  O O   . ILE A 1 7  ? 7.670  2.031  11.245 1.00 6.85  ? 7  ILE A O   1 \nATOM 44  C CB  . ILE A 1 7  ? 9.207  0.677  13.924 1.00 8.43  ? 7  ILE A CB  1 \nATOM 45  C CG1 . ILE A 1 7  ? 10.714 0.702  14.312 1.00 9.78  ? 7  ILE A CG1 1 \nATOM 46  C CG2 . ILE A 1 7  ? 8.811  -0.477 12.969 1.00 11.70 ? 7  ILE A CG2 1 \nATOM 47  C CD1 . ILE A 1 7  ? 11.185 -0.516 15.142 1.00 9.92  ? 7  ILE A CD1 1 \nATOM 48  N N   . VAL A 1 8  ? 6.458  2.162  13.159 1.00 5.02  ? 8  VAL A N   1 \nATOM 49  C CA  . VAL A 1 8  ? 5.145  2.209  12.453 1.00 6.93  ? 8  VAL A CA  1 \nATOM 50  C C   . VAL A 1 8  ? 5.115  3.379  11.461 1.00 5.39  ? 8  VAL A C   1 \nATOM 51  O O   . VAL A 1 8  ? 4.664  3.268  10.343 1.00 6.30  ? 8  VAL A O   1 \nATOM 52  C CB  . VAL A 1 8  ? 3.995  2.354  13.478 1.00 9.64  ? 8  VAL A CB  1 \nATOM 53  C CG1 . VAL A 1 8  ? 2.716  2.891  12.869 1.00 13.85 ? 8  VAL A CG1 1 \nATOM 54  C CG2 . VAL A 1 8  ? 3.758  1.032  14.208 1.00 11.97 ? 8  VAL A CG2 1 \nATOM 55  N N   . ALA A 1 9  ? 5.606  4.546  11.941 1.00 3.73  ? 9  ALA A N   1 \nATOM 56  C CA  . ALA A 1 9  ? 5.598  5.767  11.082 1.00 3.56  ? 9  ALA A CA  1 \nATOM 57  C C   . ALA A 1 9  ? 6.441  5.527  9.850  1.00 4.13  ? 9  ALA A C   1 \nATOM 58  O O   . ALA A 1 9  ? 6.052  5.933  8.744  1.00 4.36  ? 9  ALA A O   1 \nATOM 59  C CB  . ALA A 1 9  ? 6.022  6.977  11.891 1.00 4.80  ? 9  ALA A CB  1 \nATOM 60  N N   . ARG A 1 10 ? 7.647  4.909  10.005 1.00 3.73  ? 10 ARG A N   1 \nATOM 61  C CA  . ARG A 1 10 ? 8.496  4.609  8.837  1.00 3.38  ? 10 ARG A CA  1 \nATOM 62  C C   . ARG A 1 10 ? 7.798  3.609  7.876  1.00 3.47  ? 10 ARG A C   1 \nATOM 63  O O   . ARG A 1 10 ? 7.878  3.778  6.651  1.00 4.67  ? 10 ARG A O   1 \nATOM 64  C CB  . ARG A 1 10 ? 9.847  4.020  9.305  1.00 3.95  ? 10 ARG A CB  1 \nATOM 65  C CG  . ARG A 1 10 ? 10.752 3.607  8.149  1.00 4.55  ? 10 ARG A CG  1 \nATOM 66  C CD  . ARG A 1 10 ? 11.226 4.699  7.244  1.00 5.89  ? 10 ARG A CD  1 \nATOM 67  N NE  . ARG A 1 10 ? 12.143 5.571  8.035  1.00 6.20  ? 10 ARG A NE  1 \nATOM 68  C CZ  . ARG A 1 10 ? 12.758 6.609  7.443  1.00 7.52  ? 10 ARG A CZ  1 \nATOM 69  N NH1 . ARG A 1 10 ? 12.539 6.932  6.158  1.00 10.68 ? 10 ARG A NH1 1 \nATOM 70  N NH2 . ARG A 1 10 ? 13.601 7.322  8.202  1.00 9.48  ? 10 ARG A NH2 1 \nATOM 71  N N   . SER A 1 11 ? 7.186  2.582  8.445  1.00 5.19  ? 11 SER A N   1 \nATOM 72  C CA  . SER A 1 11 ? 6.500  1.584  7.565  1.00 4.60  ? 11 SER A CA  1 \nATOM 73  C C   . SER A 1 11 ? 5.382  2.313  6.773  1.00 4.84  ? 11 SER A C   1 \nATOM 74  O O   . SER A 1 11 ? 5.213  2.016  5.557  1.00 5.84  ? 11 SER A O   1 \nATOM 75  C CB  . SER A 1 11 ? 5.908  0.462  8.400  1.00 5.91  ? 11 SER A CB  1 \nATOM 76  O OG  . SER A 1 11 ? 6.990  -0.272 9.012  1.00 8.38  ? 11 SER A OG  1 \nATOM 77  N N   . ASN A 1 12 ? 4.648  3.182  7.446  1.00 3.54  ? 12 ASN A N   1 \nATOM 78  C CA  . ASN A 1 12 ? 3.545  3.935  6.751  1.00 4.57  ? 12 ASN A CA  1 \nATOM 79  C C   . ASN A 1 12 ? 4.107  4.851  5.691  1.00 4.14  ? 12 ASN A C   1 \nATOM 80  O O   . ASN A 1 12 ? 3.536  5.001  4.617  1.00 5.52  ? 12 ASN A O   1 \nATOM 81  C CB  . ASN A 1 12 ? 2.663  4.677  7.748  1.00 6.42  ? 12 ASN A CB  1 \nATOM 82  C CG  . ASN A 1 12 ? 1.802  3.735  8.610  1.00 8.25  ? 12 ASN A CG  1 \nATOM 83  O OD1 . ASN A 1 12 ? 1.567  2.613  8.165  1.00 12.72 ? 12 ASN A OD1 1 \nATOM 84  N ND2 . ASN A 1 12 ? 1.394  4.252  9.767  1.00 9.92  ? 12 ASN A ND2 1 \nATOM 85  N N   . PHE A 1 13 ? 5.259  5.498  6.005  1.00 3.43  ? 13 PHE A N   1 \nATOM 86  C CA  . PHE A 1 13 ? 5.929  6.358  5.055  1.00 3.49  ? 13 PHE A CA  1 \nATOM 87  C C   . PHE A 1 13 ? 6.304  5.578  3.799  1.00 3.40  ? 13 PHE A C   1 \nATOM 88  O O   . PHE A 1 13 ? 6.136  6.072  2.653  1.00 4.07  ? 13 PHE A O   1 \nATOM 89  C CB  . PHE A 1 13 ? 7.183  6.994  5.754  1.00 5.48  ? 13 PHE A CB  1 \nATOM 90  C CG  . PHE A 1 13 ? 7.884  8.006  4.883  1.00 5.57  ? 13 PHE A CG  1 \nATOM 91  C CD1 . PHE A 1 13 ? 8.906  7.586  4.027  1.00 6.99  ? 13 PHE A CD1 1 \nATOM 92  C CD2 . PHE A 1 13 ? 7.532  9.373  4.983  1.00 6.52  ? 13 PHE A CD2 1 \nATOM 93  C CE1 . PHE A 1 13 ? 9.560  8.539  3.194  1.00 8.20  ? 13 PHE A CE1 1 \nATOM 94  C CE2 . PHE A 1 13 ? 8.176  10.281 4.145  1.00 6.34  ? 13 PHE A CE2 1 \nATOM 95  C CZ  . PHE A 1 13 ? 9.141  9.845  3.292  1.00 6.84  ? 13 PHE A CZ  1 \nATOM 96  N N   . ASN A 1 14 ? 6.900  4.390  3.989  1.00 3.64  ? 14 ASN A N   1 \nATOM 97  C CA  . ASN A 1 14 ? 7.331  3.607  2.791  1.00 4.31  ? 14 ASN A CA  1 \nATOM 98  C C   . ASN A 1 14 ? 6.116  3.210  1.915  1.00 3.98  ? 14 ASN A C   1 \nATOM 99  O O   . ASN A 1 14 ? 6.240  3.144  0.684  1.00 6.22  ? 14 ASN A O   1 \nATOM 100 C CB  . ASN A 1 14 ? 8.145  2.404  3.240  1.00 5.81  ? 14 ASN A CB  1 \nATOM 101 C CG  . ASN A 1 14 ? 9.555  2.856  3.730  1.00 6.82  ? 14 ASN A CG  1 \nATOM 102 O OD1 . ASN A 1 14 ? 10.013 3.895  3.323  1.00 9.43  ? 14 ASN A OD1 1 \nATOM 103 N ND2 . ASN A 1 14 ? 10.120 1.956  4.539  1.00 8.21  ? 14 ASN A ND2 1 \nATOM 104 N N   . VAL A 1 15 ? 4.993  2.927  2.571  1.00 3.76  ? 15 VAL A N   1 \nATOM 105 C CA  . VAL A 1 15 ? 3.782  2.599  1.742  1.00 3.98  ? 15 VAL A CA  1 \nATOM 106 C C   . VAL A 1 15 ? 3.296  3.871  1.004  1.00 3.80  ? 15 VAL A C   1 \nATOM 107 O O   . VAL A 1 15 ? 2.947  3.817  -0.189 1.00 4.85  ? 15 VAL A O   1 \nATOM 108 C CB  . VAL A 1 15 ? 2.698  1.953  2.608  1.00 4.71  ? 15 VAL A CB  1 \nATOM 109 C CG1 . VAL A 1 15 ? 1.384  1.826  1.806  1.00 6.67  ? 15 VAL A CG1 1 \nATOM 110 C CG2 . VAL A 1 15 ? 3.174  0.533  3.005  1.00 6.26  ? 15 VAL A CG2 1 \nATOM 111 N N   . CYS A 1 16 ? 3.321  4.987  1.720  1.00 3.79  ? 16 CYS A N   1 \nATOM 112 C CA  . CYS A 1 16 ? 2.890  6.285  1.126  1.00 3.54  ? 16 CYS A CA  1 \nATOM 113 C C   . CYS A 1 16 ? 3.687  6.597  -0.111 1.00 3.48  ? 16 CYS A C   1 \nATOM 114 O O   . CYS A 1 16 ? 3.200  7.147  -1.103 1.00 4.63  ? 16 CYS A O   1 \nATOM 115 C CB  . CYS A 1 16 ? 3.039  7.369  2.240  1.00 4.58  ? 16 CYS A CB  1 \nATOM 116 S SG  . CYS A 1 16 ? 2.559  9.014  1.649  1.00 5.66  ? 16 CYS A SG  1 \nATOM 117 N N   . ARG A 1 17 ? 4.997  6.227  -0.100 1.00 3.99  ? 17 ARG A N   1 \nATOM 118 C CA  . ARG A 1 17 ? 5.895  6.489  -1.213 1.00 3.83  ? 17 ARG A CA  1 \nATOM 119 C C   . ARG A 1 17 ? 5.738  5.560  -2.409 1.00 3.79  ? 17 ARG A C   1 \nATOM 120 O O   . ARG A 1 17 ? 6.228  5.901  -3.507 1.00 5.39  ? 17 ARG A O   1 \nATOM 121 C CB  . ARG A 1 17 ? 7.370  6.507  -0.731 1.00 4.11  ? 17 ARG A CB  1 \nATOM 122 C CG  . ARG A 1 17 ? 7.717  7.687  0.206  1.00 4.69  ? 17 ARG A CG  1 \nATOM 123 C CD  . ARG A 1 17 ? 7.949  8.947  -0.615 1.00 5.10  ? 17 ARG A CD  1 \nATOM 124 N NE  . ARG A 1 17 ? 9.212  8.856  -1.337 1.00 4.71  ? 17 ARG A NE  1 \nATOM 125 C CZ  . ARG A 1 17 ? 9.537  9.533  -2.431 1.00 5.28  ? 17 ARG A CZ  1 \nATOM 126 N NH1 . ARG A 1 17 ? 8.659  10.350 -3.032 1.00 6.67  ? 17 ARG A NH1 1 \nATOM 127 N NH2 . ARG A 1 17 ? 10.793 9.491  -2.899 1.00 6.41  ? 17 ARG A NH2 1 \nATOM 128 N N   . LEU A 1 18 ? 5.051  4.411  -2.204 1.00 4.70  ? 18 LEU A N   1 \nATOM 129 C CA  . LEU A 1 18 ? 4.933  3.431  -3.326 1.00 5.46  ? 18 LEU A CA  1 \nATOM 130 C C   . LEU A 1 18 ? 4.397  4.014  -4.620 1.00 5.13  ? 18 LEU A C   1 \nATOM 131 O O   . LEU A 1 18 ? 4.988  3.755  -5.687 1.00 5.55  ? 18 LEU A O   1 \nATOM 132 C CB  . LEU A 1 18 ? 4.196  2.184  -2.863 1.00 6.47  ? 18 LEU A CB  1 \nATOM 133 C CG  . LEU A 1 18 ? 4.960  1.178  -1.991 1.00 7.43  ? 18 LEU A CG  1 \nATOM 134 C CD1 . LEU A 1 18 ? 3.907  0.097  -1.634 1.00 8.70  ? 18 LEU A CD1 1 \nATOM 135 C CD2 . LEU A 1 18 ? 6.129  0.606  -2.768 1.00 9.39  ? 18 LEU A CD2 1 \nATOM 136 N N   . PRO A 1 19 ? 3.329  4.795  -4.543 1.00 4.28  ? 19 PRO A N   1 \nATOM 137 C CA  . PRO A 1 19 ? 2.792  5.376  -5.797 1.00 5.38  ? 19 PRO A CA  1 \nATOM 138 C C   . PRO A 1 19 ? 3.573  6.540  -6.322 1.00 6.30  ? 19 PRO A C   1 \nATOM 139 O O   . PRO A 1 19 ? 3.260  7.045  -7.422 1.00 9.62  ? 19 PRO A O   1 \nATOM 140 C CB  . PRO A 1 19 ? 1.358  5.766  -5.472 1.00 5.87  ? 19 PRO A CB  1 \nATOM 141 C CG  . PRO A 1 19 ? 1.223  5.694  -3.993 1.00 6.47  ? 19 PRO A CG  1 \nATOM 142 C CD  . PRO A 1 19 ? 2.421  4.941  -3.408 1.00 6.45  ? 19 PRO A CD  1 \nATOM 143 N N   . GLY A 1 20 ? 4.565  7.047  -5.559 1.00 4.94  ? 20 GLY A N   1 \nATOM 144 C CA  . GLY A 1 20 ? 5.366  8.191  -6.018 1.00 5.39  ? 20 GLY A CA  1 \nATOM 145 C C   . GLY A 1 20 ? 5.007  9.481  -5.280 1.00 5.03  ? 20 GLY A C   1 \nATOM 146 O O   . GLY A 1 20 ? 5.535  10.510 -5.730 1.00 7.34  ? 20 GLY A O   1 \nATOM 147 N N   . THR A 1 21 ? 4.181  9.438  -4.262 1.00 4.10  ? 21 THR A N   1 \nATOM 148 C CA  . THR A 1 21 ? 3.767  10.609 -3.513 1.00 3.94  ? 21 THR A CA  1 \nATOM 149 C C   . THR A 1 21 ? 5.017  11.397 -3.042 1.00 3.96  ? 21 THR A C   1 \nATOM 150 O O   . THR A 1 21 ? 5.947  10.757 -2.523 1.00 5.82  ? 21 THR A O   1 \nATOM 151 C CB  . THR A 1 21 ? 2.992  10.188 -2.225 1.00 4.13  ? 21 THR A CB  1 \nATOM 152 O OG1 . THR A 1 21 ? 2.051  9.144  -2.623 1.00 5.45  ? 21 THR A OG1 1 \nATOM 153 C CG2 . THR A 1 21 ? 2.260  11.349 -1.551 1.00 5.41  ? 21 THR A CG2 1 \nATOM 154 N N   . PRO A 1 22 ? 4.971  12.703 -3.176 1.00 5.04  ? 22 PRO A N   1 \nATOM 155 C CA  . PRO A 1 22 ? 6.143  13.513 -2.696 1.00 4.69  ? 22 PRO A CA  1 \nATOM 156 C C   . PRO A 1 22 ? 6.400  13.233 -1.225 1.00 4.19  ? 22 PRO A C   1 \nATOM 157 O O   . PRO A 1 22 ? 5.485  13.061 -0.382 1.00 4.47  ? 22 PRO A O   1 \nATOM 158 C CB  . PRO A 1 22 ? 5.703  14.969 -2.920 1.00 7.12  ? 22 PRO A CB  1 \nATOM 159 C CG  . PRO A 1 22 ? 4.676  14.893 -3.996 1.00 7.03  ? 22 PRO A CG  1 \nATOM 160 C CD  . PRO A 1 22 ? 3.964  13.567 -3.811 1.00 4.90  ? 22 PRO A CD  1 \nATOM 161 N N   . GLU A 1 23 ? 7.728  13.297 -0.921 1.00 5.16  ? 23 GLU A N   1 \nATOM 162 C CA  . GLU A 1 23 ? 8.114  13.103 0.500  1.00 5.31  ? 23 GLU A CA  1 \nATOM 163 C C   . GLU A 1 23 ? 7.427  14.073 1.410  1.00 4.11  ? 23 GLU A C   1 \nATOM 164 O O   . GLU A 1 23 ? 7.036  13.682 2.540  1.00 5.11  ? 23 GLU A O   1 \nATOM 165 C CB  . GLU A 1 23 ? 9.648  13.285 0.660  1.00 6.16  ? 23 GLU A CB  1 \nATOM 166 C CG  . GLU A 1 23 ? 10.440 12.093 0.063  1.00 7.48  ? 23 GLU A CG  1 \nATOM 167 C CD  . GLU A 1 23 ? 11.941 12.170 0.391  1.00 9.40  ? 23 GLU A CD  1 \nATOM 168 O OE1 . GLU A 1 23 ? 12.416 13.225 0.681  1.00 10.40 ? 23 GLU A OE1 1 \nATOM 169 O OE2 . GLU A 1 23 ? 12.539 11.070 0.292  1.00 13.32 ? 23 GLU A OE2 1 \nATOM 170 N N   . ALA A 1 24 ? 7.212  15.334 0.966  1.00 4.56  ? 24 ALA A N   1 \nATOM 171 C CA  . ALA A 1 24 ? 6.614  16.317 1.913  1.00 4.49  ? 24 ALA A CA  1 \nATOM 172 C C   . ALA A 1 24 ? 5.212  15.936 2.350  1.00 4.10  ? 24 ALA A C   1 \nATOM 173 O O   . ALA A 1 24 ? 4.782  16.166 3.495  1.00 5.64  ? 24 ALA A O   1 \nATOM 174 C CB  . ALA A 1 24 ? 6.605  17.695 1.246  1.00 5.80  ? 24 ALA A CB  1 \nATOM 175 N N   . ILE A 1 25 ? 4.445  15.318 1.405  1.00 4.37  ? 25 ILE A N   1 \nATOM 176 C CA  . ILE A 1 25 ? 3.074  14.894 1.756  1.00 5.44  ? 25 ILE A CA  1 \nATOM 177 C C   . ILE A 1 25 ? 3.085  13.643 2.645  1.00 4.32  ? 25 ILE A C   1 \nATOM 178 O O   . ILE A 1 25 ? 2.315  13.523 3.578  1.00 4.72  ? 25 ILE A O   1 \nATOM 179 C CB  . ILE A 1 25 ? 2.204  14.637 0.462  1.00 6.42  ? 25 ILE A CB  1 \nATOM 180 C CG1 . ILE A 1 25 ? 1.815  16.048 -0.129 1.00 7.50  ? 25 ILE A CG1 1 \nATOM 181 C CG2 . ILE A 1 25 ? 0.903  13.864 0.811  1.00 7.65  ? 25 ILE A CG2 1 \nATOM 182 C CD1 . ILE A 1 25 ? 0.756  16.761 0.757  1.00 7.80  ? 25 ILE A CD1 1 \nATOM 183 N N   . CYS A 1 26 ? 4.032  12.764 2.313  1.00 3.92  ? 26 CYS A N   1 \nATOM 184 C CA  . CYS A 1 26 ? 4.180  11.549 3.187  1.00 4.37  ? 26 CYS A CA  1 \nATOM 185 C C   . CYS A 1 26 ? 4.632  11.944 4.596  1.00 3.95  ? 26 CYS A C   1 \nATOM 186 O O   . CYS A 1 26 ? 4.227  11.252 5.547  1.00 4.74  ? 26 CYS A O   1 \nATOM 187 C CB  . CYS A 1 26 ? 5.038  10.518 2.539  1.00 4.63  ? 26 CYS A CB  1 \nATOM 188 S SG  . CYS A 1 26 ? 4.349  9.794  1.022  1.00 5.61  ? 26 CYS A SG  1 \nATOM 189 N N   . ALA A 1 27 ? 5.408  13.012 4.694  1.00 3.89  ? 27 ALA A N   1 \nATOM 190 C CA  . ALA A 1 27 ? 5.879  13.502 6.026  1.00 4.43  ? 27 ALA A CA  1 \nATOM 191 C C   . ALA A 1 27 ? 4.696  13.908 6.882  1.00 4.26  ? 27 ALA A C   1 \nATOM 192 O O   . ALA A 1 27 ? 4.528  13.422 8.025  1.00 5.44  ? 27 ALA A O   1 \nATOM 193 C CB  . ALA A 1 27 ? 6.880  14.615 5.830  1.00 5.36  ? 27 ALA A CB  1 \nATOM 194 N N   . THR A 1 28 ? 3.827  14.802 6.358  1.00 4.53  ? 28 THR A N   1 \nATOM 195 C CA  . THR A 1 28 ? 2.691  15.221 7.194  1.00 5.08  ? 28 THR A CA  1 \nATOM 196 C C   . THR A 1 28 ? 1.672  14.132 7.434  1.00 4.62  ? 28 THR A C   1 \nATOM 197 O O   . THR A 1 28 ? 0.947  14.112 8.468  1.00 7.80  ? 28 THR A O   1 \nATOM 198 C CB  . THR A 1 28 ? 1.986  16.520 6.614  1.00 6.03  ? 28 THR A CB  1 \nATOM 199 O OG1 . THR A 1 28 ? 1.664  16.221 5.230  1.00 7.19  ? 28 THR A OG1 1 \nATOM 200 C CG2 . THR A 1 28 ? 2.914  17.739 6.700  1.00 7.34  ? 28 THR A CG2 1 \nATOM 201 N N   . TYR A 1 29 ? 1.621  13.190 6.511  1.00 5.01  ? 29 TYR A N   1 \nATOM 202 C CA  . TYR A 1 29 ? 0.715  12.045 6.657  1.00 6.60  ? 29 TYR A CA  1 \nATOM 203 C C   . TYR A 1 29 ? 1.125  11.125 7.815  1.00 4.92  ? 29 TYR A C   1 \nATOM 204 O O   . TYR A 1 29 ? 0.286  10.632 8.545  1.00 7.13  ? 29 TYR A O   1 \nATOM 205 C CB  . TYR A 1 29 ? 0.755  11.229 5.322  1.00 9.66  ? 29 TYR A CB  1 \nATOM 206 C CG  . TYR A 1 29 ? -0.203 10.044 5.354  1.00 11.56 ? 29 TYR A CG  1 \nATOM 207 C CD1 . TYR A 1 29 ? -1.547 10.337 5.645  1.00 12.85 ? 29 TYR A CD1 1 \nATOM 208 C CD2 . TYR A 1 29 ? 0.193  8.750  5.100  1.00 14.44 ? 29 TYR A CD2 1 \nATOM 209 C CE1 . TYR A 1 29 ? -2.496 9.329  5.673  1.00 16.61 ? 29 TYR A CE1 1 \nATOM 210 C CE2 . TYR A 1 29 ? -0.801 7.705  5.156  1.00 17.11 ? 29 TYR A CE2 1 \nATOM 211 C CZ  . TYR A 1 29 ? -2.079 8.031  5.430  1.00 19.99 ? 29 TYR A CZ  1 \nATOM 212 O OH  . TYR A 1 29 ? -3.097 7.057  5.458  1.00 28.98 ? 29 TYR A OH  1 \nATOM 213 N N   . THR A 1 30 ? 2.470  10.984 7.995  1.00 5.31  ? 30 THR A N   1 \nATOM 214 C CA  . THR A 1 30 ? 2.986  9.994  8.950  1.00 5.70  ? 30 THR A CA  1 \nATOM 215 C C   . THR A 1 30 ? 3.609  10.505 10.230 1.00 6.28  ? 30 THR A C   1 \nATOM 216 O O   . THR A 1 30 ? 3.766  9.715  11.186 1.00 8.77  ? 30 THR A O   1 \nATOM 217 C CB  . THR A 1 30 ? 4.076  9.103  8.225  1.00 6.55  ? 30 THR A CB  1 \nATOM 218 O OG1 . THR A 1 30 ? 5.125  10.027 7.824  1.00 6.57  ? 30 THR A OG1 1 \nATOM 219 C CG2 . THR A 1 30 ? 3.493  8.324  7.035  1.00 7.29  ? 30 THR A CG2 1 \nATOM 220 N N   . GLY A 1 31 ? 3.984  11.764 10.241 1.00 4.99  ? 31 GLY A N   1 \nATOM 221 C CA  . GLY A 1 31 ? 4.769  12.336 11.360 1.00 5.50  ? 31 GLY A CA  1 \nATOM 222 C C   . GLY A 1 31 ? 6.255  12.243 11.106 1.00 4.19  ? 31 GLY A C   1 \nATOM 223 O O   . GLY A 1 31 ? 7.037  12.750 11.954 1.00 6.12  ? 31 GLY A O   1 \nATOM 224 N N   . CYS A 1 32 ? 6.710  11.631 9.992  1.00 4.30  ? 32 CYS A N   1 \nATOM 225 C CA  . CYS A 1 32 ? 8.140  11.694 9.635  1.00 4.89  ? 32 CYS A CA  1 \nATOM 226 C C   . CYS A 1 32 ? 8.500  13.141 9.206  1.00 5.50  ? 32 CYS A C   1 \nATOM 227 O O   . CYS A 1 32 ? 7.581  13.949 8.944  1.00 5.82  ? 32 CYS A O   1 \nATOM 228 C CB  . CYS A 1 32 ? 8.504  10.686 8.530  1.00 4.66  ? 32 CYS A CB  1 \nATOM 229 S SG  . CYS A 1 32 ? 8.048  8.987  8.881  1.00 5.33  ? 32 CYS A SG  1 \nATOM 230 N N   . ILE A 1 33 ? 9.793  13.410 9.173  1.00 6.02  ? 33 ILE A N   1 \nATOM 231 C CA  . ILE A 1 33 ? 10.280 14.760 8.823  1.00 5.24  ? 33 ILE A CA  1 \nATOM 232 C C   . ILE A 1 33 ? 11.346 14.658 7.743  1.00 5.16  ? 33 ILE A C   1 \nATOM 233 O O   . ILE A 1 33 ? 11.971 13.583 7.552  1.00 7.19  ? 33 ILE A O   1 \nATOM 234 C CB  . ILE A 1 33 ? 10.790 15.535 10.085 1.00 5.49  ? 33 ILE A CB  1 \nATOM 235 C CG1 . ILE A 1 33 ? 12.059 14.803 10.671 1.00 6.85  ? 33 ILE A CG1 1 \nATOM 236 C CG2 . ILE A 1 33 ? 9.684  15.686 11.138 1.00 6.45  ? 33 ILE A CG2 1 \nATOM 237 C CD1 . ILE A 1 33 ? 12.733 15.676 11.781 1.00 8.94  ? 33 ILE A CD1 1 \nATOM 238 N N   . ILE A 1 34 ? 11.490 15.773 7.038  1.00 5.52  ? 34 ILE A N   1 \nATOM 239 C CA  . ILE A 1 34 ? 12.552 15.877 6.036  1.00 6.82  ? 34 ILE A CA  1 \nATOM 240 C C   . ILE A 1 34 ? 13.590 16.917 6.560  1.00 6.92  ? 34 ILE A C   1 \nATOM 241 O O   . ILE A 1 34 ? 13.168 18.006 6.945  1.00 9.22  ? 34 ILE A O   1 \nATOM 242 C CB  . ILE A 1 34 ? 11.987 16.360 4.681  1.00 8.11  ? 34 ILE A CB  1 \nATOM 243 C CG1 . ILE A 1 34 ? 10.914 15.338 4.163  1.00 9.59  ? 34 ILE A CG1 1 \nATOM 244 C CG2 . ILE A 1 34 ? 13.131 16.517 3.629  1.00 9.73  ? 34 ILE A CG2 1 \nATOM 245 C CD1 . ILE A 1 34 ? 10.151 16.024 2.938  1.00 13.41 ? 34 ILE A CD1 1 \nATOM 246 N N   . ILE A 1 35 ? 14.856 16.493 6.536  1.00 7.06  ? 35 ILE A N   1 \nATOM 247 C CA  . ILE A 1 35 ? 15.930 17.454 6.941  1.00 7.52  ? 35 ILE A CA  1 \nATOM 248 C C   . ILE A 1 35 ? 16.913 17.550 5.819  1.00 6.63  ? 35 ILE A C   1 \nATOM 249 O O   . ILE A 1 35 ? 17.097 16.660 4.970  1.00 7.90  ? 35 ILE A O   1 \nATOM 250 C CB  . ILE A 1 35 ? 16.622 16.995 8.285  1.00 8.07  ? 35 ILE A CB  1 \nATOM 251 C CG1 . ILE A 1 35 ? 17.360 15.651 8.067  1.00 9.41  ? 35 ILE A CG1 1 \nATOM 252 C CG2 . ILE A 1 35 ? 15.592 16.974 9.434  1.00 9.46  ? 35 ILE A CG2 1 \nATOM 253 C CD1 . ILE A 1 35 ? 18.298 15.206 9.219  1.00 9.85  ? 35 ILE A CD1 1 \nATOM 254 N N   . PRO A 1 36 ? 17.664 18.669 5.806  1.00 8.07  ? 36 PRO A N   1 \nATOM 255 C CA  . PRO A 1 36 ? 18.635 18.861 4.738  1.00 8.78  ? 36 PRO A CA  1 \nATOM 256 C C   . PRO A 1 36 ? 19.925 18.042 4.949  1.00 8.31  ? 36 PRO A C   1 \nATOM 257 O O   . PRO A 1 36 ? 20.593 17.742 3.945  1.00 9.09  ? 36 PRO A O   1 \nATOM 258 C CB  . PRO A 1 36 ? 18.945 20.364 4.783  1.00 9.67  ? 36 PRO A CB  1 \nATOM 259 C CG  . PRO A 1 36 ? 18.238 20.937 5.908  1.00 10.15 ? 36 PRO A CG  1 \nATOM 260 C CD  . PRO A 1 36 ? 17.371 19.900 6.596  1.00 9.53  ? 36 PRO A CD  1 \nATOM 261 N N   . GLY A 1 37 ? 20.172 17.730 6.217  1.00 8.48  ? 37 GLY A N   1 \nATOM 262 C CA  . GLY A 1 37 ? 21.452 16.969 6.513  1.00 9.20  ? 37 GLY A CA  1 \nATOM 263 C C   . GLY A 1 37 ? 21.143 15.478 6.427  1.00 10.41 ? 37 GLY A C   1 \nATOM 264 O O   . GLY A 1 37 ? 20.138 15.023 5.878  1.00 12.06 ? 37 GLY A O   1 \nATOM 265 N N   . ALA A 1 38 ? 22.055 14.701 7.032  1.00 9.24  ? 38 ALA A N   1 \nATOM 266 C CA  . ALA A 1 38 ? 22.019 13.242 7.020  1.00 9.24  ? 38 ALA A CA  1 \nATOM 267 C C   . ALA A 1 38 ? 21.944 12.628 8.396  1.00 9.60  ? 38 ALA A C   1 \nATOM 268 O O   . ALA A 1 38 ? 21.869 11.387 8.435  1.00 13.65 ? 38 ALA A O   1 \nATOM 269 C CB  . ALA A 1 38 ? 23.246 12.697 6.275  1.00 10.43 ? 38 ALA A CB  1 \nATOM 270 N N   . THR A 1 39 ? 21.894 13.435 9.436  1.00 8.70  ? 39 THR A N   1 \nATOM 271 C CA  . THR A 1 39 ? 21.936 12.911 10.809 1.00 9.46  ? 39 THR A CA  1 \nATOM 272 C C   . THR A 1 39 ? 20.615 13.191 11.521 1.00 8.32  ? 39 THR A C   1 \nATOM 273 O O   . THR A 1 39 ? 20.357 14.317 11.948 1.00 9.89  ? 39 THR A O   1 \nATOM 274 C CB  . THR A 1 39 ? 23.131 13.601 11.593 1.00 10.72 ? 39 THR A CB  1 \nATOM 275 O OG1 . THR A 1 39 ? 24.284 13.401 10.709 1.00 11.66 ? 39 THR A OG1 1 \nATOM 276 C CG2 . THR A 1 39 ? 23.340 12.935 12.962 1.00 11.81 ? 39 THR A CG2 1 \nATOM 277 N N   . CYS A 1 40 ? 19.827 12.110 11.642 1.00 7.64  ? 40 CYS A N   1 \nATOM 278 C CA  . CYS A 1 40 ? 18.504 12.312 12.298 1.00 8.05  ? 40 CYS A CA  1 \nATOM 279 C C   . CYS A 1 40 ? 18.684 12.451 13.784 1.00 7.63  ? 40 CYS A C   1 \nATOM 280 O O   . CYS A 1 40 ? 19.533 11.718 14.362 1.00 9.64  ? 40 CYS A O   1 \nATOM 281 C CB  . CYS A 1 40 ? 17.582 11.117 11.996 1.00 7.80  ? 40 CYS A CB  1 \nATOM 282 S SG  . CYS A 1 40 ? 17.199 10.929 10.237 1.00 7.30  ? 40 CYS A SG  1 \nATOM 283 N N   . PRO A 1 41 ? 17.880 13.266 14.426 1.00 8.00  ? 41 PRO A N   1 \nATOM 284 C CA  . PRO A 1 41 ? 17.924 13.421 15.877 1.00 8.96  ? 41 PRO A CA  1 \nATOM 285 C C   . PRO A 1 41 ? 17.392 12.206 16.594 1.00 9.06  ? 41 PRO A C   1 \nATOM 286 O O   . PRO A 1 41 ? 16.652 11.368 16.033 1.00 8.82  ? 41 PRO A O   1 \nATOM 287 C CB  . PRO A 1 41 ? 17.076 14.658 16.145 1.00 10.39 ? 41 PRO A CB  1 \nATOM 288 C CG  . PRO A 1 41 ? 16.098 14.689 14.997 1.00 10.99 ? 41 PRO A CG  1 \nATOM 289 C CD  . PRO A 1 41 ? 16.859 14.150 13.779 1.00 10.49 ? 41 PRO A CD  1 \nATOM 290 N N   . GLY A 1 42 ? 17.728 12.124 17.884 1.00 7.55  ? 42 GLY A N   1 \nATOM 291 C CA  . GLY A 1 42 ? 17.334 10.956 18.691 1.00 8.00  ? 42 GLY A CA  1 \nATOM 292 C C   . GLY A 1 42 ? 15.875 10.688 18.871 1.00 7.22  ? 42 GLY A C   1 \nATOM 293 O O   . GLY A 1 42 ? 15.434 9.550  19.166 1.00 8.41  ? 42 GLY A O   1 \nATOM 294 N N   . ASP A 1 43 ? 15.036 11.747 18.715 1.00 5.54  ? 43 ASP A N   1 \nATOM 295 C CA  . ASP A 1 43 ? 13.564 11.573 18.836 1.00 5.85  ? 43 ASP A CA  1 \nATOM 296 C C   . ASP A 1 43 ? 12.936 11.227 17.470 1.00 5.87  ? 43 ASP A C   1 \nATOM 297 O O   . ASP A 1 43 ? 11.720 11.040 17.428 1.00 7.29  ? 43 ASP A O   1 \nATOM 298 C CB  . ASP A 1 43 ? 12.933 12.737 19.580 1.00 6.72  ? 43 ASP A CB  1 \nATOM 299 C CG  . ASP A 1 43 ? 13.140 14.094 18.958 1.00 8.59  ? 43 ASP A CG  1 \nATOM 300 O OD1 . ASP A 1 43 ? 14.109 14.303 18.212 1.00 9.59  ? 43 ASP A OD1 1 \nATOM 301 O OD2 . ASP A 1 43 ? 12.267 14.963 19.265 1.00 11.45 ? 43 ASP A OD2 1 \nATOM 302 N N   . TYR A 1 44 ? 13.725 11.174 16.425 1.00 5.22  ? 44 TYR A N   1 \nATOM 303 C CA  . TYR A 1 44 ? 13.257 10.745 15.081 1.00 5.56  ? 44 TYR A CA  1 \nATOM 304 C C   . TYR A 1 44 ? 14.275 9.687  14.612 1.00 4.61  ? 44 TYR A C   1 \nATOM 305 O O   . TYR A 1 44 ? 14.930 9.862  13.568 1.00 6.04  ? 44 TYR A O   1 \nATOM 306 C CB  . TYR A 1 44 ? 13.200 11.914 14.071 1.00 5.41  ? 44 TYR A CB  1 \nATOM 307 C CG  . TYR A 1 44 ? 12.000 12.819 14.399 1.00 5.34  ? 44 TYR A CG  1 \nATOM 308 C CD1 . TYR A 1 44 ? 12.119 13.853 15.332 1.00 6.59  ? 44 TYR A CD1 1 \nATOM 309 C CD2 . TYR A 1 44 ? 10.775 12.617 13.762 1.00 5.94  ? 44 TYR A CD2 1 \nATOM 310 C CE1 . TYR A 1 44 ? 11.045 14.675 15.610 1.00 5.97  ? 44 TYR A CE1 1 \nATOM 311 C CE2 . TYR A 1 44 ? 9.676  13.433 14.048 1.00 5.17  ? 44 TYR A CE2 1 \nATOM 312 C CZ  . TYR A 1 44 ? 9.802  14.456 14.996 1.00 5.96  ? 44 TYR A CZ  1 \nATOM 313 O OH  . TYR A 1 44 ? 8.740  15.265 15.269 1.00 8.60  ? 44 TYR A OH  1 \nATOM 314 N N   . ALA A 1 45 ? 14.342 8.640  15.422 1.00 4.76  ? 45 ALA A N   1 \nATOM 315 C CA  . ALA A 1 45 ? 15.445 7.667  15.246 1.00 5.89  ? 45 ALA A CA  1 \nATOM 316 C C   . ALA A 1 45 ? 15.171 6.533  14.280 1.00 6.67  ? 45 ALA A C   1 \nATOM 317 O O   . ALA A 1 45 ? 16.093 5.705  14.039 1.00 7.56  ? 45 ALA A O   1 \nATOM 318 C CB  . ALA A 1 45 ? 15.680 7.099  16.682 1.00 6.82  ? 45 ALA A CB  1 \nATOM 319 N N   . ASN A 1 46 ? 13.966 6.502  13.739 1.00 5.80  ? 46 ASN A N   1 \nATOM 320 C CA  . ASN A 1 46 ? 13.512 5.395  12.878 1.00 6.15  ? 46 ASN A CA  1 \nATOM 321 C C   . ASN A 1 46 ? 13.311 5.853  11.455 1.00 6.61  ? 46 ASN A C   1 \nATOM 322 O O   . ASN A 1 46 ? 13.733 6.929  11.026 1.00 7.18  ? 46 ASN A O   1 \nATOM 323 C CB  . ASN A 1 46 ? 12.266 4.769  13.501 1.00 7.27  ? 46 ASN A CB  1 \nATOM 324 C CG  . ASN A 1 46 ? 12.538 4.304  14.922 1.00 7.98  ? 46 ASN A CG  1 \nATOM 325 O OD1 . ASN A 1 46 ? 11.982 4.849  15.886 1.00 11.00 ? 46 ASN A OD1 1 \nATOM 326 N ND2 . ASN A 1 46 ? 13.407 3.298  15.015 1.00 10.32 ? 46 ASN A ND2 1 \nATOM 327 O OXT . ASN A 1 46 ? 12.703 4.973  10.746 1.00 7.86  ? 46 ASN A OXT 1 \n# \nloop_\n_pdbx_poly_seq_scheme.asym_id \n_pdbx_poly_seq_scheme.entity_id \n_pdbx_poly_seq_scheme.seq_id \n_pdbx_poly_seq_scheme.mon_id \n_pdbx_poly_seq_scheme.ndb_seq_num \n_pdbx_poly_seq_scheme.pdb_seq_num \n_pdbx_poly_seq_scheme.auth_seq_num \n_pdbx_poly_seq_scheme.pdb_mon_id \n_pdbx_poly_seq_scheme.auth_mon_id \n_pdbx_poly_seq_scheme.pdb_strand_id \n_pdbx_poly_seq_scheme.pdb_ins_code \n_pdbx_poly_seq_scheme.hetero \nA 1 1  THR 1  1  1  THR THR A . n \nA 1 2  THR 2  2  2  THR THR A . n \nA 1 3  CYS 3  3  3  CYS CYS A . n \nA 1 4  CYS 4  4  4  CYS CYS A . n \nA 1 5  PRO 5  5  5  PRO PRO A . n \nA 1 6  SER 6  6  6  SER SER A . n \nA 1 7  ILE 7  7  7  ILE ILE A . n \nA 1 8  VAL 8  8  8  VAL VAL A . n \nA 1 9  ALA 9  9  9  ALA ALA A . n \nA 1 10 ARG 10 10 10 ARG ARG A . n \nA 1 11 SER 11 11 11 SER SER A . n \nA 1 12 ASN 12 12 12 ASN ASN A . n \nA 1 13 PHE 13 13 13 PHE PHE A . n \nA 1 14 ASN 14 14 14 ASN ASN A . n \nA 1 15 VAL 15 15 15 VAL VAL A . n \nA 1 16 CYS 16 16 16 CYS CYS A . n \nA 1 17 ARG 17 17 17 ARG ARG A . n \nA 1 18 LEU 18 18 18 LEU LEU A . n \nA 1 19 PRO 19 19 19 PRO PRO A . n \nA 1 20 GLY 20 20 20 GLY GLY A . n \nA 1 21 THR 21 21 21 THR THR A . n \nA 1 22 PRO 22 22 22 PRO PRO A . n \nA 1 23 GLU 23 23 23 GLU GLU A . n \nA 1 24 ALA 24 24 24 ALA ALA A . n \nA 1 25 ILE 25 25 25 ILE ILE A . n \nA 1 26 CYS 26 26 26 CYS CYS A . n \nA 1 27 ALA 27 27 27 ALA ALA A . n \nA 1 28 THR 28 28 28 THR THR A . n \nA 1 29 TYR 29 29 29 TYR TYR A . n \nA 1 30 THR 30 30 30 THR THR A . n \nA 1 31 GLY 31 31 31 GLY GLY A . n \nA 1 32 CYS 32 32 32 CYS CYS A . n \nA 1 33 ILE 33 33 33 ILE ILE A . n \nA 1 34 ILE 34 34 34 ILE ILE A . n \nA 1 35 ILE 35 35 35 ILE ILE A . n \nA 1 36 PRO 36 36 36 PRO PRO A . n \nA 1 37 GLY 37 37 37 GLY GLY A . n \nA 1 38 ALA 38 38 38 ALA ALA A . n \nA 1 39 THR 39 39 39 THR THR A . n \nA 1 40 CYS 40 40 40 CYS CYS A . n \nA 1 41 PRO 41 41 41 PRO PRO A . n \nA 1 42 GLY 42 42 42 GLY GLY A . n \nA 1 43 ASP 43 43 43 ASP ASP A . n \nA 1 44 TYR 44 44 44 TYR TYR A . n \nA 1 45 ALA 45 45 45 ALA ALA A . n \nA 1 46 ASN 46 46 46 ASN ASN A . n \n# \n_pdbx_struct_assembly.id                   1 \n_pdbx_struct_assembly.details              author_defined_assembly \n_pdbx_struct_assembly.method_details       ? \n_pdbx_struct_assembly.oligomeric_details   monomeric \n_pdbx_struct_assembly.oligomeric_count     1 \n# \n_pdbx_struct_assembly_gen.assembly_id       1 \n_pdbx_struct_assembly_gen.oper_expression   1 \n_pdbx_struct_assembly_gen.asym_id_list      A \n# \n_pdbx_struct_oper_list.id                   1 \n_pdbx_struct_oper_list.type                 'identity operation' \n_pdbx_struct_oper_list.name                 1_555 \n_pdbx_struct_oper_list.symmetry_operation   x,y,z \n_pdbx_struct_oper_list.matrix[1][1]         1.0000000000 \n_pdbx_struct_oper_list.matrix[1][2]         0.0000000000 \n_pdbx_struct_oper_list.matrix[1][3]         0.0000000000 \n_pdbx_struct_oper_list.vector[1]            0.0000000000 \n_pdbx_struct_oper_list.matrix[2][1]         0.0000000000 \n_pdbx_struct_oper_list.matrix[2][2]         1.0000000000 \n_pdbx_struct_oper_list.matrix[2][3]         0.0000000000 \n_pdbx_struct_oper_list.vector[2]            0.0000000000 \n_pdbx_struct_oper_list.matrix[3][1]         0.0000000000 \n_pdbx_struct_oper_list.matrix[3][2]         0.0000000000 \n_pdbx_struct_oper_list.matrix[3][3]         1.0000000000 \n_pdbx_struct_oper_list.vector[3]            0.0000000000 \n# \nloop_\n_pdbx_audit_revision_history.ordinal \n_pdbx_audit_revision_history.data_content_type \n_pdbx_audit_revision_history.major_revision \n_pdbx_audit_revision_history.minor_revision \n_pdbx_audit_revision_history.revision_date \n1 'Structure model' 1 0 1981-07-28 \n2 'Structure model' 1 1 2008-03-24 \n3 'Structure model' 1 2 2011-07-13 \n4 'Structure model' 1 3 2012-07-11 \n5 'Structure model' 1 4 2017-11-29 \n# \n_pdbx_audit_revision_details.ordinal             1 \n_pdbx_audit_revision_details.revision_ordinal    1 \n_pdbx_audit_revision_details.data_content_type   'Structure model' \n_pdbx_audit_revision_details.provider            repository \n_pdbx_audit_revision_details.type                'Initial release' \n_pdbx_audit_revision_details.description         ? \n# \nloop_\n_pdbx_audit_revision_group.ordinal \n_pdbx_audit_revision_group.revision_ordinal \n_pdbx_audit_revision_group.data_content_type \n_pdbx_audit_revision_group.group \n1 2 'Structure model' 'Version format compliance' \n2 3 'Structure model' 'Version format compliance' \n3 4 'Structure model' Other                       \n4 5 'Structure model' 'Derived calculations'      \n5 5 'Structure model' Other                       \n# \nloop_\n_pdbx_audit_revision_category.ordinal \n_pdbx_audit_revision_category.revision_ordinal \n_pdbx_audit_revision_category.data_content_type \n_pdbx_audit_revision_category.category \n1 5 'Structure model' pdbx_database_status \n2 5 'Structure model' struct_conf          \n3 5 'Structure model' struct_conf_type     \n# \n_pdbx_audit_revision_item.ordinal             1 \n_pdbx_audit_revision_item.revision_ordinal    5 \n_pdbx_audit_revision_item.data_content_type   'Structure model' \n_pdbx_audit_revision_item.item                '_pdbx_database_status.process_site' \n# \n_software.name             PROLSQ \n_software.classification   refinement \n_software.version          . \n_software.citation_id      ? \n_software.pdbx_ordinal     1 \n# \n_pdbx_entry_details.entry_id             1CRN \n_pdbx_entry_details.compound_details     \n;THE SECONDARY STRUCTURE SPECIFICATIONS ARE THOSE DEFINED\nIN REFERENCE 1 ABOVE AND DEPEND ON PARTICULAR DEFINITIONS\nTHAT MAY AFFECT THE DETERMINATION OF END POINTS.  PLEASE\nCONSULT THE PRIMARY REFERENCE AND EXAMINE STRUCTURAL\nDETAILS SUCH AS HYDROGEN BONDING AND CONFORMATION ANGLES\nWHEN MAKING USE OF THE SPECIFICATIONS.\n;\n_pdbx_entry_details.source_details       ? \n_pdbx_entry_details.nonpolymer_details   ? \n_pdbx_entry_details.sequence_details     ? \n# \nloop_\n_pdbx_validate_rmsd_angle.id \n_pdbx_validate_rmsd_angle.PDB_model_num \n_pdbx_validate_rmsd_angle.auth_atom_id_1 \n_pdbx_validate_rmsd_angle.auth_asym_id_1 \n_pdbx_validate_rmsd_angle.auth_comp_id_1 \n_pdbx_validate_rmsd_angle.auth_seq_id_1 \n_pdbx_validate_rmsd_angle.PDB_ins_code_1 \n_pdbx_validate_rmsd_angle.label_alt_id_1 \n_pdbx_validate_rmsd_angle.auth_atom_id_2 \n_pdbx_validate_rmsd_angle.auth_asym_id_2 \n_pdbx_validate_rmsd_angle.auth_comp_id_2 \n_pdbx_validate_rmsd_angle.auth_seq_id_2 \n_pdbx_validate_rmsd_angle.PDB_ins_code_2 \n_pdbx_validate_rmsd_angle.label_alt_id_2 \n_pdbx_validate_rmsd_angle.auth_atom_id_3 \n_pdbx_validate_rmsd_angle.auth_asym_id_3 \n_pdbx_validate_rmsd_angle.auth_comp_id_3 \n_pdbx_validate_rmsd_angle.auth_seq_id_3 \n_pdbx_validate_rmsd_angle.PDB_ins_code_3 \n_pdbx_validate_rmsd_angle.label_alt_id_3 \n_pdbx_validate_rmsd_angle.angle_value \n_pdbx_validate_rmsd_angle.angle_target_value \n_pdbx_validate_rmsd_angle.angle_deviation \n_pdbx_validate_rmsd_angle.angle_standard_deviation \n_pdbx_validate_rmsd_angle.linker_flag \n1 1 NE A ARG 10 ? ? CZ A ARG 10 ? ? NH2 A ARG 10 ? ? 116.71 120.30 -3.59 0.50 N \n2 1 CB A TYR 29 ? ? CG A TYR 29 ? ? CD1 A TYR 29 ? ? 116.31 121.00 -4.69 0.60 N \n# \n",
                    "binary": false
                  }
                ],
                "kwargs": {
                  "defaultRepresentation": true,
                  "ext": "cif"
                }
              }
            ],
            "_ngl_original_stage_parameters": {},
            "_ngl_repr_dict": {},
            "_ngl_serialize": false,
            "_ngl_version": "",
            "_ngl_view_id": [],
            "_player_dict": {},
            "_scene_position": {},
            "_scene_rotation": {},
            "_synced_model_ids": [],
            "_synced_repr_model_ids": [],
            "_view_count": null,
            "_view_height": "",
            "_view_module": "nglview-js-widgets",
            "_view_module_version": "3.1.0",
            "_view_name": "NGLView",
            "_view_width": "",
            "background": "white",
            "frame": 0,
            "gui_style": null,
            "layout": "IPY_MODEL_a3ff7bb3defd41a0840e9c7b9ae691da",
            "max_frame": 0,
            "n_components": 0,
            "picked": {},
            "tabbable": null,
            "tooltip": null
          }
        },
        "f091b1b065c6448ea99e7fbf46583afc": {
          "model_module": "@jupyter-widgets/controls",
          "model_name": "PlayModel",
          "model_module_version": "2.0.0",
          "state": {
            "_dom_classes": [],
            "_model_module": "@jupyter-widgets/controls",
            "_model_module_version": "2.0.0",
            "_model_name": "PlayModel",
            "_view_count": null,
            "_view_module": "@jupyter-widgets/controls",
            "_view_module_version": "2.0.0",
            "_view_name": "PlayView",
            "description": "",
            "description_allow_html": false,
            "disabled": false,
            "interval": 100,
            "layout": "IPY_MODEL_ed4c66071c13417da8160c5472c5731e",
            "max": 0,
            "min": 0,
            "playing": false,
            "repeat": false,
            "show_repeat": true,
            "step": 1,
            "style": "IPY_MODEL_4478d0c8fd75416c802f6243c88566ec",
            "tabbable": null,
            "tooltip": null,
            "value": 0
          }
        },
        "ae0a8ac6b31d403594e95ee9d3a37ac1": {
          "model_module": "@jupyter-widgets/controls",
          "model_name": "IntSliderModel",
          "model_module_version": "2.0.0",
          "state": {
            "_dom_classes": [],
            "_model_module": "@jupyter-widgets/controls",
            "_model_module_version": "2.0.0",
            "_model_name": "IntSliderModel",
            "_view_count": null,
            "_view_module": "@jupyter-widgets/controls",
            "_view_module_version": "2.0.0",
            "_view_name": "IntSliderView",
            "behavior": "drag-tap",
            "continuous_update": true,
            "description": "",
            "description_allow_html": false,
            "disabled": false,
            "layout": "IPY_MODEL_a8ff8efa9ab242879da83187a0aa8ae5",
            "max": 0,
            "min": 0,
            "orientation": "horizontal",
            "readout": true,
            "readout_format": "d",
            "step": 1,
            "style": "IPY_MODEL_61944780aa76456d9dd6786dd583b8ca",
            "tabbable": null,
            "tooltip": null,
            "value": 0
          }
        },
        "ed4c66071c13417da8160c5472c5731e": {
          "model_module": "@jupyter-widgets/base",
          "model_name": "LayoutModel",
          "model_module_version": "2.0.0",
          "state": {
            "_model_module": "@jupyter-widgets/base",
            "_model_module_version": "2.0.0",
            "_model_name": "LayoutModel",
            "_view_count": null,
            "_view_module": "@jupyter-widgets/base",
            "_view_module_version": "2.0.0",
            "_view_name": "LayoutView",
            "align_content": null,
            "align_items": null,
            "align_self": null,
            "border_bottom": null,
            "border_left": null,
            "border_right": null,
            "border_top": null,
            "bottom": null,
            "display": null,
            "flex": null,
            "flex_flow": null,
            "grid_area": null,
            "grid_auto_columns": null,
            "grid_auto_flow": null,
            "grid_auto_rows": null,
            "grid_column": null,
            "grid_gap": null,
            "grid_row": null,
            "grid_template_areas": null,
            "grid_template_columns": null,
            "grid_template_rows": null,
            "height": null,
            "justify_content": null,
            "justify_items": null,
            "left": null,
            "margin": null,
            "max_height": null,
            "max_width": null,
            "min_height": null,
            "min_width": null,
            "object_fit": null,
            "object_position": null,
            "order": null,
            "overflow": null,
            "padding": null,
            "right": null,
            "top": null,
            "visibility": null,
            "width": null
          }
        },
        "4478d0c8fd75416c802f6243c88566ec": {
          "model_module": "@jupyter-widgets/controls",
          "model_name": "DescriptionStyleModel",
          "model_module_version": "2.0.0",
          "state": {
            "_model_module": "@jupyter-widgets/controls",
            "_model_module_version": "2.0.0",
            "_model_name": "DescriptionStyleModel",
            "_view_count": null,
            "_view_module": "@jupyter-widgets/base",
            "_view_module_version": "2.0.0",
            "_view_name": "StyleView",
            "description_width": ""
          }
        },
        "a8ff8efa9ab242879da83187a0aa8ae5": {
          "model_module": "@jupyter-widgets/base",
          "model_name": "LayoutModel",
          "model_module_version": "2.0.0",
          "state": {
            "_model_module": "@jupyter-widgets/base",
            "_model_module_version": "2.0.0",
            "_model_name": "LayoutModel",
            "_view_count": null,
            "_view_module": "@jupyter-widgets/base",
            "_view_module_version": "2.0.0",
            "_view_name": "LayoutView",
            "align_content": null,
            "align_items": null,
            "align_self": null,
            "border_bottom": null,
            "border_left": null,
            "border_right": null,
            "border_top": null,
            "bottom": null,
            "display": null,
            "flex": null,
            "flex_flow": null,
            "grid_area": null,
            "grid_auto_columns": null,
            "grid_auto_flow": null,
            "grid_auto_rows": null,
            "grid_column": null,
            "grid_gap": null,
            "grid_row": null,
            "grid_template_areas": null,
            "grid_template_columns": null,
            "grid_template_rows": null,
            "height": null,
            "justify_content": null,
            "justify_items": null,
            "left": null,
            "margin": null,
            "max_height": null,
            "max_width": null,
            "min_height": null,
            "min_width": null,
            "object_fit": null,
            "object_position": null,
            "order": null,
            "overflow": null,
            "padding": null,
            "right": null,
            "top": null,
            "visibility": null,
            "width": null
          }
        },
        "61944780aa76456d9dd6786dd583b8ca": {
          "model_module": "@jupyter-widgets/controls",
          "model_name": "SliderStyleModel",
          "model_module_version": "2.0.0",
          "state": {
            "_model_module": "@jupyter-widgets/controls",
            "_model_module_version": "2.0.0",
            "_model_name": "SliderStyleModel",
            "_view_count": null,
            "_view_module": "@jupyter-widgets/base",
            "_view_module_version": "2.0.0",
            "_view_name": "StyleView",
            "description_width": "",
            "handle_color": null
          }
        }
      }
    }
  },
  "cells": [
    {
      "cell_type": "markdown",
      "metadata": {
        "id": "view-in-github",
        "colab_type": "text"
      },
      "source": [
        "<a href=\"https://colab.research.google.com/github/chltjs1921/2024_modeling_practice/blob/main/Youtube_tutorial.ipynb\" target=\"_parent\"><img src=\"https://colab.research.google.com/assets/colab-badge.svg\" alt=\"Open In Colab\"/></a>"
      ]
    },
    {
      "cell_type": "code",
      "execution_count": null,
      "metadata": {
        "colab": {
          "base_uri": "https://localhost:8080/"
        },
        "id": "r8BMq1MYXk1f",
        "outputId": "fea89753-7ae1-4434-aae9-d288fd789826"
      },
      "outputs": [
        {
          "output_type": "stream",
          "name": "stdout",
          "text": [
            "Requirement already satisfied: biopython in /usr/local/lib/python3.10/dist-packages (1.84)\n",
            "Requirement already satisfied: numpy in /usr/local/lib/python3.10/dist-packages (from biopython) (1.25.2)\n"
          ]
        }
      ],
      "source": [
        "!pip install biopython"
      ]
    },
    {
      "cell_type": "code",
      "source": [
        "from Bio import SeqIO"
      ],
      "metadata": {
        "id": "d-R3twWpr_qM"
      },
      "execution_count": null,
      "outputs": []
    },
    {
      "cell_type": "code",
      "source": [
        "sequences = []\n",
        "for seq_record in SeqIO.parse(\"/content/drive/MyDrive/Biopython/ls_orchid.fasta\", \"fasta\"):\n",
        "    sequences.append(str(seq_record.seq))\n",
        "    print(seq_record.seq)\n",
        "    print(seq_record.id)\n",
        "    print(len(seq_record))"
      ],
      "metadata": {
        "colab": {
          "base_uri": "https://localhost:8080/"
        },
        "id": "Xk4WrHm6sCZI",
        "outputId": "565dff06-1048-4825-d5c8-b8c6110c2688"
      },
      "execution_count": null,
      "outputs": [
        {
          "output_type": "stream",
          "name": "stdout",
          "text": [
            "CGTAACAAGGTTTCCGTAGGTGAACCTGCGGAAGGATCATTGATGAGACCGTGGAATAAACGATCGAGTGAATCCGGAGGACCGGTGTACTCAGCTCACCGGGGGCATTGCTCCCGTGGTGACCCTGATTTGTTGTTGGGCCGCCTCGGGAGCGTCCATGGCGGGTTTGAACCTCTAGCCCGGCGCAGTTTGGGCGCCAAGCCATATGAAAGCATCACCGGCGAATGGCATTGTCTTCCCCAAAACCCGGAGCGGCGGCGTGCTGTCGCGTGCCCAATGAATTTTGATGACTCTCGCAAACGGGAATCTTGGCTCTTTGCATCGGATGGAAGGACGCAGCGAAATGCGATAAGTGGTGTGAATTGCAAGATCCCGTGAACCATCGAGTCTTTTGAACGCAAGTTGCGCCCGAGGCCATCAGGCTAAGGGCACGCCTGCTTGGGCGTCGCGCTTCGTCTCTCTCCTGCCAATGCTTGCCCGGCATACAGCCAGGCCGGCGTGGTGCGGATGTGAAAGATTGGCCCCTTGTGCCTAGGTGCGGCGGGTCCAAGAGCTGGTGTTTTGATGGCCCGGAACCCGGCAAGAGGTGGACGGATGCTGGCAGCAGCTGCCGTGCGAATCCCCCATGTTGTCGTGCTTGTCGGACAGGCAGGAGAACCCTTCCGAACCCCAATGGAGGGCGGTTGACCGCCATTCGGATGTGACCCCAGGTCAGGCGGGGGCACCCGCTGAGTTTACGC\n",
            "gi|2765658|emb|Z78533.1|CIZ78533\n",
            "740\n",
            "CGTAACAAGGTTTCCGTAGGTGAACCTGCGGAAGGATCATTGTTGAGACAACAGAATATATGATCGAGTGAATCTGGAGGACCTGTGGTAACTCAGCTCGTCGTGGCACTGCTTTTGTCGTGACCCTGCTTTGTTGTTGGGCCTCCTCAAGAGCTTTCATGGCAGGTTTGAACTTTAGTACGGTGCAGTTTGCGCCAAGTCATATAAAGCATCACTGATGAATGACATTATTGTCAGAAAAAATCAGAGGGGCAGTATGCTACTGAGCATGCCAGTGAATTTTTATGACTCTCGCAACGGATATCTTGGCTCTAACATCGATGAAGAACGCAGCTAAATGCGATAAGTGGTGTGAATTGCAGAATCCCGTGAACCATCGAGTCTTTGAACGCAAGTTGCGCTCGAGGCCATCAGGCTAAGGGCACGCCTGCCTGGGCGTCGTGTGTTGCGTCTCTCCTACCAATGCTTGCTTGGCATATCGCTAAGCTGGCATTATACGGATGTGAATGATTGGCCCCTTGTGCCTAGGTGCGGTGGGTCTAAGGATTGTTGCTTTGATGGGTAGGAATGTGGCACGAGGTGGAGAATGCTAACAGTCATAAGGCTGCTATTTGAATCCCCCATGTTGTTGTATTTTTTCGAACCTACACAAGAACCTAATTGAACCCCAATGGAGCTAAAATAACCATTGGGCAGTTGATTTCCATTCAGATGCGACCCCAGGTCAGGCGGGGCCACCCGCTGAGTTGAGGC\n",
            "gi|2765657|emb|Z78532.1|CCZ78532\n",
            "753\n",
            "CGTAACAAGGTTTCCGTAGGTGAACCTGCGGAAGGATCATTGTTGAGACAGCAGAACATACGATCGAGTGAATCCGGAGGACCCGTGGTTACACGGCTCACCGTGGCTTTGCTCTCGTGGTGAACCCGGTTTGCGACCGGGCCGCCTCGGGAACTTTCATGGCGGGTTTGAACGTCTAGCGCGGCGCAGTTTGCGCCAAGTCATATGGAGCGTCACCGATGGATGGCATTTTTGTCAAGAAAAACTCGGAGGGGCGGCGTCTGTTGCGCGTGCCAATGAATTTATGACGACTCTCGGCAACGGGATATCTGGCTCTTGCATCGATGAAGAACGCAGCGAAATGCGATAAGTGGTGTGAATTGCAGAATCCCGCGAACCATCGAGTCTTTGAACGCAAGTTGCGCCCGAGGCCATCAGGCTAAGGGCACGCCTGCCTGGGCGTCGTGTGCTGCGTCTCTCCTGATAATGCTTGATTGGCATGCGGCTAGTCTGTCATTGTGAGGACGTGAAAGATTGGCCCCTTGCGCCTAGGTGCGGCGGGTCTAAGCATCGGTGTTCTGATGGCCCGGAACTTGGCAGTAGGTGGAGGATGCTGGCAGCCGCAAGGCTGCCGTTCGAATCCCCCGTGTTGTCGTACTCGTCAGGCCTACAGAAGAACCTGTTTGAACCCCCAGTGGACGCAAAACCGCCCTCGGGCGGTGATTTCCATTCAGATGCGACCCCAGTCAGGCGGGCCACCCGTGAGTAA\n",
            "gi|2765656|emb|Z78531.1|CFZ78531\n",
            "748\n",
            "CGTAACAAGGTTTCCGTAGGTGAACCTGCGGAAGGATCATTGTTGAAACAACATAATAAACGATTGAGTGAATCTGGAGGACTTGTGGTAATTTGGCTCGCTAGGGATATCCTTTTGTGGTGACCATGATTTGTCATTGGGCCTCATTGAGAGCTTTCATGGCGGGTTTGAACCTCTAGCACGGTCCAGTTTGCACCAAGGTATATAAAGAATCACCGATGAATGACATTATTGCCCCACACAACGTCGGAGGTGTGGTGTGTTAATGTTCATTCCAATGAATTTTGATGACTCTCGGCAGACGGATATCTTGACTCTTGCATCGATGAAGAACGCACCGAAATGTGATAAGTGGTGTGAATTGCAGAATCCCGTGAACCATCGAGTCTTTGAACGCAAGTTGCGCCCGAGGCCATCAGGCTAAGGGCACGCCTGCCTGGGCGTCGTATGTTTTATCTCTCCTTCCAATGCTTGTCCAGCATATAGCTAGGCCATCATTGTGTGGATGTGAAAGATTGGCCCCTTGTGCTTAGGTGCGGTGGGTCTAAGGATATGTGTTTTGATGGTCTGAAACTTGGCAAGAGGTGGAGGATGCTGGCAGCCGCAAGGCTATTGTTTGAATCCCCCATGTTGTCATGTTTGTTGGGCCTATAGAACAACTTGTTTGGACCCTAATTAAGGCAAAACAATCCTTGGGTGGTTGATTTCCAATCAGATGCGACCCCAGTCAGGGGGCCACCCCAT\n",
            "gi|2765655|emb|Z78530.1|CMZ78530\n",
            "744\n",
            "ACGGCGAGCTGCCGAAGGACATTGTTGAGACAGCAGAATATACGATTGAGTGAATCTGGAGGACTTGTGGTTATTTGGCTCGCTAGGGATTTCCTTTTGTGGTGACCATGATTTGTCATTGGGCCTCATTGAGAGCTTTCATGGCGGGTTTGAACCTCTAGCACGGTGCAGTTTGCACCAAGGTATATAAAGAATCACCGATGAATGACATTATTGTCAAAAAAGTCGGAGGTGTGGTGTGTTATTGGTCATGCCAATGAATTGTTGATGACTCTCGCCGAGGGATATCTTGGCTCTTGCATCGATGAAGAATCCCACCGAAATGTGATAAGTGGTGTGAATTGCAGAATCCCGTGAACCATCGAGTCTTTGAACGCAAGTTGCGCCCGAGGCCATCAGGCTAAGGGCACGCCTGCCTGGGCGTCGTATGTTTTATCTCTCCTTCCAATGCTTGTCCAGCATATAGCTAGGCCATCATTGTGTGGATGTGAAAGATTGGCCCCTTGTGCTTAGGTGCGGTGGGTCTAAGGATATGTGTTTTGATGGTCTGAAACTTGGCAAGAGGTGGAGGATGCTGGCAGCCGCAAGGCTATTGTTTGAATCCCCCATGTTGTCATATTTGTTGGGCCTATAGAACAACTTGTTTGGACCCTAATTAAGGCAAAACAATCCTTGGGTGGTTGATTTCCAATCAGATGCGACCCCAGTCAGCGGGCCACCAGCTGAGCTAAAA\n",
            "gi|2765654|emb|Z78529.1|CLZ78529\n",
            "733\n",
            "CGTAACAAGGTTTCCGTAGGTGAACCTGCGGAAGGATCATTGTTGAGACAGTAGAATATATGATCGAGTGAATCTGGATGACCTGTGGTTACTCGGCTCGCCTGATTTGTTGTTGGGCTTCCTTAGGAGCTTACATGGCGGGTTTGAACCTCTACCACGGTGCAGTTTGCGCCAAGTCATATGAAGCATAACTGCAAATGGCACTACTGTCACCAAAAGTTGGAGTGGCAGTGTGTTATTGCATGCGCTAATGGATTTTTGATGACTCTCGGCCAACGGATATCTGGCTCTTTGCATCGATGAAGGAACGCAGCGAAATGCGATAAGTGGTGTGAATTGCAGAATCCCGCGAACCATCGAGTCTTTGAACGCAAGTTGCGCCCGAGGCCATCAGGCTAAGGGCACGCCTGCCTGGGCGTCGTGTATCGCATCTCTCTTGCCAATGCTTACCCGGCATACAACTAGGCTGGCATTGGGTGGATGTGAAAGATTGGCCCCTTGTGCCTAGGTGCGGTGGGTCTAAGGATTGATGTTTTGATGGATCGAAACCTGGCAGGAGGTGGAGGATGCTGGAAGCCGCAAGGCTGTCGTTCGAATCCCCCATGTTGTCATATTTGTCGAACCTATAAAAGAACATGCTTGAACCCCAATGGATTGTAAAATGACCCTTGGCGGTTGATTTCCATTTAGATGCGACCCCAGGTCAGGCGGGCCACCC\n",
            "gi|2765652|emb|Z78527.1|CYZ78527\n",
            "718\n",
            "CGTAACAAGGTTTCCGTAGGTGAACCTGCGGAAGGATCATTGTTGAGACAGTAGAATATATGATCGAGTGAATCTGGAGGACCTGTGGTTACTCGGCTCCCCTGATTTGTTGTTGGGCTTCCTTAGGAGCTTACATGCCGGGTTTGAACCTCTACCACGGTGCAGTTTGCGCCAAGTCATATGAAGCATAACTGAACAATGGCATTATTGTCACCAAAAGTTGGAGTGGCAGTGTGCTATTGCATGCGCTAATGGATTTTTGATGACTCTCGCCAACGGATATCTTGGCTCTTGCATCGATGAAGAACCCAGCGAAATGCGATAAGTGGTGTGAATTGCAGAATCCCGCGAACCATCGAGTCTTTGAACGCAAGTTGCGCCCGAGGCCATCAGGCTAAGGGCACGCCTGCCTGGGCGTCGTGTATCGCATCTCTCTTGCCAATGCTTACCCGGCATACAACTAGGCTGGCATTGTGCGGATGTGAAAGATTGGCCCCTTGTGCCTAGGTGCGGTGGGTCTAAGGATTGATGTTTTGATGGATCGAAACCTGGCAGGAGGTGGAGGATGCTGGAAGCCGCAAGGCTGTCGTTCGAATCCCCCATGTTGTCATATTTGTCGAACCTATAAAAGAACATGCTTGAACCCCAATGGATGTAAAATGACCCTTGGCGGTTGATTTCCATTTAGATGCGACCCCAGGTCAGGCGGGGCCACCCGCTGAGTTTATGT\n",
            "gi|2765651|emb|Z78526.1|CGZ78526\n",
            "730\n",
            "TGTTGAGATAGCAGAATATACATCGAGTGAATCCGGAGGACCTGTGGTTATTCGGCTTGCCGAGGGCTTTGCTTTTGTGGTGACCCAAATTTGTCGTTGGGCCTCCTCGGGAGCTTTCATGGCAGGTTTCAAACTCTAGCACGGCACAGTTTGTGCCAAGTCATATGAAGCATCACCGACAAATGACATTATTGTCAAAAAAGTTGGAGGGGCGGTGTCCTCCTGTGCATGCCGAATATAATTTTGATGACTCTCGACAAGCGGATATCTTGGCTCTTGCATCGGATGAAGAACCCAGCGAAATGCGATAAGTGGTGTGAATTGCAAGATCCCGTGAACCATCGAGTCTTTTGAACGCAAGTTGCGCCCGAGGCCATCAGGCTAAGGGCACGCCTGCCTGGGCGTCGTGTGTTGTGTCTCTCTTGCCAATGCCTGTCCATATATCTAGGCTTGCATTGTGCGGATGCGAAAGATTGGCCCCTTGTGCCTTGGCGCGTTGGGTCTAAGGAATGTTTTGATGGCCCGAAACTTGGCAGGAGGTGGAGGACATTGGCTGCCACAAGGTTGTCATTTAAATCCCCCATGTTATCGTATTTATCGGACCTATATAATAACTTGTTTGAACCCCAGTGGAGGCAAAATGACCCTTGGATGGTTGACTGCCATTCATATGCGACCCCAGGTCAGGCGGGCCACCCGCTGCA\n",
            "gi|2765650|emb|Z78525.1|CAZ78525\n",
            "704\n",
            "CGTAACAAGGTTTCCGTAGGTGAACCTGCGGAAGGATCATTGTTGAGATAGTAGAATATATGATTGAGTGAATATGGAGGACATGTGGTTACTTGGCTCGTCAGTGCTTTGCTTTTGTGGTGACCTTAATTGGGCCTCCTTAGGAGCTTTCATGGCGGGTTCAAACCTTTAGCACGGCGCAGTTTGTGCCAAGTCATATAAGCATCCCTGATGAATGGCATTGTTGTTAAAAAAGTCGGAGGGGCGGCATGCTGTTGTGCATGCTAATGAATTTTTTGATGACTCTCGCAACGGAACTTGGCTCTTTACATCCGATGAAGAACGCAGCGAAATGCGATAAGTGGTGTGAATTGCAGAATCCCGTGAACCATCGAGTATTTGAACGCAAGTTGCGCCCAAGGCCATCAGGCTAAGGGCACGCCTGCCTGGGCGTCGTGTGCTGCATCTCTCCTNCCAATGCTTGCCCAGCATATAGCTAGGTTAGCATTGTGCGGATGAAATATTGGCCCCTTGTGCTTAGGTGCGGTGGGTCTAAGGATTAGTATTTTGATAGCTCGGAACTCGGCAGGAGGTGGAGAATGTTGGTAGCTGCAAGGCTGCCATTTGAATTCCCCATGTTGTCGTATTTGTTGAACCTATAAAAGAACTTGTTTGAACCCCAATGAAGGAAAAATGACCCTTGGGCGGTTGATTTTCATTCAGATGCAACCCCAGGTCAGGTGGCCACCCTGAGATTAAGC\n",
            "gi|2765649|emb|Z78524.1|CFZ78524\n",
            "740\n",
            "CGTAACCAGGTTTCCGTAGGTGAACCTGCGGCAGGATCATTGTTGAGACAGCAGAATATATGATCGAGTGAATCCGGTGGACTTGTGGTTACTCAGCTCGACATAGGCTTTGCTTTTGCGGTGACCCTAACTTGTCATTGGGCCTCCTCCCAAGCTTTCCTTGTGGGTGTGAACCTCTAGCACGGTGCAGTATGCGCCAAGTCATATGAAGCATCACTGAGGAATGACATTATTGTCCCAAAAGCTAGAGTGGAAGCGTGCTCTTGCATGCATGCATAATGAATTTTTTATTGACTCTCGACATATGTGGTGTGAATTGCAGAATCCCGTGAACCATCGAGTCTTTGAACGCAAGTTGCGCCCGATGCCATCAGGCTAAGGGCACGCCTGCCTGGGCGTCGTGTGCTGCGTCTCTCCTATCAATGCTTTCCTATCATATAGATTGGTTTGCATTGCGTGGATGCGAAAGATTGGCCCCTTGTGCCTAGGTGCGGTGGGTCTAAGGACTAGTGTTTTGATGGTTCGAAACCTGGCAGGAGGTGGAGGATGTTGGCAGCTATAAGGCTATCGTTTGAACCCCCCATATTGTCGTGTTTGTCGGACCTAGAGAAGAACCTGTTTGAATCCCAATGGAGGCAAACAACCCTCGGGCGGTTGATTGCCATTCATATTGCGACCCAGGTCAGGCGGGGCCACCGCTGAGTTTAAG\n",
            "gi|2765648|emb|Z78523.1|CHZ78523\n",
            "709\n",
            "CGTAACAAGGTTTCCGTAGGTGAACCTGCGGAAGGATCATTGTTGAGACAGCAGAATATATGATCGAGTGAATCCGGTGGACTTGTGGTTACTCAGCTCGACATAGGCTTTGCTTTTGCGGTGACCCTAATTTGTCATTGGGCCTCCCCCCAAGCTTTCCTTGTGGGTTTGAACCTCTAGCACGGTGCAGTATGCGCCAAGTCATATGAAGCATCACTGATGAATGACATTATTGTCCAAAAAGTTGGAGTGGAAGCGTGCTATTGCATACATGCAAATGAATTTTTTATGACTCTCGACATATCGTGGTGTGATCGCAGAATCCCGTGAACCATCGAGTCTTTGAACGCAAGTTGCGCCCGATGCCATCAGGCTAAGGGAACGCCTGCCTGGGCGTCGTGTGCTGCGTCTCTCCTGTCAATGGTTATACGTCATATAGACAGGTTTGCATTGCGTGGATGTGAAAGATTGGCCCCTTGTGCCTAGGTGCGGTGGGTCTAAGGACTAGTGTTTTGATGGTTCGAAACCTGGCAGGAGGTGGAGGATGTTGGCAGCTATAAGGCTATCATTTGAATCCCCCATATTGTCGTGTTTGTCGGACCTAGAGAAGAACATGTTTGAATCCCAATGGGGGCAAACAACCCTCGGGCGGTTGATTGCCATTCATATGCGACCCCAGGTCAGGCGGCCACCCGCTGAG\n",
            "gi|2765647|emb|Z78522.1|CMZ78522\n",
            "700\n",
            "GTAGGTGAACCTGCGGAAGGATCATTGTTGAGACAGTAGAATATATGATCGAGTGAATCCGGTGGACTTGTGGTTACTCAGCTCGACATAGGCTTGGCTTTGGCGGTGACCCTAATTTGCCATTGGGCCTCCTCCAAAGCTTTCCTTGTGGGTTTGAACCTCTAGCACGGTGCAGTATGCGCCAAGTCATATGAAGCATCACCGATGAATGACATTATTGTCAAAAAGTTGGAGTGGAAGCGTGCTATTGCATGCATGCAAATGAATTTTTTATGACTCTCGACAACGGATATCTTGGCTCTTGCATCGATGAAGAACGCAGCAAAATGCGATAAGTGGTGTGAATTGCAGAATCCCGTGAACCATCGAGTCTTTGAACGCAAGTTGCGCCCGATGCCATCAGGCTAAGGGCACGCCTGCCTGGGCGTCGTGTGCTGCGTCTCTCCTGTCAATGCTTTCATGTCATATAGATAGGTTTGCATTGCGTGGATGTGAAAGAATGGCCCCTTGTGCCTAGGTACGGTGGGTCTAAGGACTAGTGTTTTGATGGTTCGAAACCTGGCAGGAGGTGGAGGATGTTGGCAGCTATAAGGCTATCATTTGAATCCCCCATATTGTCGTGTTTGTCGGACCTAGAGAAAAACATGTTTGAATCCCAATGGAGGCAAACAACTCTCGGGCGGTTGATTGCCATTCATATGCGACCCCAGGTCAGGCGGGGCCACC\n",
            "gi|2765646|emb|Z78521.1|CCZ78521\n",
            "726\n",
            "CGTAACAAGGTTTCCGTAGGTGAACCTGCGGAAGGATCATTGTTGAGACAGCAGAATATATGATCGAGTGAATCCGGTGGACTTGTGGTTACTCAGCTCGCCATAGGCTTTGCTTTTGCGGTGACCCTAATTTGTCATTGGGCCTCCTCCAAAGCTTTCCTTGTGGGTTTGAACCTCTAGCACGGTGCAGTATGCGCCAAGTCATATGAATCATCACCGATGAATGACATTATTGTCCAAAAAGTTGGAGTAGAAGCGTGCTATTGCATGCATGCAATAGAATATTTTATGACTCTCGACAAGGGATATCTTGGCTCTTGCATCGGATGAAGAACGCAGCGAAATTGTGATAAGTGGTGTGAATTGCAGAATCCCGTGAACCATCGAGTATGTGAACGCAAGTTGCGCCCGATGCCATCAGGCTAAGGGCACGCCTGCCTGGGCGTCGTGTGCTGCGTCTCTCCTGTCAATGCTTTCCTGTCATATCGATAGGTTTGCATTGTGTGGATGTGAAAGATTGGCCCCTTGTGCCTAGGTGCGGTGGGTCTAAGGACTAGTGTTTTGATGGTTCGAAACCTGGCAGGAGGTGGAGGATGTTGGCAGCTATAAGGTTGTCATGTGAATCCCCCATATTGTCGTGTTTGTCGGACCTGGAGAAGAACCTGTTTGAATCCCAATGGAGGCAAACAACCCTCGGGCGGTTGATTGCCATTCATATGCGACCCCAGGTCAGGCGGGCCACCCGCTGAGTTT\n",
            "gi|2765645|emb|Z78520.1|CSZ78520\n",
            "753\n",
            "ATATGATCGAGTGAATCTGGTGGACTTGTGGTTACTCAGCTCGCCATAGGCTTTGCTTTTGCGGTGACCCTAATTTGTCATTGGGCCTCCTCCCAAGCTTTCCTTGTGGGTTTGAACCTCTAGCACGGTGCAGTATGCACCAAGTCATATGAAGCATTGCCGATGAATGACATTATTGTCCAAAAGTTGGAGTGGAAGCGTGCTACTGCATGCATGCAAATGAATTTTTTTATGACTCTCGACAACGGATATCTTGGCTCTTGCATCGATGAAGAACGCAGCGAAATGCGATAAGTGGTGTGAATTGCAGAATCCCGTGAACCATCGAGTCTTTGAACGCAAGTTGCGCCCGATGCCATCAGGCTAAGGGCACGCCTGCCTGGGCGTCGTGTGCTGCGTCTCTCCTGTCAATGCTTTCCCATCATATAGATAGGTTTGCATTGTGTGGATGTGAAAGATTGGCCCCTTGTGCCTAGGTGCGGTGGGTCTAAGAACTTAATGTTTTGATGGTTCGAAACCTGGCAGGAGGTGGAGGATGTTGGCAGCTATATAAGGCTATCATTTGAATCCCCCATATTGTCGCGTTTGTTGGACCTAGAGAAGAACATGTTTGAATCCCAATGGAGGCAAACAACCCTCGGGCGGTTGATTGCCATTCATATGCGACCCCAGGTCAGGCGGGGCCACCCGCTGAGTTTA\n",
            "gi|2765644|emb|Z78519.1|CPZ78519\n",
            "699\n",
            "CGTAACAAGGTTTCCGTAGGTGAACCTGCGGGAGGATCATTGTTGAGATAGTAGAATATTCGATCGAGTGAATCCGGAGGACTTGTGGTTACTCGGCTCGTCGAAGGCTTAACTTTTGTGGTGACCCTGATTTGTAGTTGGGCATCCTCGAGAGCTTTTATGGCGGGTTTGAGCCTCTATCACGGCGCAGTTTGCGCCAAGTCATATGAAGCATCGCCGACGAATTACATTATTGTCCCCCAAACTCGGATGGACGGTGTGTGTTACGCATACCCGTGAACCATCGAGTCTTTGAACGCAAGTTGCGCCCAAGGCCATCAGGCTAAGGGCACGCCTGCCTGGGCGTCGTGTGCTGCATCTCTTTTGCCAATGCTTGCTCGACATACAATTAGGCCAGTATTGCATAGATATGAAAGATTGACCCCTTGTGCTTAGGTGCGGTGGGTCTAAGGATTGGTGTTTTGATGGCCCAAACCCCGGCAGGAGGTGGAGCATGTTGATAGTCGCAAGGCTGTCGTTCAAATCCCACATGTTGTCGTATTTGCCGGACCCACAGAAGAACCTATTTGAACCCCTATGGAGGCAAAACAACCCTTGAGCGATTGATTGCCATTCAGATACGACCCCAGGTCAGGCGGGGCCACCCGCTGAGTTTTCC\n",
            "gi|2765643|emb|Z78518.1|CRZ78518\n",
            "658\n",
            "CGTAACAAGGTTTCCGTAGGTGAACCTGCGGAAGGATCATTGTTGAGACAGTAGAATATACGATCGAGTGAATCCAGAGGACTTGTGGTTACTCGGCTCGTCCAAGTCTTAGCTTTTGTGGCCCTGATTTGTCGTTGGGCATCCTCAGGAGATTTTATGGCGGGTTTGAACCTCTATCACGGTGCAGTTTGCGCCAAGTCATATGAAGCATCACCGATGAATGACATTATTGTCACAAAAGTCGGATGGGCGGTGTGCTGTTGTGCATGCCAATAAATTTTTGATGACTCTCGGCCAACGGATATCTTGCTCTTCCATCGATGAAGAACGCAGCGAAATGCGATAAGTGGTGTGAATTGCAGAATCCCGTGAACCATCGAGTCTTTGAACGCAAGTTGCGCCCAAGGCCATCAGGCTAAGGGCACGCCTGCCTGGGCGTCGTGTGCTGCATCTCTTTTGCCAATGCTTGCCCGACATACAATTAGGACAGTATTGCATAGATATGAAAGATTGACCCCTTGTGCTTAGGTGCGGTGGGTCTAAGGATTGGTGTTTTGGTGGCCCGAACCCCGGCAGGAGGTGGATCATGTTGATAGTCGCAAGACTGTCATTCAAATCCCACATGTTGTCGTATTTGTCGGACCCACAGAAGAACCTATTTGAACCCCAATGGAGGCAAAACAACCCTCGAGCGATTGATTGCCATTCAGATACGACCCCAGGTCAGGCGGGGCCACCCGCTGAGTTTAAGC\n",
            "gi|2765642|emb|Z78517.1|CFZ78517\n",
            "752\n",
            "CGTAACAAGGTTTCCGTAGGTGAACCTGCGGAAGGATCATTGTTGAGACAGTATAATATATGATCGAGTGAATCCGGAGGACTTGTGGTTACTCGGCTCGTCCAAGTCTTAGCTTTTGTGGCCCTGATTTGTCGTTGGGCATCCTCAGGAGCTTTTATGGCGGGTTTGAACCTCTATCACGGCGCAGTTTGCGCCAAGTCATATGAAGCATCACCGACGAATGACATTATTGTCACCAAAGTCGGATGGGCGGTGTGCTATTGTGCATACCAATAATTTTTTGATGACTCTCGTCAACGGATATCTTAGCGAAATGCGATAAGTGGTGTGAATTGCAGAATCCCGTGAACCATCGAGTCTTTGAACGCAAGTTGCGCCCAAGGCCATCAGGCTAAGGGCACGCCTGCCTGGGCGTCGTGTGCTGCATCTCTTTTGCCAATGCTTGCCCGACATACAATTAGGCCAGTATTGCATAGATATGAAAGATTGACCCCTTGTGCTTAGGTGCGGTGGGTCTAAGGATTGGTGTTTTGATGTCCCGAACCCCGGCAGGAGGTGGAGCATGTTGATAGTCGCAAGACTATCGTTCAAATCCCACATGTTGTCGTATTTGTCGGACCCACAGAAGAACCTATTTGAACCCCAATGGAGGCAAAACAACCCTCGAGTGATTGATTGCCATTCAGATATGACCCCAGGTCAGGCGGGGCCACCCGCTGAGTTTAA\n",
            "gi|2765641|emb|Z78516.1|CPZ78516\n",
            "726\n",
            "CGTAACAAGGTTTCCGTAGGTGAACCTGCGGAAGGATCATTGCTGAGACCGTAGAATAAACGATCGAGTTAATCTGGAGGACCGGTGTACTTCGATCTCCCAGGGGCTTTCGCTACTGTGGTGGCCTTTGATCTGCCATCGGGCCTCCTTGGGAGTGTTCTTGAAGGCGATCAAACTTCTAGCCCGGCGCAGCTTCGCGCCAAGTCTTTTGAGACAAGAATCGGCATAGGGGTGTTCCCTTGTAGCCGGTGGGGGTGGCACTTGATTCGTGCCCCCCAAGTTACATTTTTACAACTCTCGGCAACGGATATCTCGGCTCTTGCATCGATGGAGGACGCAGCGAAATGCGATAAGTGGTGTGAATTGCAGAATCCCGTGAACATCGAGTCTTTGAACGCAAGTTGCGCTCGAGGCCGTCAGGCTAAGGGCACGCCTGCCTGGGCGTTGTGTACTGTGTCTCTCCCACCAATGGTTGTCCAAGAATACCGTTCGGTCGGTGCGGATGTGAGTTTGGCCCCTTGTTCTTCGGTTCAATGGGTCTAAGACCTCGGGCTTTTGATGGTCCAAAATTCGACAAGAGGTGGATGGGCAATGGCTGAGCCAAAGCTGTTGTGCGAATGCCGTATGTTGTCCGATTTGATGGGCCATCATAATTCGTAGGACCCTTCGGAACCCCATTGGTGCCACATCAACCCAACCCATGGGCGGTTGATTGCCATTTGGAAGCAACCCCAGGTCAGGTGAGGCCACCCGCTGAGTTTAAGC\n",
            "gi|2765640|emb|Z78515.1|MXZ78515\n",
            "765\n",
            "CGTAACAAGGTTTCCGTAGGTGGACCTTCGGGAGGATCATTTTTGAAGCCCCCAAATATACGATCGAGATAATCCGGAGGACCGGTGTACTTTGGTCTCCCAGGGGCTTCCGCCGCTGTGGTGACCATGATTTCCCATCGAACCTCCTTGGGAGAGTTCTCTATGGCAATTGAACCCTTGGCCCGGCGCAGTTTCGCTCCAAGTCAAATGAGATAGAACCGACAAGGGTCTTCGTCCTCCATGGATGGACCGGGGAGGGCCGGCGTGCTGCTGTGCCCCCTTAAGATTCGTCTGACAACTCTCGTCAACGGATATCTCGGCTCTTGCATCGATGAAGAACCCAGCGAAATGTGATAAGTGGTGTGAATTGCAGAATCCCGTGAACCATCGAGTCTTTGAACGCAAGTTGCGCCCGAGGCCATCAGGCTAAGGGCACGCCTGCCTGGGCGTTGCGTGCTGCATCTCTCCCAATGCTAAGGTTGAACAGCCATACTGTTCGGCCGGCGAGGATGAGAGTTTGGCCCCTTGTTCTTCGGTGCGATGGGTCCAAGACTTGGGCTTGTGACGGTCCACAAATCCGGCAAGAGGTGGACGGACGGTGGCTGCGACAAAGCTGTTGTGCGAATGCCCTATGTTGTCGTATTTGATGGGCCGGAATGATCCCTTTCGAACCCCGTCGGAGGCACGTCGACCCAACCCATGGGCGGTTGACGGCCATTAGGATGCAACCCCAGGTCAGGTGAGACTACCCGCTA\n",
            "gi|2765639|emb|Z78514.1|PSZ78514\n",
            "755\n",
            "CGTAACAAGGTTTCCGTAGGTGAACCTGCGGAAGGATCATTGTTGAGACCGCCAAATACACGATCGAGTTAATCCGGAGGACCGGTGTACTTTGGTCTCCCAGGGGCTTCCGCCGCTGTGGTGACCATGATTTGCCATCGAGCCTCATTGGGAGATTTCTCCATGGCAATTGAACCCTTGGCCCGGCGCAGTTTCGCGCCAAGTCAAATGAGATAGAACCGGCAAGGGCATCGTCCTCCATGGAGCCGGGGAGGCCGGCATGCTGCTGTGCCCGAAAGAATTTTCGACAACTCTCGGCAACGGATATCTCGGCTCTTGCATCGATGAAGAACGCAGCGAAATGTGATAAGTGGTGTGAATTGCAGAATCCCGTGAACCATCGAGTCTTTGAACGCAAGTTGCGCCCGAGGCCATCAGGCTAAGGGCACGCCTGCCTGGGCGTTGCGTGCTGCATCTCTCCCAATGCTAAGGTTGAACAGCCATACTGTTCGGCCGGCGAGGATGAGAGTTTGGCCCCTTGTTCTTCTGTGCGATGGGTCCAAGACTTGGGCTTGTGACGGTCCACAAATCCGGCAAGAGGTGGACGGACGGTGGCTGCGACGAAGCTTTTGTGCGAATGCCCTATGTTGTCGTATTTGATGTGCCAGAACGATCCCTTTCGAACCCCTTCGGAGGCACGTCGACCCAACCCATGGGCGGTGACGCCATTAGGATGCAACCCAGTCAGTGAGCTACCGCTGAG\n",
            "gi|2765638|emb|Z78513.1|PBZ78513\n",
            "742\n",
            "CGTAACAAGGTTTCCGTAGGTGGACCTTCGGGAGGATCATTTTTGAAGCCCCCAAAAAAACGATCGAATTAATCCGGAGGGCCGGTGTAGTTTGGTCTCCCAGGGGCCTTGGCTACTGTGGTGACCGTGAATTTCCGTCGAACCCTCTGGGAGGAATTCTTGATGGCAAATGAAACCCTTGGCCCGGCGCAGTTTCGCCCCAAATCAAATGAGATGGAACCGGCGGAGGGCATCGTCCCCCATGGAACCGGGGAGGGCCGGCGTTCTTCCGTTCCCCCAATGAAATTATTTTTTGACAACTCTCGCAACGGATATCTCGGCTCTTGCATCGATGAAGAACGCAGCGAAATGTGATAAGCTGGTGTGAATTGCAGAATCCCGTGAACCATCGAGTCTTTGAACGCAAGTTGCGCCCGAGGCCATCAGGCTAAGGGCACGCCTGCCTGGGCGTTGCGTGCTGCATCTCTCTCCCATTGCTAAGGCTGAACAGGCATACTGTTCGGCCGGCGCGGATGAGTGTTTGGCCCCTTGTTCTTCGGTGCGATGGGTCCAAGACCTGGGCTTTTGACGGCCGGAAATCCGGCAAGAGGTGGACGGACGGTGGCTGCGACGAAGCTGTCGTGCGAATGCCCTGCGTTGTCGTATTTGATGGGCCGGAATAAATCCCTTTTGAACCCCATTGGAGGCACGTCAACCCGTGGGCGGTCGACGGTCATTTGGATCCAACCCCAGGTCAGGTGAGGCCACCCGCTGAGTTTAAGC\n",
            "gi|2765637|emb|Z78512.1|PWZ78512\n",
            "762\n",
            "CGTAACAAGGTTTCCGTAGGTGAACCTTCGGAAGGATCATTGTTGAGACCCCCAAAAAAACGATCGAGTTAATCCGGAGGACCGGTGTAGTTTGGTCTCCCAGGGGCTTTGGCTACTGTGGTGGCCGTGAATTTCCGTCGAACCTCCTTGGGAGAATTCTTGATGGCAATTGAACCCTTGGCCCGGCGCAGTTTCGCCCCAAGTCAAATGAGATGGAACCGGCGGAGGGCATCGTCCTCCATGGAACCGGGGAGGGCCGGCGTTCTTCCGTTCCCCCCATGAATTTTTTTTTGACAACTCTCGGCAACGGATATCTCGGCTCTTTGCATCCGATGAAAGAACCCAGCGAAATGTGATAAGTGGTGTGAATTGCAGAATCCCGTGAACCATCGAGTCTTTGAACGCAAGTTGCGCCCGAGGCCATCAGGCTAAGGGCACGCCTGCCTGGGCGTTGCGTGCTGCATCTCTCTCCCATTGCTAAGGCTGAACAGGCATACTGTTCGGCCGGCGCGGATGAGTGTTTGGCCCCTTGTTCTTCGGTGCGATGGGTCCAAGACCTGGGCTTTTGACGGCCGGAAATCCGGCAAGAGGTGGACGGACGGTGGCTGCGACGAAGCTGTCGTGCGAATGCCCTACGCTGTCGTATTTGATGGGCCGGAATAAATCCCTTTTGAGCCCCATTGGAGGCACGTCAACCCGTGGGCGGTCGACGGCCATTTGGATGCAACCCCAGGTCAGGTGAGGA\n",
            "gi|2765636|emb|Z78511.1|PEZ78511\n",
            "745\n",
            "CTAACCAGGGTTCCGAGGTGACCTTCGGGAGGATTCCTTTTTAAGCCCCCGAAAAAACGATCGAATTAAACCGGAGGACCGGTTTAATTTGGTCTCCCCAGGGGCTTTCCCCCCTTGGTGGCCGTGAATTTCCATCGAACCCCCCTGGGAGAATTCTTGGTGGCCAATGGACCCTTGGCCCGGCGCAATTTCCCCCCCAATCAAATGAGATAGGACCGGCAGGGGGCGTCCCCCCCCATGGAACCGGGGAGGGCCGGCATTCTTCCGTTCCCCCCTCGGATTTTTTGACAACTCTCGCAACGGATATCTCGCCTCTTTGCATCGGATGGAAGAACGCAGCGAAATGTGATAAGTGGTGTGAATTGCAGAATCCCGTGAACCATCGAGTCTTTGAACGCAAGTTGCGCCCGAGGCCATCAGGCTAAGGGCACGCCTGCCTGGGCGTTGCGTGCTGCATCTCTCCCATTGCTAAGGTTGAACGGGCATACTGTTCGGCCGGCGCGGATGAGAGATTGGCCCCTTGTTCTTCGGTGCGATGGGTCCAAGACCTGGGCTTTTGACGGTCCAAAATCCGGCAAGAGGTGGACGGACGGTGGCTGCGACAAAGCTGTCGTGCGAATGCCCTGCGTTGTCGTTTTTGATGGGCCGGAATAAATCCCTTTTGAACCCCATTGGAGGCACGTCAACCCATGGGCGGTTGACGGCCATTTGGATGCAACCCCAGGTCAGGTGAGCCACCCGCTGAGTTTA\n",
            "gi|2765635|emb|Z78510.1|PCZ78510\n",
            "750\n",
            "CGTAACAAGGTTTCCGTAGGTGAACCTGCGGAAGGATCATTGTTGAGACCGCCAAATATACGATCGAGTTAATCCGGAGGACCGGTGTAGTTTGGTCTCCCAGGGGCTTTCGCCGCTGTGGTGACCGTGATTTGCCATCGAGCCTCCTTGGGAGATTTCTTGATGGCAATTGAACCCTTGGCCCGGCGCAGTTTCGCGCCAAGTCATATGAGATAGAACCGGCGGAGGGCGTCGTCCTCCATGGAGCGGGGAGGGCCGGCATGCTCCGTGCCCCCCCATGAATTTTTCTGACAACTCTCGGCAACGGACGTAACAAGGTTTAAATGTGATAAGCAGGTGTGAATTGCAGAATCCCGTGAACCATCGAGTCTTTGAACGCAAGTTGCGCCCGAGGCCATCAGGTTAAGGGCACGCCTGCCTGGGCGTTGCGTGCTGCATCTCTCCCATTGCTAAGGTTGAACGGGCATACTGTTCGGCCGGCGCGGATGAGAGTTTGGCCCCTTGTTCTTCGGTGCGATGGGTCCAAGACCTGGGCTTTTGACGGTCCAAAATCCGGCAAGAGGTGGACGGACGGTGGCTGCGACAGAGCTGTCGTGCGAATGCCCTACGTTGTCGTTTTTGATGGGCCAGAATAAATCCCTTTTGAACCCCATTGGAGGCACGTCAACCCAATGGGGGGTGACGGGCATTTGGTTAACCCCGGCAAGTTAAGGCACCCGTTAATTTTAGGA\n",
            "gi|2765634|emb|Z78509.1|PPZ78509\n",
            "731\n",
            "CGTAACAAGGTTTCCGTAGGTGAACCTGCGGAAGGATCATTGTTGAGACCGCCAAATATACGATCGAGTTAATCCGGAGGACCGGTGTAGTTTGGTCTCCCAGGGGCTTTCGCCGCTGTGGTGACCGTGATTTGCCATCGAGCCTCCTTGGGAGATTTCTTGATGGCAATTGAACCCTTGGCCCGGCGCAGTTTCGCGCCAAGTCATATGAGATAGAACCGGCAGGGGGCGTCGTCCTCCATGGAGCCGGGGAGGGCCGGCATGCTGCCGTGCCCCCAATGAATTTTTTGACAACTCTCGGCAACGGATATCTCGGCTCTTGCATCGATGAAGAACGCAGCGAAATGTGATAAGTGGTGTGAATTGCAGAATCCCGTGAACCATCGAGTCTTTGAACGCAAGTTGCGCCCGAGGCCATCAGGCTAAGGGCACGCCTGCCTGGGCGTTGCGTGCTGCATCTCTCCCATTGCTAAGGTTGAACGGGCATACTGTTCGGCCGGCGCGGATGAGAGTTTGGCCCCTTGTTCTTCGGTGCGATGGGTCCAAGACCTGGGCTTTTGACGGTCCAAAATCCGGCAAGAGGTGGACGGACGGTGGCTGCGACAGAGCTGTCGTGCGAATGCCCTACGTTGTCGTATTTGATGGGCCGGAATAAATCCCTTTGAACCCCATTGGAGGCACGTCAACCCCATGGGCGGTGACGGCCACTTGGATGCAACCCAGTCAGTGAGCCACCGCTGA\n",
            "gi|2765633|emb|Z78508.1|PLZ78508\n",
            "741\n",
            "CGTAACAAGGTTTCCGTAGGTGAACCTGCGGAAGGATCATTGTTGAGACCCCCAAAAAAACGATCGAGTTAATCCGGAGGACCGGTGTAGTTTGGTCTCCCAGGGGCTTTGGCTACTGTGGTGACCGTGAATTTCCGTCGAGCCTCCTTGGGAGATTTCTTGATGGCAATTGAACCCTTGGCCCGGCGCAGTTTCGCCCCAAGTCAAATGAGATGGAACCGGCGGAGGGCATCGTCCTCCATGGAACCGGGGAGGGCCGGCGTGCTTCCGTCCCCCAATGAATTTTTTTGACAACTCTCGCAACGGATATCTCGCTCTTGCATCGATGAAGAACACAGCGAAATGTGATAAGTGGTGTGAATTGCAGAATCCCGTGAACCATCGAGTCTTTGAACGCAAGTTGCGCCCGAGGCCATCAGGCTAAGGGCACGCCTGCCTGGGCGTTGCGTGCTGCATCTCTCTCCCATTGCTAAGGCTGAACAGGCATACTGTTCGGCCGGCGCGGATGAGTGTTTGGCCCCTTGTTCTTCGGTGCGATGGGTCCAAGACCTGGGCTTTTGACGGCCGGAAATCCGGCAAGAGGTGGACGGACGGTGGCTGCGACGAAGCTGTCGTGCGAATGCCCTGCGTTGTCGTATTTGATGGGCCGGAATAAATCCCTTTGAACCCCATTGGAGGCACGTCAACCCGTGGCGGTCGACGGCCATTTGGATGCAACCCAGTCAGTGAGCCACCGCTGA\n",
            "gi|2765632|emb|Z78507.1|PLZ78507\n",
            "740\n",
            "CGTAACAAGGTTTCCGTAGGTGAACCTGCGGAAGGATCATTGTTGAGACCGCAAAATATACGATCGAGTTAATCCGGAGGACTGGTGTAGTTTGGTCTCCCAGGGGCGTTGGCTACTGCGGTGACCATGATTTTCCATCGAGCCTCCTCGGGAGATTTCTTGATGGCAATTGAACCCTTGGCCCGGCGCAGTTTCGCGCCAAGTCGTATGAGATAGAACCGGCAGAGGGCTTCGTCCTCCATGGAACCGGGGAGGACCGGCATGCCGCCGTACCCCCTTTGAATCGGGCTGACAACTCTCGTTCAAGGAGCCCTCAGCTCATAATGTGATAAGTGGTGTGAATTGCAGAATCCCGTGAACCATCGAGTCTTTGAACGCAAGTTGCGCCCGAGGCCATCAGGCTAAGGGCACGCCTGCCTGGGCGTTGCGTGCTGCATCTCTCCCGTTGCTAAGGTCGAACAGGCATATACTGTTCGGCCGGCGCGGATGAGAGTTTGGCCCCTTGTTCTTCGGTGCGATGGGTCCAAGACCTGGGCTTTTGACGGTAAAAAATCCGGCAAGAGGTGGACGGACGGTGGCTGCGACAAAGCTGTCGTGCGAATGCCCTACGTTGTCGTATTTGATGGGCCAGAATAAATCCCTTTTGAACCCCATTGGAGGCACGTCAACCCATGGGCGGTTTGACGGCCATTGGATGCCAACCCAGTCAGGTGAGGCCACCCGCTGA\n",
            "gi|2765631|emb|Z78506.1|PLZ78506\n",
            "727\n",
            "CGTAACAAGGTTTCCGTAGGTGAACCTGCGGAAGGATCATTGTTGAGACCGCCAAATATACGATCGAGTTAATCCGGAGGACTGGTGTAGTTTGGTCTCCCAGGGGCGGTGGCTACTGCGGTGACCATGATATTCCATCGAGCCTCCTCGGGAGATTTCTTGATGGCAATTGAACCCGTGGCCCGGCGCAGTTTCGCGCCAAGTCGTATGAGATAGAACCGGCAGAGGTCTTCGTCCTCCATGGAACCGGGGAGGCCCGGCATACCACCATACCCCCAATGAATCTTTGTGACAACTCTCGTCAATGTGATAAGTGGTGTGAATTGCAGAATCCCGTGAACCATCGAGTCTTTGAACGCAAGTTGCGCCCGAGGCCATCAGGCTAAGGGCACGCCTGCCTGGGCGTTGCGTGCTGCATCTCTCCCGTTGCTAAGGTCGAACAGGCATACTGTTCGGTCGGCGCGGATGAGAGTTTGGCCCCTTGTTCTTCGGTGCGATGGGTCCAAGACCTGGGCTTTTGACGGTAAAAAATCCGGCAAGAGGTGGACGGACGGTGGCTGCGACAAAGCTGTCGTGCGAATGCCCTGCGTTGTCGTATTTGATGGGCCGGAATAAATCCCTTTTGAACCCCATTGGAGGCACGTCAACCCATGGGCGGTTGACGGCCATTTGGATGCAACCCCAGGTCAGGTGAGCCACCCGCTGAGTTTT\n",
            "gi|2765630|emb|Z78505.1|PSZ78505\n",
            "711\n",
            "CGTAACAAGGTTTCCGTAGGTGAACCTTCGGAAGGATCATTGTTGAGACCGCAAAATATACGATCGAGTTAATCCGGAGGACTGGTGTAGTTTGTCTCCCAGGGGCGTTGGCTACTGCGGTGACCATGATTTTCCATCGAGCCTCCTCGGGAGATTTCTTGATGGCAATTGAACCCTTGGCCCGGCGCAGTTTCGCGCCAAGTCGTATGAGATAGAACCGTCAGAGGGCATCGTCCCTCCATGGAGCCGGGGAGGGCCGGCATGCCCGCCGTGCCCCCAATGAATCTTTTTGACAACTCTCGCAACGGATATCTCGCTCTTCATCGATGAAGAACGCAGCGAAATGTGATAAGTGGTGTGAATTGCAGAATCCCGTGAACCATCGAGTCTTTGAACGCAAGTTGCGCCCGAGCCATCAGGCTAAGGGCACGCCTGCCTGGGCGTTGCGTGCTGCATCTCTCCCGTTGCTAAGGTCGAACAGACATACTGTTCGGCCGGCGCGGATGAGAGTTTGGCCCCTTGTTCTTCGGTGCGATGGGTCCAAGACCTGGGCTTTTGACGGTACCAAATCCGACAAGAGGTGGACGGACGGTGGCTGCGACAAAACTGTCGTGCGAATGCCCTACGTTGTCGTATTTGATGGGCCAGAATAAATCCCTTTTGAACCCCATTGGAGGCACGTCAACCCATGGGCGGTGACGGCCATTGGATGCAACCCCAGTCAGTGAGCCACCGCTGAGTAA\n",
            "gi|2765629|emb|Z78504.1|PKZ78504\n",
            "743\n",
            "CGTAACCAGGTTTCCGTAGGTGAACCTCCGGAAGGATCCTTGTTGAGACCGCCAAATATACGATCGAGTTAATCCGGAGGACCGGTGTAGTTTGGTCTCCCAGGGGCTTTCGCCGCTGTGGTGTCCGTGATTTACCATCGAGCCTCCTTGGGAGATTTCTTGATGGCAATTGAACCCATGGCCCGGCGCAGTTTCGCGCCAAGTCATATGAGATAGAACCGGCAGGGGGCGTCGTCCTCCATGGAACCGGGGAGGGCCGGCATGCTACCGTACCCCCAATGAATTATTTTGACAACTCTCGGCAACGGAGTCTCAGCTCTTTGTGATAAGTGGTGTGAATTGCAGAATCCCGTGAACCATCGAGTCTTTGAACGCAAGTTGCGCCCGAGGCCATCAGGCTAAGGGCACGCCTGCCTGGGCGTTGCGTGCTGCATCTCTCCCATTGCTAAGGTTGAACGGGCATACTGTTCGGCCGGCGCGGACGAGAGTTTGGCCCCTTGTTCTTCGGTGCGATGGGTCCAAGACCTGGGCTTTTGACGGTCCAAAATCCGGCAAGAGGTGGACGGACGGTGGCTGCGACAAAGCTGTCGTGCGAATGCCCTACGTTGTCGTATTTGATGGGCCAGAATAAATCCCTTTTGAACCCCATTGGAGGCACGTCAACCCATGGGCGGTTGACGGCCATTTGGATGCAACCCCAGGTCAGGTGAGCCACCCGCTGAGATAA\n",
            "gi|2765628|emb|Z78503.1|PCZ78503\n",
            "727\n",
            "CGTAACCAGGTTTCCGTAGGTGAACCTCCGGAAGGATCATTGTTGAGACCGCCAAATATACGATCGAGTTAATCCGGAGGACCGGTGTAGTTTGGTCTCCCAGGGGCTTTCGCCCCTGTGGTGACCGTGATTTGCCATCGAGCCTCCTTGGGAGATTTCTTGATGGCAATTGAACCCATGACCCGGCGCAGTTTCGCGCCAAGTCATATGAGATAGAACCGGCAGGGGTCGTCGTCCTCCATGGAGCCGGGGAGGGCCGGCATACTACCGTCCCCCCAATGAATTTTATATTGACAACTCTCGGCCGGAATCTCGGCTCTTGCATCGATGGAAGGACGCAGCGAAAATGTGATAAGTGGTGTGAATTGCAGAATCCCGTGAACCATCGAGTCTTTGAACGCAAGTTGCGCCCGAGGCCATCAGGCTAAGGGCACGCCTGCCTGGGCGTTGCGTGCTGCATCTCTCCCATTGCTAAGGTTGAACGGGCGTACTGTTCGGCCGGCGCGGACGAGAGTTTGGCCCCTTGTTCTTCGGTGCGATGGGTCCAAGACCTGGGCTTTTGACGGTCCAAAATCCGGCAAGAGGTGGACGGACGGTGGCTGCGACAAAGCTGTCGTGCGAATGCCCTACGTTGTCGTATTTGATGGGCCAGAATAAATCCCTTTTGAACCCCATTGGAGGCACGTCAACCCATGGGCGGTTGACGGCCATTTGGATGCAACCCCAGGTCAGGTGAGGCCACCCCGTGAGTTTACGC\n",
            "gi|2765627|emb|Z78502.1|PBZ78502\n",
            "757\n",
            "CGTAACAAGGTTTCCGTAGGTGAACCTGCGGAAGGATCATTGTTGAGACCGCAAAATATACGATCGAGTTAATCCGGAGGACCGGTGTAGTTTGGTCTCCCAGGGGCTTTGGTTACTGTGGTGACCGTGACTTTGCCGTCGAGCCTCCTTGGGAGATTTCTTGATGGAAATTGAACCCTTGGCCCGGCGCAGTTTCGCGCCAAGTCATATGAGATGGAACCGGCGGAGGGAATCGTCCTCCATGGAGCCGGGGAGGGCCGGCGTGTTGCCGTGCCCCCAATGAATTTTTTTTTGGGCAACTCTCGGCCAAACGGGAAATCTCGGCTCCTTGCATCGGATGGAAGGACGCAGCGAAATTGTGATAAGTGTTGTGAATTGCAGAATCCCGTGAACCATCGAGTCTTTTGAACGCAAGTTGCGCCCGAGGCCATCAGGCTAAGGGCACGCCTGCCTGGGCGTTGCGTGCTGCATCTCTCTCCCATTGCTAAGGCTGAACAGGCATACTGTTCGGCCGGCGCGGATGAGTGTTTGGCCCCTTGTTCTTCGGTGCGATGGGTCCAAGACCTGGGCTTTTGACGGCCGGAAATCCGGCAAGAGGTGGACGGACGGTGGCTGCGACGAAGCTGTCGAGCGAATGCCCTACGCTGTCGTATTTGATGGGCCGGAATAAATCCCTTTTGAACCCCATTGGAGGCACGTCAACCCGTGGGCGGTCGACGGCCATTTGGATGCAACCCCAGGTCAGGTGAGGCCACCCGCTGAGTTTAAGA\n",
            "gi|2765626|emb|Z78501.1|PCZ78501\n",
            "770\n",
            "CGTAACAAGGTTTCCGTAGGTGAACCTGCGGAAGGCTCATTGTTGAGACCGCAAAATAATTGATCGAGTTAATCCGGAGGACCGGTGTAGTTTGGTCTCCCAGGGGCTTTGGTTACTGTGGTGACCGTGACTTTGCCGTCGAGCCTCCTTGGGAGATTTCTTGATGGCAATTGAACCCTTGGCCCGGCGCAGTTTCGCGCCAAGTCATATGAGATGGAACCGGCGGAGGGCATCGCCCTCCATGGAGCCGGGGAGGGCCGGCGTCCTGCCGTGCCCCCAATGAATTTTTCTTTGGGAAAACTTCTCGGCCAACGGGAATCTCGGCTCTTTGCATCGGATGGAAGGACGCAGCGAATTGTGATAAGTGGTGTGAATTGCAGAATCCCGTGAACCATCGAGTCTTTGAACGCAAGTTGCGCCCGAGGCCATCAGGCTAAGGGCACGCCTGCCTGGGCGTTGCGTGCTGCATCTCTCTCCCATTGCTAAGGCTGAACAGGCATACTGTTCGGCCGGCGCGGATGAGTGTTTGGCCCCTTGTTCTTCGGTGCGATGGGTCCAAGACCTGGGCTTTTGACGGCCGGAAATCCGGCAAGAGGTGGACGGACGGTGGCTGCGACGAAGCTGTCGTGCGAATGCCCTACGCTGTCGTATTTGATGGGCCGGAATAAATCCCTTTTGAACCCCATTGGAGGCACGTCAACCCGTGGGCGGTCGACGGCCATTTGGATGCAACCCCAGGTCAGGTGAGGCCACCCGCTGAGTTTAAG\n",
            "gi|2765625|emb|Z78500.1|PWZ78500\n",
            "767\n",
            "CGTAACAAGGTTTCCGTAGGTGAACCTGCGGAGGGATCATTGTTGAGATCGCATAATAATTGATCGAGATAATCCAGAGGATCGGTTTACTTTGGTCACCCTTGGGCGCCTGCTATTGCGGTGACCTAGATTTTCCATGGAGGGAGCCTCCTTGGGAGCTTTCTTGCCGGCGATCTAACCCTTGCCCGTCGCAGTTTTGCACCAAGTCATATGACACATAAATGGTGAAGGACATACCCCCTTCGTTGAATTCGAGGAGGGGACGGCATGTGGCCTTGACCTCTCCCAATTATTTTTTTGACAACTCTCAGCCAACGGATATCTCGGCTCTTTGCATCGGATGGAGGACGCAGCGAAATGCGATAAGTGTGTGAATTGCAAGATCCCGTGAACCATCGAGTCTTTGAACGCAAGTTGCGCCCAAGCCATCAGGCCAAGGGCACGCCTGCCTGGGCATTGCGAGTCATATCTCTCCCTTAATGAGGCTGTCCATGCATACTGTTCAGCCGGTGCGGATGTGAGTTTGCCCCCTTGTTCTTTGGTGCTGGGGGTCTAAGAGCTGCAGGGGCTTTTGATGGTCCTAAATTCGGCAAGAGGTGGACGAATCATGCTACAACAAAACTGTTGGGCGAATGCTCCAGGTTGTCGTATTAGATGGGCCATCATAATCTAGAGACCCTTGTGAACCCCATTGGAGGCCCATCAACCCATGATCAGTTGATGGCCTTTTGGATGCGACCCCAGGTCAGGTGAGCAACC\n",
            "gi|2765624|emb|Z78499.1|PMZ78499\n",
            "759\n",
            "CGTAACAAGGTTTCCGTAGGTGAACCTGCGGAAAGGTCATTGTTGAGATCACATAATAATTGATCGAGTTACTCCAGAGGATCAGTTTACTCCGGTCACCCATGGGTGCTTGCTATTGCGGTGACCTAGATTTGCCATGGAGCCTCCTTGGGAGTTTTCTTGCCGGCGATCTTACCCTTGCCCGGGGCAGTTTTGCCCCAAGTCATATGACACAATAATGGCGAAGGAGGGGGCGGCATTTTGCCCTTGACCCTACAATCACTCCCCCTCTCCAAATTATTTTTGGACAACTCTCAGCAACGGATATCTCGGCTCTTGCATCGATGAAGAACCCAGCGAAATGCGATAAGTGGTGTGAATTGCAGGATCCCGTGAACCATCGAGTCTTTGAACGCAAGTTGCGCCCAAGGCCATCAGGCCAAGGGCACGCCTGCCTGGGCATTGCGAGTCATATCTCTCCCTTAATGAGGCTGTACATGCATACTGTTCAGCCGGTGCGGATGTGAGTTTGGCCCCTTGTTCTTCGGTGCTGGGGGTCTAAGAGCTGCAGGGGCTTTTGATGGTCCTAAATTCGGCAAGAGGTGGACGAATTACAACAAAACTGTTGTGCGAATGCTCCAGGTTGTCGTATTAGATGGGCCAGCATAATCTAAAGACCCTTGTGAACCCCACTGGAGGCACATCAACCCGTGATCAGTTGATGGCCATTTGTTGCGACCCCAGTCAGTGAGCAACCCGCTGAGTTTAAGC\n",
            "gi|2765623|emb|Z78498.1|PMZ78498\n",
            "750\n",
            "CGTAACAAGGTTTCCGTAGGTGAACCTGCGGAAGGATCATTGTTGAGATCACATAATAATTGATCGAGTGAATCCAGAGGATCAGTTTACTTTGGTCGCCCATGGGCGCTTGCTATTGCGGTGACCTAGATTTGCCATGGAGCCTCCTTGGGAGCTTTCTTGCCGGCGATCTAACCCTTGCCCGGCGCAGTTTTGCGCCAAGTCACATGACACATAAATGGTGAAGGGCACGGCCCTTTGTGAATTCAAGGAGGTGAAGGGCATGTGGCCTTGAGCCTACACTCCCTCCCCCTCTCCAAATTATTTTTTGTGAAACAACTCTCAGCAACGGAGATCTCAGCTCTTGCATCGATGAAGGAACGCAGCGAAATGCGATAAGTGGTGTGAATTGCAGAATCCCGTGAACCATCGAGTCTTTGAACGCAAGTTGCGCCCAAGGCCATCAGGCCAAGGGCACGCCTGCCTGGGCATTGCGAGTCATATCTCTCCCTTAACGAGGCTGTCCAGGCATACTGTTCAGCCGGTGCGGGTGTGAGTTTGGCCCCTTGTTCTTTGGTGCTGGGGGTCTAAGAGCTGCAGGGGCTTTTGATGGTCCTAAATTCGGCAAGAGGTGGACGCAACGCGCTACAACAAAACTGTTGTGCGAATGCCCCGGGTTGTCGTATTAGATGGGCCAGCATAATCTAAACACCCTTGTGAACCCCATTGGAGGCCCATCAACCCATGATCAGTTGATGGCCATTTGGTTGCGACCCCAGGTCAGGTGAGGCAACCCGCTGAGTTTAAGC\n",
            "gi|2765622|emb|Z78497.1|PDZ78497\n",
            "788\n",
            "CGTAACAAGGTTTCCGTAGGTGAACCTGCGGAAGGATCATTGTTGAGATCGCATAATAATTGATCGAGTTAATCCAGAGGATCGGTTTACTTTGGTCACCCTTGGGCGCCTGCTATTGCGGTGACCTAGATTTGCCATGGAGGGAGCCTCCTTGGGAGCTTTCTTGCCGGCGATCTAACCCTTGCCCGGCGCAGTTTTGCGCCAAGTCATATGACACATAATTGGTGAAGGGCATATCCCTTCGTGAATTCGAGGAGGGGCCGGCATGTGGCCTTGACCTCTCCAATTAATTTTTTGAACAACTCTCAGCAACGGATATCTCGGCTCTTGCATCGATGGAGGGACGCACCGAAATGCGATAAGTGGTGTGAATTGCAGAATCCCGTGAACCATCGAGTCTTTTGAACGCAAGTTGCGCCCAAGGCCATCAGGCCAAGGGCACGCCTGCCTGGGCATTGCGAGTCATATCTCTCCCTTAATGAGGCTGTCCATGCATACTGTTCAGCCGGTGCGGATGTGAGTTTGGCCCCTTGTTCTTTGGTGCTGGGGGTCTAAGAGCTGCAGGGGCTTTTGATGGTCCTAAATTCGGCAAGAGGTGGACGAATCATGCTACAACAAAACTGTTGGGCGAATGCTCCAGGTTGTCGTATTAGATGGGCCATCATAATCTAGAGACCCTTGTGAACCCCATTGGAGGCCCATCAACCCATGATCAGTTGATGGCCTTTTGGGTTGCGACCCCAGGTCAGGTGAGGCAACCAGCTGAGTTTAAGC\n",
            "gi|2765621|emb|Z78496.1|PAZ78496\n",
            "774\n",
            "CGTAACAAGGTTTCCGTAGGTGAACCTCCGGAAGGATCATTGTTGAGATCACATAATAATTGATCGAGATAATCCAGAGGATCGGTTTACTTTGGTCACCCATGGGCGCTTGCTATTGCGGTGACCTAGAGTTGCCATGGAGAGCCTCCTTGGGAGCTTTCTTGCCGGCGATCTAACCCTTGTCCGGCGCGGTTTTGCGCCAAGTCATATGACACATAATTGGTGAAGGGCATAGCCCTTCGTGTATTCAAGGAGGGGGGGCGGCATGTGGCCTTGACACTGCACTCGCTCTCCCCCTCTCCAAAGTATTTTTCTGAACAACTCTCAGCAACGGATATCTCAGCTCTTGCATCGGATGGAGGAACGCAGCGAAATCCGATAAGTGGTGTGAATTGCAGAATCCCGTGAACCATCGAGTCTTTTGAACGCAAGTTGCGCCCGAGGCCATGAGGCCAAGGGCACGCCTGCCTGGGCATTGCGAGTCATCTCTCTCCCTCAATGAGGCTGTCCATGCATACTGTTCAGCCGGTGCGGATGTGAGTTTGGCCCCTTGTTCTTTGGTGCTGGGGGTCTAAGAGCAGCAGGGGCTTTTGATGGTCCTAAATTCGGCAAGAGGTGGACGAATCAGGCTACAACAACACTGTTGTTGTGCGAATGCTCCAGGTTGTCGTATTAGATGGGCCGGCATAATCCAGAGACCCTTGTGAACCCCATTGGAGGCCCATCAACCCATGATCAGTTGATGGCCATTCGGTTGCGACCCCAGGTCAGTGAGCAACCCGCTGAGTG\n",
            "gi|2765620|emb|Z78495.1|PEZ78495\n",
            "789\n",
            "CGTAACAAGGTTTCCGTAGGTGAACCTGCGGAAGGATCATTGTTGAGGTCGCATAATAATTGATCGAGTTAATCTGGAGGATCAGTTTACTTTGGTCACCCATGGACATTTACTGTTGCAGTGACCTAGATTTACCATCGGGCCTCCTTGGGAACTTTCCTGCTGGCGATCTATACCCTTGCCCGGCGCAGTAATGCGCCAAATCAAATGACCCATAATTAATGAAGGGGGACGGCATACTGCCTTGACCAACTCCCCATTATTGAGGTAACACTCTCAACTTCGGATATCTCAGGTGTGAATTGCAGAATCCCGTTAACATCGAGTCTTTGAACGCAAGTTGGGCCCGAGGCCAACAGGCCAAGGGAACGCCTGTCTGGGCATTGCGAGTCATATCTCTCCCTTAATGAGGCTGTCCATACGTACTGTTCAGCCGGTGCGGATGTGAGTTTGGCCCCTTGTTCTTCGGTACGGGGGGTCTAAGAGCTGCATGGGCTTTTGATGGTCCTAAATACGGCAAGAGGTGGACGAACTATGCTACAACAAAACTGTTGTGCGAATGCCCCGGGTTGTTGTGTTTAATCAGAAGACCCTTTTGAACCCCATTGGAGGCCCATCGACCCATGATCAGTTGAATGGCCATTTGGTTGCGATCCCAGGTCAGGTGAGGCAACCCGCTGAGTTTAAG\n",
            "gi|2765619|emb|Z78494.1|PNZ78494\n",
            "688\n",
            "CGTAACAAGGATTCCGTAGGTGAACCTGCGGAAGGATCATTGTTGAGATCGCATAATAATTGATCGAGTTAATCTGGAGGATCGGTTTACTTTGGTCACCCATGGGCATTTTCTGTTGCAGTGACCTAGAATTTCCATCGGGCCTCCCTGGGAGCTTTCCTGCTGGCGATCTATACCCTTGCCCGGCGCAGTTTTGCGCCAAGTCAAATTTTACATAAGTGGTGAAGGGGGGCGGCATTCTTCCTTGACCAGCCCCCAAGTATTTAGGTAACAACTCTCAGCAACGGATATCTCGGCTCATGCATCGATGAAGGAACGCAGCGAGATTCGATAAATGGTGTGCCTTGCAGAATCCCGTGAACCATCGAATCTTTGAACGCAAGTTGCGCGCGAGGCCATCAGCCCAAGGGGACGCCTGCCTGGACATTGCGACTCATATCTCTCCCTTAATGAGGCTGTCCAAACGTACTGGTCATCCGGTGTGGATGTGAGTTTGGCCCCTTGTTCTTCGGTACGGGGGGTCTAAGAGCTGCATGGGCTTTTGATGGTCCTAAATACGGCAAGAGGTGGACGAACTATGCTACAACAAAACTGTTGTGCGAATGCCCCGGGTTGTTGTGTTTAATCAGAAGACCCTTTTGAACCCCATTGGAGGCCCATCGACCCATGATCAGTTGAATGGCCATTTGGTTGCGATCCCAGGTCAGGTGAGGCAACCC\n",
            "gi|2765618|emb|Z78493.1|PGZ78493\n",
            "719\n",
            "CGTAACAAGGTTTCCGTAGGTGAACCTGCGGAAGGATCATTGTTGAGATCGCATAATAATTGATCGAGTTAATCTGGAGGATCAGTTTACTTTGGTCACCCACGGGCATTTGCTGTTGCAGTGACCTAGAATTTGCCATCGAGCCTCCTTGGGAGCTTTCTTGCTGGCGATCTATACCCTTGCCCGGCGCAGTTTTGCGCCAAGTCATATGTCACATAATTGGTGAAGGGGGGGAGCGTACTGCCTTGACCCACTCCAAATTATTTTTTTAACAACTCTCAGCAACGGATATCTCGGCTCTTGCATCGATGTAGAACCCAGCGAAATGCGATACTGGTGTGATTTGCAGAATCCCGTGGACCATCGAGTCTTTGAACGCAAGTTGCGCCCGAGGCCATCAGGCCAAGGGCACGCCTGCCTGGGCATTGCGAGTCAAATCTCTCCCTTAATGAGGCTGTCCATACATACTGTTCAGCCGGTGCGGATGTGAGTTTGGCCCCTTGTTCTTTGGGACGGGGGGTCTAAGAGCTGCACGGGCTTTTGATGGTCCTAAATACGGCAAGAGGTGGACGAATTATGCTACAACAAAACTGTTGTGCGAATGCCCCGGGTTGTTGTGTTACATGGGCCAGCTTAATCAGAAGACCCTTTTGGACCCCATTGGAGGCCCATCAACCCATGATCAGTTGATTGGCCATTTGGTTGCGATCCCAGTCAGGTGAGGCACACCGCTGAGTTTAATA\n",
            "gi|2765617|emb|Z78492.1|PBZ78492\n",
            "743\n",
            "CGTAACAAGGTTTCCGTAGGTGAACCTGCGGAAGGATCATTGTTGAGATCGCATAATAATTGATCGAGTTAATCTGGAGGATCAGTTTACTTTGGTCACCCACGGGCATTTGCTGTTGCAGTGACCTAGATTTGCCATCGGGCCTCCTTAGGAGCTTTCTTGCTGGCGATCTATACCCTTGCCCGGCGCAGTTTTGCGCCAAGTCATATGACACATAATTGGTGTTGGGGGGAGGCGTGCTGCCTTGACCCGCTCCAAATTATATTTTTAACAACTCTCAGCAACGGATATCTCGGCTCTTGCATCGATGAAGAACCAGCGAAATGCGATAAATGGTGTGAATTGCAGAATCCCGTGAACCATCGAGTCTTTGAACGCAAGTTGCGCCCGAGGCCATCAGGCCAAGGGCACGCCTGCCTGGGCATTGCGAGTCATATCTCTCCCTTAATGAGGCTGTCCATACATACTGTTCAGCCGGTGCGGATGTGAGTTTGGCCCCTTGTTCTTTGGTACGGGGGGTCTAAGAGCTGCATGGGCTTTTGATGGTCCTAAATACGGCAAGAGGTGGACGAACTATGCTACAACAAAATGTTGTGCGAATGCCCCGGGTTGTTGTGTTACATGGACCAGCATAATCAGAAGACCCTTTGGACCCCATTAGAGGCCCATCAACCCATGATCAGTTGAATGGCCATTTGTTGCGATCCCAGTCAGGTGAGCAACCCGCTGAGATAAGC\n",
            "gi|2765616|emb|Z78491.1|PCZ78491\n",
            "737\n",
            "CGTAACAAGGTTTCCGTAGGTGAACCTGCGGAAGGATCATTGTTGAGATCACATAATAATTGATCGAGTTAATCTGGAGGATCAGTTTACTTTGGTCACCCATGGGCATTTGCTGTTGCAGTGACCGAGATTTGCCATCGAGCCTCCTTGGGAGCTTTCTTGCTGGCGATCTGAACCCTAGTCCGGCGCAGTTTTGCGCCAAGTCATATGGCACATAATTGGTGAAGGGGGCGGCATGCTGCCTCGACCCTCCCCAAATTATTTTTTAACAACTCTCAGCAACGGATATCTCGGCTCTTGCATCGATGAAGAACGCAGCGAAATGCGATAAATGGTGTGAATTGCAGAATCCCGTGAACCATCGAGTCTTTGAACGCAAGTTGCGCCCGAGGCCATCAGGCCAAGGGCACGCCTGCCTGGGCATTGCGAGTCATATCTCTCCCTTAATGAGGCTGTCCAAACATACTGTTCAGCCGGTGCGGATGTGAGTTTGGCCCCTTGTTCTTTGGTACGGGGGGTCTAAACGCTGCATGGGCTTTTGATGGTCCTAAATACGGCAAGAGGTGGACGACTGTTCTGCAACAAGTGTTGTGCGAATGCCCCGCGTTGTCGTATTAGATGGGCCAGCATAATTTGAAGACCCTTTTGAACCCCATTGGAGGCCCGTCAACCCATGATCAGTTGACGGCCATTTGGTTGCGACCCCAGTCAGGTGAGCAACCAGCTGA\n",
            "gi|2765615|emb|Z78490.1|PFZ78490\n",
            "728\n",
            "CGTAACAAGGTTTCCGTAGGTGAACCTGCGGAAGGATCATTGTTGAGATCACATAATAATTGATCGAGTTAATCTGGAGGATCAGTTTACTTTGGTCACCCGAGGGCATTTGCTATTGCAGTGACCGAGATTTGCCATCGAGCCTCCTTGGGAGCTTTCTTGCTGGCGATCTAAACCCGAGCCCGGCGCAGTTTTGCGCCAAGTCATATGACACATAATTGGTGAAGGGGGCGGCATGCTGCCTTGACCCTCCCCAGATTATTTTTTAACAACTCTCAGCAACGGATATCTCGGCTCTTGCATCGATGAAGAACGCAGCGAAATGCGATAAATGGTGTGAATTGCAGAATCCCGTGAACCATCGAGTCTTTGAACGCAAGTTGCGCCCGAGGCCATCAGGCCAAGGGCACGCCTGCCTGGGCATTGCGAGTCATATCTCTCCCTTAATGAGGCTGTCCATACATACTGTTCAGCCGGTGGGGATGTGGGTTTGGCCCCTTGTTCATTGGTACGGGGGGTCTAAGAGCTGCATGGGATTTTGATGGTCCTAAATACGGCAAGAGGTGGACGAACTATGCTACAACAAAACTGTTGTGCGAATGCCCCGAGTTGTCGTATTAGATGGGCCCAGCATATCTGAAGACCCTTTTGAACCCCATGGAGGCCCATCAACCCATGATCAGTTGATGGCCATTTGGTTGCGACCCCAGGTCAGGTGAGGCAACCCGCTGAGTTTAGGC\n",
            "gi|2765614|emb|Z78489.1|PDZ78489\n",
            "740\n",
            "CTGTAGGTGAACCTGCGGAAGGATCATTGTTGAGATCACGCAATAATTGATCGAGTTAATCTGGAGGATCAGTTTACTTTGGTCACCCATGGGCATTTGTTATTGCAGTGACCGAGATTTGCCATCGAGCCTCCTTGGGAGCTTTCTTGCTGGCGATCTTAACCCTAGCCCGGCGCAGTTTTGCGCCAAGTCATACGACACATAATTGGTGAAGGGGGCGGCATGGTGCCTTGACCCTCCCCTAATTATTTTCTAACAACTCTCATCAACGGGATGGAGAACGCAGCGAAATGCGATAAATGGTGTGAATTGCAGAATCCCGTGAACCATCGAGTCTTTGAACCCAAGTTGCGCCCGAGGCCATCAGGCCAAGGGCACGCCTGCCTGGGCATTGCGAGTCAAATCTCTCCCTTAATGAGGCTGTCCATACATACTGTTCAACCGGTGCGGATGTGAGTTTGCCCCCTTGTTCATTGGTACGGGGGGTCTAAGAGCTGCATGGGCTTTTGATGGTCCTAAAAACGGCAAGAGGTGGACGAACAACGCCACAACCAAACTGTTGTGCGGATCCCCCGGGTTGTCGTATTAGATGGGCCATCATAATCTGAAGACCCTTTTGAACCCCATCGGAGGCCCATCAACCCATGATCAGTTGATGGACATTTGTTGCGACCCCAGTCAGGTGAGCAACCGGCT\n",
            "gi|2765613|emb|Z78488.1|PTZ78488\n",
            "696\n",
            "CGTAACAAGGTTTCCGTAGGTGAACCTGCGGAAGGATCATTGTTGAGATCACATAATAATTGATCGAGTTACTCTGGAGGATCAGTTTACTTTGGTCACCCATGGGCATTTGCTATTGCAGTGACCGGGATTTGCCATCGAGCCTCCTTGGGAGCTTTCTTGCTGGCGATCTAAACCCTAGCCCGGCGCAGTTTTGCGCCAAGTCATATGACACATAATTGGTGAAGGGGGCGGCATGCTGCCTTTACCCTCCCCAAATTATTTTTTAACAACTCTCAGCAACGGATATCTCGGCTCTTGCATCGATGAAGAACGCAGCGAAATGCGATAAATGGTGTGAATTGCAGAATCCCGTGAACCATCGAGTCTTTGAACGCAAGTTGCGCCCGAGGCCATCAGGCCAAGGGCACGCCTGCCTGGGCATTGCGAGTCATATCTCTCCCTTAATGAGGCTGTCCATACATATTGTTCAGCCGGTGCGGATGTGAGTTCGGCCCCTTGTTCTTCGGTACGGGGGGTCTAAGAGCAGCATGGGCTATCGATGGTCCTAAATGCGGCAAGAGGTGGACGAACTATGCTACAACAAAACTGTTGTGCGAATGCCCCGGGTTGTCGTATTAGATGGGCCAGCGTAATCTAAAGACCCTTTTGAACCCCATTAGAGGCCCATCAACCCATGATCAGTTGGGGCCACTTGTTGCGACCCCAGTCAGGTGAGCAACCGCTGAGTAA\n",
            "gi|2765612|emb|Z78487.1|PHZ78487\n",
            "732\n",
            "CGTCACGAGGTTTCCGTAGGTGAATCTGCGGGAGGATCATTGTTGAGATCACATAATAATTGATCGAGATTATCTGGAGGATCAGTTTACTTTGGTCACCCATGGACATTTGCTATTGCAGTGCCCGAGATTTGCCATCGAGCCTCCTTGGGAGCTTTCTTGCTGGCGATCTAAACCCTAGCCCGGCGCAGTTTTGCGCCAAGTCATATGACACATAATTGGTGAAGGGTGCGGCATGGTGCCTGACCCTCCCCAAATTATTTCTTAACAACTCTCAGCAACGGATATCTCGCTCTTGCATCGATGAAGAACGCAGCGAAATGCGATAAATGGTGTGAATTGCAGAATCCCGTGAACCATCGAGTCTTTGAACGCAAGTTGCGCCCGAGGCCATCAGGCCAAGGGCACGCCTGCCTGGGCATTGCGAGTCATATCTCTCCCTTAATGAGGCTGTCCATACATACTGTTCAGCCGGTGCGGATGTGAGTTTGGCCCCTTGTTCATTGGTACGGGGGGTCTAAGAGCTGCGTGGGCTTTTGATGGTCCTAAATACGGCAAGAGGTGGACGAACTATGCTACAACAAAACTGTTGTGCGAATGCCCCGGGTTGTCGTATTAGATGGGCCAGCATAATCTAAAGACCCTTTTGAACCCCATTGGAGGCCCATCAACCCATGATCAGTTGATGGCCATTTGGTAGCGACCCCAGGTCAGGTGAGGCAACCCGCTGA\n",
            "gi|2765611|emb|Z78486.1|PBZ78486\n",
            "731\n",
            "CTGAACCTGGTGTCCGAAGGTGAATCTGCGGATGGATCATTGTTGAGATATCATAATAATTGATCGAGTTAATCTGGAGGATCAGTTTACTTTGGTCACCATGGGCATTTGCTATTGCAGTGACCGAGATTTGCCATCGAGCCTCCTTGGGAGCTTTCTTGCTGGCGATCTAAACCCTAGCCCGGGGCAGTTTTGCGCCAAGTCATATGACACATAATTGGTGAAGGGTGCGGCATGGTGCCTTGACCCTCCCCAAATTATTTCTTAACAACTCTCAGCAACGGATATCTCGGCTCTTGCATCGATGAAGAACGCAGCGAAATGCGATAAATGGTGTGAATTGCAGAATCCCCGTGAACATCGAGTCTTTGAACGCAAGTTGCGCCCGAGGCCATCAGGCCAAGGGCACGCCTGCCTGGGCATTGCGAGTCATATCTCTCCCTTAATGAGGCTGTCCATACATACTGTGCAGCCGGTGCGGATGTGAGTTTGGGCCCTTGTTCATTGGTACGGGGGGTCTAAGAGCTGCGTGGGCTTTTGATGGTCCTAAATACGCCAAGAGGTGGACGAACTATGCTACAACAAAACTGTTGTGCGAATGCCCCGGGTTGTCGTATTAGACGGGCCAGCACAATCTAAAGACCCCTTTGAACCCCATTGGAGGCCCATCAACCCATGATCAGTTGATGGCCATGTGTTGCGACCCCAGTCAGCTGAGCAACCCCTGATTTAGTA\n",
            "gi|2765610|emb|Z78485.1|PHZ78485\n",
            "735\n",
            "CGTAACAAGGTTTCCGTAGGTGAACCTGGGGAAGGATCATTGTTGAGATCACATAATAATTGATCGAGTTAATCTGGAGGATCAGTTTACTTTGGTCACCCATGGGCATTTGGCTATTGCAGTGACCGAGAGTTTACCATCGAGCCTCCATGGGAGCTTTCTTGCTGGCGATCTAAACCCTAGCCCGGCGCAGTTTTGGCCCAAGTCATATGACACATAATTGTGAAGGGGCGGCATGTTTCCTACCCTCCCAACTCTCAGCAACGGATATCTCGCTCTTGCATCGATGAAGAACGCAGCGAAATGCGATAAATGGTGTGAATTGCAGAATCCCGTGAACCATCGAGTCTTGGAACGCAAGTTGCGCCCGAGGCCATCAGGCCAAGGGCACGCCTGCCTGGGCATTGCGAGTCATATCTCTCCCTTAATGAGGCTGTCCATACATACTGTTCAGCCGGTGCGGATGTGAGTTTGGCCCCTTGTTCATTGGTACGGGGGGTCTAAGAGCTGCGTGGGCTTTTGATGGTCCTAAATACGGCAAGAGGTGGACGAACTATGCTACAACAAAACTGTTGTGCGAATGCCCCGGGTTGTCGTATTAGATGGGCCAGCATAATCTAAAGACCCTTTGACACCCCATTGGAGGCCCATCAACCCATGATCAGTTGATGGTCCATTGGGTTGCGACCCCAAGTCAGGTGAAGCAACTCCCTGAGTTTT\n",
            "gi|2765609|emb|Z78484.1|PCZ78484\n",
            "720\n",
            "CGTAACAAGGTTTCCGTAGGTGAACCTGCGGAAGGATCATTGTTGAGATCACATAATAATTGATCGAGTTAATCTGGAGGATCAGTTTACTTTGGTCACCCATGGGCATTTGCTATTGCAGTGACCGAGATTTGCCATCGAGCCTCCTTGGGAGCTTTCTTGCTGGCGATCTAAACCCTAGCCCGGCGCAGTTTTGCGCCAAGTCATATGACACATAATTGGTGAAGGGGGCGGCATGCTGCCTTGACCCTCCCCCAAATTATTTTTTAACAACTCTCAGCAACGGAAATCTGGCCTCTTGCATGGATGAAGACCAAACCGAAATCATAAATGGTGTGAATTGCAGAATCCCGTGAACAATCGAGTCTTTGAACGCAAGTTGCGCCCGAGGCCATCAGGCCAAGGGCACGCCTGCCTGGGCATTGCGAGTCATATCTCTCCCTTAATGAGGCTGTCCACACATATCTGTTCAGCCGGTGCGGATGTGAGTTTGGCCCCTTGTTCATTGGTACGGGGGGTCTAAGAGCTGCATGGGCTTTTGTTGGTCCTAAATACGGCAAGAGGTGGACGAACTATGCTACAACAAAACTGTTGTGCGAATGCCCCGGGTTGTCGTATTAGATGGGCCAGCATAATCTAAAGACCCTTTTGAACCCCATTGGAGGCCCATCAACCCATGATCAGTTGATGGCCATTTGGTTGCGACCCCAGGTCAAGTGAAGCAACCCCTGAGTTTAGCA\n",
            "gi|2765608|emb|Z78483.1|PVZ78483\n",
            "740\n",
            "TCTACTGCAGTGACCGAGATTTGCCATCGAGCCTCCTGGGAGCTTTCTTGCTGGCGATCTAAACCGTAGCCCGGCGCAGTTTTGCGCCAAGTCATATGACACATAATTGGTGAAGGGGGCGGCATGCTGCCTTGACCCTCCCCAAATTATTTTTTAACAACTCTCNGCAACGGATATCTCGCCTCTTCATCGATGAAGAACGCAGCGAAATGCGATAAATGGTGTGAATTGCAGAATCCCGTGAANCCATCGAGTCTTTGAACGCAAGTTGCGCCCGAGGCCATCAGGCCAAGGGCACGCCTGCCTGGGCATTGCGAGTCATATCTCTCCCTTAATGAGGCTGTCCATACATACTGTTCAGCCGGTGCGGATGTGCGTTTGGCCCCTTGTTCATTGGTACGGGGGGTCTAAGAGCTGCGTGGGCTTTTGATGGTCCTAAATACGGCAAGAGGTGGACGAACTATGCTACAACAAAACTGTTGTGCGAATGCCCCGGGTTGTCGTATTAGATGGGCCAGCATAATCTAAAGACCCTTTTGAACCCCATTGGAGGCCCATCAACCCATGATCAGTTGATGGCCATTTGGTTGCGACCCCAGGTCAGGTGAGGCAACCCGCTGAGTTTAGCA\n",
            "gi|2765607|emb|Z78482.1|PEZ78482\n",
            "629\n",
            "CGTAACAAGGTTTCCGTAGGTGAACCTGCGGAAGGATCATTGTTGAGATCACATAATAATTGATCGAGTTAATCTGGAGGATCAGTTTACTTTGGTCACCCATGGGCATTTGCTATTGCAGTGACCGAGATTTGCCATCGAGCCTCCTTGGGAGCTTTCTTGCTGGCGATCTAAACCCTAGCCCGGCGCAGTTTTGCGCCAAGTCATATGACACATAATTGGCGAAGGGGGCGGCATGGTGCCTTGACCCTCCCCAAATCATTTTTTTAACAACTCTCAGCAACGGAAGGGCACGCCTGCCTGGGCATTGCGAGTCATATCTCTCCCTTAATGAGGCTGTCCACACATACTGTTCAGCCGGTGCGGATGTGAGTTTGGCCCCTTGTTCATTGGTACGGGGGGTCTAAGAGCTGCGTGGGCTTTTGTTGGTCCTAAATACGGCAAGAGGTGGACGAACTATGCTACAACAAAACTGTTGTGCGAATGCCCCGGGTTGTCGTATTAGATGGGCCAGCATAATCTAAAGACCCTTTTGAACCCCATTGGAGGCCCATCAACCCATGATCAGTTGA\n",
            "gi|2765606|emb|Z78481.1|PIZ78481\n",
            "572\n",
            "CGTAACAAGGTTTCCGTAGGTGAACCTGCGGAAGGATCATTGTTGAGATCACATAATAATTGATCGAGTTAATCTGGAGGATCAGTTTACTTTGGTCACCCATGGGCATTTGCTATTGCAGTGACCGAGATTTGCCATCGAGCCTCCTTGGGAGCTTTCTTGCTGGCGATCTAAACCCTAGCCCGGCGCAGTTTTGCGCCAAGTCATATGACACATAATTGGCGAAGGGGGCGGCATGCTGCCTTGACCCTCCCCAAATTATTTTTTAACAACTCTCAGCAACGGATAGGCCATCAGGCTAAGGGCACGCCTGCCTGGGCATTGCGAGTCATATCTCTCCCTTCAATGAGGCTGTCCACACATACTGTTCAGCCGGTGCGGATGTGAGTTTGGCCCCTTGTTCATTGGTACGGGGGGTCTAAGAGCTGCGTGGGCTTTTGTTGGTACCTAAATACGGCAAGAGGTGGACGAACTATGCTACAACAAAAATGTTGTGCGAATGCCCCGGGTTGTCGTATAGATGGGCCAGCATAATCTAAAGACCCTTTTGAACCCCATTGGAGGCCCATCAACCCATGATCAGTTGA\n",
            "gi|2765605|emb|Z78480.1|PGZ78480\n",
            "587\n",
            "CGTAACAAGGTTTCCGTAGGTGAACCTGCGGAAGGATCATTGTTGAGATCACATAATAATTGATCGAGTTAATCAGGAGGATCAGGTTACTTTGGTCACCCATGGGCATTTGCTGTTTCAGTGACCTAGATTTGCCATCGAGCCGAACTAAACCCTTGCCCGGCGCAGATTTGCGCCAATTTATATGAGACATTACTGGAAGGGGAGGGATGCTGCCTTGCCTTGCCCCCCAAATTATTTTTTAACAACTCTCAGCAACGGATATCTCGCCTCTTGCATCGATGAAGAACGCAGCGAAATGCGATAAATGGTGTGAATACAGAGATCCCGTGAACCATCGAGTCTTGAACGCAAGTTGCGCCCGAGGCCATCAGGCCAAGGGCACGCCTGCCTGGGCATTGCGAGACATATCTCTCCCTTAATGAGGCTGTCGTTCAGCCGGTGCGGATGTGAGTTTGGCCCCTTGTTCTTTGGTACGGGGGGTCTAAGAGCTGCATGGGCTTTTGATGGTCCTAAATACGGCAAGAGGTGGACGAACTATGCGACAACAGAACTGTTGTGCGAATGCCCCGGGTTGTCGTATTAGATGGGCCAGCATAATCTAAAGACCCTTTTGAACCCCATTGGAGGCCCATCAACCCAAGATCAGTTGACGGCCATTTGGATGCGACCCCAGGTCAGGTGAGGCAACCCTCTGAGT\n",
            "gi|2765604|emb|Z78479.1|PPZ78479\n",
            "700\n",
            "CGTAACAAGGTTTCCGTAGGTGAACCTCCGGAAGGATCAGTGTTGAGATCACATAATAATTGATCGAGTTAATCTGGGGGATCAGTTTACTTTGGTCACCCATGGGCATTTGCTGTTGCAGTGGCCTAGAGTTTGCCATCGAGCCGATCTAAACCCTTGCCCGGCGCAGTTTTGCGCCAAGTCATATGACACATAACTGGAAGGGGCGGCATGCTGCCATGGCTCCCCCAAATATTGATAATGGCGTGATAGCAGATCCCTGAACATCGAGTTTTGAACGCATGTTGCGTCCGAGGCCATCAGGTCAAGGGGACGCCTGCCTGGAAATTGTGAGACATATCTCTCCCTTAATGAGGCTGCCATACATACTGTTCAGCCGGTGCGGATGTGAGTTTGGCCCCTTGTCCTTTGGTACGGGGGTCTAAGAGCTGTATGGGTTGGATGGTCCTAAATACGGCAAGAGGTGGACGAGCTATGTGACAACAGAACTGTTGTGCGAATGCCCCGGTTGTCGTTTAGATGGGTCAGCATAATCTAAAGACCCTTTTGACCCCCATTGGAGGCCCATCAACCCATTATCAGTTGAGGACATTTGGTTGCGACCCAGGTCAGATGAGGCACCCGCTGAGTTTAGGC\n",
            "gi|2765603|emb|Z78478.1|PVZ78478\n",
            "636\n",
            "CGTAACAAGGTTTCCGTAGGTGAACCTGCGGAAGGATCATTGTTGAGATCACATGATAATTGATCGAGTTAATCTGGAGGATCAGTTTGCTTTGGTCACCCATGGGCATTTGCTGTTGCAGTGACCTAGATTTGCCATCGAGCCGATCTAAACCCTTGCCCGGCGCAGTTTTGCGCCAAGTCATATGACACATAATTGGAAGGGGCGGCATGCTGCCTTGCCCTCCCCAAATATTTGTTAACCAACTCTCAGCAACGAGTATCTCGGCTCTTGCATCGGATGGAAGGACGCAGCGAAATGCGATAAATGGTGTGAATTGCAAGAATCCCTGAACCATCGAGTCTTTGGAACGCAAGTTGCGGCCGAGGCCATCAGGCCAAGGGCACGCCTGCCTGGGCATTGCGAGACATATCTCTCCCTTAATGAGGCTGTCCACACATACTGTTCAGCCGGTGCGGATGTGAGTTTGGCCCCTTGTTCTTTGGTACGGGGGGTCTAAGAGCTGCATGGGCTTTTGATGGTCCTAAATACGGCAAGAGGTGGACGAACTATGCGACAACAGAACTGTTGTGCGAATGCCCCGGGTTGTCGTATTAGATGGGCCAGCATAATCTAAAGACCCTTTTGAACCCCATTGGAGGCCCATCAACCCATGATCAGTTGACGGCCATTTGGTTGCGACCCCAGGTCAGGTGAGGCAACCGCTGAGTTTATGC\n",
            "gi|2765602|emb|Z78477.1|PVZ78477\n",
            "716\n",
            "CGTAACAAGGTTTCCGTAGGTGAACCTGCGGAAGGATCATTGTTGAGATCACATGATAATTGATCGAGTTAATCTGGAGGATCAGTTTACTTTGGTCACCCATGGGCATTTGCTGTTGTAGTGACCTAGATTTGCCATCGAGCCGATCTAAACCCTTGCCCGGCGCAGTTTTGCGCCAAGTCATATGACACATAATTGGAAGGGCGGCATGCTGCCTTGGCCCTCCCCAAATTATTTTTTTAACAACTCTCAGCAACGGATATCTCGGCTCTTAGGCCATCCGGCCAAGGGCACGCCTGCCTGGGCATTGCGAGACATATCTCTCCCTTAATGAGGCTGTCCATACATACAGTTCAGCCGGTGCGGATGTGAGTTTGGCCCCTTGTTCTTTGGTACGGGGGGTCTAAGAGCTGCATGGGCTTTTGATCCACCTAAATACGGCAAGAGGTGGACGAACTATGCGACAACAGAACTGTTGCGCGAATGCCCCGGGTTGTCGTATTAGATGGGCCAGCATAATCTAAAGACCCTTTTGAATCCCATTGGAGGCCCATCAACCCATGATCAGTTGACGGCCATTTGGTTGCGACCC\n",
            "gi|2765601|emb|Z78476.1|PGZ78476\n",
            "592\n",
            "CGTAACAAGGTTTCCGTAGGTGAACCTGCGGAAGGATCATTGTTGAGATCACATAATAATTGATCGAGTTAATCTGGAGGATCAGTTTACTTTGGTCACCCATGGGCATCTGCTCTTGCAGTGACCTGGATTTGCCATCGAGCCTCCTTGGGAGCTTTCTTGCTGGCGATCTAAACCCGTCCCGGCGCAGTTTTGCGCCAAGTCATATGACACATAATTGGAAGGGGGTGGCATGCTGCCTTGACCCTCCCCAAATTATTTTTTTGACAACTCTCAGCAACGGATATCTCGGCTCTTNNNNNNNNNNNNNNNNNNNNNNNNNNNNNNNNNNNNNNNNNNNNNNNNNNNNNNNNNNNNNNNNNNNNNNNNNNNNNNNNNNNNNNNNNNNNNNNNATCAGGCCAAGGGCACGCCTGCCTGGGCATTGCGAGTCATATCTCTCCCTTAATGAGGCTGTCCATACATACTGTTCAGCCAATGCGGATGTGAGTTTGGCCCCTTGTTCTTTGGTACGGGGGGTCTAAGAGCTGCATGGGCTTTTGATGGTCCAAAATACGGCAAGAGGTGGACGAACTATGCTACAACAAAATTGTTGTGCGAATGCCCCGGGTTGTCGTATTAGATGGGCCAGCATAATCTAAAGACCCTTTTGAACCCCATTGGAGGCCCATCAACCCATGATCAGTTGACGGCCATTTGGTTGCGACCCAGGTCAGGT\n",
            "gi|2765600|emb|Z78475.1|PSZ78475\n",
            "716\n",
            "CGTAACAAGGTTTCCGTAGGTGAACCTGCGGAAGGATCATTGTTGAGATCACGTAATAATTGATCGAGTTAATCTGGAGGATCAGTTTACTTTGGTCACCCATGGGCATCTGCTCTTTCAGTGACCTGGATTTGCCATCGAGCCTCCTTGGGAGCTTTCTTGCTGGCGATCTAAACCCTTGCCCGGCGCAGTTTTGCGCCCAATCATATGACACATAATTGGAAGGGCGGCATCCTGCCTTGACCCTCCCCAAATTATATTTTTGACAACTCTCAGCAACGGATATCTCGCCTCTTGCATCGATGAAGACACAGCGAAATGCGATAAATGGTGTGAATTGCAGAATCCCGTGAACCATCGAGTCTTTGAACGCAAGTTGCGCCCGAGGCCATCAGGCCAAGGGCACGCCTGCCTGGGCATTGCGAGTCATATCTCTCCCTTAATGAGGCTGTCCATACATACTGTTCAGCCGGTGCGGATGTGAGTTTGGCCCCTTGTTCTTTGGTACGGGGGGTCTAAGAGCTGCATGGGCTTTTGATGGTCCAAAATACGGCAAGAGGTGGACGAACTATGCTACAACAAAATTGTTGTGCGAATGCCCCGGGTTGTCGTATTAGATGGGCCAGCATAATCTACAGACCCTTCTGAACCCCATTGGAGGCCCATCAACCCATGATCAGTTGACGGCCATTTGGTTGCGACCCCAGGTCAGGTGAAGCAACCCGTTGAGCTT\n",
            "gi|2765599|emb|Z78474.1|PKZ78474\n",
            "733\n",
            "CGTAACAAGGTTTCCGTAGGTGAACCTGCGGAAGGATCATTGTTGAGATCACATAATAATTGATCGGGTTAATCTGGAGGATCAGTTTACTTTGGTCACCCATGGGCATCTGCTCTTGTAGTGACCTGGATTTGCCATCGAGCCTCCATGGGAGCTTTCTTGGTGGCGATCTAAACCCTTGCCCGGCGCAGTTTTGCGCCAAGTCATATGACACATAATTGGAAGGGGGCGGCATGCTGCCTTGACCCTCCCCAAATTATTTTGTTAACAACTCTCAGCAACGGATATCTCGGCTCTTCCCGAGGCCATCAGGCCAAGGGCACGCCTGCCTGGGCATTGCGAGTCATATCTCTCCCTTCAATGAGGCTGTCCATACATACTGTTCAGTCGGTGCGGATGTGAGTTTGGCCCCTTGTTCTTGCCTACGGGGGGTCTAAGAGCTGCATGGGCTTTTGATGGTACCTAAATACGGCAAGAGGTGGACGAACTATGCTACAACAAAATTGTTGTGCGAATGCCCCGGGTTGTCGTATTAGATGGGCCAGCATAATCTAAAGACCCTTTTGAACCCCATTGGAGGCCCATCAACCCATGATCAGTTGACGGCCATTTGGTTGCGACCCAGG\n",
            "gi|2765598|emb|Z78473.1|PSZ78473\n",
            "626\n",
            "CGTAACAAGGTTTCCGTAGGTGAACCTGCGGAAGGATCATTGTTGAGATCACATAATAATTGATCGAGTTAATCTGGAGGATCAGTTTACTTTAGTCACCCATGGGCATCTGCTCTTGCAGTGACCTGGATTTGCCATCGAGCCTCCTTGGGAGCTTTCTTGCTGGCGATCTAAATCGTTGCCCGGCGCAGTCTTGCGCCAAGTCATTTCACACATAATTGGAAGGGGGCGGCATGCAGTCTAAGACCCTCCCCAAATTATTTTTTGATAACTCTCAGCAACGGAATCTCGGCTCTTGCATCGATGGAGGACGCAGCGAAATGCGATAAATGGTGTGAATTGCAGAATCCCGTGAACCATCGAGTCTTTGAACGCAAGTTGCGCCCGAGGCCATCAGGCCAAGGGCACGCCTGCCTGGGCATTGCGAGTCATATCTCTCCTTTAATGAGGCTGTCTATACATACTGTTCAGCCACAGCGGATGTGAGTTTGGCCCCTTGTTCTTTGGTACGGGGGGTCTAAGAGCTGCATGGGCTTTTGATGGTCTTAAATACGGCAAGAGGTGGACGAAGTATGCTACAACAAAATTGTAGTTCGAATGCCCAGGGTTGTCGTATTAGATGGGCCAGCATAATCTAAAGACCCTTTGAACCCCTTTAGAGGCCAATCAACCCATGATCAGTTGATGGCCATTTGGTTGCGACCCCAAGTCAGGTGAGGCAACCGCTGAGTTTAAGC\n",
            "gi|2765597|emb|Z78472.1|PLZ78472\n",
            "737\n",
            "CGTAACAAGGTTTCCGTAGGTGAACCTGCGGAAGGATCATTGTTGAGATCACATAATAATTGATCGAGTTAATCTAGAGGATCGGTTTACTTTGGTCACCCATGGGCATCTGCTCTTACAGTGACCTGGATTTGCCATCGAGCCTCCTTGGGAGCTGTCTTGCTGGCGATCTAAATCGTTGCCCGACGCAGCCTTGCGTCAAGTCACCCCGACACATAATGGAAGGGGGCGGCATGCTGCCTTGACCCTTCCCCAAATTAATTTTTTGACAACTCTCAACATCGGATATCTCGGCTCTTGCATCGATGAAGAACGCAGCGAAATGCGATAAATGGTGTGAATTGCAGAATCCCGTGAACCATCGAGTCTTTGAACGCAAGTTGCGCCCGAGGCCATCAGGCCAAGGGCACGCCTGCTTGGGCATTGCGAGTCATATCTCTCCCTTAATGAGGCTGTCCATACATACTGTTCAGCCAGTGCGGATGTGAGTTTGGCCCCTTGTTCTTTAGTACGGGGGGTCTAAAAGCTGCATGGGCTTTTGCTGGTCCTAAATACGGCAAGAGGTGGACAAAGTATGCTACAACAAAATTGTAGTGCGAATGCCCCGGGTTGTCGTATTAGATGGGCCAGCATAATTTAAAGACCCTTTTGAACCCCATTAGAGGCCCATCAACCCTGATCAGTTGATGGCCATTTGGTTGCGACCCCAAGTCAGGTGAGGCAACCCGCTGAGTTTAAGC\n",
            "gi|2765596|emb|Z78471.1|PDZ78471\n",
            "740\n",
            "CGTAACAAGGTTTCCGTAGGTGAACCTGCGGAAGGATCATTGTTGAGATCACATAATAATTGATCGAGTTAATCTAGAGGATCAGTTTACTTTGGTCACCCATGGGCATCTGCTCTTACAGTGACCTGGATTTGCCATCGAGCCTCCTTGGGAGCTTTCTTGCTGGCGATCTAAATCGTTGCCCGACGCAGCCTTGCGTCAAGTCATATGACACATAATTGGAAGGGGGCGGCATGCTGCCTTGACCCTTCCCAAATTATTTTTTTAAGTTGCGCCCGAGGCCATCAGGCCAAGGGCACGCCTGCTTGGGCATTGCGAGTCATATCTCTCCCTTAATGAGGCTGTCCATACATACTGTTCAGCCAGTGCGGATGTGAGTTTGGCCCCTTGTTCTTTACTACGGGGGGTCTAAAAGCTGCATGGGCTTTTGCTGGTCCTAAATACGGCAAGAGGTGGACAAAGTATGCTACAACAAAATTGTAGTGCGAATGCCCCGGGTTGTCGTATTAGATGGGCCAGCATAATTTAAAGACCCTTTTGAACCCCATTAGAGGCCCATCAACCCTGATCAGTT\n",
            "gi|2765595|emb|Z78470.1|PPZ78470\n",
            "574\n",
            "CGTAACAAGGTTTCCGTAGGTGAACCTGCGGAAGGATCATTGTTGAGATCACATAATAATTGATCGAGTTAATCTGGAGGATCAGTTTACTTTAGTCACCCATGGGCATCTGCTCTTGCAGTGACCTGGATTTGCCATCGAGCCTCCTTGGGAGCTTTCTTGCTGGCGATCTAAATTCGTTGCCCGGCGCAGTCTTGCGCCAAGTCATATCACACATAATTGGAAGGGGGCGGCATGCGGTCTAGACCCTCCCCAAATTATTTTTTTGACAACTCTCAGCAACGGATATCTCGGCTCTTCCATCAGGCCAAGGGCACGCCTGCCTGGGCATTGCGAGTCATATCTCTCCCTTAATGAGGCTGTCCATACATACTGTTCAGCCACAGCGGATGTGAGTTTGGCCCCTTGTTCTTTGGTACGGGGGGTCTAAGAGCTGCATGGGCTTTTGATGGTACCTAAATACGGCAAGAGGTGGACGAAGTATGCTACAACAAAATGATAGTGCGAATGCCCAGGGTTGTCGTATTAGATGGGCCAGCATAATCTAAAGACCCTTTTGAACCCCATTAGAGGCCCATCAACCCATGATCAGTT\n",
            "gi|2765594|emb|Z78469.1|PHZ78469\n",
            "594\n",
            "CGTAACAAGGTTTCCGTAGGTGAACCTGCGGAAGGATCATTGTTGAGATCGCATAATAATTGATTGAGTTAATCTGGAGGATCAGTTTACTTTGGTCACTCATGGGAATCTGCTCTTGTAGTGACCTGGATTTGCCATCGAGCCTCCTTGGGAGCTTTCTTGATGGCGATCTGAACCCTTGCCCGGCGCAGTTTTGCGCCAAGTCATATGACACATAATTGGGAGGGGCAGCATGCTGCCTTGACCCTCCCCATATCATTTTTTTAACGACTCTCAGCTCCGGAACTCAAGTTGCGCCCGAGGCCATCAGGCTAAGGGCACGCCTGCCTGGGCATTGCGAGTCATATCTCTCCCTTAATGAGGCTGTCCATACATACTGTTCAGCCAGTGCGGATGTGAGTTTGGCCCCTTGTTCTTCGGTACGGGGGGTCTAAGAGCAGCTGGGCTTTTGATGGACCTAAATACGGCAAGAGGTGGACGAAGTATGCTACAACAAAATTATTGTGTGAATGCCCCGGGTTGTCGTATAGATGGGCCAGCATAATCTAAAGACCCTTTTGAACCCCATTGGAGGCCCATCAACCCATGATCAGTTGACGGCCATTTGGTT\n",
            "gi|2765593|emb|Z78468.1|PAZ78468\n",
            "610\n",
            "CGTAACAAGGTTTCCGTAGGTGAACCTGCGGAAGGATCATTGTTGAGATCACATAATAATTGATCGAGTTAATCTGGAGGATCAGTTTACTTTGGTCACCCATGGGCATCTGCTCTTGCAGTGACCTGGATTTGCCATCGAGCCTCCTTGGGAGCTTTCTTGCTGGCGATCTAAACCCTTGCCCGGCGCAGTTTTGCGCCAAGTCATATGACACATAATTGGAAGGGGGTGGCATGCTGCCTTGACCCTCCCCAAATTATTTTTTGACAACTCTCAGCAACGGATATCTCGGCTCTTGCATCGATGAAGAACGCAGCGAAATGCGATAAATGGTGTGAATTGCAGAATCCCGTGAACCATCGAGTCTTTGAACGCAAGTTGCGCCCGAGGCCATCAGGCCAAGGGTACGCCTGCCTGGGCATTGCGAGTCATATCTCTCCCTTAATGAGGCTGTCCATACATACTGTTCAGCCGGTGCGGATGTGAGTTTGGCCCCTTGTTCTTTGGTACGGGGGGTCTAAGAGCTGCATGTGCCTTTGGTGGTCCAAAATACGGCAAGAGGTGGACGAACTATGCTACAACAAAATTGTTGTGCGAATGACCCGGGTTGTCGTATTAGCTGGGCCAGCATAATCTAAAGACCCTCTTGAACCCCATTGGAGGCCCATCAACCCATGATCAGTTGACGGCCATATGTTTGCGACCCAGGTCAGGTGAGGCAACCCGCTGA\n",
            "gi|2765592|emb|Z78467.1|PSZ78467\n",
            "730\n",
            "CGTAACAAGGTTTCCGTAGGTGAACCTGCGGAAGGATCATTGTTGAGATCACATAATAATTGATCGAGTTAATCTGGAGGATCAGTTTACTTTGGTCACCCATGGGCATCTGCTCTTGTAGTGACCTGGATTTGCCATCGAGCCTTCATGGGAGCTTTCTTGCTGGCGATCTAAACCCTTGCCCGGCGCAGTTTTGCGCCAAGTCATATGACACATAATTGGAAGGGGGCGGCATGCTGCCTTGACCCTCCCCAAATTATTTTTGTAACAACTCTCAGCAACGGATATCTCGGCTCTTTGCCGAGGCCATCAGGCCAAGGGCACGCCTGCCTGGGCATTGCGAGTCATATCTCTCCCTTAATGAGGCTGTCCATACATACAGTTCAGCCTGTGCGGATGTGAGTTTGGCCCCTTGTTCTTGCGTACGGGGGGTCTAAGAGCTGCATGGGCTTTTGATGGTCCTAAATACGGCAAGAGGTGGACGAACTATGCTACAACAAAATTGTTGTGCGAATGCCCCGGGTTGTCGTATTAGATGGGCCAGCATAATCTAAAGACCCTTTTGAACCCCATTGGAGGCCCATCAACCCATGATCAGTTGACGGCCATTTGGTTGCGACCCAGGTCAGGTGAGGCAACCC\n",
            "gi|2765591|emb|Z78466.1|PPZ78466\n",
            "641\n",
            "CGTAACAAGGTTTCCGTAGGTGAACCTGCGGAAGGATCATTGTTGAGATCACATAATAATTGATCGAGTTAATCTGGAGGATCAGTTTACTTTGGTCACCCATGGGCATCTGCTCTTGCAGTGACCTGGATTTGCCATCGAGCCTCCTTGGGAGCTTTCTTGCTGGCGATCTAAACCCTTGCCCGGCGCAGTTTTGCGCCAAGTCATATGACACATAATTGGAAGGGGGCGGCATGCTGCCTTGACCCTCCCCAAATTATTTTTTTGACAACTCTCAGCAACGGATTTCTCGGTTCTTGAATCGATGAGGAACGCAGCGAAATGCGATAATTGGTGTGAATTGAAGAATCCCGTAAACCATCGAGTCTTTGAACGAAAGTTGCGCCCGAGGCCATCAGGCCAAGGGAACGCCTGCCTGGGCATTGCGAGTCATATCTCTCCCTTAATGAGGCTGTCCATACATACTGTTCAGCGAGTGCGGATGTGAGTTTGGCCCCTTGTTCTTTGGTACGGGGGGTCTAAGAGCTGCATGGGCTTTTGATGGTCCTAAATACGGCAAGAGGTGGACGAACTATGCTACAACAAAATTGTTGTGCGAATGCCCCGGGTTGTCGTATTAGATGGGCCAGCATAATCTAAAGACCCTTTTGAACCCCATTGGAGGCCCATCAACCCATGATCAGTTGACGGCCATTTGGTTGC\n",
            "gi|2765590|emb|Z78465.1|PRZ78465\n",
            "702\n",
            "CGTAACAAGGTTTCCGTAGGTGAGCGGAAGGGTCATTGTTGAGATCACATAATAATTGATCGGTTGAGTCTGGAGGATCAGTTTACTTTGGTCACCCATGGGCATCTGCTCTTGTAGTGACCTGGATTGCCATCGAGCCTCCTTGGGAGCTTTCTTGCTGGAGATCTAAACCCTTGCCCGGAGCAGTTTTGCGCCAAGTCATATGACACATAATTGGAAGGGGGCGGCATGCTGCCTTGACCCTCCCCAAATTATTTTCTTAACAACTCTCAGCAACGGATATCTCGGCTCTTGCATCGATGAAGAACGCAGCGAAATCCGATAAATGGTGTGAATTTCAGAATCCCGTGAACCATCGAGTCTTTGAACGCCAAGTTCGCCCGAGGCCATCAGGCCAAGGGCACGCCTGCCTGGGCATTTCGAATCAAATCTCTCCCTTAATGAGGCTGTCCAAACATACTGTTCAACCGGTTCGGATGTGAGTTTGGCCCCTTTTTCTTTGGGGCGGGGGGTCTAAGAACTTCATGGGCTTTTGGTGGTCCTAAAAACGGCAAGAGGTGGGCGGACTATTCTTCAACCAAATTTCTGTTCGGATTCCCCGGGCTTTCGTAATAGATGGGCCAGCATAATCTAAAGACCCTTTTGAACCCCATTGGAGGCCCATCAACCCATGATCAGTTGACGGCCATTTGGTGCGACCCCAGGTCAGGTGAGCAACCCGCTGAGTTTAAGC\n",
            "gi|2765589|emb|Z78464.1|PGZ78464\n",
            "733\n",
            "CGTAACAAGGTTTCCGTAGGTGAACCTGCGGAAGGTTCATTGTTGAGATCACATAATCATTGTTCGGTTGAGTCTGGAGGATCAGTTTACTTTGGTCACCATGGGCATCTGCTCTTGTAGTGACCTGGATTGCCATCGAGCCTCCTTGGGAGCTTTCTTGCTGGGGATCTAAACCCTCGCCCGGGGGAGTTTTGCGCCAAGTCATATGACACATAATTGGGAGGGGGCGGCATGTTGCCTTGACCCTCCCCAAATTATTTTCTTAACAACTCTCAGCAACGGATATCTCGGCTCTTGCATCGATGGAAGAACGCAGCGAAATGCGATAAATGGTGTGAATTGCAGAATCCCGTGAACCATCGAGTCTTTGAACGCAAGTTGCGCCCGAGGCCATCAGGCCAAGGGCACGCCTGCCTGGGCATTGCGAGTCATATCTCTCCCTTAATGAGGCTGTCCATACATACTGTTCAACCGGTGCGGATGTGAGTTTGGCCCCTTTTTCTTTGGGGCGGGGGGTCTAAGAGCTGCATGGGCTTTTGATGGTCCTAAATACGGCAAGAGGTGGACGAACTATGCTGCAACAAAATTGCTGTGCGAATACCCCGGGTTGTCGTATTAGATGGGCCAGCATAATCTAAAGACCCTTTTGAACCCCATTGGAGGCCCATCAACCCATGATCAGTTGACGGCCATTTGGTTGCGACCCCAGATCAGGTGAGCAACCCGCTGAGTTTAAGC\n",
            "gi|2765588|emb|Z78463.1|PGZ78463\n",
            "738\n",
            "CGTCACGAGGTCTCCGGATGTGACCCTGCGGAAGGATCATTGTTGAGATCACATAATAATTGATCGAGTTAATCTGCAGGATCTGTTTACTTTGGTCACCCATGGGCATTTGCTGTTGAAGTGACCTAGATTTGCCATCGAGCCTCCTTGGGAGATTTCTTGTTGGCGAGATCTAAACCCTTGCCCGGCGCAGTTTTGCGCCAAGTCATANNNNNNNNNNNNNNNNNNNNNNNNNNNNNNNNNNNNNNNNNNNNNNNNNNNNNNNNNNNNNNNNNNNNNNNNNNNNNNNNNNNNNNNNNNNNNNNNNNNNNNNNNNNNNNNNNNNNNNNNNNNNNNNNNNNNNNNNNNNNNNNNNNNNNNNNNNNNNNNNNNNNNNNNNNNNNNNNNNNNNNNNNNNNNNNNNNNNNNNNNNNNNNNNNNNNNNNNNNNNNNNNNNNNNNNNNNNNNNNNNNNNNNNNNNNNNNNNNNNNNNNNNCGCCTGCCTGGGCATTGCGAGTCATATCTCTCCCTTAACGAGGCTGTCCATACATACTGTTCAGCCGGTGCGGATGTGAGTTTGGCCCCTTGTTCTTTGGTACGGGGGGTCTAAGAGCTGCATGGGCTTTTGATGGTCCTAAATACGGCAAGAGGTGGACGAACTATGCTACAACAAAATTGTTGTGCAAAGGCCCCGGGTTGTCGTATTAGATGGGCCACCGTAATCTGAAGACCCTTTTGAACCCCATTGGAGGCCCAT\n",
            "gi|2765587|emb|Z78462.1|PSZ78462\n",
            "736\n",
            "CGTAACAAGGTTTCCGTAGGTGAACCTCCGGAAGGATCATTGTTGAGATCACATAATAATTGATCGAGGTAATCTGGAGGATCTGTTTACTTTGGTCACCCATGGGCAGTTGCTGCTGGAGTGACCTAGAATTTCCATCGAGCCTCCTTGGGAGCTTTCTTGTTGGCGAGATCTAAACCCTTACCCGGCGCAATTTTTCCCCCAGTCAAATGACACATAATTGGTGGAGGGGGTGGCATTCTTCCCTGACCCTCCCCCAAATAATTTTTTCACAACTCTCAGCAACGGATATCTCGGCTCTTGCATCGATGAAGAACGCACCGAAATCCGATAAATGGTGTGAATTCCAGAATCCCGTGAACCATCGAGTCTTTGAACCCAAGTTGCGCCCGAGGCCATCAGGCCAAGGGAACGCCTGCCTGGGCATTGCGAGTCATATCTCTCCCTTAACGAGCCTGTCCATACATCCTGTTCAGCCGGTGCGGATGTGAGTTTGCCCCCTTGTTCTTTGGTACGGGGGGTCTAAGACCTGCATGGGCTTTTGATGGTCCTAAATACGGCAAGAGGTGGACGAACTATGCTACACCAAAATTGTTGTCCAAAGCCCCCGGGTTGTCGTATAAGATGGGCCACCGTAATCTGAAGACCCTTTGAACCCCATTGGAGCCCATCAACCCATGATCAGTTGATGCCATTGTTGCGACCCAGTCAGTGAGCAAGCCGCTGAGTTAA\n",
            "gi|2765586|emb|Z78461.1|PWZ78461\n",
            "732\n",
            "CGTAACAAGGTTTCCGTAGGTGAACCTCCGGAAGGATCATTGTTGAGATCACATAATAATTGATCGAGTTAATCTGGAGGATCTGTTTACTTTGGTCACCCATGAGCATTTGCTGTTGAAGTGACCTAGATTTGCCATCGAGCCTCCTTGGGAGCTTTCTTGTTGGCGAGATCTAAACCCTTGCCCGGCGCAGTTTTGCGCCAAGTCATATGACACATAATTGGTGAAGGGGGTGGCATCCTGCCCTGACCCTCCCCAAATTATTTTTTTAACAACTCTCAGCAACGGGATATCTCGGCTCTTGCATCGGATGGAGGAACGCAGCGAAATGCGATAAATGGTGTGAATTGCAGAATCCCGTGAACCATCGAGTCTTTGAACGCAAGTTGCGCCCGAGGCCATCAGGCCAAGGGCACGCCTGCCTGGGCATTGCGAGTCATATCTCTCCCTTAACGAGGCTGTCCATACATACTGTTCAGCCGGTGCGGATGTGAGTTTGGCCCCTTGTTCTTTGGTACGGGGGGTCTAAGAGCTGCATGGGCTTTTGATGGTCCCAAATACGGCAAGAGGTGGACGAACTATGCTACAACAAAATTGTTGTGCAAAGGCCCCGGGTTGTCGTATTAGATGGGCCACCGTAATCTGAAGACCCTTTTGAACCCCATTGGAGGCCCATCAACCCATGATCAGTTGATGGCCATTTGGGTTGCGACCCCAGGTCAGGTGAGGCAACCCGCTGAGTTTA\n",
            "gi|2765585|emb|Z78460.1|PCZ78460\n",
            "745\n",
            "CGTAACAAGGTTTCCGTAGGTGAACCTGCGGAAGGATCATTGTTGAGATCACATAATAATTGATCGAGTTAATCTGGAGGATCTGTTTACTTTGGTCACCCATGAGCATTTGCTGTTGAAGTGACCTAGATTTGCCATCGAGCCTCCTTGGGAGCTTTCTTGTTGGCGAGATCTAAACCCTTGCCCGGCGCAGTTTTGCGCCAAGTCATATGACACATAATTGGTGAAGGGGGTGGCATCCTGCCCTGACCCTCCCCAAATTATTTTTTTAACAACTCTCAGCAACGGATATCTCGGCTCTTGCATCGGATGGAGGAACGCAGCGAAATTGCGATAAATTGGTGTGAATTGCAGAATCCCGTGAACCATCGAGTCTTTGAACGCAAGTTGCGCCCGAGGCCATCAGGCCAAGGGCACGCCTGCCTGGGCATTGCGAGTCATATCTCTCCCTTAACGAGGCTGTCCATACATACTGTTCAGCCGGTGCGGATGTGAGTTTGGCCCCTTGTTCTTTGGTACGGGGGGTCTAAGAGCTGCATGGGCTTTTGATGGTCCTAAATACGGCAAGAGGTGGACGAACTATGCTACAACAAAATTGTTGTGCAAAGGCCCCGGGTTGTCGTATTAGATGGGCCACCGTAATCTGAAGACCCTTTTGAACCCCATTGGAGGCCCATCAACCCATGATCAGTTGATGGCCATTTGGTTGCGACCCCAGGTCAGGTGAGGCAACCCGCTGAGTTT\n",
            "gi|2765584|emb|Z78459.1|PDZ78459\n",
            "744\n",
            "CGTAACAAGGTTTCCGTAGGTGAACCTGCGGAAGGATCATTGTTGAGATCACATAATAATTGATCGAGTTAATCTGGAGGATCTGTTTACTTTGGTCACCCATGAGCATTTGCTGTTGAAGTGACCTAGATTTGCCATCGAGCCTCCTTGGGAGCTTTCTTGTTGGCGAGATCTAAACCCTTGCCCGGCGCAGTTTTGCGCCAAGTCGTACGACACATAATTGGTGAAGGGGGTGGCATCCTTCCCTGACCCTCCCCAAATTATTTTTTAACAACTCTCAGCAACGGATATCTCGGCTCTTGCATCGATGGAGGACGCAGCGAAATGCGATAAATGGTGTGAATTGCAGATCCCGTGAACCATCGAGTCTTTGAACGCAAGTTGCGCCCGAGGCCATCAGGCCAAGGGCACGCCTGCCTGGGCATTGCGAGTCATATCTCTCCCTTAACGAGGCTGTCCATACATACTGTTCAGCCGGTGCGGATGTGAGTTTGGCCCCTTGTTCTTTGGTACGGGGGGTCTAAGAGCTGCATGGGCTTTTGATGGTCCTAAATACGGCAAGAGGTGGACGAACTATGCTACAACAAAATTGTTGTGCAGAGGCCCCGGGTTGTCGTATTAGATGGGCCACCGTAATCTGAAGACCCTTTTGAACCCCATTGGAGGCCCATCAACCCATGATCAGTTGATGGCCATTTGGTTGCGACCCCAGGTCAGGTGAGGCAACCCGCTGAGTTG\n",
            "gi|2765583|emb|Z78458.1|PHZ78458\n",
            "738\n",
            "CGTAACAAGGTTTCCGTAGGTGAACCTCCGGAAGGATCATTGTTGAGATCACATAATAATTGATCGAGTTAATCTGGAGGATCTGTTTACTTTGGTCACCCATGGGCATTTTCTGTTGTAGTGACCTAGAATTTCCATCGAGCCTCCTTGGGAGCTTTCTTGTTGGCGAGATCTAAACCCTTGCCCGGCGCAGTTTTTCCCCCAGTCAAATGGCACATAATTGGTGGAGGGGGTGGCATTCTTCCCTGACCCTCCCCCAAATATTTTTTTAACAACTCTCAACAACGGATATCTCGGCTCTTTCATCGGATGAAGGACCGCAGCGAAATGCGATAAATGGTGTGAATTGCAGAATCCCGTGAACCATCGAGTCTTTGAACGCAAGTTGCGCCCGAGGCCATCAGGCCAAGGGCACGCCTGCCTGGGCATTGCGAGTCATATCTCTCCCTTAACGAGGCTGTCCATACATACTGTTCAGCCGGTGCGGATGTGAGTTTGGCCCCTTGTTCTTTGGTACGGGGGGTCTAAGAGCTGCATGGGCTTTTGATGGTCCTAAATACGGCAAGAGGTGGACGAACTATGCTACAACAAAATCGTTGTGCAAAGGCCCCGGGTTGTCGTATTAGATGGGCCACCGTAATCTAAAGACCCTTTTGAACCCCATTGGAGGCCCATCAACCCATGATCAGTTGATGGCCATTTGGTTGCGACCCCAGGTCAGGTGAGGCAACCCGCTGAG\n",
            "gi|2765582|emb|Z78457.1|PCZ78457\n",
            "739\n",
            "CGTAACAAGGTTTCCGTAGGTGAACCTGCGGAAGGATCATTGTTGAGATCACATAATAATTGATCGAGTTAATCTGGAGGATCTGTTTACTTTGGTCACCCATGAGCATTTGCTGTTGAAGTGACCTAGAATTTGCCATCGAGCCTCCTTGGGAGCTTTCTTGTTGGCGAGATCTAAACCCTTGCCCGGCGCAGTTTTGCGCCAAGTCATATGACACATAATTGGTGGAGGGGGTGGCATCCTGCCCTGACCCTCCCCAAATTATTTTTTTAACAACTCTCAGCAACGGATATCTCCGGTCTGGCATCGATGAAGAACGCAGCGAAATGCGATAAATGGTGTGATTGCAGAATCCCGTGAACATCGAGTCTTTGAACGCAAGTTGCGCCCGAGGCCATCAGGCCAAGGGCACGCCTGCCTGGGCATTGCGAGTCATATCTCTCCCTTAACGAGGCTGTCCATACATACTGTTCAGCCGGTGCGGATGTGAGTTTGGCCCCTTGTTCTTTGGTACGGGGGGTCTAAGAGCTGCATGGGCTTTTGATGGTCCTAAATACGGCAAGAGGTGGACGAACTATGCTACAACAAAATTGTTGTGCAAAGGCCCCGGGTTGTCGTATTAGATGGGCCACCGTAATCTGAAGACCCTTTTGGACCCCATTGGAGGCCCATCAACCCATGATCAGTTGATGGCCATTTGGGTTGCGACCCAGGTCAGGTGAGGCAACCCTGAGTTTAGC\n",
            "gi|2765581|emb|Z78456.1|PTZ78456\n",
            "740\n",
            "CGTAACCAGGTTTCCGTAGGTGGACCTTCGGGAGGATCATTTTTGAGATCACATAAAAATTGATCGAGTTAATCTGGAGGAACTTTTTACTTTGGTCACCCATGAACAATTTCTTTTGGAGTGACCTAGAATTTCCATCGAACCCCCTTGGGAACTTTCTTTTTGGCGAGAACTAAACCCTTTCCCGGCGCAGTTTTTCCCCCAATCAAATTACACAAAAATGGTGGAGGGGGTGGCATCCTTCCCTTACCCTCCCCCAAATAATTTTTTAACAACTCTCAGCAACGGATATCTCGGCTCTTGCATCGGTTGAAGAACCAGCGAAATGCGATAAATGGTGTGAATTGCAGAATCCCGTGAACCATCGAGTCTTTGAACGCAAGTTGCGCCCGAGGCCATCAGGCCAAGGGCACGCCTGCCTGGGCATTGCGAGTCATATCTCTCCCTTAACGAGGCTGTCCATACATACTGTTCAGCCGGTGCGGATGTGAGTTTGGCCCCTTGTTCTTTGGCACGGGGGGTCTAAGAGCTTCATGGGCTTTTGATGGTCCTAAATACGGCAAGAGGTGGACGAACTATGCTACAACAAAATTGTTGTGCAAAGGCCCCGGGTTGTCGTATTAGATGGGCCACCGTAATCTGAAGACCCTTTTGAACCCCATTGGAGGCCCATCAACCCATGATCAGTTGATGGCCATTTGGGTTGCGACCCCAGGTCAGGTGAGGCAACCCGCTGAGTTTAGCA\n",
            "gi|2765580|emb|Z78455.1|PJZ78455\n",
            "745\n",
            "CGTAACAAGGTTTCCGTAGGTGAACCTGCGGAAGGATCATTGTTGAGATCACATAATAATTGATCGAGATAATCTGGAGGATCTGTTTACTTTGGTCACCCATGAGCATTTGCTGTTGAAGTGACCTAGATTTACCATCGAGCCTCCTTGGGAGCTTTCTTGTTGGCGAGATCTAAACCCTTGCCCGGCGCAGTTTTTCTCCAAGTCATTTGACACATAATCGGTGAAGGGGGTGGCATCCTGCCCTGACCCTCCCCCCACTATTGTTAACAACTCTCATCAACGGAACTCATGCGATAAATGGTGTGATTTGCAGAATCCCGTGAACCATCGAGTCTGTGAACGCAAGTTGCGGCCGAGGCCATCAGACCAAGGGCACGCCTGCCTGGGCATTGCGAGTCATATCTCTCCCTTAACGAGGCTGTCCATACATACTGTTCAGCCGGTGCGGATGTGAGTTTGGCCCCTTGTTCTCTGGTACGGGGGGTCTAAGAGCTGCATGGGCTTTTGATGGTCCTAAATACGGCAAGAGGTGGACGAACTATGCTACAACAAAATTGTTGTGCAAAGGCCCCGGGTTGTCGTATTAGATGGGCCACCGTAATCTGAAGCCCCTTTTGAACCCATTGGAGGCCCATCAACCNCATGATCAGTTGATGGCCATTTGGATGCGACCCCAGGTCAGGTGAGGCAAC\n",
            "gi|2765579|emb|Z78454.1|PFZ78454\n",
            "695\n",
            "CGTAACAAGGTTTCCGTAGGTGAACCTGCGGAAGGATCATTGTTGAGATCACATAATAATTGATCGAGTTAATCTGGAGGATCTGTTTACTTTGGTCACCCATGAGCATTTGCTGTTGAAGTGACCTAGAGTTGCCATCGAGCCTCCTTGGGAGCTTTCTTGTTGGCGAGATCTAAACCCTTGCCCGGCGCAGTTTTGCGCCAACTCATTTGACACATAACTGGTGAAGGGGGTGGCATCCTTCCCTGACCCTCCCCCAAATTATTTTTTAACAACTCTCAGCAACCGGATATCTCAGCTCTTGCATCGATGAAGAACGCAGCGAAATGCGATAAATGGTGTGAATTGCAGAATCCCGTGAACCATCGAGTCTTTGAACGCAAGTTGCGCCCGAGGCCATCAGGCCAAGGGCACGCCTGCCTGGGCATTGCGAGTCATATCTCTCCCTTAACGAGGCTGTCCATACATACTGTTCAGCCGGTGCGGATGTGAGTTTGGCCCCTTGTTCTTTGGTACGGGGGGTCTAAGAGCTGCATGGGCTTTTGATGGTCCTAAATACGGCAAGAGGTGGACGAACTATGCTACAACAAAATTGTTGTGCAAAGGCCCCGGGTTGTCGTATTAGATGGGCCACCGTAATCTGAAGACCCTTTTGAACCCCATTGGAGGCCCATCAACCCATGATCAGTTGATGGCCATTTGGTTGCGACCCCAGGTCAGGTGAGGCAACCCGCTGAGTTTAGCA\n",
            "gi|2765578|emb|Z78453.1|PSZ78453\n",
            "745\n",
            "CGTAACAAGGTTTCCGTAGGTGAACCTGCGGAAGGATCATTGTTGAGATCACATAATAATTGATCGAGTTAATCTGGAGGATCTATTTACTTTGGTCACCCATGAGCATTTGCTGTTGAAGTGACCTAGATTTGCCATCAAGCCTCCTTGGGAGCTTTCTTTTTGGCGAGATCTAAACCCTTGCCCGGCGCAGTTTTGCGCCAAGTCATATGACACATAATTGGTGAAGGGGGTGGCATCCTGCCCTGACCCTCCCCAAATTATTTTTTTAACAACTCTCAGCAACGGATATCTCGGCTCTTGAATCGATGAAGAACGCAGCGAAATGCGATAAATGGTGTGAATTGCAGAATCCCGTGAACCATCGAGTCTTTGAACGCAAGTTGCGCCCGAGGCCATCAGGCCAAGGGCACGCCTGCCTGGGCATTGCGAGTCATATCTCTCCCTTAACGAGGCTGTCCATACATACTGTTCAGCCGGTGCGGATGTGAGTTTGGCCCCTTGTTCTTTGGTACGGGGGGTCTAAGAGCTGCATGGGCTTTTGATGGTCCTAAATACGGCAAGAGGTGGATGAACTATGCTACAACAAAATTGTTGTGCAAAGGCCCCGGGTTGTCGTATTAGATGGGCCACTGTAATCTGAAGACCCTTTTGAACCCCATTGGAGGCCCATCAACCCATGATCAGTTGATGGCCATTTGGATGCGACCCCAGGTCAGGTGAGGCAACCGCTGAGTTTAGCA\n",
            "gi|2765577|emb|Z78452.1|PBZ78452\n",
            "743\n",
            "CGTAACAAGGTTTCCGTAGGTGTACCTCCGGAAGGATCATTGTTGAGATCACATAATAATTGATCGAGATAATCTGGAGGATCTGTTTACTTTGGTCACCCATGGGCATTTGCTGTTGTAGTGACCTAGATTTCCATGGAGCCCCCCTGGGAGCTTTCTTGCTGGCGAGATCTAAACCCGTGCCCGGCGCAGTTTTGCGCCAAGTCATATGACACATAATTGGTGTAGGGGGCGGGCATCCTGCCCTGACCCTCCCCAAAGTATTTTTTGCAACTCTCAACAACGGAAATCTCGCTCTTTCATCGATGAAGAACCAGCGAAATCGATAAATGGTGTGAATTGCAGAATCCCGTGAACCATCGAGTCTTTGAACCCAAGTTGCGCCCGAGGCCATCAGGCCAAGGGCACCCCTCCCTGGGCATCGCGAGTCAAATCTCTCCCTTAACGAGGCTGTCCATACATACTGTTCACCCGGTGCGGATGTGAGTTTGCCCCCTTGTTCTTTGGTACGGGGGGTCTAAGACCTGCATGGGATTTTGATGGTCCTAAAAACGGCAAGAGGTGGACGAACTATCCCTACAATAAAATTGTTGTGCGAAGCCCCCGGGTTGTCGTATTAGATGGGCCACCGTAATCTGAAGACCCTATAGAACCCCATTGGAGGCCCATCAACCCATGATCAGTTGATGGCCATTTGATGCGACACCAGTCAGTGAGCAACCAGCTGAGC\n",
            "gi|2765576|emb|Z78451.1|PHZ78451\n",
            "730\n",
            "GGAAGGATCATTGCTGATATCACATAATAATTGATCGAGTTAAGCTGGAGGATCTGTTTACTTTGGTCATCCATGAGCATTTACTGTTGAAGTGACCTAGATTTGCCATCGAGCCTCCTTGGGAGCTTTCTTGTTGCCGAGATCTAAACCCTTGCCCGGCGCAGTTTTGCGCCAAGTCATATGACACATAATTGGTGAAGGGGGTGGCATCCTGCCCTGACCCTCCCCAAATTATTTTTTTAACAACTCTCAGCAACGGATATCTCGGCTCTTGCATCGATGAAGAACGCAGCGAAATGCGATAAATGGTGTGAATTGCAGAATCCCGTGAACCATCGAGTCTTTGAACGCAAGTTGCGCCCGAGGCCATCAGGCCAAGGGCACGCCTGCCTGGGCATTCCGAGTCATATCTCTCCCCTAACGAGGCTGTCCATACATACTGTTCATCCGGTGCGGATGTGAGTGTGGCCCCTTGTTCTTTGGTCCGGGGGGTCTAAGAACTGCATGGGCATATGATGGTCCTCAAAACTGGCAAGAGGTGGACGAACTATGCTACAACCAAATTGTTGTGCCAAGGCCCCGGGTTGTCGTATTAGATGGGCCACCGTAACCTGTAGACCCTGTTGAACCCCATTGGAGGACCATCAACCCATGATCAGTTGATGACCATGTGTTGCGACCCCAGATCAGCTGAGCAACCCCTGAG\n",
            "gi|2765575|emb|Z78450.1|PPZ78450\n",
            "706\n",
            "CGTAACAAGGTTTCCGTAGGTGAACCTGCGGAAGGATCATTGTTGAGATCACATAATAATTGATCGAGTTAATCTGGAGGATCTGTTTACTTTGGTCACCCATGAGCATTTGCTGTTGAAGTGACCTAGATTTGCCATCGAGCCTCCTTGGGAGCTTTCTTGTTGGCGAGATCTAAACCCTTGCCCGGCGCAGTTTTGCGCCAACTCATTTGACACATAATTGGTGAAGGGTGGCATCCTGCCCTGACCCTCCCCCAAATTATTTTTTTAACAACTCTCAGCAACGGATATCTCAGCTCTTGCATCGATGAAGAACGCAGCGAAAATGCGATAAATGGTGTGAATTGCAGAATCCCGTGAACCATCGAGTCTTTGAACGCAAGTTGCGCCCGAGGCCATCAGGCCAAGGGCACGCCTGCCTGGGCATTGCGAGTCATATCTCTCCCTTAACGAGGCTGTCCATACATACTGTTCAGCCGGTGCGGATGTGAGTTTGGCCCCTTGTTCTTTGGTACGGGGGGTCTAAGAGCTGCATGGGCTTTTGATGGTCCTAAATACGGCAAGAGGTGGACGAACTATGCTACAACTAAATTGTTGTGCAAAGGCCCCGGGTTGTCGTATTAGATGGGCCACCGTAATCTGAAGACCCTTTTGAACCCCATTGGAGGCCCATCAACCCATGATCAGTTGATGGCCATTTGGTTGCGACCCCAGGTCAGGTGAGGCAACCCGCTGAGTTTATGC\n",
            "gi|2765574|emb|Z78449.1|PMZ78449\n",
            "744\n",
            "CGTAACAAGGTTTCCGTAGGTGAACCTGCGGAAGGATCATTGTTGAGATCACATAATAATTGATCGAGTTAATCTGGAGGATCTGTTTACTTTGGTCACCCATGAGCATTTGCTGTTGAAGTGACCTAGAATTGCCATCGAGCCTCCTTGGGAGCTTTCTTGTTGGCGAGATCTAAACCCTTTCCCGGCGCAGTTTTGCGCCAAGTCGTATGACACATAATTGGTGAAGGGGGGTGGCATCCTTCCCTTGACCCTCCCCAAATTATTTTTTTAACAACTCTCAGCAACGGATATCTCAGCTCTTGCATCGGATGGAAGAACGCACCGAAATGCGATAAATGGTGTGAATTGCAGAATCCCGTGAACCATCGAGTCTTTGAACGCAAGTTGCGCCCGAGGCCATCAGGCCAAGGGCACGCCTGCCTGGGCATTGCGAGTCATATCTCTCCCTTAACGAGGCTGTCCATACATACTGTTCAGCCGGTGCGGATGTGAGTTTGGCCCCTTGTTCTTTGGTACGGGGGGTCTAAGAGCTGCATGGGCTTTTGATGGTCCTAAATACGGCAAGAGGTGGACGAACTATGCTACAANAAAATTGTTGTGCAAAGGCCCCGGGTTGTCGTATTAGATGGGCCACCGTAATCTGAAGACCCTTTTGAACCCCATTGGAGGCCCATCAGCCCATGATCAGTTGATGGCCATTTGGNTGCGACCCCAGGTCAGGTGAGGCAACCCGCTGAGG\n",
            "gi|2765573|emb|Z78448.1|PAZ78448\n",
            "742\n",
            "CGTAACAAGGATTCCGTAGGTGAACCTGCGGGAGGATCATTGTTGAGATCACATAATAATTGATCGAGTAATCTGGAGGATCTGTTTACTTTGGTCACCCATGGGCATTTCCTGTTGAAGTGACCTAGAGTTGCCATCGAGCCTCCCTGGGAGCTTTCTTGTTGGCGAGAACTAAACCCTTACCCGGCGCAATTTTGCCCCCAGTCAAATGACACATAAGTGGTGAAGGGGGTGGCATCCTATCTCGGCTCTTGCATCGATGAAGAACCCAGCGAAATGCGATAAATGGTGTGAATTGCAGAATCCCGTGAACCATCGAGTCTTTGAACGCAAGTTGCGCCCGAGGCCATCAGGCCAAGGGCACGCCTGCCTGGGCATTGCGAGTCATATCTCTCCCTTAACGAGGCTGTCCATACATACTGTTCAGCCGGTGCGGATGTGAGTTTGGCCCCTTGTTCTTTGGTACGGGGGGTCTAAGAGCTGCATGGGCTTTTGATGGTCCTAAATACGGCAAGAGGTGGACGAACTATGCTACACCAAAATTGTTGTGCAAAGGCCCCGGGTTGTCGTATTAGATGGGCCACCGTAATCTGAAGACCCTTTTGAACCCCATTGGAGGCCCATCAACCCATGATCAGTTGATGGCCATTTGGTTGCGACCCCAGTCAGGTGAGGCAACCCGCTGAGTTTAAGC\n",
            "gi|2765572|emb|Z78447.1|PVZ78447\n",
            "694\n",
            "CGTAACAAGGTTTCCGTAGGTGAACCTCCGGAAGGATCATTGTTGAGATCACATAATAATTGATCGAGTTAATCTGGAGGATCTGTTTACTTTGGTCACCCATGAGCATTTCCTGTTGAAGTGACCTAGATTTGCCATCGAGCCTCCTTGGGAGCTTTCTTGTTGGCGAGATCTAAACCCTTGCCCGGCGCAGTTTTGCGCCAAGTCATATGACACATAATTGGTGAAGGGGGTGGCATCCTCCCCAAATAATTTTTTAACAACTCTCAGCAACGGATACTCGGCTCTTCATCGATGGAGGACCAGCGAAATTGCGATAATGGTGTGATTGCAGAATCCCGTGAACATCGAGTCTTTGAACGCAAGTTGCGCCCGAGGCCATCAGGCCAAGGGCACGCCTGCCTGGGATTGCGAGTCATATCTCTCCCTTAACGAGGCTGTCCATACATACTGTTCAGCCGGTGCAGATGTGAGTTTGGCCCCTTGTTCTTCGGTACGGGGGGTCTAAGAGCTGCATGGGCTTTTGATGGCCCTAAATACGGCAAGAGGTGGACGAACTATGCTACAACAAAATTGTTGTGCAAAGGCTCCGGGTTGTCGTATTAGATGGGCCACCGTAATCTGAAGACCCTTTTGAACCCCATTGGAGGCCCATCAACCCATGATCAGTTGATGGCCATTTGGTTGCGACCCAGGTCAGGTGAGGCAACCC\n",
            "gi|2765571|emb|Z78446.1|PAZ78446\n",
            "712\n",
            "CGTAACAAGGTTTCCGTAGGTGAACCTGCGGAAGGATCATTGTTGAGATCACATAATAATTGATCGGGTTAATCTGGAGGATCTGTTTACTTTGGTCACCCATGAGCATTTGCTGTTGAAGTGACCTAGAATTGCCATCGAGCCTCCTTGGGAGCTTTCTTGTTGGCGAGATCTAAACCCTTGCCCGGCGCAGTTTTGCTCCAAGTCGTTTGACACATAATTGGTGAAGGGGGTGGCATCCTTCCCTGACCCTCCCCCAACTATTTTTTTAACAACTCTCAGCAACGGAGACTCAGTCTTCGGCAAATGCGATAAATGGTGTGAATTGCAGAATCCCGTGCACCATCGAGTCTTTGAACGCAAGTTGCGCCCGAGGCCATCAGGCCAAGGGCACGCCTGCCTGGGCATTGCGAGTCATATCTCTCCCTTAACGAGGCTGTCCATACATACTGTTCAGCCGGTGCGGATGTGAGTTTGGCCCCTTGTTCTTTGGTACGGGGGGTCTAAGAGCTGCATGGGCTTTTGATGGTCCTAAATACGGCAAGAGGTGGACGAACTATGCTACAACAAAATTGTTGTGCAGAGGCCCCGGGTTGTCGTATTAGATGGGCCACCGTAATCTGAAGACCCTTTTGAACCCCATTGGAGGCCCATCAACCCATGATCAGTTGATGGCCATTTGGTTGCGACCCCAGGTCAGGTGAGCAACAGCTGT\n",
            "gi|2765570|emb|Z78445.1|PUZ78445\n",
            "715\n",
            "CGTAACAAGGTTTCCGTAGGGTGAACTGCGGAAGGATCATTGTTGAGATCACATAATAATTGATCGAGTTAATCTGGAGGATCTGTTTACTTGGGTCACCCATGGGCATTTGCTGTTGAAGTGACCTAGATTTGCCATCGAGCCTCCTTGGGAGCATCCTTGTTGGCGATATCTAAACCCTCAATTTTTCCCCCAATCAAATTACACAAAATTGGTGGAGGGGGTGGCATTCTTCCCTTACCCTCCCCCAAATATTTTTTTAACAACTCTCAGCAACGGATATCTCAGCTCTTGCATCGATGAAGAACCCACCGAAATGCGATAAATGGTGTGAATTGCAGAATCCCGTGAACCATCGAGTCTTTGAACGCAAGTTGCGCCCGAGGCCATCAGGCCAAGGGCACGCCTGCCTGGGCATTGCGAGTCATATCTCTCCCTTAACGAGGCTGTCCATACATACTGTTCAGCCGGTGCGGATGTGAGTTTGGCCCCTTGTTCTTTGGTACGGGGGGTCTAAGAGATGCATGGGCTTTTGATGGTCCTAAATACGGCAAGAGGTGGACGAACTATGCTACAACAAAATTGTTGTGCAAAGGCCCCGGGTTGTCGTATAAGATGGGCCACCGATATCTGAAGACCCTTTTGGACCCCATTGGAGCCCATCAACCCATGTCAGTTGATGGCCATT\n",
            "gi|2765569|emb|Z78444.1|PAZ78444\n",
            "688\n",
            "CGTAACAAGGTTTCCGTAGGTGAACCTGCGGAAGGATCATTGTTGAGATCACATAATAATTGATCGAGTTAATCTGGAGGATCTGTTTACTTGGGTCACCCATGGGCATTTGCTGTTGAAGTGACCTAGATTTGCCATCGAGCCTCCTTGGGAGCTTTCTTGTTGGCGATATCTAAACCCTTGCCCGGCAGAGTTTTGGGCCACANNNNNNNNNNNNNNNNNNNNNNNNNNNNNNNNNNNNNNNNNNNNNNNNNNNNNNNNNNNNNNNNNNNNNNNNNNNNNNNNNNNNNNNNNNNNNNNNNNNNNNNNNNNNNNNNNNNNNNNNNNNNNNNNNNNNNNNNNNNNNNNNNNNNNNNNNNNNNNNNNNNNNNNNNNNNNNCAGCGAAATGCGATAATGGTGTGAATTGCAGAATCCCGTGAACCATCGAGTCTTTGAACGCAAGTTGCGCCCGAGGCCATCAGGCCAAGGGCACGCCTGCCTGGGCATTGCGAGTCATATCTCTCCCTTAACGAGGCTGTCCATACACACCTGTTCAGCCGGTGCGGATGTGAGTTTGGCCCCTTGTTCTTTGGTACGGGGGGTCTAAGAGCTGCATGGGCTTTTGATGGTCCTAAATACGGCAAGAGGTGGACGAACTATGCTACAACAAAATTGTTGTGCAAAGGCCCCGGGTTGTCGTATTAGATGGGCCACCATAATCTGAAGACCCTTTTGAACCCCATTGGAGGCCCATCAACCCATGATCAGTTGATGGCCATTTGGTTGCGACCCAGTCAGGTGAGG\n",
            "gi|2765568|emb|Z78443.1|PLZ78443\n",
            "784\n",
            "GTAGGTGAACCTGCGGAAGGATCATTGTTGAGATCACATAATAATTGATCGAGTTAATCTGGAGGATCTGTTTACTTTGGTCACCCATGGGCATTTGCTGTTGAAGTGACCTAGATTTGCCATCGAGCCTCCTTGGGAGCTTTCTTGTTGGCGAGATCTAAACCCTTGCCCGGCGGAGTTTGGCGCCAAGTCATATGACACATAATTGGTGAAGGGGGTGGCATCCTGCCCTGACCCTCCCCAAATTATTTTTTTAACAACTCTCAGCAACGGATATCTCGGCTCTTGCATCGATGAAGAACGCAGCGAAATGCGATAAATGGTGTGAATTGCAGAATCCCGTGAACCATCGAGTCTTTGGAACGCAAGTTGCGCCCGAGGCCATCAGGCCAAGGGCACGCCTGCCTGGGCATTGGGAATCATATCTCTCCCCTAACGAGGCTATCCAAACATACTGTTCATCCGGTGCGGATGTGAGTTTGGCCCCTTGTTCTTTGGTACCGGGGGTCTAAGAGCTGCATGGGCATTTGATGGTCCTCAAAACGGCAAGAGGTGGACGAACTATGCCACAACAAAATTGTTGTCCCAAGGCCCCGGGTTGTCGTATTAGATGGGCCACCGTAACCTGAAGACCCTTTTGAACCCCATTGGAGGCCCATCAACCCATGATCAGTTGATGACCATTTGTTGCGACCCCAGTCAGCTGAGCAACCCGCTGAGT\n",
            "gi|2765567|emb|Z78442.1|PBZ78442\n",
            "721\n",
            "GGAAGGTCATTGCCGATATCACATAATAATTGATCGAGTTAATCTGGAGGATCTGTTTACTTGGTCACCCATGAGCATTTGCTGTTGAAGTGACCTAGATTTGCCATCGAGCCTCCTTGGGAGTTTTCTTGTTGGCGAGATCTAAACCCTTGCCCGGCGGAGTTGTGCGCCAAGTCATATGACACATAATTGGTGAAGGGGGTGGCATCCTGCCCTGACCCTCCCCAAATTATTTTTTTAACAACTCTCAGCAACGGATATCTCGGCTCTTGCATCGATGAAGAACGCAGCGAAATGCGATAAATGGTGTGAATTGCAGAATCCCGTGAACCATCGAGTCTTTGAACGCAAGTTGCGCCCGAGGCCATCAGGCCAAGGGCACGCCTGCCTGGGCATTGCGAGTCATATCTCTCCCTTAACGAGGCTGTCCATACATACTGTTCATCCGGTGCGGATGTGAGTTTGGCCCCTTGTTCTTTGGTACGGGGGGTCTAAGAGCTGCATGGGCATTTGATGGTCCTCAAAACGGCAAGAGGTGGACGAACTATGCTACAACCAAATTGTTGTCCCAAGGCCCCGGGTTGTCGTATTAGATGGGCCACCGTAACCTGAAGACCCTTTTGAACCCCATTGGAGGCCCATCAACCCATGATCAGTTGATGACCATGTGTTGCGACCCCAGTCAGCTGAGCAACGCGCTGAG\n",
            "gi|2765566|emb|Z78441.1|PSZ78441\n",
            "703\n",
            "CGTAACAAGGTTTCCGTAGGTGGACCTCCGGGAGGATCATTGTTGAGATCACATAATAATTGATCGAGGTAATCTGGAGGATCTGCATATTTTGGTCACCCATGGGCAATTTCTGTTGTAGTGACCTAGAATTTCCATCGACCCTCCTTGGGAGCATTCTTGTTGGCGAGAACTAAACCCTTACCCGGCGCAGTTTTTCCCCCAATCAAATTACACAAAAATGGTGGAGGGGGTGGCATATCTTCCCTTACCCTCCCCCAAATAATTTTTTAACAACTCTCAGCAACGGATATCTCAGCTCTTGCATCGTTGAAGAACCCACCGAAATGCGATAAATGGTGTGAATTGCAGAATCCCGTGAACCATCGAGTCTTTGAACGCAAGTTGCGCCCGAGGCCATCAGGCCAAGGGCACGCCTGCCTGGGCATTGCGAGTCATATCTCTCCCTTAACGAGGCTGTCCATACATACTGTTCAGCCGGTGCGGATGTGAGTTTGGCCCCTTGTTCTTTGCTACGGGGGGTCTAAGAGCTGCATGGGCTTTTGATGGTCCTAAATACGGCAAGAGGTGGACGAACTATGCTACAGCAAAATTGTTGTGCAAAGGCCCCGGGTTGTCGTATTAGATGGGCCACCGTAATCTGAAGACCCTTTTGAACCCCATTGGAGGCCCATCAACCCATGATCAGTTGATGGCCATTTGGTTGCGACCCCAGGTCAGGTGAGGCAACCCCTGAGTTTAGCA\n",
            "gi|2765565|emb|Z78440.1|PPZ78440\n",
            "744\n",
            "CATTGTTGAGATCACATAATAATTGATCGAGTTAATCTGGAGGATCTGTTTACTTTGGTCACCCATGGGCATTTGCTGTTGAAGTGACCTAGATTTGCCATCGAGCCTCCTTGGGAGCTTTCTTGTTGGCGAGATCTAAACCCCTGCCCGGCGGAGTTGGGCGCCAAGTCATATGACACATAATTGGTGAAGGGGGTGGTAATCCTGCCCTGACCCTCCCCAAATTATTTTTTTAACAACTCTCAGCAACGGATATCTCGGCTCTTGCATCGATGAAGAACGCAGCGAAATGCGATAATGGTGTGAATTGCAGAATCCCGTGAACATCGAGTCTTTGAACGCAAGTTGCGCCCGAGGCCATCAGGCCAAGGGCACGCCTGCCTGGGCATTGCGAGTCATATCTCTCCCTTAATGAGGCTGTCCATACATACTGTTCAGCCGGTGCGGATGTGAGTTTGGCCCCTTGTTCTTTGGTACGGGGGGTCTAAGAGCTGCATGGGCTTTGGATGGTCCTAAATACGGAAAGAGGTGGACGAACTATGCTACAACAAAATTGTTGTGCAAATGCCCCGGTTGGCCGTTTAGTTGGGCC\n",
            "gi|2765564|emb|Z78439.1|PBZ78439\n",
            "592\n"
          ]
        }
      ]
    },
    {
      "cell_type": "code",
      "source": [
        "sequences"
      ],
      "metadata": {
        "id": "P8HNE8k9suWm",
        "colab": {
          "base_uri": "https://localhost:8080/"
        },
        "outputId": "bf910c04-b5b0-46b8-9c6a-7a616a38b34f"
      },
      "execution_count": null,
      "outputs": [
        {
          "output_type": "execute_result",
          "data": {
            "text/plain": [
              "['CGTAACAAGGTTTCCGTAGGTGAACCTGCGGAAGGATCATTGATGAGACCGTGGAATAAACGATCGAGTGAATCCGGAGGACCGGTGTACTCAGCTCACCGGGGGCATTGCTCCCGTGGTGACCCTGATTTGTTGTTGGGCCGCCTCGGGAGCGTCCATGGCGGGTTTGAACCTCTAGCCCGGCGCAGTTTGGGCGCCAAGCCATATGAAAGCATCACCGGCGAATGGCATTGTCTTCCCCAAAACCCGGAGCGGCGGCGTGCTGTCGCGTGCCCAATGAATTTTGATGACTCTCGCAAACGGGAATCTTGGCTCTTTGCATCGGATGGAAGGACGCAGCGAAATGCGATAAGTGGTGTGAATTGCAAGATCCCGTGAACCATCGAGTCTTTTGAACGCAAGTTGCGCCCGAGGCCATCAGGCTAAGGGCACGCCTGCTTGGGCGTCGCGCTTCGTCTCTCTCCTGCCAATGCTTGCCCGGCATACAGCCAGGCCGGCGTGGTGCGGATGTGAAAGATTGGCCCCTTGTGCCTAGGTGCGGCGGGTCCAAGAGCTGGTGTTTTGATGGCCCGGAACCCGGCAAGAGGTGGACGGATGCTGGCAGCAGCTGCCGTGCGAATCCCCCATGTTGTCGTGCTTGTCGGACAGGCAGGAGAACCCTTCCGAACCCCAATGGAGGGCGGTTGACCGCCATTCGGATGTGACCCCAGGTCAGGCGGGGGCACCCGCTGAGTTTACGC',\n",
              " 'CGTAACAAGGTTTCCGTAGGTGAACCTGCGGAAGGATCATTGTTGAGACAACAGAATATATGATCGAGTGAATCTGGAGGACCTGTGGTAACTCAGCTCGTCGTGGCACTGCTTTTGTCGTGACCCTGCTTTGTTGTTGGGCCTCCTCAAGAGCTTTCATGGCAGGTTTGAACTTTAGTACGGTGCAGTTTGCGCCAAGTCATATAAAGCATCACTGATGAATGACATTATTGTCAGAAAAAATCAGAGGGGCAGTATGCTACTGAGCATGCCAGTGAATTTTTATGACTCTCGCAACGGATATCTTGGCTCTAACATCGATGAAGAACGCAGCTAAATGCGATAAGTGGTGTGAATTGCAGAATCCCGTGAACCATCGAGTCTTTGAACGCAAGTTGCGCTCGAGGCCATCAGGCTAAGGGCACGCCTGCCTGGGCGTCGTGTGTTGCGTCTCTCCTACCAATGCTTGCTTGGCATATCGCTAAGCTGGCATTATACGGATGTGAATGATTGGCCCCTTGTGCCTAGGTGCGGTGGGTCTAAGGATTGTTGCTTTGATGGGTAGGAATGTGGCACGAGGTGGAGAATGCTAACAGTCATAAGGCTGCTATTTGAATCCCCCATGTTGTTGTATTTTTTCGAACCTACACAAGAACCTAATTGAACCCCAATGGAGCTAAAATAACCATTGGGCAGTTGATTTCCATTCAGATGCGACCCCAGGTCAGGCGGGGCCACCCGCTGAGTTGAGGC',\n",
              " 'CGTAACAAGGTTTCCGTAGGTGAACCTGCGGAAGGATCATTGTTGAGACAGCAGAACATACGATCGAGTGAATCCGGAGGACCCGTGGTTACACGGCTCACCGTGGCTTTGCTCTCGTGGTGAACCCGGTTTGCGACCGGGCCGCCTCGGGAACTTTCATGGCGGGTTTGAACGTCTAGCGCGGCGCAGTTTGCGCCAAGTCATATGGAGCGTCACCGATGGATGGCATTTTTGTCAAGAAAAACTCGGAGGGGCGGCGTCTGTTGCGCGTGCCAATGAATTTATGACGACTCTCGGCAACGGGATATCTGGCTCTTGCATCGATGAAGAACGCAGCGAAATGCGATAAGTGGTGTGAATTGCAGAATCCCGCGAACCATCGAGTCTTTGAACGCAAGTTGCGCCCGAGGCCATCAGGCTAAGGGCACGCCTGCCTGGGCGTCGTGTGCTGCGTCTCTCCTGATAATGCTTGATTGGCATGCGGCTAGTCTGTCATTGTGAGGACGTGAAAGATTGGCCCCTTGCGCCTAGGTGCGGCGGGTCTAAGCATCGGTGTTCTGATGGCCCGGAACTTGGCAGTAGGTGGAGGATGCTGGCAGCCGCAAGGCTGCCGTTCGAATCCCCCGTGTTGTCGTACTCGTCAGGCCTACAGAAGAACCTGTTTGAACCCCCAGTGGACGCAAAACCGCCCTCGGGCGGTGATTTCCATTCAGATGCGACCCCAGTCAGGCGGGCCACCCGTGAGTAA',\n",
              " 'CGTAACAAGGTTTCCGTAGGTGAACCTGCGGAAGGATCATTGTTGAAACAACATAATAAACGATTGAGTGAATCTGGAGGACTTGTGGTAATTTGGCTCGCTAGGGATATCCTTTTGTGGTGACCATGATTTGTCATTGGGCCTCATTGAGAGCTTTCATGGCGGGTTTGAACCTCTAGCACGGTCCAGTTTGCACCAAGGTATATAAAGAATCACCGATGAATGACATTATTGCCCCACACAACGTCGGAGGTGTGGTGTGTTAATGTTCATTCCAATGAATTTTGATGACTCTCGGCAGACGGATATCTTGACTCTTGCATCGATGAAGAACGCACCGAAATGTGATAAGTGGTGTGAATTGCAGAATCCCGTGAACCATCGAGTCTTTGAACGCAAGTTGCGCCCGAGGCCATCAGGCTAAGGGCACGCCTGCCTGGGCGTCGTATGTTTTATCTCTCCTTCCAATGCTTGTCCAGCATATAGCTAGGCCATCATTGTGTGGATGTGAAAGATTGGCCCCTTGTGCTTAGGTGCGGTGGGTCTAAGGATATGTGTTTTGATGGTCTGAAACTTGGCAAGAGGTGGAGGATGCTGGCAGCCGCAAGGCTATTGTTTGAATCCCCCATGTTGTCATGTTTGTTGGGCCTATAGAACAACTTGTTTGGACCCTAATTAAGGCAAAACAATCCTTGGGTGGTTGATTTCCAATCAGATGCGACCCCAGTCAGGGGGCCACCCCAT',\n",
              " 'ACGGCGAGCTGCCGAAGGACATTGTTGAGACAGCAGAATATACGATTGAGTGAATCTGGAGGACTTGTGGTTATTTGGCTCGCTAGGGATTTCCTTTTGTGGTGACCATGATTTGTCATTGGGCCTCATTGAGAGCTTTCATGGCGGGTTTGAACCTCTAGCACGGTGCAGTTTGCACCAAGGTATATAAAGAATCACCGATGAATGACATTATTGTCAAAAAAGTCGGAGGTGTGGTGTGTTATTGGTCATGCCAATGAATTGTTGATGACTCTCGCCGAGGGATATCTTGGCTCTTGCATCGATGAAGAATCCCACCGAAATGTGATAAGTGGTGTGAATTGCAGAATCCCGTGAACCATCGAGTCTTTGAACGCAAGTTGCGCCCGAGGCCATCAGGCTAAGGGCACGCCTGCCTGGGCGTCGTATGTTTTATCTCTCCTTCCAATGCTTGTCCAGCATATAGCTAGGCCATCATTGTGTGGATGTGAAAGATTGGCCCCTTGTGCTTAGGTGCGGTGGGTCTAAGGATATGTGTTTTGATGGTCTGAAACTTGGCAAGAGGTGGAGGATGCTGGCAGCCGCAAGGCTATTGTTTGAATCCCCCATGTTGTCATATTTGTTGGGCCTATAGAACAACTTGTTTGGACCCTAATTAAGGCAAAACAATCCTTGGGTGGTTGATTTCCAATCAGATGCGACCCCAGTCAGCGGGCCACCAGCTGAGCTAAAA',\n",
              " 'CGTAACAAGGTTTCCGTAGGTGAACCTGCGGAAGGATCATTGTTGAGACAGTAGAATATATGATCGAGTGAATCTGGATGACCTGTGGTTACTCGGCTCGCCTGATTTGTTGTTGGGCTTCCTTAGGAGCTTACATGGCGGGTTTGAACCTCTACCACGGTGCAGTTTGCGCCAAGTCATATGAAGCATAACTGCAAATGGCACTACTGTCACCAAAAGTTGGAGTGGCAGTGTGTTATTGCATGCGCTAATGGATTTTTGATGACTCTCGGCCAACGGATATCTGGCTCTTTGCATCGATGAAGGAACGCAGCGAAATGCGATAAGTGGTGTGAATTGCAGAATCCCGCGAACCATCGAGTCTTTGAACGCAAGTTGCGCCCGAGGCCATCAGGCTAAGGGCACGCCTGCCTGGGCGTCGTGTATCGCATCTCTCTTGCCAATGCTTACCCGGCATACAACTAGGCTGGCATTGGGTGGATGTGAAAGATTGGCCCCTTGTGCCTAGGTGCGGTGGGTCTAAGGATTGATGTTTTGATGGATCGAAACCTGGCAGGAGGTGGAGGATGCTGGAAGCCGCAAGGCTGTCGTTCGAATCCCCCATGTTGTCATATTTGTCGAACCTATAAAAGAACATGCTTGAACCCCAATGGATTGTAAAATGACCCTTGGCGGTTGATTTCCATTTAGATGCGACCCCAGGTCAGGCGGGCCACCC',\n",
              " 'CGTAACAAGGTTTCCGTAGGTGAACCTGCGGAAGGATCATTGTTGAGACAGTAGAATATATGATCGAGTGAATCTGGAGGACCTGTGGTTACTCGGCTCCCCTGATTTGTTGTTGGGCTTCCTTAGGAGCTTACATGCCGGGTTTGAACCTCTACCACGGTGCAGTTTGCGCCAAGTCATATGAAGCATAACTGAACAATGGCATTATTGTCACCAAAAGTTGGAGTGGCAGTGTGCTATTGCATGCGCTAATGGATTTTTGATGACTCTCGCCAACGGATATCTTGGCTCTTGCATCGATGAAGAACCCAGCGAAATGCGATAAGTGGTGTGAATTGCAGAATCCCGCGAACCATCGAGTCTTTGAACGCAAGTTGCGCCCGAGGCCATCAGGCTAAGGGCACGCCTGCCTGGGCGTCGTGTATCGCATCTCTCTTGCCAATGCTTACCCGGCATACAACTAGGCTGGCATTGTGCGGATGTGAAAGATTGGCCCCTTGTGCCTAGGTGCGGTGGGTCTAAGGATTGATGTTTTGATGGATCGAAACCTGGCAGGAGGTGGAGGATGCTGGAAGCCGCAAGGCTGTCGTTCGAATCCCCCATGTTGTCATATTTGTCGAACCTATAAAAGAACATGCTTGAACCCCAATGGATGTAAAATGACCCTTGGCGGTTGATTTCCATTTAGATGCGACCCCAGGTCAGGCGGGGCCACCCGCTGAGTTTATGT',\n",
              " 'TGTTGAGATAGCAGAATATACATCGAGTGAATCCGGAGGACCTGTGGTTATTCGGCTTGCCGAGGGCTTTGCTTTTGTGGTGACCCAAATTTGTCGTTGGGCCTCCTCGGGAGCTTTCATGGCAGGTTTCAAACTCTAGCACGGCACAGTTTGTGCCAAGTCATATGAAGCATCACCGACAAATGACATTATTGTCAAAAAAGTTGGAGGGGCGGTGTCCTCCTGTGCATGCCGAATATAATTTTGATGACTCTCGACAAGCGGATATCTTGGCTCTTGCATCGGATGAAGAACCCAGCGAAATGCGATAAGTGGTGTGAATTGCAAGATCCCGTGAACCATCGAGTCTTTTGAACGCAAGTTGCGCCCGAGGCCATCAGGCTAAGGGCACGCCTGCCTGGGCGTCGTGTGTTGTGTCTCTCTTGCCAATGCCTGTCCATATATCTAGGCTTGCATTGTGCGGATGCGAAAGATTGGCCCCTTGTGCCTTGGCGCGTTGGGTCTAAGGAATGTTTTGATGGCCCGAAACTTGGCAGGAGGTGGAGGACATTGGCTGCCACAAGGTTGTCATTTAAATCCCCCATGTTATCGTATTTATCGGACCTATATAATAACTTGTTTGAACCCCAGTGGAGGCAAAATGACCCTTGGATGGTTGACTGCCATTCATATGCGACCCCAGGTCAGGCGGGCCACCCGCTGCA',\n",
              " 'CGTAACAAGGTTTCCGTAGGTGAACCTGCGGAAGGATCATTGTTGAGATAGTAGAATATATGATTGAGTGAATATGGAGGACATGTGGTTACTTGGCTCGTCAGTGCTTTGCTTTTGTGGTGACCTTAATTGGGCCTCCTTAGGAGCTTTCATGGCGGGTTCAAACCTTTAGCACGGCGCAGTTTGTGCCAAGTCATATAAGCATCCCTGATGAATGGCATTGTTGTTAAAAAAGTCGGAGGGGCGGCATGCTGTTGTGCATGCTAATGAATTTTTTGATGACTCTCGCAACGGAACTTGGCTCTTTACATCCGATGAAGAACGCAGCGAAATGCGATAAGTGGTGTGAATTGCAGAATCCCGTGAACCATCGAGTATTTGAACGCAAGTTGCGCCCAAGGCCATCAGGCTAAGGGCACGCCTGCCTGGGCGTCGTGTGCTGCATCTCTCCTNCCAATGCTTGCCCAGCATATAGCTAGGTTAGCATTGTGCGGATGAAATATTGGCCCCTTGTGCTTAGGTGCGGTGGGTCTAAGGATTAGTATTTTGATAGCTCGGAACTCGGCAGGAGGTGGAGAATGTTGGTAGCTGCAAGGCTGCCATTTGAATTCCCCATGTTGTCGTATTTGTTGAACCTATAAAAGAACTTGTTTGAACCCCAATGAAGGAAAAATGACCCTTGGGCGGTTGATTTTCATTCAGATGCAACCCCAGGTCAGGTGGCCACCCTGAGATTAAGC',\n",
              " 'CGTAACCAGGTTTCCGTAGGTGAACCTGCGGCAGGATCATTGTTGAGACAGCAGAATATATGATCGAGTGAATCCGGTGGACTTGTGGTTACTCAGCTCGACATAGGCTTTGCTTTTGCGGTGACCCTAACTTGTCATTGGGCCTCCTCCCAAGCTTTCCTTGTGGGTGTGAACCTCTAGCACGGTGCAGTATGCGCCAAGTCATATGAAGCATCACTGAGGAATGACATTATTGTCCCAAAAGCTAGAGTGGAAGCGTGCTCTTGCATGCATGCATAATGAATTTTTTATTGACTCTCGACATATGTGGTGTGAATTGCAGAATCCCGTGAACCATCGAGTCTTTGAACGCAAGTTGCGCCCGATGCCATCAGGCTAAGGGCACGCCTGCCTGGGCGTCGTGTGCTGCGTCTCTCCTATCAATGCTTTCCTATCATATAGATTGGTTTGCATTGCGTGGATGCGAAAGATTGGCCCCTTGTGCCTAGGTGCGGTGGGTCTAAGGACTAGTGTTTTGATGGTTCGAAACCTGGCAGGAGGTGGAGGATGTTGGCAGCTATAAGGCTATCGTTTGAACCCCCCATATTGTCGTGTTTGTCGGACCTAGAGAAGAACCTGTTTGAATCCCAATGGAGGCAAACAACCCTCGGGCGGTTGATTGCCATTCATATTGCGACCCAGGTCAGGCGGGGCCACCGCTGAGTTTAAG',\n",
              " 'CGTAACAAGGTTTCCGTAGGTGAACCTGCGGAAGGATCATTGTTGAGACAGCAGAATATATGATCGAGTGAATCCGGTGGACTTGTGGTTACTCAGCTCGACATAGGCTTTGCTTTTGCGGTGACCCTAATTTGTCATTGGGCCTCCCCCCAAGCTTTCCTTGTGGGTTTGAACCTCTAGCACGGTGCAGTATGCGCCAAGTCATATGAAGCATCACTGATGAATGACATTATTGTCCAAAAAGTTGGAGTGGAAGCGTGCTATTGCATACATGCAAATGAATTTTTTATGACTCTCGACATATCGTGGTGTGATCGCAGAATCCCGTGAACCATCGAGTCTTTGAACGCAAGTTGCGCCCGATGCCATCAGGCTAAGGGAACGCCTGCCTGGGCGTCGTGTGCTGCGTCTCTCCTGTCAATGGTTATACGTCATATAGACAGGTTTGCATTGCGTGGATGTGAAAGATTGGCCCCTTGTGCCTAGGTGCGGTGGGTCTAAGGACTAGTGTTTTGATGGTTCGAAACCTGGCAGGAGGTGGAGGATGTTGGCAGCTATAAGGCTATCATTTGAATCCCCCATATTGTCGTGTTTGTCGGACCTAGAGAAGAACATGTTTGAATCCCAATGGGGGCAAACAACCCTCGGGCGGTTGATTGCCATTCATATGCGACCCCAGGTCAGGCGGCCACCCGCTGAG',\n",
              " 'GTAGGTGAACCTGCGGAAGGATCATTGTTGAGACAGTAGAATATATGATCGAGTGAATCCGGTGGACTTGTGGTTACTCAGCTCGACATAGGCTTGGCTTTGGCGGTGACCCTAATTTGCCATTGGGCCTCCTCCAAAGCTTTCCTTGTGGGTTTGAACCTCTAGCACGGTGCAGTATGCGCCAAGTCATATGAAGCATCACCGATGAATGACATTATTGTCAAAAAGTTGGAGTGGAAGCGTGCTATTGCATGCATGCAAATGAATTTTTTATGACTCTCGACAACGGATATCTTGGCTCTTGCATCGATGAAGAACGCAGCAAAATGCGATAAGTGGTGTGAATTGCAGAATCCCGTGAACCATCGAGTCTTTGAACGCAAGTTGCGCCCGATGCCATCAGGCTAAGGGCACGCCTGCCTGGGCGTCGTGTGCTGCGTCTCTCCTGTCAATGCTTTCATGTCATATAGATAGGTTTGCATTGCGTGGATGTGAAAGAATGGCCCCTTGTGCCTAGGTACGGTGGGTCTAAGGACTAGTGTTTTGATGGTTCGAAACCTGGCAGGAGGTGGAGGATGTTGGCAGCTATAAGGCTATCATTTGAATCCCCCATATTGTCGTGTTTGTCGGACCTAGAGAAAAACATGTTTGAATCCCAATGGAGGCAAACAACTCTCGGGCGGTTGATTGCCATTCATATGCGACCCCAGGTCAGGCGGGGCCACC',\n",
              " 'CGTAACAAGGTTTCCGTAGGTGAACCTGCGGAAGGATCATTGTTGAGACAGCAGAATATATGATCGAGTGAATCCGGTGGACTTGTGGTTACTCAGCTCGCCATAGGCTTTGCTTTTGCGGTGACCCTAATTTGTCATTGGGCCTCCTCCAAAGCTTTCCTTGTGGGTTTGAACCTCTAGCACGGTGCAGTATGCGCCAAGTCATATGAATCATCACCGATGAATGACATTATTGTCCAAAAAGTTGGAGTAGAAGCGTGCTATTGCATGCATGCAATAGAATATTTTATGACTCTCGACAAGGGATATCTTGGCTCTTGCATCGGATGAAGAACGCAGCGAAATTGTGATAAGTGGTGTGAATTGCAGAATCCCGTGAACCATCGAGTATGTGAACGCAAGTTGCGCCCGATGCCATCAGGCTAAGGGCACGCCTGCCTGGGCGTCGTGTGCTGCGTCTCTCCTGTCAATGCTTTCCTGTCATATCGATAGGTTTGCATTGTGTGGATGTGAAAGATTGGCCCCTTGTGCCTAGGTGCGGTGGGTCTAAGGACTAGTGTTTTGATGGTTCGAAACCTGGCAGGAGGTGGAGGATGTTGGCAGCTATAAGGTTGTCATGTGAATCCCCCATATTGTCGTGTTTGTCGGACCTGGAGAAGAACCTGTTTGAATCCCAATGGAGGCAAACAACCCTCGGGCGGTTGATTGCCATTCATATGCGACCCCAGGTCAGGCGGGCCACCCGCTGAGTTT',\n",
              " 'ATATGATCGAGTGAATCTGGTGGACTTGTGGTTACTCAGCTCGCCATAGGCTTTGCTTTTGCGGTGACCCTAATTTGTCATTGGGCCTCCTCCCAAGCTTTCCTTGTGGGTTTGAACCTCTAGCACGGTGCAGTATGCACCAAGTCATATGAAGCATTGCCGATGAATGACATTATTGTCCAAAAGTTGGAGTGGAAGCGTGCTACTGCATGCATGCAAATGAATTTTTTTATGACTCTCGACAACGGATATCTTGGCTCTTGCATCGATGAAGAACGCAGCGAAATGCGATAAGTGGTGTGAATTGCAGAATCCCGTGAACCATCGAGTCTTTGAACGCAAGTTGCGCCCGATGCCATCAGGCTAAGGGCACGCCTGCCTGGGCGTCGTGTGCTGCGTCTCTCCTGTCAATGCTTTCCCATCATATAGATAGGTTTGCATTGTGTGGATGTGAAAGATTGGCCCCTTGTGCCTAGGTGCGGTGGGTCTAAGAACTTAATGTTTTGATGGTTCGAAACCTGGCAGGAGGTGGAGGATGTTGGCAGCTATATAAGGCTATCATTTGAATCCCCCATATTGTCGCGTTTGTTGGACCTAGAGAAGAACATGTTTGAATCCCAATGGAGGCAAACAACCCTCGGGCGGTTGATTGCCATTCATATGCGACCCCAGGTCAGGCGGGGCCACCCGCTGAGTTTA',\n",
              " 'CGTAACAAGGTTTCCGTAGGTGAACCTGCGGGAGGATCATTGTTGAGATAGTAGAATATTCGATCGAGTGAATCCGGAGGACTTGTGGTTACTCGGCTCGTCGAAGGCTTAACTTTTGTGGTGACCCTGATTTGTAGTTGGGCATCCTCGAGAGCTTTTATGGCGGGTTTGAGCCTCTATCACGGCGCAGTTTGCGCCAAGTCATATGAAGCATCGCCGACGAATTACATTATTGTCCCCCAAACTCGGATGGACGGTGTGTGTTACGCATACCCGTGAACCATCGAGTCTTTGAACGCAAGTTGCGCCCAAGGCCATCAGGCTAAGGGCACGCCTGCCTGGGCGTCGTGTGCTGCATCTCTTTTGCCAATGCTTGCTCGACATACAATTAGGCCAGTATTGCATAGATATGAAAGATTGACCCCTTGTGCTTAGGTGCGGTGGGTCTAAGGATTGGTGTTTTGATGGCCCAAACCCCGGCAGGAGGTGGAGCATGTTGATAGTCGCAAGGCTGTCGTTCAAATCCCACATGTTGTCGTATTTGCCGGACCCACAGAAGAACCTATTTGAACCCCTATGGAGGCAAAACAACCCTTGAGCGATTGATTGCCATTCAGATACGACCCCAGGTCAGGCGGGGCCACCCGCTGAGTTTTCC',\n",
              " 'CGTAACAAGGTTTCCGTAGGTGAACCTGCGGAAGGATCATTGTTGAGACAGTAGAATATACGATCGAGTGAATCCAGAGGACTTGTGGTTACTCGGCTCGTCCAAGTCTTAGCTTTTGTGGCCCTGATTTGTCGTTGGGCATCCTCAGGAGATTTTATGGCGGGTTTGAACCTCTATCACGGTGCAGTTTGCGCCAAGTCATATGAAGCATCACCGATGAATGACATTATTGTCACAAAAGTCGGATGGGCGGTGTGCTGTTGTGCATGCCAATAAATTTTTGATGACTCTCGGCCAACGGATATCTTGCTCTTCCATCGATGAAGAACGCAGCGAAATGCGATAAGTGGTGTGAATTGCAGAATCCCGTGAACCATCGAGTCTTTGAACGCAAGTTGCGCCCAAGGCCATCAGGCTAAGGGCACGCCTGCCTGGGCGTCGTGTGCTGCATCTCTTTTGCCAATGCTTGCCCGACATACAATTAGGACAGTATTGCATAGATATGAAAGATTGACCCCTTGTGCTTAGGTGCGGTGGGTCTAAGGATTGGTGTTTTGGTGGCCCGAACCCCGGCAGGAGGTGGATCATGTTGATAGTCGCAAGACTGTCATTCAAATCCCACATGTTGTCGTATTTGTCGGACCCACAGAAGAACCTATTTGAACCCCAATGGAGGCAAAACAACCCTCGAGCGATTGATTGCCATTCAGATACGACCCCAGGTCAGGCGGGGCCACCCGCTGAGTTTAAGC',\n",
              " 'CGTAACAAGGTTTCCGTAGGTGAACCTGCGGAAGGATCATTGTTGAGACAGTATAATATATGATCGAGTGAATCCGGAGGACTTGTGGTTACTCGGCTCGTCCAAGTCTTAGCTTTTGTGGCCCTGATTTGTCGTTGGGCATCCTCAGGAGCTTTTATGGCGGGTTTGAACCTCTATCACGGCGCAGTTTGCGCCAAGTCATATGAAGCATCACCGACGAATGACATTATTGTCACCAAAGTCGGATGGGCGGTGTGCTATTGTGCATACCAATAATTTTTTGATGACTCTCGTCAACGGATATCTTAGCGAAATGCGATAAGTGGTGTGAATTGCAGAATCCCGTGAACCATCGAGTCTTTGAACGCAAGTTGCGCCCAAGGCCATCAGGCTAAGGGCACGCCTGCCTGGGCGTCGTGTGCTGCATCTCTTTTGCCAATGCTTGCCCGACATACAATTAGGCCAGTATTGCATAGATATGAAAGATTGACCCCTTGTGCTTAGGTGCGGTGGGTCTAAGGATTGGTGTTTTGATGTCCCGAACCCCGGCAGGAGGTGGAGCATGTTGATAGTCGCAAGACTATCGTTCAAATCCCACATGTTGTCGTATTTGTCGGACCCACAGAAGAACCTATTTGAACCCCAATGGAGGCAAAACAACCCTCGAGTGATTGATTGCCATTCAGATATGACCCCAGGTCAGGCGGGGCCACCCGCTGAGTTTAA',\n",
              " 'CGTAACAAGGTTTCCGTAGGTGAACCTGCGGAAGGATCATTGCTGAGACCGTAGAATAAACGATCGAGTTAATCTGGAGGACCGGTGTACTTCGATCTCCCAGGGGCTTTCGCTACTGTGGTGGCCTTTGATCTGCCATCGGGCCTCCTTGGGAGTGTTCTTGAAGGCGATCAAACTTCTAGCCCGGCGCAGCTTCGCGCCAAGTCTTTTGAGACAAGAATCGGCATAGGGGTGTTCCCTTGTAGCCGGTGGGGGTGGCACTTGATTCGTGCCCCCCAAGTTACATTTTTACAACTCTCGGCAACGGATATCTCGGCTCTTGCATCGATGGAGGACGCAGCGAAATGCGATAAGTGGTGTGAATTGCAGAATCCCGTGAACATCGAGTCTTTGAACGCAAGTTGCGCTCGAGGCCGTCAGGCTAAGGGCACGCCTGCCTGGGCGTTGTGTACTGTGTCTCTCCCACCAATGGTTGTCCAAGAATACCGTTCGGTCGGTGCGGATGTGAGTTTGGCCCCTTGTTCTTCGGTTCAATGGGTCTAAGACCTCGGGCTTTTGATGGTCCAAAATTCGACAAGAGGTGGATGGGCAATGGCTGAGCCAAAGCTGTTGTGCGAATGCCGTATGTTGTCCGATTTGATGGGCCATCATAATTCGTAGGACCCTTCGGAACCCCATTGGTGCCACATCAACCCAACCCATGGGCGGTTGATTGCCATTTGGAAGCAACCCCAGGTCAGGTGAGGCCACCCGCTGAGTTTAAGC',\n",
              " 'CGTAACAAGGTTTCCGTAGGTGGACCTTCGGGAGGATCATTTTTGAAGCCCCCAAATATACGATCGAGATAATCCGGAGGACCGGTGTACTTTGGTCTCCCAGGGGCTTCCGCCGCTGTGGTGACCATGATTTCCCATCGAACCTCCTTGGGAGAGTTCTCTATGGCAATTGAACCCTTGGCCCGGCGCAGTTTCGCTCCAAGTCAAATGAGATAGAACCGACAAGGGTCTTCGTCCTCCATGGATGGACCGGGGAGGGCCGGCGTGCTGCTGTGCCCCCTTAAGATTCGTCTGACAACTCTCGTCAACGGATATCTCGGCTCTTGCATCGATGAAGAACCCAGCGAAATGTGATAAGTGGTGTGAATTGCAGAATCCCGTGAACCATCGAGTCTTTGAACGCAAGTTGCGCCCGAGGCCATCAGGCTAAGGGCACGCCTGCCTGGGCGTTGCGTGCTGCATCTCTCCCAATGCTAAGGTTGAACAGCCATACTGTTCGGCCGGCGAGGATGAGAGTTTGGCCCCTTGTTCTTCGGTGCGATGGGTCCAAGACTTGGGCTTGTGACGGTCCACAAATCCGGCAAGAGGTGGACGGACGGTGGCTGCGACAAAGCTGTTGTGCGAATGCCCTATGTTGTCGTATTTGATGGGCCGGAATGATCCCTTTCGAACCCCGTCGGAGGCACGTCGACCCAACCCATGGGCGGTTGACGGCCATTAGGATGCAACCCCAGGTCAGGTGAGACTACCCGCTA',\n",
              " 'CGTAACAAGGTTTCCGTAGGTGAACCTGCGGAAGGATCATTGTTGAGACCGCCAAATACACGATCGAGTTAATCCGGAGGACCGGTGTACTTTGGTCTCCCAGGGGCTTCCGCCGCTGTGGTGACCATGATTTGCCATCGAGCCTCATTGGGAGATTTCTCCATGGCAATTGAACCCTTGGCCCGGCGCAGTTTCGCGCCAAGTCAAATGAGATAGAACCGGCAAGGGCATCGTCCTCCATGGAGCCGGGGAGGCCGGCATGCTGCTGTGCCCGAAAGAATTTTCGACAACTCTCGGCAACGGATATCTCGGCTCTTGCATCGATGAAGAACGCAGCGAAATGTGATAAGTGGTGTGAATTGCAGAATCCCGTGAACCATCGAGTCTTTGAACGCAAGTTGCGCCCGAGGCCATCAGGCTAAGGGCACGCCTGCCTGGGCGTTGCGTGCTGCATCTCTCCCAATGCTAAGGTTGAACAGCCATACTGTTCGGCCGGCGAGGATGAGAGTTTGGCCCCTTGTTCTTCTGTGCGATGGGTCCAAGACTTGGGCTTGTGACGGTCCACAAATCCGGCAAGAGGTGGACGGACGGTGGCTGCGACGAAGCTTTTGTGCGAATGCCCTATGTTGTCGTATTTGATGTGCCAGAACGATCCCTTTCGAACCCCTTCGGAGGCACGTCGACCCAACCCATGGGCGGTGACGCCATTAGGATGCAACCCAGTCAGTGAGCTACCGCTGAG',\n",
              " 'CGTAACAAGGTTTCCGTAGGTGGACCTTCGGGAGGATCATTTTTGAAGCCCCCAAAAAAACGATCGAATTAATCCGGAGGGCCGGTGTAGTTTGGTCTCCCAGGGGCCTTGGCTACTGTGGTGACCGTGAATTTCCGTCGAACCCTCTGGGAGGAATTCTTGATGGCAAATGAAACCCTTGGCCCGGCGCAGTTTCGCCCCAAATCAAATGAGATGGAACCGGCGGAGGGCATCGTCCCCCATGGAACCGGGGAGGGCCGGCGTTCTTCCGTTCCCCCAATGAAATTATTTTTTGACAACTCTCGCAACGGATATCTCGGCTCTTGCATCGATGAAGAACGCAGCGAAATGTGATAAGCTGGTGTGAATTGCAGAATCCCGTGAACCATCGAGTCTTTGAACGCAAGTTGCGCCCGAGGCCATCAGGCTAAGGGCACGCCTGCCTGGGCGTTGCGTGCTGCATCTCTCTCCCATTGCTAAGGCTGAACAGGCATACTGTTCGGCCGGCGCGGATGAGTGTTTGGCCCCTTGTTCTTCGGTGCGATGGGTCCAAGACCTGGGCTTTTGACGGCCGGAAATCCGGCAAGAGGTGGACGGACGGTGGCTGCGACGAAGCTGTCGTGCGAATGCCCTGCGTTGTCGTATTTGATGGGCCGGAATAAATCCCTTTTGAACCCCATTGGAGGCACGTCAACCCGTGGGCGGTCGACGGTCATTTGGATCCAACCCCAGGTCAGGTGAGGCCACCCGCTGAGTTTAAGC',\n",
              " 'CGTAACAAGGTTTCCGTAGGTGAACCTTCGGAAGGATCATTGTTGAGACCCCCAAAAAAACGATCGAGTTAATCCGGAGGACCGGTGTAGTTTGGTCTCCCAGGGGCTTTGGCTACTGTGGTGGCCGTGAATTTCCGTCGAACCTCCTTGGGAGAATTCTTGATGGCAATTGAACCCTTGGCCCGGCGCAGTTTCGCCCCAAGTCAAATGAGATGGAACCGGCGGAGGGCATCGTCCTCCATGGAACCGGGGAGGGCCGGCGTTCTTCCGTTCCCCCCATGAATTTTTTTTTGACAACTCTCGGCAACGGATATCTCGGCTCTTTGCATCCGATGAAAGAACCCAGCGAAATGTGATAAGTGGTGTGAATTGCAGAATCCCGTGAACCATCGAGTCTTTGAACGCAAGTTGCGCCCGAGGCCATCAGGCTAAGGGCACGCCTGCCTGGGCGTTGCGTGCTGCATCTCTCTCCCATTGCTAAGGCTGAACAGGCATACTGTTCGGCCGGCGCGGATGAGTGTTTGGCCCCTTGTTCTTCGGTGCGATGGGTCCAAGACCTGGGCTTTTGACGGCCGGAAATCCGGCAAGAGGTGGACGGACGGTGGCTGCGACGAAGCTGTCGTGCGAATGCCCTACGCTGTCGTATTTGATGGGCCGGAATAAATCCCTTTTGAGCCCCATTGGAGGCACGTCAACCCGTGGGCGGTCGACGGCCATTTGGATGCAACCCCAGGTCAGGTGAGGA',\n",
              " 'CTAACCAGGGTTCCGAGGTGACCTTCGGGAGGATTCCTTTTTAAGCCCCCGAAAAAACGATCGAATTAAACCGGAGGACCGGTTTAATTTGGTCTCCCCAGGGGCTTTCCCCCCTTGGTGGCCGTGAATTTCCATCGAACCCCCCTGGGAGAATTCTTGGTGGCCAATGGACCCTTGGCCCGGCGCAATTTCCCCCCCAATCAAATGAGATAGGACCGGCAGGGGGCGTCCCCCCCCATGGAACCGGGGAGGGCCGGCATTCTTCCGTTCCCCCCTCGGATTTTTTGACAACTCTCGCAACGGATATCTCGCCTCTTTGCATCGGATGGAAGAACGCAGCGAAATGTGATAAGTGGTGTGAATTGCAGAATCCCGTGAACCATCGAGTCTTTGAACGCAAGTTGCGCCCGAGGCCATCAGGCTAAGGGCACGCCTGCCTGGGCGTTGCGTGCTGCATCTCTCCCATTGCTAAGGTTGAACGGGCATACTGTTCGGCCGGCGCGGATGAGAGATTGGCCCCTTGTTCTTCGGTGCGATGGGTCCAAGACCTGGGCTTTTGACGGTCCAAAATCCGGCAAGAGGTGGACGGACGGTGGCTGCGACAAAGCTGTCGTGCGAATGCCCTGCGTTGTCGTTTTTGATGGGCCGGAATAAATCCCTTTTGAACCCCATTGGAGGCACGTCAACCCATGGGCGGTTGACGGCCATTTGGATGCAACCCCAGGTCAGGTGAGCCACCCGCTGAGTTTA',\n",
              " 'CGTAACAAGGTTTCCGTAGGTGAACCTGCGGAAGGATCATTGTTGAGACCGCCAAATATACGATCGAGTTAATCCGGAGGACCGGTGTAGTTTGGTCTCCCAGGGGCTTTCGCCGCTGTGGTGACCGTGATTTGCCATCGAGCCTCCTTGGGAGATTTCTTGATGGCAATTGAACCCTTGGCCCGGCGCAGTTTCGCGCCAAGTCATATGAGATAGAACCGGCGGAGGGCGTCGTCCTCCATGGAGCGGGGAGGGCCGGCATGCTCCGTGCCCCCCCATGAATTTTTCTGACAACTCTCGGCAACGGACGTAACAAGGTTTAAATGTGATAAGCAGGTGTGAATTGCAGAATCCCGTGAACCATCGAGTCTTTGAACGCAAGTTGCGCCCGAGGCCATCAGGTTAAGGGCACGCCTGCCTGGGCGTTGCGTGCTGCATCTCTCCCATTGCTAAGGTTGAACGGGCATACTGTTCGGCCGGCGCGGATGAGAGTTTGGCCCCTTGTTCTTCGGTGCGATGGGTCCAAGACCTGGGCTTTTGACGGTCCAAAATCCGGCAAGAGGTGGACGGACGGTGGCTGCGACAGAGCTGTCGTGCGAATGCCCTACGTTGTCGTTTTTGATGGGCCAGAATAAATCCCTTTTGAACCCCATTGGAGGCACGTCAACCCAATGGGGGGTGACGGGCATTTGGTTAACCCCGGCAAGTTAAGGCACCCGTTAATTTTAGGA',\n",
              " 'CGTAACAAGGTTTCCGTAGGTGAACCTGCGGAAGGATCATTGTTGAGACCGCCAAATATACGATCGAGTTAATCCGGAGGACCGGTGTAGTTTGGTCTCCCAGGGGCTTTCGCCGCTGTGGTGACCGTGATTTGCCATCGAGCCTCCTTGGGAGATTTCTTGATGGCAATTGAACCCTTGGCCCGGCGCAGTTTCGCGCCAAGTCATATGAGATAGAACCGGCAGGGGGCGTCGTCCTCCATGGAGCCGGGGAGGGCCGGCATGCTGCCGTGCCCCCAATGAATTTTTTGACAACTCTCGGCAACGGATATCTCGGCTCTTGCATCGATGAAGAACGCAGCGAAATGTGATAAGTGGTGTGAATTGCAGAATCCCGTGAACCATCGAGTCTTTGAACGCAAGTTGCGCCCGAGGCCATCAGGCTAAGGGCACGCCTGCCTGGGCGTTGCGTGCTGCATCTCTCCCATTGCTAAGGTTGAACGGGCATACTGTTCGGCCGGCGCGGATGAGAGTTTGGCCCCTTGTTCTTCGGTGCGATGGGTCCAAGACCTGGGCTTTTGACGGTCCAAAATCCGGCAAGAGGTGGACGGACGGTGGCTGCGACAGAGCTGTCGTGCGAATGCCCTACGTTGTCGTATTTGATGGGCCGGAATAAATCCCTTTGAACCCCATTGGAGGCACGTCAACCCCATGGGCGGTGACGGCCACTTGGATGCAACCCAGTCAGTGAGCCACCGCTGA',\n",
              " 'CGTAACAAGGTTTCCGTAGGTGAACCTGCGGAAGGATCATTGTTGAGACCCCCAAAAAAACGATCGAGTTAATCCGGAGGACCGGTGTAGTTTGGTCTCCCAGGGGCTTTGGCTACTGTGGTGACCGTGAATTTCCGTCGAGCCTCCTTGGGAGATTTCTTGATGGCAATTGAACCCTTGGCCCGGCGCAGTTTCGCCCCAAGTCAAATGAGATGGAACCGGCGGAGGGCATCGTCCTCCATGGAACCGGGGAGGGCCGGCGTGCTTCCGTCCCCCAATGAATTTTTTTGACAACTCTCGCAACGGATATCTCGCTCTTGCATCGATGAAGAACACAGCGAAATGTGATAAGTGGTGTGAATTGCAGAATCCCGTGAACCATCGAGTCTTTGAACGCAAGTTGCGCCCGAGGCCATCAGGCTAAGGGCACGCCTGCCTGGGCGTTGCGTGCTGCATCTCTCTCCCATTGCTAAGGCTGAACAGGCATACTGTTCGGCCGGCGCGGATGAGTGTTTGGCCCCTTGTTCTTCGGTGCGATGGGTCCAAGACCTGGGCTTTTGACGGCCGGAAATCCGGCAAGAGGTGGACGGACGGTGGCTGCGACGAAGCTGTCGTGCGAATGCCCTGCGTTGTCGTATTTGATGGGCCGGAATAAATCCCTTTGAACCCCATTGGAGGCACGTCAACCCGTGGCGGTCGACGGCCATTTGGATGCAACCCAGTCAGTGAGCCACCGCTGA',\n",
              " 'CGTAACAAGGTTTCCGTAGGTGAACCTGCGGAAGGATCATTGTTGAGACCGCAAAATATACGATCGAGTTAATCCGGAGGACTGGTGTAGTTTGGTCTCCCAGGGGCGTTGGCTACTGCGGTGACCATGATTTTCCATCGAGCCTCCTCGGGAGATTTCTTGATGGCAATTGAACCCTTGGCCCGGCGCAGTTTCGCGCCAAGTCGTATGAGATAGAACCGGCAGAGGGCTTCGTCCTCCATGGAACCGGGGAGGACCGGCATGCCGCCGTACCCCCTTTGAATCGGGCTGACAACTCTCGTTCAAGGAGCCCTCAGCTCATAATGTGATAAGTGGTGTGAATTGCAGAATCCCGTGAACCATCGAGTCTTTGAACGCAAGTTGCGCCCGAGGCCATCAGGCTAAGGGCACGCCTGCCTGGGCGTTGCGTGCTGCATCTCTCCCGTTGCTAAGGTCGAACAGGCATATACTGTTCGGCCGGCGCGGATGAGAGTTTGGCCCCTTGTTCTTCGGTGCGATGGGTCCAAGACCTGGGCTTTTGACGGTAAAAAATCCGGCAAGAGGTGGACGGACGGTGGCTGCGACAAAGCTGTCGTGCGAATGCCCTACGTTGTCGTATTTGATGGGCCAGAATAAATCCCTTTTGAACCCCATTGGAGGCACGTCAACCCATGGGCGGTTTGACGGCCATTGGATGCCAACCCAGTCAGGTGAGGCCACCCGCTGA',\n",
              " 'CGTAACAAGGTTTCCGTAGGTGAACCTGCGGAAGGATCATTGTTGAGACCGCCAAATATACGATCGAGTTAATCCGGAGGACTGGTGTAGTTTGGTCTCCCAGGGGCGGTGGCTACTGCGGTGACCATGATATTCCATCGAGCCTCCTCGGGAGATTTCTTGATGGCAATTGAACCCGTGGCCCGGCGCAGTTTCGCGCCAAGTCGTATGAGATAGAACCGGCAGAGGTCTTCGTCCTCCATGGAACCGGGGAGGCCCGGCATACCACCATACCCCCAATGAATCTTTGTGACAACTCTCGTCAATGTGATAAGTGGTGTGAATTGCAGAATCCCGTGAACCATCGAGTCTTTGAACGCAAGTTGCGCCCGAGGCCATCAGGCTAAGGGCACGCCTGCCTGGGCGTTGCGTGCTGCATCTCTCCCGTTGCTAAGGTCGAACAGGCATACTGTTCGGTCGGCGCGGATGAGAGTTTGGCCCCTTGTTCTTCGGTGCGATGGGTCCAAGACCTGGGCTTTTGACGGTAAAAAATCCGGCAAGAGGTGGACGGACGGTGGCTGCGACAAAGCTGTCGTGCGAATGCCCTGCGTTGTCGTATTTGATGGGCCGGAATAAATCCCTTTTGAACCCCATTGGAGGCACGTCAACCCATGGGCGGTTGACGGCCATTTGGATGCAACCCCAGGTCAGGTGAGCCACCCGCTGAGTTTT',\n",
              " 'CGTAACAAGGTTTCCGTAGGTGAACCTTCGGAAGGATCATTGTTGAGACCGCAAAATATACGATCGAGTTAATCCGGAGGACTGGTGTAGTTTGTCTCCCAGGGGCGTTGGCTACTGCGGTGACCATGATTTTCCATCGAGCCTCCTCGGGAGATTTCTTGATGGCAATTGAACCCTTGGCCCGGCGCAGTTTCGCGCCAAGTCGTATGAGATAGAACCGTCAGAGGGCATCGTCCCTCCATGGAGCCGGGGAGGGCCGGCATGCCCGCCGTGCCCCCAATGAATCTTTTTGACAACTCTCGCAACGGATATCTCGCTCTTCATCGATGAAGAACGCAGCGAAATGTGATAAGTGGTGTGAATTGCAGAATCCCGTGAACCATCGAGTCTTTGAACGCAAGTTGCGCCCGAGCCATCAGGCTAAGGGCACGCCTGCCTGGGCGTTGCGTGCTGCATCTCTCCCGTTGCTAAGGTCGAACAGACATACTGTTCGGCCGGCGCGGATGAGAGTTTGGCCCCTTGTTCTTCGGTGCGATGGGTCCAAGACCTGGGCTTTTGACGGTACCAAATCCGACAAGAGGTGGACGGACGGTGGCTGCGACAAAACTGTCGTGCGAATGCCCTACGTTGTCGTATTTGATGGGCCAGAATAAATCCCTTTTGAACCCCATTGGAGGCACGTCAACCCATGGGCGGTGACGGCCATTGGATGCAACCCCAGTCAGTGAGCCACCGCTGAGTAA',\n",
              " 'CGTAACCAGGTTTCCGTAGGTGAACCTCCGGAAGGATCCTTGTTGAGACCGCCAAATATACGATCGAGTTAATCCGGAGGACCGGTGTAGTTTGGTCTCCCAGGGGCTTTCGCCGCTGTGGTGTCCGTGATTTACCATCGAGCCTCCTTGGGAGATTTCTTGATGGCAATTGAACCCATGGCCCGGCGCAGTTTCGCGCCAAGTCATATGAGATAGAACCGGCAGGGGGCGTCGTCCTCCATGGAACCGGGGAGGGCCGGCATGCTACCGTACCCCCAATGAATTATTTTGACAACTCTCGGCAACGGAGTCTCAGCTCTTTGTGATAAGTGGTGTGAATTGCAGAATCCCGTGAACCATCGAGTCTTTGAACGCAAGTTGCGCCCGAGGCCATCAGGCTAAGGGCACGCCTGCCTGGGCGTTGCGTGCTGCATCTCTCCCATTGCTAAGGTTGAACGGGCATACTGTTCGGCCGGCGCGGACGAGAGTTTGGCCCCTTGTTCTTCGGTGCGATGGGTCCAAGACCTGGGCTTTTGACGGTCCAAAATCCGGCAAGAGGTGGACGGACGGTGGCTGCGACAAAGCTGTCGTGCGAATGCCCTACGTTGTCGTATTTGATGGGCCAGAATAAATCCCTTTTGAACCCCATTGGAGGCACGTCAACCCATGGGCGGTTGACGGCCATTTGGATGCAACCCCAGGTCAGGTGAGCCACCCGCTGAGATAA',\n",
              " 'CGTAACCAGGTTTCCGTAGGTGAACCTCCGGAAGGATCATTGTTGAGACCGCCAAATATACGATCGAGTTAATCCGGAGGACCGGTGTAGTTTGGTCTCCCAGGGGCTTTCGCCCCTGTGGTGACCGTGATTTGCCATCGAGCCTCCTTGGGAGATTTCTTGATGGCAATTGAACCCATGACCCGGCGCAGTTTCGCGCCAAGTCATATGAGATAGAACCGGCAGGGGTCGTCGTCCTCCATGGAGCCGGGGAGGGCCGGCATACTACCGTCCCCCCAATGAATTTTATATTGACAACTCTCGGCCGGAATCTCGGCTCTTGCATCGATGGAAGGACGCAGCGAAAATGTGATAAGTGGTGTGAATTGCAGAATCCCGTGAACCATCGAGTCTTTGAACGCAAGTTGCGCCCGAGGCCATCAGGCTAAGGGCACGCCTGCCTGGGCGTTGCGTGCTGCATCTCTCCCATTGCTAAGGTTGAACGGGCGTACTGTTCGGCCGGCGCGGACGAGAGTTTGGCCCCTTGTTCTTCGGTGCGATGGGTCCAAGACCTGGGCTTTTGACGGTCCAAAATCCGGCAAGAGGTGGACGGACGGTGGCTGCGACAAAGCTGTCGTGCGAATGCCCTACGTTGTCGTATTTGATGGGCCAGAATAAATCCCTTTTGAACCCCATTGGAGGCACGTCAACCCATGGGCGGTTGACGGCCATTTGGATGCAACCCCAGGTCAGGTGAGGCCACCCCGTGAGTTTACGC',\n",
              " 'CGTAACAAGGTTTCCGTAGGTGAACCTGCGGAAGGATCATTGTTGAGACCGCAAAATATACGATCGAGTTAATCCGGAGGACCGGTGTAGTTTGGTCTCCCAGGGGCTTTGGTTACTGTGGTGACCGTGACTTTGCCGTCGAGCCTCCTTGGGAGATTTCTTGATGGAAATTGAACCCTTGGCCCGGCGCAGTTTCGCGCCAAGTCATATGAGATGGAACCGGCGGAGGGAATCGTCCTCCATGGAGCCGGGGAGGGCCGGCGTGTTGCCGTGCCCCCAATGAATTTTTTTTTGGGCAACTCTCGGCCAAACGGGAAATCTCGGCTCCTTGCATCGGATGGAAGGACGCAGCGAAATTGTGATAAGTGTTGTGAATTGCAGAATCCCGTGAACCATCGAGTCTTTTGAACGCAAGTTGCGCCCGAGGCCATCAGGCTAAGGGCACGCCTGCCTGGGCGTTGCGTGCTGCATCTCTCTCCCATTGCTAAGGCTGAACAGGCATACTGTTCGGCCGGCGCGGATGAGTGTTTGGCCCCTTGTTCTTCGGTGCGATGGGTCCAAGACCTGGGCTTTTGACGGCCGGAAATCCGGCAAGAGGTGGACGGACGGTGGCTGCGACGAAGCTGTCGAGCGAATGCCCTACGCTGTCGTATTTGATGGGCCGGAATAAATCCCTTTTGAACCCCATTGGAGGCACGTCAACCCGTGGGCGGTCGACGGCCATTTGGATGCAACCCCAGGTCAGGTGAGGCCACCCGCTGAGTTTAAGA',\n",
              " 'CGTAACAAGGTTTCCGTAGGTGAACCTGCGGAAGGCTCATTGTTGAGACCGCAAAATAATTGATCGAGTTAATCCGGAGGACCGGTGTAGTTTGGTCTCCCAGGGGCTTTGGTTACTGTGGTGACCGTGACTTTGCCGTCGAGCCTCCTTGGGAGATTTCTTGATGGCAATTGAACCCTTGGCCCGGCGCAGTTTCGCGCCAAGTCATATGAGATGGAACCGGCGGAGGGCATCGCCCTCCATGGAGCCGGGGAGGGCCGGCGTCCTGCCGTGCCCCCAATGAATTTTTCTTTGGGAAAACTTCTCGGCCAACGGGAATCTCGGCTCTTTGCATCGGATGGAAGGACGCAGCGAATTGTGATAAGTGGTGTGAATTGCAGAATCCCGTGAACCATCGAGTCTTTGAACGCAAGTTGCGCCCGAGGCCATCAGGCTAAGGGCACGCCTGCCTGGGCGTTGCGTGCTGCATCTCTCTCCCATTGCTAAGGCTGAACAGGCATACTGTTCGGCCGGCGCGGATGAGTGTTTGGCCCCTTGTTCTTCGGTGCGATGGGTCCAAGACCTGGGCTTTTGACGGCCGGAAATCCGGCAAGAGGTGGACGGACGGTGGCTGCGACGAAGCTGTCGTGCGAATGCCCTACGCTGTCGTATTTGATGGGCCGGAATAAATCCCTTTTGAACCCCATTGGAGGCACGTCAACCCGTGGGCGGTCGACGGCCATTTGGATGCAACCCCAGGTCAGGTGAGGCCACCCGCTGAGTTTAAG',\n",
              " 'CGTAACAAGGTTTCCGTAGGTGAACCTGCGGAGGGATCATTGTTGAGATCGCATAATAATTGATCGAGATAATCCAGAGGATCGGTTTACTTTGGTCACCCTTGGGCGCCTGCTATTGCGGTGACCTAGATTTTCCATGGAGGGAGCCTCCTTGGGAGCTTTCTTGCCGGCGATCTAACCCTTGCCCGTCGCAGTTTTGCACCAAGTCATATGACACATAAATGGTGAAGGACATACCCCCTTCGTTGAATTCGAGGAGGGGACGGCATGTGGCCTTGACCTCTCCCAATTATTTTTTTGACAACTCTCAGCCAACGGATATCTCGGCTCTTTGCATCGGATGGAGGACGCAGCGAAATGCGATAAGTGTGTGAATTGCAAGATCCCGTGAACCATCGAGTCTTTGAACGCAAGTTGCGCCCAAGCCATCAGGCCAAGGGCACGCCTGCCTGGGCATTGCGAGTCATATCTCTCCCTTAATGAGGCTGTCCATGCATACTGTTCAGCCGGTGCGGATGTGAGTTTGCCCCCTTGTTCTTTGGTGCTGGGGGTCTAAGAGCTGCAGGGGCTTTTGATGGTCCTAAATTCGGCAAGAGGTGGACGAATCATGCTACAACAAAACTGTTGGGCGAATGCTCCAGGTTGTCGTATTAGATGGGCCATCATAATCTAGAGACCCTTGTGAACCCCATTGGAGGCCCATCAACCCATGATCAGTTGATGGCCTTTTGGATGCGACCCCAGGTCAGGTGAGCAACC',\n",
              " 'CGTAACAAGGTTTCCGTAGGTGAACCTGCGGAAAGGTCATTGTTGAGATCACATAATAATTGATCGAGTTACTCCAGAGGATCAGTTTACTCCGGTCACCCATGGGTGCTTGCTATTGCGGTGACCTAGATTTGCCATGGAGCCTCCTTGGGAGTTTTCTTGCCGGCGATCTTACCCTTGCCCGGGGCAGTTTTGCCCCAAGTCATATGACACAATAATGGCGAAGGAGGGGGCGGCATTTTGCCCTTGACCCTACAATCACTCCCCCTCTCCAAATTATTTTTGGACAACTCTCAGCAACGGATATCTCGGCTCTTGCATCGATGAAGAACCCAGCGAAATGCGATAAGTGGTGTGAATTGCAGGATCCCGTGAACCATCGAGTCTTTGAACGCAAGTTGCGCCCAAGGCCATCAGGCCAAGGGCACGCCTGCCTGGGCATTGCGAGTCATATCTCTCCCTTAATGAGGCTGTACATGCATACTGTTCAGCCGGTGCGGATGTGAGTTTGGCCCCTTGTTCTTCGGTGCTGGGGGTCTAAGAGCTGCAGGGGCTTTTGATGGTCCTAAATTCGGCAAGAGGTGGACGAATTACAACAAAACTGTTGTGCGAATGCTCCAGGTTGTCGTATTAGATGGGCCAGCATAATCTAAAGACCCTTGTGAACCCCACTGGAGGCACATCAACCCGTGATCAGTTGATGGCCATTTGTTGCGACCCCAGTCAGTGAGCAACCCGCTGAGTTTAAGC',\n",
              " 'CGTAACAAGGTTTCCGTAGGTGAACCTGCGGAAGGATCATTGTTGAGATCACATAATAATTGATCGAGTGAATCCAGAGGATCAGTTTACTTTGGTCGCCCATGGGCGCTTGCTATTGCGGTGACCTAGATTTGCCATGGAGCCTCCTTGGGAGCTTTCTTGCCGGCGATCTAACCCTTGCCCGGCGCAGTTTTGCGCCAAGTCACATGACACATAAATGGTGAAGGGCACGGCCCTTTGTGAATTCAAGGAGGTGAAGGGCATGTGGCCTTGAGCCTACACTCCCTCCCCCTCTCCAAATTATTTTTTGTGAAACAACTCTCAGCAACGGAGATCTCAGCTCTTGCATCGATGAAGGAACGCAGCGAAATGCGATAAGTGGTGTGAATTGCAGAATCCCGTGAACCATCGAGTCTTTGAACGCAAGTTGCGCCCAAGGCCATCAGGCCAAGGGCACGCCTGCCTGGGCATTGCGAGTCATATCTCTCCCTTAACGAGGCTGTCCAGGCATACTGTTCAGCCGGTGCGGGTGTGAGTTTGGCCCCTTGTTCTTTGGTGCTGGGGGTCTAAGAGCTGCAGGGGCTTTTGATGGTCCTAAATTCGGCAAGAGGTGGACGCAACGCGCTACAACAAAACTGTTGTGCGAATGCCCCGGGTTGTCGTATTAGATGGGCCAGCATAATCTAAACACCCTTGTGAACCCCATTGGAGGCCCATCAACCCATGATCAGTTGATGGCCATTTGGTTGCGACCCCAGGTCAGGTGAGGCAACCCGCTGAGTTTAAGC',\n",
              " 'CGTAACAAGGTTTCCGTAGGTGAACCTGCGGAAGGATCATTGTTGAGATCGCATAATAATTGATCGAGTTAATCCAGAGGATCGGTTTACTTTGGTCACCCTTGGGCGCCTGCTATTGCGGTGACCTAGATTTGCCATGGAGGGAGCCTCCTTGGGAGCTTTCTTGCCGGCGATCTAACCCTTGCCCGGCGCAGTTTTGCGCCAAGTCATATGACACATAATTGGTGAAGGGCATATCCCTTCGTGAATTCGAGGAGGGGCCGGCATGTGGCCTTGACCTCTCCAATTAATTTTTTGAACAACTCTCAGCAACGGATATCTCGGCTCTTGCATCGATGGAGGGACGCACCGAAATGCGATAAGTGGTGTGAATTGCAGAATCCCGTGAACCATCGAGTCTTTTGAACGCAAGTTGCGCCCAAGGCCATCAGGCCAAGGGCACGCCTGCCTGGGCATTGCGAGTCATATCTCTCCCTTAATGAGGCTGTCCATGCATACTGTTCAGCCGGTGCGGATGTGAGTTTGGCCCCTTGTTCTTTGGTGCTGGGGGTCTAAGAGCTGCAGGGGCTTTTGATGGTCCTAAATTCGGCAAGAGGTGGACGAATCATGCTACAACAAAACTGTTGGGCGAATGCTCCAGGTTGTCGTATTAGATGGGCCATCATAATCTAGAGACCCTTGTGAACCCCATTGGAGGCCCATCAACCCATGATCAGTTGATGGCCTTTTGGGTTGCGACCCCAGGTCAGGTGAGGCAACCAGCTGAGTTTAAGC',\n",
              " 'CGTAACAAGGTTTCCGTAGGTGAACCTCCGGAAGGATCATTGTTGAGATCACATAATAATTGATCGAGATAATCCAGAGGATCGGTTTACTTTGGTCACCCATGGGCGCTTGCTATTGCGGTGACCTAGAGTTGCCATGGAGAGCCTCCTTGGGAGCTTTCTTGCCGGCGATCTAACCCTTGTCCGGCGCGGTTTTGCGCCAAGTCATATGACACATAATTGGTGAAGGGCATAGCCCTTCGTGTATTCAAGGAGGGGGGGCGGCATGTGGCCTTGACACTGCACTCGCTCTCCCCCTCTCCAAAGTATTTTTCTGAACAACTCTCAGCAACGGATATCTCAGCTCTTGCATCGGATGGAGGAACGCAGCGAAATCCGATAAGTGGTGTGAATTGCAGAATCCCGTGAACCATCGAGTCTTTTGAACGCAAGTTGCGCCCGAGGCCATGAGGCCAAGGGCACGCCTGCCTGGGCATTGCGAGTCATCTCTCTCCCTCAATGAGGCTGTCCATGCATACTGTTCAGCCGGTGCGGATGTGAGTTTGGCCCCTTGTTCTTTGGTGCTGGGGGTCTAAGAGCAGCAGGGGCTTTTGATGGTCCTAAATTCGGCAAGAGGTGGACGAATCAGGCTACAACAACACTGTTGTTGTGCGAATGCTCCAGGTTGTCGTATTAGATGGGCCGGCATAATCCAGAGACCCTTGTGAACCCCATTGGAGGCCCATCAACCCATGATCAGTTGATGGCCATTCGGTTGCGACCCCAGGTCAGTGAGCAACCCGCTGAGTG',\n",
              " 'CGTAACAAGGTTTCCGTAGGTGAACCTGCGGAAGGATCATTGTTGAGGTCGCATAATAATTGATCGAGTTAATCTGGAGGATCAGTTTACTTTGGTCACCCATGGACATTTACTGTTGCAGTGACCTAGATTTACCATCGGGCCTCCTTGGGAACTTTCCTGCTGGCGATCTATACCCTTGCCCGGCGCAGTAATGCGCCAAATCAAATGACCCATAATTAATGAAGGGGGACGGCATACTGCCTTGACCAACTCCCCATTATTGAGGTAACACTCTCAACTTCGGATATCTCAGGTGTGAATTGCAGAATCCCGTTAACATCGAGTCTTTGAACGCAAGTTGGGCCCGAGGCCAACAGGCCAAGGGAACGCCTGTCTGGGCATTGCGAGTCATATCTCTCCCTTAATGAGGCTGTCCATACGTACTGTTCAGCCGGTGCGGATGTGAGTTTGGCCCCTTGTTCTTCGGTACGGGGGGTCTAAGAGCTGCATGGGCTTTTGATGGTCCTAAATACGGCAAGAGGTGGACGAACTATGCTACAACAAAACTGTTGTGCGAATGCCCCGGGTTGTTGTGTTTAATCAGAAGACCCTTTTGAACCCCATTGGAGGCCCATCGACCCATGATCAGTTGAATGGCCATTTGGTTGCGATCCCAGGTCAGGTGAGGCAACCCGCTGAGTTTAAG',\n",
              " 'CGTAACAAGGATTCCGTAGGTGAACCTGCGGAAGGATCATTGTTGAGATCGCATAATAATTGATCGAGTTAATCTGGAGGATCGGTTTACTTTGGTCACCCATGGGCATTTTCTGTTGCAGTGACCTAGAATTTCCATCGGGCCTCCCTGGGAGCTTTCCTGCTGGCGATCTATACCCTTGCCCGGCGCAGTTTTGCGCCAAGTCAAATTTTACATAAGTGGTGAAGGGGGGCGGCATTCTTCCTTGACCAGCCCCCAAGTATTTAGGTAACAACTCTCAGCAACGGATATCTCGGCTCATGCATCGATGAAGGAACGCAGCGAGATTCGATAAATGGTGTGCCTTGCAGAATCCCGTGAACCATCGAATCTTTGAACGCAAGTTGCGCGCGAGGCCATCAGCCCAAGGGGACGCCTGCCTGGACATTGCGACTCATATCTCTCCCTTAATGAGGCTGTCCAAACGTACTGGTCATCCGGTGTGGATGTGAGTTTGGCCCCTTGTTCTTCGGTACGGGGGGTCTAAGAGCTGCATGGGCTTTTGATGGTCCTAAATACGGCAAGAGGTGGACGAACTATGCTACAACAAAACTGTTGTGCGAATGCCCCGGGTTGTTGTGTTTAATCAGAAGACCCTTTTGAACCCCATTGGAGGCCCATCGACCCATGATCAGTTGAATGGCCATTTGGTTGCGATCCCAGGTCAGGTGAGGCAACCC',\n",
              " 'CGTAACAAGGTTTCCGTAGGTGAACCTGCGGAAGGATCATTGTTGAGATCGCATAATAATTGATCGAGTTAATCTGGAGGATCAGTTTACTTTGGTCACCCACGGGCATTTGCTGTTGCAGTGACCTAGAATTTGCCATCGAGCCTCCTTGGGAGCTTTCTTGCTGGCGATCTATACCCTTGCCCGGCGCAGTTTTGCGCCAAGTCATATGTCACATAATTGGTGAAGGGGGGGAGCGTACTGCCTTGACCCACTCCAAATTATTTTTTTAACAACTCTCAGCAACGGATATCTCGGCTCTTGCATCGATGTAGAACCCAGCGAAATGCGATACTGGTGTGATTTGCAGAATCCCGTGGACCATCGAGTCTTTGAACGCAAGTTGCGCCCGAGGCCATCAGGCCAAGGGCACGCCTGCCTGGGCATTGCGAGTCAAATCTCTCCCTTAATGAGGCTGTCCATACATACTGTTCAGCCGGTGCGGATGTGAGTTTGGCCCCTTGTTCTTTGGGACGGGGGGTCTAAGAGCTGCACGGGCTTTTGATGGTCCTAAATACGGCAAGAGGTGGACGAATTATGCTACAACAAAACTGTTGTGCGAATGCCCCGGGTTGTTGTGTTACATGGGCCAGCTTAATCAGAAGACCCTTTTGGACCCCATTGGAGGCCCATCAACCCATGATCAGTTGATTGGCCATTTGGTTGCGATCCCAGTCAGGTGAGGCACACCGCTGAGTTTAATA',\n",
              " 'CGTAACAAGGTTTCCGTAGGTGAACCTGCGGAAGGATCATTGTTGAGATCGCATAATAATTGATCGAGTTAATCTGGAGGATCAGTTTACTTTGGTCACCCACGGGCATTTGCTGTTGCAGTGACCTAGATTTGCCATCGGGCCTCCTTAGGAGCTTTCTTGCTGGCGATCTATACCCTTGCCCGGCGCAGTTTTGCGCCAAGTCATATGACACATAATTGGTGTTGGGGGGAGGCGTGCTGCCTTGACCCGCTCCAAATTATATTTTTAACAACTCTCAGCAACGGATATCTCGGCTCTTGCATCGATGAAGAACCAGCGAAATGCGATAAATGGTGTGAATTGCAGAATCCCGTGAACCATCGAGTCTTTGAACGCAAGTTGCGCCCGAGGCCATCAGGCCAAGGGCACGCCTGCCTGGGCATTGCGAGTCATATCTCTCCCTTAATGAGGCTGTCCATACATACTGTTCAGCCGGTGCGGATGTGAGTTTGGCCCCTTGTTCTTTGGTACGGGGGGTCTAAGAGCTGCATGGGCTTTTGATGGTCCTAAATACGGCAAGAGGTGGACGAACTATGCTACAACAAAATGTTGTGCGAATGCCCCGGGTTGTTGTGTTACATGGACCAGCATAATCAGAAGACCCTTTGGACCCCATTAGAGGCCCATCAACCCATGATCAGTTGAATGGCCATTTGTTGCGATCCCAGTCAGGTGAGCAACCCGCTGAGATAAGC',\n",
              " 'CGTAACAAGGTTTCCGTAGGTGAACCTGCGGAAGGATCATTGTTGAGATCACATAATAATTGATCGAGTTAATCTGGAGGATCAGTTTACTTTGGTCACCCATGGGCATTTGCTGTTGCAGTGACCGAGATTTGCCATCGAGCCTCCTTGGGAGCTTTCTTGCTGGCGATCTGAACCCTAGTCCGGCGCAGTTTTGCGCCAAGTCATATGGCACATAATTGGTGAAGGGGGCGGCATGCTGCCTCGACCCTCCCCAAATTATTTTTTAACAACTCTCAGCAACGGATATCTCGGCTCTTGCATCGATGAAGAACGCAGCGAAATGCGATAAATGGTGTGAATTGCAGAATCCCGTGAACCATCGAGTCTTTGAACGCAAGTTGCGCCCGAGGCCATCAGGCCAAGGGCACGCCTGCCTGGGCATTGCGAGTCATATCTCTCCCTTAATGAGGCTGTCCAAACATACTGTTCAGCCGGTGCGGATGTGAGTTTGGCCCCTTGTTCTTTGGTACGGGGGGTCTAAACGCTGCATGGGCTTTTGATGGTCCTAAATACGGCAAGAGGTGGACGACTGTTCTGCAACAAGTGTTGTGCGAATGCCCCGCGTTGTCGTATTAGATGGGCCAGCATAATTTGAAGACCCTTTTGAACCCCATTGGAGGCCCGTCAACCCATGATCAGTTGACGGCCATTTGGTTGCGACCCCAGTCAGGTGAGCAACCAGCTGA',\n",
              " 'CGTAACAAGGTTTCCGTAGGTGAACCTGCGGAAGGATCATTGTTGAGATCACATAATAATTGATCGAGTTAATCTGGAGGATCAGTTTACTTTGGTCACCCGAGGGCATTTGCTATTGCAGTGACCGAGATTTGCCATCGAGCCTCCTTGGGAGCTTTCTTGCTGGCGATCTAAACCCGAGCCCGGCGCAGTTTTGCGCCAAGTCATATGACACATAATTGGTGAAGGGGGCGGCATGCTGCCTTGACCCTCCCCAGATTATTTTTTAACAACTCTCAGCAACGGATATCTCGGCTCTTGCATCGATGAAGAACGCAGCGAAATGCGATAAATGGTGTGAATTGCAGAATCCCGTGAACCATCGAGTCTTTGAACGCAAGTTGCGCCCGAGGCCATCAGGCCAAGGGCACGCCTGCCTGGGCATTGCGAGTCATATCTCTCCCTTAATGAGGCTGTCCATACATACTGTTCAGCCGGTGGGGATGTGGGTTTGGCCCCTTGTTCATTGGTACGGGGGGTCTAAGAGCTGCATGGGATTTTGATGGTCCTAAATACGGCAAGAGGTGGACGAACTATGCTACAACAAAACTGTTGTGCGAATGCCCCGAGTTGTCGTATTAGATGGGCCCAGCATATCTGAAGACCCTTTTGAACCCCATGGAGGCCCATCAACCCATGATCAGTTGATGGCCATTTGGTTGCGACCCCAGGTCAGGTGAGGCAACCCGCTGAGTTTAGGC',\n",
              " 'CTGTAGGTGAACCTGCGGAAGGATCATTGTTGAGATCACGCAATAATTGATCGAGTTAATCTGGAGGATCAGTTTACTTTGGTCACCCATGGGCATTTGTTATTGCAGTGACCGAGATTTGCCATCGAGCCTCCTTGGGAGCTTTCTTGCTGGCGATCTTAACCCTAGCCCGGCGCAGTTTTGCGCCAAGTCATACGACACATAATTGGTGAAGGGGGCGGCATGGTGCCTTGACCCTCCCCTAATTATTTTCTAACAACTCTCATCAACGGGATGGAGAACGCAGCGAAATGCGATAAATGGTGTGAATTGCAGAATCCCGTGAACCATCGAGTCTTTGAACCCAAGTTGCGCCCGAGGCCATCAGGCCAAGGGCACGCCTGCCTGGGCATTGCGAGTCAAATCTCTCCCTTAATGAGGCTGTCCATACATACTGTTCAACCGGTGCGGATGTGAGTTTGCCCCCTTGTTCATTGGTACGGGGGGTCTAAGAGCTGCATGGGCTTTTGATGGTCCTAAAAACGGCAAGAGGTGGACGAACAACGCCACAACCAAACTGTTGTGCGGATCCCCCGGGTTGTCGTATTAGATGGGCCATCATAATCTGAAGACCCTTTTGAACCCCATCGGAGGCCCATCAACCCATGATCAGTTGATGGACATTTGTTGCGACCCCAGTCAGGTGAGCAACCGGCT',\n",
              " 'CGTAACAAGGTTTCCGTAGGTGAACCTGCGGAAGGATCATTGTTGAGATCACATAATAATTGATCGAGTTACTCTGGAGGATCAGTTTACTTTGGTCACCCATGGGCATTTGCTATTGCAGTGACCGGGATTTGCCATCGAGCCTCCTTGGGAGCTTTCTTGCTGGCGATCTAAACCCTAGCCCGGCGCAGTTTTGCGCCAAGTCATATGACACATAATTGGTGAAGGGGGCGGCATGCTGCCTTTACCCTCCCCAAATTATTTTTTAACAACTCTCAGCAACGGATATCTCGGCTCTTGCATCGATGAAGAACGCAGCGAAATGCGATAAATGGTGTGAATTGCAGAATCCCGTGAACCATCGAGTCTTTGAACGCAAGTTGCGCCCGAGGCCATCAGGCCAAGGGCACGCCTGCCTGGGCATTGCGAGTCATATCTCTCCCTTAATGAGGCTGTCCATACATATTGTTCAGCCGGTGCGGATGTGAGTTCGGCCCCTTGTTCTTCGGTACGGGGGGTCTAAGAGCAGCATGGGCTATCGATGGTCCTAAATGCGGCAAGAGGTGGACGAACTATGCTACAACAAAACTGTTGTGCGAATGCCCCGGGTTGTCGTATTAGATGGGCCAGCGTAATCTAAAGACCCTTTTGAACCCCATTAGAGGCCCATCAACCCATGATCAGTTGGGGCCACTTGTTGCGACCCCAGTCAGGTGAGCAACCGCTGAGTAA',\n",
              " 'CGTCACGAGGTTTCCGTAGGTGAATCTGCGGGAGGATCATTGTTGAGATCACATAATAATTGATCGAGATTATCTGGAGGATCAGTTTACTTTGGTCACCCATGGACATTTGCTATTGCAGTGCCCGAGATTTGCCATCGAGCCTCCTTGGGAGCTTTCTTGCTGGCGATCTAAACCCTAGCCCGGCGCAGTTTTGCGCCAAGTCATATGACACATAATTGGTGAAGGGTGCGGCATGGTGCCTGACCCTCCCCAAATTATTTCTTAACAACTCTCAGCAACGGATATCTCGCTCTTGCATCGATGAAGAACGCAGCGAAATGCGATAAATGGTGTGAATTGCAGAATCCCGTGAACCATCGAGTCTTTGAACGCAAGTTGCGCCCGAGGCCATCAGGCCAAGGGCACGCCTGCCTGGGCATTGCGAGTCATATCTCTCCCTTAATGAGGCTGTCCATACATACTGTTCAGCCGGTGCGGATGTGAGTTTGGCCCCTTGTTCATTGGTACGGGGGGTCTAAGAGCTGCGTGGGCTTTTGATGGTCCTAAATACGGCAAGAGGTGGACGAACTATGCTACAACAAAACTGTTGTGCGAATGCCCCGGGTTGTCGTATTAGATGGGCCAGCATAATCTAAAGACCCTTTTGAACCCCATTGGAGGCCCATCAACCCATGATCAGTTGATGGCCATTTGGTAGCGACCCCAGGTCAGGTGAGGCAACCCGCTGA',\n",
              " 'CTGAACCTGGTGTCCGAAGGTGAATCTGCGGATGGATCATTGTTGAGATATCATAATAATTGATCGAGTTAATCTGGAGGATCAGTTTACTTTGGTCACCATGGGCATTTGCTATTGCAGTGACCGAGATTTGCCATCGAGCCTCCTTGGGAGCTTTCTTGCTGGCGATCTAAACCCTAGCCCGGGGCAGTTTTGCGCCAAGTCATATGACACATAATTGGTGAAGGGTGCGGCATGGTGCCTTGACCCTCCCCAAATTATTTCTTAACAACTCTCAGCAACGGATATCTCGGCTCTTGCATCGATGAAGAACGCAGCGAAATGCGATAAATGGTGTGAATTGCAGAATCCCCGTGAACATCGAGTCTTTGAACGCAAGTTGCGCCCGAGGCCATCAGGCCAAGGGCACGCCTGCCTGGGCATTGCGAGTCATATCTCTCCCTTAATGAGGCTGTCCATACATACTGTGCAGCCGGTGCGGATGTGAGTTTGGGCCCTTGTTCATTGGTACGGGGGGTCTAAGAGCTGCGTGGGCTTTTGATGGTCCTAAATACGCCAAGAGGTGGACGAACTATGCTACAACAAAACTGTTGTGCGAATGCCCCGGGTTGTCGTATTAGACGGGCCAGCACAATCTAAAGACCCCTTTGAACCCCATTGGAGGCCCATCAACCCATGATCAGTTGATGGCCATGTGTTGCGACCCCAGTCAGCTGAGCAACCCCTGATTTAGTA',\n",
              " 'CGTAACAAGGTTTCCGTAGGTGAACCTGGGGAAGGATCATTGTTGAGATCACATAATAATTGATCGAGTTAATCTGGAGGATCAGTTTACTTTGGTCACCCATGGGCATTTGGCTATTGCAGTGACCGAGAGTTTACCATCGAGCCTCCATGGGAGCTTTCTTGCTGGCGATCTAAACCCTAGCCCGGCGCAGTTTTGGCCCAAGTCATATGACACATAATTGTGAAGGGGCGGCATGTTTCCTACCCTCCCAACTCTCAGCAACGGATATCTCGCTCTTGCATCGATGAAGAACGCAGCGAAATGCGATAAATGGTGTGAATTGCAGAATCCCGTGAACCATCGAGTCTTGGAACGCAAGTTGCGCCCGAGGCCATCAGGCCAAGGGCACGCCTGCCTGGGCATTGCGAGTCATATCTCTCCCTTAATGAGGCTGTCCATACATACTGTTCAGCCGGTGCGGATGTGAGTTTGGCCCCTTGTTCATTGGTACGGGGGGTCTAAGAGCTGCGTGGGCTTTTGATGGTCCTAAATACGGCAAGAGGTGGACGAACTATGCTACAACAAAACTGTTGTGCGAATGCCCCGGGTTGTCGTATTAGATGGGCCAGCATAATCTAAAGACCCTTTGACACCCCATTGGAGGCCCATCAACCCATGATCAGTTGATGGTCCATTGGGTTGCGACCCCAAGTCAGGTGAAGCAACTCCCTGAGTTTT',\n",
              " 'CGTAACAAGGTTTCCGTAGGTGAACCTGCGGAAGGATCATTGTTGAGATCACATAATAATTGATCGAGTTAATCTGGAGGATCAGTTTACTTTGGTCACCCATGGGCATTTGCTATTGCAGTGACCGAGATTTGCCATCGAGCCTCCTTGGGAGCTTTCTTGCTGGCGATCTAAACCCTAGCCCGGCGCAGTTTTGCGCCAAGTCATATGACACATAATTGGTGAAGGGGGCGGCATGCTGCCTTGACCCTCCCCCAAATTATTTTTTAACAACTCTCAGCAACGGAAATCTGGCCTCTTGCATGGATGAAGACCAAACCGAAATCATAAATGGTGTGAATTGCAGAATCCCGTGAACAATCGAGTCTTTGAACGCAAGTTGCGCCCGAGGCCATCAGGCCAAGGGCACGCCTGCCTGGGCATTGCGAGTCATATCTCTCCCTTAATGAGGCTGTCCACACATATCTGTTCAGCCGGTGCGGATGTGAGTTTGGCCCCTTGTTCATTGGTACGGGGGGTCTAAGAGCTGCATGGGCTTTTGTTGGTCCTAAATACGGCAAGAGGTGGACGAACTATGCTACAACAAAACTGTTGTGCGAATGCCCCGGGTTGTCGTATTAGATGGGCCAGCATAATCTAAAGACCCTTTTGAACCCCATTGGAGGCCCATCAACCCATGATCAGTTGATGGCCATTTGGTTGCGACCCCAGGTCAAGTGAAGCAACCCCTGAGTTTAGCA',\n",
              " 'TCTACTGCAGTGACCGAGATTTGCCATCGAGCCTCCTGGGAGCTTTCTTGCTGGCGATCTAAACCGTAGCCCGGCGCAGTTTTGCGCCAAGTCATATGACACATAATTGGTGAAGGGGGCGGCATGCTGCCTTGACCCTCCCCAAATTATTTTTTAACAACTCTCNGCAACGGATATCTCGCCTCTTCATCGATGAAGAACGCAGCGAAATGCGATAAATGGTGTGAATTGCAGAATCCCGTGAANCCATCGAGTCTTTGAACGCAAGTTGCGCCCGAGGCCATCAGGCCAAGGGCACGCCTGCCTGGGCATTGCGAGTCATATCTCTCCCTTAATGAGGCTGTCCATACATACTGTTCAGCCGGTGCGGATGTGCGTTTGGCCCCTTGTTCATTGGTACGGGGGGTCTAAGAGCTGCGTGGGCTTTTGATGGTCCTAAATACGGCAAGAGGTGGACGAACTATGCTACAACAAAACTGTTGTGCGAATGCCCCGGGTTGTCGTATTAGATGGGCCAGCATAATCTAAAGACCCTTTTGAACCCCATTGGAGGCCCATCAACCCATGATCAGTTGATGGCCATTTGGTTGCGACCCCAGGTCAGGTGAGGCAACCCGCTGAGTTTAGCA',\n",
              " 'CGTAACAAGGTTTCCGTAGGTGAACCTGCGGAAGGATCATTGTTGAGATCACATAATAATTGATCGAGTTAATCTGGAGGATCAGTTTACTTTGGTCACCCATGGGCATTTGCTATTGCAGTGACCGAGATTTGCCATCGAGCCTCCTTGGGAGCTTTCTTGCTGGCGATCTAAACCCTAGCCCGGCGCAGTTTTGCGCCAAGTCATATGACACATAATTGGCGAAGGGGGCGGCATGGTGCCTTGACCCTCCCCAAATCATTTTTTTAACAACTCTCAGCAACGGAAGGGCACGCCTGCCTGGGCATTGCGAGTCATATCTCTCCCTTAATGAGGCTGTCCACACATACTGTTCAGCCGGTGCGGATGTGAGTTTGGCCCCTTGTTCATTGGTACGGGGGGTCTAAGAGCTGCGTGGGCTTTTGTTGGTCCTAAATACGGCAAGAGGTGGACGAACTATGCTACAACAAAACTGTTGTGCGAATGCCCCGGGTTGTCGTATTAGATGGGCCAGCATAATCTAAAGACCCTTTTGAACCCCATTGGAGGCCCATCAACCCATGATCAGTTGA',\n",
              " 'CGTAACAAGGTTTCCGTAGGTGAACCTGCGGAAGGATCATTGTTGAGATCACATAATAATTGATCGAGTTAATCTGGAGGATCAGTTTACTTTGGTCACCCATGGGCATTTGCTATTGCAGTGACCGAGATTTGCCATCGAGCCTCCTTGGGAGCTTTCTTGCTGGCGATCTAAACCCTAGCCCGGCGCAGTTTTGCGCCAAGTCATATGACACATAATTGGCGAAGGGGGCGGCATGCTGCCTTGACCCTCCCCAAATTATTTTTTAACAACTCTCAGCAACGGATAGGCCATCAGGCTAAGGGCACGCCTGCCTGGGCATTGCGAGTCATATCTCTCCCTTCAATGAGGCTGTCCACACATACTGTTCAGCCGGTGCGGATGTGAGTTTGGCCCCTTGTTCATTGGTACGGGGGGTCTAAGAGCTGCGTGGGCTTTTGTTGGTACCTAAATACGGCAAGAGGTGGACGAACTATGCTACAACAAAAATGTTGTGCGAATGCCCCGGGTTGTCGTATAGATGGGCCAGCATAATCTAAAGACCCTTTTGAACCCCATTGGAGGCCCATCAACCCATGATCAGTTGA',\n",
              " 'CGTAACAAGGTTTCCGTAGGTGAACCTGCGGAAGGATCATTGTTGAGATCACATAATAATTGATCGAGTTAATCAGGAGGATCAGGTTACTTTGGTCACCCATGGGCATTTGCTGTTTCAGTGACCTAGATTTGCCATCGAGCCGAACTAAACCCTTGCCCGGCGCAGATTTGCGCCAATTTATATGAGACATTACTGGAAGGGGAGGGATGCTGCCTTGCCTTGCCCCCCAAATTATTTTTTAACAACTCTCAGCAACGGATATCTCGCCTCTTGCATCGATGAAGAACGCAGCGAAATGCGATAAATGGTGTGAATACAGAGATCCCGTGAACCATCGAGTCTTGAACGCAAGTTGCGCCCGAGGCCATCAGGCCAAGGGCACGCCTGCCTGGGCATTGCGAGACATATCTCTCCCTTAATGAGGCTGTCGTTCAGCCGGTGCGGATGTGAGTTTGGCCCCTTGTTCTTTGGTACGGGGGGTCTAAGAGCTGCATGGGCTTTTGATGGTCCTAAATACGGCAAGAGGTGGACGAACTATGCGACAACAGAACTGTTGTGCGAATGCCCCGGGTTGTCGTATTAGATGGGCCAGCATAATCTAAAGACCCTTTTGAACCCCATTGGAGGCCCATCAACCCAAGATCAGTTGACGGCCATTTGGATGCGACCCCAGGTCAGGTGAGGCAACCCTCTGAGT',\n",
              " 'CGTAACAAGGTTTCCGTAGGTGAACCTCCGGAAGGATCAGTGTTGAGATCACATAATAATTGATCGAGTTAATCTGGGGGATCAGTTTACTTTGGTCACCCATGGGCATTTGCTGTTGCAGTGGCCTAGAGTTTGCCATCGAGCCGATCTAAACCCTTGCCCGGCGCAGTTTTGCGCCAAGTCATATGACACATAACTGGAAGGGGCGGCATGCTGCCATGGCTCCCCCAAATATTGATAATGGCGTGATAGCAGATCCCTGAACATCGAGTTTTGAACGCATGTTGCGTCCGAGGCCATCAGGTCAAGGGGACGCCTGCCTGGAAATTGTGAGACATATCTCTCCCTTAATGAGGCTGCCATACATACTGTTCAGCCGGTGCGGATGTGAGTTTGGCCCCTTGTCCTTTGGTACGGGGGTCTAAGAGCTGTATGGGTTGGATGGTCCTAAATACGGCAAGAGGTGGACGAGCTATGTGACAACAGAACTGTTGTGCGAATGCCCCGGTTGTCGTTTAGATGGGTCAGCATAATCTAAAGACCCTTTTGACCCCCATTGGAGGCCCATCAACCCATTATCAGTTGAGGACATTTGGTTGCGACCCAGGTCAGATGAGGCACCCGCTGAGTTTAGGC',\n",
              " 'CGTAACAAGGTTTCCGTAGGTGAACCTGCGGAAGGATCATTGTTGAGATCACATGATAATTGATCGAGTTAATCTGGAGGATCAGTTTGCTTTGGTCACCCATGGGCATTTGCTGTTGCAGTGACCTAGATTTGCCATCGAGCCGATCTAAACCCTTGCCCGGCGCAGTTTTGCGCCAAGTCATATGACACATAATTGGAAGGGGCGGCATGCTGCCTTGCCCTCCCCAAATATTTGTTAACCAACTCTCAGCAACGAGTATCTCGGCTCTTGCATCGGATGGAAGGACGCAGCGAAATGCGATAAATGGTGTGAATTGCAAGAATCCCTGAACCATCGAGTCTTTGGAACGCAAGTTGCGGCCGAGGCCATCAGGCCAAGGGCACGCCTGCCTGGGCATTGCGAGACATATCTCTCCCTTAATGAGGCTGTCCACACATACTGTTCAGCCGGTGCGGATGTGAGTTTGGCCCCTTGTTCTTTGGTACGGGGGGTCTAAGAGCTGCATGGGCTTTTGATGGTCCTAAATACGGCAAGAGGTGGACGAACTATGCGACAACAGAACTGTTGTGCGAATGCCCCGGGTTGTCGTATTAGATGGGCCAGCATAATCTAAAGACCCTTTTGAACCCCATTGGAGGCCCATCAACCCATGATCAGTTGACGGCCATTTGGTTGCGACCCCAGGTCAGGTGAGGCAACCGCTGAGTTTATGC',\n",
              " 'CGTAACAAGGTTTCCGTAGGTGAACCTGCGGAAGGATCATTGTTGAGATCACATGATAATTGATCGAGTTAATCTGGAGGATCAGTTTACTTTGGTCACCCATGGGCATTTGCTGTTGTAGTGACCTAGATTTGCCATCGAGCCGATCTAAACCCTTGCCCGGCGCAGTTTTGCGCCAAGTCATATGACACATAATTGGAAGGGCGGCATGCTGCCTTGGCCCTCCCCAAATTATTTTTTTAACAACTCTCAGCAACGGATATCTCGGCTCTTAGGCCATCCGGCCAAGGGCACGCCTGCCTGGGCATTGCGAGACATATCTCTCCCTTAATGAGGCTGTCCATACATACAGTTCAGCCGGTGCGGATGTGAGTTTGGCCCCTTGTTCTTTGGTACGGGGGGTCTAAGAGCTGCATGGGCTTTTGATCCACCTAAATACGGCAAGAGGTGGACGAACTATGCGACAACAGAACTGTTGCGCGAATGCCCCGGGTTGTCGTATTAGATGGGCCAGCATAATCTAAAGACCCTTTTGAATCCCATTGGAGGCCCATCAACCCATGATCAGTTGACGGCCATTTGGTTGCGACCC',\n",
              " 'CGTAACAAGGTTTCCGTAGGTGAACCTGCGGAAGGATCATTGTTGAGATCACATAATAATTGATCGAGTTAATCTGGAGGATCAGTTTACTTTGGTCACCCATGGGCATCTGCTCTTGCAGTGACCTGGATTTGCCATCGAGCCTCCTTGGGAGCTTTCTTGCTGGCGATCTAAACCCGTCCCGGCGCAGTTTTGCGCCAAGTCATATGACACATAATTGGAAGGGGGTGGCATGCTGCCTTGACCCTCCCCAAATTATTTTTTTGACAACTCTCAGCAACGGATATCTCGGCTCTTNNNNNNNNNNNNNNNNNNNNNNNNNNNNNNNNNNNNNNNNNNNNNNNNNNNNNNNNNNNNNNNNNNNNNNNNNNNNNNNNNNNNNNNNNNNNNNNNATCAGGCCAAGGGCACGCCTGCCTGGGCATTGCGAGTCATATCTCTCCCTTAATGAGGCTGTCCATACATACTGTTCAGCCAATGCGGATGTGAGTTTGGCCCCTTGTTCTTTGGTACGGGGGGTCTAAGAGCTGCATGGGCTTTTGATGGTCCAAAATACGGCAAGAGGTGGACGAACTATGCTACAACAAAATTGTTGTGCGAATGCCCCGGGTTGTCGTATTAGATGGGCCAGCATAATCTAAAGACCCTTTTGAACCCCATTGGAGGCCCATCAACCCATGATCAGTTGACGGCCATTTGGTTGCGACCCAGGTCAGGT',\n",
              " 'CGTAACAAGGTTTCCGTAGGTGAACCTGCGGAAGGATCATTGTTGAGATCACGTAATAATTGATCGAGTTAATCTGGAGGATCAGTTTACTTTGGTCACCCATGGGCATCTGCTCTTTCAGTGACCTGGATTTGCCATCGAGCCTCCTTGGGAGCTTTCTTGCTGGCGATCTAAACCCTTGCCCGGCGCAGTTTTGCGCCCAATCATATGACACATAATTGGAAGGGCGGCATCCTGCCTTGACCCTCCCCAAATTATATTTTTGACAACTCTCAGCAACGGATATCTCGCCTCTTGCATCGATGAAGACACAGCGAAATGCGATAAATGGTGTGAATTGCAGAATCCCGTGAACCATCGAGTCTTTGAACGCAAGTTGCGCCCGAGGCCATCAGGCCAAGGGCACGCCTGCCTGGGCATTGCGAGTCATATCTCTCCCTTAATGAGGCTGTCCATACATACTGTTCAGCCGGTGCGGATGTGAGTTTGGCCCCTTGTTCTTTGGTACGGGGGGTCTAAGAGCTGCATGGGCTTTTGATGGTCCAAAATACGGCAAGAGGTGGACGAACTATGCTACAACAAAATTGTTGTGCGAATGCCCCGGGTTGTCGTATTAGATGGGCCAGCATAATCTACAGACCCTTCTGAACCCCATTGGAGGCCCATCAACCCATGATCAGTTGACGGCCATTTGGTTGCGACCCCAGGTCAGGTGAAGCAACCCGTTGAGCTT',\n",
              " 'CGTAACAAGGTTTCCGTAGGTGAACCTGCGGAAGGATCATTGTTGAGATCACATAATAATTGATCGGGTTAATCTGGAGGATCAGTTTACTTTGGTCACCCATGGGCATCTGCTCTTGTAGTGACCTGGATTTGCCATCGAGCCTCCATGGGAGCTTTCTTGGTGGCGATCTAAACCCTTGCCCGGCGCAGTTTTGCGCCAAGTCATATGACACATAATTGGAAGGGGGCGGCATGCTGCCTTGACCCTCCCCAAATTATTTTGTTAACAACTCTCAGCAACGGATATCTCGGCTCTTCCCGAGGCCATCAGGCCAAGGGCACGCCTGCCTGGGCATTGCGAGTCATATCTCTCCCTTCAATGAGGCTGTCCATACATACTGTTCAGTCGGTGCGGATGTGAGTTTGGCCCCTTGTTCTTGCCTACGGGGGGTCTAAGAGCTGCATGGGCTTTTGATGGTACCTAAATACGGCAAGAGGTGGACGAACTATGCTACAACAAAATTGTTGTGCGAATGCCCCGGGTTGTCGTATTAGATGGGCCAGCATAATCTAAAGACCCTTTTGAACCCCATTGGAGGCCCATCAACCCATGATCAGTTGACGGCCATTTGGTTGCGACCCAGG',\n",
              " 'CGTAACAAGGTTTCCGTAGGTGAACCTGCGGAAGGATCATTGTTGAGATCACATAATAATTGATCGAGTTAATCTGGAGGATCAGTTTACTTTAGTCACCCATGGGCATCTGCTCTTGCAGTGACCTGGATTTGCCATCGAGCCTCCTTGGGAGCTTTCTTGCTGGCGATCTAAATCGTTGCCCGGCGCAGTCTTGCGCCAAGTCATTTCACACATAATTGGAAGGGGGCGGCATGCAGTCTAAGACCCTCCCCAAATTATTTTTTGATAACTCTCAGCAACGGAATCTCGGCTCTTGCATCGATGGAGGACGCAGCGAAATGCGATAAATGGTGTGAATTGCAGAATCCCGTGAACCATCGAGTCTTTGAACGCAAGTTGCGCCCGAGGCCATCAGGCCAAGGGCACGCCTGCCTGGGCATTGCGAGTCATATCTCTCCTTTAATGAGGCTGTCTATACATACTGTTCAGCCACAGCGGATGTGAGTTTGGCCCCTTGTTCTTTGGTACGGGGGGTCTAAGAGCTGCATGGGCTTTTGATGGTCTTAAATACGGCAAGAGGTGGACGAAGTATGCTACAACAAAATTGTAGTTCGAATGCCCAGGGTTGTCGTATTAGATGGGCCAGCATAATCTAAAGACCCTTTGAACCCCTTTAGAGGCCAATCAACCCATGATCAGTTGATGGCCATTTGGTTGCGACCCCAAGTCAGGTGAGGCAACCGCTGAGTTTAAGC',\n",
              " 'CGTAACAAGGTTTCCGTAGGTGAACCTGCGGAAGGATCATTGTTGAGATCACATAATAATTGATCGAGTTAATCTAGAGGATCGGTTTACTTTGGTCACCCATGGGCATCTGCTCTTACAGTGACCTGGATTTGCCATCGAGCCTCCTTGGGAGCTGTCTTGCTGGCGATCTAAATCGTTGCCCGACGCAGCCTTGCGTCAAGTCACCCCGACACATAATGGAAGGGGGCGGCATGCTGCCTTGACCCTTCCCCAAATTAATTTTTTGACAACTCTCAACATCGGATATCTCGGCTCTTGCATCGATGAAGAACGCAGCGAAATGCGATAAATGGTGTGAATTGCAGAATCCCGTGAACCATCGAGTCTTTGAACGCAAGTTGCGCCCGAGGCCATCAGGCCAAGGGCACGCCTGCTTGGGCATTGCGAGTCATATCTCTCCCTTAATGAGGCTGTCCATACATACTGTTCAGCCAGTGCGGATGTGAGTTTGGCCCCTTGTTCTTTAGTACGGGGGGTCTAAAAGCTGCATGGGCTTTTGCTGGTCCTAAATACGGCAAGAGGTGGACAAAGTATGCTACAACAAAATTGTAGTGCGAATGCCCCGGGTTGTCGTATTAGATGGGCCAGCATAATTTAAAGACCCTTTTGAACCCCATTAGAGGCCCATCAACCCTGATCAGTTGATGGCCATTTGGTTGCGACCCCAAGTCAGGTGAGGCAACCCGCTGAGTTTAAGC',\n",
              " 'CGTAACAAGGTTTCCGTAGGTGAACCTGCGGAAGGATCATTGTTGAGATCACATAATAATTGATCGAGTTAATCTAGAGGATCAGTTTACTTTGGTCACCCATGGGCATCTGCTCTTACAGTGACCTGGATTTGCCATCGAGCCTCCTTGGGAGCTTTCTTGCTGGCGATCTAAATCGTTGCCCGACGCAGCCTTGCGTCAAGTCATATGACACATAATTGGAAGGGGGCGGCATGCTGCCTTGACCCTTCCCAAATTATTTTTTTAAGTTGCGCCCGAGGCCATCAGGCCAAGGGCACGCCTGCTTGGGCATTGCGAGTCATATCTCTCCCTTAATGAGGCTGTCCATACATACTGTTCAGCCAGTGCGGATGTGAGTTTGGCCCCTTGTTCTTTACTACGGGGGGTCTAAAAGCTGCATGGGCTTTTGCTGGTCCTAAATACGGCAAGAGGTGGACAAAGTATGCTACAACAAAATTGTAGTGCGAATGCCCCGGGTTGTCGTATTAGATGGGCCAGCATAATTTAAAGACCCTTTTGAACCCCATTAGAGGCCCATCAACCCTGATCAGTT',\n",
              " 'CGTAACAAGGTTTCCGTAGGTGAACCTGCGGAAGGATCATTGTTGAGATCACATAATAATTGATCGAGTTAATCTGGAGGATCAGTTTACTTTAGTCACCCATGGGCATCTGCTCTTGCAGTGACCTGGATTTGCCATCGAGCCTCCTTGGGAGCTTTCTTGCTGGCGATCTAAATTCGTTGCCCGGCGCAGTCTTGCGCCAAGTCATATCACACATAATTGGAAGGGGGCGGCATGCGGTCTAGACCCTCCCCAAATTATTTTTTTGACAACTCTCAGCAACGGATATCTCGGCTCTTCCATCAGGCCAAGGGCACGCCTGCCTGGGCATTGCGAGTCATATCTCTCCCTTAATGAGGCTGTCCATACATACTGTTCAGCCACAGCGGATGTGAGTTTGGCCCCTTGTTCTTTGGTACGGGGGGTCTAAGAGCTGCATGGGCTTTTGATGGTACCTAAATACGGCAAGAGGTGGACGAAGTATGCTACAACAAAATGATAGTGCGAATGCCCAGGGTTGTCGTATTAGATGGGCCAGCATAATCTAAAGACCCTTTTGAACCCCATTAGAGGCCCATCAACCCATGATCAGTT',\n",
              " 'CGTAACAAGGTTTCCGTAGGTGAACCTGCGGAAGGATCATTGTTGAGATCGCATAATAATTGATTGAGTTAATCTGGAGGATCAGTTTACTTTGGTCACTCATGGGAATCTGCTCTTGTAGTGACCTGGATTTGCCATCGAGCCTCCTTGGGAGCTTTCTTGATGGCGATCTGAACCCTTGCCCGGCGCAGTTTTGCGCCAAGTCATATGACACATAATTGGGAGGGGCAGCATGCTGCCTTGACCCTCCCCATATCATTTTTTTAACGACTCTCAGCTCCGGAACTCAAGTTGCGCCCGAGGCCATCAGGCTAAGGGCACGCCTGCCTGGGCATTGCGAGTCATATCTCTCCCTTAATGAGGCTGTCCATACATACTGTTCAGCCAGTGCGGATGTGAGTTTGGCCCCTTGTTCTTCGGTACGGGGGGTCTAAGAGCAGCTGGGCTTTTGATGGACCTAAATACGGCAAGAGGTGGACGAAGTATGCTACAACAAAATTATTGTGTGAATGCCCCGGGTTGTCGTATAGATGGGCCAGCATAATCTAAAGACCCTTTTGAACCCCATTGGAGGCCCATCAACCCATGATCAGTTGACGGCCATTTGGTT',\n",
              " 'CGTAACAAGGTTTCCGTAGGTGAACCTGCGGAAGGATCATTGTTGAGATCACATAATAATTGATCGAGTTAATCTGGAGGATCAGTTTACTTTGGTCACCCATGGGCATCTGCTCTTGCAGTGACCTGGATTTGCCATCGAGCCTCCTTGGGAGCTTTCTTGCTGGCGATCTAAACCCTTGCCCGGCGCAGTTTTGCGCCAAGTCATATGACACATAATTGGAAGGGGGTGGCATGCTGCCTTGACCCTCCCCAAATTATTTTTTGACAACTCTCAGCAACGGATATCTCGGCTCTTGCATCGATGAAGAACGCAGCGAAATGCGATAAATGGTGTGAATTGCAGAATCCCGTGAACCATCGAGTCTTTGAACGCAAGTTGCGCCCGAGGCCATCAGGCCAAGGGTACGCCTGCCTGGGCATTGCGAGTCATATCTCTCCCTTAATGAGGCTGTCCATACATACTGTTCAGCCGGTGCGGATGTGAGTTTGGCCCCTTGTTCTTTGGTACGGGGGGTCTAAGAGCTGCATGTGCCTTTGGTGGTCCAAAATACGGCAAGAGGTGGACGAACTATGCTACAACAAAATTGTTGTGCGAATGACCCGGGTTGTCGTATTAGCTGGGCCAGCATAATCTAAAGACCCTCTTGAACCCCATTGGAGGCCCATCAACCCATGATCAGTTGACGGCCATATGTTTGCGACCCAGGTCAGGTGAGGCAACCCGCTGA',\n",
              " 'CGTAACAAGGTTTCCGTAGGTGAACCTGCGGAAGGATCATTGTTGAGATCACATAATAATTGATCGAGTTAATCTGGAGGATCAGTTTACTTTGGTCACCCATGGGCATCTGCTCTTGTAGTGACCTGGATTTGCCATCGAGCCTTCATGGGAGCTTTCTTGCTGGCGATCTAAACCCTTGCCCGGCGCAGTTTTGCGCCAAGTCATATGACACATAATTGGAAGGGGGCGGCATGCTGCCTTGACCCTCCCCAAATTATTTTTGTAACAACTCTCAGCAACGGATATCTCGGCTCTTTGCCGAGGCCATCAGGCCAAGGGCACGCCTGCCTGGGCATTGCGAGTCATATCTCTCCCTTAATGAGGCTGTCCATACATACAGTTCAGCCTGTGCGGATGTGAGTTTGGCCCCTTGTTCTTGCGTACGGGGGGTCTAAGAGCTGCATGGGCTTTTGATGGTCCTAAATACGGCAAGAGGTGGACGAACTATGCTACAACAAAATTGTTGTGCGAATGCCCCGGGTTGTCGTATTAGATGGGCCAGCATAATCTAAAGACCCTTTTGAACCCCATTGGAGGCCCATCAACCCATGATCAGTTGACGGCCATTTGGTTGCGACCCAGGTCAGGTGAGGCAACCC',\n",
              " 'CGTAACAAGGTTTCCGTAGGTGAACCTGCGGAAGGATCATTGTTGAGATCACATAATAATTGATCGAGTTAATCTGGAGGATCAGTTTACTTTGGTCACCCATGGGCATCTGCTCTTGCAGTGACCTGGATTTGCCATCGAGCCTCCTTGGGAGCTTTCTTGCTGGCGATCTAAACCCTTGCCCGGCGCAGTTTTGCGCCAAGTCATATGACACATAATTGGAAGGGGGCGGCATGCTGCCTTGACCCTCCCCAAATTATTTTTTTGACAACTCTCAGCAACGGATTTCTCGGTTCTTGAATCGATGAGGAACGCAGCGAAATGCGATAATTGGTGTGAATTGAAGAATCCCGTAAACCATCGAGTCTTTGAACGAAAGTTGCGCCCGAGGCCATCAGGCCAAGGGAACGCCTGCCTGGGCATTGCGAGTCATATCTCTCCCTTAATGAGGCTGTCCATACATACTGTTCAGCGAGTGCGGATGTGAGTTTGGCCCCTTGTTCTTTGGTACGGGGGGTCTAAGAGCTGCATGGGCTTTTGATGGTCCTAAATACGGCAAGAGGTGGACGAACTATGCTACAACAAAATTGTTGTGCGAATGCCCCGGGTTGTCGTATTAGATGGGCCAGCATAATCTAAAGACCCTTTTGAACCCCATTGGAGGCCCATCAACCCATGATCAGTTGACGGCCATTTGGTTGC',\n",
              " 'CGTAACAAGGTTTCCGTAGGTGAGCGGAAGGGTCATTGTTGAGATCACATAATAATTGATCGGTTGAGTCTGGAGGATCAGTTTACTTTGGTCACCCATGGGCATCTGCTCTTGTAGTGACCTGGATTGCCATCGAGCCTCCTTGGGAGCTTTCTTGCTGGAGATCTAAACCCTTGCCCGGAGCAGTTTTGCGCCAAGTCATATGACACATAATTGGAAGGGGGCGGCATGCTGCCTTGACCCTCCCCAAATTATTTTCTTAACAACTCTCAGCAACGGATATCTCGGCTCTTGCATCGATGAAGAACGCAGCGAAATCCGATAAATGGTGTGAATTTCAGAATCCCGTGAACCATCGAGTCTTTGAACGCCAAGTTCGCCCGAGGCCATCAGGCCAAGGGCACGCCTGCCTGGGCATTTCGAATCAAATCTCTCCCTTAATGAGGCTGTCCAAACATACTGTTCAACCGGTTCGGATGTGAGTTTGGCCCCTTTTTCTTTGGGGCGGGGGGTCTAAGAACTTCATGGGCTTTTGGTGGTCCTAAAAACGGCAAGAGGTGGGCGGACTATTCTTCAACCAAATTTCTGTTCGGATTCCCCGGGCTTTCGTAATAGATGGGCCAGCATAATCTAAAGACCCTTTTGAACCCCATTGGAGGCCCATCAACCCATGATCAGTTGACGGCCATTTGGTGCGACCCCAGGTCAGGTGAGCAACCCGCTGAGTTTAAGC',\n",
              " 'CGTAACAAGGTTTCCGTAGGTGAACCTGCGGAAGGTTCATTGTTGAGATCACATAATCATTGTTCGGTTGAGTCTGGAGGATCAGTTTACTTTGGTCACCATGGGCATCTGCTCTTGTAGTGACCTGGATTGCCATCGAGCCTCCTTGGGAGCTTTCTTGCTGGGGATCTAAACCCTCGCCCGGGGGAGTTTTGCGCCAAGTCATATGACACATAATTGGGAGGGGGCGGCATGTTGCCTTGACCCTCCCCAAATTATTTTCTTAACAACTCTCAGCAACGGATATCTCGGCTCTTGCATCGATGGAAGAACGCAGCGAAATGCGATAAATGGTGTGAATTGCAGAATCCCGTGAACCATCGAGTCTTTGAACGCAAGTTGCGCCCGAGGCCATCAGGCCAAGGGCACGCCTGCCTGGGCATTGCGAGTCATATCTCTCCCTTAATGAGGCTGTCCATACATACTGTTCAACCGGTGCGGATGTGAGTTTGGCCCCTTTTTCTTTGGGGCGGGGGGTCTAAGAGCTGCATGGGCTTTTGATGGTCCTAAATACGGCAAGAGGTGGACGAACTATGCTGCAACAAAATTGCTGTGCGAATACCCCGGGTTGTCGTATTAGATGGGCCAGCATAATCTAAAGACCCTTTTGAACCCCATTGGAGGCCCATCAACCCATGATCAGTTGACGGCCATTTGGTTGCGACCCCAGATCAGGTGAGCAACCCGCTGAGTTTAAGC',\n",
              " 'CGTCACGAGGTCTCCGGATGTGACCCTGCGGAAGGATCATTGTTGAGATCACATAATAATTGATCGAGTTAATCTGCAGGATCTGTTTACTTTGGTCACCCATGGGCATTTGCTGTTGAAGTGACCTAGATTTGCCATCGAGCCTCCTTGGGAGATTTCTTGTTGGCGAGATCTAAACCCTTGCCCGGCGCAGTTTTGCGCCAAGTCATANNNNNNNNNNNNNNNNNNNNNNNNNNNNNNNNNNNNNNNNNNNNNNNNNNNNNNNNNNNNNNNNNNNNNNNNNNNNNNNNNNNNNNNNNNNNNNNNNNNNNNNNNNNNNNNNNNNNNNNNNNNNNNNNNNNNNNNNNNNNNNNNNNNNNNNNNNNNNNNNNNNNNNNNNNNNNNNNNNNNNNNNNNNNNNNNNNNNNNNNNNNNNNNNNNNNNNNNNNNNNNNNNNNNNNNNNNNNNNNNNNNNNNNNNNNNNNNNNNNNNNNNNCGCCTGCCTGGGCATTGCGAGTCATATCTCTCCCTTAACGAGGCTGTCCATACATACTGTTCAGCCGGTGCGGATGTGAGTTTGGCCCCTTGTTCTTTGGTACGGGGGGTCTAAGAGCTGCATGGGCTTTTGATGGTCCTAAATACGGCAAGAGGTGGACGAACTATGCTACAACAAAATTGTTGTGCAAAGGCCCCGGGTTGTCGTATTAGATGGGCCACCGTAATCTGAAGACCCTTTTGAACCCCATTGGAGGCCCAT',\n",
              " 'CGTAACAAGGTTTCCGTAGGTGAACCTCCGGAAGGATCATTGTTGAGATCACATAATAATTGATCGAGGTAATCTGGAGGATCTGTTTACTTTGGTCACCCATGGGCAGTTGCTGCTGGAGTGACCTAGAATTTCCATCGAGCCTCCTTGGGAGCTTTCTTGTTGGCGAGATCTAAACCCTTACCCGGCGCAATTTTTCCCCCAGTCAAATGACACATAATTGGTGGAGGGGGTGGCATTCTTCCCTGACCCTCCCCCAAATAATTTTTTCACAACTCTCAGCAACGGATATCTCGGCTCTTGCATCGATGAAGAACGCACCGAAATCCGATAAATGGTGTGAATTCCAGAATCCCGTGAACCATCGAGTCTTTGAACCCAAGTTGCGCCCGAGGCCATCAGGCCAAGGGAACGCCTGCCTGGGCATTGCGAGTCATATCTCTCCCTTAACGAGCCTGTCCATACATCCTGTTCAGCCGGTGCGGATGTGAGTTTGCCCCCTTGTTCTTTGGTACGGGGGGTCTAAGACCTGCATGGGCTTTTGATGGTCCTAAATACGGCAAGAGGTGGACGAACTATGCTACACCAAAATTGTTGTCCAAAGCCCCCGGGTTGTCGTATAAGATGGGCCACCGTAATCTGAAGACCCTTTGAACCCCATTGGAGCCCATCAACCCATGATCAGTTGATGCCATTGTTGCGACCCAGTCAGTGAGCAAGCCGCTGAGTTAA',\n",
              " 'CGTAACAAGGTTTCCGTAGGTGAACCTCCGGAAGGATCATTGTTGAGATCACATAATAATTGATCGAGTTAATCTGGAGGATCTGTTTACTTTGGTCACCCATGAGCATTTGCTGTTGAAGTGACCTAGATTTGCCATCGAGCCTCCTTGGGAGCTTTCTTGTTGGCGAGATCTAAACCCTTGCCCGGCGCAGTTTTGCGCCAAGTCATATGACACATAATTGGTGAAGGGGGTGGCATCCTGCCCTGACCCTCCCCAAATTATTTTTTTAACAACTCTCAGCAACGGGATATCTCGGCTCTTGCATCGGATGGAGGAACGCAGCGAAATGCGATAAATGGTGTGAATTGCAGAATCCCGTGAACCATCGAGTCTTTGAACGCAAGTTGCGCCCGAGGCCATCAGGCCAAGGGCACGCCTGCCTGGGCATTGCGAGTCATATCTCTCCCTTAACGAGGCTGTCCATACATACTGTTCAGCCGGTGCGGATGTGAGTTTGGCCCCTTGTTCTTTGGTACGGGGGGTCTAAGAGCTGCATGGGCTTTTGATGGTCCCAAATACGGCAAGAGGTGGACGAACTATGCTACAACAAAATTGTTGTGCAAAGGCCCCGGGTTGTCGTATTAGATGGGCCACCGTAATCTGAAGACCCTTTTGAACCCCATTGGAGGCCCATCAACCCATGATCAGTTGATGGCCATTTGGGTTGCGACCCCAGGTCAGGTGAGGCAACCCGCTGAGTTTA',\n",
              " 'CGTAACAAGGTTTCCGTAGGTGAACCTGCGGAAGGATCATTGTTGAGATCACATAATAATTGATCGAGTTAATCTGGAGGATCTGTTTACTTTGGTCACCCATGAGCATTTGCTGTTGAAGTGACCTAGATTTGCCATCGAGCCTCCTTGGGAGCTTTCTTGTTGGCGAGATCTAAACCCTTGCCCGGCGCAGTTTTGCGCCAAGTCATATGACACATAATTGGTGAAGGGGGTGGCATCCTGCCCTGACCCTCCCCAAATTATTTTTTTAACAACTCTCAGCAACGGATATCTCGGCTCTTGCATCGGATGGAGGAACGCAGCGAAATTGCGATAAATTGGTGTGAATTGCAGAATCCCGTGAACCATCGAGTCTTTGAACGCAAGTTGCGCCCGAGGCCATCAGGCCAAGGGCACGCCTGCCTGGGCATTGCGAGTCATATCTCTCCCTTAACGAGGCTGTCCATACATACTGTTCAGCCGGTGCGGATGTGAGTTTGGCCCCTTGTTCTTTGGTACGGGGGGTCTAAGAGCTGCATGGGCTTTTGATGGTCCTAAATACGGCAAGAGGTGGACGAACTATGCTACAACAAAATTGTTGTGCAAAGGCCCCGGGTTGTCGTATTAGATGGGCCACCGTAATCTGAAGACCCTTTTGAACCCCATTGGAGGCCCATCAACCCATGATCAGTTGATGGCCATTTGGTTGCGACCCCAGGTCAGGTGAGGCAACCCGCTGAGTTT',\n",
              " 'CGTAACAAGGTTTCCGTAGGTGAACCTGCGGAAGGATCATTGTTGAGATCACATAATAATTGATCGAGTTAATCTGGAGGATCTGTTTACTTTGGTCACCCATGAGCATTTGCTGTTGAAGTGACCTAGATTTGCCATCGAGCCTCCTTGGGAGCTTTCTTGTTGGCGAGATCTAAACCCTTGCCCGGCGCAGTTTTGCGCCAAGTCGTACGACACATAATTGGTGAAGGGGGTGGCATCCTTCCCTGACCCTCCCCAAATTATTTTTTAACAACTCTCAGCAACGGATATCTCGGCTCTTGCATCGATGGAGGACGCAGCGAAATGCGATAAATGGTGTGAATTGCAGATCCCGTGAACCATCGAGTCTTTGAACGCAAGTTGCGCCCGAGGCCATCAGGCCAAGGGCACGCCTGCCTGGGCATTGCGAGTCATATCTCTCCCTTAACGAGGCTGTCCATACATACTGTTCAGCCGGTGCGGATGTGAGTTTGGCCCCTTGTTCTTTGGTACGGGGGGTCTAAGAGCTGCATGGGCTTTTGATGGTCCTAAATACGGCAAGAGGTGGACGAACTATGCTACAACAAAATTGTTGTGCAGAGGCCCCGGGTTGTCGTATTAGATGGGCCACCGTAATCTGAAGACCCTTTTGAACCCCATTGGAGGCCCATCAACCCATGATCAGTTGATGGCCATTTGGTTGCGACCCCAGGTCAGGTGAGGCAACCCGCTGAGTTG',\n",
              " 'CGTAACAAGGTTTCCGTAGGTGAACCTCCGGAAGGATCATTGTTGAGATCACATAATAATTGATCGAGTTAATCTGGAGGATCTGTTTACTTTGGTCACCCATGGGCATTTTCTGTTGTAGTGACCTAGAATTTCCATCGAGCCTCCTTGGGAGCTTTCTTGTTGGCGAGATCTAAACCCTTGCCCGGCGCAGTTTTTCCCCCAGTCAAATGGCACATAATTGGTGGAGGGGGTGGCATTCTTCCCTGACCCTCCCCCAAATATTTTTTTAACAACTCTCAACAACGGATATCTCGGCTCTTTCATCGGATGAAGGACCGCAGCGAAATGCGATAAATGGTGTGAATTGCAGAATCCCGTGAACCATCGAGTCTTTGAACGCAAGTTGCGCCCGAGGCCATCAGGCCAAGGGCACGCCTGCCTGGGCATTGCGAGTCATATCTCTCCCTTAACGAGGCTGTCCATACATACTGTTCAGCCGGTGCGGATGTGAGTTTGGCCCCTTGTTCTTTGGTACGGGGGGTCTAAGAGCTGCATGGGCTTTTGATGGTCCTAAATACGGCAAGAGGTGGACGAACTATGCTACAACAAAATCGTTGTGCAAAGGCCCCGGGTTGTCGTATTAGATGGGCCACCGTAATCTAAAGACCCTTTTGAACCCCATTGGAGGCCCATCAACCCATGATCAGTTGATGGCCATTTGGTTGCGACCCCAGGTCAGGTGAGGCAACCCGCTGAG',\n",
              " 'CGTAACAAGGTTTCCGTAGGTGAACCTGCGGAAGGATCATTGTTGAGATCACATAATAATTGATCGAGTTAATCTGGAGGATCTGTTTACTTTGGTCACCCATGAGCATTTGCTGTTGAAGTGACCTAGAATTTGCCATCGAGCCTCCTTGGGAGCTTTCTTGTTGGCGAGATCTAAACCCTTGCCCGGCGCAGTTTTGCGCCAAGTCATATGACACATAATTGGTGGAGGGGGTGGCATCCTGCCCTGACCCTCCCCAAATTATTTTTTTAACAACTCTCAGCAACGGATATCTCCGGTCTGGCATCGATGAAGAACGCAGCGAAATGCGATAAATGGTGTGATTGCAGAATCCCGTGAACATCGAGTCTTTGAACGCAAGTTGCGCCCGAGGCCATCAGGCCAAGGGCACGCCTGCCTGGGCATTGCGAGTCATATCTCTCCCTTAACGAGGCTGTCCATACATACTGTTCAGCCGGTGCGGATGTGAGTTTGGCCCCTTGTTCTTTGGTACGGGGGGTCTAAGAGCTGCATGGGCTTTTGATGGTCCTAAATACGGCAAGAGGTGGACGAACTATGCTACAACAAAATTGTTGTGCAAAGGCCCCGGGTTGTCGTATTAGATGGGCCACCGTAATCTGAAGACCCTTTTGGACCCCATTGGAGGCCCATCAACCCATGATCAGTTGATGGCCATTTGGGTTGCGACCCAGGTCAGGTGAGGCAACCCTGAGTTTAGC',\n",
              " 'CGTAACCAGGTTTCCGTAGGTGGACCTTCGGGAGGATCATTTTTGAGATCACATAAAAATTGATCGAGTTAATCTGGAGGAACTTTTTACTTTGGTCACCCATGAACAATTTCTTTTGGAGTGACCTAGAATTTCCATCGAACCCCCTTGGGAACTTTCTTTTTGGCGAGAACTAAACCCTTTCCCGGCGCAGTTTTTCCCCCAATCAAATTACACAAAAATGGTGGAGGGGGTGGCATCCTTCCCTTACCCTCCCCCAAATAATTTTTTAACAACTCTCAGCAACGGATATCTCGGCTCTTGCATCGGTTGAAGAACCAGCGAAATGCGATAAATGGTGTGAATTGCAGAATCCCGTGAACCATCGAGTCTTTGAACGCAAGTTGCGCCCGAGGCCATCAGGCCAAGGGCACGCCTGCCTGGGCATTGCGAGTCATATCTCTCCCTTAACGAGGCTGTCCATACATACTGTTCAGCCGGTGCGGATGTGAGTTTGGCCCCTTGTTCTTTGGCACGGGGGGTCTAAGAGCTTCATGGGCTTTTGATGGTCCTAAATACGGCAAGAGGTGGACGAACTATGCTACAACAAAATTGTTGTGCAAAGGCCCCGGGTTGTCGTATTAGATGGGCCACCGTAATCTGAAGACCCTTTTGAACCCCATTGGAGGCCCATCAACCCATGATCAGTTGATGGCCATTTGGGTTGCGACCCCAGGTCAGGTGAGGCAACCCGCTGAGTTTAGCA',\n",
              " 'CGTAACAAGGTTTCCGTAGGTGAACCTGCGGAAGGATCATTGTTGAGATCACATAATAATTGATCGAGATAATCTGGAGGATCTGTTTACTTTGGTCACCCATGAGCATTTGCTGTTGAAGTGACCTAGATTTACCATCGAGCCTCCTTGGGAGCTTTCTTGTTGGCGAGATCTAAACCCTTGCCCGGCGCAGTTTTTCTCCAAGTCATTTGACACATAATCGGTGAAGGGGGTGGCATCCTGCCCTGACCCTCCCCCCACTATTGTTAACAACTCTCATCAACGGAACTCATGCGATAAATGGTGTGATTTGCAGAATCCCGTGAACCATCGAGTCTGTGAACGCAAGTTGCGGCCGAGGCCATCAGACCAAGGGCACGCCTGCCTGGGCATTGCGAGTCATATCTCTCCCTTAACGAGGCTGTCCATACATACTGTTCAGCCGGTGCGGATGTGAGTTTGGCCCCTTGTTCTCTGGTACGGGGGGTCTAAGAGCTGCATGGGCTTTTGATGGTCCTAAATACGGCAAGAGGTGGACGAACTATGCTACAACAAAATTGTTGTGCAAAGGCCCCGGGTTGTCGTATTAGATGGGCCACCGTAATCTGAAGCCCCTTTTGAACCCATTGGAGGCCCATCAACCNCATGATCAGTTGATGGCCATTTGGATGCGACCCCAGGTCAGGTGAGGCAAC',\n",
              " 'CGTAACAAGGTTTCCGTAGGTGAACCTGCGGAAGGATCATTGTTGAGATCACATAATAATTGATCGAGTTAATCTGGAGGATCTGTTTACTTTGGTCACCCATGAGCATTTGCTGTTGAAGTGACCTAGAGTTGCCATCGAGCCTCCTTGGGAGCTTTCTTGTTGGCGAGATCTAAACCCTTGCCCGGCGCAGTTTTGCGCCAACTCATTTGACACATAACTGGTGAAGGGGGTGGCATCCTTCCCTGACCCTCCCCCAAATTATTTTTTAACAACTCTCAGCAACCGGATATCTCAGCTCTTGCATCGATGAAGAACGCAGCGAAATGCGATAAATGGTGTGAATTGCAGAATCCCGTGAACCATCGAGTCTTTGAACGCAAGTTGCGCCCGAGGCCATCAGGCCAAGGGCACGCCTGCCTGGGCATTGCGAGTCATATCTCTCCCTTAACGAGGCTGTCCATACATACTGTTCAGCCGGTGCGGATGTGAGTTTGGCCCCTTGTTCTTTGGTACGGGGGGTCTAAGAGCTGCATGGGCTTTTGATGGTCCTAAATACGGCAAGAGGTGGACGAACTATGCTACAACAAAATTGTTGTGCAAAGGCCCCGGGTTGTCGTATTAGATGGGCCACCGTAATCTGAAGACCCTTTTGAACCCCATTGGAGGCCCATCAACCCATGATCAGTTGATGGCCATTTGGTTGCGACCCCAGGTCAGGTGAGGCAACCCGCTGAGTTTAGCA',\n",
              " 'CGTAACAAGGTTTCCGTAGGTGAACCTGCGGAAGGATCATTGTTGAGATCACATAATAATTGATCGAGTTAATCTGGAGGATCTATTTACTTTGGTCACCCATGAGCATTTGCTGTTGAAGTGACCTAGATTTGCCATCAAGCCTCCTTGGGAGCTTTCTTTTTGGCGAGATCTAAACCCTTGCCCGGCGCAGTTTTGCGCCAAGTCATATGACACATAATTGGTGAAGGGGGTGGCATCCTGCCCTGACCCTCCCCAAATTATTTTTTTAACAACTCTCAGCAACGGATATCTCGGCTCTTGAATCGATGAAGAACGCAGCGAAATGCGATAAATGGTGTGAATTGCAGAATCCCGTGAACCATCGAGTCTTTGAACGCAAGTTGCGCCCGAGGCCATCAGGCCAAGGGCACGCCTGCCTGGGCATTGCGAGTCATATCTCTCCCTTAACGAGGCTGTCCATACATACTGTTCAGCCGGTGCGGATGTGAGTTTGGCCCCTTGTTCTTTGGTACGGGGGGTCTAAGAGCTGCATGGGCTTTTGATGGTCCTAAATACGGCAAGAGGTGGATGAACTATGCTACAACAAAATTGTTGTGCAAAGGCCCCGGGTTGTCGTATTAGATGGGCCACTGTAATCTGAAGACCCTTTTGAACCCCATTGGAGGCCCATCAACCCATGATCAGTTGATGGCCATTTGGATGCGACCCCAGGTCAGGTGAGGCAACCGCTGAGTTTAGCA',\n",
              " 'CGTAACAAGGTTTCCGTAGGTGTACCTCCGGAAGGATCATTGTTGAGATCACATAATAATTGATCGAGATAATCTGGAGGATCTGTTTACTTTGGTCACCCATGGGCATTTGCTGTTGTAGTGACCTAGATTTCCATGGAGCCCCCCTGGGAGCTTTCTTGCTGGCGAGATCTAAACCCGTGCCCGGCGCAGTTTTGCGCCAAGTCATATGACACATAATTGGTGTAGGGGGCGGGCATCCTGCCCTGACCCTCCCCAAAGTATTTTTTGCAACTCTCAACAACGGAAATCTCGCTCTTTCATCGATGAAGAACCAGCGAAATCGATAAATGGTGTGAATTGCAGAATCCCGTGAACCATCGAGTCTTTGAACCCAAGTTGCGCCCGAGGCCATCAGGCCAAGGGCACCCCTCCCTGGGCATCGCGAGTCAAATCTCTCCCTTAACGAGGCTGTCCATACATACTGTTCACCCGGTGCGGATGTGAGTTTGCCCCCTTGTTCTTTGGTACGGGGGGTCTAAGACCTGCATGGGATTTTGATGGTCCTAAAAACGGCAAGAGGTGGACGAACTATCCCTACAATAAAATTGTTGTGCGAAGCCCCCGGGTTGTCGTATTAGATGGGCCACCGTAATCTGAAGACCCTATAGAACCCCATTGGAGGCCCATCAACCCATGATCAGTTGATGGCCATTTGATGCGACACCAGTCAGTGAGCAACCAGCTGAGC',\n",
              " 'GGAAGGATCATTGCTGATATCACATAATAATTGATCGAGTTAAGCTGGAGGATCTGTTTACTTTGGTCATCCATGAGCATTTACTGTTGAAGTGACCTAGATTTGCCATCGAGCCTCCTTGGGAGCTTTCTTGTTGCCGAGATCTAAACCCTTGCCCGGCGCAGTTTTGCGCCAAGTCATATGACACATAATTGGTGAAGGGGGTGGCATCCTGCCCTGACCCTCCCCAAATTATTTTTTTAACAACTCTCAGCAACGGATATCTCGGCTCTTGCATCGATGAAGAACGCAGCGAAATGCGATAAATGGTGTGAATTGCAGAATCCCGTGAACCATCGAGTCTTTGAACGCAAGTTGCGCCCGAGGCCATCAGGCCAAGGGCACGCCTGCCTGGGCATTCCGAGTCATATCTCTCCCCTAACGAGGCTGTCCATACATACTGTTCATCCGGTGCGGATGTGAGTGTGGCCCCTTGTTCTTTGGTCCGGGGGGTCTAAGAACTGCATGGGCATATGATGGTCCTCAAAACTGGCAAGAGGTGGACGAACTATGCTACAACCAAATTGTTGTGCCAAGGCCCCGGGTTGTCGTATTAGATGGGCCACCGTAACCTGTAGACCCTGTTGAACCCCATTGGAGGACCATCAACCCATGATCAGTTGATGACCATGTGTTGCGACCCCAGATCAGCTGAGCAACCCCTGAG',\n",
              " 'CGTAACAAGGTTTCCGTAGGTGAACCTGCGGAAGGATCATTGTTGAGATCACATAATAATTGATCGAGTTAATCTGGAGGATCTGTTTACTTTGGTCACCCATGAGCATTTGCTGTTGAAGTGACCTAGATTTGCCATCGAGCCTCCTTGGGAGCTTTCTTGTTGGCGAGATCTAAACCCTTGCCCGGCGCAGTTTTGCGCCAACTCATTTGACACATAATTGGTGAAGGGTGGCATCCTGCCCTGACCCTCCCCCAAATTATTTTTTTAACAACTCTCAGCAACGGATATCTCAGCTCTTGCATCGATGAAGAACGCAGCGAAAATGCGATAAATGGTGTGAATTGCAGAATCCCGTGAACCATCGAGTCTTTGAACGCAAGTTGCGCCCGAGGCCATCAGGCCAAGGGCACGCCTGCCTGGGCATTGCGAGTCATATCTCTCCCTTAACGAGGCTGTCCATACATACTGTTCAGCCGGTGCGGATGTGAGTTTGGCCCCTTGTTCTTTGGTACGGGGGGTCTAAGAGCTGCATGGGCTTTTGATGGTCCTAAATACGGCAAGAGGTGGACGAACTATGCTACAACTAAATTGTTGTGCAAAGGCCCCGGGTTGTCGTATTAGATGGGCCACCGTAATCTGAAGACCCTTTTGAACCCCATTGGAGGCCCATCAACCCATGATCAGTTGATGGCCATTTGGTTGCGACCCCAGGTCAGGTGAGGCAACCCGCTGAGTTTATGC',\n",
              " 'CGTAACAAGGTTTCCGTAGGTGAACCTGCGGAAGGATCATTGTTGAGATCACATAATAATTGATCGAGTTAATCTGGAGGATCTGTTTACTTTGGTCACCCATGAGCATTTGCTGTTGAAGTGACCTAGAATTGCCATCGAGCCTCCTTGGGAGCTTTCTTGTTGGCGAGATCTAAACCCTTTCCCGGCGCAGTTTTGCGCCAAGTCGTATGACACATAATTGGTGAAGGGGGGTGGCATCCTTCCCTTGACCCTCCCCAAATTATTTTTTTAACAACTCTCAGCAACGGATATCTCAGCTCTTGCATCGGATGGAAGAACGCACCGAAATGCGATAAATGGTGTGAATTGCAGAATCCCGTGAACCATCGAGTCTTTGAACGCAAGTTGCGCCCGAGGCCATCAGGCCAAGGGCACGCCTGCCTGGGCATTGCGAGTCATATCTCTCCCTTAACGAGGCTGTCCATACATACTGTTCAGCCGGTGCGGATGTGAGTTTGGCCCCTTGTTCTTTGGTACGGGGGGTCTAAGAGCTGCATGGGCTTTTGATGGTCCTAAATACGGCAAGAGGTGGACGAACTATGCTACAANAAAATTGTTGTGCAAAGGCCCCGGGTTGTCGTATTAGATGGGCCACCGTAATCTGAAGACCCTTTTGAACCCCATTGGAGGCCCATCAGCCCATGATCAGTTGATGGCCATTTGGNTGCGACCCCAGGTCAGGTGAGGCAACCCGCTGAGG',\n",
              " 'CGTAACAAGGATTCCGTAGGTGAACCTGCGGGAGGATCATTGTTGAGATCACATAATAATTGATCGAGTAATCTGGAGGATCTGTTTACTTTGGTCACCCATGGGCATTTCCTGTTGAAGTGACCTAGAGTTGCCATCGAGCCTCCCTGGGAGCTTTCTTGTTGGCGAGAACTAAACCCTTACCCGGCGCAATTTTGCCCCCAGTCAAATGACACATAAGTGGTGAAGGGGGTGGCATCCTATCTCGGCTCTTGCATCGATGAAGAACCCAGCGAAATGCGATAAATGGTGTGAATTGCAGAATCCCGTGAACCATCGAGTCTTTGAACGCAAGTTGCGCCCGAGGCCATCAGGCCAAGGGCACGCCTGCCTGGGCATTGCGAGTCATATCTCTCCCTTAACGAGGCTGTCCATACATACTGTTCAGCCGGTGCGGATGTGAGTTTGGCCCCTTGTTCTTTGGTACGGGGGGTCTAAGAGCTGCATGGGCTTTTGATGGTCCTAAATACGGCAAGAGGTGGACGAACTATGCTACACCAAAATTGTTGTGCAAAGGCCCCGGGTTGTCGTATTAGATGGGCCACCGTAATCTGAAGACCCTTTTGAACCCCATTGGAGGCCCATCAACCCATGATCAGTTGATGGCCATTTGGTTGCGACCCCAGTCAGGTGAGGCAACCCGCTGAGTTTAAGC',\n",
              " 'CGTAACAAGGTTTCCGTAGGTGAACCTCCGGAAGGATCATTGTTGAGATCACATAATAATTGATCGAGTTAATCTGGAGGATCTGTTTACTTTGGTCACCCATGAGCATTTCCTGTTGAAGTGACCTAGATTTGCCATCGAGCCTCCTTGGGAGCTTTCTTGTTGGCGAGATCTAAACCCTTGCCCGGCGCAGTTTTGCGCCAAGTCATATGACACATAATTGGTGAAGGGGGTGGCATCCTCCCCAAATAATTTTTTAACAACTCTCAGCAACGGATACTCGGCTCTTCATCGATGGAGGACCAGCGAAATTGCGATAATGGTGTGATTGCAGAATCCCGTGAACATCGAGTCTTTGAACGCAAGTTGCGCCCGAGGCCATCAGGCCAAGGGCACGCCTGCCTGGGATTGCGAGTCATATCTCTCCCTTAACGAGGCTGTCCATACATACTGTTCAGCCGGTGCAGATGTGAGTTTGGCCCCTTGTTCTTCGGTACGGGGGGTCTAAGAGCTGCATGGGCTTTTGATGGCCCTAAATACGGCAAGAGGTGGACGAACTATGCTACAACAAAATTGTTGTGCAAAGGCTCCGGGTTGTCGTATTAGATGGGCCACCGTAATCTGAAGACCCTTTTGAACCCCATTGGAGGCCCATCAACCCATGATCAGTTGATGGCCATTTGGTTGCGACCCAGGTCAGGTGAGGCAACCC',\n",
              " 'CGTAACAAGGTTTCCGTAGGTGAACCTGCGGAAGGATCATTGTTGAGATCACATAATAATTGATCGGGTTAATCTGGAGGATCTGTTTACTTTGGTCACCCATGAGCATTTGCTGTTGAAGTGACCTAGAATTGCCATCGAGCCTCCTTGGGAGCTTTCTTGTTGGCGAGATCTAAACCCTTGCCCGGCGCAGTTTTGCTCCAAGTCGTTTGACACATAATTGGTGAAGGGGGTGGCATCCTTCCCTGACCCTCCCCCAACTATTTTTTTAACAACTCTCAGCAACGGAGACTCAGTCTTCGGCAAATGCGATAAATGGTGTGAATTGCAGAATCCCGTGCACCATCGAGTCTTTGAACGCAAGTTGCGCCCGAGGCCATCAGGCCAAGGGCACGCCTGCCTGGGCATTGCGAGTCATATCTCTCCCTTAACGAGGCTGTCCATACATACTGTTCAGCCGGTGCGGATGTGAGTTTGGCCCCTTGTTCTTTGGTACGGGGGGTCTAAGAGCTGCATGGGCTTTTGATGGTCCTAAATACGGCAAGAGGTGGACGAACTATGCTACAACAAAATTGTTGTGCAGAGGCCCCGGGTTGTCGTATTAGATGGGCCACCGTAATCTGAAGACCCTTTTGAACCCCATTGGAGGCCCATCAACCCATGATCAGTTGATGGCCATTTGGTTGCGACCCCAGGTCAGGTGAGCAACAGCTGT',\n",
              " 'CGTAACAAGGTTTCCGTAGGGTGAACTGCGGAAGGATCATTGTTGAGATCACATAATAATTGATCGAGTTAATCTGGAGGATCTGTTTACTTGGGTCACCCATGGGCATTTGCTGTTGAAGTGACCTAGATTTGCCATCGAGCCTCCTTGGGAGCATCCTTGTTGGCGATATCTAAACCCTCAATTTTTCCCCCAATCAAATTACACAAAATTGGTGGAGGGGGTGGCATTCTTCCCTTACCCTCCCCCAAATATTTTTTTAACAACTCTCAGCAACGGATATCTCAGCTCTTGCATCGATGAAGAACCCACCGAAATGCGATAAATGGTGTGAATTGCAGAATCCCGTGAACCATCGAGTCTTTGAACGCAAGTTGCGCCCGAGGCCATCAGGCCAAGGGCACGCCTGCCTGGGCATTGCGAGTCATATCTCTCCCTTAACGAGGCTGTCCATACATACTGTTCAGCCGGTGCGGATGTGAGTTTGGCCCCTTGTTCTTTGGTACGGGGGGTCTAAGAGATGCATGGGCTTTTGATGGTCCTAAATACGGCAAGAGGTGGACGAACTATGCTACAACAAAATTGTTGTGCAAAGGCCCCGGGTTGTCGTATAAGATGGGCCACCGATATCTGAAGACCCTTTTGGACCCCATTGGAGCCCATCAACCCATGTCAGTTGATGGCCATT',\n",
              " 'CGTAACAAGGTTTCCGTAGGTGAACCTGCGGAAGGATCATTGTTGAGATCACATAATAATTGATCGAGTTAATCTGGAGGATCTGTTTACTTGGGTCACCCATGGGCATTTGCTGTTGAAGTGACCTAGATTTGCCATCGAGCCTCCTTGGGAGCTTTCTTGTTGGCGATATCTAAACCCTTGCCCGGCAGAGTTTTGGGCCACANNNNNNNNNNNNNNNNNNNNNNNNNNNNNNNNNNNNNNNNNNNNNNNNNNNNNNNNNNNNNNNNNNNNNNNNNNNNNNNNNNNNNNNNNNNNNNNNNNNNNNNNNNNNNNNNNNNNNNNNNNNNNNNNNNNNNNNNNNNNNNNNNNNNNNNNNNNNNNNNNNNNNNNNNNNNNNCAGCGAAATGCGATAATGGTGTGAATTGCAGAATCCCGTGAACCATCGAGTCTTTGAACGCAAGTTGCGCCCGAGGCCATCAGGCCAAGGGCACGCCTGCCTGGGCATTGCGAGTCATATCTCTCCCTTAACGAGGCTGTCCATACACACCTGTTCAGCCGGTGCGGATGTGAGTTTGGCCCCTTGTTCTTTGGTACGGGGGGTCTAAGAGCTGCATGGGCTTTTGATGGTCCTAAATACGGCAAGAGGTGGACGAACTATGCTACAACAAAATTGTTGTGCAAAGGCCCCGGGTTGTCGTATTAGATGGGCCACCATAATCTGAAGACCCTTTTGAACCCCATTGGAGGCCCATCAACCCATGATCAGTTGATGGCCATTTGGTTGCGACCCAGTCAGGTGAGG',\n",
              " 'GTAGGTGAACCTGCGGAAGGATCATTGTTGAGATCACATAATAATTGATCGAGTTAATCTGGAGGATCTGTTTACTTTGGTCACCCATGGGCATTTGCTGTTGAAGTGACCTAGATTTGCCATCGAGCCTCCTTGGGAGCTTTCTTGTTGGCGAGATCTAAACCCTTGCCCGGCGGAGTTTGGCGCCAAGTCATATGACACATAATTGGTGAAGGGGGTGGCATCCTGCCCTGACCCTCCCCAAATTATTTTTTTAACAACTCTCAGCAACGGATATCTCGGCTCTTGCATCGATGAAGAACGCAGCGAAATGCGATAAATGGTGTGAATTGCAGAATCCCGTGAACCATCGAGTCTTTGGAACGCAAGTTGCGCCCGAGGCCATCAGGCCAAGGGCACGCCTGCCTGGGCATTGGGAATCATATCTCTCCCCTAACGAGGCTATCCAAACATACTGTTCATCCGGTGCGGATGTGAGTTTGGCCCCTTGTTCTTTGGTACCGGGGGTCTAAGAGCTGCATGGGCATTTGATGGTCCTCAAAACGGCAAGAGGTGGACGAACTATGCCACAACAAAATTGTTGTCCCAAGGCCCCGGGTTGTCGTATTAGATGGGCCACCGTAACCTGAAGACCCTTTTGAACCCCATTGGAGGCCCATCAACCCATGATCAGTTGATGACCATTTGTTGCGACCCCAGTCAGCTGAGCAACCCGCTGAGT',\n",
              " 'GGAAGGTCATTGCCGATATCACATAATAATTGATCGAGTTAATCTGGAGGATCTGTTTACTTGGTCACCCATGAGCATTTGCTGTTGAAGTGACCTAGATTTGCCATCGAGCCTCCTTGGGAGTTTTCTTGTTGGCGAGATCTAAACCCTTGCCCGGCGGAGTTGTGCGCCAAGTCATATGACACATAATTGGTGAAGGGGGTGGCATCCTGCCCTGACCCTCCCCAAATTATTTTTTTAACAACTCTCAGCAACGGATATCTCGGCTCTTGCATCGATGAAGAACGCAGCGAAATGCGATAAATGGTGTGAATTGCAGAATCCCGTGAACCATCGAGTCTTTGAACGCAAGTTGCGCCCGAGGCCATCAGGCCAAGGGCACGCCTGCCTGGGCATTGCGAGTCATATCTCTCCCTTAACGAGGCTGTCCATACATACTGTTCATCCGGTGCGGATGTGAGTTTGGCCCCTTGTTCTTTGGTACGGGGGGTCTAAGAGCTGCATGGGCATTTGATGGTCCTCAAAACGGCAAGAGGTGGACGAACTATGCTACAACCAAATTGTTGTCCCAAGGCCCCGGGTTGTCGTATTAGATGGGCCACCGTAACCTGAAGACCCTTTTGAACCCCATTGGAGGCCCATCAACCCATGATCAGTTGATGACCATGTGTTGCGACCCCAGTCAGCTGAGCAACGCGCTGAG',\n",
              " 'CGTAACAAGGTTTCCGTAGGTGGACCTCCGGGAGGATCATTGTTGAGATCACATAATAATTGATCGAGGTAATCTGGAGGATCTGCATATTTTGGTCACCCATGGGCAATTTCTGTTGTAGTGACCTAGAATTTCCATCGACCCTCCTTGGGAGCATTCTTGTTGGCGAGAACTAAACCCTTACCCGGCGCAGTTTTTCCCCCAATCAAATTACACAAAAATGGTGGAGGGGGTGGCATATCTTCCCTTACCCTCCCCCAAATAATTTTTTAACAACTCTCAGCAACGGATATCTCAGCTCTTGCATCGTTGAAGAACCCACCGAAATGCGATAAATGGTGTGAATTGCAGAATCCCGTGAACCATCGAGTCTTTGAACGCAAGTTGCGCCCGAGGCCATCAGGCCAAGGGCACGCCTGCCTGGGCATTGCGAGTCATATCTCTCCCTTAACGAGGCTGTCCATACATACTGTTCAGCCGGTGCGGATGTGAGTTTGGCCCCTTGTTCTTTGCTACGGGGGGTCTAAGAGCTGCATGGGCTTTTGATGGTCCTAAATACGGCAAGAGGTGGACGAACTATGCTACAGCAAAATTGTTGTGCAAAGGCCCCGGGTTGTCGTATTAGATGGGCCACCGTAATCTGAAGACCCTTTTGAACCCCATTGGAGGCCCATCAACCCATGATCAGTTGATGGCCATTTGGTTGCGACCCCAGGTCAGGTGAGGCAACCCCTGAGTTTAGCA',\n",
              " 'CATTGTTGAGATCACATAATAATTGATCGAGTTAATCTGGAGGATCTGTTTACTTTGGTCACCCATGGGCATTTGCTGTTGAAGTGACCTAGATTTGCCATCGAGCCTCCTTGGGAGCTTTCTTGTTGGCGAGATCTAAACCCCTGCCCGGCGGAGTTGGGCGCCAAGTCATATGACACATAATTGGTGAAGGGGGTGGTAATCCTGCCCTGACCCTCCCCAAATTATTTTTTTAACAACTCTCAGCAACGGATATCTCGGCTCTTGCATCGATGAAGAACGCAGCGAAATGCGATAATGGTGTGAATTGCAGAATCCCGTGAACATCGAGTCTTTGAACGCAAGTTGCGCCCGAGGCCATCAGGCCAAGGGCACGCCTGCCTGGGCATTGCGAGTCATATCTCTCCCTTAATGAGGCTGTCCATACATACTGTTCAGCCGGTGCGGATGTGAGTTTGGCCCCTTGTTCTTTGGTACGGGGGGTCTAAGAGCTGCATGGGCTTTGGATGGTCCTAAATACGGAAAGAGGTGGACGAACTATGCTACAACAAAATTGTTGTGCAAATGCCCCGGTTGGCCGTTTAGTTGGGCC']"
            ]
          },
          "metadata": {},
          "execution_count": 8
        }
      ]
    },
    {
      "cell_type": "code",
      "source": [
        "!wget https://hgdownload.soe.ucsc.edu/goldenPath/hg38/bigZips/xenoMrna.fa.gz"
      ],
      "metadata": {
        "colab": {
          "base_uri": "https://localhost:8080/"
        },
        "id": "Zye_kQOqIQK2",
        "outputId": "abe40843-4e06-4553-98fe-7967c568f9c3"
      },
      "execution_count": null,
      "outputs": [
        {
          "output_type": "stream",
          "name": "stdout",
          "text": [
            "--2024-07-24 09:50:19--  https://hgdownload.soe.ucsc.edu/goldenPath/hg38/bigZips/xenoMrna.fa.gz\n",
            "Resolving hgdownload.soe.ucsc.edu (hgdownload.soe.ucsc.edu)... 128.114.119.163\n",
            "Connecting to hgdownload.soe.ucsc.edu (hgdownload.soe.ucsc.edu)|128.114.119.163|:443... connected.\n",
            "HTTP request sent, awaiting response... 200 OK\n",
            "Length: 6894190900 (6.4G) [application/x-gzip]\n",
            "Saving to: ‘xenoMrna.fa.gz’\n",
            "\n",
            "xenoMrna.fa.gz      100%[===================>]   6.42G  26.5MB/s    in 86s     \n",
            "\n",
            "2024-07-24 09:51:45 (76.6 MB/s) - ‘xenoMrna.fa.gz’ saved [6894190900/6894190900]\n",
            "\n"
          ]
        }
      ]
    },
    {
      "cell_type": "code",
      "source": [
        "!gunzip xenoMrna.fa.gz"
      ],
      "metadata": {
        "id": "Az0dHUgDJ7Sl"
      },
      "execution_count": null,
      "outputs": []
    },
    {
      "cell_type": "code",
      "source": [
        "from Bio.SeqIO.FastaIO import SimpleFastaParser\n",
        "import time\n",
        "\n",
        "start_time = time.time()\n",
        "count = 0\n",
        "with open(\"xenoMrna.fa\", \"r\") as handle:\n",
        "    for title, sequence in SimpleFastaParser(handle):\n",
        "        count += 1\n",
        "end_time = time.time()\n",
        "print(count)\n",
        "print(end_time - start_time)"
      ],
      "metadata": {
        "colab": {
          "base_uri": "https://localhost:8080/"
        },
        "id": "l2m_fDT_N5gY",
        "outputId": "41877fdf-da09-435d-8151-e2af4252f45e"
      },
      "execution_count": null,
      "outputs": [
        {
          "output_type": "stream",
          "name": "stdout",
          "text": [
            "25855502\n",
            "302.2867798805237\n"
          ]
        }
      ]
    },
    {
      "cell_type": "code",
      "source": [
        "start_time = time.time()\n",
        "count = 0\n",
        "for record in SeqIO.parse(\"xenoMrna.fa\", \"fasta\"):\n",
        "    count += 1\n",
        "end_time = time.time()\n",
        "print(count)\n",
        "print(end_time - start_time)"
      ],
      "metadata": {
        "colab": {
          "base_uri": "https://localhost:8080/"
        },
        "id": "Ly7MkX3IPVpt",
        "outputId": "2686df4b-3e42-477b-ef80-76419bbf6625"
      },
      "execution_count": null,
      "outputs": [
        {
          "output_type": "stream",
          "name": "stdout",
          "text": [
            "25855502\n",
            "502.5709431171417\n"
          ]
        }
      ]
    },
    {
      "cell_type": "code",
      "source": [
        "from Bio import SeqIO\n",
        "\n",
        "max_sequence_id = None\n",
        "max_gc_content = 0\n",
        "for seq_record in SeqIO.parse(\"/content/drive/MyDrive/Biopython/ls_orchid.fasta\", \"fasta\"):\n",
        "    sequence = str(seq_record.seq)\n",
        "    sequence_id = seq_record.id\n",
        "    gc_content = (sequence.count(\"G\") + sequence.count(\"C\")) / len(sequence) * 100\n",
        "    if gc_content > max_gc_content:\n",
        "        max_gc_content = gc_content\n",
        "        max_sequence_id = sequence_id\n",
        "print(max_sequence_id)\n",
        "print(max_gc_content)"
      ],
      "metadata": {
        "colab": {
          "base_uri": "https://localhost:8080/"
        },
        "id": "berIlingR4Zb",
        "outputId": "66c06c51-7244-44b3-abd0-3bfe08e50bdd"
      },
      "execution_count": null,
      "outputs": [
        {
          "output_type": "stream",
          "name": "stdout",
          "text": [
            "gi|2765658|emb|Z78533.1|CIZ78533\n",
            "59.5945945945946\n"
          ]
        }
      ]
    },
    {
      "cell_type": "code",
      "source": [
        "from Bio.Seq import Seq\n",
        "seq = Seq(\"AGTACACTGGT\")\n",
        "print(seq)"
      ],
      "metadata": {
        "colab": {
          "base_uri": "https://localhost:8080/"
        },
        "id": "001j8XtRT2B-",
        "outputId": "3c679ac3-ade2-49ac-cc6f-4951ff5f8809"
      },
      "execution_count": null,
      "outputs": [
        {
          "output_type": "stream",
          "name": "stdout",
          "text": [
            "AGTACACTGGT\n"
          ]
        }
      ]
    },
    {
      "cell_type": "code",
      "source": [
        "seq.count(\"G\")"
      ],
      "metadata": {
        "colab": {
          "base_uri": "https://localhost:8080/"
        },
        "id": "kht1FbshT75T",
        "outputId": "a4c27e74-bd59-4d4c-d1f5-6fc300b4f48a"
      },
      "execution_count": null,
      "outputs": [
        {
          "output_type": "execute_result",
          "data": {
            "text/plain": [
              "3"
            ]
          },
          "metadata": {},
          "execution_count": 28
        }
      ]
    },
    {
      "cell_type": "code",
      "source": [
        "seq.count_overlap(\"ACT\")"
      ],
      "metadata": {
        "colab": {
          "base_uri": "https://localhost:8080/"
        },
        "id": "SPziKoGsUT0V",
        "outputId": "006b0340-9505-49ba-c746-fba38541a8cf"
      },
      "execution_count": null,
      "outputs": [
        {
          "output_type": "execute_result",
          "data": {
            "text/plain": [
              "1"
            ]
          },
          "metadata": {},
          "execution_count": 29
        }
      ]
    },
    {
      "cell_type": "code",
      "source": [
        "import Bio.SeqUtils\n",
        "Bio.SeqUtils.gc_fraction(seq)"
      ],
      "metadata": {
        "colab": {
          "base_uri": "https://localhost:8080/"
        },
        "id": "KlQCHyKLUYZu",
        "outputId": "3939fe1d-1825-4d97-a056-2699ca7f3789"
      },
      "execution_count": null,
      "outputs": [
        {
          "output_type": "execute_result",
          "data": {
            "text/plain": [
              "0.45454545454545453"
            ]
          },
          "metadata": {},
          "execution_count": 32
        }
      ]
    },
    {
      "cell_type": "code",
      "source": [
        "coding_dna = Seq(\"ATGGCCATTGTAATGGGCCGCTGAAAGGGTGCCCGATAG\")\n",
        "coding_dna.reverse_complement()"
      ],
      "metadata": {
        "colab": {
          "base_uri": "https://localhost:8080/"
        },
        "id": "4KcNcLLlVDX8",
        "outputId": "b381c07d-b792-4223-b303-41f55336db17"
      },
      "execution_count": null,
      "outputs": [
        {
          "output_type": "execute_result",
          "data": {
            "text/plain": [
              "Seq('CTATCGGGCACCCTTTCAGCGGCCCATTACAATGGCCAT')"
            ]
          },
          "metadata": {},
          "execution_count": 33
        }
      ]
    },
    {
      "cell_type": "code",
      "source": [
        "mrna = coding_dna.transcribe()\n",
        "mrna"
      ],
      "metadata": {
        "colab": {
          "base_uri": "https://localhost:8080/"
        },
        "id": "wtGC3nT4VzCy",
        "outputId": "62296c54-f1b5-4b7d-c077-90e75b229457"
      },
      "execution_count": null,
      "outputs": [
        {
          "output_type": "execute_result",
          "data": {
            "text/plain": [
              "Seq('AUGGCCAUUGUAAUGGGCCGCUGAAAGGGUGCCCGAUAG')"
            ]
          },
          "metadata": {},
          "execution_count": 34
        }
      ]
    },
    {
      "cell_type": "code",
      "source": [
        "mrna.back_transcribe() == coding_dna"
      ],
      "metadata": {
        "colab": {
          "base_uri": "https://localhost:8080/"
        },
        "id": "QGc0XbJXV42s",
        "outputId": "6f950aa4-555d-4cfb-ebe5-d7ac1ef3559b"
      },
      "execution_count": null,
      "outputs": [
        {
          "output_type": "execute_result",
          "data": {
            "text/plain": [
              "True"
            ]
          },
          "metadata": {},
          "execution_count": 35
        }
      ]
    },
    {
      "cell_type": "code",
      "source": [
        "mrna.translate() #스탑코돈은 *"
      ],
      "metadata": {
        "colab": {
          "base_uri": "https://localhost:8080/"
        },
        "id": "cdLVrIdMV_W1",
        "outputId": "b743c2f5-2a83-4066-a68a-0088c881c6c7"
      },
      "execution_count": null,
      "outputs": [
        {
          "output_type": "execute_result",
          "data": {
            "text/plain": [
              "Seq('MAIVMGR*KGAR*')"
            ]
          },
          "metadata": {},
          "execution_count": 36
        }
      ]
    },
    {
      "cell_type": "code",
      "source": [
        "coding_dna.translate()"
      ],
      "metadata": {
        "colab": {
          "base_uri": "https://localhost:8080/"
        },
        "id": "zh9Ypo6PWLAF",
        "outputId": "9bd7af63-e3fe-4a52-b70f-434f1f3642c9"
      },
      "execution_count": null,
      "outputs": [
        {
          "output_type": "execute_result",
          "data": {
            "text/plain": [
              "Seq('MAIVMGR*KGAR*')"
            ]
          },
          "metadata": {},
          "execution_count": 37
        }
      ]
    },
    {
      "cell_type": "code",
      "source": [
        "!rm -f SRR003265.filt.fastq.gz 2>/dev/null\n",
        "!wget -nd ftp://ftp.1000genomes.ebi.ac.uk/vol1/ftp/phase3/data/NA18489/sequence_read/SRR003265.filt.fastq.gz"
      ],
      "metadata": {
        "colab": {
          "base_uri": "https://localhost:8080/"
        },
        "id": "IFzJLckHWUFf",
        "outputId": "af3c114e-f71a-4e99-f075-9703fa2e824d"
      },
      "execution_count": null,
      "outputs": [
        {
          "output_type": "stream",
          "name": "stdout",
          "text": [
            "--2024-07-24 10:46:16--  ftp://ftp.1000genomes.ebi.ac.uk/vol1/ftp/phase3/data/NA18489/sequence_read/SRR003265.filt.fastq.gz\n",
            "           => ‘SRR003265.filt.fastq.gz’\n",
            "Resolving ftp.1000genomes.ebi.ac.uk (ftp.1000genomes.ebi.ac.uk)... 193.62.193.167\n",
            "Connecting to ftp.1000genomes.ebi.ac.uk (ftp.1000genomes.ebi.ac.uk)|193.62.193.167|:21... connected.\n",
            "Logging in as anonymous ... Logged in!\n",
            "==> SYST ... done.    ==> PWD ... done.\n",
            "==> TYPE I ... done.  ==> CWD (1) /vol1/ftp/phase3/data/NA18489/sequence_read ... done.\n",
            "==> SIZE SRR003265.filt.fastq.gz ... 28919712\n",
            "==> PASV ... done.    ==> RETR SRR003265.filt.fastq.gz ... done.\n",
            "Length: 28919712 (28M) (unauthoritative)\n",
            "\n",
            "SRR003265.filt.fast 100%[===================>]  27.58M  12.2MB/s    in 2.3s    \n",
            "\n",
            "2024-07-24 10:46:20 (12.2 MB/s) - ‘SRR003265.filt.fastq.gz’ saved [28919712]\n",
            "\n"
          ]
        }
      ]
    },
    {
      "cell_type": "code",
      "source": [
        "from collections import defaultdict\n",
        "import gzip\n",
        "import Bio.SeqIO\n",
        "\n",
        "%matplotlib inline\n",
        "import matplotlib.pyplot as plt\n",
        "import seaborn as sns"
      ],
      "metadata": {
        "id": "kF8-5w0NWeCR"
      },
      "execution_count": null,
      "outputs": []
    },
    {
      "cell_type": "code",
      "source": [
        "recs = SeqIO.parse(gzip.open(\"SRR003265.filt.fastq.gz\", 'rt', encoding='utf-8'), \"fastq\")\n",
        "rec = next(recs)\n",
        "print(rec)\n",
        "print('-------------------')\n",
        "print(rec.id)\n",
        "print('-------------------')\n",
        "print(rec.seq)\n",
        "print('-------------------')\n",
        "print(rec.description)\n",
        "print('-------------------')\n",
        "print(rec.letter_annotations)"
      ],
      "metadata": {
        "colab": {
          "base_uri": "https://localhost:8080/"
        },
        "id": "N4zGTQW3Wtyu",
        "outputId": "9ae543ca-3f56-427f-9201-aacffbc8bb1c"
      },
      "execution_count": null,
      "outputs": [
        {
          "output_type": "stream",
          "name": "stdout",
          "text": [
            "ID: SRR003265.31\n",
            "Name: SRR003265.31\n",
            "Description: SRR003265.31 3042NAAXX:3:1:1252:1819 length=51\n",
            "Number of features: 0\n",
            "Per letter annotation for: phred_quality\n",
            "Seq('GGGAAAAGAAAAACAAACAAACAAAAACAAAACACAGAAACAAAAAAACCA')\n",
            "-------------------\n",
            "SRR003265.31\n",
            "-------------------\n",
            "GGGAAAAGAAAAACAAACAAACAAAAACAAAACACAGAAACAAAAAAACCA\n",
            "-------------------\n",
            "SRR003265.31 3042NAAXX:3:1:1252:1819 length=51\n",
            "-------------------\n",
            "{'phred_quality': [40, 40, 40, 40, 40, 40, 40, 40, 40, 40, 40, 40, 40, 40, 40, 40, 40, 40, 40, 30, 23, 40, 32, 35, 29, 40, 16, 40, 40, 32, 35, 31, 40, 40, 39, 22, 40, 24, 20, 28, 31, 12, 31, 10, 22, 28, 13, 26, 20, 23, 23]}\n"
          ]
        }
      ]
    },
    {
      "cell_type": "code",
      "source": [
        "recs = SeqIO.parse(gzip.open(\"SRR003265.filt.fastq.gz\", 'rt', encoding='utf-8'), \"fastq\")\n",
        "count = defaultdict(int)\n",
        "for rec in recs:\n",
        "    for letter in rec.seq:\n",
        "        count[letter] += 1\n",
        "tot = sum(count.values())\n",
        "for letter,count in count.items():\n",
        "    print(letter, count, count/tot)\n",
        "\n",
        "# N - uncalled base"
      ],
      "metadata": {
        "colab": {
          "base_uri": "https://localhost:8080/"
        },
        "id": "c9gWLIhbYclR",
        "outputId": "c4a35113-98ea-4021-911d-e33f12de5a25"
      },
      "execution_count": null,
      "outputs": [
        {
          "output_type": "stream",
          "name": "stdout",
          "text": [
            "G 5359334 0.2067682101902635\n",
            "A 7411965 0.2859606691881634\n",
            "C 5444053 0.21003674990044185\n",
            "T 7666885 0.2957957255854139\n",
            "N 37289 0.0014386451357173739\n"
          ]
        }
      ]
    },
    {
      "cell_type": "code",
      "source": [
        "recs = SeqIO.parse(gzip.open(\"SRR003265.filt.fastq.gz\", 'rt', encoding='utf-8'), \"fastq\")\n",
        "n_cnt = defaultdict(int)\n",
        "for rec in recs:\n",
        "    for i, letter in enumerate(rec.seq):\n",
        "        pos = i + 1\n",
        "        if letter == 'N':\n",
        "            n_cnt[pos] += 1\n",
        "print(n_cnt)\n",
        "seq_len = max(n_cnt.keys())\n",
        "positions = range(1, seq_len+1)\n",
        "fig, ax = plt.subplots(figsize=(16,9))\n",
        "ax.plot(positions, [n_cnt[x] for x in positions])\n",
        "ax.set_xlim(1, seq_len)\n",
        "pass"
      ],
      "metadata": {
        "colab": {
          "base_uri": "https://localhost:8080/",
          "height": 539
        },
        "id": "X69HogUYZOPI",
        "outputId": "b687bb01-932c-4643-8038-561f2a2812f1"
      },
      "execution_count": null,
      "outputs": [
        {
          "output_type": "stream",
          "name": "stdout",
          "text": [
            "defaultdict(<class 'int'>, {32: 3978, 33: 4662, 34: 3988, 29: 2472, 30: 3108, 31: 4192, 35: 1668, 36: 1006, 51: 1226, 37: 1661, 47: 866, 45: 1145, 49: 423, 28: 1792, 39: 454, 44: 501, 46: 414, 48: 464, 38: 559, 50: 651, 42: 220, 41: 768, 43: 383, 26: 61, 40: 579, 27: 48})\n"
          ]
        },
        {
          "output_type": "display_data",
          "data": {
            "text/plain": [
              "<Figure size 1600x900 with 1 Axes>"
            ],
            "image/png": "[encoded data removed]"
          },
          "metadata": {}
        }
      ]
    },
    {
      "cell_type": "code",
      "source": [
        "recs = SeqIO.parse(gzip.open(\"SRR003265.filt.fastq.gz\", 'rt', encoding='utf-8'), \"fastq\")\n",
        "cnt_qual = defaultdict(int)\n",
        "for rec in recs:\n",
        "    for i, qual in enumerate(rec.letter_annotations['phred_quality']):\n",
        "        if i < 25:\n",
        "            continue\n",
        "        cnt_qual[qual] += 1\n",
        "tot = sum(cnt_qual.values())\n",
        "for letter,count in cnt_qual.items():\n",
        "    print(letter, count, count/tot)"
      ],
      "metadata": {
        "colab": {
          "base_uri": "https://localhost:8080/"
        },
        "id": "KPkjz56ZakHj",
        "outputId": "0c8626c3-d389-42a0-da71-30f823be6c2a"
      },
      "execution_count": null,
      "outputs": [
        {
          "output_type": "stream",
          "name": "stdout",
          "text": [
            "40 3007221 0.2275805373079027\n",
            "16 270431 0.020465683195453024\n",
            "32 136763 0.010349953336931571\n",
            "35 120704 0.009134639979972568\n",
            "31 142464 0.010781393740943232\n",
            "39 102568 0.007762143371104739\n",
            "22 209905 0.01588519522962074\n",
            "24 193259 0.014625458873687025\n",
            "20 228923 0.017324439853983797\n",
            "28 162226 0.01227694281375124\n",
            "12 309918 0.023453981254251213\n",
            "10 654154 0.04950508087104798\n",
            "13 301033 0.022781582027862225\n",
            "26 176263 0.013339235210017106\n",
            "23 201164 0.01522369363841465\n",
            "37 111179 0.008413806819437385\n",
            "34 125624 0.00950697584872145\n",
            "21 219602 0.016619045009957714\n",
            "30 149449 0.0113100047253357\n",
            "33 131291 0.009935843199981595\n",
            "25 184846 0.013988779673730857\n",
            "17 259779 0.01965956090400727\n",
            "38 106290 0.00804381696937371\n",
            "4 630923 0.04774700473956317\n",
            "36 115701 0.008756022835389102\n",
            "18 248982 0.018842465299356525\n",
            "11 318303 0.024088541469588484\n",
            "19 239621 0.018134043334446306\n",
            "5 645266 0.048832454610592685\n",
            "9 332259 0.02514470394606397\n",
            "3 533458 0.04037104631525224\n",
            "27 168902 0.01278216928931375\n",
            "8 334410 0.025307487371608452\n",
            "29 154892 0.011721920199644676\n",
            "15 280719 0.02124425868685312\n",
            "7 331743 0.025105654086658602\n",
            "2 498679 0.037739040384517\n",
            "14 291341 0.02204811063763577\n",
            "6 330834 0.02503686276456658\n",
            "1 200558 0.01517783275701997\n",
            "0 52229 0.003952587416440112\n"
          ]
        }
      ]
    },
    {
      "cell_type": "code",
      "source": [
        "recs = SeqIO.parse(gzip.open(\"SRR003265.filt.fastq.gz\", 'rt', encoding='utf-8'), \"fastq\")\n",
        "qual_pos = defaultdict(list)\n",
        "for rec in recs:\n",
        "    for i, qual in enumerate(rec.letter_annotations['phred_quality']):\n",
        "        if i < 25 or qual == 40:\n",
        "            continue\n",
        "        pos = i + 1\n",
        "        qual_pos[i].append(qual)\n",
        "vps = []\n",
        "poses = list(qual_pos.keys())\n",
        "poses.sort()\n",
        "for pos in poses:\n",
        "    vps.append(qual_pos[pos])\n",
        "fig, ax = plt.subplots(figsize=(16,9))\n",
        "sns.boxplot(vps)\n",
        "ax.set_xticklabels([str(x) for x in range(26, max(qual_pos.keys())+1)])\n",
        "pass"
      ],
      "metadata": {
        "colab": {
          "base_uri": "https://localhost:8080/",
          "height": 544
        },
        "id": "WvFjMaIMeqJ0",
        "outputId": "a631f1c9-46e0-48b6-ae63-a111f3409700"
      },
      "execution_count": null,
      "outputs": [
        {
          "output_type": "stream",
          "name": "stderr",
          "text": [
            "<ipython-input-52-221722334578>:16: UserWarning: FixedFormatter should only be used together with FixedLocator\n",
            "  ax.set_xticklabels([str(x) for x in range(26, max(qual_pos.keys())+1)])\n"
          ]
        },
        {
          "output_type": "display_data",
          "data": {
            "text/plain": [
              "<Figure size 1600x900 with 1 Axes>"
            ],
            "image/png": "[encoded data removed]"
          },
          "metadata": {}
        }
      ]
    },
    {
      "cell_type": "code",
      "source": [
        "from Bio import Entrez, SeqIO"
      ],
      "metadata": {
        "id": "RxC6rtldf8xL"
      },
      "execution_count": null,
      "outputs": []
    },
    {
      "cell_type": "code",
      "source": [
        "Entrez.email = \"chltjs1921@gmail.com\""
      ],
      "metadata": {
        "id": "6Ak0UMvLgBkN"
      },
      "execution_count": null,
      "outputs": []
    },
    {
      "cell_type": "code",
      "source": [
        "handle = Entrez.einfo()\n",
        "record = Entrez.read(handle)\n",
        "handle.close()\n",
        "print(record.keys())"
      ],
      "metadata": {
        "colab": {
          "base_uri": "https://localhost:8080/"
        },
        "id": "MxqlBbBCgOHz",
        "outputId": "64a0506d-f67a-4578-a9e8-76581e72b876"
      },
      "execution_count": null,
      "outputs": [
        {
          "output_type": "stream",
          "name": "stdout",
          "text": [
            "dict_keys(['DbList'])\n"
          ]
        }
      ]
    },
    {
      "cell_type": "code",
      "source": [
        "record['DbList']"
      ],
      "metadata": {
        "colab": {
          "base_uri": "https://localhost:8080/"
        },
        "id": "ImahjcqMhgy7",
        "outputId": "43d44622-bed8-4e1a-ee6a-2cd4ee474ec4"
      },
      "execution_count": null,
      "outputs": [
        {
          "output_type": "execute_result",
          "data": {
            "text/plain": [
              "['pubmed', 'protein', 'nuccore', 'ipg', 'nucleotide', 'structure', 'genome', 'annotinfo', 'assembly', 'bioproject', 'biosample', 'blastdbinfo', 'books', 'cdd', 'clinvar', 'gap', 'gapplus', 'grasp', 'dbvar', 'gene', 'gds', 'geoprofiles', 'medgen', 'mesh', 'nlmcatalog', 'omim', 'orgtrack', 'pmc', 'popset', 'proteinclusters', 'pcassay', 'protfam', 'pccompound', 'pcsubstance', 'seqannot', 'snp', 'sra', 'taxonomy', 'biocollections', 'gtr']"
            ]
          },
          "metadata": {},
          "execution_count": 56
        }
      ]
    },
    {
      "cell_type": "code",
      "source": [
        "handle = Entrez.esearch(db='nucleotide', term='CRT[Gene Name] AND \"Plasmodium falciparum\"[Organism]', retmax='40')\n",
        "record = Entrez.read(handle)\n",
        "handle.close()\n",
        "record['Count']"
      ],
      "metadata": {
        "colab": {
          "base_uri": "https://localhost:8080/",
          "height": 36
        },
        "id": "yh-antO2iTF9",
        "outputId": "9c2272ed-845d-4788-e8b2-2813b4bf7840"
      },
      "execution_count": null,
      "outputs": [
        {
          "output_type": "execute_result",
          "data": {
            "text/plain": [
              "'3091'"
            ],
            "application/vnd.google.colaboratory.intrinsic+json": {
              "type": "string"
            }
          },
          "metadata": {},
          "execution_count": 60
        }
      ]
    },
    {
      "cell_type": "code",
      "source": [
        "len(record['IdList'])"
      ],
      "metadata": {
        "colab": {
          "base_uri": "https://localhost:8080/"
        },
        "id": "yS7UBZpUi_So",
        "outputId": "48a682b6-adb5-419f-8d6a-544714855f6e"
      },
      "execution_count": null,
      "outputs": [
        {
          "output_type": "execute_result",
          "data": {
            "text/plain": [
              "40"
            ]
          },
          "metadata": {},
          "execution_count": 62
        }
      ]
    },
    {
      "cell_type": "code",
      "source": [
        "record['IdList']"
      ],
      "metadata": {
        "colab": {
          "base_uri": "https://localhost:8080/"
        },
        "id": "5jHsBERPjGky",
        "outputId": "6dd25cf3-148a-4c9a-ff0a-42d9bdfbf11f"
      },
      "execution_count": null,
      "outputs": [
        {
          "output_type": "execute_result",
          "data": {
            "text/plain": [
              "['2742238459', '2742238457', '2742238455', '2742238453', '2742238451', '2742238449', '2742238447', '2742238445', '2739780652', '2739780567', '2587918588', '2507817686', '2507817684', '2507817682', '2507817680', '2507817678', '2507817676', '2507817674', '2507817672', '2507817670', '2507817668', '2507817666', '2507817664', '2507817662', '2507817660', '2507817658', '2507817656', '2507817654', '2507817652', '2507817650', '2507817648', '2507817646', '2507817644', '2507817642', '2507817640', '2507817638', '2507817636', '2507817634', '2507817632', '2507817630']"
            ]
          },
          "metadata": {},
          "execution_count": 63
        }
      ]
    },
    {
      "cell_type": "code",
      "source": [
        "id_list = record['IdList']\n",
        "handle = Entrez.efetch(db='nucleotide', id=id_list, rettype='gb')\n",
        "records = list(SeqIO.parse(handle, 'gb'))\n",
        "handle.close()"
      ],
      "metadata": {
        "id": "nLgMzomjjKOB"
      },
      "execution_count": null,
      "outputs": []
    },
    {
      "cell_type": "code",
      "source": [
        "records"
      ],
      "metadata": {
        "colab": {
          "base_uri": "https://localhost:8080/"
        },
        "id": "xLaciRQQjxhz",
        "outputId": "6ea76faa-eaf1-4a15-ef56-bf6f5eb3f9ae"
      },
      "execution_count": null,
      "outputs": [
        {
          "output_type": "execute_result",
          "data": {
            "text/plain": [
              "[SeqRecord(seq=Seq('ATTTTTAAAGAGATTAAGGATAATATTTTTATTTATATTTTAAGTATTATTTAT...AAA'), id='PP860810.1', name='PP860810', description='Plasmodium falciparum isolate RPfcrt10 chloroquine resistance transporter (crt) gene, partial cds', dbxrefs=[]),\n",
              " SeqRecord(seq=Seq('ATTTTTAAAGAGATTAAGGATAATATTTTTATTTATATTTTAAGTATTATTTAT...AAA'), id='PP860809.1', name='PP860809', description='Plasmodium falciparum isolate RPfcrt9 chloroquine resistance transporter (crt) gene, partial cds', dbxrefs=[]),\n",
              " SeqRecord(seq=Seq('ATTTTTAAAGAGATTAAGGATAATATTTTTATTTATATTTTAAGTATTATTTAT...AAA'), id='PP860808.1', name='PP860808', description='Plasmodium falciparum isolate RPfcrt8 chloroquine resistance transporter (crt) gene, partial cds', dbxrefs=[]),\n",
              " SeqRecord(seq=Seq('ATTTTTAAAGAGATTAAGGATAATATTTTTATTTATATTTTAAGTATTATTTAT...AAA'), id='PP860807.1', name='PP860807', description='Plasmodium falciparum isolate RPfcrt7 chloroquine resistance transporter (crt) gene, partial cds', dbxrefs=[]),\n",
              " SeqRecord(seq=Seq('ATTTTTAAAGAGATTAAGGATAATATTTTTATTTATATTTTAAGTATTATTTAT...AAA'), id='PP860806.1', name='PP860806', description='Plasmodium falciparum isolate RPfcrt6 chloroquine resistance transporter (crt) gene, partial cds', dbxrefs=[]),\n",
              " SeqRecord(seq=Seq('ATTTTTAAAGAGATTAAGGATAATATTTTTATTTATATTTTAAGTATTATTTAT...AAA'), id='PP860805.1', name='PP860805', description='Plasmodium falciparum isolate RPfcrt5 chloroquine resistance transporter (crt) gene, partial cds', dbxrefs=[]),\n",
              " SeqRecord(seq=Seq('ATTTTTAAAGAGATTAAGGATAATATTTTTATTTATATTTTAAGTATTATTTAT...AAA'), id='PP860804.1', name='PP860804', description='Plasmodium falciparum isolate RPfcrt4 chloroquine resistance transporter (crt) gene, partial cds', dbxrefs=[]),\n",
              " SeqRecord(seq=Seq('TATTTTTAAAGAGATTAAGGATAATATTTTTATTTATATTTTAAGTATTATTTA...TCA'), id='PP860803.1', name='PP860803', description='Plasmodium falciparum isolate RPfcrt3 chloroquine resistance transporter (crt) gene, partial cds', dbxrefs=[]),\n",
              " SeqRecord(seq=Seq('ATTTTTAAAGAGATTAAGGATAATATTTTTATTTATATTTTAAGTATTATTTAT...AAA'), id='PP842460.1', name='PP842460', description='Plasmodium falciparum clone RPfcrt2 chloroquine resistance transporter (crt) gene, partial cds', dbxrefs=[]),\n",
              " SeqRecord(seq=Seq('TATTTTTAAAGAGATTAAGGATAATATTTTTATTTATATTTTAAGTATTATTTA...TCA'), id='PP842459.1', name='PP842459', description='Plasmodium falciparum clone RPfcrt1 chloroquine resistance transporter (crt) gene, partial cds', dbxrefs=[]),\n",
              " SeqRecord(seq=Seq('GGTGGAGGTTCTTGTCTTGGTAAATGTGCTCATGTGTTTAAACTTATTTTTAAA...AAA'), id='OR483864.1', name='OR483864', description='Plasmodium falciparum isolate PE-26 chloroquine resistance transporter (crt) gene, partial cds', dbxrefs=[]),\n",
              " SeqRecord(seq=Seq('TGTGCTCATGTGTTTAAACTTATTTTTAAAGAGATTAAGGATAATATTTTTATT...TTG'), id='OQ672451.1', name='OQ672451', description='Plasmodium falciparum isolate ML_14 chloroquine resistance transporter (crt) gene, partial cds', dbxrefs=[]),\n",
              " SeqRecord(seq=Seq('TGTGCTCATGTGTTTAAACTTATTTTTAAAGAGATTAAGGATAATATTTTTATT...TTG'), id='OQ672450.1', name='OQ672450', description='Plasmodium falciparum isolate ML_13 chloroquine resistance transporter (crt) gene, partial cds', dbxrefs=[]),\n",
              " SeqRecord(seq=Seq('TGTGCTCATGTGTTTAAACTTATTTTTAAAGAGATTAAGGATAATATTTTTATT...TTG'), id='OQ672449.1', name='OQ672449', description='Plasmodium falciparum isolate ML_12 chloroquine resistance transporter (crt) gene, partial cds', dbxrefs=[]),\n",
              " SeqRecord(seq=Seq('TGTGCTCATGTGTTTAAACTTATTTTTAAAGAGATTAAGGATAATATTTTTATT...TTG'), id='OQ672448.1', name='OQ672448', description='Plasmodium falciparum isolate ML_11 chloroquine resistance transporter (crt) gene, partial cds', dbxrefs=[]),\n",
              " SeqRecord(seq=Seq('TGTGCTCATGTGTTTAAACTTATTTTTAAAGAGATTAAGGATAATATTTTTATT...TTG'), id='OQ672447.1', name='OQ672447', description='Plasmodium falciparum isolate ML_10 chloroquine resistance transporter (crt) gene, partial cds', dbxrefs=[]),\n",
              " SeqRecord(seq=Seq('TGTGCTCATGTGTTTAAACTTATTTTTAAAGAGATTAAGGATAATATTTTTATT...TTG'), id='OQ672446.1', name='OQ672446', description='Plasmodium falciparum isolate ML_09 chloroquine resistance transporter (crt) gene, partial cds', dbxrefs=[]),\n",
              " SeqRecord(seq=Seq('TGTGCTCATGTGTTTAAACTTATTTTTAAAGAGATTAAGGATAATATTTTTATT...TTG'), id='OQ672445.1', name='OQ672445', description='Plasmodium falciparum isolate ML_08 chloroquine resistance transporter (crt) gene, partial cds', dbxrefs=[]),\n",
              " SeqRecord(seq=Seq('TGTGCTCATGTGTTTAAACTTATTTTTAAAGAGATTAAGGATAATATTTTTATT...TTG'), id='OQ672444.1', name='OQ672444', description='Plasmodium falciparum isolate ML_07 chloroquine resistance transporter (crt) gene, partial cds', dbxrefs=[]),\n",
              " SeqRecord(seq=Seq('TGTGCTCATGTGTTTAAACTTATTTTTAAAGAGATTAAGGATAATATTTTTATT...TTG'), id='OQ672443.1', name='OQ672443', description='Plasmodium falciparum isolate ML_06 chloroquine resistance transporter (crt) gene, partial cds', dbxrefs=[]),\n",
              " SeqRecord(seq=Seq('TGTGCTCATGTGTTTAAACTTATTTTTAAAGAGATTAAGGATAATATTTTTATT...TTG'), id='OQ672442.1', name='OQ672442', description='Plasmodium falciparum isolate ML_05 chloroquine resistance transporter (crt) gene, partial cds', dbxrefs=[]),\n",
              " SeqRecord(seq=Seq('TGTGCTCATGTGTTTAAACTTATTTTTAAAGAGATTAAGGATAATATTTTTATT...TTG'), id='OQ672441.1', name='OQ672441', description='Plasmodium falciparum isolate ML_04 chloroquine resistance transporter (crt) gene, partial cds', dbxrefs=[]),\n",
              " SeqRecord(seq=Seq('TGTGCTCATGTGTTTAAACTTATTTTTAAAGAGATTAAGGATAATATTTTTATT...TTG'), id='OQ672440.1', name='OQ672440', description='Plasmodium falciparum isolate ML_03 chloroquine resistance transporter (crt) gene, partial cds', dbxrefs=[]),\n",
              " SeqRecord(seq=Seq('TGTGCTCATGTGTTTAAACTTATTTTTAAAGAGATTAAGGATAATATTTTTATT...TTG'), id='OQ672439.1', name='OQ672439', description='Plasmodium falciparum isolate ML_02 chloroquine resistance transporter (crt) gene, partial cds', dbxrefs=[]),\n",
              " SeqRecord(seq=Seq('TGTGCTCATGTGTTTAAACTTATTTTTAAAGAGATTAAGGATAATATTTTTATT...TTG'), id='OQ672438.1', name='OQ672438', description='Plasmodium falciparum isolate ML_01 chloroquine resistance transporter (crt) gene, partial cds', dbxrefs=[]),\n",
              " SeqRecord(seq=Seq('TGTGCTCATGTGTTTAAACTTATTTTTAAAGAGATTAAGGATAATATTTTTATT...TTG'), id='OQ672437.1', name='OQ672437', description='Plasmodium falciparum isolate CZS_20 chloroquine resistance transporter (crt) gene, partial cds', dbxrefs=[]),\n",
              " SeqRecord(seq=Seq('TGTGCTCATGTGTTTAAACTTATTTTTAAAGAGATTAAGGATAATATTTTTATT...TTG'), id='OQ672436.1', name='OQ672436', description='Plasmodium falciparum isolate CZS_19 chloroquine resistance transporter (crt) gene, partial cds', dbxrefs=[]),\n",
              " SeqRecord(seq=Seq('TGTGCTCATGTGTTTAAACTTATTTTTAAAGAGATTAAGGATAATATTTTTATT...TTG'), id='OQ672435.1', name='OQ672435', description='Plasmodium falciparum isolate CZS_18 chloroquine resistance transporter (crt) gene, partial cds', dbxrefs=[]),\n",
              " SeqRecord(seq=Seq('TGTGCTCATGTGTTTAAACTTATTTTTAAAGAGATTAAGGATAATATTTTTATT...TTG'), id='OQ672434.1', name='OQ672434', description='Plasmodium falciparum isolate CZS_17 chloroquine resistance transporter (crt) gene, partial cds', dbxrefs=[]),\n",
              " SeqRecord(seq=Seq('TGTGCTCATGTGTTTAAACTTATTTTTAAAGAGATTAAGGATAATATTTTTATT...TTG'), id='OQ672433.1', name='OQ672433', description='Plasmodium falciparum isolate CZS_16 chloroquine resistance transporter (crt) gene, partial cds', dbxrefs=[]),\n",
              " SeqRecord(seq=Seq('TGTGCTCATGTGTTTAAACTTATTTTTAAAGAGATTAAGGATAATATTTTTATT...TTG'), id='OQ672432.1', name='OQ672432', description='Plasmodium falciparum isolate CZS_15 chloroquine resistance transporter (crt) gene, partial cds', dbxrefs=[]),\n",
              " SeqRecord(seq=Seq('TGTGCTCATGTGTTTAAACTTATTTTTAAAGAGATTAAGGATAATATTTTTATT...TTG'), id='OQ672431.1', name='OQ672431', description='Plasmodium falciparum isolate CZS_14 chloroquine resistance transporter (crt) gene, partial cds', dbxrefs=[]),\n",
              " SeqRecord(seq=Seq('TGTGCTCATGTGTTTAAACTTATTTTTAAAGAGATTAAGGATAATATTTTTATT...TTG'), id='OQ672430.1', name='OQ672430', description='Plasmodium falciparum isolate CZS_13 chloroquine resistance transporter (crt) gene, partial cds', dbxrefs=[]),\n",
              " SeqRecord(seq=Seq('TGTGCTCATGTGTTTAAACTTATTTTTAAAGAGATTAAGGATAATATTTTTATT...TTG'), id='OQ672429.1', name='OQ672429', description='Plasmodium falciparum isolate CZS_12 chloroquine resistance transporter (crt) gene, partial cds', dbxrefs=[]),\n",
              " SeqRecord(seq=Seq('TGTGCTCATGTGTTTAAACTTATTTTTAAAGAGATTAAGGATAATATTTTTATT...TTG'), id='OQ672428.1', name='OQ672428', description='Plasmodium falciparum isolate CZS_11 chloroquine resistance transporter (crt) gene, partial cds', dbxrefs=[]),\n",
              " SeqRecord(seq=Seq('TGTGCTCATGTGTTTAAACTTATTTTTAAAGAGATTAAGGATAATATTTTTATT...TTG'), id='OQ672427.1', name='OQ672427', description='Plasmodium falciparum isolate CZS_10 chloroquine resistance transporter (crt) gene, partial cds', dbxrefs=[]),\n",
              " SeqRecord(seq=Seq('TGTGCTCATGTGTTTAAACTTATTTTTAAAGAGATTAAGGATAATATTTTTATT...TTG'), id='OQ672426.1', name='OQ672426', description='Plasmodium falciparum isolate CZS_09 chloroquine resistance transporter (crt) gene, partial cds', dbxrefs=[]),\n",
              " SeqRecord(seq=Seq('TGTGCTCATGTGTTTAAACTTATTTTTAAAGAGATTAAGGATAATATTTTTATT...TTG'), id='OQ672425.1', name='OQ672425', description='Plasmodium falciparum isolate CZS_08 chloroquine resistance transporter (crt) gene, partial cds', dbxrefs=[]),\n",
              " SeqRecord(seq=Seq('TGTGCTCATGTGTTTAAACTTATTTTTAAAGAGATTAAGGATAATATTTTTATT...TTG'), id='OQ672424.1', name='OQ672424', description='Plasmodium falciparum isolate CZS_07 chloroquine resistance transporter (crt) gene, partial cds', dbxrefs=[]),\n",
              " SeqRecord(seq=Seq('TGTGCTCATGTGTTTAAACTTATTTTTAAAGAGATTAAGGATAATATTTTTATT...TTG'), id='OQ672423.1', name='OQ672423', description='Plasmodium falciparum isolate CZS_06 chloroquine resistance transporter (crt) gene, partial cds', dbxrefs=[])]"
            ]
          },
          "metadata": {},
          "execution_count": 65
        }
      ]
    },
    {
      "cell_type": "code",
      "source": [
        "for rec in records:\n",
        "    if rec.name == 'KM288867':\n",
        "        break\n",
        "print(rec.name)\n",
        "print('--------------------------')\n",
        "print(rec.description)"
      ],
      "metadata": {
        "colab": {
          "base_uri": "https://localhost:8080/"
        },
        "id": "Xr_exJT3j0mt",
        "outputId": "591a9917-65d4-4901-e574-4ce235a7d403"
      },
      "execution_count": null,
      "outputs": [
        {
          "output_type": "stream",
          "name": "stdout",
          "text": [
            "OQ672423\n",
            "--------------------------\n",
            "Plasmodium falciparum isolate CZS_06 chloroquine resistance transporter (crt) gene, partial cds\n"
          ]
        }
      ]
    },
    {
      "cell_type": "code",
      "source": [
        "str(rec.seq)"
      ],
      "metadata": {
        "colab": {
          "base_uri": "https://localhost:8080/",
          "height": 54
        },
        "id": "K7-pBMQhkpdy",
        "outputId": "a9432985-66d0-4411-e69c-44ac1d9448cf"
      },
      "execution_count": null,
      "outputs": [
        {
          "output_type": "execute_result",
          "data": {
            "text/plain": [
              "'TGTGCTCATGTGTTTAAACTTATTTTTAAAGAGATTAAGGATAATATTTTTATTTATATTTTAAGTATTATTTATTTAAGTGTATCTGTAATGAATACAATTTTTGCTAAAAGAACTTTAAACAAAATTGGTAACTATAGTTTTG'"
            ],
            "application/vnd.google.colaboratory.intrinsic+json": {
              "type": "string"
            }
          },
          "metadata": {},
          "execution_count": 67
        }
      ]
    },
    {
      "cell_type": "code",
      "source": [
        "from Bio.Align import PairwiseAligner"
      ],
      "metadata": {
        "id": "D1wknBLRkxRi"
      },
      "execution_count": null,
      "outputs": []
    },
    {
      "cell_type": "code",
      "source": [
        "alignments = PairwiseAligner(mode='local').align(seqA=\"ACCGGT\", seqB=\"ACGT\")\n",
        "for align in alignments:\n",
        "    print(align)"
      ],
      "metadata": {
        "colab": {
          "base_uri": "https://localhost:8080/"
        },
        "id": "PFzysY5kl-aD",
        "outputId": "ebd274fb-6521-4eef-92a9-06d184f19a6e"
      },
      "execution_count": null,
      "outputs": [
        {
          "output_type": "stream",
          "name": "stdout",
          "text": [
            "target            0 ACCGGT 6\n",
            "                  0 ||-|-| 6\n",
            "query             0 AC-G-T 4\n",
            "\n",
            "target            0 ACCGGT 6\n",
            "                  0 |-||-| 6\n",
            "query             0 A-CG-T 4\n",
            "\n",
            "target            0 ACCGGT 6\n",
            "                  0 ||--|| 6\n",
            "query             0 AC--GT 4\n",
            "\n",
            "target            0 ACCGGT 6\n",
            "                  0 |-|-|| 6\n",
            "query             0 A-C-GT 4\n",
            "\n"
          ]
        }
      ]
    },
    {
      "cell_type": "code",
      "source": [
        "from Bio.Align import substitution_matrices"
      ],
      "metadata": {
        "id": "aYjFnAdwpACq"
      },
      "execution_count": null,
      "outputs": []
    },
    {
      "cell_type": "code",
      "source": [
        "matrix = substitution_matrices.load(\"BLOSUM62\")\n",
        "alignments = PairwiseAligner(mode='local', substitution_matrix=matrix).align(seqA=\"ACCGGT\", seqB=\"ACGT\")\n",
        "for align in alignments:\n",
        "    print(align)"
      ],
      "metadata": {
        "colab": {
          "base_uri": "https://localhost:8080/"
        },
        "id": "mDbHAHp-pEFK",
        "outputId": "89aff192-3b15-477b-a79b-c6e071c46417"
      },
      "execution_count": null,
      "outputs": [
        {
          "output_type": "stream",
          "name": "stdout",
          "text": [
            "target            0 ACCGGT 6\n",
            "                  0 ||-|-| 6\n",
            "query             0 AC-G-T 4\n",
            "\n",
            "target            0 ACCGGT 6\n",
            "                  0 |-||-| 6\n",
            "query             0 A-CG-T 4\n",
            "\n",
            "target            0 ACCGGT 6\n",
            "                  0 ||--|| 6\n",
            "query             0 AC--GT 4\n",
            "\n",
            "target            0 ACCGGT 6\n",
            "                  0 |-|-|| 6\n",
            "query             0 A-C-GT 4\n",
            "\n"
          ]
        }
      ]
    },
    {
      "cell_type": "code",
      "source": [
        "from Bio.Blast import NCBIWWW\n",
        "help(NCBIWWW.qblast)"
      ],
      "metadata": {
        "colab": {
          "base_uri": "https://localhost:8080/"
        },
        "id": "qCRzLJcBpYsX",
        "outputId": "9297975b-7153-42f4-aff5-18a598c77ebc"
      },
      "execution_count": null,
      "outputs": [
        {
          "output_type": "stream",
          "name": "stdout",
          "text": [
            "Help on function qblast in module Bio.Blast.NCBIWWW:\n",
            "\n",
            "qblast(program, database, sequence, url_base='https://blast.ncbi.nlm.nih.gov/Blast.cgi', auto_format=None, composition_based_statistics=None, db_genetic_code=None, endpoints=None, entrez_query='(none)', expect=10.0, filter=None, gapcosts=None, genetic_code=None, hitlist_size=50, i_thresh=None, layout=None, lcase_mask=None, matrix_name=None, nucl_penalty=None, nucl_reward=None, other_advanced=None, perc_ident=None, phi_pattern=None, query_file=None, query_believe_defline=None, query_from=None, query_to=None, searchsp_eff=None, service=None, threshold=None, ungapped_alignment=None, word_size=None, short_query=None, alignments=500, alignment_view=None, descriptions=500, entrez_links_new_window=None, expect_low=None, expect_high=None, format_entrez_query=None, format_object=None, format_type='XML', ncbi_gi=None, results_file=None, show_overview=None, megablast=None, template_type=None, template_length=None, username='blast', password=None)\n",
            "    BLAST search using NCBI's QBLAST server or a cloud service provider.\n",
            "    \n",
            "    Supports all parameters of the old qblast API for Put and Get.\n",
            "    \n",
            "    Please note that NCBI uses the new Common URL API for BLAST searches\n",
            "    on the internet (http://ncbi.github.io/blast-cloud/dev/api.html). Thus,\n",
            "    some of the parameters used by this function are not (or are no longer)\n",
            "    officially supported by NCBI. Although they are still functioning, this\n",
            "    may change in the future.\n",
            "    \n",
            "    The Common URL API (http://ncbi.github.io/blast-cloud/dev/api.html) allows\n",
            "    doing BLAST searches on cloud servers. To use this feature, please set\n",
            "    ``url_base='http://host.my.cloud.service.provider.com/cgi-bin/blast.cgi'``\n",
            "    and ``format_object='Alignment'``. For more details, please see\n",
            "    https://blast.ncbi.nlm.nih.gov/Blast.cgi?PAGE_TYPE=BlastDocs&DOC_TYPE=CloudBlast\n",
            "    \n",
            "    Some useful parameters:\n",
            "    \n",
            "     - program        blastn, blastp, blastx, tblastn, or tblastx (lower case)\n",
            "     - database       Which database to search against (e.g. \"nr\").\n",
            "     - sequence       The sequence to search.\n",
            "     - ncbi_gi        TRUE/FALSE whether to give 'gi' identifier.\n",
            "     - descriptions   Number of descriptions to show.  Def 500.\n",
            "     - alignments     Number of alignments to show.  Def 500.\n",
            "     - expect         An expect value cutoff.  Def 10.0.\n",
            "     - matrix_name    Specify an alt. matrix (PAM30, PAM70, BLOSUM80, BLOSUM45).\n",
            "     - filter         \"none\" turns off filtering.  Default no filtering\n",
            "     - format_type    \"HTML\", \"Text\", \"ASN.1\", or \"XML\".  Def. \"XML\".\n",
            "     - entrez_query   Entrez query to limit Blast search\n",
            "     - hitlist_size   Number of hits to return. Default 50\n",
            "     - megablast      TRUE/FALSE whether to use MEga BLAST algorithm (blastn only)\n",
            "     - short_query    TRUE/FALSE whether to adjust the search parameters for a\n",
            "                      short query sequence. Note that this will override\n",
            "                      manually set parameters like word size and e value. Turns\n",
            "                      off when sequence length is > 30 residues. Default: None.\n",
            "     - service        plain, psi, phi, rpsblast, megablast (lower case)\n",
            "    \n",
            "    This function does no checking of the validity of the parameters\n",
            "    and passes the values to the server as is.  More help is available at:\n",
            "    https://ncbi.github.io/blast-cloud/dev/api.html\n",
            "\n"
          ]
        }
      ]
    },
    {
      "cell_type": "code",
      "source": [
        "result_handle = NCBIWWW.qblast(\"blastn\", \"nt\", \"\"\"ggtaagtcctctagtacaaacacccccaatattgtgatataattaaa\n",
        "attatattcatattctgttgccagaaaaaacacttttaggctatattagagccatcttctttgaagcgttgtc\"\"\")"
      ],
      "metadata": {
        "id": "7rgmoqvkqKe3"
      },
      "execution_count": null,
      "outputs": []
    },
    {
      "cell_type": "code",
      "source": [
        "from Bio.Blast import NCBIXML\n",
        "blast_records = NCBIXML.parse(result_handle)\n",
        "blast_records = list(blast_records)\n",
        "blast_records"
      ],
      "metadata": {
        "colab": {
          "base_uri": "https://localhost:8080/"
        },
        "id": "obpFNc9zrAuD",
        "outputId": "2185cd11-4d93-48e6-c5c2-ff2f9e01e901"
      },
      "execution_count": null,
      "outputs": [
        {
          "output_type": "execute_result",
          "data": {
            "text/plain": [
              "[<Bio.Blast.NCBIXML.Blast at 0x780362531ea0>]"
            ]
          },
          "metadata": {},
          "execution_count": 95
        }
      ]
    },
    {
      "cell_type": "code",
      "source": [
        "E_VALUE_THRESH = 0.00000000001\n",
        "count = 0\n",
        "for record in blast_records:\n",
        "    for alignment in record.alignments:\n",
        "        for hsp in alignment.hsps:\n",
        "            if hsp.expect < E_VALUE_THRESH:\n",
        "                count += 1\n",
        "                print(\"****Alignment****\")\n",
        "                print(\"sequence:\", alignment.title)\n",
        "                print(\"length:\", alignment.length)\n",
        "                print(\"e value:\", hsp.expect)\n",
        "                print(hsp.query[0:75])\n",
        "                print('----------------------------------')\n",
        "                print(hsp.match[0:75])\n",
        "                print('----------------------------------')\n",
        "                print(hsp.sbjct[0:75])\n",
        "print(count)"
      ],
      "metadata": {
        "colab": {
          "base_uri": "https://localhost:8080/"
        },
        "id": "PAZ9P6TbrK2P",
        "outputId": "da48c8b3-f6ea-4caa-b71c-2525f51683bf"
      },
      "execution_count": null,
      "outputs": [
        {
          "output_type": "stream",
          "name": "stdout",
          "text": [
            "****Alignment****\n",
            "sequence: gi|1853088208|gb|CP054431.1| Chlamydia trachomatis strain CH2_mutant_L2/434/Bu(i) plasmid unnamed\n",
            "length: 7676\n",
            "e value: 4.4096e-52\n",
            "GGTAAGTCCTCTAGTACAAACACCCCCAATATTGTGATATAATTAAAATTATATTCATATTCTGTTGCCAGAAAA\n",
            "----------------------------------\n",
            "|||||||||||||||||||||||||||||||||||||||||||||||||||||||||||||||||||||||||||\n",
            "----------------------------------\n",
            "GGTAAGTCCTCTAGTACAAACACCCCCAATATTGTGATATAATTAAAATTATATTCATATTCTGTTGCCAGAAAA\n",
            "****Alignment****\n",
            "sequence: gi|1853087206|gb|CP054433.1| Chlamydia trachomatis strain CH1_mutant_L2/434/Bu(i) plasmid unnamed\n",
            "length: 7676\n",
            "e value: 4.4096e-52\n",
            "GGTAAGTCCTCTAGTACAAACACCCCCAATATTGTGATATAATTAAAATTATATTCATATTCTGTTGCCAGAAAA\n",
            "----------------------------------\n",
            "|||||||||||||||||||||||||||||||||||||||||||||||||||||||||||||||||||||||||||\n",
            "----------------------------------\n",
            "GGTAAGTCCTCTAGTACAAACACCCCCAATATTGTGATATAATTAAAATTATATTCATATTCTGTTGCCAGAAAA\n",
            "****Alignment****\n",
            "sequence: gi|1853086301|gb|CP054429.1| Chlamydia trachomatis strain CH3_mutant_L2/434/Bu(i) plasmid unnamed\n",
            "length: 7676\n",
            "e value: 4.4096e-52\n",
            "GGTAAGTCCTCTAGTACAAACACCCCCAATATTGTGATATAATTAAAATTATATTCATATTCTGTTGCCAGAAAA\n",
            "----------------------------------\n",
            "|||||||||||||||||||||||||||||||||||||||||||||||||||||||||||||||||||||||||||\n",
            "----------------------------------\n",
            "GGTAAGTCCTCTAGTACAAACACCCCCAATATTGTGATATAATTAAAATTATATTCATATTCTGTTGCCAGAAAA\n",
            "****Alignment****\n",
            "sequence: gi|1853085398|gb|CP054427.1| Chlamydia trachomatis strain CH5_mutant_L2/434/Bu(i) plasmid unnamed\n",
            "length: 7676\n",
            "e value: 4.4096e-52\n",
            "GGTAAGTCCTCTAGTACAAACACCCCCAATATTGTGATATAATTAAAATTATATTCATATTCTGTTGCCAGAAAA\n",
            "----------------------------------\n",
            "|||||||||||||||||||||||||||||||||||||||||||||||||||||||||||||||||||||||||||\n",
            "----------------------------------\n",
            "GGTAAGTCCTCTAGTACAAACACCCCCAATATTGTGATATAATTAAAATTATATTCATATTCTGTTGCCAGAAAA\n",
            "****Alignment****\n",
            "sequence: gi|2317634782|gb|CP106986.1| Chlamydia trachomatis strain L2f plasmid p7Kb, complete sequence\n",
            "length: 7500\n",
            "e value: 4.4096e-52\n",
            "GGTAAGTCCTCTAGTACAAACACCCCCAATATTGTGATATAATTAAAATTATATTCATATTCTGTTGCCAGAAAA\n",
            "----------------------------------\n",
            "|||||||||||||||||||||||||||||||||||||||||||||||||||||||||||||||||||||||||||\n",
            "----------------------------------\n",
            "GGTAAGTCCTCTAGTACAAACACCCCCAATATTGTGATATAATTAAAATTATATTCATATTCTGTTGCCAGAAAA\n",
            "****Alignment****\n",
            "sequence: gi|380252486|emb|HE603228.1| Chlamydia trachomatis L3/404/LN plasmid pL3404 complete sequence\n",
            "length: 7415\n",
            "e value: 4.4096e-52\n",
            "GGTAAGTCCTCTAGTACAAACACCCCCAATATTGTGATATAATTAAAATTATATTCATATTCTGTTGCCAGAAAA\n",
            "----------------------------------\n",
            "|||||||||||||||||||||||||||||||||||||||||||||||||||||||||||||||||||||||||||\n",
            "----------------------------------\n",
            "GGTAAGTCCTCTAGTACAAACACCCCCAATATTGTGATATAATTAAAATTATATTCATATTCTGTTGCCAGAAAA\n",
            "****Alignment****\n",
            "sequence: gi|380251597|emb|HE603227.1| Chlamydia trachomatis L2b/UCH-2 plasmid pL2bUCH2 complete sequence\n",
            "length: 7473\n",
            "e value: 4.4096e-52\n",
            "GGTAAGTCCTCTAGTACAAACACCCCCAATATTGTGATATAATTAAAATTATATTCATATTCTGTTGCCAGAAAA\n",
            "----------------------------------\n",
            "|||||||||||||||||||||||||||||||||||||||||||||||||||||||||||||||||||||||||||\n",
            "----------------------------------\n",
            "GGTAAGTCCTCTAGTACAAACACCCCCAATATTGTGATATAATTAAAATTATATTCATATTCTGTTGCCAGAAAA\n",
            "****Alignment****\n",
            "sequence: gi|380251588|emb|HE603226.1| Chlamydia trachomatis L2b/LST plasmid pL2bLST complete sequence\n",
            "length: 7500\n",
            "e value: 4.4096e-52\n",
            "GGTAAGTCCTCTAGTACAAACACCCCCAATATTGTGATATAATTAAAATTATATTCATATTCTGTTGCCAGAAAA\n",
            "----------------------------------\n",
            "|||||||||||||||||||||||||||||||||||||||||||||||||||||||||||||||||||||||||||\n",
            "----------------------------------\n",
            "GGTAAGTCCTCTAGTACAAACACCCCCAATATTGTGATATAATTAAAATTATATTCATATTCTGTTGCCAGAAAA\n",
            "****Alignment****\n",
            "sequence: gi|380251534|emb|HE603220.1| Chlamydia trachomatis L1/224 plasmid pL1224 complete sequence\n",
            "length: 7500\n",
            "e value: 4.4096e-52\n",
            "GGTAAGTCCTCTAGTACAAACACCCCCAATATTGTGATATAATTAAAATTATATTCATATTCTGTTGCCAGAAAA\n",
            "----------------------------------\n",
            "|||||||||||||||||||||||||||||||||||||||||||||||||||||||||||||||||||||||||||\n",
            "----------------------------------\n",
            "GGTAAGTCCTCTAGTACAAACACCCCCAATATTGTGATATAATTAAAATTATATTCATATTCTGTTGCCAGAAAA\n",
            "****Alignment****\n",
            "sequence: gi|380251525|emb|HE603219.1| Chlamydia trachomatis L1/1322/p2 plasmid pL11322 complete sequence\n",
            "length: 7500\n",
            "e value: 4.4096e-52\n",
            "GGTAAGTCCTCTAGTACAAACACCCCCAATATTGTGATATAATTAAAATTATATTCATATTCTGTTGCCAGAAAA\n",
            "----------------------------------\n",
            "|||||||||||||||||||||||||||||||||||||||||||||||||||||||||||||||||||||||||||\n",
            "----------------------------------\n",
            "GGTAAGTCCTCTAGTACAAACACCCCCAATATTGTGATATAATTAAAATTATATTCATATTCTGTTGCCAGAAAA\n",
            "****Alignment****\n",
            "sequence: gi|380251516|emb|HE603218.1| Chlamydia trachomatis L1/115 plasmid pL1115 complete sequence\n",
            "length: 7500\n",
            "e value: 4.4096e-52\n",
            "GGTAAGTCCTCTAGTACAAACACCCCCAATATTGTGATATAATTAAAATTATATTCATATTCTGTTGCCAGAAAA\n",
            "----------------------------------\n",
            "|||||||||||||||||||||||||||||||||||||||||||||||||||||||||||||||||||||||||||\n",
            "----------------------------------\n",
            "GGTAAGTCCTCTAGTACAAACACCCCCAATATTGTGATATAATTAAAATTATATTCATATTCTGTTGCCAGAAAA\n",
            "****Alignment****\n",
            "sequence: gi|380251471|emb|HE603213.1| Chlamydia trachomatis L2b/Ams1 plasmid pAms1 complete sequence >gi|380251480|emb|HE603214.1| Chlamydia trachomatis L2b/Ams2 plasmid pAms2 complete sequence >gi|380251489|emb|HE603215.1| Chlamydia trachomatis L2b/Ams3 plasmid pAms3 complete sequence >gi|380251498|emb|HE603216.1| Chlamydia trachomatis L2b/Ams4 plasmid pAms4 complete sequence >gi|380251507|emb|HE603217.1| Chlamydia trachomatis L2b/Ams5 plasmid pAms5 complete sequence >gi|380251543|emb|HE603221.1| Chlamydia trachomatis L2b/795 plasmid pL2b795 complete sequence >gi|380251552|emb|HE603222.1| Chlamydia trachomatis L2b/8200/07 plasmid pL2b820007 complete sequence >gi|380251561|emb|HE603223.1| Chlamydia trachomatis L2b/Canada1 plasmid pL2bCan1 complete sequence >gi|380251570|emb|HE603224.1| Chlamydia trachomatis L2b/Canada2 plasmid pL2bCan2 complete sequence >gi|380251579|emb|HE603225.1| Chlamydia trachomatis L2b/CV204 plasmid pL2bCV204 complete sequence >gi|806978425|gb|CP009926.1| Chlamydia trachomatis strain L2b/CS784/08 plasmid, complete sequence >gi|806979337|gb|CP009924.1| Chlamydia trachomatis strain L2b/CS19/08 plasmid, complete sequence\n",
            "length: 7500\n",
            "e value: 4.4096e-52\n",
            "GGTAAGTCCTCTAGTACAAACACCCCCAATATTGTGATATAATTAAAATTATATTCATATTCTGTTGCCAGAAAA\n",
            "----------------------------------\n",
            "|||||||||||||||||||||||||||||||||||||||||||||||||||||||||||||||||||||||||||\n",
            "----------------------------------\n",
            "GGTAAGTCCTCTAGTACAAACACCCCCAATATTGTGATATAATTAAAATTATATTCATATTCTGTTGCCAGAAAA\n",
            "****Alignment****\n",
            "sequence: gi|194680626|emb|X06707.3| Chlamydia trachomatis cryptic plasmid pLGV440\n",
            "length: 7500\n",
            "e value: 4.4096e-52\n",
            "GGTAAGTCCTCTAGTACAAACACCCCCAATATTGTGATATAATTAAAATTATATTCATATTCTGTTGCCAGAAAA\n",
            "----------------------------------\n",
            "|||||||||||||||||||||||||||||||||||||||||||||||||||||||||||||||||||||||||||\n",
            "----------------------------------\n",
            "GGTAAGTCCTCTAGTACAAACACCCCCAATATTGTGATATAATTAAAATTATATTCATATTCTGTTGCCAGAAAA\n",
            "****Alignment****\n",
            "sequence: gi|165931721|emb|AM886279.1| Chlamydia trachomatis pUCH-1 plasmid\n",
            "length: 7500\n",
            "e value: 4.4096e-52\n",
            "GGTAAGTCCTCTAGTACAAACACCCCCAATATTGTGATATAATTAAAATTATATTCATATTCTGTTGCCAGAAAA\n",
            "----------------------------------\n",
            "|||||||||||||||||||||||||||||||||||||||||||||||||||||||||||||||||||||||||||\n",
            "----------------------------------\n",
            "GGTAAGTCCTCTAGTACAAACACCCCCAATATTGTGATATAATTAAAATTATATTCATATTCTGTTGCCAGAAAA\n",
            "****Alignment****\n",
            "sequence: gi|165931711|emb|AM886278.1| Chlamydia trachomatis pL2 plasmid >gi|478751958|gb|CP003966.1| Chlamydia trachomatis L2/434/Bu(f) plasmid pL2/434/Bu(f), complete sequence >gi|478752900|gb|CP003964.1| Chlamydia trachomatis L2/434/Bu(i) plasmid pL2/434/Bu(i), complete sequence\n",
            "length: 7499\n",
            "e value: 4.4096e-52\n",
            "GGTAAGTCCTCTAGTACAAACACCCCCAATATTGTGATATAATTAAAATTATATTCATATTCTGTTGCCAGAAAA\n",
            "----------------------------------\n",
            "|||||||||||||||||||||||||||||||||||||||||||||||||||||||||||||||||||||||||||\n",
            "----------------------------------\n",
            "GGTAAGTCCTCTAGTACAAACACCCCCAATATTGTGATATAATTAAAATTATATTCATATTCTGTTGCCAGAAAA\n",
            "****Alignment****\n",
            "sequence: gi|158322049|gb|EU180727.1| Chlamydia trachomatis plasmid pCT clone C10-1 ORF7 and ORF8 genes, partial cds >gi|158322052|gb|EU180728.1| Chlamydia trachomatis plasmid pCT clone C10-10 ORF7 and ORF8 genes, partial cds >gi|158322055|gb|EU180729.1| Chlamydia trachomatis plasmid pCT clone C10-3 ORF7 and ORF8 genes, partial cds >gi|158322058|gb|EU180730.1| Chlamydia trachomatis plasmid pCT clone C10-4 ORF7 and ORF8 genes, partial cds >gi|158322061|gb|EU180731.1| Chlamydia trachomatis plasmid pCT clone C10-7 ORF7 and ORF8 genes, partial cds >gi|158322064|gb|EU180732.1| Chlamydia trachomatis plasmid pCT clone C2-3 ORF7 and ORF8 genes, partial cds >gi|158322067|gb|EU180733.1| Chlamydia trachomatis plasmid pCT clone C2-6 ORF7 and ORF8 genes, partial cds >gi|158322070|gb|EU180734.1| Chlamydia trachomatis plasmid pCT clone C4-1 ORF7 and ORF8 genes, partial cds >gi|158322073|gb|EU180735.1| Chlamydia trachomatis plasmid pCT clone C4-4 ORF7 and ORF8 genes, partial cds >gi|158322076|gb|EU180736.1| Chlamydia trachomatis plasmid pCT clone C4-5 ORF7 and ORF8 genes, partial cds >gi|158322079|gb|EU180737.1| Chlamydia trachomatis plasmid pCT clone C4-6 ORF7 and ORF8 genes, partial cds >gi|158322082|gb|EU180738.1| Chlamydia trachomatis plasmid pCT clone C9-12 ORF7 and ORF8 genes, partial cds >gi|158322085|gb|EU180739.1| Chlamydia trachomatis plasmid pCT clone C9-14 ORF7 and ORF8 genes, partial cds >gi|158322088|gb|EU180740.1| Chlamydia trachomatis plasmid pCT clone C9-15 ORF7 and ORF8 genes, partial cds >gi|158322091|gb|EU180741.1| Chlamydia trachomatis plasmid pCT clone C9-3 ORF7 and ORF8 genes, partial cds >gi|158322094|gb|EU180742.1| Chlamydia trachomatis plasmid pCT clone C9-7 ORF7 and ORF8 genes, partial cds >gi|158322097|gb|EU180743.1| Chlamydia trachomatis plasmid pCT clone C9-8 ORF7 and ORF8 genes, partial cds\n",
            "length: 664\n",
            "e value: 4.4096e-52\n",
            "GGTAAGTCCTCTAGTACAAACACCCCCAATATTGTGATATAATTAAAATTATATTCATATTCTGTTGCCAGAAAA\n",
            "----------------------------------\n",
            "|||||||||||||||||||||||||||||||||||||||||||||||||||||||||||||||||||||||||||\n",
            "----------------------------------\n",
            "GGTAAGTCCTCTAGTACAAACACCCCCAATATTGTGATATAATTAAAATTATATTCATATTCTGTTGCCAGAAAA\n",
            "****Alignment****\n",
            "sequence: gi|40730|emb|X07547.1| C. trachomatis plasmid DNA for growth within mammalian cells\n",
            "length: 7499\n",
            "e value: 4.4096e-52\n",
            "GGTAAGTCCTCTAGTACAAACACCCCCAATATTGTGATATAATTAAAATTATATTCATATTCTGTTGCCAGAAAA\n",
            "----------------------------------\n",
            "|||||||||||||||||||||||||||||||||||||||||||||||||||||||||||||||||||||||||||\n",
            "----------------------------------\n",
            "GGTAAGTCCTCTAGTACAAACACCCCCAATATTGTGATATAATTAAAATTATATTCATATTCTGTTGCCAGAAAA\n",
            "****Alignment****\n",
            "sequence: gi|1104541593|gb|CP018053.1| Chlamydia trachomatis strain QH111L plasmid pQH111L, complete sequence\n",
            "length: 7503\n",
            "e value: 2.28423e-49\n",
            "GGTAAGTCCTCTAGTACAAACACCCCCAATATTGTGATATAATTAAAATTATATTCATATTCTGTTGCCAGAAAA\n",
            "----------------------------------\n",
            "||||||||||||||||||||||||| |||||||||||||||||||||||||||||||||||||||||||||||||\n",
            "----------------------------------\n",
            "GGTAAGTCCTCTAGTACAAACACCCACAATATTGTGATATAATTAAAATTATATTCATATTCTGTTGCCAGAAAA\n",
            "****Alignment****\n",
            "sequence: gi|1067106305|gb|CP016425.1| Chlamydia trachomatis strain SB013112 plasmid unnamed1, complete sequence\n",
            "length: 7504\n",
            "e value: 2.28423e-49\n",
            "GGTAAGTCCTCTAGTACAAACACCCCCAATATTGTGATATAATTAAAATTATATTCATATTCTGTTGCCAGAAAA\n",
            "----------------------------------\n",
            "||||||||||||||||||||||||| |||||||||||||||||||||||||||||||||||||||||||||||||\n",
            "----------------------------------\n",
            "GGTAAGTCCTCTAGTACAAACACCCACAATATTGTGATATAATTAAAATTATATTCATATTCTGTTGCCAGAAAA\n",
            "****Alignment****\n",
            "sequence: gi|1067104939|gb|CP016423.1| Chlamydia trachomatis strain SB008107 plasmid unnamed1, complete sequence\n",
            "length: 7506\n",
            "e value: 2.28423e-49\n",
            "GGTAAGTCCTCTAGTACAAACACCCCCAATATTGTGATATAATTAAAATTATATTCATATTCTGTTGCCAGAAAA\n",
            "----------------------------------\n",
            "||||||||||||||||||||||||| |||||||||||||||||||||||||||||||||||||||||||||||||\n",
            "----------------------------------\n",
            "GGTAAGTCCTCTAGTACAAACACCCACAATATTGTGATATAATTAAAATTATATTCATATTCTGTTGCCAGAAAA\n",
            "****Alignment****\n",
            "sequence: gi|1067103422|gb|CP016421.1| Chlamydia trachomatis strain SB006930 plasmid unnamed1, complete sequence\n",
            "length: 7506\n",
            "e value: 2.28423e-49\n",
            "GGTAAGTCCTCTAGTACAAACACCCCCAATATTGTGATATAATTAAAATTATATTCATATTCTGTTGCCAGAAAA\n",
            "----------------------------------\n",
            "||||||||||||||||||||||||| |||||||||||||||||||||||||||||||||||||||||||||||||\n",
            "----------------------------------\n",
            "GGTAAGTCCTCTAGTACAAACACCCACAATATTGTGATATAATTAAAATTATATTCATATTCTGTTGCCAGAAAA\n",
            "****Alignment****\n",
            "sequence: gi|1067102362|gb|CP016419.1| Chlamydia trachomatis strain SB002739 plasmid unnamed1, complete sequence\n",
            "length: 7506\n",
            "e value: 2.28423e-49\n",
            "GGTAAGTCCTCTAGTACAAACACCCCCAATATTGTGATATAATTAAAATTATATTCATATTCTGTTGCCAGAAAA\n",
            "----------------------------------\n",
            "||||||||||||||||||||||||| |||||||||||||||||||||||||||||||||||||||||||||||||\n",
            "----------------------------------\n",
            "GGTAAGTCCTCTAGTACAAACACCCACAATATTGTGATATAATTAAAATTATATTCATATTCTGTTGCCAGAAAA\n",
            "****Alignment****\n",
            "sequence: gi|380252690|emb|HE603231.1| Chlamydia trachomatis D/SotonD6 plasmid pSotonD6 complete sequence >gi|380252753|emb|HE603238.1| Chlamydia trachomatis K/SotonK1 plasmid pSotonK1 complete sequence >gi|899745353|gb|CP007132.1| Chlamydia trachomatis D/CS637/11 plasmid unnamed, complete sequence\n",
            "length: 7493\n",
            "e value: 2.28423e-49\n",
            "GGTAAGTCCTCTAGTACAAACACCCCCAATATTGTGATATAATTAAAATTATATTCATATTCTGTTGCCAGAAAA\n",
            "----------------------------------\n",
            "||||||||||||||||||||||||| |||||||||||||||||||||||||||||||||||||||||||||||||\n",
            "----------------------------------\n",
            "GGTAAGTCCTCTAGTACAAACACCCACAATATTGTGATATAATTAAAATTATATTCATATTCTGTTGCCAGAAAA\n",
            "****Alignment****\n",
            "sequence: gi|380252726|emb|HE603235.1| Chlamydia trachomatis G/SotonG1 plasmid pSotonG1 complete sequence >gi|899748098|gb|CP010572.1| Chlamydia trachomatis strain Ia/CS190/96 plasmid, complete sequence\n",
            "length: 7471\n",
            "e value: 2.28423e-49\n",
            "GGTAAGTCCTCTAGTACAAACACCCCCAATATTGTGATATAATTAAAATTATATTCATATTCTGTTGCCAGAAAA\n",
            "----------------------------------\n",
            "||||||||||||||||||||||||| |||||||||||||||||||||||||||||||||||||||||||||||||\n",
            "----------------------------------\n",
            "GGTAAGTCCTCTAGTACAAACACCCACAATATTGTGATATAATTAAAATTATATTCATATTCTGTTGCCAGAAAA\n",
            "****Alignment****\n",
            "sequence: gi|380252681|emb|HE603230.1| Chlamydia trachomatis D/SotonD5 plasmid pSotonD5 complete sequence\n",
            "length: 7492\n",
            "e value: 2.28423e-49\n",
            "GGTAAGTCCTCTAGTACAAACACCCCCAATATTGTGATATAATTAAAATTATATTCATATTCTGTTGCCAGAAAA\n",
            "----------------------------------\n",
            "||||||||||||||||||||||||| |||||||||||||||||||||||||||||||||||||||||||||||||\n",
            "----------------------------------\n",
            "GGTAAGTCCTCTAGTACAAACACCCACAATATTGTGATATAATTAAAATTATATTCATATTCTGTTGCCAGAAAA\n",
            "****Alignment****\n",
            "sequence: gi|317415982|emb|FM865436.1| Chlamydia trachomatis plasmid pCTR, strain A2497, serovar A\n",
            "length: 7480\n",
            "e value: 2.28423e-49\n",
            "GGTAAGTCCTCTAGTACAAACACCCCCAATATTGTGATATAATTAAAATTATATTCATATTCTGTTGCCAGAAAA\n",
            "----------------------------------\n",
            "||||||||||||||||||||||||| |||||||||||||||||||||||||||||||||||||||||||||||||\n",
            "----------------------------------\n",
            "GGTAAGTCCTCTAGTACAAACACCCACAATATTGTGATATAATTAAAATTATATTCATATTCTGTTGCCAGAAAA\n",
            "****Alignment****\n",
            "sequence: gi|228007403|emb|FM865438.1| Chlamydia trachomatis plasmid pJALI, strain Jali20, serovar B\n",
            "length: 7506\n",
            "e value: 2.28423e-49\n",
            "GGTAAGTCCTCTAGTACAAACACCCCCAATATTGTGATATAATTAAAATTATATTCATATTCTGTTGCCAGAAAA\n",
            "----------------------------------\n",
            "||||||||||||||||||||||||| |||||||||||||||||||||||||||||||||||||||||||||||||\n",
            "----------------------------------\n",
            "GGTAAGTCCTCTAGTACAAACACCCACAATATTGTGATATAATTAAAATTATATTCATATTCTGTTGCCAGAAAA\n",
            "****Alignment****\n",
            "sequence: gi|228007394|emb|FM865437.1| Chlamydia trachomatis plasmid pCTB, strain B/TZ1A828/OT, serovar B >gi|380251444|emb|HE603210.1| Chlamydia trachomatis A/5291 plasmid pA5291 complete sequence >gi|380251453|emb|HE603211.1| Chlamydia trachomatis A/7249 plasmid pA7249 complete sequence >gi|383081617|emb|HE603209.2| Chlamydia trachomatis A/363 plasmid pA363 complete sequence\n",
            "length: 7502\n",
            "e value: 2.28423e-49\n",
            "GGTAAGTCCTCTAGTACAAACACCCCCAATATTGTGATATAATTAAAATTATATTCATATTCTGTTGCCAGAAAA\n",
            "----------------------------------\n",
            "||||||||||||||||||||||||| |||||||||||||||||||||||||||||||||||||||||||||||||\n",
            "----------------------------------\n",
            "GGTAAGTCCTCTAGTACAAACACCCACAATATTGTGATATAATTAAAATTATATTCATATTCTGTTGCCAGAAAA\n",
            "****Alignment****\n",
            "sequence: gi|1034275911|gb|CP015305.1| Chlamydia trachomatis strain E-DK-20 plasmid pCtrEDK20, complete sequence\n",
            "length: 7502\n",
            "e value: 9.7128e-48\n",
            "GGTAAGTCCTCTAGTACAAACACCCCCAATATTGTGATATAATTAAAATTATATTCATATTCTGTTGCCAGAAAA\n",
            "----------------------------------\n",
            "||||| ||||||||||||||||||| |||||||||||||||||||||||||||||||||||||||||||||||||\n",
            "----------------------------------\n",
            "GGTAATTCCTCTAGTACAAACACCCACAATATTGTGATATAATTAAAATTATATTCATATTCTGTTGCCAGAAAA\n",
            "****Alignment****\n",
            "sequence: gi|1034274076|gb|CP015301.1| Chlamydia trachomatis strain E-8873 plasmid pCtrE8873, complete sequence\n",
            "length: 7493\n",
            "e value: 9.7128e-48\n",
            "GGTAAGTCCTCTAGTACAAACACCCCCAATATTGTGATATAATTAAAATTATATTCATATTCTGTTGCCAGAAAA\n",
            "----------------------------------\n",
            "||||| ||||||||||||||||||| |||||||||||||||||||||||||||||||||||||||||||||||||\n",
            "----------------------------------\n",
            "GGTAATTCCTCTAGTACAAACACCCACAATATTGTGATATAATTAAAATTATATTCATATTCTGTTGCCAGAAAA\n",
            "****Alignment****\n",
            "sequence: gi|565679406|gb|CP006946.1| Chlamydia trachomatis C/TW-3 plasmid unnamed, complete sequence\n",
            "length: 7501\n",
            "e value: 9.7128e-48\n",
            "GGTAAGTCCTCTAGTACAAACACCCCCAATATTGTGATATAATTAAAATTATATTCATATTCTGTTGCCAGAAAA\n",
            "----------------------------------\n",
            "|||||||||||||||||||||| || |||||||||||||||||||||||||||||||||||||||||||||||||\n",
            "----------------------------------\n",
            "GGTAAGTCCTCTAGTACAAACATCCACAATATTGTGATATAATTAAAATTATATTCATATTCTGTTGCCAGAAAA\n",
            "****Alignment****\n",
            "sequence: gi|380252735|emb|HE603236.1| Chlamydia trachomatis Ia/SotonIa1 plasmid pSotonIa1 complete sequence >gi|380252744|emb|HE603237.1| Chlamydia trachomatis Ia/SotonIa3 plasmid pSotonIa3 complete sequence\n",
            "length: 7500\n",
            "e value: 9.7128e-48\n",
            "GGTAAGTCCTCTAGTACAAACACCCCCAATATTGTGATATAATTAAAATTATATTCATATTCTGTTGCCAGAAAA\n",
            "----------------------------------\n",
            "||||||||||||||||||||||||| |||||||||||||||||||||||||||||||||||||||||||||||||\n",
            "----------------------------------\n",
            "GGTAAGTCCTCTAGTACAAACACCCACAATATTGTGATATAATTAAAATTATATTCATATTCTGTTGCCAGAAAA\n",
            "****Alignment****\n",
            "sequence: gi|228007439|emb|FM865442.1| Chlamydia trachomatis plasmid pSW5, strain Sweden5, serovar F\n",
            "length: 7471\n",
            "e value: 9.7128e-48\n",
            "GGTAAGTCCTCTAGTACAAACACCCCCAATATTGTGATATAATTAAAATTATATTCATATTCTGTTGCCAGAAAA\n",
            "----------------------------------\n",
            "||||| ||||||||||||||||||| |||||||||||||||||||||||||||||||||||||||||||||||||\n",
            "----------------------------------\n",
            "GGTAATTCCTCTAGTACAAACACCCACAATATTGTGATATAATTAAAATTATATTCATATTCTGTTGCCAGAAAA\n",
            "****Alignment****\n",
            "sequence: gi|228007430|emb|FM865441.1| Chlamydia trachomatis plasmid pSW4, strain Sweden4, serovar F >gi|380252672|emb|HE603229.1| Chlamydia trachomatis D/SotonD1 plasmid pSotonD1 complete sequence >gi|380252717|emb|HE603234.1| Chlamydia trachomatis F/SotonF3 plasmid pSotonF3 complete sequence >gi|1034276824|gb|CP015307.1| Chlamydia trachomatis strain F-6068 plasmid pCtrF6068, complete sequence\n",
            "length: 7493\n",
            "e value: 9.7128e-48\n",
            "GGTAAGTCCTCTAGTACAAACACCCCCAATATTGTGATATAATTAAAATTATATTCATATTCTGTTGCCAGAAAA\n",
            "----------------------------------\n",
            "||||| ||||||||||||||||||| |||||||||||||||||||||||||||||||||||||||||||||||||\n",
            "----------------------------------\n",
            "GGTAATTCCTCTAGTACAAACACCCACAATATTGTGATATAATTAAAATTATATTCATATTCTGTTGCCAGAAAA\n",
            "****Alignment****\n",
            "sequence: gi|144462|gb|J03321.1|CH1L1CG Chlamydia trachomatis plasmid pCHL1, complete sequence\n",
            "length: 7502\n",
            "e value: 9.7128e-48\n",
            "GGTAAGTCCTCTAGTACAAACACCCCCAATATTGTGATATAATTAAAATTATATTCATATTCTGTTGCCAGAAAA\n",
            "----------------------------------\n",
            "||||| ||||||||||||||||||| |||||||||||||||||||||||||||||||||||||||||||||||||\n",
            "----------------------------------\n",
            "GGTAATTCCTCTAGTACAAACACCCACAATATTGTGATATAATTAAAATTATATTCATATTCTGTTGCCAGAAAA\n",
            "****Alignment****\n",
            "sequence: gi|1067108145|gb|CP016427.1| Chlamydia trachomatis strain SB013321 plasmid unnamed1, complete sequence\n",
            "length: 7497\n",
            "e value: 1.18326e-46\n",
            "GGTAAGTCCTCTAGTACAAACACCCCCAATATTGTGATATAATTAAAATTATATTCATATTCTGTTGCCAGAAAA\n",
            "----------------------------------\n",
            "|||||||||||||||||||||||||  |  |||||||||||||||||||||||||||||||||||||||||||||\n",
            "----------------------------------\n",
            "GGTAAGTCCTCTAGTACAAACACCCAYAWWATTGTGATATAATTAAAATTATATTCATATTCTGTTGCCAGAAAA\n",
            "****Alignment****\n",
            "sequence: gi|144607|gb|M19487.1|PLMORF Chlamydia trachomatis plasmid pCTT1 unknown proteins (ORF2-7) and dnaB-like protein genes, complete cds, and unknown protein (ORF1) and replication protein genes, partial cds\n",
            "length: 7496\n",
            "e value: 1.18326e-46\n",
            "GGTAAGTCCTCTAGTACAAACACCCCCAATATTGTGATATAATTAAAATTATATTCATATTCTGTTGCCAGAAAA\n",
            "----------------------------------\n",
            "||||||||||||||||||||||||| |||||||||||||||||||||||||||||||||||||||||||||||||\n",
            "----------------------------------\n",
            "GGTAAGTCCTCTAGTACAAACACCCACAATATTGTGATATAATTAAAATTATATTCATATTCTGTTGCCAGAAAA\n",
            "****Alignment****\n",
            "sequence: gi|1034271323|gb|CP015295.1| Chlamydia trachomatis strain E-103 plasmid CtrE-103, complete sequence\n",
            "length: 7502\n",
            "e value: 1.18326e-46\n",
            "GGTAAGTCCTCTAGTACAAACACCCCCAATATTGTGATATAATTAAAATTATATTCATATTCTGTTGCCAGAAAA\n",
            "----------------------------------\n",
            "||||| ||||||||||||||||||| |||||||||||||||||||||||||||||||||||||||||||||||||\n",
            "----------------------------------\n",
            "GGTAATTCCTCTAGTACAAACACCCACAATATTGTGATATAATTAAAATTATATTCATATTCTGTTGCCAGAAAA\n",
            "****Alignment****\n",
            "sequence: gi|899747183|gb|CP010570.1| Chlamydia trachomatis strain F/CS847/08 plasmid, complete sequence\n",
            "length: 7493\n",
            "e value: 1.18326e-46\n",
            "GGTAAGTCCTCTAGTACAAACACCCCCAATATTGTGATATAATTAAAATTATATTCATATTCTGTTGCCAGAAAA\n",
            "----------------------------------\n",
            "||||| ||||||||||||||||||| |||||||||||||||||||||||||||||||||||||||||||||||||\n",
            "----------------------------------\n",
            "GGTAATTCCTCTAGTACAAACACCCACAATATTGTGATATAATTAAAATTATATTCATATTCTGTTGCCAGAAAA\n",
            "****Alignment****\n",
            "sequence: gi|899746270|gb|CP010568.1| Chlamydia trachomatis strain E/CS1025/11 plasmid, complete sequence\n",
            "length: 7502\n",
            "e value: 1.18326e-46\n",
            "GGTAAGTCCTCTAGTACAAACACCCCCAATATTGTGATATAATTAAAATTATATTCATATTCTGTTGCCAGAAAA\n",
            "----------------------------------\n",
            "||||| ||||||||||||||||||| |||||||||||||||||||||||||||||||||||||||||||||||||\n",
            "----------------------------------\n",
            "GGTAATTCCTCTAGTACAAACACCCACAATATTGTGATATAATTAAAATTATATTCATATTCTGTTGCCAGAAAA\n",
            "****Alignment****\n",
            "sequence: gi|568246878|gb|KF724860.1| Transformation vector pGFPBSDZ-SW2, complete sequence\n",
            "length: 10764\n",
            "e value: 1.18326e-46\n",
            "GGTAAGTCCTCTAGTACAAACACCCCCAATATTGTGATATAATTAAAATTATATTCATATTCTGTTGCCAGAAAA\n",
            "----------------------------------\n",
            "||||| ||||||||||||||||||| |||||||||||||||||||||||||||||||||||||||||||||||||\n",
            "----------------------------------\n",
            "GGTAATTCCTCTAGTACAAACACCCACAATATTGTGATATAATTAAAATTATATTCATATTCTGTTGCCAGAAAA\n",
            "****Alignment****\n",
            "sequence: gi|380252708|emb|HE603233.1| Chlamydia trachomatis E/SotonE8 plasmid pSotonE8 complete sequence >gi|1034274998|gb|CP015303.1| Chlamydia trachomatis strain E-32931 plasmid pCtrE32931, complete sequence\n",
            "length: 7502\n",
            "e value: 1.18326e-46\n",
            "GGTAAGTCCTCTAGTACAAACACCCCCAATATTGTGATATAATTAAAATTATATTCATATTCTGTTGCCAGAAAA\n",
            "----------------------------------\n",
            "||||| ||||||||||||||||||| |||||||||||||||||||||||||||||||||||||||||||||||||\n",
            "----------------------------------\n",
            "GGTAATTCCTCTAGTACAAACACCCACAATATTGTGATATAATTAAAATTATATTCATATTCTGTTGCCAGAAAA\n",
            "****Alignment****\n",
            "sequence: gi|380252699|emb|HE603232.1| Chlamydia trachomatis E/SotonE4 plasmid pSotonE4 complete sequence\n",
            "length: 7502\n",
            "e value: 1.18326e-46\n",
            "GGTAAGTCCTCTAGTACAAACACCCCCAATATTGTGATATAATTAAAATTATATTCATATTCTGTTGCCAGAAAA\n",
            "----------------------------------\n",
            "||||| ||||||||||||||||||| |||||||||||||||||||||||||||||||||||||||||||||||||\n",
            "----------------------------------\n",
            "GGTAATTCCTCTAGTACAAACACCCACAATATTGTGATATAATTAAAATTATATTCATATTCTGTTGCCAGAAAA\n",
            "****Alignment****\n",
            "sequence: gi|228007421|emb|FM865440.1| Chlamydia trachomatis plasmid pSW3, strain Sweden3, serovar E >gi|380251462|emb|HE603212.1| Chlamydia trachomatis E/Bour plasmid pBour complete sequence >gi|464093961|emb|HF562299.1| Chlamydia trachomatis IU824 plasmid pIU824, complete sequence >gi|464094928|emb|HF562301.1| Chlamydia trachomatis IU888 plasmid pIU888, complete sequence >gi|478751006|gb|CP003970.1| Chlamydia trachomatis strain E/CS88(i) plasmid pE/CS88(i), complete sequence >gi|478751015|gb|CP003971.1| Chlamydia trachomatis strain E/CS88(f) plasmid pE/CS88(f), complete sequence >gi|1034272238|gb|CP015297.1| Chlamydia trachomatis strain E-160 plasmid pCtrE160, complete sequence >gi|1034273152|gb|CP015299.1| Chlamydia trachomatis strain E-547 plasmid pCtrE547, complete sequence\n",
            "length: 7502\n",
            "e value: 1.18326e-46\n",
            "GGTAAGTCCTCTAGTACAAACACCCCCAATATTGTGATATAATTAAAATTATATTCATATTCTGTTGCCAGAAAA\n",
            "----------------------------------\n",
            "||||| ||||||||||||||||||| |||||||||||||||||||||||||||||||||||||||||||||||||\n",
            "----------------------------------\n",
            "GGTAATTCCTCTAGTACAAACACCCACAATATTGTGATATAATTAAAATTATATTCATATTCTGTTGCCAGAAAA\n",
            "****Alignment****\n",
            "sequence: gi|228007412|emb|FM865439.1| Chlamydia trachomatis plasmid pSW2, strain Sweden2, serovar E\n",
            "length: 7169\n",
            "e value: 1.18326e-46\n",
            "GGTAAGTCCTCTAGTACAAACACCCCCAATATTGTGATATAATTAAAATTATATTCATATTCTGTTGCCAGAAAA\n",
            "----------------------------------\n",
            "||||| ||||||||||||||||||| |||||||||||||||||||||||||||||||||||||||||||||||||\n",
            "----------------------------------\n",
            "GGTAATTCCTCTAGTACAAACACCCACAATATTGTGATATAATTAAAATTATATTCATATTCTGTTGCCAGAAAA\n",
            "****Alignment****\n",
            "sequence: gi|119352261|gb|EF121757.1| Chlamydia trachomatis plasmid pLGV440 sequence flanking a deletion\n",
            "length: 607\n",
            "e value: 1.18326e-46\n",
            "GGTAAGTCCTCTAGTACAAACACCCCCAATATTGTGATATAATTAAAATTATATTCATATTCTGTTGCCAGAAAA\n",
            "----------------------------------\n",
            "||||| ||||||||||||||||||| |||||||||||||||||||||||||||||||||||||||||||||||||\n",
            "----------------------------------\n",
            "GGTAATTCCTCTAGTACAAACACCCACAATATTGTGATATAATTAAAATTATATTCATATTCTGTTGCCAGAAAA\n",
            "****Alignment****\n",
            "sequence: gi|575868419|gb|KF790909.1| Cloning vector pBOMB4R-MCI, complete sequence\n",
            "length: 10768\n",
            "e value: 3.62282e-34\n",
            "CCAATATTGTGATATAATTAAAATTATATTCATATTCTGTTGCCAGAAAAAACACTTTTAGGCTATATTAGAGCC\n",
            "----------------------------------\n",
            "||| ||  |||||||||||||||||||||||||||||||||||||||||||||||||||||||||||||||||||\n",
            "----------------------------------\n",
            "CCATTAAGGTGATATAATTAAAATTATATTCATATTCTGTTGCCAGAAAAAACACTTTTAGGCTATATTAGAGCC\n",
            "****Alignment****\n",
            "sequence: gi|575868419|gb|KF790909.1| Cloning vector pBOMB4R-MCI, complete sequence\n",
            "length: 10768\n",
            "e value: 2.28625e-30\n",
            "GGTAAGTCCTCTAGTACAAACACCCCCAATATTGTGATATAATTAAAATTATATTCATATTCTGTTGCCAGAAAA\n",
            "----------------------------------\n",
            "|||||||||||||||||||||||||||||||||||||||||||||||||||||||||||||||||||||||||||\n",
            "----------------------------------\n",
            "GGTAAGTCCTCTAGTACAAACACCCCCAATATTGTGATATAATTAAAATTATATTCATATTCTGTTGCCAGAAAA\n",
            "****Alignment****\n",
            "sequence: gi|575868417|gb|KF790908.1| Cloning vector pBOMB4R, complete sequence\n",
            "length: 10755\n",
            "e value: 3.62282e-34\n",
            "CCAATATTGTGATATAATTAAAATTATATTCATATTCTGTTGCCAGAAAAAACACTTTTAGGCTATATTAGAGCC\n",
            "----------------------------------\n",
            "||| ||  |||||||||||||||||||||||||||||||||||||||||||||||||||||||||||||||||||\n",
            "----------------------------------\n",
            "CCATTAAGGTGATATAATTAAAATTATATTCATATTCTGTTGCCAGAAAAAACACTTTTAGGCTATATTAGAGCC\n",
            "****Alignment****\n",
            "sequence: gi|575868417|gb|KF790908.1| Cloning vector pBOMB4R, complete sequence\n",
            "length: 10755\n",
            "e value: 2.28625e-30\n",
            "GGTAAGTCCTCTAGTACAAACACCCCCAATATTGTGATATAATTAAAATTATATTCATATTCTGTTGCCAGAAAA\n",
            "----------------------------------\n",
            "|||||||||||||||||||||||||||||||||||||||||||||||||||||||||||||||||||||||||||\n",
            "----------------------------------\n",
            "GGTAAGTCCTCTAGTACAAACACCCCCAATATTGTGATATAATTAAAATTATATTCATATTCTGTTGCCAGAAAA\n",
            "****Alignment****\n",
            "sequence: gi|1834305694|gb|MT241513.1| Cloning vector pREF100, complete sequence\n",
            "length: 11748\n",
            "e value: 3.62282e-34\n",
            "GTGATATAATTAAAATTATATTCATATTCTGTTGCCAGAAAAAACACTTTTAGGCTATATTAGAGCCATCTTCTT\n",
            "----------------------------------\n",
            "|||||||||||||||||||||||||||||||||||||||||||||||||||||||||||||||||||||||||||\n",
            "----------------------------------\n",
            "GTGATATAATTAAAATTATATTCATATTCTGTTGCCAGAAAAAACACTTTTAGGCTATATTAGAGCCATCTTCTT\n",
            "****Alignment****\n",
            "sequence: gi|1834305694|gb|MT241513.1| Cloning vector pREF100, complete sequence\n",
            "length: 11748\n",
            "e value: 4.4135e-33\n",
            "GGTAAGTCCTCTAGTACAAACACCCCCAATATTGTGATATAATTAAAATTATATTCATATTCTGTTGCCAGAAAA\n",
            "----------------------------------\n",
            "|||||||||||||||||||||||||||||||||||||||||||||||||||||||||||||||||||||||||||\n",
            "----------------------------------\n",
            "GGTAAGTCCTCTAGTACAAACACCCCCAATATTGTGATATAATTAAAATTATATTCATATTCTGTTGCCAGAAAA\n",
            "****Alignment****\n",
            "sequence: gi|2577273931|gb|OR270824.1| Chlamydia trachomatis isolate 1CP_CRYP_F06 hypothetical protein gene, complete cds\n",
            "length: 315\n",
            "e value: 3.62282e-34\n",
            "GTGATATAATTAAAATTATATTCATATTCTGTTGCCAGAAAAAACACTTTTAGGCTATATTAGAGCCATCTTCTT\n",
            "----------------------------------\n",
            "|||||||||||||||||||||||||||||||||||||||||||||||||||||||||||||||||||||||||||\n",
            "----------------------------------\n",
            "GTGATATAATTAAAATTATATTCATATTCTGTTGCCAGAAAAAACACTTTTAGGCTATATTAGAGCCATCTTCTT\n",
            "53\n"
          ]
        }
      ]
    },
    {
      "cell_type": "code",
      "source": [
        "from Bio import Entrez, SeqIO\n",
        "Entrez.email = \"chltjs1921@gmail.com\"\n",
        "handle = Entrez.efetch(db='nucleotide', id='MN908947', rettype='gb', retmode='text')\n",
        "record = list(SeqIO.parse(handle, 'gb'))\n",
        "handle.close()\n",
        "record"
      ],
      "metadata": {
        "colab": {
          "base_uri": "https://localhost:8080/"
        },
        "id": "wcQUHXzltmuh",
        "outputId": "26f36518-692d-401b-d90d-27c443f67706"
      },
      "execution_count": null,
      "outputs": [
        {
          "output_type": "execute_result",
          "data": {
            "text/plain": [
              "[SeqRecord(seq=Seq('ATTAAAGGTTTATACCTTCCCAGGTAACAAACCAACCAACTTTCGATCTCTTGT...AAA'), id='MN908947.3', name='MN908947', description='Severe acute respiratory syndrome coronavirus 2 isolate Wuhan-Hu-1, complete genome', dbxrefs=[])]"
            ]
          },
          "metadata": {},
          "execution_count": 101
        }
      ]
    },
    {
      "cell_type": "code",
      "source": [
        "covid_dna = record[0].seq\n",
        "covid_dna"
      ],
      "metadata": {
        "colab": {
          "base_uri": "https://localhost:8080/"
        },
        "id": "_wtFO7gDuQ0H",
        "outputId": "5f59953a-5c2c-49a8-cded-af0656e3a893"
      },
      "execution_count": null,
      "outputs": [
        {
          "output_type": "execute_result",
          "data": {
            "text/plain": [
              "Seq('ATTAAAGGTTTATACCTTCCCAGGTAACAAACCAACCAACTTTCGATCTCTTGT...AAA')"
            ]
          },
          "metadata": {},
          "execution_count": 102
        }
      ]
    },
    {
      "cell_type": "code",
      "source": [
        "len(covid_dna)"
      ],
      "metadata": {
        "colab": {
          "base_uri": "https://localhost:8080/"
        },
        "id": "i2Qgz9OUuVrJ",
        "outputId": "8ff19803-2b9b-4135-b4e9-045bfd654eee"
      },
      "execution_count": null,
      "outputs": [
        {
          "output_type": "execute_result",
          "data": {
            "text/plain": [
              "29903"
            ]
          },
          "metadata": {},
          "execution_count": 103
        }
      ]
    },
    {
      "cell_type": "code",
      "source": [
        "from Bio.SeqUtils import molecular_weight\n",
        "molecular_weight(covid_dna)"
      ],
      "metadata": {
        "colab": {
          "base_uri": "https://localhost:8080/"
        },
        "id": "W5O4RtOauXyI",
        "outputId": "59276464-23aa-48ec-d11b-ff9bfa187284"
      },
      "execution_count": null,
      "outputs": [
        {
          "output_type": "execute_result",
          "data": {
            "text/plain": [
              "9241219.214400413"
            ]
          },
          "metadata": {},
          "execution_count": 104
        }
      ]
    },
    {
      "cell_type": "code",
      "source": [
        "from Bio.SeqUtils import gc_fraction\n",
        "gc_fraction(covid_dna)"
      ],
      "metadata": {
        "colab": {
          "base_uri": "https://localhost:8080/"
        },
        "id": "2yFjSF-8ucR2",
        "outputId": "7a427354-0346-4c9c-c9f3-56046e6c6e67"
      },
      "execution_count": null,
      "outputs": [
        {
          "output_type": "execute_result",
          "data": {
            "text/plain": [
              "0.3797277865097147"
            ]
          },
          "metadata": {},
          "execution_count": 105
        }
      ]
    },
    {
      "cell_type": "code",
      "source": [
        "count_nucleotides = {\n",
        "    'A': covid_dna.count('A'),\n",
        "    'T': covid_dna.count('T'),\n",
        "    'C': covid_dna.count('C'),\n",
        "    'G': covid_dna.count('G')\n",
        "}\n",
        "count_nucleotides"
      ],
      "metadata": {
        "colab": {
          "base_uri": "https://localhost:8080/"
        },
        "id": "7pAJUiSluhCS",
        "outputId": "daea45a2-4fd4-4b11-ad27-bdd1f819c319"
      },
      "execution_count": null,
      "outputs": [
        {
          "output_type": "execute_result",
          "data": {
            "text/plain": [
              "{'A': 8954, 'T': 9594, 'C': 5492, 'G': 5863}"
            ]
          },
          "metadata": {},
          "execution_count": 106
        }
      ]
    },
    {
      "cell_type": "code",
      "source": [
        "import matplotlib.pyplot as plt\n",
        "plt.bar(count_nucleotides.keys(), count_nucleotides.values())\n",
        "plt.show()"
      ],
      "metadata": {
        "colab": {
          "base_uri": "https://localhost:8080/",
          "height": 433
        },
        "id": "4YBRAp2euuZ1",
        "outputId": "438538e9-45f0-404a-8e4d-a9c1fb3a9c72"
      },
      "execution_count": null,
      "outputs": [
        {
          "output_type": "display_data",
          "data": {
            "text/plain": [
              "<Figure size 640x480 with 1 Axes>"
            ],
            "image/png": "[encoded data removed]"
          },
          "metadata": {}
        }
      ]
    },
    {
      "cell_type": "code",
      "source": [
        "covid_mrna = covid_dna.transcribe()\n",
        "covid_mrna"
      ],
      "metadata": {
        "colab": {
          "base_uri": "https://localhost:8080/"
        },
        "id": "0tlv-aQwu8gN",
        "outputId": "9c60e9e8-9b46-46a4-d02a-fcbc521191ac"
      },
      "execution_count": null,
      "outputs": [
        {
          "output_type": "execute_result",
          "data": {
            "text/plain": [
              "Seq('AUUAAAGGUUUAUACCUUCCCAGGUAACAAACCAACCAACUUUCGAUCUCUUGU...AAA')"
            ]
          },
          "metadata": {},
          "execution_count": 108
        }
      ]
    },
    {
      "cell_type": "code",
      "source": [
        "covid_aa = covid_mrna.translate()\n",
        "covid_aa"
      ],
      "metadata": {
        "colab": {
          "base_uri": "https://localhost:8080/"
        },
        "id": "UL97oM49u_wH",
        "outputId": "c6390cfc-32e6-41df-be7a-afb47a61ef62"
      },
      "execution_count": null,
      "outputs": [
        {
          "output_type": "stream",
          "name": "stderr",
          "text": [
            "/usr/local/lib/python3.10/dist-packages/Bio/Seq.py:2879: BiopythonWarning: Partial codon, len(sequence) not a multiple of three. Explicitly trim the sequence or add trailing N before translation. This may become an error in future.\n",
            "  warnings.warn(\n"
          ]
        },
        {
          "output_type": "execute_result",
          "data": {
            "text/plain": [
              "Seq('IKGLYLPR*QTNQLSISCRSVL*TNFKICVAVTRLHA*CTHAV*LITNYCR*QD...KKK')"
            ]
          },
          "metadata": {},
          "execution_count": 109
        }
      ]
    },
    {
      "cell_type": "code",
      "source": [
        "from collections import Counter\n",
        "common_amino = Counter(covid_aa)\n",
        "common_amino.most_common(10)"
      ],
      "metadata": {
        "colab": {
          "base_uri": "https://localhost:8080/"
        },
        "id": "SQFUk0movHKH",
        "outputId": "0617da84-4b91-41a7-bbff-e31192cf8f62"
      },
      "execution_count": null,
      "outputs": [
        {
          "output_type": "execute_result",
          "data": {
            "text/plain": [
              "[('L', 886),\n",
              " ('S', 810),\n",
              " ('*', 774),\n",
              " ('T', 679),\n",
              " ('C', 635),\n",
              " ('F', 593),\n",
              " ('R', 558),\n",
              " ('V', 548),\n",
              " ('Y', 505),\n",
              " ('N', 472)]"
            ]
          },
          "metadata": {},
          "execution_count": 112
        }
      ]
    },
    {
      "cell_type": "code",
      "source": [
        "del common_amino['*']"
      ],
      "metadata": {
        "id": "xXwIZrgBvRm5"
      },
      "execution_count": null,
      "outputs": []
    },
    {
      "cell_type": "code",
      "source": [
        "plt.bar(common_amino.keys(), common_amino.values())\n",
        "plt.show()"
      ],
      "metadata": {
        "colab": {
          "base_uri": "https://localhost:8080/",
          "height": 430
        },
        "id": "AVzyxeJ8vifj",
        "outputId": "92322e63-7dff-4162-8a35-6fbb74cfa12b"
      },
      "execution_count": null,
      "outputs": [
        {
          "output_type": "display_data",
          "data": {
            "text/plain": [
              "<Figure size 640x480 with 1 Axes>"
            ],
            "image/png": "[encoded data removed]"
          },
          "metadata": {}
        }
      ]
    },
    {
      "cell_type": "code",
      "source": [
        "sum(common_amino.values())"
      ],
      "metadata": {
        "colab": {
          "base_uri": "https://localhost:8080/"
        },
        "id": "754DTrVEvnNW",
        "outputId": "3cb86e7c-00fb-4286-ea59-5d82c624f570"
      },
      "execution_count": null,
      "outputs": [
        {
          "output_type": "execute_result",
          "data": {
            "text/plain": [
              "9193"
            ]
          },
          "metadata": {},
          "execution_count": 116
        }
      ]
    },
    {
      "cell_type": "code",
      "source": [
        "proteins = covid_aa.split('*')\n",
        "proteins"
      ],
      "metadata": {
        "colab": {
          "base_uri": "https://localhost:8080/"
        },
        "id": "l5X5HHqsvue8",
        "outputId": "e1de50ea-b0f9-4ab1-93f4-39f31039a04d"
      },
      "execution_count": null,
      "outputs": [
        {
          "output_type": "execute_result",
          "data": {
            "text/plain": [
              "[Seq('IKGLYLPR'),\n",
              " Seq('QTNQLSISCRSVL'),\n",
              " Seq('TNFKICVAVTRLHA'),\n",
              " Seq('CTHAV'),\n",
              " Seq('LITNYCR'),\n",
              " Seq('QDTSNSSIFCRLLTVSSVLQPIISTSRFRPGVTER'),\n",
              " Seq('DGEPCPWFQRENTRPTQFACFTGSRRARTWLWRLRGGGLIRGTSTS'),\n",
              " Seq('RWHLWLSRS'),\n",
              " Seq('KRRFAST'),\n",
              " Seq('TALCVHQTFGCSNCTSWSCYG'),\n",
              " Seq('AGSRTRRHSVRS'),\n",
              " Seq('W'),\n",
              " Seq('DTWCPCPSCGRNTSGLPQGSSS'),\n",
              " Seq('ER'),\n",
              " Seq(''),\n",
              " Seq('RSWWP'),\n",
              " Seq('LRRRSKVI'),\n",
              " Seq('LRRRAWH'),\n",
              " Seq('SL'),\n",
              " Seq('RFSRKLEH'),\n",
              " Seq('T'),\n",
              " Seq('QWCYP'),\n",
              " Seq('THA'),\n",
              " Seq('A'),\n",
              " Seq('RRGIHSLCR'),\n",
              " Seq('QLLWP'),\n",
              " Seq('WLPS'),\n",
              " Seq('VH'),\n",
              " Seq('RPSSTCW'),\n",
              " Seq('SFMHFVRTTGLY'),\n",
              " Seq('H'),\n",
              " Seq('EGCILLP'),\n",
              " Seq('T'),\n",
              " Seq('A'),\n",
              " Seq('NCLVHGTF'),\n",
              " Seq('KEL'),\n",
              " Seq('IADTF'),\n",
              " Seq('N'),\n",
              " Seq('IGKEI'),\n",
              " Seq('HLQWGMSKFCISLKFHNQDYSTKG'),\n",
              " Seq('KEKA'),\n",
              " Seq('WLYG'),\n",
              " Seq('NSICLSSCVTK'),\n",
              " Seq('MQPNVPFNSHEV'),\n",
              " Seq('SLW'),\n",
              " Seq('NFMADGRFC'),\n",
              " Seq('SHLRILWH'),\n",
              " Seq('EFD'),\n",
              " Seq('RRCHYLWLLTPKCCC'),\n",
              " Seq('NLLSSMSQFRSRT'),\n",
              " Seq('A'),\n",
              " Seq('SCRIP'),\n",
              " Seq(''),\n",
              " Seq('IWLENHSS'),\n",
              " Seq('GWSHYCLWRLCVLLCWLP'),\n",
              " Seq('QVCLLGSTC'),\n",
              " Seq('R'),\n",
              " Seq('HRL'),\n",
              " Seq('PYRCCWRRFRRS'),\n",
              " Seq(''),\n",
              " Seq('QPS'),\n",
              " Seq('NTPKRESQHQYCW'),\n",
              " Seq('L'),\n",
              " Seq('T'),\n",
              " Seq(''),\n",
              " Seq('RDRHYFGIFFCFHKCFCGNCERFGL'),\n",
              " Seq('SIQTNC'),\n",
              " Seq('ILW'),\n",
              " Seq('F'),\n",
              " Seq('SYKRKS'),\n",
              " Seq('KRCLEYW'),\n",
              " Seq('TEINTESSLCICIRGCSCCTINFLPHS'),\n",
              " Seq('NCSKFCACFTEGRYNNTRWNFTVFTETH'),\n",
              " Seq('CYDVHI'),\n",
              " Seq('FGY'),\n",
              " Seq('QSSCNGLHYRWCCSVDFAVAN'),\n",
              " Seq('HLWHCL'),\n",
              " Seq('KTQTRP'),\n",
              " Seq('LA'),\n",
              " Seq('REV'),\n",
              " Seq('GRCRVS'),\n",
              " Seq('RRLGNC'),\n",
              " Seq('IYLNLCL'),\n",
              " Seq('NCRWTNCHLCKGN'),\n",
              " Seq('GECSDIL'),\n",
              " Seq('ACK'),\n",
              " Seq('IFGFVC'),\n",
              " Seq('LYHYWWS'),\n",
              " Seq('T'),\n",
              " Seq('SLEFR'),\n",
              " Seq('NICHALKGIVQKVC'),\n",
              " Seq('IQRRNWPTHASKSPKRNYLLRGRNTSHRSVNRGSCLENW'),\n",
              " Seq('FTTIRTTY'),\n",
              " Seq(''),\n",
              " Seq('SC'),\n",
              " Seq('SSIGWYTSLY'),\n",
              " Seq('RAYVARNQRHRKVLCPCT'),\n",
              " Seq('YDGNKQYLHTQRRCTNKGYFW'),\n",
              " Seq(''),\n",
              " Seq('HCDRSARLQECEYHF'),\n",
              " Seq('T'),\n",
              " Seq(''),\n",
              " Seq('KD'),\n",
              " Seq(''),\n",
              " Seq('ST'),\n",
              " Seq(''),\n",
              " Seq('EVLCLYS'),\n",
              " Seq('TRYRSK'),\n",
              " Seq('VRLCCGRCCHKNFATSI'),\n",
              " Seq('ITYTTGH'),\n",
              " Seq('FR'),\n",
              " Seq('VEYGYILLI'),\n",
              " Seq(''),\n",
              " Seq('VW'),\n",
              " Seq('V'),\n",
              " Seq('IGFTYVLFFLPSR'),\n",
              " Seq('G'),\n",
              " Seq('RRR'),\n",
              " Seq('L'),\n",
              " Seq('RRRV'),\n",
              " Seq('AINSI'),\n",
              " Seq('VWY'),\n",
              " Seq('R'),\n",
              " Seq('LPR'),\n",
              " Seq('TFGIWCHFCCSST'),\n",
              " Seq('RRARRRLVR'),\n",
              " Seq(''),\n",
              " Seq(''),\n",
              " Seq('STNCWSTRRQ'),\n",
              " Seq('GQSDNYYSNNC'),\n",
              " Seq('GSTSIRDGTYTSCSDY'),\n",
              " Seq('SE'),\n",
              " Seq('F'),\n",
              " Seq('WLFKTY'),\n",
              " Seq('QCIH'),\n",
              " Seq('KCRHCGRS'),\n",
              " Seq('KGKTNSGC'),\n",
              " Seq('CSQCLP'),\n",
              " Seq('TWRRCCRSLK'),\n",
              " Seq('GY'),\n",
              " Seq('QCHAS'),\n",
              " Seq('I'),\n",
              " Seq(''),\n",
              " Seq('LHSY'),\n",
              " Seq('WTT'),\n",
              " Seq('SGW'),\n",
              " Seq('LCFKRTQSC'),\n",
              " Seq('TLSSCCRPKC'),\n",
              " Seq('QR'),\n",
              " Seq('RHSTS'),\n",
              " Seq('ECL'),\n",
              " Seq('KF'),\n",
              " Seq('SARSSTCTIIISWYFWC'),\n",
              " Seq('PYTFFKSLCRYCSHKCLLSCL'),\n",
              " Seq(''),\n",
              " Seq('KSL'),\n",
              " Seq('QTCFKLFGNEE'),\n",
              " Seq('KAS'),\n",
              " Seq('TKDR'),\n",
              " Seq('DS'),\n",
              " Seq('RGS'),\n",
              " Seq('AIYN'),\n",
              " Seq('K'),\n",
              " Seq('TFS'),\n",
              " Seq('TEKTR'),\n",
              " Seq(''),\n",
              " Seq('ENQSLC'),\n",
              " Seq('RSYNNSGRN'),\n",
              " Seq('VPHRKLVTLY'),\n",
              " Seq('H'),\n",
              " Seq('WQSSSRFCHSC'),\n",
              " Seq(''),\n",
              " Seq('H'),\n",
              " Seq('HHFLKERCSIYSG'),\n",
              " Seq('CCSRGCFNCCGYTY'),\n",
              " Seq('KGWWHY'),\n",
              " Seq('NASESFEKSANRQLYNHLPGSGFKWLHCRGGKDSA'),\n",
              " Seq('KV'),\n",
              " Seq('KCLLHSTIYYL'),\n",
              " Seq(''),\n",
              " Seq('EARNSWNCFLEFARNACTCRRNTQINACLCGN'),\n",
              " Seq('SHSFNYTA'),\n",
              " Seq('I'),\n",
              " Seq('GY'),\n",
              " Seq('NTRGCG'),\n",
              " Seq('LWC'),\n",
              " Seq('ILLLHQ'),\n",
              " Seq('NNCSVTYQHT'),\n",
              " Seq('RSK'),\n",
              " Seq('NSCYNATWLCNTWLKFGRSCSVYEISQSASYSFCFFT'),\n",
              " Seq('CCYSV'),\n",
              " Seq('WLSYFFF'),\n",
              " Seq('NT'),\n",
              " Seq('RTFY'),\n",
              " Seq('NHLTCWFL'),\n",
              " Seq('RLVLFWTIYTTRYRIS'),\n",
              " Seq('ER'),\n",
              " Seq(''),\n",
              " Seq('KCILH'),\n",
              " Seq(''),\n",
              " Seq('SYHIPPRW'),\n",
              " Seq('SYHL'),\n",
              " Seq('QS'),\n",
              " Seq('DTSFFERSEDY'),\n",
              " Seq('GVYNSRQH'),\n",
              " Seq('PPHASCGHVNDIWTTVWSNLFGWS'),\n",
              " Seq('CY'),\n",
              " Seq('NKTS'),\n",
              " Seq('FT'),\n",
              " Seq('R'),\n",
              " Seq('NILCFT'),\n",
              " Seq(''),\n",
              " Seq(''),\n",
              " Seq('HSTC'),\n",
              " Seq('GF'),\n",
              " Seq('VLPHN'),\n",
              " Seq('S'),\n",
              " Seq('FSG'),\n",
              " Seq('VHVSIKSH'),\n",
              " Seq('KVEIPTS'),\n",
              " Seq('WFNFY'),\n",
              " Seq('MGR'),\n",
              " Seq('QLLSCHCIVNTPTNRVEV'),\n",
              " Seq('STCSTRCLLQSKGW'),\n",
              " Seq('SC'),\n",
              " Seq('LLCTYLSLL'),\n",
              " Seq(''),\n",
              " Seq('DSR'),\n",
              " Seq('VR'),\n",
              " Seq('C'),\n",
              " Seq('RNNELLVSTCQFRFLQKSLERGV'),\n",
              " Seq('NLWTTADNP'),\n",
              " Seq('GCRSCYVHGHTFL'),\n",
              " Seq('TI'),\n",
              " Seq('ERCSDTLYVW'),\n",
              " Seq('TSYKISSTTGVTFCYDVSTTCSV'),\n",
              " Seq('T'),\n",
              " Seq('AWYIYLC'),\n",
              " Seq(''),\n",
              " Seq('VHW'),\n",
              " Seq('LPVWSL'),\n",
              " Seq('TYNF'),\n",
              " Seq('RNFVLHRRCFTYKVLRIQRSYYGCFLQRKQLHNNHKTSYL'),\n",
              " Seq('IGWCCLYRN'),\n",
              " Seq('P'),\n",
              " Seq('VGQLL'),\n",
              " Seq('ERQFLFHRATN'),\n",
              " Seq('SCTKPTISKRKLR'),\n",
              " Seq('F'),\n",
              " Seq('VCM'),\n",
              " Seq(''),\n",
              " Seq('YQIC'),\n",
              " Seq(''),\n",
              " Seq('FKPVNWL'),\n",
              " Seq('ETCFKRA'),\n",
              " Seq('SYIFP'),\n",
              " Seq('LKW'),\n",
              " Seq('CGGY'),\n",
              " Seq('L'),\n",
              " Seq('TLHTLF'),\n",
              " Seq('ERS'),\n",
              " Seq('IVT'),\n",
              " Seq('TYCLAC'),\n",
              " Seq('QCN'),\n",
              " Seq(''),\n",
              " Seq('SHV'),\n",
              " Seq('TKYLVYTLSLEHKTS'),\n",
              " Seq('NIKFV'),\n",
              " Seq('CTEVRGRAGNG'),\n",
              " Seq('SCLRRSKTSL'),\n",
              " Seq('RSSGKSYHTERRS'),\n",
              " Seq('V'),\n",
              " Seq('CENYRSCRRHYT'),\n",
              " Seq('TSK'),\n",
              " Seq(''),\n",
              " Seq('FKNYRRGWPHRSNGCLCRQF'),\n",
              " Seq('SYY'),\n",
              " Seq('ET'),\n",
              " Seq(''),\n",
              " Seq('II'),\n",
              " Seq('SIRFENPCYSWFSCC'),\n",
              " Seq(''),\n",
              " Seq('CPLGYYS'),\n",
              " Seq('LC'),\n",
              " Seq('AFS'),\n",
              " Seq('QSC'),\n",
              " Seq('YNY'),\n",
              " Seq('HSYTVFKPCLY'),\n",
              " Seq('LYALFLYFIATIVYFY'),\n",
              " Seq('KYKF'),\n",
              " Seq('N'),\n",
              " Seq('SIYADYYSKEYC'),\n",
              " Seq('ECR'),\n",
              " Seq('ILSRGFI'),\n",
              " Seq('LFEVT'),\n",
              " Seq('FF'),\n",
              " Seq('TDKYYNLVFTIKCLPRFFNLLNRCFRCFNV'),\n",
              " Seq('FRHAFLLYWLQRRLFELY'),\n",
              " Seq('CHYCNLLYWFYTL'),\n",
              " Seq('CLS'),\n",
              " Seq('WFRFFRHLSFFRNYTNYHFIF'),\n",
              " Seq('MGFNCFWLSCRVVFGIYSFH'),\n",
              " Seq('VFLCTWIGCNHAIVFQLFCSTFY'),\n",
              " Seq(''),\n",
              " Seq('FLAYVVNN'),\n",
              " Seq('SCTNGPDFSYG'),\n",
              " Seq('NVHLLCIILLCMEKLCACCRRL'),\n",
              " Seq('FINLYDVLQT'),\n",
              " Seq(''),\n",
              " Seq('SNKSRMYNYC'),\n",
              " Seq('WC'),\n",
              " Seq('KVLLCLC'),\n",
              " Seq('WR'),\n",
              " Seq('RLLQTTQLELC'),\n",
              " Seq('L'),\n",
              " Seq('YILCW'),\n",
              " Seq('YIY'),\n",
              " Seq(''),\n",
              " Seq(''),\n",
              " Seq('SCERLVTTV'),\n",
              " Seq('KTNKSY'),\n",
              " Seq('PVFLHR'),\n",
              " Seq(''),\n",
              " Seq('CYSEEWFHPSLL'),\n",
              " Seq(''),\n",
              " Seq('SWSKDL'),\n",
              " Seq('KTFSLSFC'),\n",
              " Seq('LRQPES'),\n",
              " Seq(''),\n",
              " Seq('H'),\n",
              " Seq('RFIAY'),\n",
              " Seq('CYSF'),\n",
              " Seq('W'),\n",
              " Seq('IKM'),\n",
              " Seq('RIICKISVCLLQSAYVSTYTVTRSGISV'),\n",
              " Seq('CW'),\n",
              " Seq(''),\n",
              " Seq('CGSCS'),\n",
              " Seq('NV'),\n",
              " Seq('CLR'),\n",
              " Seq('YVFINF'),\n",
              " Seq('RTNGKTQNTSCNCRS'),\n",
              " Seq('TCKECVLRQCLIYFYFSSSARVC'),\n",
              " Seq('FRCRN'),\n",
              " Seq('RCC'),\n",
              " Seq('MS'),\n",
              " Seq('IVTSI'),\n",
              " Seq('HRSYWR'),\n",
              " Seq('L'),\n",
              " Seq(''),\n",
              " Seq('LYAHL'),\n",
              " Seq('QS'),\n",
              " Seq('KHDTP'),\n",
              " Seq('PWCLY'),\n",
              " Seq('L'),\n",
              " Seq('CASY'),\n",
              " Seq('CAGSKKSQHCFDMER'),\n",
              " Seq('RFHVIV'),\n",
              " Seq('TTTKTNT'),\n",
              " Seq('CC'),\n",
              " Seq('KE'),\n",
              " Seq('LTF'),\n",
              " Seq('VDMCNY'),\n",
              " Seq('TSC'),\n",
              " Seq('CCNNKDST'),\n",
              " Seq('GW'),\n",
              " Seq('NC'),\n",
              " Seq(''),\n",
              " Seq('LVEAVN'),\n",
              " Seq('SYTCVPFCCCYFLFNNTCSCHV'),\n",
              " Seq('TY'),\n",
              " Seq('LFK'),\n",
              " Seq('NHRIQGY'),\n",
              " Seq('WWCHS'),\n",
              " Seq('HSIYRYLFC'),\n",
              " Seq('QTC'),\n",
              " Seq('F'),\n",
              " Seq('HMV'),\n",
              " Seq('PAWW'),\n",
              " Seq('LY'),\n",
              " Seq(''),\n",
              " Seq('QSLPIDCCSHNKRSGFCRAWFAWHDITHN'),\n",
              " Seq('W'),\n",
              " Seq('LFAFLT'),\n",
              " Seq('SF'),\n",
              " Seq('CSW'),\n",
              " Seq('HLLHTIKTYRVH'),\n",
              " Seq('LCNISLCFGC'),\n",
              " Seq('MYNF'),\n",
              " Seq('RCFW'),\n",
              " Seq('ASTILL'),\n",
              " Seq('YQCTRRFCCL'),\n",
              " Seq('KFTP'),\n",
              " Seq('HTLCAHGWLYYSIS'),\n",
              " Seq('HLP'),\n",
              " Seq('RFC'),\n",
              " Seq('SGNNF'),\n",
              " Seq('F'),\n",
              " Seq('VL'),\n",
              " Seq('ARHL'),\n",
              " Seq('KIRSWCLCIY'),\n",
              " Seq('W'),\n",
              " Seq('MGT'),\n",
              " Seq('Q'),\n",
              " Seq('LLQIFTRSFLWCRCCKFTY'),\n",
              " Seq('YVYTTNSTYWCFGHISIYSSWWYCSYRSNMPCLLFYEV'),\n",
              " Seq('KSFW'),\n",
              " Seq('IQSCSCL'),\n",
              " Seq('YFTIPYVIHCTLFNTSLLILTWCLFCYLLVLDILSY'),\n",
              " Seq(''),\n",
              " Seq('CFFFSTYSVDGYVHTFSTFLDNNCLYHLYFHKAFLLVL'),\n",
              " Seq(''),\n",
              " Seq('LPKETCSL'),\n",
              " Seq('WCFL'),\n",
              " Seq('YF'),\n",
              " Seq('RSCAVHLFVK'),\n",
              " Seq('RNVSKVA'),\n",
              " Seq(''),\n",
              " Seq('CAITSYAI'),\n",
              " Seq(''),\n",
              " Seq('ILSSL'),\n",
              " Seq(''),\n",
              " Seq('VQVF'),\n",
              " Seq('WSNGYN'),\n",
              " Seq('LQRSCLLSSRKGSQ'),\n",
              " Seq('LQ'),\n",
              " Seq('LRF'),\n",
              " Seq('CSLPTTTNLYHLSCFAEWF'),\n",
              " Seq('KNGIPIW'),\n",
              " Seq('S'),\n",
              " Seq('GLYGTSNLWYNYT'),\n",
              " Seq('RSLA'),\n",
              " Seq(''),\n",
              " Seq('RSLLSKTCDLHL'),\n",
              " Seq('RHA'),\n",
              " Seq('P'),\n",
              " Seq('L'),\n",
              " Seq('RFTHS'),\n",
              " Seq('V'),\n",
              " Seq('S'),\n",
              " Seq('FLGTGW'),\n",
              " Seq('CSTQGYWTFYAKLCT'),\n",
              " Seq('A'),\n",
              " Seq('G'),\n",
              " Seq('YSQS'),\n",
              " Seq('DT'),\n",
              " Seq('V'),\n",
              " Seq('VCSHSTRTDFFSVSLLQWFTIWCLPMCYEAQFHY'),\n",
              " Seq('GFIP'),\n",
              " Seq('WFMW'),\n",
              " Seq('CWF'),\n",
              " Seq('HRL'),\n",
              " Seq('LCLFLLHAPYGITNWSSCWHRLRR'),\n",
              " Seq('LLWTFC'),\n",
              " Seq('QANSTSSWYGHNYYS'),\n",
              " Seq('CFSLVVRCCYKWRQVVSQSIYHNS'),\n",
              " Seq(''),\n",
              " Seq('L'),\n",
              " Seq('PCGYEVQL'),\n",
              " Seq('TSNTRPC'),\n",
              " Seq('HTRTSFCSNWNCRFRYVCFIKRITAKWYEWTYHIG'),\n",
              " Seq('CFIRR'),\n",
              " Seq('IYTF'),\n",
              " Seq('CC'),\n",
              " Seq('TMLRCYFPKCSEKNNQGYTPLVVTHNFDFTFSFSPEYSMVFVLFFV'),\n",
              " Seq('KCLFTFCYGYYCYVCFCNDVCQT'),\n",
              " Seq('ACISLFVFVTFSCHCSLF'),\n",
              " Seq('YGLYAC'),\n",
              " Seq('LGDAYYDMVGYG'),\n",
              " Seq('Y'),\n",
              " Seq('FVWF'),\n",
              " Seq('AKRLCYVCISCSVTNPYDSKNCV'),\n",
              " Seq(''),\n",
              " Seq('WC'),\n",
              " Seq('ESVDTYECLDTRL'),\n",
              " Seq('SLLW'),\n",
              " Seq('CFRSSHFHVGSYNLCYF'),\n",
              " Seq('LLRCSYNCHVFGQRYCFYVC'),\n",
              " Seq('VLPYFLHNW'),\n",
              " Seq('YTSVYNASLLFLRLFLYLLLWPLLFTQPLL'),\n",
              " Seq('TDSWCL'),\n",
              " Seq('LLSFYTGV'),\n",
              " Seq('IYEFTGTTPTQE'),\n",
              " Seq('HRCLQTQH'),\n",
              " Seq('IVGCWWQTLYQSSHCTV'),\n",
              " Seq('NVRCKVHISSLTLSFATTQSRIII'),\n",
              " Seq('IVGSMCPVTQ'),\n",
              " Seq('HSLS'),\n",
              " Seq('RYY'),\n",
              " Seq('SL'),\n",
              " Seq('KNGFTTFCFAFHAGCCRHKQAL'),\n",
              " Seq('RNAGQQGNLTSYSLRV'),\n",
              " Seq('FPSIICSFCYCSRSL'),\n",
              " Seq('AGCC'),\n",
              " Seq('W'),\n",
              " Seq('F'),\n",
              " Seq('SCS'),\n",
              " Seq('KVEEVFECG'),\n",
              " Seq('I'),\n",
              " Seq('I'),\n",
              " Seq('P'),\n",
              " Seq('CSHAT'),\n",
              " Seq('VGKDG'),\n",
              " Seq('SSYDPNV'),\n",
              " Seq('TG'),\n",
              " Seq('I'),\n",
              " Seq('GQEGKSY'),\n",
              " Seq('CYADNAFHYA'),\n",
              " Seq('KVG'),\n",
              " Seq(''),\n",
              " Seq('CTQQHYQQCKRWLCSLEHNTSYNSSQTNGCHTRL'),\n",
              " Seq('HI'),\n",
              " Seq('KYV'),\n",
              " Seq('WYNIYLCISIVGNPTGCRCR'),\n",
              " Seq(''),\n",
              " Seq('NCST'),\n",
              " Seq(''),\n",
              " Seq('N'),\n",
              " Seq('YGQFT'),\n",
              " Seq('FSMASYCNSFKGQFCCQITE'),\n",
              " Seq(''),\n",
              " Seq('A'),\n",
              " Seq('SCCTTTDVLCCRYYTNCLH'),\n",
              " Seq(''),\n",
              " Seq('QCVSLLQHNKGR'),\n",
              " Seq('VCTCTVIRFTGFEMG'),\n",
              " Seq('IP'),\n",
              " Seq('E'),\n",
              " Seq('WNWYYLYRTGTTL'),\n",
              " Seq('VCYRHT'),\n",
              " Seq('RS'),\n",
              " Seq('SEVFILY'),\n",
              " Seq('RIKQPK'),\n",
              " Seq('RYGTW'),\n",
              " Seq('FSCHSTSTSW'),\n",
              " Seq('CNRSACQFNCIIFLCFCCRCC'),\n",
              " Seq('SLQRLSS'),\n",
              " Seq('WGTTNH'),\n",
              " Seq('LC'),\n",
              " Seq('DVVYTHWYWSGNNSYTGSQYGSRILWWCIVLSVLPLPHRSSKS'),\n",
              " Seq('RIL'),\n",
              " Seq('LKR'),\n",
              " Seq('VCTNTYNLC'),\n",
              " Seq(''),\n",
              " Seq('PCGFYT'),\n",
              " Seq('KHSLYRLRYVERLWL'),\n",
              " Seq('L'),\n",
              " Seq('STPRTHASVS'),\n",
              " Seq('CTIVFKRVCGVSAARLTPCGTGTSTDVVYRAFDIYNDKVAGFAKFLKTNCCRFQ...VNN'),\n",
              " Seq('TNNVCFSCFIATSL'),\n",
              " Seq('SVC'),\n",
              " Seq('SYNQNSITPCIH'),\n",
              " Seq('FFHTWCLLP'),\n",
              " Seq('QSFQILSFTFNSGLVLTFLFQCYLVPCYTCLWDQWY'),\n",
              " Seq('EV'),\n",
              " Seq(''),\n",
              " Seq('PCPTI'),\n",
              " Seq(''),\n",
              " Seq('WCLFCFH'),\n",
              " Seq('EV'),\n",
              " Seq('HNKRLDFWYYFRFEDPVPTYC'),\n",
              " Seq(''),\n",
              " Seq('RY'),\n",
              " Seq('CCY'),\n",
              " Seq('SL'),\n",
              " Seq('ISIL'),\n",
              " Seq(''),\n",
              " Seq('SIFGCLLPQKQQKLDGK'),\n",
              " Seq('VQSLF'),\n",
              " Seq('CE'),\n",
              " Seq('LHF'),\n",
              " Seq('ICLSAFSYGP'),\n",
              " Seq('RKTG'),\n",
              " Seq('FQKS'),\n",
              " Seq('GICV'),\n",
              " Seq('EY'),\n",
              " Seq('WLF'),\n",
              " Seq('NIF'),\n",
              " Seq('AHAY'),\n",
              " Seq('FSA'),\n",
              " Seq('SPSGFFGFRTIGRFANRY'),\n",
              " Seq('HH'),\n",
              " Seq('VSNFTCFT'),\n",
              " Seq('KLFDSW'),\n",
              " Seq('FFFRLDSWCCSLLCGLSST'),\n",
              " Seq('DFSIKI'),\n",
              " Seq(''),\n",
              " Seq('KWNHYRCCRLCT'),\n",
              " Seq('PSLRNKVYVEILHCRKRNLSNF'),\n",
              " Seq('L'),\n",
              " Seq('SPTNRIYC'),\n",
              " Seq('IS'),\n",
              " Seq('YYKLVPFW'),\n",
              " Seq('SF'),\n",
              " Seq('RHQICICLCLEQEENQQLCC'),\n",
              " Seq('LFCPI'),\n",
              " Seq('FRIIFHF'),\n",
              " Seq('VLWSVSY'),\n",
              " Seq('IK'),\n",
              " Seq('SLLY'),\n",
              " Seq('CLCRFICN'),\n",
              " Seq('R'),\n",
              " Seq(''),\n",
              " Seq('SQTNRSRANWKDC'),\n",
              " Seq('L'),\n",
              " Seq('L'),\n",
              " Seq('ITR'),\n",
              " Seq('FYRLRYSLEF'),\n",
              " Seq('QS'),\n",
              " Seq('F'),\n",
              " Seq('GWW'),\n",
              " Seq('L'),\n",
              " Seq('LPV'),\n",
              " Seq('IV'),\n",
              " Seq('EV'),\n",
              " Seq('SQTF'),\n",
              " Seq('ERYFN'),\n",
              " Seq('NLSGR'),\n",
              " Seq('HTL'),\n",
              " Seq('WC'),\n",
              " Seq('RF'),\n",
              " Seq('LLLSFTIIWFPTH'),\n",
              " Seq('WCWLPTIQSSSTFF'),\n",
              " Seq('TSTCTSNCLWT'),\n",
              " Seq('KVY'),\n",
              " Seq('FG'),\n",
              " Seq('KQMCQFQLQWFNRHRCSY'),\n",
              " Seq('V'),\n",
              " Seq('QKVSAFPTIWQRHC'),\n",
              " Seq('HY'),\n",
              " Seq('CCP'),\n",
              " Seq('STDT'),\n",
              " Seq('DS'),\n",
              " Seq('HYTMFFWWCQCYNTRNKYF'),\n",
              " Seq('PGCCSLSGC'),\n",
              " Seq('LHRSPCCYSCRSTYSYLACLFYRF'),\n",
              " Seq('CFSNTCRLFNRG'),\n",
              " Seq('TCQQLI'),\n",
              " Seq('V'),\n",
              " Seq('HTHWCRYMR'),\n",
              " Seq('LSDSD'),\n",
              " Seq('FSSAGT'),\n",
              " Seq('CS'),\n",
              " Seq('SIHHCLHYVTWCRKFSCLL'),\n",
              " Seq(''),\n",
              " Seq('LYCHTHKFYY'),\n",
              " Seq('CYHRNSTSVYDQDISRLYNVHLW'),\n",
              " Seq('FN'),\n",
              " Seq('MQQSFVAIWQFLYTIKPCFNWNSC'),\n",
              " Seq('TRQKHPRSFCTSQTNLQNTTN'),\n",
              " Seq('RFWWF'),\n",
              " Seq('FFTNITRSIKTKQEVIY'),\n",
              " Seq('RSTFQQSDTCRCWLHQTIW'),\n",
              " Seq('LPW'),\n",
              " Seq('YCC'),\n",
              " Seq('RPHLCTKV'),\n",
              " Seq('RPYCFATFAHR'),\n",
              " Seq('NDCSIHFCTVSGYNHFWLDLWCRCCITNTICYANGL'),\n",
              " Seq('V'),\n",
              " Seq('WYWSYTECSL'),\n",
              " Seq('EPKIDCQPI'),\n",
              " Seq(''),\n",
              " Seq('CYWQNSRLTFFHSKCTWKTSRCGQPKCTSFKHAC'),\n",
              " Seq('TT'),\n",
              " Seq('LQFWCNFKCFK'),\n",
              " Seq('YPFTS'),\n",
              " Seq('QS'),\n",
              " Seq('G'),\n",
              " Seq('SAN'),\n",
              " Seq(''),\n",
              " Seq('VDHRQTSKFADICDSTIN'),\n",
              " Seq('SCRNQSFC'),\n",
              " Seq('SCCY'),\n",
              " Seq('NVRVCTWTIKKS'),\n",
              " Seq('FLWKGLSSYVLPSVSTSWCSLLACDLCPCTRKELHNCSCHLS'),\n",
              " Seq('WKSTLSS'),\n",
              " Seq('RCLCFKWHTLVCNTKEFL'),\n",
              " Seq('TTNHYYRQHICVW'),\n",
              " Seq('L'),\n",
              " Seq('CCNRNCQQHSL'),\n",
              " Seq('SFAT'),\n",
              " Seq('IRLIQGGVR'),\n",
              " Seq('IF'),\n",
              " Seq('ESYITRC'),\n",
              " Seq('FR'),\n",
              " Seq('HLWH'),\n",
              " Seq('CFSCKHSKRN'),\n",
              " Seq('PPQ'),\n",
              " Seq('GCQEFK'),\n",
              " Seq('ISHRSPRTWKV'),\n",
              " Seq('AVYKMAMVHLARFYSWLDCHSNGDNYALLYDQLL'),\n",
              " Seq('LSQGLLFLWILLQI'),\n",
              " Seq(''),\n",
              " Seq('RRL'),\n",
              " Seq('ASAQRSQITLHINELMDLFMRIFTIGTVTLKQGEIKDATPSDFVRATATIPIQA...VPL'),\n",
              " Seq('AQADEYELMYSFVSEETGTLIVNSVLLFLAFVVFLLVTLAILTALRLCAYCCNI...LLV'),\n",
              " Seq('TN'),\n",
              " Seq('ILY'),\n",
              " Seq('FFCLEL'),\n",
              " Seq('F'),\n",
              " Seq('PWQIPTVLLPLKSLKSSLNNGT'),\n",
              " Seq(''),\n",
              " Seq(''),\n",
              " Seq('VSYSLHGFVFYNLPMPTGIGFCI'),\n",
              " Seq('LS'),\n",
              " Seq('FSSGCYGQ'),\n",
              " Seq('L'),\n",
              " Seq('LVLCLLLFTE'),\n",
              " Seq('IGSPVELLSQWLVL'),\n",
              " Seq('A'),\n",
              " Seq('CGSATSLLLSDCLRVRVPCGHSIQKLTFFSTCHSMALF'),\n",
              " Seq('PDRF'),\n",
              " Seq('KVNS'),\n",
              " Seq('SEL'),\n",
              " Seq('SFVDIFVLLDTI'),\n",
              " Seq('DAVTSRTCLKKSLLLHHERFLITNWELRSV'),\n",
              " Seq('QVTQVLLHTVATGLATIN'),\n",
              " Seq('TQTIPVAVTILLCLYSK'),\n",
              " Seq('QQMFHLVDFQVTIAEILLIIMRTFKVSIWNLDYIINLIIKNLSKSLTENKYSQL...EID'),\n",
              " Seq('TNMKIILFLALITLATCELYHYQECVRGTTVLLKEPCSSGTYEGNSPFHPLADN...KTE'),\n",
              " Seq('LNFH'),\n",
              " Seq('LTSICAF'),\n",
              " Seq('PFCYSLF'),\n",
              " Seq('LCLLSFGSHLNCKIIMKLVTPKRT'),\n",
              " Seq('NFLFS'),\n",
              " Seq('ESSQL'),\n",
              " Seq('LHFTKNVVYSHVLNINHM'),\n",
              " Seq('LMTRVLFTSILNGILE'),\n",
              " Seq('ELENQHL'),\n",
              " Seq('LNCAWMRLVLNHPFSTSISVIIQFPVYLLQLIARNLNWVVL'),\n",
              " Seq('CVVRSMKTF'),\n",
              " Seq('SIMTFVLF'),\n",
              " Seq('ISSKRTN'),\n",
              " Seq('NV'),\n",
              " Seq(''),\n",
              " Seq('WTPKSAKCTPHYVWWTLRFNWQ'),\n",
              " Seq('PEWRTQWGAIKTTSAPRFTQ'),\n",
              " Seq('YCVLVHRSHSTWQGRP'),\n",
              " Seq('IPSRTRRSN'),\n",
              " Seq('HQ'),\n",
              " Seq('QSR'),\n",
              " Seq('PNWLLPKSYQTNSWW'),\n",
              " Seq('R'),\n",
              " Seq('NERSQSKMVFLLPRNWARSWTSLWC'),\n",
              " Seq('QRRHHMGCN'),\n",
              " Seq('GSLEYTKRSHWHPQSC'),\n",
              " Seq('QCCNRATTSSRNNIAKRLLRRREQRRQSSLFSFLIT'),\n",
              " Seq('SQQFKKFNSRQQ'),\n",
              " Seq('GNFSC'),\n",
              " Seq('NGWQWR'),\n",
              " Seq('CCSCFAAA'),\n",
              " Seq('QIEPA'),\n",
              " Seq('EQNVW'),\n",
              " Seq('RPTTTRPNCH'),\n",
              " Seq('EICC'),\n",
              " Seq('GF'),\n",
              " Seq('EASAKTYCH'),\n",
              " Seq('SIQCNTSFRQTWSRTNPRKFWGPGTNQTRN'),\n",
              " Seq('LQTLAANCTICPQRFSVLRNVAHWHGSHTFGNVVDLHRCHQIG'),\n",
              " Seq('QRSKFQRSSHFAE'),\n",
              " Seq('AY'),\n",
              " Seq('RIQNIPTNRA'),\n",
              " Seq('KGQKEEG'),\n",
              " Seq(''),\n",
              " Seq('NSSLTAETEETANCDSSSCCRFG'),\n",
              " Seq('FLQTIATIHEQC'),\n",
              " Seq('LNSGLNSCRPHKADGLYKRFRFSVYDI'),\n",
              " Seq('STLVQNEFS'),\n",
              " Seq('LHSTSRCS'),\n",
              " Seq('L'),\n",
              " Seq('SHIAIFNQCVTLGRT'),\n",
              " Seq('KSHHIFTEATRSTIECTVNNARESCLYGRALMCKINFSSAIPM'),\n",
              " Seq('F'),\n",
              " Seq(''),\n",
              " Seq('LLRRMTKKKKKKKKKK')]"
            ]
          },
          "metadata": {},
          "execution_count": 117
        }
      ]
    },
    {
      "cell_type": "code",
      "source": [
        "len(proteins)"
      ],
      "metadata": {
        "colab": {
          "base_uri": "https://localhost:8080/"
        },
        "id": "bXGjej4svyqT",
        "outputId": "f66804f8-3fdc-44ca-98b5-e0df4fd35d33"
      },
      "execution_count": null,
      "outputs": [
        {
          "output_type": "execute_result",
          "data": {
            "text/plain": [
              "775"
            ]
          },
          "metadata": {},
          "execution_count": 118
        }
      ]
    },
    {
      "cell_type": "code",
      "source": [
        "for protein in proteins:\n",
        "    if len(protein) < 20:\n",
        "        proteins.remove(protein)\n",
        "len(proteins)"
      ],
      "metadata": {
        "colab": {
          "base_uri": "https://localhost:8080/"
        },
        "id": "nvlk04xAv5Ni",
        "outputId": "e58c9988-c6c3-4f70-839c-427dbd597e0c"
      },
      "execution_count": null,
      "outputs": [
        {
          "output_type": "execute_result",
          "data": {
            "text/plain": [
              "409"
            ]
          },
          "metadata": {},
          "execution_count": 119
        }
      ]
    },
    {
      "cell_type": "code",
      "source": [
        "top_5_proteins = sorted(proteins, key=len)\n",
        "top_5_proteins[-1]"
      ],
      "metadata": {
        "colab": {
          "base_uri": "https://localhost:8080/"
        },
        "id": "ELTAShvlwGyg",
        "outputId": "8f114279-6a7e-48c9-889c-eae4c554265c"
      },
      "execution_count": null,
      "outputs": [
        {
          "output_type": "execute_result",
          "data": {
            "text/plain": [
              "Seq('CTIVFKRVCGVSAARLTPCGTGTSTDVVYRAFDIYNDKVAGFAKFLKTNCCRFQ...VNN')"
            ]
          },
          "metadata": {},
          "execution_count": 120
        }
      ]
    },
    {
      "cell_type": "code",
      "source": [
        "len(top_5_proteins[-1])"
      ],
      "metadata": {
        "colab": {
          "base_uri": "https://localhost:8080/"
        },
        "id": "jR9JyYIGwPI_",
        "outputId": "22606bfc-acf8-4bdb-fb53-b148d77deda3"
      },
      "execution_count": null,
      "outputs": [
        {
          "output_type": "execute_result",
          "data": {
            "text/plain": [
              "2701"
            ]
          },
          "metadata": {},
          "execution_count": 121
        }
      ]
    },
    {
      "cell_type": "code",
      "source": [
        "with open(\"protein_seq.fasta\", \"w\") as file:\n",
        "    file.write(f\">covid protein\\n{top_5_proteins[-1]}\")"
      ],
      "metadata": {
        "id": "p6NX0zHcwT6N"
      },
      "execution_count": null,
      "outputs": []
    },
    {
      "cell_type": "code",
      "source": [
        "from Bio import SeqIO\n",
        "protein_seq = SeqIO.read(\"protein_seq.fasta\", \"fasta\")\n",
        "protein_seq.seq"
      ],
      "metadata": {
        "colab": {
          "base_uri": "https://localhost:8080/"
        },
        "id": "24fwQ4gqwsTc",
        "outputId": "8005174a-17f5-4125-e190-8cb34e12221d"
      },
      "execution_count": null,
      "outputs": [
        {
          "output_type": "execute_result",
          "data": {
            "text/plain": [
              "Seq('CTIVFKRVCGVSAARLTPCGTGTSTDVVYRAFDIYNDKVAGFAKFLKTNCCRFQ...VNN')"
            ]
          },
          "metadata": {},
          "execution_count": 123
        }
      ]
    },
    {
      "cell_type": "code",
      "source": [
        "from Bio.Blast import NCBIWWW\n",
        "result_handle = NCBIWWW.qblast(\"blastp\", \"pdb\", protein_seq.seq) # pdb - protein data bank"
      ],
      "metadata": {
        "id": "-VwsvetexK5s"
      },
      "execution_count": null,
      "outputs": []
    },
    {
      "cell_type": "code",
      "source": [
        "from Bio import SearchIO\n",
        "\n",
        "blast_records = SearchIO.read(result_handle, 'blast-xml')"
      ],
      "metadata": {
        "id": "74m8jJKyx-b0"
      },
      "execution_count": null,
      "outputs": []
    },
    {
      "cell_type": "code",
      "source": [
        "print(blast_records[0:10])"
      ],
      "metadata": {
        "colab": {
          "base_uri": "https://localhost:8080/"
        },
        "id": "Jiw4QXnczXop",
        "outputId": "8ea5ba15-551e-48ce-8ad1-54e0f7300a66"
      },
      "execution_count": null,
      "outputs": [
        {
          "output_type": "stream",
          "name": "stdout",
          "text": [
            "Program: blastp (2.16.0+)\n",
            "  Query: unnamed (2701)\n",
            "         protein product\n",
            " Target: pdb\n",
            "   Hits: ----  -----  ----------------------------------------------------------\n",
            "            #  # HSP  ID + description\n",
            "         ----  -----  ----------------------------------------------------------\n",
            "            0      1  pdb|7D4F|A  Chain A, RNA-directed RNA polymerase [Sever...\n",
            "            1      1  pdb|6YYT|A  Chain A, nsp12 [Severe acute respiratory sy...\n",
            "            2      1  pdb|6XEZ|A  Chain A, RNA-directed RNA polymerase [Sever...\n",
            "            3      1  pdb|7BW4|A  Chain A, RNA-directed RNA polymerase [Sever...\n",
            "            4      1  pdb|6XQB|A  Chain A, RNA-directed RNA polymerase [Sever...\n",
            "            5      1  pdb|7BV1|A  Chain A, RNA-directed RNA polymerase [Sever...\n",
            "            6      1  pdb|7C2K|A  Chain A, RNA-directed RNA polymerase [Sever...\n",
            "            7      1  pdb|6M71|A  Chain A, RNA-directed RNA polymerase [Sever...\n",
            "            8      1  pdb|7ED5|A  Chain A, RNA-directed RNA polymerase [Sever...\n",
            "            9      1  pdb|7AAP|A  Chain A, Non-structural protein 12 [Severe ...\n"
          ]
        }
      ]
    },
    {
      "cell_type": "code",
      "source": [
        "for blast_record in blast_records:\n",
        "    print(blast_record.id)\n",
        "    print(blast_record.description)\n",
        "    print(blast_record[0].evalue)\n",
        "    print(blast_record[0].bitscore)\n",
        "    print(blast_record[0].aln)\n",
        "    print('--------------------------------')"
      ],
      "metadata": {
        "colab": {
          "base_uri": "https://localhost:8080/"
        },
        "id": "Ui5eBKG2zdRT",
        "outputId": "db7001fb-f701-4e65-8b2c-45b6c280d923"
      },
      "execution_count": null,
      "outputs": [
        {
          "output_type": "stream",
          "name": "stdout",
          "text": [
            "pdb|7D4F|A\n",
            "Chain A, RNA-directed RNA polymerase [Severe acute respiratory syndrome coronavirus 2]\n",
            "0.0\n",
            "1938.7\n",
            "Alignment with 2 rows and 926 columns\n",
            "FKRVCGVSAARLTPCGTGTSTDVVYRAFDIYNDKVAGFAKFLKT...LQA unnamed\n",
            "LNRVCGVSAARLTPCGTGTSTDVVYRAFDIYNDKVAGFAKFLKT...LQG pdb|7D4F|A\n",
            "--------------------------------\n",
            "pdb|6YYT|A\n",
            "Chain A, nsp12 [Severe acute respiratory syndrome coronavirus 2]\n",
            "0.0\n",
            "1938.31\n",
            "Alignment with 2 rows and 925 columns\n",
            "FKRVCGVSAARLTPCGTGTSTDVVYRAFDIYNDKVAGFAKFLKT...VLQ unnamed\n",
            "LNRVCGVSAARLTPCGTGTSTDVVYRAFDIYNDKVAGFAKFLKT...VLQ pdb|6YYT|A\n",
            "--------------------------------\n",
            "pdb|6XEZ|A\n",
            "Chain A, RNA-directed RNA polymerase [Severe acute respiratory syndrome coronavirus 2]\n",
            "0.0\n",
            "1937.92\n",
            "Alignment with 2 rows and 925 columns\n",
            "FKRVCGVSAARLTPCGTGTSTDVVYRAFDIYNDKVAGFAKFLKT...VLQ unnamed\n",
            "LNRVCGVSAARLTPCGTGTSTDVVYRAFDIYNDKVAGFAKFLKT...VLQ pdb|6XEZ|A\n",
            "--------------------------------\n",
            "pdb|7BW4|A\n",
            "Chain A, RNA-directed RNA polymerase [Severe acute respiratory syndrome coronavirus 2]\n",
            "0.0\n",
            "1937.15\n",
            "Alignment with 2 rows and 923 columns\n",
            "RVCGVSAARLTPCGTGTSTDVVYRAFDIYNDKVAGFAKFLKTNC...VLQ unnamed\n",
            "RVCGVSAARLTPCGTGTSTDVVYRAFDIYNDKVAGFAKFLKTNC...VLQ pdb|7BW4|A\n",
            "--------------------------------\n",
            "pdb|6XQB|A\n",
            "Chain A, RNA-directed RNA polymerase [Severe acute respiratory syndrome coronavirus 2]\n",
            "0.0\n",
            "1937.15\n",
            "Alignment with 2 rows and 925 columns\n",
            "FKRVCGVSAARLTPCGTGTSTDVVYRAFDIYNDKVAGFAKFLKT...VLQ unnamed\n",
            "LNRVCGVSAARLTPCGTGTSTDVVYRAFDIYNDKVAGFAKFLKT...VLQ pdb|6XQB|A\n",
            "--------------------------------\n",
            "pdb|7BV1|A\n",
            "Chain A, RNA-directed RNA polymerase [Severe acute respiratory syndrome coronavirus 2]\n",
            "0.0\n",
            "1936.77\n",
            "Alignment with 2 rows and 926 columns\n",
            "FKRVCGVSAARLTPCGTGTSTDVVYRAFDIYNDKVAGFAKFLKT...LQA unnamed\n",
            "LNRVCGVSAARLTPCGTGTSTDVVYRAFDIYNDKVAGFAKFLKT...LQG pdb|7BV1|A\n",
            "--------------------------------\n",
            "pdb|7C2K|A\n",
            "Chain A, RNA-directed RNA polymerase [Severe acute respiratory syndrome coronavirus 2]\n",
            "0.0\n",
            "1936.38\n",
            "Alignment with 2 rows and 925 columns\n",
            "FKRVCGVSAARLTPCGTGTSTDVVYRAFDIYNDKVAGFAKFLKT...VLQ unnamed\n",
            "LNRVCGVSAARLTPCGTGTSTDVVYRAFDIYNDKVAGFAKFLKT...VLQ pdb|7C2K|A\n",
            "--------------------------------\n",
            "pdb|6M71|A\n",
            "Chain A, RNA-directed RNA polymerase [Severe acute respiratory syndrome coronavirus 2]\n",
            "0.0\n",
            "1936.38\n",
            "Alignment with 2 rows and 925 columns\n",
            "FKRVCGVSAARLTPCGTGTSTDVVYRAFDIYNDKVAGFAKFLKT...VLQ unnamed\n",
            "LNRVCGVSAARLTPCGTGTSTDVVYRAFDIYNDKVAGFAKFLKT...VLQ pdb|6M71|A\n",
            "--------------------------------\n",
            "pdb|7ED5|A\n",
            "Chain A, RNA-directed RNA polymerase [Severe acute respiratory syndrome coronavirus 2]\n",
            "0.0\n",
            "1936.0\n",
            "Alignment with 2 rows and 923 columns\n",
            "RVCGVSAARLTPCGTGTSTDVVYRAFDIYNDKVAGFAKFLKTNC...VLQ unnamed\n",
            "RVCGVSAARLTPCGTGTSTDVVYRAFDIYNDKVAGFAKFLKTNC...VLQ pdb|7ED5|A\n",
            "--------------------------------\n",
            "pdb|7AAP|A\n",
            "Chain A, Non-structural protein 12 [Severe acute respiratory syndrome coronavirus 2]\n",
            "0.0\n",
            "1935.61\n",
            "Alignment with 2 rows and 923 columns\n",
            "RVCGVSAARLTPCGTGTSTDVVYRAFDIYNDKVAGFAKFLKTNC...VLQ unnamed\n",
            "RVCGVSAARLTPCGTGTSTDVVYRAFDIYNDKVAGFAKFLKTNC...VLQ pdb|7AAP|A\n",
            "--------------------------------\n",
            "pdb|7O7Y|BK\n",
            "Chain BK, Replicase polyprotein 1ab [Severe acute respiratory syndrome coronavirus 2]\n",
            "0.0\n",
            "1934.84\n",
            "Alignment with 2 rows and 925 columns\n",
            "FKRVCGVSAARLTPCGTGTSTDVVYRAFDIYNDKVAGFAKFLKT...VLQ unnamed\n",
            "LNRVCGVSAARLTPCGTGTSTDVVYRAFDIYNDKVAGFAKFLKT...VLQ pdb|7O7Y|BK\n",
            "--------------------------------\n",
            "pdb|7CXM|A\n",
            "Chain A, RNA-directed RNA polymerase [Severe acute respiratory syndrome coronavirus 2]\n",
            "0.0\n",
            "1933.69\n",
            "Alignment with 2 rows and 925 columns\n",
            "FKRVCGVSAARLTPCGTGTSTDVVYRAFDIYNDKVAGFAKFLKT...VLQ unnamed\n",
            "LNRVCGVSAARLTPCGTGTSTDVVYRAFDIYNDKVAGFAKFLKT...VLQ pdb|7CXM|A\n",
            "--------------------------------\n",
            "pdb|7EIZ|A\n",
            "Chain A, RNA-directed RNA polymerase [Severe acute respiratory syndrome coronavirus 2]\n",
            "0.0\n",
            "1932.92\n",
            "Alignment with 2 rows and 922 columns\n",
            "FKRVCGVSAARLTPCGTGTSTDVVYRAFDIYNDKVAGFAKFLKT...PHT unnamed\n",
            "LNRVCGVSAARLTPCGTGTSTDVVYRAFDIYNDKVAGFAKFLKT...PHT pdb|7EIZ|A\n",
            "--------------------------------\n",
            "pdb|7L1F|A\n",
            "Chain A, RNA-directed RNA polymerase [Severe acute respiratory syndrome coronavirus 2]\n",
            "0.0\n",
            "1886.69\n",
            "Alignment with 2 rows and 898 columns\n",
            "YRAFDIYNDKVAGFAKFLKTNCCRFQEKDEDDNLIDSYFVVKRH...PHT unnamed\n",
            "YRAFDIYNDKVAGFAKFLKTNCCRFQEKDEDDNLIDSYFVVKRH...PHT pdb|7L1F|A\n",
            "--------------------------------\n",
            "pdb|6NUR|A\n",
            "Chain A, NSP12 [Severe acute respiratory syndrome-related coronavirus]\n",
            "0.0\n",
            "1880.53\n",
            "Alignment with 2 rows and 927 columns\n",
            "TIVFKRVCGVSAARLTPCGTGTSTDVVYRAFDIYNDKVAGFAKF...TVL unnamed\n",
            "STFLNRVCGVSAARLTPCGTGTSTDVVYRAFDIYNEKVAGFAKF...TVL pdb|6NUR|A\n",
            "--------------------------------\n",
            "pdb|6ZSL|A\n",
            "Chain A, SARS-CoV-2 helicase NSP13 [Severe acute respiratory syndrome coronavirus 2]\n",
            "0.0\n",
            "1252.27\n",
            "Alignment with 2 rows and 601 columns\n",
            "AVGACVLCNSQTSLRCGACIRRPFLCCKCCYDHVISTSHKLVLS...TLQ unnamed\n",
            "AVGACVLCNSQTSLRCGACIRRPFLCCKCCYDHVISTSHKLVLS...TLQ pdb|6ZSL|A\n",
            "--------------------------------\n",
            "pdb|6XEZ|E\n",
            "Chain E, Helicase [Severe acute respiratory syndrome coronavirus 2]\n",
            "0.0\n",
            "1251.88\n",
            "Alignment with 2 rows and 607 columns\n",
            "PHTVLQAVGACVLCNSQTSLRCGACIRRPFLCCKCCYDHVISTS...TLQ unnamed\n",
            "PH---MAVGACVLCNSQTSLRCGACIRRPFLCCKCCYDHVISTS...TLQ pdb|6XEZ|E\n",
            "--------------------------------\n",
            "pdb|5RL6|A\n",
            "Chain A, Helicase [Severe acute respiratory syndrome coronavirus 2]\n",
            "0.0\n",
            "1251.88\n",
            "Alignment with 2 rows and 601 columns\n",
            "AVGACVLCNSQTSLRCGACIRRPFLCCKCCYDHVISTSHKLVLS...TLQ unnamed\n",
            "AVGACVLCNSQTSLRCGACIRRPFLCCKCCYDHVISTSHKLVLS...TLQ pdb|5RL6|A\n",
            "--------------------------------\n",
            "pdb|8GWE|E\n",
            "Chain E, Helicase nsp13 [Severe acute respiratory syndrome coronavirus 2]\n",
            "0.0\n",
            "1235.71\n",
            "Alignment with 2 rows and 593 columns\n",
            "AVGACVLCNSQTSLRCGACIRRPFLCCKCCYDHVISTSHKLVLS...EIP unnamed\n",
            "AVGACVLCNSQTSLRCGACIRRPFLCCKCCYDHVISTSHKLVLS...EIP pdb|8GWE|E\n",
            "--------------------------------\n",
            "pdb|6JYT|A\n",
            "Chain A, Helicase [Severe acute respiratory syndrome-related coronavirus]\n",
            "0.0\n",
            "1229.54\n",
            "Alignment with 2 rows and 602 columns\n",
            "QAVGACVLCNSQTSLRCGACIRRPFLCCKCCYDHVISTSHKLVL...TLQ unnamed\n",
            "SAVGACVLCNSQTSLRCGACIRRPFLCCKCCYDHVISTSHKLVL...TLQ pdb|6JYT|A\n",
            "--------------------------------\n",
            "pdb|8URB|A\n",
            "Chain A, nsp12 [Porcine epidemic diarrhea virus]\n",
            "0.0\n",
            "1172.15\n",
            "Alignment with 2 rows and 926 columns\n",
            "FKRVCGVSAARLTPCGTGTSTDVVYRAFDIYNDKVAGFAKFLKT...VLQ unnamed\n",
            "LNRVRGSSAARLEPC-NGTDTQHVYRAFDIYNKDVACLGKFLKV...VLQ pdb|8URB|A\n",
            "--------------------------------\n",
            "pdb|8G6R|A\n",
            "Chain A, nsp12 [Porcine epidemic diarrhea virus]\n",
            "0.0\n",
            "1166.76\n",
            "Alignment with 2 rows and 919 columns\n",
            "FKRVCGVSAARLTPCGTGTSTDVVYRAFDIYNDKVAGFAKFLKT...AMY unnamed\n",
            "LNRVRGSSAARLEPC-NGTDTQHVYRAFDIYNKDVACLGKFLKV...NMY pdb|8G6R|A\n",
            "--------------------------------\n",
            "pdb|7EGQ|K\n",
            "Chain K, Proofreading exoribonuclease [Severe acute respiratory syndrome coronavirus 2]\n",
            "0.0\n",
            "1124.77\n",
            "Alignment with 2 rows and 527 columns\n",
            "AENVTGLFKDCSKVITGLHPTQAPTHLSVDTKFKTEGLCVDIPG...RLQ unnamed\n",
            "AENVTGLFKDCSKVITGLHPTQAPTHLSVDTKFKTEGLCVDIPG...RLQ pdb|7EGQ|K\n",
            "--------------------------------\n",
            "pdb|7N0C|B\n",
            "Chain B, Proofreading exoribonuclease [Severe acute respiratory syndrome coronavirus 2]\n",
            "0.0\n",
            "1122.84\n",
            "Alignment with 2 rows and 527 columns\n",
            "AENVTGLFKDCSKVITGLHPTQAPTHLSVDTKFKTEGLCVDIPG...RLQ unnamed\n",
            "AENVTGLFKDCSKVITGLHPTQAPTHLSVDTKFKTEGLCVDIPG...RLQ pdb|7N0C|B\n",
            "--------------------------------\n",
            "pdb|5SKW|D\n",
            "Chain D, Proofreading exoribonuclease nsp14 [Severe acute respiratory syndrome coronavirus 2]\n",
            "0.0\n",
            "1113.21\n",
            "Alignment with 2 rows and 521 columns\n",
            "LFKDCSKVITGLHPTQAPTHLSVDTKFKTEGLCVDIPGIPKDMT...RLQ unnamed\n",
            "LFKDCSKVITGLHPTQAPTHLSVDTKFKTEGLCVDIPGIPKDMT...RLQ pdb|5SKW|D\n",
            "--------------------------------\n",
            "pdb|7R2V|A\n",
            "Chain A, Proofreading exoribonuclease nsp14 [Severe acute respiratory syndrome coronavirus 2]\n",
            "0.0\n",
            "1112.44\n",
            "Alignment with 2 rows and 524 columns\n",
            "AENVTGLFKDCSKVITGLHPTQAPTHLSVDTKFKTEGLCVDIPG...TFT unnamed\n",
            "AENVTGLFKDCSKVITGLHPTQAPTHLSVDTKFKTEGLCVDIPG...TFT pdb|7R2V|A\n",
            "--------------------------------\n",
            "pdb|5C8S|B\n",
            "Chain B, Guanine-N7 methyltransferase [Severe acute respiratory syndrome coronavirus]\n",
            "0.0\n",
            "1087.4\n",
            "Alignment with 2 rows and 527 columns\n",
            "AENVTGLFKDCSKVITGLHPTQAPTHLSVDTKFKTEGLCVDIPG...RLQ unnamed\n",
            "AENVTGLFKDCSKIITGLHPTQAPTHLSVDIKFKTEGLCVDIPG...RLQ pdb|5C8S|B\n",
            "--------------------------------\n",
            "pdb|5C8T|B\n",
            "Chain B, Guanine-N7 methyltransferase [Severe acute respiratory syndrome coronavirus]\n",
            "0.0\n",
            "1087.4\n",
            "Alignment with 2 rows and 527 columns\n",
            "AENVTGLFKDCSKVITGLHPTQAPTHLSVDTKFKTEGLCVDIPG...RLQ unnamed\n",
            "AENVTGLFKDCSKIITGLHPTQAPTHLSVDIKFKTEGLCVDIPG...RLQ pdb|5C8T|B\n",
            "--------------------------------\n",
            "pdb|5NFY|A\n",
            "Chain A, Polyprotein 1ab [SARS coronavirus Frankfurt 1]\n",
            "0.0\n",
            "1085.86\n",
            "Alignment with 2 rows and 527 columns\n",
            "AENVTGLFKDCSKVITGLHPTQAPTHLSVDTKFKTEGLCVDIPG...RLQ unnamed\n",
            "AENVTGLFKDCSKIITGLHPTQAPTHLSVDIKFKTEGLCVDIPG...RLQ pdb|5NFY|A\n",
            "--------------------------------\n",
            "pdb|5WWP|A\n",
            "Chain A, ORF1ab [Human betacoronavirus 2c EMC/2012]\n",
            "0.0\n",
            "926.006\n",
            "Alignment with 2 rows and 591 columns\n",
            "AVGACVLCNSQTSLRCGACIRRPFLCCKCCYDHVISTSHKLVLS...SLE unnamed\n",
            "AVGSCVVCHSQTSLRCGTCIRRPFLCCKCCYDHVIATPHKMVLS...ELS pdb|5WWP|A\n",
            "--------------------------------\n",
            "pdb|6VWW|A\n",
            "Chain A, Uridylate-specific endoribonuclease [Severe acute respiratory syndrome coronavirus 2]\n",
            "0.0\n",
            "715.687\n",
            "Alignment with 2 rows and 358 columns\n",
            "TYNLWNTFTRLQSLENVAFNVVNKGHFDGQQGEVPVSIINNTVY...KLQ unnamed\n",
            "TENLY--FQSNMSLENVAFNVVNKGHFDGQQGEVPVSIINNTVY...KLQ pdb|6VWW|A\n",
            "--------------------------------\n",
            "pdb|7ME0|A\n",
            "Chain A, Uridylate-specific endoribonuclease [Severe acute respiratory syndrome coronavirus 2]\n",
            "0.0\n",
            "715.301\n",
            "Alignment with 2 rows and 358 columns\n",
            "TYNLWNTFTRLQSLENVAFNVVNKGHFDGQQGEVPVSIINNTVY...KLQ unnamed\n",
            "TENLY--FQGAMSLENVAFNVVNKGHFDGQQGEVPVSIINNTVY...KLQ pdb|7ME0|A\n",
            "--------------------------------\n",
            "pdb|7K0R|A\n",
            "Chain A, Uridylate-specific endoribonuclease [Severe acute respiratory syndrome coronavirus 2]\n",
            "0.0\n",
            "714.531\n",
            "Alignment with 2 rows and 346 columns\n",
            "SLENVAFNVVNKGHFDGQQGEVPVSIINNTVYTKVDGVDVELFE...KLQ unnamed\n",
            "SLENVAFNVVNKGHFDGQQGEVPVSIINNTVYTKVDGVDVELFE...KLQ pdb|7K0R|A\n",
            "--------------------------------\n",
            "pdb|6XDH|A\n",
            "Chain A, Uridylate-specific endoribonuclease [Severe acute respiratory syndrome coronavirus 2]\n",
            "0.0\n",
            "714.146\n",
            "Alignment with 2 rows and 351 columns\n",
            "FTRLQSLENVAFNVVNKGHFDGQQGEVPVSIINNTVYTKVDGVD...KLQ unnamed\n",
            "FQGHMSLENVAFNVVNKGHFDGQQGEVPVSIINNTVYTKVDGVD...KLQ pdb|6XDH|A\n",
            "--------------------------------\n",
            "pdb|5S6X|A\n",
            "Chain A, Uridylate-specific endoribonuclease [Severe acute respiratory syndrome coronavirus 2]\n",
            "0.0\n",
            "714.146\n",
            "Alignment with 2 rows and 346 columns\n",
            "SLENVAFNVVNKGHFDGQQGEVPVSIINNTVYTKVDGVDVELFE...KLQ unnamed\n",
            "SLENVAFNVVNKGHFDGQQGEVPVSIINNTVYTKVDGVDVELFE...KLQ pdb|5S6X|A\n",
            "--------------------------------\n",
            "pdb|7K9P|A\n",
            "Chain A, Uridylate-specific endoribonuclease [Severe acute respiratory syndrome coronavirus 2]\n",
            "0.0\n",
            "713.375\n",
            "Alignment with 2 rows and 346 columns\n",
            "SLENVAFNVVNKGHFDGQQGEVPVSIINNTVYTKVDGVDVELFE...KLQ unnamed\n",
            "SLENVAFNVVNKGHFDGQQGEVPVSIINNTVYTKVDGVDVELFE...KLQ pdb|7K9P|A\n",
            "--------------------------------\n",
            "pdb|8D34|A\n",
            "Chain A, Uridylate-specific endoribonuclease nsp15 [Severe acute respiratory syndrome coronavirus 2]\n",
            "0.0\n",
            "712.99\n",
            "Alignment with 2 rows and 358 columns\n",
            "TYNLWNTFTRLQSLENVAFNVVNKGHFDGQQGEVPVSIINNTVY...KLQ unnamed\n",
            "TENLY--FQSNMSLENVAFNVVNKGHFDGQQGEVPVSIINNTVY...KLQ pdb|8D34|A\n",
            "--------------------------------\n",
            "pdb|7N06|A\n",
            "Chain A, Uridylate-specific endoribonuclease [Severe acute respiratory syndrome coronavirus 2]\n",
            "0.0\n",
            "712.605\n",
            "Alignment with 2 rows and 345 columns\n",
            "SLENVAFNVVNKGHFDGQQGEVPVSIINNTVYTKVDGVDVELFE...PKL unnamed\n",
            "SLENVAFNVVNKGHFDGQQGEVPVSIINNTVYTKVDGVDVELFE...PKL pdb|7N06|A\n",
            "--------------------------------\n",
            "pdb|7TJ2|A\n",
            "Chain A, Uridylate-specific endoribonuclease nsp15 [Severe acute respiratory syndrome coronavirus 2]\n",
            "0.0\n",
            "711.449\n",
            "Alignment with 2 rows and 346 columns\n",
            "SLENVAFNVVNKGHFDGQQGEVPVSIINNTVYTKVDGVDVELFE...KLQ unnamed\n",
            "SLENVAFNVVNKGHFDGQQGEVPVSIINNTVYTKVDGVDVELFE...KLQ pdb|7TJ2|A\n",
            "--------------------------------\n",
            "pdb|8U2X|A\n",
            "Chain A, Uridylate-specific endoribonuclease nsp15 [Severe acute respiratory syndrome coronavirus 2]\n",
            "0.0\n",
            "711.449\n",
            "Alignment with 2 rows and 351 columns\n",
            "FTRLQSLENVAFNVVNKGHFDGQQGEVPVSIINNTVYTKVDGVD...KLQ unnamed\n",
            "FQGHMSLENVAFNVVNKGHFDGQQGEVPVSIINNTVYTKVDGVD...KLQ pdb|8U2X|A\n",
            "--------------------------------\n",
            "pdb|7TQV|A\n",
            "Chain A, Uridylate-specific endoribonuclease [Severe acute respiratory syndrome coronavirus 2]\n",
            "0.0\n",
            "711.064\n",
            "Alignment with 2 rows and 346 columns\n",
            "SLENVAFNVVNKGHFDGQQGEVPVSIINNTVYTKVDGVDVELFE...KLQ unnamed\n",
            "SLENVAFNVVNKGHFDGQQGEVPVSIINNTVYTKVDGVDVELFE...KLQ pdb|7TQV|A\n",
            "--------------------------------\n",
            "pdb|7N33|A\n",
            "Chain A, Uridylate-specific endoribonuclease [Severe acute respiratory syndrome coronavirus 2]\n",
            "0.0\n",
            "711.064\n",
            "Alignment with 2 rows and 344 columns\n",
            "SLENVAFNVVNKGHFDGQQGEVPVSIINNTVYTKVDGVDVELFE...YPK unnamed\n",
            "SLENVAFNVVNKGHFDGQQGEVPVSIINNTVYTKVDGVDVELFE...YPK pdb|7N33|A\n",
            "--------------------------------\n",
            "pdb|8UD2|A\n",
            "Chain A, Non-structural protein 15 [Severe acute respiratory syndrome coronavirus 2]\n",
            "0.0\n",
            "710.679\n",
            "Alignment with 2 rows and 346 columns\n",
            "SLENVAFNVVNKGHFDGQQGEVPVSIINNTVYTKVDGVDVELFE...KLQ unnamed\n",
            "SLENVAFNVVNKGHFDGQQGEVPVSIINNTVYTKVDGVDVELFE...KLQ pdb|8UD2|A\n",
            "--------------------------------\n",
            "pdb|2OZK|A\n",
            "Chain A, Uridylate-specific endoribonuclease [Severe acute respiratory syndrome-related coronavirus]\n",
            "0.0\n",
            "655.21\n",
            "Alignment with 2 rows and 346 columns\n",
            "SLENVAFNVVNKGHFDGQQGEVPVSIINNTVYTKVDGVDVELFE...KLQ unnamed\n",
            "SLENVAYNVVNKGHFDGHAGEAPVSIINNAVYTKVDGIDVEIFE...KLQ pdb|2OZK|A\n",
            "--------------------------------\n",
            "pdb|2RHB|A\n",
            "Chain A, Uridylate-specific endoribonuclease [Severe acute respiratory syndrome-related coronavirus]\n",
            "0.0\n",
            "652.514\n",
            "Alignment with 2 rows and 346 columns\n",
            "SLENVAFNVVNKGHFDGQQGEVPVSIINNTVYTKVDGVDVELFE...KLQ unnamed\n",
            "SLENVAYNVVNKGHFDGHAGEAPVSIINNAVYTKVDGIDVEIFE...KLQ pdb|2RHB|A\n",
            "--------------------------------\n",
            "pdb|2H85|A\n",
            "Chain A, Putative orf1ab polyprotein [Severe acute respiratory syndrome-related coronavirus]\n",
            "0.0\n",
            "649.432\n",
            "Alignment with 2 rows and 346 columns\n",
            "QSLENVAFNVVNKGHFDGQQGEVPVSIINNTVYTKVDGVDVELF...PKL unnamed\n",
            "QSLENVAYNVVNKGHFDGHAGEAPVSIINNAVYTKVDGIDVEIF...PKL pdb|2H85|A\n",
            "--------------------------------\n",
            "pdb|8RV4|A\n",
            "Chain A, 2'-O-methyltransferase nsp16 [Severe acute respiratory syndrome coronavirus 2]\n",
            "0.0\n",
            "625.165\n",
            "Alignment with 2 rows and 300 columns\n",
            "LQSSQAWQPGVAMPNLYKMQRMLLEKCDLQNYGDSATLPKGIMM...VNN unnamed\n",
            "MASSQAWQPGVAMPNLYKMQRMLLEKCDLQNYGDSATLPKGIMM...VNN pdb|8RV4|A\n",
            "--------------------------------\n",
            "pdb|9EMJ|A\n",
            "Chain A, 2'-O-methyltransferase nsp16 [Severe acute respiratory syndrome coronavirus 2]\n",
            "0.0\n",
            "624.78\n",
            "Alignment with 2 rows and 298 columns\n",
            "SSQAWQPGVAMPNLYKMQRMLLEKCDLQNYGDSATLPKGIMMNV...VNN unnamed\n",
            "SSQAWQPGVAMPNLYKMQRMLLEKCDLQNYGDSATLPKGIMMNV...VNN pdb|9EMJ|A\n",
            "--------------------------------\n",
            "pdb|6YZ1|A\n",
            "Chain A, nsp16 [Severe acute respiratory syndrome coronavirus 2]\n",
            "0.0\n",
            "624.78\n",
            "Alignment with 2 rows and 298 columns\n",
            "SSQAWQPGVAMPNLYKMQRMLLEKCDLQNYGDSATLPKGIMMNV...VNN unnamed\n",
            "SSQAWQPGVAMPNLYKMQRMLLEKCDLQNYGDSATLPKGIMMNV...VNN pdb|6YZ1|A\n",
            "--------------------------------\n",
            "pdb|7JYY|A\n",
            "Chain A, 2'-O-methyltransferase [Severe acute respiratory syndrome coronavirus 2]\n",
            "0.0\n",
            "624.394\n",
            "Alignment with 2 rows and 298 columns\n",
            "SSQAWQPGVAMPNLYKMQRMLLEKCDLQNYGDSATLPKGIMMNV...VNN unnamed\n",
            "SSQAWQPGVAMPNLYKMQRMLLEKCDLQNYGDSATLPKGIMMNV...VNN pdb|7JYY|A\n",
            "--------------------------------\n"
          ]
        }
      ]
    },
    {
      "cell_type": "code",
      "source": [
        "seq_id = 'pdb|6YYT|A'\n",
        "id = seq_id.split('|')[1]\n",
        "id"
      ],
      "metadata": {
        "colab": {
          "base_uri": "https://localhost:8080/",
          "height": 36
        },
        "id": "sEJhzDvnz7OI",
        "outputId": "3fbcd041-baa4-45e2-bbe9-6a9f46b9473b"
      },
      "execution_count": null,
      "outputs": [
        {
          "output_type": "execute_result",
          "data": {
            "text/plain": [
              "'6YYT'"
            ],
            "application/vnd.google.colaboratory.intrinsic+json": {
              "type": "string"
            }
          },
          "metadata": {},
          "execution_count": 135
        }
      ]
    },
    {
      "cell_type": "code",
      "source": [
        "!wget https://files.rcsb.org/download/6YYT.pdb"
      ],
      "metadata": {
        "colab": {
          "base_uri": "https://localhost:8080/"
        },
        "id": "CGPBnb6q0Ge4",
        "outputId": "434003e4-799e-47cd-a886-79d0332dfff2"
      },
      "execution_count": null,
      "outputs": [
        {
          "output_type": "stream",
          "name": "stdout",
          "text": [
            "--2024-07-24 13:00:19--  https://files.rcsb.org/download/6YYT.pdb\n",
            "Resolving files.rcsb.org (files.rcsb.org)... 128.6.159.245\n",
            "Connecting to files.rcsb.org (files.rcsb.org)|128.6.159.245|:443... connected.\n",
            "HTTP request sent, awaiting response... 200 OK\n",
            "Length: unspecified [application/octet-stream]\n",
            "Saving to: ‘6YYT.pdb.1’\n",
            "\n",
            "6YYT.pdb.1              [  <=>               ] 954.99K  3.34MB/s    in 0.3s    \n",
            "\n",
            "2024-07-24 13:00:20 (3.34 MB/s) - ‘6YYT.pdb.1’ saved [977913]\n",
            "\n"
          ]
        }
      ]
    },
    {
      "cell_type": "code",
      "source": [
        "from Bio.PDB import PDBParser\n",
        "parser = PDBParser()\n",
        "structure = parser.get_structure('6YYT', '6YYT.pdb')\n",
        "structure"
      ],
      "metadata": {
        "colab": {
          "base_uri": "https://localhost:8080/"
        },
        "id": "bx0o3jap0KZb",
        "outputId": "dbbb8cf4-d109-4a08-952f-6e4eed3cbcd5"
      },
      "execution_count": null,
      "outputs": [
        {
          "output_type": "stream",
          "name": "stderr",
          "text": [
            "/usr/local/lib/python3.10/dist-packages/Bio/PDB/StructureBuilder.py:100: PDBConstructionWarning: WARNING: Chain A is discontinuous at line 12060.\n",
            "  warnings.warn(\n"
          ]
        },
        {
          "output_type": "execute_result",
          "data": {
            "text/plain": [
              "<Structure id=6YYT>"
            ]
          },
          "metadata": {},
          "execution_count": 4
        }
      ]
    },
    {
      "cell_type": "code",
      "source": [
        "for chain in structure[0]:\n",
        "    print(chain.id)"
      ],
      "metadata": {
        "colab": {
          "base_uri": "https://localhost:8080/"
        },
        "id": "_2Lx18VZ0YdQ",
        "outputId": "bd97f4c4-212e-4907-dd62-182530bfa693"
      },
      "execution_count": null,
      "outputs": [
        {
          "output_type": "stream",
          "name": "stdout",
          "text": [
            "A\n",
            "B\n",
            "C\n",
            "D\n",
            "P\n",
            "Q\n",
            "T\n",
            "U\n"
          ]
        }
      ]
    },
    {
      "cell_type": "code",
      "source": [
        "!pip install nglview"
      ],
      "metadata": {
        "colab": {
          "base_uri": "https://localhost:8080/"
        },
        "id": "gJPRTia10m14",
        "outputId": "6ba8339f-d2fa-4b98-aa46-11da09569c94"
      },
      "execution_count": null,
      "outputs": [
        {
          "output_type": "stream",
          "name": "stdout",
          "text": [
            "Requirement already satisfied: nglview in /usr/local/lib/python3.10/dist-packages (3.1.2)\n",
            "Requirement already satisfied: ipywidgets>=8 in /usr/local/lib/python3.10/dist-packages (from nglview) (8.1.3)\n",
            "Requirement already satisfied: notebook>=7 in /usr/local/lib/python3.10/dist-packages (from nglview) (7.2.1)\n",
            "Requirement already satisfied: jupyterlab-widgets in /usr/local/lib/python3.10/dist-packages (from nglview) (3.0.11)\n",
            "Requirement already satisfied: numpy in /usr/local/lib/python3.10/dist-packages (from nglview) (1.25.2)\n",
            "Requirement already satisfied: comm>=0.1.3 in /usr/local/lib/python3.10/dist-packages (from ipywidgets>=8->nglview) (0.2.2)\n",
            "Requirement already satisfied: ipython>=6.1.0 in /usr/local/lib/python3.10/dist-packages (from ipywidgets>=8->nglview) (7.34.0)\n",
            "Requirement already satisfied: traitlets>=4.3.1 in /usr/local/lib/python3.10/dist-packages (from ipywidgets>=8->nglview) (5.7.1)\n",
            "Requirement already satisfied: widgetsnbextension~=4.0.11 in /usr/local/lib/python3.10/dist-packages (from ipywidgets>=8->nglview) (4.0.11)\n",
            "Requirement already satisfied: jupyter-server<3,>=2.4.0 in /usr/local/lib/python3.10/dist-packages (from notebook>=7->nglview) (2.14.2)\n",
            "Requirement already satisfied: jupyterlab-server<3,>=2.27.1 in /usr/local/lib/python3.10/dist-packages (from notebook>=7->nglview) (2.27.3)\n",
            "Requirement already satisfied: jupyterlab<4.3,>=4.2.0 in /usr/local/lib/python3.10/dist-packages (from notebook>=7->nglview) (4.2.4)\n",
            "Requirement already satisfied: notebook-shim<0.3,>=0.2 in /usr/local/lib/python3.10/dist-packages (from notebook>=7->nglview) (0.2.4)\n",
            "Requirement already satisfied: tornado>=6.2.0 in /usr/local/lib/python3.10/dist-packages (from notebook>=7->nglview) (6.3.3)\n",
            "Requirement already satisfied: setuptools>=18.5 in /usr/local/lib/python3.10/dist-packages (from ipython>=6.1.0->ipywidgets>=8->nglview) (67.7.2)\n",
            "Requirement already satisfied: jedi>=0.16 in /usr/local/lib/python3.10/dist-packages (from ipython>=6.1.0->ipywidgets>=8->nglview) (0.19.1)\n",
            "Requirement already satisfied: decorator in /usr/local/lib/python3.10/dist-packages (from ipython>=6.1.0->ipywidgets>=8->nglview) (4.4.2)\n",
            "Requirement already satisfied: pickleshare in /usr/local/lib/python3.10/dist-packages (from ipython>=6.1.0->ipywidgets>=8->nglview) (0.7.5)\n",
            "Requirement already satisfied: prompt-toolkit!=3.0.0,!=3.0.1,<3.1.0,>=2.0.0 in /usr/local/lib/python3.10/dist-packages (from ipython>=6.1.0->ipywidgets>=8->nglview) (3.0.47)\n",
            "Requirement already satisfied: pygments in /usr/local/lib/python3.10/dist-packages (from ipython>=6.1.0->ipywidgets>=8->nglview) (2.16.1)\n",
            "Requirement already satisfied: backcall in /usr/local/lib/python3.10/dist-packages (from ipython>=6.1.0->ipywidgets>=8->nglview) (0.2.0)\n",
            "Requirement already satisfied: matplotlib-inline in /usr/local/lib/python3.10/dist-packages (from ipython>=6.1.0->ipywidgets>=8->nglview) (0.1.7)\n",
            "Requirement already satisfied: pexpect>4.3 in /usr/local/lib/python3.10/dist-packages (from ipython>=6.1.0->ipywidgets>=8->nglview) (4.9.0)\n",
            "Requirement already satisfied: anyio>=3.1.0 in /usr/local/lib/python3.10/dist-packages (from jupyter-server<3,>=2.4.0->notebook>=7->nglview) (3.7.1)\n",
            "Requirement already satisfied: argon2-cffi>=21.1 in /usr/local/lib/python3.10/dist-packages (from jupyter-server<3,>=2.4.0->notebook>=7->nglview) (23.1.0)\n",
            "Requirement already satisfied: jinja2>=3.0.3 in /usr/local/lib/python3.10/dist-packages (from jupyter-server<3,>=2.4.0->notebook>=7->nglview) (3.1.4)\n",
            "Requirement already satisfied: jupyter-client>=7.4.4 in /usr/local/lib/python3.10/dist-packages (from jupyter-server<3,>=2.4.0->notebook>=7->nglview) (8.6.2)\n",
            "Requirement already satisfied: jupyter-core!=5.0.*,>=4.12 in /usr/local/lib/python3.10/dist-packages (from jupyter-server<3,>=2.4.0->notebook>=7->nglview) (5.7.2)\n",
            "Requirement already satisfied: jupyter-events>=0.9.0 in /usr/local/lib/python3.10/dist-packages (from jupyter-server<3,>=2.4.0->notebook>=7->nglview) (0.10.0)\n",
            "Requirement already satisfied: jupyter-server-terminals>=0.4.4 in /usr/local/lib/python3.10/dist-packages (from jupyter-server<3,>=2.4.0->notebook>=7->nglview) (0.5.3)\n",
            "Requirement already satisfied: nbconvert>=6.4.4 in /usr/local/lib/python3.10/dist-packages (from jupyter-server<3,>=2.4.0->notebook>=7->nglview) (6.5.4)\n",
            "Requirement already satisfied: nbformat>=5.3.0 in /usr/local/lib/python3.10/dist-packages (from jupyter-server<3,>=2.4.0->notebook>=7->nglview) (5.10.4)\n",
            "Requirement already satisfied: overrides>=5.0 in /usr/local/lib/python3.10/dist-packages (from jupyter-server<3,>=2.4.0->notebook>=7->nglview) (7.7.0)\n",
            "Requirement already satisfied: packaging>=22.0 in /usr/local/lib/python3.10/dist-packages (from jupyter-server<3,>=2.4.0->notebook>=7->nglview) (24.1)\n",
            "Requirement already satisfied: prometheus-client>=0.9 in /usr/local/lib/python3.10/dist-packages (from jupyter-server<3,>=2.4.0->notebook>=7->nglview) (0.20.0)\n",
            "Requirement already satisfied: pyzmq>=24 in /usr/local/lib/python3.10/dist-packages (from jupyter-server<3,>=2.4.0->notebook>=7->nglview) (24.0.1)\n",
            "Requirement already satisfied: send2trash>=1.8.2 in /usr/local/lib/python3.10/dist-packages (from jupyter-server<3,>=2.4.0->notebook>=7->nglview) (1.8.3)\n",
            "Requirement already satisfied: terminado>=0.8.3 in /usr/local/lib/python3.10/dist-packages (from jupyter-server<3,>=2.4.0->notebook>=7->nglview) (0.18.1)\n",
            "Requirement already satisfied: websocket-client>=1.7 in /usr/local/lib/python3.10/dist-packages (from jupyter-server<3,>=2.4.0->notebook>=7->nglview) (1.8.0)\n",
            "Requirement already satisfied: async-lru>=1.0.0 in /usr/local/lib/python3.10/dist-packages (from jupyterlab<4.3,>=4.2.0->notebook>=7->nglview) (2.0.4)\n",
            "Requirement already satisfied: httpx>=0.25.0 in /usr/local/lib/python3.10/dist-packages (from jupyterlab<4.3,>=4.2.0->notebook>=7->nglview) (0.27.0)\n",
            "Requirement already satisfied: ipykernel>=6.5.0 in /usr/local/lib/python3.10/dist-packages (from jupyterlab<4.3,>=4.2.0->notebook>=7->nglview) (6.29.5)\n",
            "Requirement already satisfied: jupyter-lsp>=2.0.0 in /usr/local/lib/python3.10/dist-packages (from jupyterlab<4.3,>=4.2.0->notebook>=7->nglview) (2.2.5)\n",
            "Requirement already satisfied: tomli>=1.2.2 in /usr/local/lib/python3.10/dist-packages (from jupyterlab<4.3,>=4.2.0->notebook>=7->nglview) (2.0.1)\n",
            "Requirement already satisfied: babel>=2.10 in /usr/local/lib/python3.10/dist-packages (from jupyterlab-server<3,>=2.27.1->notebook>=7->nglview) (2.15.0)\n",
            "Requirement already satisfied: json5>=0.9.0 in /usr/local/lib/python3.10/dist-packages (from jupyterlab-server<3,>=2.27.1->notebook>=7->nglview) (0.9.25)\n",
            "Requirement already satisfied: jsonschema>=4.18.0 in /usr/local/lib/python3.10/dist-packages (from jupyterlab-server<3,>=2.27.1->notebook>=7->nglview) (4.19.2)\n",
            "Requirement already satisfied: requests>=2.31 in /usr/local/lib/python3.10/dist-packages (from jupyterlab-server<3,>=2.27.1->notebook>=7->nglview) (2.31.0)\n",
            "Requirement already satisfied: idna>=2.8 in /usr/local/lib/python3.10/dist-packages (from anyio>=3.1.0->jupyter-server<3,>=2.4.0->notebook>=7->nglview) (3.7)\n",
            "Requirement already satisfied: sniffio>=1.1 in /usr/local/lib/python3.10/dist-packages (from anyio>=3.1.0->jupyter-server<3,>=2.4.0->notebook>=7->nglview) (1.3.1)\n",
            "Requirement already satisfied: exceptiongroup in /usr/local/lib/python3.10/dist-packages (from anyio>=3.1.0->jupyter-server<3,>=2.4.0->notebook>=7->nglview) (1.2.2)\n",
            "Requirement already satisfied: argon2-cffi-bindings in /usr/local/lib/python3.10/dist-packages (from argon2-cffi>=21.1->jupyter-server<3,>=2.4.0->notebook>=7->nglview) (21.2.0)\n",
            "Requirement already satisfied: typing-extensions>=4.0.0 in /usr/local/lib/python3.10/dist-packages (from async-lru>=1.0.0->jupyterlab<4.3,>=4.2.0->notebook>=7->nglview) (4.12.2)\n",
            "Requirement already satisfied: certifi in /usr/local/lib/python3.10/dist-packages (from httpx>=0.25.0->jupyterlab<4.3,>=4.2.0->notebook>=7->nglview) (2024.7.4)\n",
            "Requirement already satisfied: httpcore==1.* in /usr/local/lib/python3.10/dist-packages (from httpx>=0.25.0->jupyterlab<4.3,>=4.2.0->notebook>=7->nglview) (1.0.5)\n",
            "Requirement already satisfied: h11<0.15,>=0.13 in /usr/local/lib/python3.10/dist-packages (from httpcore==1.*->httpx>=0.25.0->jupyterlab<4.3,>=4.2.0->notebook>=7->nglview) (0.14.0)\n",
            "Requirement already satisfied: debugpy>=1.6.5 in /usr/local/lib/python3.10/dist-packages (from ipykernel>=6.5.0->jupyterlab<4.3,>=4.2.0->notebook>=7->nglview) (1.6.6)\n",
            "Requirement already satisfied: nest-asyncio in /usr/local/lib/python3.10/dist-packages (from ipykernel>=6.5.0->jupyterlab<4.3,>=4.2.0->notebook>=7->nglview) (1.6.0)\n",
            "Requirement already satisfied: psutil in /usr/local/lib/python3.10/dist-packages (from ipykernel>=6.5.0->jupyterlab<4.3,>=4.2.0->notebook>=7->nglview) (5.9.5)\n",
            "Requirement already satisfied: parso<0.9.0,>=0.8.3 in /usr/local/lib/python3.10/dist-packages (from jedi>=0.16->ipython>=6.1.0->ipywidgets>=8->nglview) (0.8.4)\n",
            "Requirement already satisfied: MarkupSafe>=2.0 in /usr/local/lib/python3.10/dist-packages (from jinja2>=3.0.3->jupyter-server<3,>=2.4.0->notebook>=7->nglview) (2.1.5)\n",
            "Requirement already satisfied: attrs>=22.2.0 in /usr/local/lib/python3.10/dist-packages (from jsonschema>=4.18.0->jupyterlab-server<3,>=2.27.1->notebook>=7->nglview) (23.2.0)\n",
            "Requirement already satisfied: jsonschema-specifications>=2023.03.6 in /usr/local/lib/python3.10/dist-packages (from jsonschema>=4.18.0->jupyterlab-server<3,>=2.27.1->notebook>=7->nglview) (2023.12.1)\n",
            "Requirement already satisfied: referencing>=0.28.4 in /usr/local/lib/python3.10/dist-packages (from jsonschema>=4.18.0->jupyterlab-server<3,>=2.27.1->notebook>=7->nglview) (0.35.1)\n",
            "Requirement already satisfied: rpds-py>=0.7.1 in /usr/local/lib/python3.10/dist-packages (from jsonschema>=4.18.0->jupyterlab-server<3,>=2.27.1->notebook>=7->nglview) (0.19.0)\n",
            "Requirement already satisfied: python-dateutil>=2.8.2 in /usr/local/lib/python3.10/dist-packages (from jupyter-client>=7.4.4->jupyter-server<3,>=2.4.0->notebook>=7->nglview) (2.8.2)\n",
            "Requirement already satisfied: platformdirs>=2.5 in /usr/local/lib/python3.10/dist-packages (from jupyter-core!=5.0.*,>=4.12->jupyter-server<3,>=2.4.0->notebook>=7->nglview) (4.2.2)\n",
            "Requirement already satisfied: python-json-logger>=2.0.4 in /usr/local/lib/python3.10/dist-packages (from jupyter-events>=0.9.0->jupyter-server<3,>=2.4.0->notebook>=7->nglview) (2.0.7)\n",
            "Requirement already satisfied: pyyaml>=5.3 in /usr/local/lib/python3.10/dist-packages (from jupyter-events>=0.9.0->jupyter-server<3,>=2.4.0->notebook>=7->nglview) (6.0.1)\n",
            "Requirement already satisfied: rfc3339-validator in /usr/local/lib/python3.10/dist-packages (from jupyter-events>=0.9.0->jupyter-server<3,>=2.4.0->notebook>=7->nglview) (0.1.4)\n",
            "Requirement already satisfied: rfc3986-validator>=0.1.1 in /usr/local/lib/python3.10/dist-packages (from jupyter-events>=0.9.0->jupyter-server<3,>=2.4.0->notebook>=7->nglview) (0.1.1)\n",
            "Requirement already satisfied: lxml in /usr/local/lib/python3.10/dist-packages (from nbconvert>=6.4.4->jupyter-server<3,>=2.4.0->notebook>=7->nglview) (4.9.4)\n",
            "Requirement already satisfied: beautifulsoup4 in /usr/local/lib/python3.10/dist-packages (from nbconvert>=6.4.4->jupyter-server<3,>=2.4.0->notebook>=7->nglview) (4.12.3)\n",
            "Requirement already satisfied: bleach in /usr/local/lib/python3.10/dist-packages (from nbconvert>=6.4.4->jupyter-server<3,>=2.4.0->notebook>=7->nglview) (6.1.0)\n",
            "Requirement already satisfied: defusedxml in /usr/local/lib/python3.10/dist-packages (from nbconvert>=6.4.4->jupyter-server<3,>=2.4.0->notebook>=7->nglview) (0.7.1)\n",
            "Requirement already satisfied: entrypoints>=0.2.2 in /usr/local/lib/python3.10/dist-packages (from nbconvert>=6.4.4->jupyter-server<3,>=2.4.0->notebook>=7->nglview) (0.4)\n",
            "Requirement already satisfied: jupyterlab-pygments in /usr/local/lib/python3.10/dist-packages (from nbconvert>=6.4.4->jupyter-server<3,>=2.4.0->notebook>=7->nglview) (0.3.0)\n",
            "Requirement already satisfied: mistune<2,>=0.8.1 in /usr/local/lib/python3.10/dist-packages (from nbconvert>=6.4.4->jupyter-server<3,>=2.4.0->notebook>=7->nglview) (0.8.4)\n",
            "Requirement already satisfied: nbclient>=0.5.0 in /usr/local/lib/python3.10/dist-packages (from nbconvert>=6.4.4->jupyter-server<3,>=2.4.0->notebook>=7->nglview) (0.10.0)\n",
            "Requirement already satisfied: pandocfilters>=1.4.1 in /usr/local/lib/python3.10/dist-packages (from nbconvert>=6.4.4->jupyter-server<3,>=2.4.0->notebook>=7->nglview) (1.5.1)\n",
            "Requirement already satisfied: tinycss2 in /usr/local/lib/python3.10/dist-packages (from nbconvert>=6.4.4->jupyter-server<3,>=2.4.0->notebook>=7->nglview) (1.3.0)\n",
            "Requirement already satisfied: fastjsonschema>=2.15 in /usr/local/lib/python3.10/dist-packages (from nbformat>=5.3.0->jupyter-server<3,>=2.4.0->notebook>=7->nglview) (2.20.0)\n",
            "Requirement already satisfied: ptyprocess>=0.5 in /usr/local/lib/python3.10/dist-packages (from pexpect>4.3->ipython>=6.1.0->ipywidgets>=8->nglview) (0.7.0)\n",
            "Requirement already satisfied: wcwidth in /usr/local/lib/python3.10/dist-packages (from prompt-toolkit!=3.0.0,!=3.0.1,<3.1.0,>=2.0.0->ipython>=6.1.0->ipywidgets>=8->nglview) (0.2.13)\n",
            "Requirement already satisfied: charset-normalizer<4,>=2 in /usr/local/lib/python3.10/dist-packages (from requests>=2.31->jupyterlab-server<3,>=2.27.1->notebook>=7->nglview) (3.3.2)\n",
            "Requirement already satisfied: urllib3<3,>=1.21.1 in /usr/local/lib/python3.10/dist-packages (from requests>=2.31->jupyterlab-server<3,>=2.27.1->notebook>=7->nglview) (2.0.7)\n",
            "Requirement already satisfied: fqdn in /usr/local/lib/python3.10/dist-packages (from jsonschema>=4.18.0->jupyterlab-server<3,>=2.27.1->notebook>=7->nglview) (1.5.1)\n",
            "Requirement already satisfied: isoduration in /usr/local/lib/python3.10/dist-packages (from jsonschema>=4.18.0->jupyterlab-server<3,>=2.27.1->notebook>=7->nglview) (20.11.0)\n",
            "Requirement already satisfied: jsonpointer>1.13 in /usr/local/lib/python3.10/dist-packages (from jsonschema>=4.18.0->jupyterlab-server<3,>=2.27.1->notebook>=7->nglview) (3.0.0)\n",
            "Requirement already satisfied: uri-template in /usr/local/lib/python3.10/dist-packages (from jsonschema>=4.18.0->jupyterlab-server<3,>=2.27.1->notebook>=7->nglview) (1.3.0)\n",
            "Requirement already satisfied: webcolors>=1.11 in /usr/local/lib/python3.10/dist-packages (from jsonschema>=4.18.0->jupyterlab-server<3,>=2.27.1->notebook>=7->nglview) (24.6.0)\n",
            "Requirement already satisfied: six>=1.5 in /usr/local/lib/python3.10/dist-packages (from python-dateutil>=2.8.2->jupyter-client>=7.4.4->jupyter-server<3,>=2.4.0->notebook>=7->nglview) (1.16.0)\n",
            "Requirement already satisfied: cffi>=1.0.1 in /usr/local/lib/python3.10/dist-packages (from argon2-cffi-bindings->argon2-cffi>=21.1->jupyter-server<3,>=2.4.0->notebook>=7->nglview) (1.16.0)\n",
            "Requirement already satisfied: soupsieve>1.2 in /usr/local/lib/python3.10/dist-packages (from beautifulsoup4->nbconvert>=6.4.4->jupyter-server<3,>=2.4.0->notebook>=7->nglview) (2.5)\n",
            "Requirement already satisfied: webencodings in /usr/local/lib/python3.10/dist-packages (from bleach->nbconvert>=6.4.4->jupyter-server<3,>=2.4.0->notebook>=7->nglview) (0.5.1)\n",
            "Requirement already satisfied: pycparser in /usr/local/lib/python3.10/dist-packages (from cffi>=1.0.1->argon2-cffi-bindings->argon2-cffi>=21.1->jupyter-server<3,>=2.4.0->notebook>=7->nglview) (2.22)\n",
            "Requirement already satisfied: arrow>=0.15.0 in /usr/local/lib/python3.10/dist-packages (from isoduration->jsonschema>=4.18.0->jupyterlab-server<3,>=2.27.1->notebook>=7->nglview) (1.3.0)\n",
            "Requirement already satisfied: types-python-dateutil>=2.8.10 in /usr/local/lib/python3.10/dist-packages (from arrow>=0.15.0->isoduration->jsonschema>=4.18.0->jupyterlab-server<3,>=2.27.1->notebook>=7->nglview) (2.9.0.20240316)\n"
          ]
        }
      ]
    },
    {
      "cell_type": "code",
      "source": [
        "!pip install ipywidgets\n",
        "!jupyter nbextension enable --py widgetsnbextension\n",
        "!jupyter nbextension install --py --user nglview\n",
        "!jupyter nbextension enable --py --user nglview"
      ],
      "metadata": {
        "colab": {
          "base_uri": "https://localhost:8080/"
        },
        "id": "vy2L-wZk2J9T",
        "outputId": "7da8dc4c-db00-430b-8dc5-8bf988f707f5"
      },
      "execution_count": null,
      "outputs": [
        {
          "output_type": "stream",
          "name": "stdout",
          "text": [
            "Requirement already satisfied: ipywidgets in /usr/local/lib/python3.10/dist-packages (8.1.3)\n",
            "Requirement already satisfied: comm>=0.1.3 in /usr/local/lib/python3.10/dist-packages (from ipywidgets) (0.2.2)\n",
            "Requirement already satisfied: ipython>=6.1.0 in /usr/local/lib/python3.10/dist-packages (from ipywidgets) (7.34.0)\n",
            "Requirement already satisfied: traitlets>=4.3.1 in /usr/local/lib/python3.10/dist-packages (from ipywidgets) (5.7.1)\n",
            "Requirement already satisfied: widgetsnbextension~=4.0.11 in /usr/local/lib/python3.10/dist-packages (from ipywidgets) (4.0.11)\n",
            "Requirement already satisfied: jupyterlab-widgets~=3.0.11 in /usr/local/lib/python3.10/dist-packages (from ipywidgets) (3.0.11)\n",
            "Requirement already satisfied: setuptools>=18.5 in /usr/local/lib/python3.10/dist-packages (from ipython>=6.1.0->ipywidgets) (67.7.2)\n",
            "Requirement already satisfied: jedi>=0.16 in /usr/local/lib/python3.10/dist-packages (from ipython>=6.1.0->ipywidgets) (0.19.1)\n",
            "Requirement already satisfied: decorator in /usr/local/lib/python3.10/dist-packages (from ipython>=6.1.0->ipywidgets) (4.4.2)\n",
            "Requirement already satisfied: pickleshare in /usr/local/lib/python3.10/dist-packages (from ipython>=6.1.0->ipywidgets) (0.7.5)\n",
            "Requirement already satisfied: prompt-toolkit!=3.0.0,!=3.0.1,<3.1.0,>=2.0.0 in /usr/local/lib/python3.10/dist-packages (from ipython>=6.1.0->ipywidgets) (3.0.47)\n",
            "Requirement already satisfied: pygments in /usr/local/lib/python3.10/dist-packages (from ipython>=6.1.0->ipywidgets) (2.16.1)\n",
            "Requirement already satisfied: backcall in /usr/local/lib/python3.10/dist-packages (from ipython>=6.1.0->ipywidgets) (0.2.0)\n",
            "Requirement already satisfied: matplotlib-inline in /usr/local/lib/python3.10/dist-packages (from ipython>=6.1.0->ipywidgets) (0.1.7)\n",
            "Requirement already satisfied: pexpect>4.3 in /usr/local/lib/python3.10/dist-packages (from ipython>=6.1.0->ipywidgets) (4.9.0)\n",
            "Requirement already satisfied: parso<0.9.0,>=0.8.3 in /usr/local/lib/python3.10/dist-packages (from jedi>=0.16->ipython>=6.1.0->ipywidgets) (0.8.4)\n",
            "Requirement already satisfied: ptyprocess>=0.5 in /usr/local/lib/python3.10/dist-packages (from pexpect>4.3->ipython>=6.1.0->ipywidgets) (0.7.0)\n",
            "Requirement already satisfied: wcwidth in /usr/local/lib/python3.10/dist-packages (from prompt-toolkit!=3.0.0,!=3.0.1,<3.1.0,>=2.0.0->ipython>=6.1.0->ipywidgets) (0.2.13)\n",
            "usage: jupyter [-h] [--version] [--config-dir] [--data-dir] [--runtime-dir] [--paths] [--json]\n",
            "               [--debug]\n",
            "               [subcommand]\n",
            "\n",
            "Jupyter: Interactive Computing\n",
            "\n",
            "positional arguments:\n",
            "  subcommand     the subcommand to launch\n",
            "\n",
            "options:\n",
            "  -h, --help     show this help message and exit\n",
            "  --version      show the versions of core jupyter packages and exit\n",
            "  --config-dir   show Jupyter config dir\n",
            "  --data-dir     show Jupyter data dir\n",
            "  --runtime-dir  show Jupyter runtime dir\n",
            "  --paths        show all Jupyter paths. Add --json for machine-readable format.\n",
            "  --json         output paths as machine-readable json\n",
            "  --debug        output debug information about paths\n",
            "\n",
            "Available subcommands: console dejavu events execute kernel kernelspec lab labextension labhub\n",
            "migrate nbclassic nbconvert notebook run server troubleshoot trust\n",
            "\n",
            "Jupyter command `jupyter-nbextension` not found.\n",
            "usage: jupyter [-h] [--version] [--config-dir] [--data-dir] [--runtime-dir] [--paths] [--json]\n",
            "               [--debug]\n",
            "               [subcommand]\n",
            "\n",
            "Jupyter: Interactive Computing\n",
            "\n",
            "positional arguments:\n",
            "  subcommand     the subcommand to launch\n",
            "\n",
            "options:\n",
            "  -h, --help     show this help message and exit\n",
            "  --version      show the versions of core jupyter packages and exit\n",
            "  --config-dir   show Jupyter config dir\n",
            "  --data-dir     show Jupyter data dir\n",
            "  --runtime-dir  show Jupyter runtime dir\n",
            "  --paths        show all Jupyter paths. Add --json for machine-readable format.\n",
            "  --json         output paths as machine-readable json\n",
            "  --debug        output debug information about paths\n",
            "\n",
            "Available subcommands: console dejavu events execute kernel kernelspec lab labextension labhub\n",
            "migrate nbclassic nbconvert notebook run server troubleshoot trust\n",
            "\n",
            "Jupyter command `jupyter-nbextension` not found.\n",
            "usage: jupyter [-h] [--version] [--config-dir] [--data-dir] [--runtime-dir] [--paths] [--json]\n",
            "               [--debug]\n",
            "               [subcommand]\n",
            "\n",
            "Jupyter: Interactive Computing\n",
            "\n",
            "positional arguments:\n",
            "  subcommand     the subcommand to launch\n",
            "\n",
            "options:\n",
            "  -h, --help     show this help message and exit\n",
            "  --version      show the versions of core jupyter packages and exit\n",
            "  --config-dir   show Jupyter config dir\n",
            "  --data-dir     show Jupyter data dir\n",
            "  --runtime-dir  show Jupyter runtime dir\n",
            "  --paths        show all Jupyter paths. Add --json for machine-readable format.\n",
            "  --json         output paths as machine-readable json\n",
            "  --debug        output debug information about paths\n",
            "\n",
            "Available subcommands: console dejavu events execute kernel kernelspec lab labextension labhub\n",
            "migrate nbclassic nbconvert notebook run server troubleshoot trust\n",
            "\n",
            "Jupyter command `jupyter-nbextension` not found.\n"
          ]
        }
      ]
    },
    {
      "cell_type": "code",
      "source": [
        "from google.colab import output\n",
        "output.enable_custom_widget_manager()"
      ],
      "metadata": {
        "id": "MpnK5Fkq1Q2p"
      },
      "execution_count": null,
      "outputs": []
    },
    {
      "cell_type": "code",
      "source": [
        "import nglview as nv\n",
        "from IPython.display import display\n",
        "# Load a PDB file (you can replace this with your own PDB ID)\n",
        "view = nv.show_pdbid(\"1CRN\")\n",
        "\n",
        "# Display the view\n",
        "display(view)"
      ],
      "metadata": {
        "colab": {
          "base_uri": "https://localhost:8080/",
          "height": 17,
          "referenced_widgets": [
            "067d9fb0291e41e8a054cb5657fe43f6",
            "f091b1b065c6448ea99e7fbf46583afc",
            "ae0a8ac6b31d403594e95ee9d3a37ac1",
            "ed4c66071c13417da8160c5472c5731e",
            "4478d0c8fd75416c802f6243c88566ec",
            "a8ff8efa9ab242879da83187a0aa8ae5",
            "61944780aa76456d9dd6786dd583b8ca"
          ]
        },
        "id": "-FDAicxK0e4f",
        "outputId": "14360d9b-7768-48fa-8390-f301ddeca883"
      },
      "execution_count": null,
      "outputs": [
        {
          "output_type": "display_data",
          "data": {
            "text/plain": [
              "NGLWidget()"
            ],
            "application/vnd.jupyter.widget-view+json": {
              "version_major": 2,
              "version_minor": 0,
              "model_id": "067d9fb0291e41e8a054cb5657fe43f6"
            }
          },
          "metadata": {
            "application/vnd.jupyter.widget-view+json": {
              "colab": {
                "custom_widget_manager": {
                  "url": "https://ssl.gstatic.com/colaboratory-static/widgets/colab-cdn-widget-manager/2b70e893a8ba7c0f/manager.min.js"
                }
              }
            }
          }
        }
      ]
    },
    {
      "cell_type": "code",
      "source": [
        "from Bio import motifs"
      ],
      "metadata": {
        "id": "VoiSxPEv3CUb"
      },
      "execution_count": null,
      "outputs": []
    },
    {
      "cell_type": "code",
      "source": [
        "from Bio.Seq import Seq\n",
        "instances = [\n",
        "    Seq(\"TACAA\"),\n",
        "    Seq(\"TACGC\"),\n",
        "    Seq(\"TACAC\"),\n",
        "    Seq(\"TACCC\"),\n",
        "    Seq(\"AACCC\"),\n",
        "    Seq(\"AATGC\"),\n",
        "    Seq(\"AATGC\")\n",
        "]\n",
        "m = motifs.create(instances)\n",
        "print(m)"
      ],
      "metadata": {
        "colab": {
          "base_uri": "https://localhost:8080/"
        },
        "id": "HgdsReZ13c2E",
        "outputId": "40a58182-80aa-45c6-9d83-5c2cef0d5656"
      },
      "execution_count": null,
      "outputs": [
        {
          "output_type": "stream",
          "name": "stdout",
          "text": [
            "TACAA\n",
            "TACGC\n",
            "TACAC\n",
            "TACCC\n",
            "AACCC\n",
            "AATGC\n",
            "AATGC\n"
          ]
        }
      ]
    },
    {
      "cell_type": "code",
      "source": [
        "m.alignment.sequences"
      ],
      "metadata": {
        "colab": {
          "base_uri": "https://localhost:8080/"
        },
        "id": "neHCaAzA33Mm",
        "outputId": "5b1106a9-c14d-44af-9935-77f4b960d8ef"
      },
      "execution_count": null,
      "outputs": [
        {
          "output_type": "execute_result",
          "data": {
            "text/plain": [
              "[Seq('TACAA'),\n",
              " Seq('TACGC'),\n",
              " Seq('TACAC'),\n",
              " Seq('TACCC'),\n",
              " Seq('AACCC'),\n",
              " Seq('AATGC'),\n",
              " Seq('AATGC')]"
            ]
          },
          "metadata": {},
          "execution_count": 21
        }
      ]
    },
    {
      "cell_type": "code",
      "source": [
        "m.counts"
      ],
      "metadata": {
        "colab": {
          "base_uri": "https://localhost:8080/"
        },
        "id": "OjeeAB2339Xc",
        "outputId": "f161bc90-7641-48cb-fbb4-54e06c2c8bc6"
      },
      "execution_count": null,
      "outputs": [
        {
          "output_type": "execute_result",
          "data": {
            "text/plain": [
              "{'A': [3.0, 7.0, 0.0, 2.0, 1.0],\n",
              " 'C': [0.0, 0.0, 5.0, 2.0, 6.0],\n",
              " 'G': [0.0, 0.0, 0.0, 3.0, 0.0],\n",
              " 'T': [4.0, 0.0, 2.0, 0.0, 0.0]}"
            ]
          },
          "metadata": {},
          "execution_count": 22
        }
      ]
    },
    {
      "cell_type": "code",
      "source": [
        "m.counts['A']"
      ],
      "metadata": {
        "colab": {
          "base_uri": "https://localhost:8080/"
        },
        "id": "te7O949r3_Mj",
        "outputId": "89295290-1559-401f-a51e-6e66c599f639"
      },
      "execution_count": null,
      "outputs": [
        {
          "output_type": "execute_result",
          "data": {
            "text/plain": [
              "[3.0, 7.0, 0.0, 2.0, 1.0]"
            ]
          },
          "metadata": {},
          "execution_count": 23
        }
      ]
    },
    {
      "cell_type": "code",
      "source": [
        "m.counts[:, 3]"
      ],
      "metadata": {
        "colab": {
          "base_uri": "https://localhost:8080/"
        },
        "id": "q5r8HOuN4MDS",
        "outputId": "5dcb3c1b-2231-446e-94ba-87295da4a06b"
      },
      "execution_count": null,
      "outputs": [
        {
          "output_type": "execute_result",
          "data": {
            "text/plain": [
              "{'A': 2.0, 'C': 2.0, 'G': 3.0, 'T': 0.0}"
            ]
          },
          "metadata": {},
          "execution_count": 24
        }
      ]
    },
    {
      "cell_type": "code",
      "source": [
        "m.consensus"
      ],
      "metadata": {
        "colab": {
          "base_uri": "https://localhost:8080/"
        },
        "id": "Nn26TIJB4P_h",
        "outputId": "3532d52b-6d6a-4455-94ce-e03df23eb63d"
      },
      "execution_count": null,
      "outputs": [
        {
          "output_type": "execute_result",
          "data": {
            "text/plain": [
              "Seq('TACGC')"
            ]
          },
          "metadata": {},
          "execution_count": 25
        }
      ]
    },
    {
      "cell_type": "code",
      "source": [
        "m.anticonsensus"
      ],
      "metadata": {
        "colab": {
          "base_uri": "https://localhost:8080/"
        },
        "id": "NXflowc64RjR",
        "outputId": "9c1c502f-7d3d-41bf-aebb-287de8f0f4df"
      },
      "execution_count": null,
      "outputs": [
        {
          "output_type": "execute_result",
          "data": {
            "text/plain": [
              "Seq('CCATG')"
            ]
          },
          "metadata": {},
          "execution_count": 26
        }
      ]
    },
    {
      "cell_type": "code",
      "source": [
        "m.degenerate_consensus"
      ],
      "metadata": {
        "colab": {
          "base_uri": "https://localhost:8080/"
        },
        "id": "PRbzZOer4Vpw",
        "outputId": "1fa6071d-f5b0-4922-9c1b-98e8f14e72ab"
      },
      "execution_count": null,
      "outputs": [
        {
          "output_type": "execute_result",
          "data": {
            "text/plain": [
              "Seq('WACVC')"
            ]
          },
          "metadata": {},
          "execution_count": 27
        }
      ]
    },
    {
      "cell_type": "code",
      "source": [
        "from Bio import SeqIO\n",
        "\n",
        "sequences = []\n",
        "for seq_record in SeqIO.parse(\"/content/drive/MyDrive/Biopython/ls_orchid.fasta\", \"fasta\"):\n",
        "    sequences.append(str(seq_record.seq))"
      ],
      "metadata": {
        "id": "mwvt5-Bz4ltH"
      },
      "execution_count": null,
      "outputs": []
    },
    {
      "cell_type": "code",
      "source": [
        "sequences"
      ],
      "metadata": {
        "colab": {
          "base_uri": "https://localhost:8080/"
        },
        "id": "w345LXd35HTe",
        "outputId": "4643766b-f153-4f59-ac1f-ce16ea0406a2"
      },
      "execution_count": null,
      "outputs": [
        {
          "output_type": "execute_result",
          "data": {
            "text/plain": [
              "['CGTAACAAGGTTTCCGTAGGTGAACCTGCGGAAGGATCATTGATGAGACCGTGGAATAAACGATCGAGTGAATCCGGAGGACCGGTGTACTCAGCTCACCGGGGGCATTGCTCCCGTGGTGACCCTGATTTGTTGTTGGGCCGCCTCGGGAGCGTCCATGGCGGGTTTGAACCTCTAGCCCGGCGCAGTTTGGGCGCCAAGCCATATGAAAGCATCACCGGCGAATGGCATTGTCTTCCCCAAAACCCGGAGCGGCGGCGTGCTGTCGCGTGCCCAATGAATTTTGATGACTCTCGCAAACGGGAATCTTGGCTCTTTGCATCGGATGGAAGGACGCAGCGAAATGCGATAAGTGGTGTGAATTGCAAGATCCCGTGAACCATCGAGTCTTTTGAACGCAAGTTGCGCCCGAGGCCATCAGGCTAAGGGCACGCCTGCTTGGGCGTCGCGCTTCGTCTCTCTCCTGCCAATGCTTGCCCGGCATACAGCCAGGCCGGCGTGGTGCGGATGTGAAAGATTGGCCCCTTGTGCCTAGGTGCGGCGGGTCCAAGAGCTGGTGTTTTGATGGCCCGGAACCCGGCAAGAGGTGGACGGATGCTGGCAGCAGCTGCCGTGCGAATCCCCCATGTTGTCGTGCTTGTCGGACAGGCAGGAGAACCCTTCCGAACCCCAATGGAGGGCGGTTGACCGCCATTCGGATGTGACCCCAGGTCAGGCGGGGGCACCCGCTGAGTTTACGC',\n",
              " 'CGTAACAAGGTTTCCGTAGGTGAACCTGCGGAAGGATCATTGTTGAGACAACAGAATATATGATCGAGTGAATCTGGAGGACCTGTGGTAACTCAGCTCGTCGTGGCACTGCTTTTGTCGTGACCCTGCTTTGTTGTTGGGCCTCCTCAAGAGCTTTCATGGCAGGTTTGAACTTTAGTACGGTGCAGTTTGCGCCAAGTCATATAAAGCATCACTGATGAATGACATTATTGTCAGAAAAAATCAGAGGGGCAGTATGCTACTGAGCATGCCAGTGAATTTTTATGACTCTCGCAACGGATATCTTGGCTCTAACATCGATGAAGAACGCAGCTAAATGCGATAAGTGGTGTGAATTGCAGAATCCCGTGAACCATCGAGTCTTTGAACGCAAGTTGCGCTCGAGGCCATCAGGCTAAGGGCACGCCTGCCTGGGCGTCGTGTGTTGCGTCTCTCCTACCAATGCTTGCTTGGCATATCGCTAAGCTGGCATTATACGGATGTGAATGATTGGCCCCTTGTGCCTAGGTGCGGTGGGTCTAAGGATTGTTGCTTTGATGGGTAGGAATGTGGCACGAGGTGGAGAATGCTAACAGTCATAAGGCTGCTATTTGAATCCCCCATGTTGTTGTATTTTTTCGAACCTACACAAGAACCTAATTGAACCCCAATGGAGCTAAAATAACCATTGGGCAGTTGATTTCCATTCAGATGCGACCCCAGGTCAGGCGGGGCCACCCGCTGAGTTGAGGC',\n",
              " 'CGTAACAAGGTTTCCGTAGGTGAACCTGCGGAAGGATCATTGTTGAGACAGCAGAACATACGATCGAGTGAATCCGGAGGACCCGTGGTTACACGGCTCACCGTGGCTTTGCTCTCGTGGTGAACCCGGTTTGCGACCGGGCCGCCTCGGGAACTTTCATGGCGGGTTTGAACGTCTAGCGCGGCGCAGTTTGCGCCAAGTCATATGGAGCGTCACCGATGGATGGCATTTTTGTCAAGAAAAACTCGGAGGGGCGGCGTCTGTTGCGCGTGCCAATGAATTTATGACGACTCTCGGCAACGGGATATCTGGCTCTTGCATCGATGAAGAACGCAGCGAAATGCGATAAGTGGTGTGAATTGCAGAATCCCGCGAACCATCGAGTCTTTGAACGCAAGTTGCGCCCGAGGCCATCAGGCTAAGGGCACGCCTGCCTGGGCGTCGTGTGCTGCGTCTCTCCTGATAATGCTTGATTGGCATGCGGCTAGTCTGTCATTGTGAGGACGTGAAAGATTGGCCCCTTGCGCCTAGGTGCGGCGGGTCTAAGCATCGGTGTTCTGATGGCCCGGAACTTGGCAGTAGGTGGAGGATGCTGGCAGCCGCAAGGCTGCCGTTCGAATCCCCCGTGTTGTCGTACTCGTCAGGCCTACAGAAGAACCTGTTTGAACCCCCAGTGGACGCAAAACCGCCCTCGGGCGGTGATTTCCATTCAGATGCGACCCCAGTCAGGCGGGCCACCCGTGAGTAA',\n",
              " 'CGTAACAAGGTTTCCGTAGGTGAACCTGCGGAAGGATCATTGTTGAAACAACATAATAAACGATTGAGTGAATCTGGAGGACTTGTGGTAATTTGGCTCGCTAGGGATATCCTTTTGTGGTGACCATGATTTGTCATTGGGCCTCATTGAGAGCTTTCATGGCGGGTTTGAACCTCTAGCACGGTCCAGTTTGCACCAAGGTATATAAAGAATCACCGATGAATGACATTATTGCCCCACACAACGTCGGAGGTGTGGTGTGTTAATGTTCATTCCAATGAATTTTGATGACTCTCGGCAGACGGATATCTTGACTCTTGCATCGATGAAGAACGCACCGAAATGTGATAAGTGGTGTGAATTGCAGAATCCCGTGAACCATCGAGTCTTTGAACGCAAGTTGCGCCCGAGGCCATCAGGCTAAGGGCACGCCTGCCTGGGCGTCGTATGTTTTATCTCTCCTTCCAATGCTTGTCCAGCATATAGCTAGGCCATCATTGTGTGGATGTGAAAGATTGGCCCCTTGTGCTTAGGTGCGGTGGGTCTAAGGATATGTGTTTTGATGGTCTGAAACTTGGCAAGAGGTGGAGGATGCTGGCAGCCGCAAGGCTATTGTTTGAATCCCCCATGTTGTCATGTTTGTTGGGCCTATAGAACAACTTGTTTGGACCCTAATTAAGGCAAAACAATCCTTGGGTGGTTGATTTCCAATCAGATGCGACCCCAGTCAGGGGGCCACCCCAT',\n",
              " 'ACGGCGAGCTGCCGAAGGACATTGTTGAGACAGCAGAATATACGATTGAGTGAATCTGGAGGACTTGTGGTTATTTGGCTCGCTAGGGATTTCCTTTTGTGGTGACCATGATTTGTCATTGGGCCTCATTGAGAGCTTTCATGGCGGGTTTGAACCTCTAGCACGGTGCAGTTTGCACCAAGGTATATAAAGAATCACCGATGAATGACATTATTGTCAAAAAAGTCGGAGGTGTGGTGTGTTATTGGTCATGCCAATGAATTGTTGATGACTCTCGCCGAGGGATATCTTGGCTCTTGCATCGATGAAGAATCCCACCGAAATGTGATAAGTGGTGTGAATTGCAGAATCCCGTGAACCATCGAGTCTTTGAACGCAAGTTGCGCCCGAGGCCATCAGGCTAAGGGCACGCCTGCCTGGGCGTCGTATGTTTTATCTCTCCTTCCAATGCTTGTCCAGCATATAGCTAGGCCATCATTGTGTGGATGTGAAAGATTGGCCCCTTGTGCTTAGGTGCGGTGGGTCTAAGGATATGTGTTTTGATGGTCTGAAACTTGGCAAGAGGTGGAGGATGCTGGCAGCCGCAAGGCTATTGTTTGAATCCCCCATGTTGTCATATTTGTTGGGCCTATAGAACAACTTGTTTGGACCCTAATTAAGGCAAAACAATCCTTGGGTGGTTGATTTCCAATCAGATGCGACCCCAGTCAGCGGGCCACCAGCTGAGCTAAAA',\n",
              " 'CGTAACAAGGTTTCCGTAGGTGAACCTGCGGAAGGATCATTGTTGAGACAGTAGAATATATGATCGAGTGAATCTGGATGACCTGTGGTTACTCGGCTCGCCTGATTTGTTGTTGGGCTTCCTTAGGAGCTTACATGGCGGGTTTGAACCTCTACCACGGTGCAGTTTGCGCCAAGTCATATGAAGCATAACTGCAAATGGCACTACTGTCACCAAAAGTTGGAGTGGCAGTGTGTTATTGCATGCGCTAATGGATTTTTGATGACTCTCGGCCAACGGATATCTGGCTCTTTGCATCGATGAAGGAACGCAGCGAAATGCGATAAGTGGTGTGAATTGCAGAATCCCGCGAACCATCGAGTCTTTGAACGCAAGTTGCGCCCGAGGCCATCAGGCTAAGGGCACGCCTGCCTGGGCGTCGTGTATCGCATCTCTCTTGCCAATGCTTACCCGGCATACAACTAGGCTGGCATTGGGTGGATGTGAAAGATTGGCCCCTTGTGCCTAGGTGCGGTGGGTCTAAGGATTGATGTTTTGATGGATCGAAACCTGGCAGGAGGTGGAGGATGCTGGAAGCCGCAAGGCTGTCGTTCGAATCCCCCATGTTGTCATATTTGTCGAACCTATAAAAGAACATGCTTGAACCCCAATGGATTGTAAAATGACCCTTGGCGGTTGATTTCCATTTAGATGCGACCCCAGGTCAGGCGGGCCACCC',\n",
              " 'CGTAACAAGGTTTCCGTAGGTGAACCTGCGGAAGGATCATTGTTGAGACAGTAGAATATATGATCGAGTGAATCTGGAGGACCTGTGGTTACTCGGCTCCCCTGATTTGTTGTTGGGCTTCCTTAGGAGCTTACATGCCGGGTTTGAACCTCTACCACGGTGCAGTTTGCGCCAAGTCATATGAAGCATAACTGAACAATGGCATTATTGTCACCAAAAGTTGGAGTGGCAGTGTGCTATTGCATGCGCTAATGGATTTTTGATGACTCTCGCCAACGGATATCTTGGCTCTTGCATCGATGAAGAACCCAGCGAAATGCGATAAGTGGTGTGAATTGCAGAATCCCGCGAACCATCGAGTCTTTGAACGCAAGTTGCGCCCGAGGCCATCAGGCTAAGGGCACGCCTGCCTGGGCGTCGTGTATCGCATCTCTCTTGCCAATGCTTACCCGGCATACAACTAGGCTGGCATTGTGCGGATGTGAAAGATTGGCCCCTTGTGCCTAGGTGCGGTGGGTCTAAGGATTGATGTTTTGATGGATCGAAACCTGGCAGGAGGTGGAGGATGCTGGAAGCCGCAAGGCTGTCGTTCGAATCCCCCATGTTGTCATATTTGTCGAACCTATAAAAGAACATGCTTGAACCCCAATGGATGTAAAATGACCCTTGGCGGTTGATTTCCATTTAGATGCGACCCCAGGTCAGGCGGGGCCACCCGCTGAGTTTATGT',\n",
              " 'TGTTGAGATAGCAGAATATACATCGAGTGAATCCGGAGGACCTGTGGTTATTCGGCTTGCCGAGGGCTTTGCTTTTGTGGTGACCCAAATTTGTCGTTGGGCCTCCTCGGGAGCTTTCATGGCAGGTTTCAAACTCTAGCACGGCACAGTTTGTGCCAAGTCATATGAAGCATCACCGACAAATGACATTATTGTCAAAAAAGTTGGAGGGGCGGTGTCCTCCTGTGCATGCCGAATATAATTTTGATGACTCTCGACAAGCGGATATCTTGGCTCTTGCATCGGATGAAGAACCCAGCGAAATGCGATAAGTGGTGTGAATTGCAAGATCCCGTGAACCATCGAGTCTTTTGAACGCAAGTTGCGCCCGAGGCCATCAGGCTAAGGGCACGCCTGCCTGGGCGTCGTGTGTTGTGTCTCTCTTGCCAATGCCTGTCCATATATCTAGGCTTGCATTGTGCGGATGCGAAAGATTGGCCCCTTGTGCCTTGGCGCGTTGGGTCTAAGGAATGTTTTGATGGCCCGAAACTTGGCAGGAGGTGGAGGACATTGGCTGCCACAAGGTTGTCATTTAAATCCCCCATGTTATCGTATTTATCGGACCTATATAATAACTTGTTTGAACCCCAGTGGAGGCAAAATGACCCTTGGATGGTTGACTGCCATTCATATGCGACCCCAGGTCAGGCGGGCCACCCGCTGCA',\n",
              " 'CGTAACAAGGTTTCCGTAGGTGAACCTGCGGAAGGATCATTGTTGAGATAGTAGAATATATGATTGAGTGAATATGGAGGACATGTGGTTACTTGGCTCGTCAGTGCTTTGCTTTTGTGGTGACCTTAATTGGGCCTCCTTAGGAGCTTTCATGGCGGGTTCAAACCTTTAGCACGGCGCAGTTTGTGCCAAGTCATATAAGCATCCCTGATGAATGGCATTGTTGTTAAAAAAGTCGGAGGGGCGGCATGCTGTTGTGCATGCTAATGAATTTTTTGATGACTCTCGCAACGGAACTTGGCTCTTTACATCCGATGAAGAACGCAGCGAAATGCGATAAGTGGTGTGAATTGCAGAATCCCGTGAACCATCGAGTATTTGAACGCAAGTTGCGCCCAAGGCCATCAGGCTAAGGGCACGCCTGCCTGGGCGTCGTGTGCTGCATCTCTCCTNCCAATGCTTGCCCAGCATATAGCTAGGTTAGCATTGTGCGGATGAAATATTGGCCCCTTGTGCTTAGGTGCGGTGGGTCTAAGGATTAGTATTTTGATAGCTCGGAACTCGGCAGGAGGTGGAGAATGTTGGTAGCTGCAAGGCTGCCATTTGAATTCCCCATGTTGTCGTATTTGTTGAACCTATAAAAGAACTTGTTTGAACCCCAATGAAGGAAAAATGACCCTTGGGCGGTTGATTTTCATTCAGATGCAACCCCAGGTCAGGTGGCCACCCTGAGATTAAGC',\n",
              " 'CGTAACCAGGTTTCCGTAGGTGAACCTGCGGCAGGATCATTGTTGAGACAGCAGAATATATGATCGAGTGAATCCGGTGGACTTGTGGTTACTCAGCTCGACATAGGCTTTGCTTTTGCGGTGACCCTAACTTGTCATTGGGCCTCCTCCCAAGCTTTCCTTGTGGGTGTGAACCTCTAGCACGGTGCAGTATGCGCCAAGTCATATGAAGCATCACTGAGGAATGACATTATTGTCCCAAAAGCTAGAGTGGAAGCGTGCTCTTGCATGCATGCATAATGAATTTTTTATTGACTCTCGACATATGTGGTGTGAATTGCAGAATCCCGTGAACCATCGAGTCTTTGAACGCAAGTTGCGCCCGATGCCATCAGGCTAAGGGCACGCCTGCCTGGGCGTCGTGTGCTGCGTCTCTCCTATCAATGCTTTCCTATCATATAGATTGGTTTGCATTGCGTGGATGCGAAAGATTGGCCCCTTGTGCCTAGGTGCGGTGGGTCTAAGGACTAGTGTTTTGATGGTTCGAAACCTGGCAGGAGGTGGAGGATGTTGGCAGCTATAAGGCTATCGTTTGAACCCCCCATATTGTCGTGTTTGTCGGACCTAGAGAAGAACCTGTTTGAATCCCAATGGAGGCAAACAACCCTCGGGCGGTTGATTGCCATTCATATTGCGACCCAGGTCAGGCGGGGCCACCGCTGAGTTTAAG',\n",
              " 'CGTAACAAGGTTTCCGTAGGTGAACCTGCGGAAGGATCATTGTTGAGACAGCAGAATATATGATCGAGTGAATCCGGTGGACTTGTGGTTACTCAGCTCGACATAGGCTTTGCTTTTGCGGTGACCCTAATTTGTCATTGGGCCTCCCCCCAAGCTTTCCTTGTGGGTTTGAACCTCTAGCACGGTGCAGTATGCGCCAAGTCATATGAAGCATCACTGATGAATGACATTATTGTCCAAAAAGTTGGAGTGGAAGCGTGCTATTGCATACATGCAAATGAATTTTTTATGACTCTCGACATATCGTGGTGTGATCGCAGAATCCCGTGAACCATCGAGTCTTTGAACGCAAGTTGCGCCCGATGCCATCAGGCTAAGGGAACGCCTGCCTGGGCGTCGTGTGCTGCGTCTCTCCTGTCAATGGTTATACGTCATATAGACAGGTTTGCATTGCGTGGATGTGAAAGATTGGCCCCTTGTGCCTAGGTGCGGTGGGTCTAAGGACTAGTGTTTTGATGGTTCGAAACCTGGCAGGAGGTGGAGGATGTTGGCAGCTATAAGGCTATCATTTGAATCCCCCATATTGTCGTGTTTGTCGGACCTAGAGAAGAACATGTTTGAATCCCAATGGGGGCAAACAACCCTCGGGCGGTTGATTGCCATTCATATGCGACCCCAGGTCAGGCGGCCACCCGCTGAG',\n",
              " 'GTAGGTGAACCTGCGGAAGGATCATTGTTGAGACAGTAGAATATATGATCGAGTGAATCCGGTGGACTTGTGGTTACTCAGCTCGACATAGGCTTGGCTTTGGCGGTGACCCTAATTTGCCATTGGGCCTCCTCCAAAGCTTTCCTTGTGGGTTTGAACCTCTAGCACGGTGCAGTATGCGCCAAGTCATATGAAGCATCACCGATGAATGACATTATTGTCAAAAAGTTGGAGTGGAAGCGTGCTATTGCATGCATGCAAATGAATTTTTTATGACTCTCGACAACGGATATCTTGGCTCTTGCATCGATGAAGAACGCAGCAAAATGCGATAAGTGGTGTGAATTGCAGAATCCCGTGAACCATCGAGTCTTTGAACGCAAGTTGCGCCCGATGCCATCAGGCTAAGGGCACGCCTGCCTGGGCGTCGTGTGCTGCGTCTCTCCTGTCAATGCTTTCATGTCATATAGATAGGTTTGCATTGCGTGGATGTGAAAGAATGGCCCCTTGTGCCTAGGTACGGTGGGTCTAAGGACTAGTGTTTTGATGGTTCGAAACCTGGCAGGAGGTGGAGGATGTTGGCAGCTATAAGGCTATCATTTGAATCCCCCATATTGTCGTGTTTGTCGGACCTAGAGAAAAACATGTTTGAATCCCAATGGAGGCAAACAACTCTCGGGCGGTTGATTGCCATTCATATGCGACCCCAGGTCAGGCGGGGCCACC',\n",
              " 'CGTAACAAGGTTTCCGTAGGTGAACCTGCGGAAGGATCATTGTTGAGACAGCAGAATATATGATCGAGTGAATCCGGTGGACTTGTGGTTACTCAGCTCGCCATAGGCTTTGCTTTTGCGGTGACCCTAATTTGTCATTGGGCCTCCTCCAAAGCTTTCCTTGTGGGTTTGAACCTCTAGCACGGTGCAGTATGCGCCAAGTCATATGAATCATCACCGATGAATGACATTATTGTCCAAAAAGTTGGAGTAGAAGCGTGCTATTGCATGCATGCAATAGAATATTTTATGACTCTCGACAAGGGATATCTTGGCTCTTGCATCGGATGAAGAACGCAGCGAAATTGTGATAAGTGGTGTGAATTGCAGAATCCCGTGAACCATCGAGTATGTGAACGCAAGTTGCGCCCGATGCCATCAGGCTAAGGGCACGCCTGCCTGGGCGTCGTGTGCTGCGTCTCTCCTGTCAATGCTTTCCTGTCATATCGATAGGTTTGCATTGTGTGGATGTGAAAGATTGGCCCCTTGTGCCTAGGTGCGGTGGGTCTAAGGACTAGTGTTTTGATGGTTCGAAACCTGGCAGGAGGTGGAGGATGTTGGCAGCTATAAGGTTGTCATGTGAATCCCCCATATTGTCGTGTTTGTCGGACCTGGAGAAGAACCTGTTTGAATCCCAATGGAGGCAAACAACCCTCGGGCGGTTGATTGCCATTCATATGCGACCCCAGGTCAGGCGGGCCACCCGCTGAGTTT',\n",
              " 'ATATGATCGAGTGAATCTGGTGGACTTGTGGTTACTCAGCTCGCCATAGGCTTTGCTTTTGCGGTGACCCTAATTTGTCATTGGGCCTCCTCCCAAGCTTTCCTTGTGGGTTTGAACCTCTAGCACGGTGCAGTATGCACCAAGTCATATGAAGCATTGCCGATGAATGACATTATTGTCCAAAAGTTGGAGTGGAAGCGTGCTACTGCATGCATGCAAATGAATTTTTTTATGACTCTCGACAACGGATATCTTGGCTCTTGCATCGATGAAGAACGCAGCGAAATGCGATAAGTGGTGTGAATTGCAGAATCCCGTGAACCATCGAGTCTTTGAACGCAAGTTGCGCCCGATGCCATCAGGCTAAGGGCACGCCTGCCTGGGCGTCGTGTGCTGCGTCTCTCCTGTCAATGCTTTCCCATCATATAGATAGGTTTGCATTGTGTGGATGTGAAAGATTGGCCCCTTGTGCCTAGGTGCGGTGGGTCTAAGAACTTAATGTTTTGATGGTTCGAAACCTGGCAGGAGGTGGAGGATGTTGGCAGCTATATAAGGCTATCATTTGAATCCCCCATATTGTCGCGTTTGTTGGACCTAGAGAAGAACATGTTTGAATCCCAATGGAGGCAAACAACCCTCGGGCGGTTGATTGCCATTCATATGCGACCCCAGGTCAGGCGGGGCCACCCGCTGAGTTTA',\n",
              " 'CGTAACAAGGTTTCCGTAGGTGAACCTGCGGGAGGATCATTGTTGAGATAGTAGAATATTCGATCGAGTGAATCCGGAGGACTTGTGGTTACTCGGCTCGTCGAAGGCTTAACTTTTGTGGTGACCCTGATTTGTAGTTGGGCATCCTCGAGAGCTTTTATGGCGGGTTTGAGCCTCTATCACGGCGCAGTTTGCGCCAAGTCATATGAAGCATCGCCGACGAATTACATTATTGTCCCCCAAACTCGGATGGACGGTGTGTGTTACGCATACCCGTGAACCATCGAGTCTTTGAACGCAAGTTGCGCCCAAGGCCATCAGGCTAAGGGCACGCCTGCCTGGGCGTCGTGTGCTGCATCTCTTTTGCCAATGCTTGCTCGACATACAATTAGGCCAGTATTGCATAGATATGAAAGATTGACCCCTTGTGCTTAGGTGCGGTGGGTCTAAGGATTGGTGTTTTGATGGCCCAAACCCCGGCAGGAGGTGGAGCATGTTGATAGTCGCAAGGCTGTCGTTCAAATCCCACATGTTGTCGTATTTGCCGGACCCACAGAAGAACCTATTTGAACCCCTATGGAGGCAAAACAACCCTTGAGCGATTGATTGCCATTCAGATACGACCCCAGGTCAGGCGGGGCCACCCGCTGAGTTTTCC',\n",
              " 'CGTAACAAGGTTTCCGTAGGTGAACCTGCGGAAGGATCATTGTTGAGACAGTAGAATATACGATCGAGTGAATCCAGAGGACTTGTGGTTACTCGGCTCGTCCAAGTCTTAGCTTTTGTGGCCCTGATTTGTCGTTGGGCATCCTCAGGAGATTTTATGGCGGGTTTGAACCTCTATCACGGTGCAGTTTGCGCCAAGTCATATGAAGCATCACCGATGAATGACATTATTGTCACAAAAGTCGGATGGGCGGTGTGCTGTTGTGCATGCCAATAAATTTTTGATGACTCTCGGCCAACGGATATCTTGCTCTTCCATCGATGAAGAACGCAGCGAAATGCGATAAGTGGTGTGAATTGCAGAATCCCGTGAACCATCGAGTCTTTGAACGCAAGTTGCGCCCAAGGCCATCAGGCTAAGGGCACGCCTGCCTGGGCGTCGTGTGCTGCATCTCTTTTGCCAATGCTTGCCCGACATACAATTAGGACAGTATTGCATAGATATGAAAGATTGACCCCTTGTGCTTAGGTGCGGTGGGTCTAAGGATTGGTGTTTTGGTGGCCCGAACCCCGGCAGGAGGTGGATCATGTTGATAGTCGCAAGACTGTCATTCAAATCCCACATGTTGTCGTATTTGTCGGACCCACAGAAGAACCTATTTGAACCCCAATGGAGGCAAAACAACCCTCGAGCGATTGATTGCCATTCAGATACGACCCCAGGTCAGGCGGGGCCACCCGCTGAGTTTAAGC',\n",
              " 'CGTAACAAGGTTTCCGTAGGTGAACCTGCGGAAGGATCATTGTTGAGACAGTATAATATATGATCGAGTGAATCCGGAGGACTTGTGGTTACTCGGCTCGTCCAAGTCTTAGCTTTTGTGGCCCTGATTTGTCGTTGGGCATCCTCAGGAGCTTTTATGGCGGGTTTGAACCTCTATCACGGCGCAGTTTGCGCCAAGTCATATGAAGCATCACCGACGAATGACATTATTGTCACCAAAGTCGGATGGGCGGTGTGCTATTGTGCATACCAATAATTTTTTGATGACTCTCGTCAACGGATATCTTAGCGAAATGCGATAAGTGGTGTGAATTGCAGAATCCCGTGAACCATCGAGTCTTTGAACGCAAGTTGCGCCCAAGGCCATCAGGCTAAGGGCACGCCTGCCTGGGCGTCGTGTGCTGCATCTCTTTTGCCAATGCTTGCCCGACATACAATTAGGCCAGTATTGCATAGATATGAAAGATTGACCCCTTGTGCTTAGGTGCGGTGGGTCTAAGGATTGGTGTTTTGATGTCCCGAACCCCGGCAGGAGGTGGAGCATGTTGATAGTCGCAAGACTATCGTTCAAATCCCACATGTTGTCGTATTTGTCGGACCCACAGAAGAACCTATTTGAACCCCAATGGAGGCAAAACAACCCTCGAGTGATTGATTGCCATTCAGATATGACCCCAGGTCAGGCGGGGCCACCCGCTGAGTTTAA',\n",
              " 'CGTAACAAGGTTTCCGTAGGTGAACCTGCGGAAGGATCATTGCTGAGACCGTAGAATAAACGATCGAGTTAATCTGGAGGACCGGTGTACTTCGATCTCCCAGGGGCTTTCGCTACTGTGGTGGCCTTTGATCTGCCATCGGGCCTCCTTGGGAGTGTTCTTGAAGGCGATCAAACTTCTAGCCCGGCGCAGCTTCGCGCCAAGTCTTTTGAGACAAGAATCGGCATAGGGGTGTTCCCTTGTAGCCGGTGGGGGTGGCACTTGATTCGTGCCCCCCAAGTTACATTTTTACAACTCTCGGCAACGGATATCTCGGCTCTTGCATCGATGGAGGACGCAGCGAAATGCGATAAGTGGTGTGAATTGCAGAATCCCGTGAACATCGAGTCTTTGAACGCAAGTTGCGCTCGAGGCCGTCAGGCTAAGGGCACGCCTGCCTGGGCGTTGTGTACTGTGTCTCTCCCACCAATGGTTGTCCAAGAATACCGTTCGGTCGGTGCGGATGTGAGTTTGGCCCCTTGTTCTTCGGTTCAATGGGTCTAAGACCTCGGGCTTTTGATGGTCCAAAATTCGACAAGAGGTGGATGGGCAATGGCTGAGCCAAAGCTGTTGTGCGAATGCCGTATGTTGTCCGATTTGATGGGCCATCATAATTCGTAGGACCCTTCGGAACCCCATTGGTGCCACATCAACCCAACCCATGGGCGGTTGATTGCCATTTGGAAGCAACCCCAGGTCAGGTGAGGCCACCCGCTGAGTTTAAGC',\n",
              " 'CGTAACAAGGTTTCCGTAGGTGGACCTTCGGGAGGATCATTTTTGAAGCCCCCAAATATACGATCGAGATAATCCGGAGGACCGGTGTACTTTGGTCTCCCAGGGGCTTCCGCCGCTGTGGTGACCATGATTTCCCATCGAACCTCCTTGGGAGAGTTCTCTATGGCAATTGAACCCTTGGCCCGGCGCAGTTTCGCTCCAAGTCAAATGAGATAGAACCGACAAGGGTCTTCGTCCTCCATGGATGGACCGGGGAGGGCCGGCGTGCTGCTGTGCCCCCTTAAGATTCGTCTGACAACTCTCGTCAACGGATATCTCGGCTCTTGCATCGATGAAGAACCCAGCGAAATGTGATAAGTGGTGTGAATTGCAGAATCCCGTGAACCATCGAGTCTTTGAACGCAAGTTGCGCCCGAGGCCATCAGGCTAAGGGCACGCCTGCCTGGGCGTTGCGTGCTGCATCTCTCCCAATGCTAAGGTTGAACAGCCATACTGTTCGGCCGGCGAGGATGAGAGTTTGGCCCCTTGTTCTTCGGTGCGATGGGTCCAAGACTTGGGCTTGTGACGGTCCACAAATCCGGCAAGAGGTGGACGGACGGTGGCTGCGACAAAGCTGTTGTGCGAATGCCCTATGTTGTCGTATTTGATGGGCCGGAATGATCCCTTTCGAACCCCGTCGGAGGCACGTCGACCCAACCCATGGGCGGTTGACGGCCATTAGGATGCAACCCCAGGTCAGGTGAGACTACCCGCTA',\n",
              " 'CGTAACAAGGTTTCCGTAGGTGAACCTGCGGAAGGATCATTGTTGAGACCGCCAAATACACGATCGAGTTAATCCGGAGGACCGGTGTACTTTGGTCTCCCAGGGGCTTCCGCCGCTGTGGTGACCATGATTTGCCATCGAGCCTCATTGGGAGATTTCTCCATGGCAATTGAACCCTTGGCCCGGCGCAGTTTCGCGCCAAGTCAAATGAGATAGAACCGGCAAGGGCATCGTCCTCCATGGAGCCGGGGAGGCCGGCATGCTGCTGTGCCCGAAAGAATTTTCGACAACTCTCGGCAACGGATATCTCGGCTCTTGCATCGATGAAGAACGCAGCGAAATGTGATAAGTGGTGTGAATTGCAGAATCCCGTGAACCATCGAGTCTTTGAACGCAAGTTGCGCCCGAGGCCATCAGGCTAAGGGCACGCCTGCCTGGGCGTTGCGTGCTGCATCTCTCCCAATGCTAAGGTTGAACAGCCATACTGTTCGGCCGGCGAGGATGAGAGTTTGGCCCCTTGTTCTTCTGTGCGATGGGTCCAAGACTTGGGCTTGTGACGGTCCACAAATCCGGCAAGAGGTGGACGGACGGTGGCTGCGACGAAGCTTTTGTGCGAATGCCCTATGTTGTCGTATTTGATGTGCCAGAACGATCCCTTTCGAACCCCTTCGGAGGCACGTCGACCCAACCCATGGGCGGTGACGCCATTAGGATGCAACCCAGTCAGTGAGCTACCGCTGAG',\n",
              " 'CGTAACAAGGTTTCCGTAGGTGGACCTTCGGGAGGATCATTTTTGAAGCCCCCAAAAAAACGATCGAATTAATCCGGAGGGCCGGTGTAGTTTGGTCTCCCAGGGGCCTTGGCTACTGTGGTGACCGTGAATTTCCGTCGAACCCTCTGGGAGGAATTCTTGATGGCAAATGAAACCCTTGGCCCGGCGCAGTTTCGCCCCAAATCAAATGAGATGGAACCGGCGGAGGGCATCGTCCCCCATGGAACCGGGGAGGGCCGGCGTTCTTCCGTTCCCCCAATGAAATTATTTTTTGACAACTCTCGCAACGGATATCTCGGCTCTTGCATCGATGAAGAACGCAGCGAAATGTGATAAGCTGGTGTGAATTGCAGAATCCCGTGAACCATCGAGTCTTTGAACGCAAGTTGCGCCCGAGGCCATCAGGCTAAGGGCACGCCTGCCTGGGCGTTGCGTGCTGCATCTCTCTCCCATTGCTAAGGCTGAACAGGCATACTGTTCGGCCGGCGCGGATGAGTGTTTGGCCCCTTGTTCTTCGGTGCGATGGGTCCAAGACCTGGGCTTTTGACGGCCGGAAATCCGGCAAGAGGTGGACGGACGGTGGCTGCGACGAAGCTGTCGTGCGAATGCCCTGCGTTGTCGTATTTGATGGGCCGGAATAAATCCCTTTTGAACCCCATTGGAGGCACGTCAACCCGTGGGCGGTCGACGGTCATTTGGATCCAACCCCAGGTCAGGTGAGGCCACCCGCTGAGTTTAAGC',\n",
              " 'CGTAACAAGGTTTCCGTAGGTGAACCTTCGGAAGGATCATTGTTGAGACCCCCAAAAAAACGATCGAGTTAATCCGGAGGACCGGTGTAGTTTGGTCTCCCAGGGGCTTTGGCTACTGTGGTGGCCGTGAATTTCCGTCGAACCTCCTTGGGAGAATTCTTGATGGCAATTGAACCCTTGGCCCGGCGCAGTTTCGCCCCAAGTCAAATGAGATGGAACCGGCGGAGGGCATCGTCCTCCATGGAACCGGGGAGGGCCGGCGTTCTTCCGTTCCCCCCATGAATTTTTTTTTGACAACTCTCGGCAACGGATATCTCGGCTCTTTGCATCCGATGAAAGAACCCAGCGAAATGTGATAAGTGGTGTGAATTGCAGAATCCCGTGAACCATCGAGTCTTTGAACGCAAGTTGCGCCCGAGGCCATCAGGCTAAGGGCACGCCTGCCTGGGCGTTGCGTGCTGCATCTCTCTCCCATTGCTAAGGCTGAACAGGCATACTGTTCGGCCGGCGCGGATGAGTGTTTGGCCCCTTGTTCTTCGGTGCGATGGGTCCAAGACCTGGGCTTTTGACGGCCGGAAATCCGGCAAGAGGTGGACGGACGGTGGCTGCGACGAAGCTGTCGTGCGAATGCCCTACGCTGTCGTATTTGATGGGCCGGAATAAATCCCTTTTGAGCCCCATTGGAGGCACGTCAACCCGTGGGCGGTCGACGGCCATTTGGATGCAACCCCAGGTCAGGTGAGGA',\n",
              " 'CTAACCAGGGTTCCGAGGTGACCTTCGGGAGGATTCCTTTTTAAGCCCCCGAAAAAACGATCGAATTAAACCGGAGGACCGGTTTAATTTGGTCTCCCCAGGGGCTTTCCCCCCTTGGTGGCCGTGAATTTCCATCGAACCCCCCTGGGAGAATTCTTGGTGGCCAATGGACCCTTGGCCCGGCGCAATTTCCCCCCCAATCAAATGAGATAGGACCGGCAGGGGGCGTCCCCCCCCATGGAACCGGGGAGGGCCGGCATTCTTCCGTTCCCCCCTCGGATTTTTTGACAACTCTCGCAACGGATATCTCGCCTCTTTGCATCGGATGGAAGAACGCAGCGAAATGTGATAAGTGGTGTGAATTGCAGAATCCCGTGAACCATCGAGTCTTTGAACGCAAGTTGCGCCCGAGGCCATCAGGCTAAGGGCACGCCTGCCTGGGCGTTGCGTGCTGCATCTCTCCCATTGCTAAGGTTGAACGGGCATACTGTTCGGCCGGCGCGGATGAGAGATTGGCCCCTTGTTCTTCGGTGCGATGGGTCCAAGACCTGGGCTTTTGACGGTCCAAAATCCGGCAAGAGGTGGACGGACGGTGGCTGCGACAAAGCTGTCGTGCGAATGCCCTGCGTTGTCGTTTTTGATGGGCCGGAATAAATCCCTTTTGAACCCCATTGGAGGCACGTCAACCCATGGGCGGTTGACGGCCATTTGGATGCAACCCCAGGTCAGGTGAGCCACCCGCTGAGTTTA',\n",
              " 'CGTAACAAGGTTTCCGTAGGTGAACCTGCGGAAGGATCATTGTTGAGACCGCCAAATATACGATCGAGTTAATCCGGAGGACCGGTGTAGTTTGGTCTCCCAGGGGCTTTCGCCGCTGTGGTGACCGTGATTTGCCATCGAGCCTCCTTGGGAGATTTCTTGATGGCAATTGAACCCTTGGCCCGGCGCAGTTTCGCGCCAAGTCATATGAGATAGAACCGGCGGAGGGCGTCGTCCTCCATGGAGCGGGGAGGGCCGGCATGCTCCGTGCCCCCCCATGAATTTTTCTGACAACTCTCGGCAACGGACGTAACAAGGTTTAAATGTGATAAGCAGGTGTGAATTGCAGAATCCCGTGAACCATCGAGTCTTTGAACGCAAGTTGCGCCCGAGGCCATCAGGTTAAGGGCACGCCTGCCTGGGCGTTGCGTGCTGCATCTCTCCCATTGCTAAGGTTGAACGGGCATACTGTTCGGCCGGCGCGGATGAGAGTTTGGCCCCTTGTTCTTCGGTGCGATGGGTCCAAGACCTGGGCTTTTGACGGTCCAAAATCCGGCAAGAGGTGGACGGACGGTGGCTGCGACAGAGCTGTCGTGCGAATGCCCTACGTTGTCGTTTTTGATGGGCCAGAATAAATCCCTTTTGAACCCCATTGGAGGCACGTCAACCCAATGGGGGGTGACGGGCATTTGGTTAACCCCGGCAAGTTAAGGCACCCGTTAATTTTAGGA',\n",
              " 'CGTAACAAGGTTTCCGTAGGTGAACCTGCGGAAGGATCATTGTTGAGACCGCCAAATATACGATCGAGTTAATCCGGAGGACCGGTGTAGTTTGGTCTCCCAGGGGCTTTCGCCGCTGTGGTGACCGTGATTTGCCATCGAGCCTCCTTGGGAGATTTCTTGATGGCAATTGAACCCTTGGCCCGGCGCAGTTTCGCGCCAAGTCATATGAGATAGAACCGGCAGGGGGCGTCGTCCTCCATGGAGCCGGGGAGGGCCGGCATGCTGCCGTGCCCCCAATGAATTTTTTGACAACTCTCGGCAACGGATATCTCGGCTCTTGCATCGATGAAGAACGCAGCGAAATGTGATAAGTGGTGTGAATTGCAGAATCCCGTGAACCATCGAGTCTTTGAACGCAAGTTGCGCCCGAGGCCATCAGGCTAAGGGCACGCCTGCCTGGGCGTTGCGTGCTGCATCTCTCCCATTGCTAAGGTTGAACGGGCATACTGTTCGGCCGGCGCGGATGAGAGTTTGGCCCCTTGTTCTTCGGTGCGATGGGTCCAAGACCTGGGCTTTTGACGGTCCAAAATCCGGCAAGAGGTGGACGGACGGTGGCTGCGACAGAGCTGTCGTGCGAATGCCCTACGTTGTCGTATTTGATGGGCCGGAATAAATCCCTTTGAACCCCATTGGAGGCACGTCAACCCCATGGGCGGTGACGGCCACTTGGATGCAACCCAGTCAGTGAGCCACCGCTGA',\n",
              " 'CGTAACAAGGTTTCCGTAGGTGAACCTGCGGAAGGATCATTGTTGAGACCCCCAAAAAAACGATCGAGTTAATCCGGAGGACCGGTGTAGTTTGGTCTCCCAGGGGCTTTGGCTACTGTGGTGACCGTGAATTTCCGTCGAGCCTCCTTGGGAGATTTCTTGATGGCAATTGAACCCTTGGCCCGGCGCAGTTTCGCCCCAAGTCAAATGAGATGGAACCGGCGGAGGGCATCGTCCTCCATGGAACCGGGGAGGGCCGGCGTGCTTCCGTCCCCCAATGAATTTTTTTGACAACTCTCGCAACGGATATCTCGCTCTTGCATCGATGAAGAACACAGCGAAATGTGATAAGTGGTGTGAATTGCAGAATCCCGTGAACCATCGAGTCTTTGAACGCAAGTTGCGCCCGAGGCCATCAGGCTAAGGGCACGCCTGCCTGGGCGTTGCGTGCTGCATCTCTCTCCCATTGCTAAGGCTGAACAGGCATACTGTTCGGCCGGCGCGGATGAGTGTTTGGCCCCTTGTTCTTCGGTGCGATGGGTCCAAGACCTGGGCTTTTGACGGCCGGAAATCCGGCAAGAGGTGGACGGACGGTGGCTGCGACGAAGCTGTCGTGCGAATGCCCTGCGTTGTCGTATTTGATGGGCCGGAATAAATCCCTTTGAACCCCATTGGAGGCACGTCAACCCGTGGCGGTCGACGGCCATTTGGATGCAACCCAGTCAGTGAGCCACCGCTGA',\n",
              " 'CGTAACAAGGTTTCCGTAGGTGAACCTGCGGAAGGATCATTGTTGAGACCGCAAAATATACGATCGAGTTAATCCGGAGGACTGGTGTAGTTTGGTCTCCCAGGGGCGTTGGCTACTGCGGTGACCATGATTTTCCATCGAGCCTCCTCGGGAGATTTCTTGATGGCAATTGAACCCTTGGCCCGGCGCAGTTTCGCGCCAAGTCGTATGAGATAGAACCGGCAGAGGGCTTCGTCCTCCATGGAACCGGGGAGGACCGGCATGCCGCCGTACCCCCTTTGAATCGGGCTGACAACTCTCGTTCAAGGAGCCCTCAGCTCATAATGTGATAAGTGGTGTGAATTGCAGAATCCCGTGAACCATCGAGTCTTTGAACGCAAGTTGCGCCCGAGGCCATCAGGCTAAGGGCACGCCTGCCTGGGCGTTGCGTGCTGCATCTCTCCCGTTGCTAAGGTCGAACAGGCATATACTGTTCGGCCGGCGCGGATGAGAGTTTGGCCCCTTGTTCTTCGGTGCGATGGGTCCAAGACCTGGGCTTTTGACGGTAAAAAATCCGGCAAGAGGTGGACGGACGGTGGCTGCGACAAAGCTGTCGTGCGAATGCCCTACGTTGTCGTATTTGATGGGCCAGAATAAATCCCTTTTGAACCCCATTGGAGGCACGTCAACCCATGGGCGGTTTGACGGCCATTGGATGCCAACCCAGTCAGGTGAGGCCACCCGCTGA',\n",
              " 'CGTAACAAGGTTTCCGTAGGTGAACCTGCGGAAGGATCATTGTTGAGACCGCCAAATATACGATCGAGTTAATCCGGAGGACTGGTGTAGTTTGGTCTCCCAGGGGCGGTGGCTACTGCGGTGACCATGATATTCCATCGAGCCTCCTCGGGAGATTTCTTGATGGCAATTGAACCCGTGGCCCGGCGCAGTTTCGCGCCAAGTCGTATGAGATAGAACCGGCAGAGGTCTTCGTCCTCCATGGAACCGGGGAGGCCCGGCATACCACCATACCCCCAATGAATCTTTGTGACAACTCTCGTCAATGTGATAAGTGGTGTGAATTGCAGAATCCCGTGAACCATCGAGTCTTTGAACGCAAGTTGCGCCCGAGGCCATCAGGCTAAGGGCACGCCTGCCTGGGCGTTGCGTGCTGCATCTCTCCCGTTGCTAAGGTCGAACAGGCATACTGTTCGGTCGGCGCGGATGAGAGTTTGGCCCCTTGTTCTTCGGTGCGATGGGTCCAAGACCTGGGCTTTTGACGGTAAAAAATCCGGCAAGAGGTGGACGGACGGTGGCTGCGACAAAGCTGTCGTGCGAATGCCCTGCGTTGTCGTATTTGATGGGCCGGAATAAATCCCTTTTGAACCCCATTGGAGGCACGTCAACCCATGGGCGGTTGACGGCCATTTGGATGCAACCCCAGGTCAGGTGAGCCACCCGCTGAGTTTT',\n",
              " 'CGTAACAAGGTTTCCGTAGGTGAACCTTCGGAAGGATCATTGTTGAGACCGCAAAATATACGATCGAGTTAATCCGGAGGACTGGTGTAGTTTGTCTCCCAGGGGCGTTGGCTACTGCGGTGACCATGATTTTCCATCGAGCCTCCTCGGGAGATTTCTTGATGGCAATTGAACCCTTGGCCCGGCGCAGTTTCGCGCCAAGTCGTATGAGATAGAACCGTCAGAGGGCATCGTCCCTCCATGGAGCCGGGGAGGGCCGGCATGCCCGCCGTGCCCCCAATGAATCTTTTTGACAACTCTCGCAACGGATATCTCGCTCTTCATCGATGAAGAACGCAGCGAAATGTGATAAGTGGTGTGAATTGCAGAATCCCGTGAACCATCGAGTCTTTGAACGCAAGTTGCGCCCGAGCCATCAGGCTAAGGGCACGCCTGCCTGGGCGTTGCGTGCTGCATCTCTCCCGTTGCTAAGGTCGAACAGACATACTGTTCGGCCGGCGCGGATGAGAGTTTGGCCCCTTGTTCTTCGGTGCGATGGGTCCAAGACCTGGGCTTTTGACGGTACCAAATCCGACAAGAGGTGGACGGACGGTGGCTGCGACAAAACTGTCGTGCGAATGCCCTACGTTGTCGTATTTGATGGGCCAGAATAAATCCCTTTTGAACCCCATTGGAGGCACGTCAACCCATGGGCGGTGACGGCCATTGGATGCAACCCCAGTCAGTGAGCCACCGCTGAGTAA',\n",
              " 'CGTAACCAGGTTTCCGTAGGTGAACCTCCGGAAGGATCCTTGTTGAGACCGCCAAATATACGATCGAGTTAATCCGGAGGACCGGTGTAGTTTGGTCTCCCAGGGGCTTTCGCCGCTGTGGTGTCCGTGATTTACCATCGAGCCTCCTTGGGAGATTTCTTGATGGCAATTGAACCCATGGCCCGGCGCAGTTTCGCGCCAAGTCATATGAGATAGAACCGGCAGGGGGCGTCGTCCTCCATGGAACCGGGGAGGGCCGGCATGCTACCGTACCCCCAATGAATTATTTTGACAACTCTCGGCAACGGAGTCTCAGCTCTTTGTGATAAGTGGTGTGAATTGCAGAATCCCGTGAACCATCGAGTCTTTGAACGCAAGTTGCGCCCGAGGCCATCAGGCTAAGGGCACGCCTGCCTGGGCGTTGCGTGCTGCATCTCTCCCATTGCTAAGGTTGAACGGGCATACTGTTCGGCCGGCGCGGACGAGAGTTTGGCCCCTTGTTCTTCGGTGCGATGGGTCCAAGACCTGGGCTTTTGACGGTCCAAAATCCGGCAAGAGGTGGACGGACGGTGGCTGCGACAAAGCTGTCGTGCGAATGCCCTACGTTGTCGTATTTGATGGGCCAGAATAAATCCCTTTTGAACCCCATTGGAGGCACGTCAACCCATGGGCGGTTGACGGCCATTTGGATGCAACCCCAGGTCAGGTGAGCCACCCGCTGAGATAA',\n",
              " 'CGTAACCAGGTTTCCGTAGGTGAACCTCCGGAAGGATCATTGTTGAGACCGCCAAATATACGATCGAGTTAATCCGGAGGACCGGTGTAGTTTGGTCTCCCAGGGGCTTTCGCCCCTGTGGTGACCGTGATTTGCCATCGAGCCTCCTTGGGAGATTTCTTGATGGCAATTGAACCCATGACCCGGCGCAGTTTCGCGCCAAGTCATATGAGATAGAACCGGCAGGGGTCGTCGTCCTCCATGGAGCCGGGGAGGGCCGGCATACTACCGTCCCCCCAATGAATTTTATATTGACAACTCTCGGCCGGAATCTCGGCTCTTGCATCGATGGAAGGACGCAGCGAAAATGTGATAAGTGGTGTGAATTGCAGAATCCCGTGAACCATCGAGTCTTTGAACGCAAGTTGCGCCCGAGGCCATCAGGCTAAGGGCACGCCTGCCTGGGCGTTGCGTGCTGCATCTCTCCCATTGCTAAGGTTGAACGGGCGTACTGTTCGGCCGGCGCGGACGAGAGTTTGGCCCCTTGTTCTTCGGTGCGATGGGTCCAAGACCTGGGCTTTTGACGGTCCAAAATCCGGCAAGAGGTGGACGGACGGTGGCTGCGACAAAGCTGTCGTGCGAATGCCCTACGTTGTCGTATTTGATGGGCCAGAATAAATCCCTTTTGAACCCCATTGGAGGCACGTCAACCCATGGGCGGTTGACGGCCATTTGGATGCAACCCCAGGTCAGGTGAGGCCACCCCGTGAGTTTACGC',\n",
              " 'CGTAACAAGGTTTCCGTAGGTGAACCTGCGGAAGGATCATTGTTGAGACCGCAAAATATACGATCGAGTTAATCCGGAGGACCGGTGTAGTTTGGTCTCCCAGGGGCTTTGGTTACTGTGGTGACCGTGACTTTGCCGTCGAGCCTCCTTGGGAGATTTCTTGATGGAAATTGAACCCTTGGCCCGGCGCAGTTTCGCGCCAAGTCATATGAGATGGAACCGGCGGAGGGAATCGTCCTCCATGGAGCCGGGGAGGGCCGGCGTGTTGCCGTGCCCCCAATGAATTTTTTTTTGGGCAACTCTCGGCCAAACGGGAAATCTCGGCTCCTTGCATCGGATGGAAGGACGCAGCGAAATTGTGATAAGTGTTGTGAATTGCAGAATCCCGTGAACCATCGAGTCTTTTGAACGCAAGTTGCGCCCGAGGCCATCAGGCTAAGGGCACGCCTGCCTGGGCGTTGCGTGCTGCATCTCTCTCCCATTGCTAAGGCTGAACAGGCATACTGTTCGGCCGGCGCGGATGAGTGTTTGGCCCCTTGTTCTTCGGTGCGATGGGTCCAAGACCTGGGCTTTTGACGGCCGGAAATCCGGCAAGAGGTGGACGGACGGTGGCTGCGACGAAGCTGTCGAGCGAATGCCCTACGCTGTCGTATTTGATGGGCCGGAATAAATCCCTTTTGAACCCCATTGGAGGCACGTCAACCCGTGGGCGGTCGACGGCCATTTGGATGCAACCCCAGGTCAGGTGAGGCCACCCGCTGAGTTTAAGA',\n",
              " 'CGTAACAAGGTTTCCGTAGGTGAACCTGCGGAAGGCTCATTGTTGAGACCGCAAAATAATTGATCGAGTTAATCCGGAGGACCGGTGTAGTTTGGTCTCCCAGGGGCTTTGGTTACTGTGGTGACCGTGACTTTGCCGTCGAGCCTCCTTGGGAGATTTCTTGATGGCAATTGAACCCTTGGCCCGGCGCAGTTTCGCGCCAAGTCATATGAGATGGAACCGGCGGAGGGCATCGCCCTCCATGGAGCCGGGGAGGGCCGGCGTCCTGCCGTGCCCCCAATGAATTTTTCTTTGGGAAAACTTCTCGGCCAACGGGAATCTCGGCTCTTTGCATCGGATGGAAGGACGCAGCGAATTGTGATAAGTGGTGTGAATTGCAGAATCCCGTGAACCATCGAGTCTTTGAACGCAAGTTGCGCCCGAGGCCATCAGGCTAAGGGCACGCCTGCCTGGGCGTTGCGTGCTGCATCTCTCTCCCATTGCTAAGGCTGAACAGGCATACTGTTCGGCCGGCGCGGATGAGTGTTTGGCCCCTTGTTCTTCGGTGCGATGGGTCCAAGACCTGGGCTTTTGACGGCCGGAAATCCGGCAAGAGGTGGACGGACGGTGGCTGCGACGAAGCTGTCGTGCGAATGCCCTACGCTGTCGTATTTGATGGGCCGGAATAAATCCCTTTTGAACCCCATTGGAGGCACGTCAACCCGTGGGCGGTCGACGGCCATTTGGATGCAACCCCAGGTCAGGTGAGGCCACCCGCTGAGTTTAAG',\n",
              " 'CGTAACAAGGTTTCCGTAGGTGAACCTGCGGAGGGATCATTGTTGAGATCGCATAATAATTGATCGAGATAATCCAGAGGATCGGTTTACTTTGGTCACCCTTGGGCGCCTGCTATTGCGGTGACCTAGATTTTCCATGGAGGGAGCCTCCTTGGGAGCTTTCTTGCCGGCGATCTAACCCTTGCCCGTCGCAGTTTTGCACCAAGTCATATGACACATAAATGGTGAAGGACATACCCCCTTCGTTGAATTCGAGGAGGGGACGGCATGTGGCCTTGACCTCTCCCAATTATTTTTTTGACAACTCTCAGCCAACGGATATCTCGGCTCTTTGCATCGGATGGAGGACGCAGCGAAATGCGATAAGTGTGTGAATTGCAAGATCCCGTGAACCATCGAGTCTTTGAACGCAAGTTGCGCCCAAGCCATCAGGCCAAGGGCACGCCTGCCTGGGCATTGCGAGTCATATCTCTCCCTTAATGAGGCTGTCCATGCATACTGTTCAGCCGGTGCGGATGTGAGTTTGCCCCCTTGTTCTTTGGTGCTGGGGGTCTAAGAGCTGCAGGGGCTTTTGATGGTCCTAAATTCGGCAAGAGGTGGACGAATCATGCTACAACAAAACTGTTGGGCGAATGCTCCAGGTTGTCGTATTAGATGGGCCATCATAATCTAGAGACCCTTGTGAACCCCATTGGAGGCCCATCAACCCATGATCAGTTGATGGCCTTTTGGATGCGACCCCAGGTCAGGTGAGCAACC',\n",
              " 'CGTAACAAGGTTTCCGTAGGTGAACCTGCGGAAAGGTCATTGTTGAGATCACATAATAATTGATCGAGTTACTCCAGAGGATCAGTTTACTCCGGTCACCCATGGGTGCTTGCTATTGCGGTGACCTAGATTTGCCATGGAGCCTCCTTGGGAGTTTTCTTGCCGGCGATCTTACCCTTGCCCGGGGCAGTTTTGCCCCAAGTCATATGACACAATAATGGCGAAGGAGGGGGCGGCATTTTGCCCTTGACCCTACAATCACTCCCCCTCTCCAAATTATTTTTGGACAACTCTCAGCAACGGATATCTCGGCTCTTGCATCGATGAAGAACCCAGCGAAATGCGATAAGTGGTGTGAATTGCAGGATCCCGTGAACCATCGAGTCTTTGAACGCAAGTTGCGCCCAAGGCCATCAGGCCAAGGGCACGCCTGCCTGGGCATTGCGAGTCATATCTCTCCCTTAATGAGGCTGTACATGCATACTGTTCAGCCGGTGCGGATGTGAGTTTGGCCCCTTGTTCTTCGGTGCTGGGGGTCTAAGAGCTGCAGGGGCTTTTGATGGTCCTAAATTCGGCAAGAGGTGGACGAATTACAACAAAACTGTTGTGCGAATGCTCCAGGTTGTCGTATTAGATGGGCCAGCATAATCTAAAGACCCTTGTGAACCCCACTGGAGGCACATCAACCCGTGATCAGTTGATGGCCATTTGTTGCGACCCCAGTCAGTGAGCAACCCGCTGAGTTTAAGC',\n",
              " 'CGTAACAAGGTTTCCGTAGGTGAACCTGCGGAAGGATCATTGTTGAGATCACATAATAATTGATCGAGTGAATCCAGAGGATCAGTTTACTTTGGTCGCCCATGGGCGCTTGCTATTGCGGTGACCTAGATTTGCCATGGAGCCTCCTTGGGAGCTTTCTTGCCGGCGATCTAACCCTTGCCCGGCGCAGTTTTGCGCCAAGTCACATGACACATAAATGGTGAAGGGCACGGCCCTTTGTGAATTCAAGGAGGTGAAGGGCATGTGGCCTTGAGCCTACACTCCCTCCCCCTCTCCAAATTATTTTTTGTGAAACAACTCTCAGCAACGGAGATCTCAGCTCTTGCATCGATGAAGGAACGCAGCGAAATGCGATAAGTGGTGTGAATTGCAGAATCCCGTGAACCATCGAGTCTTTGAACGCAAGTTGCGCCCAAGGCCATCAGGCCAAGGGCACGCCTGCCTGGGCATTGCGAGTCATATCTCTCCCTTAACGAGGCTGTCCAGGCATACTGTTCAGCCGGTGCGGGTGTGAGTTTGGCCCCTTGTTCTTTGGTGCTGGGGGTCTAAGAGCTGCAGGGGCTTTTGATGGTCCTAAATTCGGCAAGAGGTGGACGCAACGCGCTACAACAAAACTGTTGTGCGAATGCCCCGGGTTGTCGTATTAGATGGGCCAGCATAATCTAAACACCCTTGTGAACCCCATTGGAGGCCCATCAACCCATGATCAGTTGATGGCCATTTGGTTGCGACCCCAGGTCAGGTGAGGCAACCCGCTGAGTTTAAGC',\n",
              " 'CGTAACAAGGTTTCCGTAGGTGAACCTGCGGAAGGATCATTGTTGAGATCGCATAATAATTGATCGAGTTAATCCAGAGGATCGGTTTACTTTGGTCACCCTTGGGCGCCTGCTATTGCGGTGACCTAGATTTGCCATGGAGGGAGCCTCCTTGGGAGCTTTCTTGCCGGCGATCTAACCCTTGCCCGGCGCAGTTTTGCGCCAAGTCATATGACACATAATTGGTGAAGGGCATATCCCTTCGTGAATTCGAGGAGGGGCCGGCATGTGGCCTTGACCTCTCCAATTAATTTTTTGAACAACTCTCAGCAACGGATATCTCGGCTCTTGCATCGATGGAGGGACGCACCGAAATGCGATAAGTGGTGTGAATTGCAGAATCCCGTGAACCATCGAGTCTTTTGAACGCAAGTTGCGCCCAAGGCCATCAGGCCAAGGGCACGCCTGCCTGGGCATTGCGAGTCATATCTCTCCCTTAATGAGGCTGTCCATGCATACTGTTCAGCCGGTGCGGATGTGAGTTTGGCCCCTTGTTCTTTGGTGCTGGGGGTCTAAGAGCTGCAGGGGCTTTTGATGGTCCTAAATTCGGCAAGAGGTGGACGAATCATGCTACAACAAAACTGTTGGGCGAATGCTCCAGGTTGTCGTATTAGATGGGCCATCATAATCTAGAGACCCTTGTGAACCCCATTGGAGGCCCATCAACCCATGATCAGTTGATGGCCTTTTGGGTTGCGACCCCAGGTCAGGTGAGGCAACCAGCTGAGTTTAAGC',\n",
              " 'CGTAACAAGGTTTCCGTAGGTGAACCTCCGGAAGGATCATTGTTGAGATCACATAATAATTGATCGAGATAATCCAGAGGATCGGTTTACTTTGGTCACCCATGGGCGCTTGCTATTGCGGTGACCTAGAGTTGCCATGGAGAGCCTCCTTGGGAGCTTTCTTGCCGGCGATCTAACCCTTGTCCGGCGCGGTTTTGCGCCAAGTCATATGACACATAATTGGTGAAGGGCATAGCCCTTCGTGTATTCAAGGAGGGGGGGCGGCATGTGGCCTTGACACTGCACTCGCTCTCCCCCTCTCCAAAGTATTTTTCTGAACAACTCTCAGCAACGGATATCTCAGCTCTTGCATCGGATGGAGGAACGCAGCGAAATCCGATAAGTGGTGTGAATTGCAGAATCCCGTGAACCATCGAGTCTTTTGAACGCAAGTTGCGCCCGAGGCCATGAGGCCAAGGGCACGCCTGCCTGGGCATTGCGAGTCATCTCTCTCCCTCAATGAGGCTGTCCATGCATACTGTTCAGCCGGTGCGGATGTGAGTTTGGCCCCTTGTTCTTTGGTGCTGGGGGTCTAAGAGCAGCAGGGGCTTTTGATGGTCCTAAATTCGGCAAGAGGTGGACGAATCAGGCTACAACAACACTGTTGTTGTGCGAATGCTCCAGGTTGTCGTATTAGATGGGCCGGCATAATCCAGAGACCCTTGTGAACCCCATTGGAGGCCCATCAACCCATGATCAGTTGATGGCCATTCGGTTGCGACCCCAGGTCAGTGAGCAACCCGCTGAGTG',\n",
              " 'CGTAACAAGGTTTCCGTAGGTGAACCTGCGGAAGGATCATTGTTGAGGTCGCATAATAATTGATCGAGTTAATCTGGAGGATCAGTTTACTTTGGTCACCCATGGACATTTACTGTTGCAGTGACCTAGATTTACCATCGGGCCTCCTTGGGAACTTTCCTGCTGGCGATCTATACCCTTGCCCGGCGCAGTAATGCGCCAAATCAAATGACCCATAATTAATGAAGGGGGACGGCATACTGCCTTGACCAACTCCCCATTATTGAGGTAACACTCTCAACTTCGGATATCTCAGGTGTGAATTGCAGAATCCCGTTAACATCGAGTCTTTGAACGCAAGTTGGGCCCGAGGCCAACAGGCCAAGGGAACGCCTGTCTGGGCATTGCGAGTCATATCTCTCCCTTAATGAGGCTGTCCATACGTACTGTTCAGCCGGTGCGGATGTGAGTTTGGCCCCTTGTTCTTCGGTACGGGGGGTCTAAGAGCTGCATGGGCTTTTGATGGTCCTAAATACGGCAAGAGGTGGACGAACTATGCTACAACAAAACTGTTGTGCGAATGCCCCGGGTTGTTGTGTTTAATCAGAAGACCCTTTTGAACCCCATTGGAGGCCCATCGACCCATGATCAGTTGAATGGCCATTTGGTTGCGATCCCAGGTCAGGTGAGGCAACCCGCTGAGTTTAAG',\n",
              " 'CGTAACAAGGATTCCGTAGGTGAACCTGCGGAAGGATCATTGTTGAGATCGCATAATAATTGATCGAGTTAATCTGGAGGATCGGTTTACTTTGGTCACCCATGGGCATTTTCTGTTGCAGTGACCTAGAATTTCCATCGGGCCTCCCTGGGAGCTTTCCTGCTGGCGATCTATACCCTTGCCCGGCGCAGTTTTGCGCCAAGTCAAATTTTACATAAGTGGTGAAGGGGGGCGGCATTCTTCCTTGACCAGCCCCCAAGTATTTAGGTAACAACTCTCAGCAACGGATATCTCGGCTCATGCATCGATGAAGGAACGCAGCGAGATTCGATAAATGGTGTGCCTTGCAGAATCCCGTGAACCATCGAATCTTTGAACGCAAGTTGCGCGCGAGGCCATCAGCCCAAGGGGACGCCTGCCTGGACATTGCGACTCATATCTCTCCCTTAATGAGGCTGTCCAAACGTACTGGTCATCCGGTGTGGATGTGAGTTTGGCCCCTTGTTCTTCGGTACGGGGGGTCTAAGAGCTGCATGGGCTTTTGATGGTCCTAAATACGGCAAGAGGTGGACGAACTATGCTACAACAAAACTGTTGTGCGAATGCCCCGGGTTGTTGTGTTTAATCAGAAGACCCTTTTGAACCCCATTGGAGGCCCATCGACCCATGATCAGTTGAATGGCCATTTGGTTGCGATCCCAGGTCAGGTGAGGCAACCC',\n",
              " 'CGTAACAAGGTTTCCGTAGGTGAACCTGCGGAAGGATCATTGTTGAGATCGCATAATAATTGATCGAGTTAATCTGGAGGATCAGTTTACTTTGGTCACCCACGGGCATTTGCTGTTGCAGTGACCTAGAATTTGCCATCGAGCCTCCTTGGGAGCTTTCTTGCTGGCGATCTATACCCTTGCCCGGCGCAGTTTTGCGCCAAGTCATATGTCACATAATTGGTGAAGGGGGGGAGCGTACTGCCTTGACCCACTCCAAATTATTTTTTTAACAACTCTCAGCAACGGATATCTCGGCTCTTGCATCGATGTAGAACCCAGCGAAATGCGATACTGGTGTGATTTGCAGAATCCCGTGGACCATCGAGTCTTTGAACGCAAGTTGCGCCCGAGGCCATCAGGCCAAGGGCACGCCTGCCTGGGCATTGCGAGTCAAATCTCTCCCTTAATGAGGCTGTCCATACATACTGTTCAGCCGGTGCGGATGTGAGTTTGGCCCCTTGTTCTTTGGGACGGGGGGTCTAAGAGCTGCACGGGCTTTTGATGGTCCTAAATACGGCAAGAGGTGGACGAATTATGCTACAACAAAACTGTTGTGCGAATGCCCCGGGTTGTTGTGTTACATGGGCCAGCTTAATCAGAAGACCCTTTTGGACCCCATTGGAGGCCCATCAACCCATGATCAGTTGATTGGCCATTTGGTTGCGATCCCAGTCAGGTGAGGCACACCGCTGAGTTTAATA',\n",
              " 'CGTAACAAGGTTTCCGTAGGTGAACCTGCGGAAGGATCATTGTTGAGATCGCATAATAATTGATCGAGTTAATCTGGAGGATCAGTTTACTTTGGTCACCCACGGGCATTTGCTGTTGCAGTGACCTAGATTTGCCATCGGGCCTCCTTAGGAGCTTTCTTGCTGGCGATCTATACCCTTGCCCGGCGCAGTTTTGCGCCAAGTCATATGACACATAATTGGTGTTGGGGGGAGGCGTGCTGCCTTGACCCGCTCCAAATTATATTTTTAACAACTCTCAGCAACGGATATCTCGGCTCTTGCATCGATGAAGAACCAGCGAAATGCGATAAATGGTGTGAATTGCAGAATCCCGTGAACCATCGAGTCTTTGAACGCAAGTTGCGCCCGAGGCCATCAGGCCAAGGGCACGCCTGCCTGGGCATTGCGAGTCATATCTCTCCCTTAATGAGGCTGTCCATACATACTGTTCAGCCGGTGCGGATGTGAGTTTGGCCCCTTGTTCTTTGGTACGGGGGGTCTAAGAGCTGCATGGGCTTTTGATGGTCCTAAATACGGCAAGAGGTGGACGAACTATGCTACAACAAAATGTTGTGCGAATGCCCCGGGTTGTTGTGTTACATGGACCAGCATAATCAGAAGACCCTTTGGACCCCATTAGAGGCCCATCAACCCATGATCAGTTGAATGGCCATTTGTTGCGATCCCAGTCAGGTGAGCAACCCGCTGAGATAAGC',\n",
              " 'CGTAACAAGGTTTCCGTAGGTGAACCTGCGGAAGGATCATTGTTGAGATCACATAATAATTGATCGAGTTAATCTGGAGGATCAGTTTACTTTGGTCACCCATGGGCATTTGCTGTTGCAGTGACCGAGATTTGCCATCGAGCCTCCTTGGGAGCTTTCTTGCTGGCGATCTGAACCCTAGTCCGGCGCAGTTTTGCGCCAAGTCATATGGCACATAATTGGTGAAGGGGGCGGCATGCTGCCTCGACCCTCCCCAAATTATTTTTTAACAACTCTCAGCAACGGATATCTCGGCTCTTGCATCGATGAAGAACGCAGCGAAATGCGATAAATGGTGTGAATTGCAGAATCCCGTGAACCATCGAGTCTTTGAACGCAAGTTGCGCCCGAGGCCATCAGGCCAAGGGCACGCCTGCCTGGGCATTGCGAGTCATATCTCTCCCTTAATGAGGCTGTCCAAACATACTGTTCAGCCGGTGCGGATGTGAGTTTGGCCCCTTGTTCTTTGGTACGGGGGGTCTAAACGCTGCATGGGCTTTTGATGGTCCTAAATACGGCAAGAGGTGGACGACTGTTCTGCAACAAGTGTTGTGCGAATGCCCCGCGTTGTCGTATTAGATGGGCCAGCATAATTTGAAGACCCTTTTGAACCCCATTGGAGGCCCGTCAACCCATGATCAGTTGACGGCCATTTGGTTGCGACCCCAGTCAGGTGAGCAACCAGCTGA',\n",
              " 'CGTAACAAGGTTTCCGTAGGTGAACCTGCGGAAGGATCATTGTTGAGATCACATAATAATTGATCGAGTTAATCTGGAGGATCAGTTTACTTTGGTCACCCGAGGGCATTTGCTATTGCAGTGACCGAGATTTGCCATCGAGCCTCCTTGGGAGCTTTCTTGCTGGCGATCTAAACCCGAGCCCGGCGCAGTTTTGCGCCAAGTCATATGACACATAATTGGTGAAGGGGGCGGCATGCTGCCTTGACCCTCCCCAGATTATTTTTTAACAACTCTCAGCAACGGATATCTCGGCTCTTGCATCGATGAAGAACGCAGCGAAATGCGATAAATGGTGTGAATTGCAGAATCCCGTGAACCATCGAGTCTTTGAACGCAAGTTGCGCCCGAGGCCATCAGGCCAAGGGCACGCCTGCCTGGGCATTGCGAGTCATATCTCTCCCTTAATGAGGCTGTCCATACATACTGTTCAGCCGGTGGGGATGTGGGTTTGGCCCCTTGTTCATTGGTACGGGGGGTCTAAGAGCTGCATGGGATTTTGATGGTCCTAAATACGGCAAGAGGTGGACGAACTATGCTACAACAAAACTGTTGTGCGAATGCCCCGAGTTGTCGTATTAGATGGGCCCAGCATATCTGAAGACCCTTTTGAACCCCATGGAGGCCCATCAACCCATGATCAGTTGATGGCCATTTGGTTGCGACCCCAGGTCAGGTGAGGCAACCCGCTGAGTTTAGGC',\n",
              " 'CTGTAGGTGAACCTGCGGAAGGATCATTGTTGAGATCACGCAATAATTGATCGAGTTAATCTGGAGGATCAGTTTACTTTGGTCACCCATGGGCATTTGTTATTGCAGTGACCGAGATTTGCCATCGAGCCTCCTTGGGAGCTTTCTTGCTGGCGATCTTAACCCTAGCCCGGCGCAGTTTTGCGCCAAGTCATACGACACATAATTGGTGAAGGGGGCGGCATGGTGCCTTGACCCTCCCCTAATTATTTTCTAACAACTCTCATCAACGGGATGGAGAACGCAGCGAAATGCGATAAATGGTGTGAATTGCAGAATCCCGTGAACCATCGAGTCTTTGAACCCAAGTTGCGCCCGAGGCCATCAGGCCAAGGGCACGCCTGCCTGGGCATTGCGAGTCAAATCTCTCCCTTAATGAGGCTGTCCATACATACTGTTCAACCGGTGCGGATGTGAGTTTGCCCCCTTGTTCATTGGTACGGGGGGTCTAAGAGCTGCATGGGCTTTTGATGGTCCTAAAAACGGCAAGAGGTGGACGAACAACGCCACAACCAAACTGTTGTGCGGATCCCCCGGGTTGTCGTATTAGATGGGCCATCATAATCTGAAGACCCTTTTGAACCCCATCGGAGGCCCATCAACCCATGATCAGTTGATGGACATTTGTTGCGACCCCAGTCAGGTGAGCAACCGGCT',\n",
              " 'CGTAACAAGGTTTCCGTAGGTGAACCTGCGGAAGGATCATTGTTGAGATCACATAATAATTGATCGAGTTACTCTGGAGGATCAGTTTACTTTGGTCACCCATGGGCATTTGCTATTGCAGTGACCGGGATTTGCCATCGAGCCTCCTTGGGAGCTTTCTTGCTGGCGATCTAAACCCTAGCCCGGCGCAGTTTTGCGCCAAGTCATATGACACATAATTGGTGAAGGGGGCGGCATGCTGCCTTTACCCTCCCCAAATTATTTTTTAACAACTCTCAGCAACGGATATCTCGGCTCTTGCATCGATGAAGAACGCAGCGAAATGCGATAAATGGTGTGAATTGCAGAATCCCGTGAACCATCGAGTCTTTGAACGCAAGTTGCGCCCGAGGCCATCAGGCCAAGGGCACGCCTGCCTGGGCATTGCGAGTCATATCTCTCCCTTAATGAGGCTGTCCATACATATTGTTCAGCCGGTGCGGATGTGAGTTCGGCCCCTTGTTCTTCGGTACGGGGGGTCTAAGAGCAGCATGGGCTATCGATGGTCCTAAATGCGGCAAGAGGTGGACGAACTATGCTACAACAAAACTGTTGTGCGAATGCCCCGGGTTGTCGTATTAGATGGGCCAGCGTAATCTAAAGACCCTTTTGAACCCCATTAGAGGCCCATCAACCCATGATCAGTTGGGGCCACTTGTTGCGACCCCAGTCAGGTGAGCAACCGCTGAGTAA',\n",
              " 'CGTCACGAGGTTTCCGTAGGTGAATCTGCGGGAGGATCATTGTTGAGATCACATAATAATTGATCGAGATTATCTGGAGGATCAGTTTACTTTGGTCACCCATGGACATTTGCTATTGCAGTGCCCGAGATTTGCCATCGAGCCTCCTTGGGAGCTTTCTTGCTGGCGATCTAAACCCTAGCCCGGCGCAGTTTTGCGCCAAGTCATATGACACATAATTGGTGAAGGGTGCGGCATGGTGCCTGACCCTCCCCAAATTATTTCTTAACAACTCTCAGCAACGGATATCTCGCTCTTGCATCGATGAAGAACGCAGCGAAATGCGATAAATGGTGTGAATTGCAGAATCCCGTGAACCATCGAGTCTTTGAACGCAAGTTGCGCCCGAGGCCATCAGGCCAAGGGCACGCCTGCCTGGGCATTGCGAGTCATATCTCTCCCTTAATGAGGCTGTCCATACATACTGTTCAGCCGGTGCGGATGTGAGTTTGGCCCCTTGTTCATTGGTACGGGGGGTCTAAGAGCTGCGTGGGCTTTTGATGGTCCTAAATACGGCAAGAGGTGGACGAACTATGCTACAACAAAACTGTTGTGCGAATGCCCCGGGTTGTCGTATTAGATGGGCCAGCATAATCTAAAGACCCTTTTGAACCCCATTGGAGGCCCATCAACCCATGATCAGTTGATGGCCATTTGGTAGCGACCCCAGGTCAGGTGAGGCAACCCGCTGA',\n",
              " 'CTGAACCTGGTGTCCGAAGGTGAATCTGCGGATGGATCATTGTTGAGATATCATAATAATTGATCGAGTTAATCTGGAGGATCAGTTTACTTTGGTCACCATGGGCATTTGCTATTGCAGTGACCGAGATTTGCCATCGAGCCTCCTTGGGAGCTTTCTTGCTGGCGATCTAAACCCTAGCCCGGGGCAGTTTTGCGCCAAGTCATATGACACATAATTGGTGAAGGGTGCGGCATGGTGCCTTGACCCTCCCCAAATTATTTCTTAACAACTCTCAGCAACGGATATCTCGGCTCTTGCATCGATGAAGAACGCAGCGAAATGCGATAAATGGTGTGAATTGCAGAATCCCCGTGAACATCGAGTCTTTGAACGCAAGTTGCGCCCGAGGCCATCAGGCCAAGGGCACGCCTGCCTGGGCATTGCGAGTCATATCTCTCCCTTAATGAGGCTGTCCATACATACTGTGCAGCCGGTGCGGATGTGAGTTTGGGCCCTTGTTCATTGGTACGGGGGGTCTAAGAGCTGCGTGGGCTTTTGATGGTCCTAAATACGCCAAGAGGTGGACGAACTATGCTACAACAAAACTGTTGTGCGAATGCCCCGGGTTGTCGTATTAGACGGGCCAGCACAATCTAAAGACCCCTTTGAACCCCATTGGAGGCCCATCAACCCATGATCAGTTGATGGCCATGTGTTGCGACCCCAGTCAGCTGAGCAACCCCTGATTTAGTA',\n",
              " 'CGTAACAAGGTTTCCGTAGGTGAACCTGGGGAAGGATCATTGTTGAGATCACATAATAATTGATCGAGTTAATCTGGAGGATCAGTTTACTTTGGTCACCCATGGGCATTTGGCTATTGCAGTGACCGAGAGTTTACCATCGAGCCTCCATGGGAGCTTTCTTGCTGGCGATCTAAACCCTAGCCCGGCGCAGTTTTGGCCCAAGTCATATGACACATAATTGTGAAGGGGCGGCATGTTTCCTACCCTCCCAACTCTCAGCAACGGATATCTCGCTCTTGCATCGATGAAGAACGCAGCGAAATGCGATAAATGGTGTGAATTGCAGAATCCCGTGAACCATCGAGTCTTGGAACGCAAGTTGCGCCCGAGGCCATCAGGCCAAGGGCACGCCTGCCTGGGCATTGCGAGTCATATCTCTCCCTTAATGAGGCTGTCCATACATACTGTTCAGCCGGTGCGGATGTGAGTTTGGCCCCTTGTTCATTGGTACGGGGGGTCTAAGAGCTGCGTGGGCTTTTGATGGTCCTAAATACGGCAAGAGGTGGACGAACTATGCTACAACAAAACTGTTGTGCGAATGCCCCGGGTTGTCGTATTAGATGGGCCAGCATAATCTAAAGACCCTTTGACACCCCATTGGAGGCCCATCAACCCATGATCAGTTGATGGTCCATTGGGTTGCGACCCCAAGTCAGGTGAAGCAACTCCCTGAGTTTT',\n",
              " 'CGTAACAAGGTTTCCGTAGGTGAACCTGCGGAAGGATCATTGTTGAGATCACATAATAATTGATCGAGTTAATCTGGAGGATCAGTTTACTTTGGTCACCCATGGGCATTTGCTATTGCAGTGACCGAGATTTGCCATCGAGCCTCCTTGGGAGCTTTCTTGCTGGCGATCTAAACCCTAGCCCGGCGCAGTTTTGCGCCAAGTCATATGACACATAATTGGTGAAGGGGGCGGCATGCTGCCTTGACCCTCCCCCAAATTATTTTTTAACAACTCTCAGCAACGGAAATCTGGCCTCTTGCATGGATGAAGACCAAACCGAAATCATAAATGGTGTGAATTGCAGAATCCCGTGAACAATCGAGTCTTTGAACGCAAGTTGCGCCCGAGGCCATCAGGCCAAGGGCACGCCTGCCTGGGCATTGCGAGTCATATCTCTCCCTTAATGAGGCTGTCCACACATATCTGTTCAGCCGGTGCGGATGTGAGTTTGGCCCCTTGTTCATTGGTACGGGGGGTCTAAGAGCTGCATGGGCTTTTGTTGGTCCTAAATACGGCAAGAGGTGGACGAACTATGCTACAACAAAACTGTTGTGCGAATGCCCCGGGTTGTCGTATTAGATGGGCCAGCATAATCTAAAGACCCTTTTGAACCCCATTGGAGGCCCATCAACCCATGATCAGTTGATGGCCATTTGGTTGCGACCCCAGGTCAAGTGAAGCAACCCCTGAGTTTAGCA',\n",
              " 'TCTACTGCAGTGACCGAGATTTGCCATCGAGCCTCCTGGGAGCTTTCTTGCTGGCGATCTAAACCGTAGCCCGGCGCAGTTTTGCGCCAAGTCATATGACACATAATTGGTGAAGGGGGCGGCATGCTGCCTTGACCCTCCCCAAATTATTTTTTAACAACTCTCNGCAACGGATATCTCGCCTCTTCATCGATGAAGAACGCAGCGAAATGCGATAAATGGTGTGAATTGCAGAATCCCGTGAANCCATCGAGTCTTTGAACGCAAGTTGCGCCCGAGGCCATCAGGCCAAGGGCACGCCTGCCTGGGCATTGCGAGTCATATCTCTCCCTTAATGAGGCTGTCCATACATACTGTTCAGCCGGTGCGGATGTGCGTTTGGCCCCTTGTTCATTGGTACGGGGGGTCTAAGAGCTGCGTGGGCTTTTGATGGTCCTAAATACGGCAAGAGGTGGACGAACTATGCTACAACAAAACTGTTGTGCGAATGCCCCGGGTTGTCGTATTAGATGGGCCAGCATAATCTAAAGACCCTTTTGAACCCCATTGGAGGCCCATCAACCCATGATCAGTTGATGGCCATTTGGTTGCGACCCCAGGTCAGGTGAGGCAACCCGCTGAGTTTAGCA',\n",
              " 'CGTAACAAGGTTTCCGTAGGTGAACCTGCGGAAGGATCATTGTTGAGATCACATAATAATTGATCGAGTTAATCTGGAGGATCAGTTTACTTTGGTCACCCATGGGCATTTGCTATTGCAGTGACCGAGATTTGCCATCGAGCCTCCTTGGGAGCTTTCTTGCTGGCGATCTAAACCCTAGCCCGGCGCAGTTTTGCGCCAAGTCATATGACACATAATTGGCGAAGGGGGCGGCATGGTGCCTTGACCCTCCCCAAATCATTTTTTTAACAACTCTCAGCAACGGAAGGGCACGCCTGCCTGGGCATTGCGAGTCATATCTCTCCCTTAATGAGGCTGTCCACACATACTGTTCAGCCGGTGCGGATGTGAGTTTGGCCCCTTGTTCATTGGTACGGGGGGTCTAAGAGCTGCGTGGGCTTTTGTTGGTCCTAAATACGGCAAGAGGTGGACGAACTATGCTACAACAAAACTGTTGTGCGAATGCCCCGGGTTGTCGTATTAGATGGGCCAGCATAATCTAAAGACCCTTTTGAACCCCATTGGAGGCCCATCAACCCATGATCAGTTGA',\n",
              " 'CGTAACAAGGTTTCCGTAGGTGAACCTGCGGAAGGATCATTGTTGAGATCACATAATAATTGATCGAGTTAATCTGGAGGATCAGTTTACTTTGGTCACCCATGGGCATTTGCTATTGCAGTGACCGAGATTTGCCATCGAGCCTCCTTGGGAGCTTTCTTGCTGGCGATCTAAACCCTAGCCCGGCGCAGTTTTGCGCCAAGTCATATGACACATAATTGGCGAAGGGGGCGGCATGCTGCCTTGACCCTCCCCAAATTATTTTTTAACAACTCTCAGCAACGGATAGGCCATCAGGCTAAGGGCACGCCTGCCTGGGCATTGCGAGTCATATCTCTCCCTTCAATGAGGCTGTCCACACATACTGTTCAGCCGGTGCGGATGTGAGTTTGGCCCCTTGTTCATTGGTACGGGGGGTCTAAGAGCTGCGTGGGCTTTTGTTGGTACCTAAATACGGCAAGAGGTGGACGAACTATGCTACAACAAAAATGTTGTGCGAATGCCCCGGGTTGTCGTATAGATGGGCCAGCATAATCTAAAGACCCTTTTGAACCCCATTGGAGGCCCATCAACCCATGATCAGTTGA',\n",
              " 'CGTAACAAGGTTTCCGTAGGTGAACCTGCGGAAGGATCATTGTTGAGATCACATAATAATTGATCGAGTTAATCAGGAGGATCAGGTTACTTTGGTCACCCATGGGCATTTGCTGTTTCAGTGACCTAGATTTGCCATCGAGCCGAACTAAACCCTTGCCCGGCGCAGATTTGCGCCAATTTATATGAGACATTACTGGAAGGGGAGGGATGCTGCCTTGCCTTGCCCCCCAAATTATTTTTTAACAACTCTCAGCAACGGATATCTCGCCTCTTGCATCGATGAAGAACGCAGCGAAATGCGATAAATGGTGTGAATACAGAGATCCCGTGAACCATCGAGTCTTGAACGCAAGTTGCGCCCGAGGCCATCAGGCCAAGGGCACGCCTGCCTGGGCATTGCGAGACATATCTCTCCCTTAATGAGGCTGTCGTTCAGCCGGTGCGGATGTGAGTTTGGCCCCTTGTTCTTTGGTACGGGGGGTCTAAGAGCTGCATGGGCTTTTGATGGTCCTAAATACGGCAAGAGGTGGACGAACTATGCGACAACAGAACTGTTGTGCGAATGCCCCGGGTTGTCGTATTAGATGGGCCAGCATAATCTAAAGACCCTTTTGAACCCCATTGGAGGCCCATCAACCCAAGATCAGTTGACGGCCATTTGGATGCGACCCCAGGTCAGGTGAGGCAACCCTCTGAGT',\n",
              " 'CGTAACAAGGTTTCCGTAGGTGAACCTCCGGAAGGATCAGTGTTGAGATCACATAATAATTGATCGAGTTAATCTGGGGGATCAGTTTACTTTGGTCACCCATGGGCATTTGCTGTTGCAGTGGCCTAGAGTTTGCCATCGAGCCGATCTAAACCCTTGCCCGGCGCAGTTTTGCGCCAAGTCATATGACACATAACTGGAAGGGGCGGCATGCTGCCATGGCTCCCCCAAATATTGATAATGGCGTGATAGCAGATCCCTGAACATCGAGTTTTGAACGCATGTTGCGTCCGAGGCCATCAGGTCAAGGGGACGCCTGCCTGGAAATTGTGAGACATATCTCTCCCTTAATGAGGCTGCCATACATACTGTTCAGCCGGTGCGGATGTGAGTTTGGCCCCTTGTCCTTTGGTACGGGGGTCTAAGAGCTGTATGGGTTGGATGGTCCTAAATACGGCAAGAGGTGGACGAGCTATGTGACAACAGAACTGTTGTGCGAATGCCCCGGTTGTCGTTTAGATGGGTCAGCATAATCTAAAGACCCTTTTGACCCCCATTGGAGGCCCATCAACCCATTATCAGTTGAGGACATTTGGTTGCGACCCAGGTCAGATGAGGCACCCGCTGAGTTTAGGC',\n",
              " 'CGTAACAAGGTTTCCGTAGGTGAACCTGCGGAAGGATCATTGTTGAGATCACATGATAATTGATCGAGTTAATCTGGAGGATCAGTTTGCTTTGGTCACCCATGGGCATTTGCTGTTGCAGTGACCTAGATTTGCCATCGAGCCGATCTAAACCCTTGCCCGGCGCAGTTTTGCGCCAAGTCATATGACACATAATTGGAAGGGGCGGCATGCTGCCTTGCCCTCCCCAAATATTTGTTAACCAACTCTCAGCAACGAGTATCTCGGCTCTTGCATCGGATGGAAGGACGCAGCGAAATGCGATAAATGGTGTGAATTGCAAGAATCCCTGAACCATCGAGTCTTTGGAACGCAAGTTGCGGCCGAGGCCATCAGGCCAAGGGCACGCCTGCCTGGGCATTGCGAGACATATCTCTCCCTTAATGAGGCTGTCCACACATACTGTTCAGCCGGTGCGGATGTGAGTTTGGCCCCTTGTTCTTTGGTACGGGGGGTCTAAGAGCTGCATGGGCTTTTGATGGTCCTAAATACGGCAAGAGGTGGACGAACTATGCGACAACAGAACTGTTGTGCGAATGCCCCGGGTTGTCGTATTAGATGGGCCAGCATAATCTAAAGACCCTTTTGAACCCCATTGGAGGCCCATCAACCCATGATCAGTTGACGGCCATTTGGTTGCGACCCCAGGTCAGGTGAGGCAACCGCTGAGTTTATGC',\n",
              " 'CGTAACAAGGTTTCCGTAGGTGAACCTGCGGAAGGATCATTGTTGAGATCACATGATAATTGATCGAGTTAATCTGGAGGATCAGTTTACTTTGGTCACCCATGGGCATTTGCTGTTGTAGTGACCTAGATTTGCCATCGAGCCGATCTAAACCCTTGCCCGGCGCAGTTTTGCGCCAAGTCATATGACACATAATTGGAAGGGCGGCATGCTGCCTTGGCCCTCCCCAAATTATTTTTTTAACAACTCTCAGCAACGGATATCTCGGCTCTTAGGCCATCCGGCCAAGGGCACGCCTGCCTGGGCATTGCGAGACATATCTCTCCCTTAATGAGGCTGTCCATACATACAGTTCAGCCGGTGCGGATGTGAGTTTGGCCCCTTGTTCTTTGGTACGGGGGGTCTAAGAGCTGCATGGGCTTTTGATCCACCTAAATACGGCAAGAGGTGGACGAACTATGCGACAACAGAACTGTTGCGCGAATGCCCCGGGTTGTCGTATTAGATGGGCCAGCATAATCTAAAGACCCTTTTGAATCCCATTGGAGGCCCATCAACCCATGATCAGTTGACGGCCATTTGGTTGCGACCC',\n",
              " 'CGTAACAAGGTTTCCGTAGGTGAACCTGCGGAAGGATCATTGTTGAGATCACATAATAATTGATCGAGTTAATCTGGAGGATCAGTTTACTTTGGTCACCCATGGGCATCTGCTCTTGCAGTGACCTGGATTTGCCATCGAGCCTCCTTGGGAGCTTTCTTGCTGGCGATCTAAACCCGTCCCGGCGCAGTTTTGCGCCAAGTCATATGACACATAATTGGAAGGGGGTGGCATGCTGCCTTGACCCTCCCCAAATTATTTTTTTGACAACTCTCAGCAACGGATATCTCGGCTCTTNNNNNNNNNNNNNNNNNNNNNNNNNNNNNNNNNNNNNNNNNNNNNNNNNNNNNNNNNNNNNNNNNNNNNNNNNNNNNNNNNNNNNNNNNNNNNNNNATCAGGCCAAGGGCACGCCTGCCTGGGCATTGCGAGTCATATCTCTCCCTTAATGAGGCTGTCCATACATACTGTTCAGCCAATGCGGATGTGAGTTTGGCCCCTTGTTCTTTGGTACGGGGGGTCTAAGAGCTGCATGGGCTTTTGATGGTCCAAAATACGGCAAGAGGTGGACGAACTATGCTACAACAAAATTGTTGTGCGAATGCCCCGGGTTGTCGTATTAGATGGGCCAGCATAATCTAAAGACCCTTTTGAACCCCATTGGAGGCCCATCAACCCATGATCAGTTGACGGCCATTTGGTTGCGACCCAGGTCAGGT',\n",
              " 'CGTAACAAGGTTTCCGTAGGTGAACCTGCGGAAGGATCATTGTTGAGATCACGTAATAATTGATCGAGTTAATCTGGAGGATCAGTTTACTTTGGTCACCCATGGGCATCTGCTCTTTCAGTGACCTGGATTTGCCATCGAGCCTCCTTGGGAGCTTTCTTGCTGGCGATCTAAACCCTTGCCCGGCGCAGTTTTGCGCCCAATCATATGACACATAATTGGAAGGGCGGCATCCTGCCTTGACCCTCCCCAAATTATATTTTTGACAACTCTCAGCAACGGATATCTCGCCTCTTGCATCGATGAAGACACAGCGAAATGCGATAAATGGTGTGAATTGCAGAATCCCGTGAACCATCGAGTCTTTGAACGCAAGTTGCGCCCGAGGCCATCAGGCCAAGGGCACGCCTGCCTGGGCATTGCGAGTCATATCTCTCCCTTAATGAGGCTGTCCATACATACTGTTCAGCCGGTGCGGATGTGAGTTTGGCCCCTTGTTCTTTGGTACGGGGGGTCTAAGAGCTGCATGGGCTTTTGATGGTCCAAAATACGGCAAGAGGTGGACGAACTATGCTACAACAAAATTGTTGTGCGAATGCCCCGGGTTGTCGTATTAGATGGGCCAGCATAATCTACAGACCCTTCTGAACCCCATTGGAGGCCCATCAACCCATGATCAGTTGACGGCCATTTGGTTGCGACCCCAGGTCAGGTGAAGCAACCCGTTGAGCTT',\n",
              " 'CGTAACAAGGTTTCCGTAGGTGAACCTGCGGAAGGATCATTGTTGAGATCACATAATAATTGATCGGGTTAATCTGGAGGATCAGTTTACTTTGGTCACCCATGGGCATCTGCTCTTGTAGTGACCTGGATTTGCCATCGAGCCTCCATGGGAGCTTTCTTGGTGGCGATCTAAACCCTTGCCCGGCGCAGTTTTGCGCCAAGTCATATGACACATAATTGGAAGGGGGCGGCATGCTGCCTTGACCCTCCCCAAATTATTTTGTTAACAACTCTCAGCAACGGATATCTCGGCTCTTCCCGAGGCCATCAGGCCAAGGGCACGCCTGCCTGGGCATTGCGAGTCATATCTCTCCCTTCAATGAGGCTGTCCATACATACTGTTCAGTCGGTGCGGATGTGAGTTTGGCCCCTTGTTCTTGCCTACGGGGGGTCTAAGAGCTGCATGGGCTTTTGATGGTACCTAAATACGGCAAGAGGTGGACGAACTATGCTACAACAAAATTGTTGTGCGAATGCCCCGGGTTGTCGTATTAGATGGGCCAGCATAATCTAAAGACCCTTTTGAACCCCATTGGAGGCCCATCAACCCATGATCAGTTGACGGCCATTTGGTTGCGACCCAGG',\n",
              " 'CGTAACAAGGTTTCCGTAGGTGAACCTGCGGAAGGATCATTGTTGAGATCACATAATAATTGATCGAGTTAATCTGGAGGATCAGTTTACTTTAGTCACCCATGGGCATCTGCTCTTGCAGTGACCTGGATTTGCCATCGAGCCTCCTTGGGAGCTTTCTTGCTGGCGATCTAAATCGTTGCCCGGCGCAGTCTTGCGCCAAGTCATTTCACACATAATTGGAAGGGGGCGGCATGCAGTCTAAGACCCTCCCCAAATTATTTTTTGATAACTCTCAGCAACGGAATCTCGGCTCTTGCATCGATGGAGGACGCAGCGAAATGCGATAAATGGTGTGAATTGCAGAATCCCGTGAACCATCGAGTCTTTGAACGCAAGTTGCGCCCGAGGCCATCAGGCCAAGGGCACGCCTGCCTGGGCATTGCGAGTCATATCTCTCCTTTAATGAGGCTGTCTATACATACTGTTCAGCCACAGCGGATGTGAGTTTGGCCCCTTGTTCTTTGGTACGGGGGGTCTAAGAGCTGCATGGGCTTTTGATGGTCTTAAATACGGCAAGAGGTGGACGAAGTATGCTACAACAAAATTGTAGTTCGAATGCCCAGGGTTGTCGTATTAGATGGGCCAGCATAATCTAAAGACCCTTTGAACCCCTTTAGAGGCCAATCAACCCATGATCAGTTGATGGCCATTTGGTTGCGACCCCAAGTCAGGTGAGGCAACCGCTGAGTTTAAGC',\n",
              " 'CGTAACAAGGTTTCCGTAGGTGAACCTGCGGAAGGATCATTGTTGAGATCACATAATAATTGATCGAGTTAATCTAGAGGATCGGTTTACTTTGGTCACCCATGGGCATCTGCTCTTACAGTGACCTGGATTTGCCATCGAGCCTCCTTGGGAGCTGTCTTGCTGGCGATCTAAATCGTTGCCCGACGCAGCCTTGCGTCAAGTCACCCCGACACATAATGGAAGGGGGCGGCATGCTGCCTTGACCCTTCCCCAAATTAATTTTTTGACAACTCTCAACATCGGATATCTCGGCTCTTGCATCGATGAAGAACGCAGCGAAATGCGATAAATGGTGTGAATTGCAGAATCCCGTGAACCATCGAGTCTTTGAACGCAAGTTGCGCCCGAGGCCATCAGGCCAAGGGCACGCCTGCTTGGGCATTGCGAGTCATATCTCTCCCTTAATGAGGCTGTCCATACATACTGTTCAGCCAGTGCGGATGTGAGTTTGGCCCCTTGTTCTTTAGTACGGGGGGTCTAAAAGCTGCATGGGCTTTTGCTGGTCCTAAATACGGCAAGAGGTGGACAAAGTATGCTACAACAAAATTGTAGTGCGAATGCCCCGGGTTGTCGTATTAGATGGGCCAGCATAATTTAAAGACCCTTTTGAACCCCATTAGAGGCCCATCAACCCTGATCAGTTGATGGCCATTTGGTTGCGACCCCAAGTCAGGTGAGGCAACCCGCTGAGTTTAAGC',\n",
              " 'CGTAACAAGGTTTCCGTAGGTGAACCTGCGGAAGGATCATTGTTGAGATCACATAATAATTGATCGAGTTAATCTAGAGGATCAGTTTACTTTGGTCACCCATGGGCATCTGCTCTTACAGTGACCTGGATTTGCCATCGAGCCTCCTTGGGAGCTTTCTTGCTGGCGATCTAAATCGTTGCCCGACGCAGCCTTGCGTCAAGTCATATGACACATAATTGGAAGGGGGCGGCATGCTGCCTTGACCCTTCCCAAATTATTTTTTTAAGTTGCGCCCGAGGCCATCAGGCCAAGGGCACGCCTGCTTGGGCATTGCGAGTCATATCTCTCCCTTAATGAGGCTGTCCATACATACTGTTCAGCCAGTGCGGATGTGAGTTTGGCCCCTTGTTCTTTACTACGGGGGGTCTAAAAGCTGCATGGGCTTTTGCTGGTCCTAAATACGGCAAGAGGTGGACAAAGTATGCTACAACAAAATTGTAGTGCGAATGCCCCGGGTTGTCGTATTAGATGGGCCAGCATAATTTAAAGACCCTTTTGAACCCCATTAGAGGCCCATCAACCCTGATCAGTT',\n",
              " 'CGTAACAAGGTTTCCGTAGGTGAACCTGCGGAAGGATCATTGTTGAGATCACATAATAATTGATCGAGTTAATCTGGAGGATCAGTTTACTTTAGTCACCCATGGGCATCTGCTCTTGCAGTGACCTGGATTTGCCATCGAGCCTCCTTGGGAGCTTTCTTGCTGGCGATCTAAATTCGTTGCCCGGCGCAGTCTTGCGCCAAGTCATATCACACATAATTGGAAGGGGGCGGCATGCGGTCTAGACCCTCCCCAAATTATTTTTTTGACAACTCTCAGCAACGGATATCTCGGCTCTTCCATCAGGCCAAGGGCACGCCTGCCTGGGCATTGCGAGTCATATCTCTCCCTTAATGAGGCTGTCCATACATACTGTTCAGCCACAGCGGATGTGAGTTTGGCCCCTTGTTCTTTGGTACGGGGGGTCTAAGAGCTGCATGGGCTTTTGATGGTACCTAAATACGGCAAGAGGTGGACGAAGTATGCTACAACAAAATGATAGTGCGAATGCCCAGGGTTGTCGTATTAGATGGGCCAGCATAATCTAAAGACCCTTTTGAACCCCATTAGAGGCCCATCAACCCATGATCAGTT',\n",
              " 'CGTAACAAGGTTTCCGTAGGTGAACCTGCGGAAGGATCATTGTTGAGATCGCATAATAATTGATTGAGTTAATCTGGAGGATCAGTTTACTTTGGTCACTCATGGGAATCTGCTCTTGTAGTGACCTGGATTTGCCATCGAGCCTCCTTGGGAGCTTTCTTGATGGCGATCTGAACCCTTGCCCGGCGCAGTTTTGCGCCAAGTCATATGACACATAATTGGGAGGGGCAGCATGCTGCCTTGACCCTCCCCATATCATTTTTTTAACGACTCTCAGCTCCGGAACTCAAGTTGCGCCCGAGGCCATCAGGCTAAGGGCACGCCTGCCTGGGCATTGCGAGTCATATCTCTCCCTTAATGAGGCTGTCCATACATACTGTTCAGCCAGTGCGGATGTGAGTTTGGCCCCTTGTTCTTCGGTACGGGGGGTCTAAGAGCAGCTGGGCTTTTGATGGACCTAAATACGGCAAGAGGTGGACGAAGTATGCTACAACAAAATTATTGTGTGAATGCCCCGGGTTGTCGTATAGATGGGCCAGCATAATCTAAAGACCCTTTTGAACCCCATTGGAGGCCCATCAACCCATGATCAGTTGACGGCCATTTGGTT',\n",
              " 'CGTAACAAGGTTTCCGTAGGTGAACCTGCGGAAGGATCATTGTTGAGATCACATAATAATTGATCGAGTTAATCTGGAGGATCAGTTTACTTTGGTCACCCATGGGCATCTGCTCTTGCAGTGACCTGGATTTGCCATCGAGCCTCCTTGGGAGCTTTCTTGCTGGCGATCTAAACCCTTGCCCGGCGCAGTTTTGCGCCAAGTCATATGACACATAATTGGAAGGGGGTGGCATGCTGCCTTGACCCTCCCCAAATTATTTTTTGACAACTCTCAGCAACGGATATCTCGGCTCTTGCATCGATGAAGAACGCAGCGAAATGCGATAAATGGTGTGAATTGCAGAATCCCGTGAACCATCGAGTCTTTGAACGCAAGTTGCGCCCGAGGCCATCAGGCCAAGGGTACGCCTGCCTGGGCATTGCGAGTCATATCTCTCCCTTAATGAGGCTGTCCATACATACTGTTCAGCCGGTGCGGATGTGAGTTTGGCCCCTTGTTCTTTGGTACGGGGGGTCTAAGAGCTGCATGTGCCTTTGGTGGTCCAAAATACGGCAAGAGGTGGACGAACTATGCTACAACAAAATTGTTGTGCGAATGACCCGGGTTGTCGTATTAGCTGGGCCAGCATAATCTAAAGACCCTCTTGAACCCCATTGGAGGCCCATCAACCCATGATCAGTTGACGGCCATATGTTTGCGACCCAGGTCAGGTGAGGCAACCCGCTGA',\n",
              " 'CGTAACAAGGTTTCCGTAGGTGAACCTGCGGAAGGATCATTGTTGAGATCACATAATAATTGATCGAGTTAATCTGGAGGATCAGTTTACTTTGGTCACCCATGGGCATCTGCTCTTGTAGTGACCTGGATTTGCCATCGAGCCTTCATGGGAGCTTTCTTGCTGGCGATCTAAACCCTTGCCCGGCGCAGTTTTGCGCCAAGTCATATGACACATAATTGGAAGGGGGCGGCATGCTGCCTTGACCCTCCCCAAATTATTTTTGTAACAACTCTCAGCAACGGATATCTCGGCTCTTTGCCGAGGCCATCAGGCCAAGGGCACGCCTGCCTGGGCATTGCGAGTCATATCTCTCCCTTAATGAGGCTGTCCATACATACAGTTCAGCCTGTGCGGATGTGAGTTTGGCCCCTTGTTCTTGCGTACGGGGGGTCTAAGAGCTGCATGGGCTTTTGATGGTCCTAAATACGGCAAGAGGTGGACGAACTATGCTACAACAAAATTGTTGTGCGAATGCCCCGGGTTGTCGTATTAGATGGGCCAGCATAATCTAAAGACCCTTTTGAACCCCATTGGAGGCCCATCAACCCATGATCAGTTGACGGCCATTTGGTTGCGACCCAGGTCAGGTGAGGCAACCC',\n",
              " 'CGTAACAAGGTTTCCGTAGGTGAACCTGCGGAAGGATCATTGTTGAGATCACATAATAATTGATCGAGTTAATCTGGAGGATCAGTTTACTTTGGTCACCCATGGGCATCTGCTCTTGCAGTGACCTGGATTTGCCATCGAGCCTCCTTGGGAGCTTTCTTGCTGGCGATCTAAACCCTTGCCCGGCGCAGTTTTGCGCCAAGTCATATGACACATAATTGGAAGGGGGCGGCATGCTGCCTTGACCCTCCCCAAATTATTTTTTTGACAACTCTCAGCAACGGATTTCTCGGTTCTTGAATCGATGAGGAACGCAGCGAAATGCGATAATTGGTGTGAATTGAAGAATCCCGTAAACCATCGAGTCTTTGAACGAAAGTTGCGCCCGAGGCCATCAGGCCAAGGGAACGCCTGCCTGGGCATTGCGAGTCATATCTCTCCCTTAATGAGGCTGTCCATACATACTGTTCAGCGAGTGCGGATGTGAGTTTGGCCCCTTGTTCTTTGGTACGGGGGGTCTAAGAGCTGCATGGGCTTTTGATGGTCCTAAATACGGCAAGAGGTGGACGAACTATGCTACAACAAAATTGTTGTGCGAATGCCCCGGGTTGTCGTATTAGATGGGCCAGCATAATCTAAAGACCCTTTTGAACCCCATTGGAGGCCCATCAACCCATGATCAGTTGACGGCCATTTGGTTGC',\n",
              " 'CGTAACAAGGTTTCCGTAGGTGAGCGGAAGGGTCATTGTTGAGATCACATAATAATTGATCGGTTGAGTCTGGAGGATCAGTTTACTTTGGTCACCCATGGGCATCTGCTCTTGTAGTGACCTGGATTGCCATCGAGCCTCCTTGGGAGCTTTCTTGCTGGAGATCTAAACCCTTGCCCGGAGCAGTTTTGCGCCAAGTCATATGACACATAATTGGAAGGGGGCGGCATGCTGCCTTGACCCTCCCCAAATTATTTTCTTAACAACTCTCAGCAACGGATATCTCGGCTCTTGCATCGATGAAGAACGCAGCGAAATCCGATAAATGGTGTGAATTTCAGAATCCCGTGAACCATCGAGTCTTTGAACGCCAAGTTCGCCCGAGGCCATCAGGCCAAGGGCACGCCTGCCTGGGCATTTCGAATCAAATCTCTCCCTTAATGAGGCTGTCCAAACATACTGTTCAACCGGTTCGGATGTGAGTTTGGCCCCTTTTTCTTTGGGGCGGGGGGTCTAAGAACTTCATGGGCTTTTGGTGGTCCTAAAAACGGCAAGAGGTGGGCGGACTATTCTTCAACCAAATTTCTGTTCGGATTCCCCGGGCTTTCGTAATAGATGGGCCAGCATAATCTAAAGACCCTTTTGAACCCCATTGGAGGCCCATCAACCCATGATCAGTTGACGGCCATTTGGTGCGACCCCAGGTCAGGTGAGCAACCCGCTGAGTTTAAGC',\n",
              " 'CGTAACAAGGTTTCCGTAGGTGAACCTGCGGAAGGTTCATTGTTGAGATCACATAATCATTGTTCGGTTGAGTCTGGAGGATCAGTTTACTTTGGTCACCATGGGCATCTGCTCTTGTAGTGACCTGGATTGCCATCGAGCCTCCTTGGGAGCTTTCTTGCTGGGGATCTAAACCCTCGCCCGGGGGAGTTTTGCGCCAAGTCATATGACACATAATTGGGAGGGGGCGGCATGTTGCCTTGACCCTCCCCAAATTATTTTCTTAACAACTCTCAGCAACGGATATCTCGGCTCTTGCATCGATGGAAGAACGCAGCGAAATGCGATAAATGGTGTGAATTGCAGAATCCCGTGAACCATCGAGTCTTTGAACGCAAGTTGCGCCCGAGGCCATCAGGCCAAGGGCACGCCTGCCTGGGCATTGCGAGTCATATCTCTCCCTTAATGAGGCTGTCCATACATACTGTTCAACCGGTGCGGATGTGAGTTTGGCCCCTTTTTCTTTGGGGCGGGGGGTCTAAGAGCTGCATGGGCTTTTGATGGTCCTAAATACGGCAAGAGGTGGACGAACTATGCTGCAACAAAATTGCTGTGCGAATACCCCGGGTTGTCGTATTAGATGGGCCAGCATAATCTAAAGACCCTTTTGAACCCCATTGGAGGCCCATCAACCCATGATCAGTTGACGGCCATTTGGTTGCGACCCCAGATCAGGTGAGCAACCCGCTGAGTTTAAGC',\n",
              " 'CGTCACGAGGTCTCCGGATGTGACCCTGCGGAAGGATCATTGTTGAGATCACATAATAATTGATCGAGTTAATCTGCAGGATCTGTTTACTTTGGTCACCCATGGGCATTTGCTGTTGAAGTGACCTAGATTTGCCATCGAGCCTCCTTGGGAGATTTCTTGTTGGCGAGATCTAAACCCTTGCCCGGCGCAGTTTTGCGCCAAGTCATANNNNNNNNNNNNNNNNNNNNNNNNNNNNNNNNNNNNNNNNNNNNNNNNNNNNNNNNNNNNNNNNNNNNNNNNNNNNNNNNNNNNNNNNNNNNNNNNNNNNNNNNNNNNNNNNNNNNNNNNNNNNNNNNNNNNNNNNNNNNNNNNNNNNNNNNNNNNNNNNNNNNNNNNNNNNNNNNNNNNNNNNNNNNNNNNNNNNNNNNNNNNNNNNNNNNNNNNNNNNNNNNNNNNNNNNNNNNNNNNNNNNNNNNNNNNNNNNNNNNNNNNNCGCCTGCCTGGGCATTGCGAGTCATATCTCTCCCTTAACGAGGCTGTCCATACATACTGTTCAGCCGGTGCGGATGTGAGTTTGGCCCCTTGTTCTTTGGTACGGGGGGTCTAAGAGCTGCATGGGCTTTTGATGGTCCTAAATACGGCAAGAGGTGGACGAACTATGCTACAACAAAATTGTTGTGCAAAGGCCCCGGGTTGTCGTATTAGATGGGCCACCGTAATCTGAAGACCCTTTTGAACCCCATTGGAGGCCCAT',\n",
              " 'CGTAACAAGGTTTCCGTAGGTGAACCTCCGGAAGGATCATTGTTGAGATCACATAATAATTGATCGAGGTAATCTGGAGGATCTGTTTACTTTGGTCACCCATGGGCAGTTGCTGCTGGAGTGACCTAGAATTTCCATCGAGCCTCCTTGGGAGCTTTCTTGTTGGCGAGATCTAAACCCTTACCCGGCGCAATTTTTCCCCCAGTCAAATGACACATAATTGGTGGAGGGGGTGGCATTCTTCCCTGACCCTCCCCCAAATAATTTTTTCACAACTCTCAGCAACGGATATCTCGGCTCTTGCATCGATGAAGAACGCACCGAAATCCGATAAATGGTGTGAATTCCAGAATCCCGTGAACCATCGAGTCTTTGAACCCAAGTTGCGCCCGAGGCCATCAGGCCAAGGGAACGCCTGCCTGGGCATTGCGAGTCATATCTCTCCCTTAACGAGCCTGTCCATACATCCTGTTCAGCCGGTGCGGATGTGAGTTTGCCCCCTTGTTCTTTGGTACGGGGGGTCTAAGACCTGCATGGGCTTTTGATGGTCCTAAATACGGCAAGAGGTGGACGAACTATGCTACACCAAAATTGTTGTCCAAAGCCCCCGGGTTGTCGTATAAGATGGGCCACCGTAATCTGAAGACCCTTTGAACCCCATTGGAGCCCATCAACCCATGATCAGTTGATGCCATTGTTGCGACCCAGTCAGTGAGCAAGCCGCTGAGTTAA',\n",
              " 'CGTAACAAGGTTTCCGTAGGTGAACCTCCGGAAGGATCATTGTTGAGATCACATAATAATTGATCGAGTTAATCTGGAGGATCTGTTTACTTTGGTCACCCATGAGCATTTGCTGTTGAAGTGACCTAGATTTGCCATCGAGCCTCCTTGGGAGCTTTCTTGTTGGCGAGATCTAAACCCTTGCCCGGCGCAGTTTTGCGCCAAGTCATATGACACATAATTGGTGAAGGGGGTGGCATCCTGCCCTGACCCTCCCCAAATTATTTTTTTAACAACTCTCAGCAACGGGATATCTCGGCTCTTGCATCGGATGGAGGAACGCAGCGAAATGCGATAAATGGTGTGAATTGCAGAATCCCGTGAACCATCGAGTCTTTGAACGCAAGTTGCGCCCGAGGCCATCAGGCCAAGGGCACGCCTGCCTGGGCATTGCGAGTCATATCTCTCCCTTAACGAGGCTGTCCATACATACTGTTCAGCCGGTGCGGATGTGAGTTTGGCCCCTTGTTCTTTGGTACGGGGGGTCTAAGAGCTGCATGGGCTTTTGATGGTCCCAAATACGGCAAGAGGTGGACGAACTATGCTACAACAAAATTGTTGTGCAAAGGCCCCGGGTTGTCGTATTAGATGGGCCACCGTAATCTGAAGACCCTTTTGAACCCCATTGGAGGCCCATCAACCCATGATCAGTTGATGGCCATTTGGGTTGCGACCCCAGGTCAGGTGAGGCAACCCGCTGAGTTTA',\n",
              " 'CGTAACAAGGTTTCCGTAGGTGAACCTGCGGAAGGATCATTGTTGAGATCACATAATAATTGATCGAGTTAATCTGGAGGATCTGTTTACTTTGGTCACCCATGAGCATTTGCTGTTGAAGTGACCTAGATTTGCCATCGAGCCTCCTTGGGAGCTTTCTTGTTGGCGAGATCTAAACCCTTGCCCGGCGCAGTTTTGCGCCAAGTCATATGACACATAATTGGTGAAGGGGGTGGCATCCTGCCCTGACCCTCCCCAAATTATTTTTTTAACAACTCTCAGCAACGGATATCTCGGCTCTTGCATCGGATGGAGGAACGCAGCGAAATTGCGATAAATTGGTGTGAATTGCAGAATCCCGTGAACCATCGAGTCTTTGAACGCAAGTTGCGCCCGAGGCCATCAGGCCAAGGGCACGCCTGCCTGGGCATTGCGAGTCATATCTCTCCCTTAACGAGGCTGTCCATACATACTGTTCAGCCGGTGCGGATGTGAGTTTGGCCCCTTGTTCTTTGGTACGGGGGGTCTAAGAGCTGCATGGGCTTTTGATGGTCCTAAATACGGCAAGAGGTGGACGAACTATGCTACAACAAAATTGTTGTGCAAAGGCCCCGGGTTGTCGTATTAGATGGGCCACCGTAATCTGAAGACCCTTTTGAACCCCATTGGAGGCCCATCAACCCATGATCAGTTGATGGCCATTTGGTTGCGACCCCAGGTCAGGTGAGGCAACCCGCTGAGTTT',\n",
              " 'CGTAACAAGGTTTCCGTAGGTGAACCTGCGGAAGGATCATTGTTGAGATCACATAATAATTGATCGAGTTAATCTGGAGGATCTGTTTACTTTGGTCACCCATGAGCATTTGCTGTTGAAGTGACCTAGATTTGCCATCGAGCCTCCTTGGGAGCTTTCTTGTTGGCGAGATCTAAACCCTTGCCCGGCGCAGTTTTGCGCCAAGTCGTACGACACATAATTGGTGAAGGGGGTGGCATCCTTCCCTGACCCTCCCCAAATTATTTTTTAACAACTCTCAGCAACGGATATCTCGGCTCTTGCATCGATGGAGGACGCAGCGAAATGCGATAAATGGTGTGAATTGCAGATCCCGTGAACCATCGAGTCTTTGAACGCAAGTTGCGCCCGAGGCCATCAGGCCAAGGGCACGCCTGCCTGGGCATTGCGAGTCATATCTCTCCCTTAACGAGGCTGTCCATACATACTGTTCAGCCGGTGCGGATGTGAGTTTGGCCCCTTGTTCTTTGGTACGGGGGGTCTAAGAGCTGCATGGGCTTTTGATGGTCCTAAATACGGCAAGAGGTGGACGAACTATGCTACAACAAAATTGTTGTGCAGAGGCCCCGGGTTGTCGTATTAGATGGGCCACCGTAATCTGAAGACCCTTTTGAACCCCATTGGAGGCCCATCAACCCATGATCAGTTGATGGCCATTTGGTTGCGACCCCAGGTCAGGTGAGGCAACCCGCTGAGTTG',\n",
              " 'CGTAACAAGGTTTCCGTAGGTGAACCTCCGGAAGGATCATTGTTGAGATCACATAATAATTGATCGAGTTAATCTGGAGGATCTGTTTACTTTGGTCACCCATGGGCATTTTCTGTTGTAGTGACCTAGAATTTCCATCGAGCCTCCTTGGGAGCTTTCTTGTTGGCGAGATCTAAACCCTTGCCCGGCGCAGTTTTTCCCCCAGTCAAATGGCACATAATTGGTGGAGGGGGTGGCATTCTTCCCTGACCCTCCCCCAAATATTTTTTTAACAACTCTCAACAACGGATATCTCGGCTCTTTCATCGGATGAAGGACCGCAGCGAAATGCGATAAATGGTGTGAATTGCAGAATCCCGTGAACCATCGAGTCTTTGAACGCAAGTTGCGCCCGAGGCCATCAGGCCAAGGGCACGCCTGCCTGGGCATTGCGAGTCATATCTCTCCCTTAACGAGGCTGTCCATACATACTGTTCAGCCGGTGCGGATGTGAGTTTGGCCCCTTGTTCTTTGGTACGGGGGGTCTAAGAGCTGCATGGGCTTTTGATGGTCCTAAATACGGCAAGAGGTGGACGAACTATGCTACAACAAAATCGTTGTGCAAAGGCCCCGGGTTGTCGTATTAGATGGGCCACCGTAATCTAAAGACCCTTTTGAACCCCATTGGAGGCCCATCAACCCATGATCAGTTGATGGCCATTTGGTTGCGACCCCAGGTCAGGTGAGGCAACCCGCTGAG',\n",
              " 'CGTAACAAGGTTTCCGTAGGTGAACCTGCGGAAGGATCATTGTTGAGATCACATAATAATTGATCGAGTTAATCTGGAGGATCTGTTTACTTTGGTCACCCATGAGCATTTGCTGTTGAAGTGACCTAGAATTTGCCATCGAGCCTCCTTGGGAGCTTTCTTGTTGGCGAGATCTAAACCCTTGCCCGGCGCAGTTTTGCGCCAAGTCATATGACACATAATTGGTGGAGGGGGTGGCATCCTGCCCTGACCCTCCCCAAATTATTTTTTTAACAACTCTCAGCAACGGATATCTCCGGTCTGGCATCGATGAAGAACGCAGCGAAATGCGATAAATGGTGTGATTGCAGAATCCCGTGAACATCGAGTCTTTGAACGCAAGTTGCGCCCGAGGCCATCAGGCCAAGGGCACGCCTGCCTGGGCATTGCGAGTCATATCTCTCCCTTAACGAGGCTGTCCATACATACTGTTCAGCCGGTGCGGATGTGAGTTTGGCCCCTTGTTCTTTGGTACGGGGGGTCTAAGAGCTGCATGGGCTTTTGATGGTCCTAAATACGGCAAGAGGTGGACGAACTATGCTACAACAAAATTGTTGTGCAAAGGCCCCGGGTTGTCGTATTAGATGGGCCACCGTAATCTGAAGACCCTTTTGGACCCCATTGGAGGCCCATCAACCCATGATCAGTTGATGGCCATTTGGGTTGCGACCCAGGTCAGGTGAGGCAACCCTGAGTTTAGC',\n",
              " 'CGTAACCAGGTTTCCGTAGGTGGACCTTCGGGAGGATCATTTTTGAGATCACATAAAAATTGATCGAGTTAATCTGGAGGAACTTTTTACTTTGGTCACCCATGAACAATTTCTTTTGGAGTGACCTAGAATTTCCATCGAACCCCCTTGGGAACTTTCTTTTTGGCGAGAACTAAACCCTTTCCCGGCGCAGTTTTTCCCCCAATCAAATTACACAAAAATGGTGGAGGGGGTGGCATCCTTCCCTTACCCTCCCCCAAATAATTTTTTAACAACTCTCAGCAACGGATATCTCGGCTCTTGCATCGGTTGAAGAACCAGCGAAATGCGATAAATGGTGTGAATTGCAGAATCCCGTGAACCATCGAGTCTTTGAACGCAAGTTGCGCCCGAGGCCATCAGGCCAAGGGCACGCCTGCCTGGGCATTGCGAGTCATATCTCTCCCTTAACGAGGCTGTCCATACATACTGTTCAGCCGGTGCGGATGTGAGTTTGGCCCCTTGTTCTTTGGCACGGGGGGTCTAAGAGCTTCATGGGCTTTTGATGGTCCTAAATACGGCAAGAGGTGGACGAACTATGCTACAACAAAATTGTTGTGCAAAGGCCCCGGGTTGTCGTATTAGATGGGCCACCGTAATCTGAAGACCCTTTTGAACCCCATTGGAGGCCCATCAACCCATGATCAGTTGATGGCCATTTGGGTTGCGACCCCAGGTCAGGTGAGGCAACCCGCTGAGTTTAGCA',\n",
              " 'CGTAACAAGGTTTCCGTAGGTGAACCTGCGGAAGGATCATTGTTGAGATCACATAATAATTGATCGAGATAATCTGGAGGATCTGTTTACTTTGGTCACCCATGAGCATTTGCTGTTGAAGTGACCTAGATTTACCATCGAGCCTCCTTGGGAGCTTTCTTGTTGGCGAGATCTAAACCCTTGCCCGGCGCAGTTTTTCTCCAAGTCATTTGACACATAATCGGTGAAGGGGGTGGCATCCTGCCCTGACCCTCCCCCCACTATTGTTAACAACTCTCATCAACGGAACTCATGCGATAAATGGTGTGATTTGCAGAATCCCGTGAACCATCGAGTCTGTGAACGCAAGTTGCGGCCGAGGCCATCAGACCAAGGGCACGCCTGCCTGGGCATTGCGAGTCATATCTCTCCCTTAACGAGGCTGTCCATACATACTGTTCAGCCGGTGCGGATGTGAGTTTGGCCCCTTGTTCTCTGGTACGGGGGGTCTAAGAGCTGCATGGGCTTTTGATGGTCCTAAATACGGCAAGAGGTGGACGAACTATGCTACAACAAAATTGTTGTGCAAAGGCCCCGGGTTGTCGTATTAGATGGGCCACCGTAATCTGAAGCCCCTTTTGAACCCATTGGAGGCCCATCAACCNCATGATCAGTTGATGGCCATTTGGATGCGACCCCAGGTCAGGTGAGGCAAC',\n",
              " 'CGTAACAAGGTTTCCGTAGGTGAACCTGCGGAAGGATCATTGTTGAGATCACATAATAATTGATCGAGTTAATCTGGAGGATCTGTTTACTTTGGTCACCCATGAGCATTTGCTGTTGAAGTGACCTAGAGTTGCCATCGAGCCTCCTTGGGAGCTTTCTTGTTGGCGAGATCTAAACCCTTGCCCGGCGCAGTTTTGCGCCAACTCATTTGACACATAACTGGTGAAGGGGGTGGCATCCTTCCCTGACCCTCCCCCAAATTATTTTTTAACAACTCTCAGCAACCGGATATCTCAGCTCTTGCATCGATGAAGAACGCAGCGAAATGCGATAAATGGTGTGAATTGCAGAATCCCGTGAACCATCGAGTCTTTGAACGCAAGTTGCGCCCGAGGCCATCAGGCCAAGGGCACGCCTGCCTGGGCATTGCGAGTCATATCTCTCCCTTAACGAGGCTGTCCATACATACTGTTCAGCCGGTGCGGATGTGAGTTTGGCCCCTTGTTCTTTGGTACGGGGGGTCTAAGAGCTGCATGGGCTTTTGATGGTCCTAAATACGGCAAGAGGTGGACGAACTATGCTACAACAAAATTGTTGTGCAAAGGCCCCGGGTTGTCGTATTAGATGGGCCACCGTAATCTGAAGACCCTTTTGAACCCCATTGGAGGCCCATCAACCCATGATCAGTTGATGGCCATTTGGTTGCGACCCCAGGTCAGGTGAGGCAACCCGCTGAGTTTAGCA',\n",
              " 'CGTAACAAGGTTTCCGTAGGTGAACCTGCGGAAGGATCATTGTTGAGATCACATAATAATTGATCGAGTTAATCTGGAGGATCTATTTACTTTGGTCACCCATGAGCATTTGCTGTTGAAGTGACCTAGATTTGCCATCAAGCCTCCTTGGGAGCTTTCTTTTTGGCGAGATCTAAACCCTTGCCCGGCGCAGTTTTGCGCCAAGTCATATGACACATAATTGGTGAAGGGGGTGGCATCCTGCCCTGACCCTCCCCAAATTATTTTTTTAACAACTCTCAGCAACGGATATCTCGGCTCTTGAATCGATGAAGAACGCAGCGAAATGCGATAAATGGTGTGAATTGCAGAATCCCGTGAACCATCGAGTCTTTGAACGCAAGTTGCGCCCGAGGCCATCAGGCCAAGGGCACGCCTGCCTGGGCATTGCGAGTCATATCTCTCCCTTAACGAGGCTGTCCATACATACTGTTCAGCCGGTGCGGATGTGAGTTTGGCCCCTTGTTCTTTGGTACGGGGGGTCTAAGAGCTGCATGGGCTTTTGATGGTCCTAAATACGGCAAGAGGTGGATGAACTATGCTACAACAAAATTGTTGTGCAAAGGCCCCGGGTTGTCGTATTAGATGGGCCACTGTAATCTGAAGACCCTTTTGAACCCCATTGGAGGCCCATCAACCCATGATCAGTTGATGGCCATTTGGATGCGACCCCAGGTCAGGTGAGGCAACCGCTGAGTTTAGCA',\n",
              " 'CGTAACAAGGTTTCCGTAGGTGTACCTCCGGAAGGATCATTGTTGAGATCACATAATAATTGATCGAGATAATCTGGAGGATCTGTTTACTTTGGTCACCCATGGGCATTTGCTGTTGTAGTGACCTAGATTTCCATGGAGCCCCCCTGGGAGCTTTCTTGCTGGCGAGATCTAAACCCGTGCCCGGCGCAGTTTTGCGCCAAGTCATATGACACATAATTGGTGTAGGGGGCGGGCATCCTGCCCTGACCCTCCCCAAAGTATTTTTTGCAACTCTCAACAACGGAAATCTCGCTCTTTCATCGATGAAGAACCAGCGAAATCGATAAATGGTGTGAATTGCAGAATCCCGTGAACCATCGAGTCTTTGAACCCAAGTTGCGCCCGAGGCCATCAGGCCAAGGGCACCCCTCCCTGGGCATCGCGAGTCAAATCTCTCCCTTAACGAGGCTGTCCATACATACTGTTCACCCGGTGCGGATGTGAGTTTGCCCCCTTGTTCTTTGGTACGGGGGGTCTAAGACCTGCATGGGATTTTGATGGTCCTAAAAACGGCAAGAGGTGGACGAACTATCCCTACAATAAAATTGTTGTGCGAAGCCCCCGGGTTGTCGTATTAGATGGGCCACCGTAATCTGAAGACCCTATAGAACCCCATTGGAGGCCCATCAACCCATGATCAGTTGATGGCCATTTGATGCGACACCAGTCAGTGAGCAACCAGCTGAGC',\n",
              " 'GGAAGGATCATTGCTGATATCACATAATAATTGATCGAGTTAAGCTGGAGGATCTGTTTACTTTGGTCATCCATGAGCATTTACTGTTGAAGTGACCTAGATTTGCCATCGAGCCTCCTTGGGAGCTTTCTTGTTGCCGAGATCTAAACCCTTGCCCGGCGCAGTTTTGCGCCAAGTCATATGACACATAATTGGTGAAGGGGGTGGCATCCTGCCCTGACCCTCCCCAAATTATTTTTTTAACAACTCTCAGCAACGGATATCTCGGCTCTTGCATCGATGAAGAACGCAGCGAAATGCGATAAATGGTGTGAATTGCAGAATCCCGTGAACCATCGAGTCTTTGAACGCAAGTTGCGCCCGAGGCCATCAGGCCAAGGGCACGCCTGCCTGGGCATTCCGAGTCATATCTCTCCCCTAACGAGGCTGTCCATACATACTGTTCATCCGGTGCGGATGTGAGTGTGGCCCCTTGTTCTTTGGTCCGGGGGGTCTAAGAACTGCATGGGCATATGATGGTCCTCAAAACTGGCAAGAGGTGGACGAACTATGCTACAACCAAATTGTTGTGCCAAGGCCCCGGGTTGTCGTATTAGATGGGCCACCGTAACCTGTAGACCCTGTTGAACCCCATTGGAGGACCATCAACCCATGATCAGTTGATGACCATGTGTTGCGACCCCAGATCAGCTGAGCAACCCCTGAG',\n",
              " 'CGTAACAAGGTTTCCGTAGGTGAACCTGCGGAAGGATCATTGTTGAGATCACATAATAATTGATCGAGTTAATCTGGAGGATCTGTTTACTTTGGTCACCCATGAGCATTTGCTGTTGAAGTGACCTAGATTTGCCATCGAGCCTCCTTGGGAGCTTTCTTGTTGGCGAGATCTAAACCCTTGCCCGGCGCAGTTTTGCGCCAACTCATTTGACACATAATTGGTGAAGGGTGGCATCCTGCCCTGACCCTCCCCCAAATTATTTTTTTAACAACTCTCAGCAACGGATATCTCAGCTCTTGCATCGATGAAGAACGCAGCGAAAATGCGATAAATGGTGTGAATTGCAGAATCCCGTGAACCATCGAGTCTTTGAACGCAAGTTGCGCCCGAGGCCATCAGGCCAAGGGCACGCCTGCCTGGGCATTGCGAGTCATATCTCTCCCTTAACGAGGCTGTCCATACATACTGTTCAGCCGGTGCGGATGTGAGTTTGGCCCCTTGTTCTTTGGTACGGGGGGTCTAAGAGCTGCATGGGCTTTTGATGGTCCTAAATACGGCAAGAGGTGGACGAACTATGCTACAACTAAATTGTTGTGCAAAGGCCCCGGGTTGTCGTATTAGATGGGCCACCGTAATCTGAAGACCCTTTTGAACCCCATTGGAGGCCCATCAACCCATGATCAGTTGATGGCCATTTGGTTGCGACCCCAGGTCAGGTGAGGCAACCCGCTGAGTTTATGC',\n",
              " 'CGTAACAAGGTTTCCGTAGGTGAACCTGCGGAAGGATCATTGTTGAGATCACATAATAATTGATCGAGTTAATCTGGAGGATCTGTTTACTTTGGTCACCCATGAGCATTTGCTGTTGAAGTGACCTAGAATTGCCATCGAGCCTCCTTGGGAGCTTTCTTGTTGGCGAGATCTAAACCCTTTCCCGGCGCAGTTTTGCGCCAAGTCGTATGACACATAATTGGTGAAGGGGGGTGGCATCCTTCCCTTGACCCTCCCCAAATTATTTTTTTAACAACTCTCAGCAACGGATATCTCAGCTCTTGCATCGGATGGAAGAACGCACCGAAATGCGATAAATGGTGTGAATTGCAGAATCCCGTGAACCATCGAGTCTTTGAACGCAAGTTGCGCCCGAGGCCATCAGGCCAAGGGCACGCCTGCCTGGGCATTGCGAGTCATATCTCTCCCTTAACGAGGCTGTCCATACATACTGTTCAGCCGGTGCGGATGTGAGTTTGGCCCCTTGTTCTTTGGTACGGGGGGTCTAAGAGCTGCATGGGCTTTTGATGGTCCTAAATACGGCAAGAGGTGGACGAACTATGCTACAANAAAATTGTTGTGCAAAGGCCCCGGGTTGTCGTATTAGATGGGCCACCGTAATCTGAAGACCCTTTTGAACCCCATTGGAGGCCCATCAGCCCATGATCAGTTGATGGCCATTTGGNTGCGACCCCAGGTCAGGTGAGGCAACCCGCTGAGG',\n",
              " 'CGTAACAAGGATTCCGTAGGTGAACCTGCGGGAGGATCATTGTTGAGATCACATAATAATTGATCGAGTAATCTGGAGGATCTGTTTACTTTGGTCACCCATGGGCATTTCCTGTTGAAGTGACCTAGAGTTGCCATCGAGCCTCCCTGGGAGCTTTCTTGTTGGCGAGAACTAAACCCTTACCCGGCGCAATTTTGCCCCCAGTCAAATGACACATAAGTGGTGAAGGGGGTGGCATCCTATCTCGGCTCTTGCATCGATGAAGAACCCAGCGAAATGCGATAAATGGTGTGAATTGCAGAATCCCGTGAACCATCGAGTCTTTGAACGCAAGTTGCGCCCGAGGCCATCAGGCCAAGGGCACGCCTGCCTGGGCATTGCGAGTCATATCTCTCCCTTAACGAGGCTGTCCATACATACTGTTCAGCCGGTGCGGATGTGAGTTTGGCCCCTTGTTCTTTGGTACGGGGGGTCTAAGAGCTGCATGGGCTTTTGATGGTCCTAAATACGGCAAGAGGTGGACGAACTATGCTACACCAAAATTGTTGTGCAAAGGCCCCGGGTTGTCGTATTAGATGGGCCACCGTAATCTGAAGACCCTTTTGAACCCCATTGGAGGCCCATCAACCCATGATCAGTTGATGGCCATTTGGTTGCGACCCCAGTCAGGTGAGGCAACCCGCTGAGTTTAAGC',\n",
              " 'CGTAACAAGGTTTCCGTAGGTGAACCTCCGGAAGGATCATTGTTGAGATCACATAATAATTGATCGAGTTAATCTGGAGGATCTGTTTACTTTGGTCACCCATGAGCATTTCCTGTTGAAGTGACCTAGATTTGCCATCGAGCCTCCTTGGGAGCTTTCTTGTTGGCGAGATCTAAACCCTTGCCCGGCGCAGTTTTGCGCCAAGTCATATGACACATAATTGGTGAAGGGGGTGGCATCCTCCCCAAATAATTTTTTAACAACTCTCAGCAACGGATACTCGGCTCTTCATCGATGGAGGACCAGCGAAATTGCGATAATGGTGTGATTGCAGAATCCCGTGAACATCGAGTCTTTGAACGCAAGTTGCGCCCGAGGCCATCAGGCCAAGGGCACGCCTGCCTGGGATTGCGAGTCATATCTCTCCCTTAACGAGGCTGTCCATACATACTGTTCAGCCGGTGCAGATGTGAGTTTGGCCCCTTGTTCTTCGGTACGGGGGGTCTAAGAGCTGCATGGGCTTTTGATGGCCCTAAATACGGCAAGAGGTGGACGAACTATGCTACAACAAAATTGTTGTGCAAAGGCTCCGGGTTGTCGTATTAGATGGGCCACCGTAATCTGAAGACCCTTTTGAACCCCATTGGAGGCCCATCAACCCATGATCAGTTGATGGCCATTTGGTTGCGACCCAGGTCAGGTGAGGCAACCC',\n",
              " 'CGTAACAAGGTTTCCGTAGGTGAACCTGCGGAAGGATCATTGTTGAGATCACATAATAATTGATCGGGTTAATCTGGAGGATCTGTTTACTTTGGTCACCCATGAGCATTTGCTGTTGAAGTGACCTAGAATTGCCATCGAGCCTCCTTGGGAGCTTTCTTGTTGGCGAGATCTAAACCCTTGCCCGGCGCAGTTTTGCTCCAAGTCGTTTGACACATAATTGGTGAAGGGGGTGGCATCCTTCCCTGACCCTCCCCCAACTATTTTTTTAACAACTCTCAGCAACGGAGACTCAGTCTTCGGCAAATGCGATAAATGGTGTGAATTGCAGAATCCCGTGCACCATCGAGTCTTTGAACGCAAGTTGCGCCCGAGGCCATCAGGCCAAGGGCACGCCTGCCTGGGCATTGCGAGTCATATCTCTCCCTTAACGAGGCTGTCCATACATACTGTTCAGCCGGTGCGGATGTGAGTTTGGCCCCTTGTTCTTTGGTACGGGGGGTCTAAGAGCTGCATGGGCTTTTGATGGTCCTAAATACGGCAAGAGGTGGACGAACTATGCTACAACAAAATTGTTGTGCAGAGGCCCCGGGTTGTCGTATTAGATGGGCCACCGTAATCTGAAGACCCTTTTGAACCCCATTGGAGGCCCATCAACCCATGATCAGTTGATGGCCATTTGGTTGCGACCCCAGGTCAGGTGAGCAACAGCTGT',\n",
              " 'CGTAACAAGGTTTCCGTAGGGTGAACTGCGGAAGGATCATTGTTGAGATCACATAATAATTGATCGAGTTAATCTGGAGGATCTGTTTACTTGGGTCACCCATGGGCATTTGCTGTTGAAGTGACCTAGATTTGCCATCGAGCCTCCTTGGGAGCATCCTTGTTGGCGATATCTAAACCCTCAATTTTTCCCCCAATCAAATTACACAAAATTGGTGGAGGGGGTGGCATTCTTCCCTTACCCTCCCCCAAATATTTTTTTAACAACTCTCAGCAACGGATATCTCAGCTCTTGCATCGATGAAGAACCCACCGAAATGCGATAAATGGTGTGAATTGCAGAATCCCGTGAACCATCGAGTCTTTGAACGCAAGTTGCGCCCGAGGCCATCAGGCCAAGGGCACGCCTGCCTGGGCATTGCGAGTCATATCTCTCCCTTAACGAGGCTGTCCATACATACTGTTCAGCCGGTGCGGATGTGAGTTTGGCCCCTTGTTCTTTGGTACGGGGGGTCTAAGAGATGCATGGGCTTTTGATGGTCCTAAATACGGCAAGAGGTGGACGAACTATGCTACAACAAAATTGTTGTGCAAAGGCCCCGGGTTGTCGTATAAGATGGGCCACCGATATCTGAAGACCCTTTTGGACCCCATTGGAGCCCATCAACCCATGTCAGTTGATGGCCATT',\n",
              " 'CGTAACAAGGTTTCCGTAGGTGAACCTGCGGAAGGATCATTGTTGAGATCACATAATAATTGATCGAGTTAATCTGGAGGATCTGTTTACTTGGGTCACCCATGGGCATTTGCTGTTGAAGTGACCTAGATTTGCCATCGAGCCTCCTTGGGAGCTTTCTTGTTGGCGATATCTAAACCCTTGCCCGGCAGAGTTTTGGGCCACANNNNNNNNNNNNNNNNNNNNNNNNNNNNNNNNNNNNNNNNNNNNNNNNNNNNNNNNNNNNNNNNNNNNNNNNNNNNNNNNNNNNNNNNNNNNNNNNNNNNNNNNNNNNNNNNNNNNNNNNNNNNNNNNNNNNNNNNNNNNNNNNNNNNNNNNNNNNNNNNNNNNNNNNNNNNNNCAGCGAAATGCGATAATGGTGTGAATTGCAGAATCCCGTGAACCATCGAGTCTTTGAACGCAAGTTGCGCCCGAGGCCATCAGGCCAAGGGCACGCCTGCCTGGGCATTGCGAGTCATATCTCTCCCTTAACGAGGCTGTCCATACACACCTGTTCAGCCGGTGCGGATGTGAGTTTGGCCCCTTGTTCTTTGGTACGGGGGGTCTAAGAGCTGCATGGGCTTTTGATGGTCCTAAATACGGCAAGAGGTGGACGAACTATGCTACAACAAAATTGTTGTGCAAAGGCCCCGGGTTGTCGTATTAGATGGGCCACCATAATCTGAAGACCCTTTTGAACCCCATTGGAGGCCCATCAACCCATGATCAGTTGATGGCCATTTGGTTGCGACCCAGTCAGGTGAGG',\n",
              " 'GTAGGTGAACCTGCGGAAGGATCATTGTTGAGATCACATAATAATTGATCGAGTTAATCTGGAGGATCTGTTTACTTTGGTCACCCATGGGCATTTGCTGTTGAAGTGACCTAGATTTGCCATCGAGCCTCCTTGGGAGCTTTCTTGTTGGCGAGATCTAAACCCTTGCCCGGCGGAGTTTGGCGCCAAGTCATATGACACATAATTGGTGAAGGGGGTGGCATCCTGCCCTGACCCTCCCCAAATTATTTTTTTAACAACTCTCAGCAACGGATATCTCGGCTCTTGCATCGATGAAGAACGCAGCGAAATGCGATAAATGGTGTGAATTGCAGAATCCCGTGAACCATCGAGTCTTTGGAACGCAAGTTGCGCCCGAGGCCATCAGGCCAAGGGCACGCCTGCCTGGGCATTGGGAATCATATCTCTCCCCTAACGAGGCTATCCAAACATACTGTTCATCCGGTGCGGATGTGAGTTTGGCCCCTTGTTCTTTGGTACCGGGGGTCTAAGAGCTGCATGGGCATTTGATGGTCCTCAAAACGGCAAGAGGTGGACGAACTATGCCACAACAAAATTGTTGTCCCAAGGCCCCGGGTTGTCGTATTAGATGGGCCACCGTAACCTGAAGACCCTTTTGAACCCCATTGGAGGCCCATCAACCCATGATCAGTTGATGACCATTTGTTGCGACCCCAGTCAGCTGAGCAACCCGCTGAGT',\n",
              " 'GGAAGGTCATTGCCGATATCACATAATAATTGATCGAGTTAATCTGGAGGATCTGTTTACTTGGTCACCCATGAGCATTTGCTGTTGAAGTGACCTAGATTTGCCATCGAGCCTCCTTGGGAGTTTTCTTGTTGGCGAGATCTAAACCCTTGCCCGGCGGAGTTGTGCGCCAAGTCATATGACACATAATTGGTGAAGGGGGTGGCATCCTGCCCTGACCCTCCCCAAATTATTTTTTTAACAACTCTCAGCAACGGATATCTCGGCTCTTGCATCGATGAAGAACGCAGCGAAATGCGATAAATGGTGTGAATTGCAGAATCCCGTGAACCATCGAGTCTTTGAACGCAAGTTGCGCCCGAGGCCATCAGGCCAAGGGCACGCCTGCCTGGGCATTGCGAGTCATATCTCTCCCTTAACGAGGCTGTCCATACATACTGTTCATCCGGTGCGGATGTGAGTTTGGCCCCTTGTTCTTTGGTACGGGGGGTCTAAGAGCTGCATGGGCATTTGATGGTCCTCAAAACGGCAAGAGGTGGACGAACTATGCTACAACCAAATTGTTGTCCCAAGGCCCCGGGTTGTCGTATTAGATGGGCCACCGTAACCTGAAGACCCTTTTGAACCCCATTGGAGGCCCATCAACCCATGATCAGTTGATGACCATGTGTTGCGACCCCAGTCAGCTGAGCAACGCGCTGAG',\n",
              " 'CGTAACAAGGTTTCCGTAGGTGGACCTCCGGGAGGATCATTGTTGAGATCACATAATAATTGATCGAGGTAATCTGGAGGATCTGCATATTTTGGTCACCCATGGGCAATTTCTGTTGTAGTGACCTAGAATTTCCATCGACCCTCCTTGGGAGCATTCTTGTTGGCGAGAACTAAACCCTTACCCGGCGCAGTTTTTCCCCCAATCAAATTACACAAAAATGGTGGAGGGGGTGGCATATCTTCCCTTACCCTCCCCCAAATAATTTTTTAACAACTCTCAGCAACGGATATCTCAGCTCTTGCATCGTTGAAGAACCCACCGAAATGCGATAAATGGTGTGAATTGCAGAATCCCGTGAACCATCGAGTCTTTGAACGCAAGTTGCGCCCGAGGCCATCAGGCCAAGGGCACGCCTGCCTGGGCATTGCGAGTCATATCTCTCCCTTAACGAGGCTGTCCATACATACTGTTCAGCCGGTGCGGATGTGAGTTTGGCCCCTTGTTCTTTGCTACGGGGGGTCTAAGAGCTGCATGGGCTTTTGATGGTCCTAAATACGGCAAGAGGTGGACGAACTATGCTACAGCAAAATTGTTGTGCAAAGGCCCCGGGTTGTCGTATTAGATGGGCCACCGTAATCTGAAGACCCTTTTGAACCCCATTGGAGGCCCATCAACCCATGATCAGTTGATGGCCATTTGGTTGCGACCCCAGGTCAGGTGAGGCAACCCCTGAGTTTAGCA',\n",
              " 'CATTGTTGAGATCACATAATAATTGATCGAGTTAATCTGGAGGATCTGTTTACTTTGGTCACCCATGGGCATTTGCTGTTGAAGTGACCTAGATTTGCCATCGAGCCTCCTTGGGAGCTTTCTTGTTGGCGAGATCTAAACCCCTGCCCGGCGGAGTTGGGCGCCAAGTCATATGACACATAATTGGTGAAGGGGGTGGTAATCCTGCCCTGACCCTCCCCAAATTATTTTTTTAACAACTCTCAGCAACGGATATCTCGGCTCTTGCATCGATGAAGAACGCAGCGAAATGCGATAATGGTGTGAATTGCAGAATCCCGTGAACATCGAGTCTTTGAACGCAAGTTGCGCCCGAGGCCATCAGGCCAAGGGCACGCCTGCCTGGGCATTGCGAGTCATATCTCTCCCTTAATGAGGCTGTCCATACATACTGTTCAGCCGGTGCGGATGTGAGTTTGGCCCCTTGTTCTTTGGTACGGGGGGTCTAAGAGCTGCATGGGCTTTGGATGGTCCTAAATACGGAAAGAGGTGGACGAACTATGCTACAACAAAATTGTTGTGCAAATGCCCCGGTTGGCCGTTTAGTTGGGCC']"
            ]
          },
          "metadata": {},
          "execution_count": 29
        }
      ]
    },
    {
      "cell_type": "code",
      "source": [
        "sizes = [len(seq) for seq in sequences]\n",
        "\n",
        "import matplotlib.pyplot as plt\n",
        "plt.hist(sizes)\n",
        "plt.show()"
      ],
      "metadata": {
        "colab": {
          "base_uri": "https://localhost:8080/",
          "height": 430
        },
        "id": "GJplOTrI5LoB",
        "outputId": "5d154271-e2b1-4fe0-b49a-04a8d96d5b1b"
      },
      "execution_count": null,
      "outputs": [
        {
          "output_type": "display_data",
          "data": {
            "text/plain": [
              "<Figure size 640x480 with 1 Axes>"
            ],
            "image/png": "[encoded data removed]"
          },
          "metadata": {}
        }
      ]
    },
    {
      "cell_type": "code",
      "source": [
        "from Bio.SeqUtils import GC123, GC_skew"
      ],
      "metadata": {
        "id": "XjFAxj6b5YmK"
      },
      "execution_count": null,
      "outputs": []
    },
    {
      "cell_type": "code",
      "source": [
        "gc_values = GC123(sequences[0])\n",
        "gc_values"
      ],
      "metadata": {
        "colab": {
          "base_uri": "https://localhost:8080/"
        },
        "id": "Ycj4yKBe5hMc",
        "outputId": "137446ed-cce1-4997-afcc-ff6f00c83928"
      },
      "execution_count": null,
      "outputs": [
        {
          "output_type": "execute_result",
          "data": {
            "text/plain": [
              "(59.5945945945946, 62.75303643724696, 59.51417004048583, 56.50406504065041)"
            ]
          },
          "metadata": {},
          "execution_count": 35
        }
      ]
    },
    {
      "cell_type": "code",
      "source": [
        "!wget ftp://ftp.sra.ebi.ac.uk/vol1/fastq/SRR494/SRR494102/SRR494102.fastq.gz"
      ],
      "metadata": {
        "colab": {
          "base_uri": "https://localhost:8080/"
        },
        "id": "rV4qW_qY588K",
        "outputId": "f5b13a1e-aca1-41d2-f6db-82b27a84c86c"
      },
      "execution_count": null,
      "outputs": [
        {
          "output_type": "stream",
          "name": "stdout",
          "text": [
            "--2024-07-24 13:22:51--  ftp://ftp.sra.ebi.ac.uk/vol1/fastq/SRR494/SRR494102/SRR494102.fastq.gz\n",
            "           => ‘SRR494102.fastq.gz’\n",
            "Resolving ftp.sra.ebi.ac.uk (ftp.sra.ebi.ac.uk)... 193.62.193.165\n",
            "Connecting to ftp.sra.ebi.ac.uk (ftp.sra.ebi.ac.uk)|193.62.193.165|:21... connected.\n",
            "Logging in as anonymous ... Logged in!\n",
            "==> SYST ... done.    ==> PWD ... done.\n",
            "==> TYPE I ... done.  ==> CWD (1) /vol1/fastq/SRR494/SRR494102 ... done.\n",
            "==> SIZE SRR494102.fastq.gz ... 606078059\n",
            "==> PASV ... done.    ==> RETR SRR494102.fastq.gz ... done.\n",
            "Length: 606078059 (578M) (unauthoritative)\n",
            "\n",
            "SRR494102.fastq.gz  100%[===================>] 578.00M  29.0MB/s    in 21s     \n",
            "\n",
            "2024-07-24 13:23:14 (27.2 MB/s) - ‘SRR494102.fastq.gz’ saved [606078059]\n",
            "\n"
          ]
        }
      ]
    },
    {
      "cell_type": "code",
      "source": [
        "!gzip -d SRR494102.fastq.gz"
      ],
      "metadata": {
        "id": "kUX23Jer6VSS"
      },
      "execution_count": null,
      "outputs": []
    },
    {
      "cell_type": "code",
      "source": [
        "from Bio import SeqIO\n",
        "fq_dict = SeqIO.index(\"SRR494102.fastq\", \"fastq\")"
      ],
      "metadata": {
        "id": "1PIH48GM64vq"
      },
      "execution_count": null,
      "outputs": []
    },
    {
      "cell_type": "code",
      "source": [
        "len(fq_dict)"
      ],
      "metadata": {
        "colab": {
          "base_uri": "https://localhost:8080/"
        },
        "id": "11YkeGjG70mt",
        "outputId": "a70198b9-1300-45ce-b3fc-512a44b9684d"
      },
      "execution_count": null,
      "outputs": [
        {
          "output_type": "execute_result",
          "data": {
            "text/plain": [
              "27626583"
            ]
          },
          "metadata": {},
          "execution_count": 39
        }
      ]
    },
    {
      "cell_type": "code",
      "source": [
        "list(fq_dict.keys())"
      ],
      "metadata": {
        "colab": {
          "base_uri": "https://localhost:8080/"
        },
        "id": "IDPXKNvp73F7",
        "outputId": "d78d26d9-3b8c-4550-c6ab-db4ac64aecda"
      },
      "execution_count": null,
      "outputs": [
        {
          "output_type": "execute_result",
          "data": {
            "text/plain": [
              "['SRR494102.1',\n",
              " 'SRR494102.2',\n",
              " 'SRR494102.3',\n",
              " 'SRR494102.4',\n",
              " 'SRR494102.5',\n",
              " 'SRR494102.6',\n",
              " 'SRR494102.7',\n",
              " 'SRR494102.8',\n",
              " 'SRR494102.9',\n",
              " 'SRR494102.10',\n",
              " 'SRR494102.11',\n",
              " 'SRR494102.12',\n",
              " 'SRR494102.13',\n",
              " 'SRR494102.14',\n",
              " 'SRR494102.15',\n",
              " 'SRR494102.16',\n",
              " 'SRR494102.17',\n",
              " 'SRR494102.18',\n",
              " 'SRR494102.19',\n",
              " 'SRR494102.20',\n",
              " 'SRR494102.21',\n",
              " 'SRR494102.22',\n",
              " 'SRR494102.23',\n",
              " 'SRR494102.24',\n",
              " 'SRR494102.25',\n",
              " 'SRR494102.26',\n",
              " 'SRR494102.27',\n",
              " 'SRR494102.28',\n",
              " 'SRR494102.29',\n",
              " 'SRR494102.30',\n",
              " 'SRR494102.31',\n",
              " 'SRR494102.32',\n",
              " 'SRR494102.33',\n",
              " 'SRR494102.34',\n",
              " 'SRR494102.35',\n",
              " 'SRR494102.36',\n",
              " 'SRR494102.37',\n",
              " 'SRR494102.38',\n",
              " 'SRR494102.39',\n",
              " 'SRR494102.40',\n",
              " 'SRR494102.41',\n",
              " 'SRR494102.42',\n",
              " 'SRR494102.43',\n",
              " 'SRR494102.44',\n",
              " 'SRR494102.45',\n",
              " 'SRR494102.46',\n",
              " 'SRR494102.47',\n",
              " 'SRR494102.48',\n",
              " 'SRR494102.49',\n",
              " 'SRR494102.50',\n",
              " 'SRR494102.51',\n",
              " 'SRR494102.52',\n",
              " 'SRR494102.53',\n",
              " 'SRR494102.54',\n",
              " 'SRR494102.55',\n",
              " 'SRR494102.56',\n",
              " 'SRR494102.57',\n",
              " 'SRR494102.58',\n",
              " 'SRR494102.59',\n",
              " 'SRR494102.60',\n",
              " 'SRR494102.61',\n",
              " 'SRR494102.62',\n",
              " 'SRR494102.63',\n",
              " 'SRR494102.64',\n",
              " 'SRR494102.65',\n",
              " 'SRR494102.66',\n",
              " 'SRR494102.67',\n",
              " 'SRR494102.68',\n",
              " 'SRR494102.69',\n",
              " 'SRR494102.70',\n",
              " 'SRR494102.71',\n",
              " 'SRR494102.72',\n",
              " 'SRR494102.73',\n",
              " 'SRR494102.74',\n",
              " 'SRR494102.75',\n",
              " 'SRR494102.76',\n",
              " 'SRR494102.77',\n",
              " 'SRR494102.78',\n",
              " 'SRR494102.79',\n",
              " 'SRR494102.80',\n",
              " 'SRR494102.81',\n",
              " 'SRR494102.82',\n",
              " 'SRR494102.83',\n",
              " 'SRR494102.84',\n",
              " 'SRR494102.85',\n",
              " 'SRR494102.86',\n",
              " 'SRR494102.87',\n",
              " 'SRR494102.88',\n",
              " 'SRR494102.89',\n",
              " 'SRR494102.90',\n",
              " 'SRR494102.91',\n",
              " 'SRR494102.92',\n",
              " 'SRR494102.93',\n",
              " 'SRR494102.94',\n",
              " 'SRR494102.95',\n",
              " 'SRR494102.96',\n",
              " 'SRR494102.97',\n",
              " 'SRR494102.98',\n",
              " 'SRR494102.99',\n",
              " 'SRR494102.100',\n",
              " 'SRR494102.101',\n",
              " 'SRR494102.102',\n",
              " 'SRR494102.103',\n",
              " 'SRR494102.104',\n",
              " 'SRR494102.105',\n",
              " 'SRR494102.106',\n",
              " 'SRR494102.107',\n",
              " 'SRR494102.108',\n",
              " 'SRR494102.109',\n",
              " 'SRR494102.110',\n",
              " 'SRR494102.111',\n",
              " 'SRR494102.112',\n",
              " 'SRR494102.113',\n",
              " 'SRR494102.114',\n",
              " 'SRR494102.115',\n",
              " 'SRR494102.116',\n",
              " 'SRR494102.117',\n",
              " 'SRR494102.118',\n",
              " 'SRR494102.119',\n",
              " 'SRR494102.120',\n",
              " 'SRR494102.121',\n",
              " 'SRR494102.122',\n",
              " 'SRR494102.123',\n",
              " 'SRR494102.124',\n",
              " 'SRR494102.125',\n",
              " 'SRR494102.126',\n",
              " 'SRR494102.127',\n",
              " 'SRR494102.128',\n",
              " 'SRR494102.129',\n",
              " 'SRR494102.130',\n",
              " 'SRR494102.131',\n",
              " 'SRR494102.132',\n",
              " 'SRR494102.133',\n",
              " 'SRR494102.134',\n",
              " 'SRR494102.135',\n",
              " 'SRR494102.136',\n",
              " 'SRR494102.137',\n",
              " 'SRR494102.138',\n",
              " 'SRR494102.139',\n",
              " 'SRR494102.140',\n",
              " 'SRR494102.141',\n",
              " 'SRR494102.142',\n",
              " 'SRR494102.143',\n",
              " 'SRR494102.144',\n",
              " 'SRR494102.145',\n",
              " 'SRR494102.146',\n",
              " 'SRR494102.147',\n",
              " 'SRR494102.148',\n",
              " 'SRR494102.149',\n",
              " 'SRR494102.150',\n",
              " 'SRR494102.151',\n",
              " 'SRR494102.152',\n",
              " 'SRR494102.153',\n",
              " 'SRR494102.154',\n",
              " 'SRR494102.155',\n",
              " 'SRR494102.156',\n",
              " 'SRR494102.157',\n",
              " 'SRR494102.158',\n",
              " 'SRR494102.159',\n",
              " 'SRR494102.160',\n",
              " 'SRR494102.161',\n",
              " 'SRR494102.162',\n",
              " 'SRR494102.163',\n",
              " 'SRR494102.164',\n",
              " 'SRR494102.165',\n",
              " 'SRR494102.166',\n",
              " 'SRR494102.167',\n",
              " 'SRR494102.168',\n",
              " 'SRR494102.169',\n",
              " 'SRR494102.170',\n",
              " 'SRR494102.171',\n",
              " 'SRR494102.172',\n",
              " 'SRR494102.173',\n",
              " 'SRR494102.174',\n",
              " 'SRR494102.175',\n",
              " 'SRR494102.176',\n",
              " 'SRR494102.177',\n",
              " 'SRR494102.178',\n",
              " 'SRR494102.179',\n",
              " 'SRR494102.180',\n",
              " 'SRR494102.181',\n",
              " 'SRR494102.182',\n",
              " 'SRR494102.183',\n",
              " 'SRR494102.184',\n",
              " 'SRR494102.185',\n",
              " 'SRR494102.186',\n",
              " 'SRR494102.187',\n",
              " 'SRR494102.188',\n",
              " 'SRR494102.189',\n",
              " 'SRR494102.190',\n",
              " 'SRR494102.191',\n",
              " 'SRR494102.192',\n",
              " 'SRR494102.193',\n",
              " 'SRR494102.194',\n",
              " 'SRR494102.195',\n",
              " 'SRR494102.196',\n",
              " 'SRR494102.197',\n",
              " 'SRR494102.198',\n",
              " 'SRR494102.199',\n",
              " 'SRR494102.200',\n",
              " 'SRR494102.201',\n",
              " 'SRR494102.202',\n",
              " 'SRR494102.203',\n",
              " 'SRR494102.204',\n",
              " 'SRR494102.205',\n",
              " 'SRR494102.206',\n",
              " 'SRR494102.207',\n",
              " 'SRR494102.208',\n",
              " 'SRR494102.209',\n",
              " 'SRR494102.210',\n",
              " 'SRR494102.211',\n",
              " 'SRR494102.212',\n",
              " 'SRR494102.213',\n",
              " 'SRR494102.214',\n",
              " 'SRR494102.215',\n",
              " 'SRR494102.216',\n",
              " 'SRR494102.217',\n",
              " 'SRR494102.218',\n",
              " 'SRR494102.219',\n",
              " 'SRR494102.220',\n",
              " 'SRR494102.221',\n",
              " 'SRR494102.222',\n",
              " 'SRR494102.223',\n",
              " 'SRR494102.224',\n",
              " 'SRR494102.225',\n",
              " 'SRR494102.226',\n",
              " 'SRR494102.227',\n",
              " 'SRR494102.228',\n",
              " 'SRR494102.229',\n",
              " 'SRR494102.230',\n",
              " 'SRR494102.231',\n",
              " 'SRR494102.232',\n",
              " 'SRR494102.233',\n",
              " 'SRR494102.234',\n",
              " 'SRR494102.235',\n",
              " 'SRR494102.236',\n",
              " 'SRR494102.237',\n",
              " 'SRR494102.238',\n",
              " 'SRR494102.239',\n",
              " 'SRR494102.240',\n",
              " 'SRR494102.241',\n",
              " 'SRR494102.242',\n",
              " 'SRR494102.243',\n",
              " 'SRR494102.244',\n",
              " 'SRR494102.245',\n",
              " 'SRR494102.246',\n",
              " 'SRR494102.247',\n",
              " 'SRR494102.248',\n",
              " 'SRR494102.249',\n",
              " 'SRR494102.250',\n",
              " 'SRR494102.251',\n",
              " 'SRR494102.252',\n",
              " 'SRR494102.253',\n",
              " 'SRR494102.254',\n",
              " 'SRR494102.255',\n",
              " 'SRR494102.256',\n",
              " 'SRR494102.257',\n",
              " 'SRR494102.258',\n",
              " 'SRR494102.259',\n",
              " 'SRR494102.260',\n",
              " 'SRR494102.261',\n",
              " 'SRR494102.262',\n",
              " 'SRR494102.263',\n",
              " 'SRR494102.264',\n",
              " 'SRR494102.265',\n",
              " 'SRR494102.266',\n",
              " 'SRR494102.267',\n",
              " 'SRR494102.268',\n",
              " 'SRR494102.269',\n",
              " 'SRR494102.270',\n",
              " 'SRR494102.271',\n",
              " 'SRR494102.272',\n",
              " 'SRR494102.273',\n",
              " 'SRR494102.274',\n",
              " 'SRR494102.275',\n",
              " 'SRR494102.276',\n",
              " 'SRR494102.277',\n",
              " 'SRR494102.278',\n",
              " 'SRR494102.279',\n",
              " 'SRR494102.280',\n",
              " 'SRR494102.281',\n",
              " 'SRR494102.282',\n",
              " 'SRR494102.283',\n",
              " 'SRR494102.284',\n",
              " 'SRR494102.285',\n",
              " 'SRR494102.286',\n",
              " 'SRR494102.287',\n",
              " 'SRR494102.288',\n",
              " 'SRR494102.289',\n",
              " 'SRR494102.290',\n",
              " 'SRR494102.291',\n",
              " 'SRR494102.292',\n",
              " 'SRR494102.293',\n",
              " 'SRR494102.294',\n",
              " 'SRR494102.295',\n",
              " 'SRR494102.296',\n",
              " 'SRR494102.297',\n",
              " 'SRR494102.298',\n",
              " 'SRR494102.299',\n",
              " 'SRR494102.300',\n",
              " 'SRR494102.301',\n",
              " 'SRR494102.302',\n",
              " 'SRR494102.303',\n",
              " 'SRR494102.304',\n",
              " 'SRR494102.305',\n",
              " 'SRR494102.306',\n",
              " 'SRR494102.307',\n",
              " 'SRR494102.308',\n",
              " 'SRR494102.309',\n",
              " 'SRR494102.310',\n",
              " 'SRR494102.311',\n",
              " 'SRR494102.312',\n",
              " 'SRR494102.313',\n",
              " 'SRR494102.314',\n",
              " 'SRR494102.315',\n",
              " 'SRR494102.316',\n",
              " 'SRR494102.317',\n",
              " 'SRR494102.318',\n",
              " 'SRR494102.319',\n",
              " 'SRR494102.320',\n",
              " 'SRR494102.321',\n",
              " 'SRR494102.322',\n",
              " 'SRR494102.323',\n",
              " 'SRR494102.324',\n",
              " 'SRR494102.325',\n",
              " 'SRR494102.326',\n",
              " 'SRR494102.327',\n",
              " 'SRR494102.328',\n",
              " 'SRR494102.329',\n",
              " 'SRR494102.330',\n",
              " 'SRR494102.331',\n",
              " 'SRR494102.332',\n",
              " 'SRR494102.333',\n",
              " 'SRR494102.334',\n",
              " 'SRR494102.335',\n",
              " 'SRR494102.336',\n",
              " 'SRR494102.337',\n",
              " 'SRR494102.338',\n",
              " 'SRR494102.339',\n",
              " 'SRR494102.340',\n",
              " 'SRR494102.341',\n",
              " 'SRR494102.342',\n",
              " 'SRR494102.343',\n",
              " 'SRR494102.344',\n",
              " 'SRR494102.345',\n",
              " 'SRR494102.346',\n",
              " 'SRR494102.347',\n",
              " 'SRR494102.348',\n",
              " 'SRR494102.349',\n",
              " 'SRR494102.350',\n",
              " 'SRR494102.351',\n",
              " 'SRR494102.352',\n",
              " 'SRR494102.353',\n",
              " 'SRR494102.354',\n",
              " 'SRR494102.355',\n",
              " 'SRR494102.356',\n",
              " 'SRR494102.357',\n",
              " 'SRR494102.358',\n",
              " 'SRR494102.359',\n",
              " 'SRR494102.360',\n",
              " 'SRR494102.361',\n",
              " 'SRR494102.362',\n",
              " 'SRR494102.363',\n",
              " 'SRR494102.364',\n",
              " 'SRR494102.365',\n",
              " 'SRR494102.366',\n",
              " 'SRR494102.367',\n",
              " 'SRR494102.368',\n",
              " 'SRR494102.369',\n",
              " 'SRR494102.370',\n",
              " 'SRR494102.371',\n",
              " 'SRR494102.372',\n",
              " 'SRR494102.373',\n",
              " 'SRR494102.374',\n",
              " 'SRR494102.375',\n",
              " 'SRR494102.376',\n",
              " 'SRR494102.377',\n",
              " 'SRR494102.378',\n",
              " 'SRR494102.379',\n",
              " 'SRR494102.380',\n",
              " 'SRR494102.381',\n",
              " 'SRR494102.382',\n",
              " 'SRR494102.383',\n",
              " 'SRR494102.384',\n",
              " 'SRR494102.385',\n",
              " 'SRR494102.386',\n",
              " 'SRR494102.387',\n",
              " 'SRR494102.388',\n",
              " 'SRR494102.389',\n",
              " 'SRR494102.390',\n",
              " 'SRR494102.391',\n",
              " 'SRR494102.392',\n",
              " 'SRR494102.393',\n",
              " 'SRR494102.394',\n",
              " 'SRR494102.395',\n",
              " 'SRR494102.396',\n",
              " 'SRR494102.397',\n",
              " 'SRR494102.398',\n",
              " 'SRR494102.399',\n",
              " 'SRR494102.400',\n",
              " 'SRR494102.401',\n",
              " 'SRR494102.402',\n",
              " 'SRR494102.403',\n",
              " 'SRR494102.404',\n",
              " 'SRR494102.405',\n",
              " 'SRR494102.406',\n",
              " 'SRR494102.407',\n",
              " 'SRR494102.408',\n",
              " 'SRR494102.409',\n",
              " 'SRR494102.410',\n",
              " 'SRR494102.411',\n",
              " 'SRR494102.412',\n",
              " 'SRR494102.413',\n",
              " 'SRR494102.414',\n",
              " 'SRR494102.415',\n",
              " 'SRR494102.416',\n",
              " 'SRR494102.417',\n",
              " 'SRR494102.418',\n",
              " 'SRR494102.419',\n",
              " 'SRR494102.420',\n",
              " 'SRR494102.421',\n",
              " 'SRR494102.422',\n",
              " 'SRR494102.423',\n",
              " 'SRR494102.424',\n",
              " 'SRR494102.425',\n",
              " 'SRR494102.426',\n",
              " 'SRR494102.427',\n",
              " 'SRR494102.428',\n",
              " 'SRR494102.429',\n",
              " 'SRR494102.430',\n",
              " 'SRR494102.431',\n",
              " 'SRR494102.432',\n",
              " 'SRR494102.433',\n",
              " 'SRR494102.434',\n",
              " 'SRR494102.435',\n",
              " 'SRR494102.436',\n",
              " 'SRR494102.437',\n",
              " 'SRR494102.438',\n",
              " 'SRR494102.439',\n",
              " 'SRR494102.440',\n",
              " 'SRR494102.441',\n",
              " 'SRR494102.442',\n",
              " 'SRR494102.443',\n",
              " 'SRR494102.444',\n",
              " 'SRR494102.445',\n",
              " 'SRR494102.446',\n",
              " 'SRR494102.447',\n",
              " 'SRR494102.448',\n",
              " 'SRR494102.449',\n",
              " 'SRR494102.450',\n",
              " 'SRR494102.451',\n",
              " 'SRR494102.452',\n",
              " 'SRR494102.453',\n",
              " 'SRR494102.454',\n",
              " 'SRR494102.455',\n",
              " 'SRR494102.456',\n",
              " 'SRR494102.457',\n",
              " 'SRR494102.458',\n",
              " 'SRR494102.459',\n",
              " 'SRR494102.460',\n",
              " 'SRR494102.461',\n",
              " 'SRR494102.462',\n",
              " 'SRR494102.463',\n",
              " 'SRR494102.464',\n",
              " 'SRR494102.465',\n",
              " 'SRR494102.466',\n",
              " 'SRR494102.467',\n",
              " 'SRR494102.468',\n",
              " 'SRR494102.469',\n",
              " 'SRR494102.470',\n",
              " 'SRR494102.471',\n",
              " 'SRR494102.472',\n",
              " 'SRR494102.473',\n",
              " 'SRR494102.474',\n",
              " 'SRR494102.475',\n",
              " 'SRR494102.476',\n",
              " 'SRR494102.477',\n",
              " 'SRR494102.478',\n",
              " 'SRR494102.479',\n",
              " 'SRR494102.480',\n",
              " 'SRR494102.481',\n",
              " 'SRR494102.482',\n",
              " 'SRR494102.483',\n",
              " 'SRR494102.484',\n",
              " 'SRR494102.485',\n",
              " 'SRR494102.486',\n",
              " 'SRR494102.487',\n",
              " 'SRR494102.488',\n",
              " 'SRR494102.489',\n",
              " 'SRR494102.490',\n",
              " 'SRR494102.491',\n",
              " 'SRR494102.492',\n",
              " 'SRR494102.493',\n",
              " 'SRR494102.494',\n",
              " 'SRR494102.495',\n",
              " 'SRR494102.496',\n",
              " 'SRR494102.497',\n",
              " 'SRR494102.498',\n",
              " 'SRR494102.499',\n",
              " 'SRR494102.500',\n",
              " 'SRR494102.501',\n",
              " 'SRR494102.502',\n",
              " 'SRR494102.503',\n",
              " 'SRR494102.504',\n",
              " 'SRR494102.505',\n",
              " 'SRR494102.506',\n",
              " 'SRR494102.507',\n",
              " 'SRR494102.508',\n",
              " 'SRR494102.509',\n",
              " 'SRR494102.510',\n",
              " 'SRR494102.511',\n",
              " 'SRR494102.512',\n",
              " 'SRR494102.513',\n",
              " 'SRR494102.514',\n",
              " 'SRR494102.515',\n",
              " 'SRR494102.516',\n",
              " 'SRR494102.517',\n",
              " 'SRR494102.518',\n",
              " 'SRR494102.519',\n",
              " 'SRR494102.520',\n",
              " 'SRR494102.521',\n",
              " 'SRR494102.522',\n",
              " 'SRR494102.523',\n",
              " 'SRR494102.524',\n",
              " 'SRR494102.525',\n",
              " 'SRR494102.526',\n",
              " 'SRR494102.527',\n",
              " 'SRR494102.528',\n",
              " 'SRR494102.529',\n",
              " 'SRR494102.530',\n",
              " 'SRR494102.531',\n",
              " 'SRR494102.532',\n",
              " 'SRR494102.533',\n",
              " 'SRR494102.534',\n",
              " 'SRR494102.535',\n",
              " 'SRR494102.536',\n",
              " 'SRR494102.537',\n",
              " 'SRR494102.538',\n",
              " 'SRR494102.539',\n",
              " 'SRR494102.540',\n",
              " 'SRR494102.541',\n",
              " 'SRR494102.542',\n",
              " 'SRR494102.543',\n",
              " 'SRR494102.544',\n",
              " 'SRR494102.545',\n",
              " 'SRR494102.546',\n",
              " 'SRR494102.547',\n",
              " 'SRR494102.548',\n",
              " 'SRR494102.549',\n",
              " 'SRR494102.550',\n",
              " 'SRR494102.551',\n",
              " 'SRR494102.552',\n",
              " 'SRR494102.553',\n",
              " 'SRR494102.554',\n",
              " 'SRR494102.555',\n",
              " 'SRR494102.556',\n",
              " 'SRR494102.557',\n",
              " 'SRR494102.558',\n",
              " 'SRR494102.559',\n",
              " 'SRR494102.560',\n",
              " 'SRR494102.561',\n",
              " 'SRR494102.562',\n",
              " 'SRR494102.563',\n",
              " 'SRR494102.564',\n",
              " 'SRR494102.565',\n",
              " 'SRR494102.566',\n",
              " 'SRR494102.567',\n",
              " 'SRR494102.568',\n",
              " 'SRR494102.569',\n",
              " 'SRR494102.570',\n",
              " 'SRR494102.571',\n",
              " 'SRR494102.572',\n",
              " 'SRR494102.573',\n",
              " 'SRR494102.574',\n",
              " 'SRR494102.575',\n",
              " 'SRR494102.576',\n",
              " 'SRR494102.577',\n",
              " 'SRR494102.578',\n",
              " 'SRR494102.579',\n",
              " 'SRR494102.580',\n",
              " 'SRR494102.581',\n",
              " 'SRR494102.582',\n",
              " 'SRR494102.583',\n",
              " 'SRR494102.584',\n",
              " 'SRR494102.585',\n",
              " 'SRR494102.586',\n",
              " 'SRR494102.587',\n",
              " 'SRR494102.588',\n",
              " 'SRR494102.589',\n",
              " 'SRR494102.590',\n",
              " 'SRR494102.591',\n",
              " 'SRR494102.592',\n",
              " 'SRR494102.593',\n",
              " 'SRR494102.594',\n",
              " 'SRR494102.595',\n",
              " 'SRR494102.596',\n",
              " 'SRR494102.597',\n",
              " 'SRR494102.598',\n",
              " 'SRR494102.599',\n",
              " 'SRR494102.600',\n",
              " 'SRR494102.601',\n",
              " 'SRR494102.602',\n",
              " 'SRR494102.603',\n",
              " 'SRR494102.604',\n",
              " 'SRR494102.605',\n",
              " 'SRR494102.606',\n",
              " 'SRR494102.607',\n",
              " 'SRR494102.608',\n",
              " 'SRR494102.609',\n",
              " 'SRR494102.610',\n",
              " 'SRR494102.611',\n",
              " 'SRR494102.612',\n",
              " 'SRR494102.613',\n",
              " 'SRR494102.614',\n",
              " 'SRR494102.615',\n",
              " 'SRR494102.616',\n",
              " 'SRR494102.617',\n",
              " 'SRR494102.618',\n",
              " 'SRR494102.619',\n",
              " 'SRR494102.620',\n",
              " 'SRR494102.621',\n",
              " 'SRR494102.622',\n",
              " 'SRR494102.623',\n",
              " 'SRR494102.624',\n",
              " 'SRR494102.625',\n",
              " 'SRR494102.626',\n",
              " 'SRR494102.627',\n",
              " 'SRR494102.628',\n",
              " 'SRR494102.629',\n",
              " 'SRR494102.630',\n",
              " 'SRR494102.631',\n",
              " 'SRR494102.632',\n",
              " 'SRR494102.633',\n",
              " 'SRR494102.634',\n",
              " 'SRR494102.635',\n",
              " 'SRR494102.636',\n",
              " 'SRR494102.637',\n",
              " 'SRR494102.638',\n",
              " 'SRR494102.639',\n",
              " 'SRR494102.640',\n",
              " 'SRR494102.641',\n",
              " 'SRR494102.642',\n",
              " 'SRR494102.643',\n",
              " 'SRR494102.644',\n",
              " 'SRR494102.645',\n",
              " 'SRR494102.646',\n",
              " 'SRR494102.647',\n",
              " 'SRR494102.648',\n",
              " 'SRR494102.649',\n",
              " 'SRR494102.650',\n",
              " 'SRR494102.651',\n",
              " 'SRR494102.652',\n",
              " 'SRR494102.653',\n",
              " 'SRR494102.654',\n",
              " 'SRR494102.655',\n",
              " 'SRR494102.656',\n",
              " 'SRR494102.657',\n",
              " 'SRR494102.658',\n",
              " 'SRR494102.659',\n",
              " 'SRR494102.660',\n",
              " 'SRR494102.661',\n",
              " 'SRR494102.662',\n",
              " 'SRR494102.663',\n",
              " 'SRR494102.664',\n",
              " 'SRR494102.665',\n",
              " 'SRR494102.666',\n",
              " 'SRR494102.667',\n",
              " 'SRR494102.668',\n",
              " 'SRR494102.669',\n",
              " 'SRR494102.670',\n",
              " 'SRR494102.671',\n",
              " 'SRR494102.672',\n",
              " 'SRR494102.673',\n",
              " 'SRR494102.674',\n",
              " 'SRR494102.675',\n",
              " 'SRR494102.676',\n",
              " 'SRR494102.677',\n",
              " 'SRR494102.678',\n",
              " 'SRR494102.679',\n",
              " 'SRR494102.680',\n",
              " 'SRR494102.681',\n",
              " 'SRR494102.682',\n",
              " 'SRR494102.683',\n",
              " 'SRR494102.684',\n",
              " 'SRR494102.685',\n",
              " 'SRR494102.686',\n",
              " 'SRR494102.687',\n",
              " 'SRR494102.688',\n",
              " 'SRR494102.689',\n",
              " 'SRR494102.690',\n",
              " 'SRR494102.691',\n",
              " 'SRR494102.692',\n",
              " 'SRR494102.693',\n",
              " 'SRR494102.694',\n",
              " 'SRR494102.695',\n",
              " 'SRR494102.696',\n",
              " 'SRR494102.697',\n",
              " 'SRR494102.698',\n",
              " 'SRR494102.699',\n",
              " 'SRR494102.700',\n",
              " 'SRR494102.701',\n",
              " 'SRR494102.702',\n",
              " 'SRR494102.703',\n",
              " 'SRR494102.704',\n",
              " 'SRR494102.705',\n",
              " 'SRR494102.706',\n",
              " 'SRR494102.707',\n",
              " 'SRR494102.708',\n",
              " 'SRR494102.709',\n",
              " 'SRR494102.710',\n",
              " 'SRR494102.711',\n",
              " 'SRR494102.712',\n",
              " 'SRR494102.713',\n",
              " 'SRR494102.714',\n",
              " 'SRR494102.715',\n",
              " 'SRR494102.716',\n",
              " 'SRR494102.717',\n",
              " 'SRR494102.718',\n",
              " 'SRR494102.719',\n",
              " 'SRR494102.720',\n",
              " 'SRR494102.721',\n",
              " 'SRR494102.722',\n",
              " 'SRR494102.723',\n",
              " 'SRR494102.724',\n",
              " 'SRR494102.725',\n",
              " 'SRR494102.726',\n",
              " 'SRR494102.727',\n",
              " 'SRR494102.728',\n",
              " 'SRR494102.729',\n",
              " 'SRR494102.730',\n",
              " 'SRR494102.731',\n",
              " 'SRR494102.732',\n",
              " 'SRR494102.733',\n",
              " 'SRR494102.734',\n",
              " 'SRR494102.735',\n",
              " 'SRR494102.736',\n",
              " 'SRR494102.737',\n",
              " 'SRR494102.738',\n",
              " 'SRR494102.739',\n",
              " 'SRR494102.740',\n",
              " 'SRR494102.741',\n",
              " 'SRR494102.742',\n",
              " 'SRR494102.743',\n",
              " 'SRR494102.744',\n",
              " 'SRR494102.745',\n",
              " 'SRR494102.746',\n",
              " 'SRR494102.747',\n",
              " 'SRR494102.748',\n",
              " 'SRR494102.749',\n",
              " 'SRR494102.750',\n",
              " 'SRR494102.751',\n",
              " 'SRR494102.752',\n",
              " 'SRR494102.753',\n",
              " 'SRR494102.754',\n",
              " 'SRR494102.755',\n",
              " 'SRR494102.756',\n",
              " 'SRR494102.757',\n",
              " 'SRR494102.758',\n",
              " 'SRR494102.759',\n",
              " 'SRR494102.760',\n",
              " 'SRR494102.761',\n",
              " 'SRR494102.762',\n",
              " 'SRR494102.763',\n",
              " 'SRR494102.764',\n",
              " 'SRR494102.765',\n",
              " 'SRR494102.766',\n",
              " 'SRR494102.767',\n",
              " 'SRR494102.768',\n",
              " 'SRR494102.769',\n",
              " 'SRR494102.770',\n",
              " 'SRR494102.771',\n",
              " 'SRR494102.772',\n",
              " 'SRR494102.773',\n",
              " 'SRR494102.774',\n",
              " 'SRR494102.775',\n",
              " 'SRR494102.776',\n",
              " 'SRR494102.777',\n",
              " 'SRR494102.778',\n",
              " 'SRR494102.779',\n",
              " 'SRR494102.780',\n",
              " 'SRR494102.781',\n",
              " 'SRR494102.782',\n",
              " 'SRR494102.783',\n",
              " 'SRR494102.784',\n",
              " 'SRR494102.785',\n",
              " 'SRR494102.786',\n",
              " 'SRR494102.787',\n",
              " 'SRR494102.788',\n",
              " 'SRR494102.789',\n",
              " 'SRR494102.790',\n",
              " 'SRR494102.791',\n",
              " 'SRR494102.792',\n",
              " 'SRR494102.793',\n",
              " 'SRR494102.794',\n",
              " 'SRR494102.795',\n",
              " 'SRR494102.796',\n",
              " 'SRR494102.797',\n",
              " 'SRR494102.798',\n",
              " 'SRR494102.799',\n",
              " 'SRR494102.800',\n",
              " 'SRR494102.801',\n",
              " 'SRR494102.802',\n",
              " 'SRR494102.803',\n",
              " 'SRR494102.804',\n",
              " 'SRR494102.805',\n",
              " 'SRR494102.806',\n",
              " 'SRR494102.807',\n",
              " 'SRR494102.808',\n",
              " 'SRR494102.809',\n",
              " 'SRR494102.810',\n",
              " 'SRR494102.811',\n",
              " 'SRR494102.812',\n",
              " 'SRR494102.813',\n",
              " 'SRR494102.814',\n",
              " 'SRR494102.815',\n",
              " 'SRR494102.816',\n",
              " 'SRR494102.817',\n",
              " 'SRR494102.818',\n",
              " 'SRR494102.819',\n",
              " 'SRR494102.820',\n",
              " 'SRR494102.821',\n",
              " 'SRR494102.822',\n",
              " 'SRR494102.823',\n",
              " 'SRR494102.824',\n",
              " 'SRR494102.825',\n",
              " 'SRR494102.826',\n",
              " 'SRR494102.827',\n",
              " 'SRR494102.828',\n",
              " 'SRR494102.829',\n",
              " 'SRR494102.830',\n",
              " 'SRR494102.831',\n",
              " 'SRR494102.832',\n",
              " 'SRR494102.833',\n",
              " 'SRR494102.834',\n",
              " 'SRR494102.835',\n",
              " 'SRR494102.836',\n",
              " 'SRR494102.837',\n",
              " 'SRR494102.838',\n",
              " 'SRR494102.839',\n",
              " 'SRR494102.840',\n",
              " 'SRR494102.841',\n",
              " 'SRR494102.842',\n",
              " 'SRR494102.843',\n",
              " 'SRR494102.844',\n",
              " 'SRR494102.845',\n",
              " 'SRR494102.846',\n",
              " 'SRR494102.847',\n",
              " 'SRR494102.848',\n",
              " 'SRR494102.849',\n",
              " 'SRR494102.850',\n",
              " 'SRR494102.851',\n",
              " 'SRR494102.852',\n",
              " 'SRR494102.853',\n",
              " 'SRR494102.854',\n",
              " 'SRR494102.855',\n",
              " 'SRR494102.856',\n",
              " 'SRR494102.857',\n",
              " 'SRR494102.858',\n",
              " 'SRR494102.859',\n",
              " 'SRR494102.860',\n",
              " 'SRR494102.861',\n",
              " 'SRR494102.862',\n",
              " 'SRR494102.863',\n",
              " 'SRR494102.864',\n",
              " 'SRR494102.865',\n",
              " 'SRR494102.866',\n",
              " 'SRR494102.867',\n",
              " 'SRR494102.868',\n",
              " 'SRR494102.869',\n",
              " 'SRR494102.870',\n",
              " 'SRR494102.871',\n",
              " 'SRR494102.872',\n",
              " 'SRR494102.873',\n",
              " 'SRR494102.874',\n",
              " 'SRR494102.875',\n",
              " 'SRR494102.876',\n",
              " 'SRR494102.877',\n",
              " 'SRR494102.878',\n",
              " 'SRR494102.879',\n",
              " 'SRR494102.880',\n",
              " 'SRR494102.881',\n",
              " 'SRR494102.882',\n",
              " 'SRR494102.883',\n",
              " 'SRR494102.884',\n",
              " 'SRR494102.885',\n",
              " 'SRR494102.886',\n",
              " 'SRR494102.887',\n",
              " 'SRR494102.888',\n",
              " 'SRR494102.889',\n",
              " 'SRR494102.890',\n",
              " 'SRR494102.891',\n",
              " 'SRR494102.892',\n",
              " 'SRR494102.893',\n",
              " 'SRR494102.894',\n",
              " 'SRR494102.895',\n",
              " 'SRR494102.896',\n",
              " 'SRR494102.897',\n",
              " 'SRR494102.898',\n",
              " 'SRR494102.899',\n",
              " 'SRR494102.900',\n",
              " 'SRR494102.901',\n",
              " 'SRR494102.902',\n",
              " 'SRR494102.903',\n",
              " 'SRR494102.904',\n",
              " 'SRR494102.905',\n",
              " 'SRR494102.906',\n",
              " 'SRR494102.907',\n",
              " 'SRR494102.908',\n",
              " 'SRR494102.909',\n",
              " 'SRR494102.910',\n",
              " 'SRR494102.911',\n",
              " 'SRR494102.912',\n",
              " 'SRR494102.913',\n",
              " 'SRR494102.914',\n",
              " 'SRR494102.915',\n",
              " 'SRR494102.916',\n",
              " 'SRR494102.917',\n",
              " 'SRR494102.918',\n",
              " 'SRR494102.919',\n",
              " 'SRR494102.920',\n",
              " 'SRR494102.921',\n",
              " 'SRR494102.922',\n",
              " 'SRR494102.923',\n",
              " 'SRR494102.924',\n",
              " 'SRR494102.925',\n",
              " 'SRR494102.926',\n",
              " 'SRR494102.927',\n",
              " 'SRR494102.928',\n",
              " 'SRR494102.929',\n",
              " 'SRR494102.930',\n",
              " 'SRR494102.931',\n",
              " 'SRR494102.932',\n",
              " 'SRR494102.933',\n",
              " 'SRR494102.934',\n",
              " 'SRR494102.935',\n",
              " 'SRR494102.936',\n",
              " 'SRR494102.937',\n",
              " 'SRR494102.938',\n",
              " 'SRR494102.939',\n",
              " 'SRR494102.940',\n",
              " 'SRR494102.941',\n",
              " 'SRR494102.942',\n",
              " 'SRR494102.943',\n",
              " 'SRR494102.944',\n",
              " 'SRR494102.945',\n",
              " 'SRR494102.946',\n",
              " 'SRR494102.947',\n",
              " 'SRR494102.948',\n",
              " 'SRR494102.949',\n",
              " 'SRR494102.950',\n",
              " 'SRR494102.951',\n",
              " 'SRR494102.952',\n",
              " 'SRR494102.953',\n",
              " 'SRR494102.954',\n",
              " 'SRR494102.955',\n",
              " 'SRR494102.956',\n",
              " 'SRR494102.957',\n",
              " 'SRR494102.958',\n",
              " 'SRR494102.959',\n",
              " 'SRR494102.960',\n",
              " 'SRR494102.961',\n",
              " 'SRR494102.962',\n",
              " 'SRR494102.963',\n",
              " 'SRR494102.964',\n",
              " 'SRR494102.965',\n",
              " 'SRR494102.966',\n",
              " 'SRR494102.967',\n",
              " 'SRR494102.968',\n",
              " 'SRR494102.969',\n",
              " 'SRR494102.970',\n",
              " 'SRR494102.971',\n",
              " 'SRR494102.972',\n",
              " 'SRR494102.973',\n",
              " 'SRR494102.974',\n",
              " 'SRR494102.975',\n",
              " 'SRR494102.976',\n",
              " 'SRR494102.977',\n",
              " 'SRR494102.978',\n",
              " 'SRR494102.979',\n",
              " 'SRR494102.980',\n",
              " 'SRR494102.981',\n",
              " 'SRR494102.982',\n",
              " 'SRR494102.983',\n",
              " 'SRR494102.984',\n",
              " 'SRR494102.985',\n",
              " 'SRR494102.986',\n",
              " 'SRR494102.987',\n",
              " 'SRR494102.988',\n",
              " 'SRR494102.989',\n",
              " 'SRR494102.990',\n",
              " 'SRR494102.991',\n",
              " 'SRR494102.992',\n",
              " 'SRR494102.993',\n",
              " 'SRR494102.994',\n",
              " 'SRR494102.995',\n",
              " 'SRR494102.996',\n",
              " 'SRR494102.997',\n",
              " 'SRR494102.998',\n",
              " 'SRR494102.999',\n",
              " 'SRR494102.1000',\n",
              " ...]"
            ]
          },
          "metadata": {},
          "execution_count": 40
        }
      ]
    },
    {
      "cell_type": "code",
      "source": [
        "fq_dict['SRR494102.1'].seq"
      ],
      "metadata": {
        "colab": {
          "base_uri": "https://localhost:8080/"
        },
        "id": "FCiLf40h79bP",
        "outputId": "f96ed6eb-c03b-486d-d3c5-db546ac8d2a8"
      },
      "execution_count": null,
      "outputs": [
        {
          "output_type": "execute_result",
          "data": {
            "text/plain": [
              "Seq('ANCCTGCAAGAGCAATTCTCAGGAAACGTGTGCCGC')"
            ]
          },
          "metadata": {},
          "execution_count": 42
        }
      ]
    },
    {
      "cell_type": "code",
      "source": [
        "from Bio import SeqIO\n",
        "records = list(SeqIO.parse(\"/content/drive/MyDrive/Biopython/ls_orchid.fasta\", \"fasta\"))\n",
        "for record in records:\n",
        "    print(len(record.seq))"
      ],
      "metadata": {
        "colab": {
          "base_uri": "https://localhost:8080/"
        },
        "id": "U89zs63K8F8a",
        "outputId": "81520ef5-6537-4016-d81e-13ff9b4b0589"
      },
      "execution_count": null,
      "outputs": [
        {
          "output_type": "stream",
          "name": "stdout",
          "text": [
            "740\n",
            "753\n",
            "748\n",
            "744\n",
            "733\n",
            "718\n",
            "730\n",
            "704\n",
            "740\n",
            "709\n",
            "700\n",
            "726\n",
            "753\n",
            "699\n",
            "658\n",
            "752\n",
            "726\n",
            "765\n",
            "755\n",
            "742\n",
            "762\n",
            "745\n",
            "750\n",
            "731\n",
            "741\n",
            "740\n",
            "727\n",
            "711\n",
            "743\n",
            "727\n",
            "757\n",
            "770\n",
            "767\n",
            "759\n",
            "750\n",
            "788\n",
            "774\n",
            "789\n",
            "688\n",
            "719\n",
            "743\n",
            "737\n",
            "728\n",
            "740\n",
            "696\n",
            "732\n",
            "731\n",
            "735\n",
            "720\n",
            "740\n",
            "629\n",
            "572\n",
            "587\n",
            "700\n",
            "636\n",
            "716\n",
            "592\n",
            "716\n",
            "733\n",
            "626\n",
            "737\n",
            "740\n",
            "574\n",
            "594\n",
            "610\n",
            "730\n",
            "641\n",
            "702\n",
            "733\n",
            "738\n",
            "736\n",
            "732\n",
            "745\n",
            "744\n",
            "738\n",
            "739\n",
            "740\n",
            "745\n",
            "695\n",
            "745\n",
            "743\n",
            "730\n",
            "706\n",
            "744\n",
            "742\n",
            "694\n",
            "712\n",
            "715\n",
            "688\n",
            "784\n",
            "721\n",
            "703\n",
            "744\n",
            "592\n"
          ]
        }
      ]
    },
    {
      "cell_type": "code",
      "source": [
        "records.sort(key=lambda x: len(x))\n",
        "SeqIO.write(records, \"sorted.fasta\", \"fasta\")"
      ],
      "metadata": {
        "colab": {
          "base_uri": "https://localhost:8080/"
        },
        "id": "1dLJlS0W8j9A",
        "outputId": "688b876f-4289-4be9-da14-c515e763da74"
      },
      "execution_count": null,
      "outputs": [
        {
          "output_type": "execute_result",
          "data": {
            "text/plain": [
              "94"
            ]
          },
          "metadata": {},
          "execution_count": 45
        }
      ]
    },
    {
      "cell_type": "code",
      "source": [
        "for record in records:\n",
        "    print(len(record.seq))"
      ],
      "metadata": {
        "colab": {
          "base_uri": "https://localhost:8080/"
        },
        "id": "n1EztSCH8xfk",
        "outputId": "6c3051e6-2458-416b-f63b-ac21fa763594"
      },
      "execution_count": null,
      "outputs": [
        {
          "output_type": "stream",
          "name": "stdout",
          "text": [
            "572\n",
            "574\n",
            "587\n",
            "592\n",
            "592\n",
            "594\n",
            "610\n",
            "626\n",
            "629\n",
            "636\n",
            "641\n",
            "658\n",
            "688\n",
            "688\n",
            "694\n",
            "695\n",
            "696\n",
            "699\n",
            "700\n",
            "700\n",
            "702\n",
            "703\n",
            "704\n",
            "706\n",
            "709\n",
            "711\n",
            "712\n",
            "715\n",
            "716\n",
            "716\n",
            "718\n",
            "719\n",
            "720\n",
            "721\n",
            "726\n",
            "726\n",
            "727\n",
            "727\n",
            "728\n",
            "730\n",
            "730\n",
            "730\n",
            "731\n",
            "731\n",
            "732\n",
            "732\n",
            "733\n",
            "733\n",
            "733\n",
            "735\n",
            "736\n",
            "737\n",
            "737\n",
            "738\n",
            "738\n",
            "739\n",
            "740\n",
            "740\n",
            "740\n",
            "740\n",
            "740\n",
            "740\n",
            "740\n",
            "741\n",
            "742\n",
            "742\n",
            "743\n",
            "743\n",
            "743\n",
            "744\n",
            "744\n",
            "744\n",
            "744\n",
            "745\n",
            "745\n",
            "745\n",
            "745\n",
            "748\n",
            "750\n",
            "750\n",
            "752\n",
            "753\n",
            "753\n",
            "755\n",
            "757\n",
            "759\n",
            "762\n",
            "765\n",
            "767\n",
            "770\n",
            "774\n",
            "784\n",
            "788\n",
            "789\n"
          ]
        }
      ]
    },
    {
      "cell_type": "code",
      "source": [
        "len_and_ids = sorted([(len(record.seq), record.id) for record in records])\n",
        "len_and_ids"
      ],
      "metadata": {
        "colab": {
          "base_uri": "https://localhost:8080/"
        },
        "id": "dLDfho-w89RS",
        "outputId": "f4b48ca2-e997-4f7b-9285-af02ef0a77de"
      },
      "execution_count": null,
      "outputs": [
        {
          "output_type": "execute_result",
          "data": {
            "text/plain": [
              "[(572, 'gi|2765606|emb|Z78481.1|PIZ78481'),\n",
              " (574, 'gi|2765595|emb|Z78470.1|PPZ78470'),\n",
              " (587, 'gi|2765605|emb|Z78480.1|PGZ78480'),\n",
              " (592, 'gi|2765564|emb|Z78439.1|PBZ78439'),\n",
              " (592, 'gi|2765601|emb|Z78476.1|PGZ78476'),\n",
              " (594, 'gi|2765594|emb|Z78469.1|PHZ78469'),\n",
              " (610, 'gi|2765593|emb|Z78468.1|PAZ78468'),\n",
              " (626, 'gi|2765598|emb|Z78473.1|PSZ78473'),\n",
              " (629, 'gi|2765607|emb|Z78482.1|PEZ78482'),\n",
              " (636, 'gi|2765603|emb|Z78478.1|PVZ78478'),\n",
              " (641, 'gi|2765591|emb|Z78466.1|PPZ78466'),\n",
              " (658, 'gi|2765643|emb|Z78518.1|CRZ78518'),\n",
              " (688, 'gi|2765569|emb|Z78444.1|PAZ78444'),\n",
              " (688, 'gi|2765619|emb|Z78494.1|PNZ78494'),\n",
              " (694, 'gi|2765572|emb|Z78447.1|PVZ78447'),\n",
              " (695, 'gi|2765579|emb|Z78454.1|PFZ78454'),\n",
              " (696, 'gi|2765613|emb|Z78488.1|PTZ78488'),\n",
              " (699, 'gi|2765644|emb|Z78519.1|CPZ78519'),\n",
              " (700, 'gi|2765604|emb|Z78479.1|PPZ78479'),\n",
              " (700, 'gi|2765647|emb|Z78522.1|CMZ78522'),\n",
              " (702, 'gi|2765590|emb|Z78465.1|PRZ78465'),\n",
              " (703, 'gi|2765566|emb|Z78441.1|PSZ78441'),\n",
              " (704, 'gi|2765650|emb|Z78525.1|CAZ78525'),\n",
              " (706, 'gi|2765575|emb|Z78450.1|PPZ78450'),\n",
              " (709, 'gi|2765648|emb|Z78523.1|CHZ78523'),\n",
              " (711, 'gi|2765630|emb|Z78505.1|PSZ78505'),\n",
              " (712, 'gi|2765571|emb|Z78446.1|PAZ78446'),\n",
              " (715, 'gi|2765570|emb|Z78445.1|PUZ78445'),\n",
              " (716, 'gi|2765600|emb|Z78475.1|PSZ78475'),\n",
              " (716, 'gi|2765602|emb|Z78477.1|PVZ78477'),\n",
              " (718, 'gi|2765652|emb|Z78527.1|CYZ78527'),\n",
              " (719, 'gi|2765618|emb|Z78493.1|PGZ78493'),\n",
              " (720, 'gi|2765609|emb|Z78484.1|PCZ78484'),\n",
              " (721, 'gi|2765567|emb|Z78442.1|PBZ78442'),\n",
              " (726, 'gi|2765641|emb|Z78516.1|CPZ78516'),\n",
              " (726, 'gi|2765646|emb|Z78521.1|CCZ78521'),\n",
              " (727, 'gi|2765628|emb|Z78503.1|PCZ78503'),\n",
              " (727, 'gi|2765631|emb|Z78506.1|PLZ78506'),\n",
              " (728, 'gi|2765615|emb|Z78490.1|PFZ78490'),\n",
              " (730, 'gi|2765576|emb|Z78451.1|PHZ78451'),\n",
              " (730, 'gi|2765592|emb|Z78467.1|PSZ78467'),\n",
              " (730, 'gi|2765651|emb|Z78526.1|CGZ78526'),\n",
              " (731, 'gi|2765611|emb|Z78486.1|PBZ78486'),\n",
              " (731, 'gi|2765634|emb|Z78509.1|PPZ78509'),\n",
              " (732, 'gi|2765586|emb|Z78461.1|PWZ78461'),\n",
              " (732, 'gi|2765612|emb|Z78487.1|PHZ78487'),\n",
              " (733, 'gi|2765589|emb|Z78464.1|PGZ78464'),\n",
              " (733, 'gi|2765599|emb|Z78474.1|PKZ78474'),\n",
              " (733, 'gi|2765654|emb|Z78529.1|CLZ78529'),\n",
              " (735, 'gi|2765610|emb|Z78485.1|PHZ78485'),\n",
              " (736, 'gi|2765587|emb|Z78462.1|PSZ78462'),\n",
              " (737, 'gi|2765597|emb|Z78472.1|PLZ78472'),\n",
              " (737, 'gi|2765616|emb|Z78491.1|PCZ78491'),\n",
              " (738, 'gi|2765583|emb|Z78458.1|PHZ78458'),\n",
              " (738, 'gi|2765588|emb|Z78463.1|PGZ78463'),\n",
              " (739, 'gi|2765582|emb|Z78457.1|PCZ78457'),\n",
              " (740, 'gi|2765581|emb|Z78456.1|PTZ78456'),\n",
              " (740, 'gi|2765596|emb|Z78471.1|PDZ78471'),\n",
              " (740, 'gi|2765608|emb|Z78483.1|PVZ78483'),\n",
              " (740, 'gi|2765614|emb|Z78489.1|PDZ78489'),\n",
              " (740, 'gi|2765632|emb|Z78507.1|PLZ78507'),\n",
              " (740, 'gi|2765649|emb|Z78524.1|CFZ78524'),\n",
              " (740, 'gi|2765658|emb|Z78533.1|CIZ78533'),\n",
              " (741, 'gi|2765633|emb|Z78508.1|PLZ78508'),\n",
              " (742, 'gi|2765573|emb|Z78448.1|PAZ78448'),\n",
              " (742, 'gi|2765638|emb|Z78513.1|PBZ78513'),\n",
              " (743, 'gi|2765577|emb|Z78452.1|PBZ78452'),\n",
              " (743, 'gi|2765617|emb|Z78492.1|PBZ78492'),\n",
              " (743, 'gi|2765629|emb|Z78504.1|PKZ78504'),\n",
              " (744, 'gi|2765565|emb|Z78440.1|PPZ78440'),\n",
              " (744, 'gi|2765574|emb|Z78449.1|PMZ78449'),\n",
              " (744, 'gi|2765584|emb|Z78459.1|PDZ78459'),\n",
              " (744, 'gi|2765655|emb|Z78530.1|CMZ78530'),\n",
              " (745, 'gi|2765578|emb|Z78453.1|PSZ78453'),\n",
              " (745, 'gi|2765580|emb|Z78455.1|PJZ78455'),\n",
              " (745, 'gi|2765585|emb|Z78460.1|PCZ78460'),\n",
              " (745, 'gi|2765636|emb|Z78511.1|PEZ78511'),\n",
              " (748, 'gi|2765656|emb|Z78531.1|CFZ78531'),\n",
              " (750, 'gi|2765623|emb|Z78498.1|PMZ78498'),\n",
              " (750, 'gi|2765635|emb|Z78510.1|PCZ78510'),\n",
              " (752, 'gi|2765642|emb|Z78517.1|CFZ78517'),\n",
              " (753, 'gi|2765645|emb|Z78520.1|CSZ78520'),\n",
              " (753, 'gi|2765657|emb|Z78532.1|CCZ78532'),\n",
              " (755, 'gi|2765639|emb|Z78514.1|PSZ78514'),\n",
              " (757, 'gi|2765627|emb|Z78502.1|PBZ78502'),\n",
              " (759, 'gi|2765624|emb|Z78499.1|PMZ78499'),\n",
              " (762, 'gi|2765637|emb|Z78512.1|PWZ78512'),\n",
              " (765, 'gi|2765640|emb|Z78515.1|MXZ78515'),\n",
              " (767, 'gi|2765625|emb|Z78500.1|PWZ78500'),\n",
              " (770, 'gi|2765626|emb|Z78501.1|PCZ78501'),\n",
              " (774, 'gi|2765621|emb|Z78496.1|PAZ78496'),\n",
              " (784, 'gi|2765568|emb|Z78443.1|PLZ78443'),\n",
              " (788, 'gi|2765622|emb|Z78497.1|PDZ78497'),\n",
              " (789, 'gi|2765620|emb|Z78495.1|PEZ78495')]"
            ]
          },
          "metadata": {},
          "execution_count": 47
        }
      ]
    },
    {
      "cell_type": "code",
      "source": [
        "ids = reversed([id for len, id in len_and_ids])\n",
        "ids"
      ],
      "metadata": {
        "colab": {
          "base_uri": "https://localhost:8080/"
        },
        "id": "CpZYJ1Ri9HLB",
        "outputId": "064d5067-c04a-4c63-c428-5ba158c483c7"
      },
      "execution_count": null,
      "outputs": [
        {
          "output_type": "execute_result",
          "data": {
            "text/plain": [
              "<list_reverseiterator at 0x7ca242633940>"
            ]
          },
          "metadata": {},
          "execution_count": 48
        }
      ]
    },
    {
      "cell_type": "code",
      "source": [
        "record_index = SeqIO.index(\"sorted.fasta\", \"fasta\")"
      ],
      "metadata": {
        "id": "mtgAhnCU9MSq"
      },
      "execution_count": null,
      "outputs": []
    },
    {
      "cell_type": "code",
      "source": [
        "records = (record_index[id] for id in ids)\n",
        "SeqIO.write(records, \"reversed.fasta\", \"fasta\")"
      ],
      "metadata": {
        "colab": {
          "base_uri": "https://localhost:8080/"
        },
        "id": "b3OPL-De9V9Y",
        "outputId": "514962d1-0f88-4632-cc67-c3be73a4018c"
      },
      "execution_count": null,
      "outputs": [
        {
          "output_type": "execute_result",
          "data": {
            "text/plain": [
              "94"
            ]
          },
          "metadata": {},
          "execution_count": 50
        }
      ]
    },
    {
      "cell_type": "code",
      "source": [
        "from Bio import SeqIO\n",
        "\n",
        "count = 0\n",
        "for record in SeqIO.parse(\"SRR494102.fastq\", \"fastq\"):\n",
        "    count += 1\n",
        "print(count)"
      ],
      "metadata": {
        "colab": {
          "base_uri": "https://localhost:8080/"
        },
        "id": "RNoZKIb89dP6",
        "outputId": "5d8e7e12-005b-44a0-aa5c-8ed7b09b8be5"
      },
      "execution_count": null,
      "outputs": [
        {
          "output_type": "stream",
          "name": "stdout",
          "text": [
            "27626583\n"
          ]
        }
      ]
    },
    {
      "cell_type": "code",
      "source": [
        "rec =  SeqIO.parse(\"SRR494102.fastq\", \"fastq\")\n",
        "rec = next(rec)\n",
        "rec.letter_annotations['phred_quality']"
      ],
      "metadata": {
        "colab": {
          "base_uri": "https://localhost:8080/"
        },
        "id": "jf0WGuBz_q3d",
        "outputId": "8836dc87-39ba-4d0c-fbda-e2346a8c2873"
      },
      "execution_count": null,
      "outputs": [
        {
          "output_type": "execute_result",
          "data": {
            "text/plain": [
              "[30,\n",
              " 30,\n",
              " 30,\n",
              " 30,\n",
              " 30,\n",
              " 30,\n",
              " 30,\n",
              " 30,\n",
              " 30,\n",
              " 30,\n",
              " 30,\n",
              " 30,\n",
              " 30,\n",
              " 30,\n",
              " 30,\n",
              " 30,\n",
              " 30,\n",
              " 30,\n",
              " 30,\n",
              " 30,\n",
              " 30,\n",
              " 30,\n",
              " 30,\n",
              " 30,\n",
              " 30,\n",
              " 30,\n",
              " 30,\n",
              " 30,\n",
              " 30,\n",
              " 30,\n",
              " 30,\n",
              " 30,\n",
              " 30,\n",
              " 30,\n",
              " 30,\n",
              " 30]"
            ]
          },
          "metadata": {},
          "execution_count": 52
        }
      ]
    },
    {
      "cell_type": "code",
      "source": [
        "good_reads = (rec for rec in SeqIO.parse(\"SRR494102.fastq\", \"fastq\")\n",
        "if min(rec.letter_annotations['phred_quality']) >= 30)\n",
        "\n",
        "count = SeqIO.write(good_reads, \"good_reads.fastq\", \"fastq\")\n",
        "print(count)"
      ],
      "metadata": {
        "colab": {
          "base_uri": "https://localhost:8080/"
        },
        "id": "Hl-uwDuQ_3Ds",
        "outputId": "358042bb-fa53-453e-cbf8-b64b8ca0668e"
      },
      "execution_count": null,
      "outputs": [
        {
          "output_type": "stream",
          "name": "stdout",
          "text": [
            "27626583\n"
          ]
        }
      ]
    }
  ]
}